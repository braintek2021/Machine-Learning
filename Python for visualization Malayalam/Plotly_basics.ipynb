{
 "cells": [
  {
   "cell_type": "code",
   "execution_count": 1,
   "metadata": {},
   "outputs": [],
   "source": [
    "import numpy as np\n",
    "import pandas as pd\n",
    "import matplotlib.pyplot as plt\n",
    "%matplotlib inline"
   ]
  },
  {
   "cell_type": "markdown",
   "metadata": {},
   "source": [
    "# Plotly"
   ]
  },
  {
   "cell_type": "markdown",
   "metadata": {},
   "source": [
    "Plotly's Python graphing library makes interactive, publication-quality graphs online"
   ]
  },
  {
   "cell_type": "code",
   "execution_count": 2,
   "metadata": {},
   "outputs": [],
   "source": [
    "#https://plotly.com/python/plotly-fundamentals/"
   ]
  },
  {
   "cell_type": "markdown",
   "metadata": {},
   "source": [
    "# Installation"
   ]
  },
  {
   "cell_type": "markdown",
   "metadata": {},
   "source": [
    "\n",
    "plotly may be installed using pip:\n",
    "\n",
    "$ pip install plotly==4.14.3\n",
    "or conda:\n",
    "\n",
    "$ conda install -c plotly plotly=4.14.3"
   ]
  },
  {
   "cell_type": "markdown",
   "metadata": {},
   "source": [
    "# Comparison"
   ]
  },
  {
   "cell_type": "markdown",
   "metadata": {},
   "source": [
    "One of the main advantages is that only a few lines of codes are necessary to create aesthetically pleasing, interactive plots. The interactivity also offers a number of advantages over static matplotlib plots:\n",
    "\n",
    "Saves time when initially exploring your dataset\n",
    "Makes it easy to modify and export your plot\n",
    "Offers a more ornate visualization, which is well-suited for conveying the important insights hidden within your dataset."
   ]
  },
  {
   "cell_type": "code",
   "execution_count": 3,
   "metadata": {},
   "outputs": [],
   "source": [
    "from plotly.offline import iplot\n",
    "import plotly as py"
   ]
  },
  {
   "cell_type": "markdown",
   "metadata": {},
   "source": [
    "plotly.py version 4 is \"offline\" only, and does not include any functionality for uploading figures or data to cloud services."
   ]
  },
  {
   "cell_type": "code",
   "execution_count": 4,
   "metadata": {},
   "outputs": [],
   "source": [
    "import cufflinks as cf"
   ]
  },
  {
   "cell_type": "markdown",
   "metadata": {},
   "source": [
    "Cufflinks is another library that connects the Pandas data frame with Plotly enabling users to create visualizations directly from Pandas"
   ]
  },
  {
   "cell_type": "code",
   "execution_count": 5,
   "metadata": {},
   "outputs": [
    {
     "data": {
      "text/html": [
       "        <script type=\"text/javascript\">\n",
       "        window.PlotlyConfig = {MathJaxConfig: 'local'};\n",
       "        if (window.MathJax) {MathJax.Hub.Config({SVG: {font: \"STIX-Web\"}});}\n",
       "        if (typeof require !== 'undefined') {\n",
       "        require.undef(\"plotly\");\n",
       "        requirejs.config({\n",
       "            paths: {\n",
       "                'plotly': ['https://cdn.plot.ly/plotly-latest.min']\n",
       "            }\n",
       "        });\n",
       "        require(['plotly'], function(Plotly) {\n",
       "            window._Plotly = Plotly;\n",
       "        });\n",
       "        }\n",
       "        </script>\n",
       "        "
      ]
     },
     "metadata": {},
     "output_type": "display_data"
    }
   ],
   "source": [
    "py.offline.init_notebook_mode(connected=True)"
   ]
  },
  {
   "cell_type": "markdown",
   "metadata": {},
   "source": [
    "In order to display the plot inside the notebook, you need to initiate plotly’s notebook mode"
   ]
  },
  {
   "cell_type": "code",
   "execution_count": 6,
   "metadata": {},
   "outputs": [
    {
     "data": {
      "text/html": [
       "        <script type=\"text/javascript\">\n",
       "        window.PlotlyConfig = {MathJaxConfig: 'local'};\n",
       "        if (window.MathJax) {MathJax.Hub.Config({SVG: {font: \"STIX-Web\"}});}\n",
       "        if (typeof require !== 'undefined') {\n",
       "        require.undef(\"plotly\");\n",
       "        requirejs.config({\n",
       "            paths: {\n",
       "                'plotly': ['https://cdn.plot.ly/plotly-latest.min']\n",
       "            }\n",
       "        });\n",
       "        require(['plotly'], function(Plotly) {\n",
       "            window._Plotly = Plotly;\n",
       "        });\n",
       "        }\n",
       "        </script>\n",
       "        "
      ]
     },
     "metadata": {},
     "output_type": "display_data"
    }
   ],
   "source": [
    "cf.go_offline()"
   ]
  },
  {
   "cell_type": "code",
   "execution_count": 7,
   "metadata": {},
   "outputs": [
    {
     "data": {
      "text/html": [
       "<div>\n",
       "<style scoped>\n",
       "    .dataframe tbody tr th:only-of-type {\n",
       "        vertical-align: middle;\n",
       "    }\n",
       "\n",
       "    .dataframe tbody tr th {\n",
       "        vertical-align: top;\n",
       "    }\n",
       "\n",
       "    .dataframe thead th {\n",
       "        text-align: right;\n",
       "    }\n",
       "</style>\n",
       "<table border=\"1\" class=\"dataframe\">\n",
       "  <thead>\n",
       "    <tr style=\"text-align: right;\">\n",
       "      <th></th>\n",
       "      <th>A</th>\n",
       "      <th>B</th>\n",
       "      <th>C</th>\n",
       "    </tr>\n",
       "  </thead>\n",
       "  <tbody>\n",
       "    <tr>\n",
       "      <th>0</th>\n",
       "      <td>1.542980</td>\n",
       "      <td>-0.442881</td>\n",
       "      <td>-1.094175</td>\n",
       "    </tr>\n",
       "    <tr>\n",
       "      <th>1</th>\n",
       "      <td>1.369133</td>\n",
       "      <td>0.741105</td>\n",
       "      <td>-0.545681</td>\n",
       "    </tr>\n",
       "    <tr>\n",
       "      <th>2</th>\n",
       "      <td>-0.458101</td>\n",
       "      <td>-0.893452</td>\n",
       "      <td>1.330111</td>\n",
       "    </tr>\n",
       "    <tr>\n",
       "      <th>3</th>\n",
       "      <td>-1.545247</td>\n",
       "      <td>-1.439279</td>\n",
       "      <td>0.566611</td>\n",
       "    </tr>\n",
       "    <tr>\n",
       "      <th>4</th>\n",
       "      <td>0.548645</td>\n",
       "      <td>-1.694788</td>\n",
       "      <td>0.425429</td>\n",
       "    </tr>\n",
       "  </tbody>\n",
       "</table>\n",
       "</div>"
      ],
      "text/plain": [
       "          A         B         C\n",
       "0  1.542980 -0.442881 -1.094175\n",
       "1  1.369133  0.741105 -0.545681\n",
       "2 -0.458101 -0.893452  1.330111\n",
       "3 -1.545247 -1.439279  0.566611\n",
       "4  0.548645 -1.694788  0.425429"
      ]
     },
     "execution_count": 7,
     "metadata": {},
     "output_type": "execute_result"
    }
   ],
   "source": [
    "df = pd.DataFrame(np.random.randn(100, 3), columns=['A', 'B', 'C'])\n",
    "df.head()"
   ]
  },
  {
   "cell_type": "code",
   "execution_count": 8,
   "metadata": {},
   "outputs": [],
   "source": [
    "df = df.cumsum()"
   ]
  },
  {
   "cell_type": "code",
   "execution_count": 9,
   "metadata": {},
   "outputs": [
    {
     "data": {
      "text/plain": [
       "(100, 3)"
      ]
     },
     "execution_count": 9,
     "metadata": {},
     "output_type": "execute_result"
    }
   ],
   "source": [
    "df.shape"
   ]
  },
  {
   "cell_type": "code",
   "execution_count": 10,
   "metadata": {},
   "outputs": [
    {
     "data": {
      "application/vnd.plotly.v1+json": {
       "config": {
        "linkText": "Export to plot.ly",
        "plotlyServerURL": "https://plot.ly",
        "showLink": true
       },
       "data": [
        {
         "line": {
          "color": "rgba(255, 153, 51, 1.0)",
          "dash": "solid",
          "shape": "linear",
          "width": 1.3
         },
         "mode": "lines",
         "name": "A",
         "text": "",
         "type": "scatter",
         "x": [
          0,
          1,
          2,
          3,
          4,
          5,
          6,
          7,
          8,
          9,
          10,
          11,
          12,
          13,
          14,
          15,
          16,
          17,
          18,
          19,
          20,
          21,
          22,
          23,
          24,
          25,
          26,
          27,
          28,
          29,
          30,
          31,
          32,
          33,
          34,
          35,
          36,
          37,
          38,
          39,
          40,
          41,
          42,
          43,
          44,
          45,
          46,
          47,
          48,
          49,
          50,
          51,
          52,
          53,
          54,
          55,
          56,
          57,
          58,
          59,
          60,
          61,
          62,
          63,
          64,
          65,
          66,
          67,
          68,
          69,
          70,
          71,
          72,
          73,
          74,
          75,
          76,
          77,
          78,
          79,
          80,
          81,
          82,
          83,
          84,
          85,
          86,
          87,
          88,
          89,
          90,
          91,
          92,
          93,
          94,
          95,
          96,
          97,
          98,
          99
         ],
         "y": [
          1.542980023140264,
          2.9121126238920843,
          2.454011953506909,
          0.908765453053461,
          1.4574101908432255,
          0.8303761640783085,
          0.7246273230580064,
          0.021672733436725267,
          1.3183372613934017,
          3.021938791328341,
          3.9647420315128565,
          3.6204699558480744,
          2.377368028184148,
          1.4006547723027196,
          0.41543286350584385,
          0.17038131170370602,
          0.6157163548733092,
          1.3323688636109412,
          1.3729260852351268,
          1.291341116641915,
          1.6925624117642668,
          1.820793030505737,
          -0.04888742642313626,
          -0.7322354696436995,
          0.7944202729613861,
          1.1810340292176587,
          0.7341149545905505,
          -0.2568553174252042,
          0.257314681153747,
          0.3414239991158074,
          1.8196734128565466,
          1.862236085325661,
          2.045849260259886,
          2.2085329039253816,
          2.3077156034037736,
          1.6354908388021943,
          1.0527453631924613,
          0.920076958601937,
          1.3797149474571184,
          0.41107253237159647,
          -1.081927103709963,
          -0.4094994800927654,
          1.127829763386621,
          1.8513891703312142,
          2.442071282302379,
          1.3580030844882387,
          2.443179464429334,
          1.9645403377444788,
          0.5295906964769015,
          1.4854484804442025,
          2.240398644146764,
          2.8350099991697126,
          2.908485764565109,
          3.0103489767920273,
          2.2703273860224717,
          1.6984972634058184,
          0.5695995676780039,
          1.2426341472445246,
          1.5087745594666107,
          2.6901866849875065,
          2.8436035842337697,
          1.7613750611424834,
          1.68549480744684,
          1.5762578535345844,
          3.3453879083393607,
          1.3910423120753033,
          1.1595448890776459,
          2.2319100206928786,
          3.2864129965684805,
          4.380875505443746,
          2.5808091129699013,
          4.017932205662488,
          4.676409433852359,
          5.497325333446527,
          5.358899042724595,
          4.238730210679977,
          2.987683855526822,
          5.14357406625513,
          6.070329747377492,
          7.872781768177811,
          8.17345792752811,
          8.976463264038737,
          7.990501905346166,
          8.726355380893503,
          8.784380406517345,
          9.826117342394497,
          10.690324863750199,
          10.487710712551877,
          11.765649169468062,
          10.652957601822967,
          11.303490142284323,
          11.982131717828743,
          10.733449574507839,
          11.23601181417773,
          12.730544951216954,
          12.713345198310188,
          11.242814210173176,
          9.689518786199336,
          9.558080842828387,
          10.076733977606022
         ]
        },
        {
         "line": {
          "color": "rgba(55, 128, 191, 1.0)",
          "dash": "solid",
          "shape": "linear",
          "width": 1.3
         },
         "mode": "lines",
         "name": "B",
         "text": "",
         "type": "scatter",
         "x": [
          0,
          1,
          2,
          3,
          4,
          5,
          6,
          7,
          8,
          9,
          10,
          11,
          12,
          13,
          14,
          15,
          16,
          17,
          18,
          19,
          20,
          21,
          22,
          23,
          24,
          25,
          26,
          27,
          28,
          29,
          30,
          31,
          32,
          33,
          34,
          35,
          36,
          37,
          38,
          39,
          40,
          41,
          42,
          43,
          44,
          45,
          46,
          47,
          48,
          49,
          50,
          51,
          52,
          53,
          54,
          55,
          56,
          57,
          58,
          59,
          60,
          61,
          62,
          63,
          64,
          65,
          66,
          67,
          68,
          69,
          70,
          71,
          72,
          73,
          74,
          75,
          76,
          77,
          78,
          79,
          80,
          81,
          82,
          83,
          84,
          85,
          86,
          87,
          88,
          89,
          90,
          91,
          92,
          93,
          94,
          95,
          96,
          97,
          98,
          99
         ],
         "y": [
          -0.4428811762864958,
          0.29822345369864034,
          -0.5952288386378094,
          -2.034507695687309,
          -3.729295511297281,
          -4.258224937656923,
          -5.108507322724925,
          -5.4565589982759555,
          -5.627025146863357,
          -5.2712403185261145,
          -5.083124300772727,
          -5.953289945621008,
          -6.429939414374769,
          -6.778040755495077,
          -7.94020122168813,
          -7.801588263236083,
          -5.0899971411334395,
          -4.959070674394502,
          -5.84128118914688,
          -5.211620320031509,
          -5.741425182427913,
          -5.76158314114148,
          -6.899845909788783,
          -9.12220734855009,
          -10.028710020246836,
          -10.244160572875261,
          -9.058257730538717,
          -10.236744309939356,
          -8.059668699547988,
          -7.809162986620623,
          -7.045415487020248,
          -7.112055457896206,
          -7.838750037258132,
          -7.9505241045272825,
          -7.860791100515085,
          -6.542062034854261,
          -6.5239263167106465,
          -4.971458833309432,
          -6.85909597542967,
          -6.910032398354851,
          -6.4687513139683706,
          -9.351094552508306,
          -8.331624194489072,
          -7.876512881657529,
          -9.306162026027787,
          -9.038441543413084,
          -9.719991880275755,
          -10.415222935689002,
          -9.30613756259337,
          -8.705829215021488,
          -9.793866079447131,
          -9.984818160221486,
          -9.362596752618215,
          -11.098925746401692,
          -12.771870011796683,
          -13.014100939130564,
          -11.30824863947166,
          -10.69011463558419,
          -11.804236783467637,
          -11.819092962755489,
          -12.209836005911676,
          -12.025072474783196,
          -12.865102724368485,
          -13.41185042758949,
          -13.603903864076267,
          -13.18730531246155,
          -12.973529905348821,
          -14.742676785651007,
          -15.029331460944103,
          -13.830680422579489,
          -14.86841647574916,
          -16.802152331954705,
          -14.621481355905253,
          -14.661305937800105,
          -14.515690337096453,
          -14.590876174950951,
          -12.147310600913263,
          -9.529113362260667,
          -8.261684221974896,
          -7.651146368576259,
          -7.766322630950659,
          -7.98983513386136,
          -5.72422795458116,
          -5.30667816400375,
          -5.701478140241028,
          -5.470470635555021,
          -5.901864109150294,
          -5.857571970487069,
          -7.7073405212827515,
          -7.908495459669848,
          -8.072304317430604,
          -9.425148987511903,
          -10.799759359354407,
          -11.164150641610002,
          -9.407581441798797,
          -9.020272199299644,
          -9.186677697618014,
          -9.453020738239394,
          -9.075864427037509,
          -9.8447450152549
         ]
        },
        {
         "line": {
          "color": "rgba(50, 171, 96, 1.0)",
          "dash": "solid",
          "shape": "linear",
          "width": 1.3
         },
         "mode": "lines",
         "name": "C",
         "text": "",
         "type": "scatter",
         "x": [
          0,
          1,
          2,
          3,
          4,
          5,
          6,
          7,
          8,
          9,
          10,
          11,
          12,
          13,
          14,
          15,
          16,
          17,
          18,
          19,
          20,
          21,
          22,
          23,
          24,
          25,
          26,
          27,
          28,
          29,
          30,
          31,
          32,
          33,
          34,
          35,
          36,
          37,
          38,
          39,
          40,
          41,
          42,
          43,
          44,
          45,
          46,
          47,
          48,
          49,
          50,
          51,
          52,
          53,
          54,
          55,
          56,
          57,
          58,
          59,
          60,
          61,
          62,
          63,
          64,
          65,
          66,
          67,
          68,
          69,
          70,
          71,
          72,
          73,
          74,
          75,
          76,
          77,
          78,
          79,
          80,
          81,
          82,
          83,
          84,
          85,
          86,
          87,
          88,
          89,
          90,
          91,
          92,
          93,
          94,
          95,
          96,
          97,
          98,
          99
         ],
         "y": [
          -1.0941751258189,
          -1.6398565983853923,
          -0.3097459127089046,
          0.2568652779629397,
          0.6822943534761479,
          0.5404638844671197,
          0.5479361923860127,
          0.7279049825639428,
          2.4348186728796533,
          0.45586485657322817,
          -0.3368797975019673,
          1.4011151291094113,
          2.5429516148439824,
          2.526515062983038,
          2.9407863225884663,
          3.539944548760316,
          3.0997369390314176,
          2.1392920795740706,
          2.463940446336639,
          1.9914462597599756,
          3.57839603607095,
          4.7528968993035985,
          3.315080058012094,
          3.1270007889556264,
          3.4252817203394317,
          3.7786166907472225,
          3.4724019419452983,
          5.329829430114989,
          5.514728560824847,
          5.137782249783837,
          5.637976874502041,
          6.318607413792849,
          6.051635425211821,
          5.159891576657999,
          5.760170491309222,
          7.152794387404979,
          7.926855237239302,
          8.38992695770623,
          8.00856718334012,
          7.25337511393975,
          8.31493908272574,
          7.645101925231108,
          7.499990157781299,
          6.217522902511577,
          6.1373377053420715,
          5.877125694475353,
          4.367217160938573,
          3.595801970127563,
          2.911361858315897,
          4.117939105223753,
          5.357554089067348,
          4.727916543660479,
          6.286761477362538,
          6.35724721473352,
          8.687105545591272,
          9.559671810970059,
          9.470510850153005,
          9.991706213903216,
          10.249246046886732,
          11.222961111842855,
          12.546478102796264,
          13.11194797797581,
          11.624145543588952,
          8.680869494700676,
          8.60746540812565,
          8.781804048143858,
          8.99198843202463,
          8.685907689830797,
          7.588785103149131,
          7.629267073433976,
          7.804107538478641,
          8.344014515230839,
          8.666300731489182,
          9.269896534670274,
          8.728528949779365,
          8.056663013476358,
          7.163467332365721,
          7.930081955061301,
          8.76695390237712,
          6.9340133784721605,
          6.732997119040566,
          6.799595830933435,
          5.457004218942103,
          6.91708213976084,
          8.097749314922186,
          10.258184128740826,
          10.977073824173095,
          10.938144194373356,
          12.262148025783633,
          12.542948813926058,
          12.108022825195025,
          12.053694186173844,
          11.60701152332701,
          10.558950588201805,
          9.294838090594412,
          8.63151488006503,
          8.072455601862519,
          8.559325621260857,
          9.659396494184433,
          9.34543167047276
         ]
        }
       ],
       "layout": {
        "legend": {
         "bgcolor": "#F5F6F9",
         "font": {
          "color": "#4D5663"
         }
        },
        "paper_bgcolor": "#F5F6F9",
        "plot_bgcolor": "#F5F6F9",
        "template": {
         "data": {
          "bar": [
           {
            "error_x": {
             "color": "#2a3f5f"
            },
            "error_y": {
             "color": "#2a3f5f"
            },
            "marker": {
             "line": {
              "color": "#E5ECF6",
              "width": 0.5
             }
            },
            "type": "bar"
           }
          ],
          "barpolar": [
           {
            "marker": {
             "line": {
              "color": "#E5ECF6",
              "width": 0.5
             }
            },
            "type": "barpolar"
           }
          ],
          "carpet": [
           {
            "aaxis": {
             "endlinecolor": "#2a3f5f",
             "gridcolor": "white",
             "linecolor": "white",
             "minorgridcolor": "white",
             "startlinecolor": "#2a3f5f"
            },
            "baxis": {
             "endlinecolor": "#2a3f5f",
             "gridcolor": "white",
             "linecolor": "white",
             "minorgridcolor": "white",
             "startlinecolor": "#2a3f5f"
            },
            "type": "carpet"
           }
          ],
          "choropleth": [
           {
            "colorbar": {
             "outlinewidth": 0,
             "ticks": ""
            },
            "type": "choropleth"
           }
          ],
          "contour": [
           {
            "colorbar": {
             "outlinewidth": 0,
             "ticks": ""
            },
            "colorscale": [
             [
              0,
              "#0d0887"
             ],
             [
              0.1111111111111111,
              "#46039f"
             ],
             [
              0.2222222222222222,
              "#7201a8"
             ],
             [
              0.3333333333333333,
              "#9c179e"
             ],
             [
              0.4444444444444444,
              "#bd3786"
             ],
             [
              0.5555555555555556,
              "#d8576b"
             ],
             [
              0.6666666666666666,
              "#ed7953"
             ],
             [
              0.7777777777777778,
              "#fb9f3a"
             ],
             [
              0.8888888888888888,
              "#fdca26"
             ],
             [
              1,
              "#f0f921"
             ]
            ],
            "type": "contour"
           }
          ],
          "contourcarpet": [
           {
            "colorbar": {
             "outlinewidth": 0,
             "ticks": ""
            },
            "type": "contourcarpet"
           }
          ],
          "heatmap": [
           {
            "colorbar": {
             "outlinewidth": 0,
             "ticks": ""
            },
            "colorscale": [
             [
              0,
              "#0d0887"
             ],
             [
              0.1111111111111111,
              "#46039f"
             ],
             [
              0.2222222222222222,
              "#7201a8"
             ],
             [
              0.3333333333333333,
              "#9c179e"
             ],
             [
              0.4444444444444444,
              "#bd3786"
             ],
             [
              0.5555555555555556,
              "#d8576b"
             ],
             [
              0.6666666666666666,
              "#ed7953"
             ],
             [
              0.7777777777777778,
              "#fb9f3a"
             ],
             [
              0.8888888888888888,
              "#fdca26"
             ],
             [
              1,
              "#f0f921"
             ]
            ],
            "type": "heatmap"
           }
          ],
          "heatmapgl": [
           {
            "colorbar": {
             "outlinewidth": 0,
             "ticks": ""
            },
            "colorscale": [
             [
              0,
              "#0d0887"
             ],
             [
              0.1111111111111111,
              "#46039f"
             ],
             [
              0.2222222222222222,
              "#7201a8"
             ],
             [
              0.3333333333333333,
              "#9c179e"
             ],
             [
              0.4444444444444444,
              "#bd3786"
             ],
             [
              0.5555555555555556,
              "#d8576b"
             ],
             [
              0.6666666666666666,
              "#ed7953"
             ],
             [
              0.7777777777777778,
              "#fb9f3a"
             ],
             [
              0.8888888888888888,
              "#fdca26"
             ],
             [
              1,
              "#f0f921"
             ]
            ],
            "type": "heatmapgl"
           }
          ],
          "histogram": [
           {
            "marker": {
             "colorbar": {
              "outlinewidth": 0,
              "ticks": ""
             }
            },
            "type": "histogram"
           }
          ],
          "histogram2d": [
           {
            "colorbar": {
             "outlinewidth": 0,
             "ticks": ""
            },
            "colorscale": [
             [
              0,
              "#0d0887"
             ],
             [
              0.1111111111111111,
              "#46039f"
             ],
             [
              0.2222222222222222,
              "#7201a8"
             ],
             [
              0.3333333333333333,
              "#9c179e"
             ],
             [
              0.4444444444444444,
              "#bd3786"
             ],
             [
              0.5555555555555556,
              "#d8576b"
             ],
             [
              0.6666666666666666,
              "#ed7953"
             ],
             [
              0.7777777777777778,
              "#fb9f3a"
             ],
             [
              0.8888888888888888,
              "#fdca26"
             ],
             [
              1,
              "#f0f921"
             ]
            ],
            "type": "histogram2d"
           }
          ],
          "histogram2dcontour": [
           {
            "colorbar": {
             "outlinewidth": 0,
             "ticks": ""
            },
            "colorscale": [
             [
              0,
              "#0d0887"
             ],
             [
              0.1111111111111111,
              "#46039f"
             ],
             [
              0.2222222222222222,
              "#7201a8"
             ],
             [
              0.3333333333333333,
              "#9c179e"
             ],
             [
              0.4444444444444444,
              "#bd3786"
             ],
             [
              0.5555555555555556,
              "#d8576b"
             ],
             [
              0.6666666666666666,
              "#ed7953"
             ],
             [
              0.7777777777777778,
              "#fb9f3a"
             ],
             [
              0.8888888888888888,
              "#fdca26"
             ],
             [
              1,
              "#f0f921"
             ]
            ],
            "type": "histogram2dcontour"
           }
          ],
          "mesh3d": [
           {
            "colorbar": {
             "outlinewidth": 0,
             "ticks": ""
            },
            "type": "mesh3d"
           }
          ],
          "parcoords": [
           {
            "line": {
             "colorbar": {
              "outlinewidth": 0,
              "ticks": ""
             }
            },
            "type": "parcoords"
           }
          ],
          "pie": [
           {
            "automargin": true,
            "type": "pie"
           }
          ],
          "scatter": [
           {
            "marker": {
             "colorbar": {
              "outlinewidth": 0,
              "ticks": ""
             }
            },
            "type": "scatter"
           }
          ],
          "scatter3d": [
           {
            "line": {
             "colorbar": {
              "outlinewidth": 0,
              "ticks": ""
             }
            },
            "marker": {
             "colorbar": {
              "outlinewidth": 0,
              "ticks": ""
             }
            },
            "type": "scatter3d"
           }
          ],
          "scattercarpet": [
           {
            "marker": {
             "colorbar": {
              "outlinewidth": 0,
              "ticks": ""
             }
            },
            "type": "scattercarpet"
           }
          ],
          "scattergeo": [
           {
            "marker": {
             "colorbar": {
              "outlinewidth": 0,
              "ticks": ""
             }
            },
            "type": "scattergeo"
           }
          ],
          "scattergl": [
           {
            "marker": {
             "colorbar": {
              "outlinewidth": 0,
              "ticks": ""
             }
            },
            "type": "scattergl"
           }
          ],
          "scattermapbox": [
           {
            "marker": {
             "colorbar": {
              "outlinewidth": 0,
              "ticks": ""
             }
            },
            "type": "scattermapbox"
           }
          ],
          "scatterpolar": [
           {
            "marker": {
             "colorbar": {
              "outlinewidth": 0,
              "ticks": ""
             }
            },
            "type": "scatterpolar"
           }
          ],
          "scatterpolargl": [
           {
            "marker": {
             "colorbar": {
              "outlinewidth": 0,
              "ticks": ""
             }
            },
            "type": "scatterpolargl"
           }
          ],
          "scatterternary": [
           {
            "marker": {
             "colorbar": {
              "outlinewidth": 0,
              "ticks": ""
             }
            },
            "type": "scatterternary"
           }
          ],
          "surface": [
           {
            "colorbar": {
             "outlinewidth": 0,
             "ticks": ""
            },
            "colorscale": [
             [
              0,
              "#0d0887"
             ],
             [
              0.1111111111111111,
              "#46039f"
             ],
             [
              0.2222222222222222,
              "#7201a8"
             ],
             [
              0.3333333333333333,
              "#9c179e"
             ],
             [
              0.4444444444444444,
              "#bd3786"
             ],
             [
              0.5555555555555556,
              "#d8576b"
             ],
             [
              0.6666666666666666,
              "#ed7953"
             ],
             [
              0.7777777777777778,
              "#fb9f3a"
             ],
             [
              0.8888888888888888,
              "#fdca26"
             ],
             [
              1,
              "#f0f921"
             ]
            ],
            "type": "surface"
           }
          ],
          "table": [
           {
            "cells": {
             "fill": {
              "color": "#EBF0F8"
             },
             "line": {
              "color": "white"
             }
            },
            "header": {
             "fill": {
              "color": "#C8D4E3"
             },
             "line": {
              "color": "white"
             }
            },
            "type": "table"
           }
          ]
         },
         "layout": {
          "annotationdefaults": {
           "arrowcolor": "#2a3f5f",
           "arrowhead": 0,
           "arrowwidth": 1
          },
          "autotypenumbers": "strict",
          "coloraxis": {
           "colorbar": {
            "outlinewidth": 0,
            "ticks": ""
           }
          },
          "colorscale": {
           "diverging": [
            [
             0,
             "#8e0152"
            ],
            [
             0.1,
             "#c51b7d"
            ],
            [
             0.2,
             "#de77ae"
            ],
            [
             0.3,
             "#f1b6da"
            ],
            [
             0.4,
             "#fde0ef"
            ],
            [
             0.5,
             "#f7f7f7"
            ],
            [
             0.6,
             "#e6f5d0"
            ],
            [
             0.7,
             "#b8e186"
            ],
            [
             0.8,
             "#7fbc41"
            ],
            [
             0.9,
             "#4d9221"
            ],
            [
             1,
             "#276419"
            ]
           ],
           "sequential": [
            [
             0,
             "#0d0887"
            ],
            [
             0.1111111111111111,
             "#46039f"
            ],
            [
             0.2222222222222222,
             "#7201a8"
            ],
            [
             0.3333333333333333,
             "#9c179e"
            ],
            [
             0.4444444444444444,
             "#bd3786"
            ],
            [
             0.5555555555555556,
             "#d8576b"
            ],
            [
             0.6666666666666666,
             "#ed7953"
            ],
            [
             0.7777777777777778,
             "#fb9f3a"
            ],
            [
             0.8888888888888888,
             "#fdca26"
            ],
            [
             1,
             "#f0f921"
            ]
           ],
           "sequentialminus": [
            [
             0,
             "#0d0887"
            ],
            [
             0.1111111111111111,
             "#46039f"
            ],
            [
             0.2222222222222222,
             "#7201a8"
            ],
            [
             0.3333333333333333,
             "#9c179e"
            ],
            [
             0.4444444444444444,
             "#bd3786"
            ],
            [
             0.5555555555555556,
             "#d8576b"
            ],
            [
             0.6666666666666666,
             "#ed7953"
            ],
            [
             0.7777777777777778,
             "#fb9f3a"
            ],
            [
             0.8888888888888888,
             "#fdca26"
            ],
            [
             1,
             "#f0f921"
            ]
           ]
          },
          "colorway": [
           "#636efa",
           "#EF553B",
           "#00cc96",
           "#ab63fa",
           "#FFA15A",
           "#19d3f3",
           "#FF6692",
           "#B6E880",
           "#FF97FF",
           "#FECB52"
          ],
          "font": {
           "color": "#2a3f5f"
          },
          "geo": {
           "bgcolor": "white",
           "lakecolor": "white",
           "landcolor": "#E5ECF6",
           "showlakes": true,
           "showland": true,
           "subunitcolor": "white"
          },
          "hoverlabel": {
           "align": "left"
          },
          "hovermode": "closest",
          "mapbox": {
           "style": "light"
          },
          "paper_bgcolor": "white",
          "plot_bgcolor": "#E5ECF6",
          "polar": {
           "angularaxis": {
            "gridcolor": "white",
            "linecolor": "white",
            "ticks": ""
           },
           "bgcolor": "#E5ECF6",
           "radialaxis": {
            "gridcolor": "white",
            "linecolor": "white",
            "ticks": ""
           }
          },
          "scene": {
           "xaxis": {
            "backgroundcolor": "#E5ECF6",
            "gridcolor": "white",
            "gridwidth": 2,
            "linecolor": "white",
            "showbackground": true,
            "ticks": "",
            "zerolinecolor": "white"
           },
           "yaxis": {
            "backgroundcolor": "#E5ECF6",
            "gridcolor": "white",
            "gridwidth": 2,
            "linecolor": "white",
            "showbackground": true,
            "ticks": "",
            "zerolinecolor": "white"
           },
           "zaxis": {
            "backgroundcolor": "#E5ECF6",
            "gridcolor": "white",
            "gridwidth": 2,
            "linecolor": "white",
            "showbackground": true,
            "ticks": "",
            "zerolinecolor": "white"
           }
          },
          "shapedefaults": {
           "line": {
            "color": "#2a3f5f"
           }
          },
          "ternary": {
           "aaxis": {
            "gridcolor": "white",
            "linecolor": "white",
            "ticks": ""
           },
           "baxis": {
            "gridcolor": "white",
            "linecolor": "white",
            "ticks": ""
           },
           "bgcolor": "#E5ECF6",
           "caxis": {
            "gridcolor": "white",
            "linecolor": "white",
            "ticks": ""
           }
          },
          "title": {
           "x": 0.05
          },
          "xaxis": {
           "automargin": true,
           "gridcolor": "white",
           "linecolor": "white",
           "ticks": "",
           "title": {
            "standoff": 15
           },
           "zerolinecolor": "white",
           "zerolinewidth": 2
          },
          "yaxis": {
           "automargin": true,
           "gridcolor": "white",
           "linecolor": "white",
           "ticks": "",
           "title": {
            "standoff": 15
           },
           "zerolinecolor": "white",
           "zerolinewidth": 2
          }
         }
        },
        "title": {
         "font": {
          "color": "#4D5663"
         }
        },
        "xaxis": {
         "gridcolor": "#E1E5ED",
         "showgrid": true,
         "tickfont": {
          "color": "#4D5663"
         },
         "title": {
          "font": {
           "color": "#4D5663"
          },
          "text": ""
         },
         "zerolinecolor": "#E1E5ED"
        },
        "yaxis": {
         "gridcolor": "#E1E5ED",
         "showgrid": true,
         "tickfont": {
          "color": "#4D5663"
         },
         "title": {
          "font": {
           "color": "#4D5663"
          },
          "text": ""
         },
         "zerolinecolor": "#E1E5ED"
        }
       }
      },
      "text/html": [
       "<div>                            <div id=\"3ff4b554-fb7f-4ffb-a280-4849af3782ff\" class=\"plotly-graph-div\" style=\"height:525px; width:100%;\"></div>            <script type=\"text/javascript\">                require([\"plotly\"], function(Plotly) {                    window.PLOTLYENV=window.PLOTLYENV || {};\n",
       "                    window.PLOTLYENV.BASE_URL='https://plot.ly';                                    if (document.getElementById(\"3ff4b554-fb7f-4ffb-a280-4849af3782ff\")) {                    Plotly.newPlot(                        \"3ff4b554-fb7f-4ffb-a280-4849af3782ff\",                        [{\"line\": {\"color\": \"rgba(255, 153, 51, 1.0)\", \"dash\": \"solid\", \"shape\": \"linear\", \"width\": 1.3}, \"mode\": \"lines\", \"name\": \"A\", \"text\": \"\", \"type\": \"scatter\", \"x\": [0, 1, 2, 3, 4, 5, 6, 7, 8, 9, 10, 11, 12, 13, 14, 15, 16, 17, 18, 19, 20, 21, 22, 23, 24, 25, 26, 27, 28, 29, 30, 31, 32, 33, 34, 35, 36, 37, 38, 39, 40, 41, 42, 43, 44, 45, 46, 47, 48, 49, 50, 51, 52, 53, 54, 55, 56, 57, 58, 59, 60, 61, 62, 63, 64, 65, 66, 67, 68, 69, 70, 71, 72, 73, 74, 75, 76, 77, 78, 79, 80, 81, 82, 83, 84, 85, 86, 87, 88, 89, 90, 91, 92, 93, 94, 95, 96, 97, 98, 99], \"y\": [1.542980023140264, 2.9121126238920843, 2.454011953506909, 0.908765453053461, 1.4574101908432255, 0.8303761640783085, 0.7246273230580064, 0.021672733436725267, 1.3183372613934017, 3.021938791328341, 3.9647420315128565, 3.6204699558480744, 2.377368028184148, 1.4006547723027196, 0.41543286350584385, 0.17038131170370602, 0.6157163548733092, 1.3323688636109412, 1.3729260852351268, 1.291341116641915, 1.6925624117642668, 1.820793030505737, -0.04888742642313626, -0.7322354696436995, 0.7944202729613861, 1.1810340292176587, 0.7341149545905505, -0.2568553174252042, 0.257314681153747, 0.3414239991158074, 1.8196734128565466, 1.862236085325661, 2.045849260259886, 2.2085329039253816, 2.3077156034037736, 1.6354908388021943, 1.0527453631924613, 0.920076958601937, 1.3797149474571184, 0.41107253237159647, -1.081927103709963, -0.4094994800927654, 1.127829763386621, 1.8513891703312142, 2.442071282302379, 1.3580030844882387, 2.443179464429334, 1.9645403377444788, 0.5295906964769015, 1.4854484804442025, 2.240398644146764, 2.8350099991697126, 2.908485764565109, 3.0103489767920273, 2.2703273860224717, 1.6984972634058184, 0.5695995676780039, 1.2426341472445246, 1.5087745594666107, 2.6901866849875065, 2.8436035842337697, 1.7613750611424834, 1.68549480744684, 1.5762578535345844, 3.3453879083393607, 1.3910423120753033, 1.1595448890776459, 2.2319100206928786, 3.2864129965684805, 4.380875505443746, 2.5808091129699013, 4.017932205662488, 4.676409433852359, 5.497325333446527, 5.358899042724595, 4.238730210679977, 2.987683855526822, 5.14357406625513, 6.070329747377492, 7.872781768177811, 8.17345792752811, 8.976463264038737, 7.990501905346166, 8.726355380893503, 8.784380406517345, 9.826117342394497, 10.690324863750199, 10.487710712551877, 11.765649169468062, 10.652957601822967, 11.303490142284323, 11.982131717828743, 10.733449574507839, 11.23601181417773, 12.730544951216954, 12.713345198310188, 11.242814210173176, 9.689518786199336, 9.558080842828387, 10.076733977606022]}, {\"line\": {\"color\": \"rgba(55, 128, 191, 1.0)\", \"dash\": \"solid\", \"shape\": \"linear\", \"width\": 1.3}, \"mode\": \"lines\", \"name\": \"B\", \"text\": \"\", \"type\": \"scatter\", \"x\": [0, 1, 2, 3, 4, 5, 6, 7, 8, 9, 10, 11, 12, 13, 14, 15, 16, 17, 18, 19, 20, 21, 22, 23, 24, 25, 26, 27, 28, 29, 30, 31, 32, 33, 34, 35, 36, 37, 38, 39, 40, 41, 42, 43, 44, 45, 46, 47, 48, 49, 50, 51, 52, 53, 54, 55, 56, 57, 58, 59, 60, 61, 62, 63, 64, 65, 66, 67, 68, 69, 70, 71, 72, 73, 74, 75, 76, 77, 78, 79, 80, 81, 82, 83, 84, 85, 86, 87, 88, 89, 90, 91, 92, 93, 94, 95, 96, 97, 98, 99], \"y\": [-0.4428811762864958, 0.29822345369864034, -0.5952288386378094, -2.034507695687309, -3.729295511297281, -4.258224937656923, -5.108507322724925, -5.4565589982759555, -5.627025146863357, -5.2712403185261145, -5.083124300772727, -5.953289945621008, -6.429939414374769, -6.778040755495077, -7.94020122168813, -7.801588263236083, -5.0899971411334395, -4.959070674394502, -5.84128118914688, -5.211620320031509, -5.741425182427913, -5.76158314114148, -6.899845909788783, -9.12220734855009, -10.028710020246836, -10.244160572875261, -9.058257730538717, -10.236744309939356, -8.059668699547988, -7.809162986620623, -7.045415487020248, -7.112055457896206, -7.838750037258132, -7.9505241045272825, -7.860791100515085, -6.542062034854261, -6.5239263167106465, -4.971458833309432, -6.85909597542967, -6.910032398354851, -6.4687513139683706, -9.351094552508306, -8.331624194489072, -7.876512881657529, -9.306162026027787, -9.038441543413084, -9.719991880275755, -10.415222935689002, -9.30613756259337, -8.705829215021488, -9.793866079447131, -9.984818160221486, -9.362596752618215, -11.098925746401692, -12.771870011796683, -13.014100939130564, -11.30824863947166, -10.69011463558419, -11.804236783467637, -11.819092962755489, -12.209836005911676, -12.025072474783196, -12.865102724368485, -13.41185042758949, -13.603903864076267, -13.18730531246155, -12.973529905348821, -14.742676785651007, -15.029331460944103, -13.830680422579489, -14.86841647574916, -16.802152331954705, -14.621481355905253, -14.661305937800105, -14.515690337096453, -14.590876174950951, -12.147310600913263, -9.529113362260667, -8.261684221974896, -7.651146368576259, -7.766322630950659, -7.98983513386136, -5.72422795458116, -5.30667816400375, -5.701478140241028, -5.470470635555021, -5.901864109150294, -5.857571970487069, -7.7073405212827515, -7.908495459669848, -8.072304317430604, -9.425148987511903, -10.799759359354407, -11.164150641610002, -9.407581441798797, -9.020272199299644, -9.186677697618014, -9.453020738239394, -9.075864427037509, -9.8447450152549]}, {\"line\": {\"color\": \"rgba(50, 171, 96, 1.0)\", \"dash\": \"solid\", \"shape\": \"linear\", \"width\": 1.3}, \"mode\": \"lines\", \"name\": \"C\", \"text\": \"\", \"type\": \"scatter\", \"x\": [0, 1, 2, 3, 4, 5, 6, 7, 8, 9, 10, 11, 12, 13, 14, 15, 16, 17, 18, 19, 20, 21, 22, 23, 24, 25, 26, 27, 28, 29, 30, 31, 32, 33, 34, 35, 36, 37, 38, 39, 40, 41, 42, 43, 44, 45, 46, 47, 48, 49, 50, 51, 52, 53, 54, 55, 56, 57, 58, 59, 60, 61, 62, 63, 64, 65, 66, 67, 68, 69, 70, 71, 72, 73, 74, 75, 76, 77, 78, 79, 80, 81, 82, 83, 84, 85, 86, 87, 88, 89, 90, 91, 92, 93, 94, 95, 96, 97, 98, 99], \"y\": [-1.0941751258189, -1.6398565983853923, -0.3097459127089046, 0.2568652779629397, 0.6822943534761479, 0.5404638844671197, 0.5479361923860127, 0.7279049825639428, 2.4348186728796533, 0.45586485657322817, -0.3368797975019673, 1.4011151291094113, 2.5429516148439824, 2.526515062983038, 2.9407863225884663, 3.539944548760316, 3.0997369390314176, 2.1392920795740706, 2.463940446336639, 1.9914462597599756, 3.57839603607095, 4.7528968993035985, 3.315080058012094, 3.1270007889556264, 3.4252817203394317, 3.7786166907472225, 3.4724019419452983, 5.329829430114989, 5.514728560824847, 5.137782249783837, 5.637976874502041, 6.318607413792849, 6.051635425211821, 5.159891576657999, 5.760170491309222, 7.152794387404979, 7.926855237239302, 8.38992695770623, 8.00856718334012, 7.25337511393975, 8.31493908272574, 7.645101925231108, 7.499990157781299, 6.217522902511577, 6.1373377053420715, 5.877125694475353, 4.367217160938573, 3.595801970127563, 2.911361858315897, 4.117939105223753, 5.357554089067348, 4.727916543660479, 6.286761477362538, 6.35724721473352, 8.687105545591272, 9.559671810970059, 9.470510850153005, 9.991706213903216, 10.249246046886732, 11.222961111842855, 12.546478102796264, 13.11194797797581, 11.624145543588952, 8.680869494700676, 8.60746540812565, 8.781804048143858, 8.99198843202463, 8.685907689830797, 7.588785103149131, 7.629267073433976, 7.804107538478641, 8.344014515230839, 8.666300731489182, 9.269896534670274, 8.728528949779365, 8.056663013476358, 7.163467332365721, 7.930081955061301, 8.76695390237712, 6.9340133784721605, 6.732997119040566, 6.799595830933435, 5.457004218942103, 6.91708213976084, 8.097749314922186, 10.258184128740826, 10.977073824173095, 10.938144194373356, 12.262148025783633, 12.542948813926058, 12.108022825195025, 12.053694186173844, 11.60701152332701, 10.558950588201805, 9.294838090594412, 8.63151488006503, 8.072455601862519, 8.559325621260857, 9.659396494184433, 9.34543167047276]}],                        {\"legend\": {\"bgcolor\": \"#F5F6F9\", \"font\": {\"color\": \"#4D5663\"}}, \"paper_bgcolor\": \"#F5F6F9\", \"plot_bgcolor\": \"#F5F6F9\", \"template\": {\"data\": {\"bar\": [{\"error_x\": {\"color\": \"#2a3f5f\"}, \"error_y\": {\"color\": \"#2a3f5f\"}, \"marker\": {\"line\": {\"color\": \"#E5ECF6\", \"width\": 0.5}}, \"type\": \"bar\"}], \"barpolar\": [{\"marker\": {\"line\": {\"color\": \"#E5ECF6\", \"width\": 0.5}}, \"type\": \"barpolar\"}], \"carpet\": [{\"aaxis\": {\"endlinecolor\": \"#2a3f5f\", \"gridcolor\": \"white\", \"linecolor\": \"white\", \"minorgridcolor\": \"white\", \"startlinecolor\": \"#2a3f5f\"}, \"baxis\": {\"endlinecolor\": \"#2a3f5f\", \"gridcolor\": \"white\", \"linecolor\": \"white\", \"minorgridcolor\": \"white\", \"startlinecolor\": \"#2a3f5f\"}, \"type\": \"carpet\"}], \"choropleth\": [{\"colorbar\": {\"outlinewidth\": 0, \"ticks\": \"\"}, \"type\": \"choropleth\"}], \"contour\": [{\"colorbar\": {\"outlinewidth\": 0, \"ticks\": \"\"}, \"colorscale\": [[0.0, \"#0d0887\"], [0.1111111111111111, \"#46039f\"], [0.2222222222222222, \"#7201a8\"], [0.3333333333333333, \"#9c179e\"], [0.4444444444444444, \"#bd3786\"], [0.5555555555555556, \"#d8576b\"], [0.6666666666666666, \"#ed7953\"], [0.7777777777777778, \"#fb9f3a\"], [0.8888888888888888, \"#fdca26\"], [1.0, \"#f0f921\"]], \"type\": \"contour\"}], \"contourcarpet\": [{\"colorbar\": {\"outlinewidth\": 0, \"ticks\": \"\"}, \"type\": \"contourcarpet\"}], \"heatmap\": [{\"colorbar\": {\"outlinewidth\": 0, \"ticks\": \"\"}, \"colorscale\": [[0.0, \"#0d0887\"], [0.1111111111111111, \"#46039f\"], [0.2222222222222222, \"#7201a8\"], [0.3333333333333333, \"#9c179e\"], [0.4444444444444444, \"#bd3786\"], [0.5555555555555556, \"#d8576b\"], [0.6666666666666666, \"#ed7953\"], [0.7777777777777778, \"#fb9f3a\"], [0.8888888888888888, \"#fdca26\"], [1.0, \"#f0f921\"]], \"type\": \"heatmap\"}], \"heatmapgl\": [{\"colorbar\": {\"outlinewidth\": 0, \"ticks\": \"\"}, \"colorscale\": [[0.0, \"#0d0887\"], [0.1111111111111111, \"#46039f\"], [0.2222222222222222, \"#7201a8\"], [0.3333333333333333, \"#9c179e\"], [0.4444444444444444, \"#bd3786\"], [0.5555555555555556, \"#d8576b\"], [0.6666666666666666, \"#ed7953\"], [0.7777777777777778, \"#fb9f3a\"], [0.8888888888888888, \"#fdca26\"], [1.0, \"#f0f921\"]], \"type\": \"heatmapgl\"}], \"histogram\": [{\"marker\": {\"colorbar\": {\"outlinewidth\": 0, \"ticks\": \"\"}}, \"type\": \"histogram\"}], \"histogram2d\": [{\"colorbar\": {\"outlinewidth\": 0, \"ticks\": \"\"}, \"colorscale\": [[0.0, \"#0d0887\"], [0.1111111111111111, \"#46039f\"], [0.2222222222222222, \"#7201a8\"], [0.3333333333333333, \"#9c179e\"], [0.4444444444444444, \"#bd3786\"], [0.5555555555555556, \"#d8576b\"], [0.6666666666666666, \"#ed7953\"], [0.7777777777777778, \"#fb9f3a\"], [0.8888888888888888, \"#fdca26\"], [1.0, \"#f0f921\"]], \"type\": \"histogram2d\"}], \"histogram2dcontour\": [{\"colorbar\": {\"outlinewidth\": 0, \"ticks\": \"\"}, \"colorscale\": [[0.0, \"#0d0887\"], [0.1111111111111111, \"#46039f\"], [0.2222222222222222, \"#7201a8\"], [0.3333333333333333, \"#9c179e\"], [0.4444444444444444, \"#bd3786\"], [0.5555555555555556, \"#d8576b\"], [0.6666666666666666, \"#ed7953\"], [0.7777777777777778, \"#fb9f3a\"], [0.8888888888888888, \"#fdca26\"], [1.0, \"#f0f921\"]], \"type\": \"histogram2dcontour\"}], \"mesh3d\": [{\"colorbar\": {\"outlinewidth\": 0, \"ticks\": \"\"}, \"type\": \"mesh3d\"}], \"parcoords\": [{\"line\": {\"colorbar\": {\"outlinewidth\": 0, \"ticks\": \"\"}}, \"type\": \"parcoords\"}], \"pie\": [{\"automargin\": true, \"type\": \"pie\"}], \"scatter\": [{\"marker\": {\"colorbar\": {\"outlinewidth\": 0, \"ticks\": \"\"}}, \"type\": \"scatter\"}], \"scatter3d\": [{\"line\": {\"colorbar\": {\"outlinewidth\": 0, \"ticks\": \"\"}}, \"marker\": {\"colorbar\": {\"outlinewidth\": 0, \"ticks\": \"\"}}, \"type\": \"scatter3d\"}], \"scattercarpet\": [{\"marker\": {\"colorbar\": {\"outlinewidth\": 0, \"ticks\": \"\"}}, \"type\": \"scattercarpet\"}], \"scattergeo\": [{\"marker\": {\"colorbar\": {\"outlinewidth\": 0, \"ticks\": \"\"}}, \"type\": \"scattergeo\"}], \"scattergl\": [{\"marker\": {\"colorbar\": {\"outlinewidth\": 0, \"ticks\": \"\"}}, \"type\": \"scattergl\"}], \"scattermapbox\": [{\"marker\": {\"colorbar\": {\"outlinewidth\": 0, \"ticks\": \"\"}}, \"type\": \"scattermapbox\"}], \"scatterpolar\": [{\"marker\": {\"colorbar\": {\"outlinewidth\": 0, \"ticks\": \"\"}}, \"type\": \"scatterpolar\"}], \"scatterpolargl\": [{\"marker\": {\"colorbar\": {\"outlinewidth\": 0, \"ticks\": \"\"}}, \"type\": \"scatterpolargl\"}], \"scatterternary\": [{\"marker\": {\"colorbar\": {\"outlinewidth\": 0, \"ticks\": \"\"}}, \"type\": \"scatterternary\"}], \"surface\": [{\"colorbar\": {\"outlinewidth\": 0, \"ticks\": \"\"}, \"colorscale\": [[0.0, \"#0d0887\"], [0.1111111111111111, \"#46039f\"], [0.2222222222222222, \"#7201a8\"], [0.3333333333333333, \"#9c179e\"], [0.4444444444444444, \"#bd3786\"], [0.5555555555555556, \"#d8576b\"], [0.6666666666666666, \"#ed7953\"], [0.7777777777777778, \"#fb9f3a\"], [0.8888888888888888, \"#fdca26\"], [1.0, \"#f0f921\"]], \"type\": \"surface\"}], \"table\": [{\"cells\": {\"fill\": {\"color\": \"#EBF0F8\"}, \"line\": {\"color\": \"white\"}}, \"header\": {\"fill\": {\"color\": \"#C8D4E3\"}, \"line\": {\"color\": \"white\"}}, \"type\": \"table\"}]}, \"layout\": {\"annotationdefaults\": {\"arrowcolor\": \"#2a3f5f\", \"arrowhead\": 0, \"arrowwidth\": 1}, \"autotypenumbers\": \"strict\", \"coloraxis\": {\"colorbar\": {\"outlinewidth\": 0, \"ticks\": \"\"}}, \"colorscale\": {\"diverging\": [[0, \"#8e0152\"], [0.1, \"#c51b7d\"], [0.2, \"#de77ae\"], [0.3, \"#f1b6da\"], [0.4, \"#fde0ef\"], [0.5, \"#f7f7f7\"], [0.6, \"#e6f5d0\"], [0.7, \"#b8e186\"], [0.8, \"#7fbc41\"], [0.9, \"#4d9221\"], [1, \"#276419\"]], \"sequential\": [[0.0, \"#0d0887\"], [0.1111111111111111, \"#46039f\"], [0.2222222222222222, \"#7201a8\"], [0.3333333333333333, \"#9c179e\"], [0.4444444444444444, \"#bd3786\"], [0.5555555555555556, \"#d8576b\"], [0.6666666666666666, \"#ed7953\"], [0.7777777777777778, \"#fb9f3a\"], [0.8888888888888888, \"#fdca26\"], [1.0, \"#f0f921\"]], \"sequentialminus\": [[0.0, \"#0d0887\"], [0.1111111111111111, \"#46039f\"], [0.2222222222222222, \"#7201a8\"], [0.3333333333333333, \"#9c179e\"], [0.4444444444444444, \"#bd3786\"], [0.5555555555555556, \"#d8576b\"], [0.6666666666666666, \"#ed7953\"], [0.7777777777777778, \"#fb9f3a\"], [0.8888888888888888, \"#fdca26\"], [1.0, \"#f0f921\"]]}, \"colorway\": [\"#636efa\", \"#EF553B\", \"#00cc96\", \"#ab63fa\", \"#FFA15A\", \"#19d3f3\", \"#FF6692\", \"#B6E880\", \"#FF97FF\", \"#FECB52\"], \"font\": {\"color\": \"#2a3f5f\"}, \"geo\": {\"bgcolor\": \"white\", \"lakecolor\": \"white\", \"landcolor\": \"#E5ECF6\", \"showlakes\": true, \"showland\": true, \"subunitcolor\": \"white\"}, \"hoverlabel\": {\"align\": \"left\"}, \"hovermode\": \"closest\", \"mapbox\": {\"style\": \"light\"}, \"paper_bgcolor\": \"white\", \"plot_bgcolor\": \"#E5ECF6\", \"polar\": {\"angularaxis\": {\"gridcolor\": \"white\", \"linecolor\": \"white\", \"ticks\": \"\"}, \"bgcolor\": \"#E5ECF6\", \"radialaxis\": {\"gridcolor\": \"white\", \"linecolor\": \"white\", \"ticks\": \"\"}}, \"scene\": {\"xaxis\": {\"backgroundcolor\": \"#E5ECF6\", \"gridcolor\": \"white\", \"gridwidth\": 2, \"linecolor\": \"white\", \"showbackground\": true, \"ticks\": \"\", \"zerolinecolor\": \"white\"}, \"yaxis\": {\"backgroundcolor\": \"#E5ECF6\", \"gridcolor\": \"white\", \"gridwidth\": 2, \"linecolor\": \"white\", \"showbackground\": true, \"ticks\": \"\", \"zerolinecolor\": \"white\"}, \"zaxis\": {\"backgroundcolor\": \"#E5ECF6\", \"gridcolor\": \"white\", \"gridwidth\": 2, \"linecolor\": \"white\", \"showbackground\": true, \"ticks\": \"\", \"zerolinecolor\": \"white\"}}, \"shapedefaults\": {\"line\": {\"color\": \"#2a3f5f\"}}, \"ternary\": {\"aaxis\": {\"gridcolor\": \"white\", \"linecolor\": \"white\", \"ticks\": \"\"}, \"baxis\": {\"gridcolor\": \"white\", \"linecolor\": \"white\", \"ticks\": \"\"}, \"bgcolor\": \"#E5ECF6\", \"caxis\": {\"gridcolor\": \"white\", \"linecolor\": \"white\", \"ticks\": \"\"}}, \"title\": {\"x\": 0.05}, \"xaxis\": {\"automargin\": true, \"gridcolor\": \"white\", \"linecolor\": \"white\", \"ticks\": \"\", \"title\": {\"standoff\": 15}, \"zerolinecolor\": \"white\", \"zerolinewidth\": 2}, \"yaxis\": {\"automargin\": true, \"gridcolor\": \"white\", \"linecolor\": \"white\", \"ticks\": \"\", \"title\": {\"standoff\": 15}, \"zerolinecolor\": \"white\", \"zerolinewidth\": 2}}}, \"title\": {\"font\": {\"color\": \"#4D5663\"}}, \"xaxis\": {\"gridcolor\": \"#E1E5ED\", \"showgrid\": true, \"tickfont\": {\"color\": \"#4D5663\"}, \"title\": {\"font\": {\"color\": \"#4D5663\"}, \"text\": \"\"}, \"zerolinecolor\": \"#E1E5ED\"}, \"yaxis\": {\"gridcolor\": \"#E1E5ED\", \"showgrid\": true, \"tickfont\": {\"color\": \"#4D5663\"}, \"title\": {\"font\": {\"color\": \"#4D5663\"}, \"text\": \"\"}, \"zerolinecolor\": \"#E1E5ED\"}},                        {\"showLink\": true, \"linkText\": \"Export to plot.ly\", \"plotlyServerURL\": \"https://plot.ly\", \"responsive\": true}                    ).then(function(){\n",
       "                            \n",
       "var gd = document.getElementById('3ff4b554-fb7f-4ffb-a280-4849af3782ff');\n",
       "var x = new MutationObserver(function (mutations, observer) {{\n",
       "        var display = window.getComputedStyle(gd).display;\n",
       "        if (!display || display === 'none') {{\n",
       "            console.log([gd, 'removed!']);\n",
       "            Plotly.purge(gd);\n",
       "            observer.disconnect();\n",
       "        }}\n",
       "}});\n",
       "\n",
       "// Listen for the removal of the full notebook cells\n",
       "var notebookContainer = gd.closest('#notebook-container');\n",
       "if (notebookContainer) {{\n",
       "    x.observe(notebookContainer, {childList: true});\n",
       "}}\n",
       "\n",
       "// Listen for the clearing of the current output cell\n",
       "var outputEl = gd.closest('.output');\n",
       "if (outputEl) {{\n",
       "    x.observe(outputEl, {childList: true});\n",
       "}}\n",
       "\n",
       "                        })                };                });            </script>        </div>"
      ]
     },
     "metadata": {},
     "output_type": "display_data"
    }
   ],
   "source": [
    "df.iplot()"
   ]
  },
  {
   "cell_type": "code",
   "execution_count": 11,
   "metadata": {},
   "outputs": [
    {
     "data": {
      "application/vnd.plotly.v1+json": {
       "config": {
        "linkText": "Export to plot.ly",
        "plotlyServerURL": "https://plot.ly",
        "showLink": true
       },
       "data": [
        {
         "line": {
          "color": "rgba(255, 153, 51, 1.0)",
          "dash": "solid",
          "shape": "linear",
          "width": 1.3
         },
         "marker": {
          "size": 25,
          "symbol": "circle"
         },
         "mode": "markers",
         "name": "B",
         "text": "",
         "type": "scatter",
         "x": [
          1.542980023140264,
          2.9121126238920843,
          2.454011953506909,
          0.908765453053461,
          1.4574101908432255,
          0.8303761640783085,
          0.7246273230580064,
          0.021672733436725267,
          1.3183372613934017,
          3.021938791328341,
          3.9647420315128565,
          3.6204699558480744,
          2.377368028184148,
          1.4006547723027196,
          0.41543286350584385,
          0.17038131170370602,
          0.6157163548733092,
          1.3323688636109412,
          1.3729260852351268,
          1.291341116641915,
          1.6925624117642668,
          1.820793030505737,
          -0.04888742642313626,
          -0.7322354696436995,
          0.7944202729613861,
          1.1810340292176587,
          0.7341149545905505,
          -0.2568553174252042,
          0.257314681153747,
          0.3414239991158074,
          1.8196734128565466,
          1.862236085325661,
          2.045849260259886,
          2.2085329039253816,
          2.3077156034037736,
          1.6354908388021943,
          1.0527453631924613,
          0.920076958601937,
          1.3797149474571184,
          0.41107253237159647,
          -1.081927103709963,
          -0.4094994800927654,
          1.127829763386621,
          1.8513891703312142,
          2.442071282302379,
          1.3580030844882387,
          2.443179464429334,
          1.9645403377444788,
          0.5295906964769015,
          1.4854484804442025,
          2.240398644146764,
          2.8350099991697126,
          2.908485764565109,
          3.0103489767920273,
          2.2703273860224717,
          1.6984972634058184,
          0.5695995676780039,
          1.2426341472445246,
          1.5087745594666107,
          2.6901866849875065,
          2.8436035842337697,
          1.7613750611424834,
          1.68549480744684,
          1.5762578535345844,
          3.3453879083393607,
          1.3910423120753033,
          1.1595448890776459,
          2.2319100206928786,
          3.2864129965684805,
          4.380875505443746,
          2.5808091129699013,
          4.017932205662488,
          4.676409433852359,
          5.497325333446527,
          5.358899042724595,
          4.238730210679977,
          2.987683855526822,
          5.14357406625513,
          6.070329747377492,
          7.872781768177811,
          8.17345792752811,
          8.976463264038737,
          7.990501905346166,
          8.726355380893503,
          8.784380406517345,
          9.826117342394497,
          10.690324863750199,
          10.487710712551877,
          11.765649169468062,
          10.652957601822967,
          11.303490142284323,
          11.982131717828743,
          10.733449574507839,
          11.23601181417773,
          12.730544951216954,
          12.713345198310188,
          11.242814210173176,
          9.689518786199336,
          9.558080842828387,
          10.076733977606022
         ],
         "y": [
          -0.4428811762864958,
          0.29822345369864034,
          -0.5952288386378094,
          -2.034507695687309,
          -3.729295511297281,
          -4.258224937656923,
          -5.108507322724925,
          -5.4565589982759555,
          -5.627025146863357,
          -5.2712403185261145,
          -5.083124300772727,
          -5.953289945621008,
          -6.429939414374769,
          -6.778040755495077,
          -7.94020122168813,
          -7.801588263236083,
          -5.0899971411334395,
          -4.959070674394502,
          -5.84128118914688,
          -5.211620320031509,
          -5.741425182427913,
          -5.76158314114148,
          -6.899845909788783,
          -9.12220734855009,
          -10.028710020246836,
          -10.244160572875261,
          -9.058257730538717,
          -10.236744309939356,
          -8.059668699547988,
          -7.809162986620623,
          -7.045415487020248,
          -7.112055457896206,
          -7.838750037258132,
          -7.9505241045272825,
          -7.860791100515085,
          -6.542062034854261,
          -6.5239263167106465,
          -4.971458833309432,
          -6.85909597542967,
          -6.910032398354851,
          -6.4687513139683706,
          -9.351094552508306,
          -8.331624194489072,
          -7.876512881657529,
          -9.306162026027787,
          -9.038441543413084,
          -9.719991880275755,
          -10.415222935689002,
          -9.30613756259337,
          -8.705829215021488,
          -9.793866079447131,
          -9.984818160221486,
          -9.362596752618215,
          -11.098925746401692,
          -12.771870011796683,
          -13.014100939130564,
          -11.30824863947166,
          -10.69011463558419,
          -11.804236783467637,
          -11.819092962755489,
          -12.209836005911676,
          -12.025072474783196,
          -12.865102724368485,
          -13.41185042758949,
          -13.603903864076267,
          -13.18730531246155,
          -12.973529905348821,
          -14.742676785651007,
          -15.029331460944103,
          -13.830680422579489,
          -14.86841647574916,
          -16.802152331954705,
          -14.621481355905253,
          -14.661305937800105,
          -14.515690337096453,
          -14.590876174950951,
          -12.147310600913263,
          -9.529113362260667,
          -8.261684221974896,
          -7.651146368576259,
          -7.766322630950659,
          -7.98983513386136,
          -5.72422795458116,
          -5.30667816400375,
          -5.701478140241028,
          -5.470470635555021,
          -5.901864109150294,
          -5.857571970487069,
          -7.7073405212827515,
          -7.908495459669848,
          -8.072304317430604,
          -9.425148987511903,
          -10.799759359354407,
          -11.164150641610002,
          -9.407581441798797,
          -9.020272199299644,
          -9.186677697618014,
          -9.453020738239394,
          -9.075864427037509,
          -9.8447450152549
         ]
        }
       ],
       "layout": {
        "legend": {
         "bgcolor": "#F5F6F9",
         "font": {
          "color": "#4D5663"
         }
        },
        "paper_bgcolor": "#F5F6F9",
        "plot_bgcolor": "#F5F6F9",
        "template": {
         "data": {
          "bar": [
           {
            "error_x": {
             "color": "#2a3f5f"
            },
            "error_y": {
             "color": "#2a3f5f"
            },
            "marker": {
             "line": {
              "color": "#E5ECF6",
              "width": 0.5
             }
            },
            "type": "bar"
           }
          ],
          "barpolar": [
           {
            "marker": {
             "line": {
              "color": "#E5ECF6",
              "width": 0.5
             }
            },
            "type": "barpolar"
           }
          ],
          "carpet": [
           {
            "aaxis": {
             "endlinecolor": "#2a3f5f",
             "gridcolor": "white",
             "linecolor": "white",
             "minorgridcolor": "white",
             "startlinecolor": "#2a3f5f"
            },
            "baxis": {
             "endlinecolor": "#2a3f5f",
             "gridcolor": "white",
             "linecolor": "white",
             "minorgridcolor": "white",
             "startlinecolor": "#2a3f5f"
            },
            "type": "carpet"
           }
          ],
          "choropleth": [
           {
            "colorbar": {
             "outlinewidth": 0,
             "ticks": ""
            },
            "type": "choropleth"
           }
          ],
          "contour": [
           {
            "colorbar": {
             "outlinewidth": 0,
             "ticks": ""
            },
            "colorscale": [
             [
              0,
              "#0d0887"
             ],
             [
              0.1111111111111111,
              "#46039f"
             ],
             [
              0.2222222222222222,
              "#7201a8"
             ],
             [
              0.3333333333333333,
              "#9c179e"
             ],
             [
              0.4444444444444444,
              "#bd3786"
             ],
             [
              0.5555555555555556,
              "#d8576b"
             ],
             [
              0.6666666666666666,
              "#ed7953"
             ],
             [
              0.7777777777777778,
              "#fb9f3a"
             ],
             [
              0.8888888888888888,
              "#fdca26"
             ],
             [
              1,
              "#f0f921"
             ]
            ],
            "type": "contour"
           }
          ],
          "contourcarpet": [
           {
            "colorbar": {
             "outlinewidth": 0,
             "ticks": ""
            },
            "type": "contourcarpet"
           }
          ],
          "heatmap": [
           {
            "colorbar": {
             "outlinewidth": 0,
             "ticks": ""
            },
            "colorscale": [
             [
              0,
              "#0d0887"
             ],
             [
              0.1111111111111111,
              "#46039f"
             ],
             [
              0.2222222222222222,
              "#7201a8"
             ],
             [
              0.3333333333333333,
              "#9c179e"
             ],
             [
              0.4444444444444444,
              "#bd3786"
             ],
             [
              0.5555555555555556,
              "#d8576b"
             ],
             [
              0.6666666666666666,
              "#ed7953"
             ],
             [
              0.7777777777777778,
              "#fb9f3a"
             ],
             [
              0.8888888888888888,
              "#fdca26"
             ],
             [
              1,
              "#f0f921"
             ]
            ],
            "type": "heatmap"
           }
          ],
          "heatmapgl": [
           {
            "colorbar": {
             "outlinewidth": 0,
             "ticks": ""
            },
            "colorscale": [
             [
              0,
              "#0d0887"
             ],
             [
              0.1111111111111111,
              "#46039f"
             ],
             [
              0.2222222222222222,
              "#7201a8"
             ],
             [
              0.3333333333333333,
              "#9c179e"
             ],
             [
              0.4444444444444444,
              "#bd3786"
             ],
             [
              0.5555555555555556,
              "#d8576b"
             ],
             [
              0.6666666666666666,
              "#ed7953"
             ],
             [
              0.7777777777777778,
              "#fb9f3a"
             ],
             [
              0.8888888888888888,
              "#fdca26"
             ],
             [
              1,
              "#f0f921"
             ]
            ],
            "type": "heatmapgl"
           }
          ],
          "histogram": [
           {
            "marker": {
             "colorbar": {
              "outlinewidth": 0,
              "ticks": ""
             }
            },
            "type": "histogram"
           }
          ],
          "histogram2d": [
           {
            "colorbar": {
             "outlinewidth": 0,
             "ticks": ""
            },
            "colorscale": [
             [
              0,
              "#0d0887"
             ],
             [
              0.1111111111111111,
              "#46039f"
             ],
             [
              0.2222222222222222,
              "#7201a8"
             ],
             [
              0.3333333333333333,
              "#9c179e"
             ],
             [
              0.4444444444444444,
              "#bd3786"
             ],
             [
              0.5555555555555556,
              "#d8576b"
             ],
             [
              0.6666666666666666,
              "#ed7953"
             ],
             [
              0.7777777777777778,
              "#fb9f3a"
             ],
             [
              0.8888888888888888,
              "#fdca26"
             ],
             [
              1,
              "#f0f921"
             ]
            ],
            "type": "histogram2d"
           }
          ],
          "histogram2dcontour": [
           {
            "colorbar": {
             "outlinewidth": 0,
             "ticks": ""
            },
            "colorscale": [
             [
              0,
              "#0d0887"
             ],
             [
              0.1111111111111111,
              "#46039f"
             ],
             [
              0.2222222222222222,
              "#7201a8"
             ],
             [
              0.3333333333333333,
              "#9c179e"
             ],
             [
              0.4444444444444444,
              "#bd3786"
             ],
             [
              0.5555555555555556,
              "#d8576b"
             ],
             [
              0.6666666666666666,
              "#ed7953"
             ],
             [
              0.7777777777777778,
              "#fb9f3a"
             ],
             [
              0.8888888888888888,
              "#fdca26"
             ],
             [
              1,
              "#f0f921"
             ]
            ],
            "type": "histogram2dcontour"
           }
          ],
          "mesh3d": [
           {
            "colorbar": {
             "outlinewidth": 0,
             "ticks": ""
            },
            "type": "mesh3d"
           }
          ],
          "parcoords": [
           {
            "line": {
             "colorbar": {
              "outlinewidth": 0,
              "ticks": ""
             }
            },
            "type": "parcoords"
           }
          ],
          "pie": [
           {
            "automargin": true,
            "type": "pie"
           }
          ],
          "scatter": [
           {
            "marker": {
             "colorbar": {
              "outlinewidth": 0,
              "ticks": ""
             }
            },
            "type": "scatter"
           }
          ],
          "scatter3d": [
           {
            "line": {
             "colorbar": {
              "outlinewidth": 0,
              "ticks": ""
             }
            },
            "marker": {
             "colorbar": {
              "outlinewidth": 0,
              "ticks": ""
             }
            },
            "type": "scatter3d"
           }
          ],
          "scattercarpet": [
           {
            "marker": {
             "colorbar": {
              "outlinewidth": 0,
              "ticks": ""
             }
            },
            "type": "scattercarpet"
           }
          ],
          "scattergeo": [
           {
            "marker": {
             "colorbar": {
              "outlinewidth": 0,
              "ticks": ""
             }
            },
            "type": "scattergeo"
           }
          ],
          "scattergl": [
           {
            "marker": {
             "colorbar": {
              "outlinewidth": 0,
              "ticks": ""
             }
            },
            "type": "scattergl"
           }
          ],
          "scattermapbox": [
           {
            "marker": {
             "colorbar": {
              "outlinewidth": 0,
              "ticks": ""
             }
            },
            "type": "scattermapbox"
           }
          ],
          "scatterpolar": [
           {
            "marker": {
             "colorbar": {
              "outlinewidth": 0,
              "ticks": ""
             }
            },
            "type": "scatterpolar"
           }
          ],
          "scatterpolargl": [
           {
            "marker": {
             "colorbar": {
              "outlinewidth": 0,
              "ticks": ""
             }
            },
            "type": "scatterpolargl"
           }
          ],
          "scatterternary": [
           {
            "marker": {
             "colorbar": {
              "outlinewidth": 0,
              "ticks": ""
             }
            },
            "type": "scatterternary"
           }
          ],
          "surface": [
           {
            "colorbar": {
             "outlinewidth": 0,
             "ticks": ""
            },
            "colorscale": [
             [
              0,
              "#0d0887"
             ],
             [
              0.1111111111111111,
              "#46039f"
             ],
             [
              0.2222222222222222,
              "#7201a8"
             ],
             [
              0.3333333333333333,
              "#9c179e"
             ],
             [
              0.4444444444444444,
              "#bd3786"
             ],
             [
              0.5555555555555556,
              "#d8576b"
             ],
             [
              0.6666666666666666,
              "#ed7953"
             ],
             [
              0.7777777777777778,
              "#fb9f3a"
             ],
             [
              0.8888888888888888,
              "#fdca26"
             ],
             [
              1,
              "#f0f921"
             ]
            ],
            "type": "surface"
           }
          ],
          "table": [
           {
            "cells": {
             "fill": {
              "color": "#EBF0F8"
             },
             "line": {
              "color": "white"
             }
            },
            "header": {
             "fill": {
              "color": "#C8D4E3"
             },
             "line": {
              "color": "white"
             }
            },
            "type": "table"
           }
          ]
         },
         "layout": {
          "annotationdefaults": {
           "arrowcolor": "#2a3f5f",
           "arrowhead": 0,
           "arrowwidth": 1
          },
          "autotypenumbers": "strict",
          "coloraxis": {
           "colorbar": {
            "outlinewidth": 0,
            "ticks": ""
           }
          },
          "colorscale": {
           "diverging": [
            [
             0,
             "#8e0152"
            ],
            [
             0.1,
             "#c51b7d"
            ],
            [
             0.2,
             "#de77ae"
            ],
            [
             0.3,
             "#f1b6da"
            ],
            [
             0.4,
             "#fde0ef"
            ],
            [
             0.5,
             "#f7f7f7"
            ],
            [
             0.6,
             "#e6f5d0"
            ],
            [
             0.7,
             "#b8e186"
            ],
            [
             0.8,
             "#7fbc41"
            ],
            [
             0.9,
             "#4d9221"
            ],
            [
             1,
             "#276419"
            ]
           ],
           "sequential": [
            [
             0,
             "#0d0887"
            ],
            [
             0.1111111111111111,
             "#46039f"
            ],
            [
             0.2222222222222222,
             "#7201a8"
            ],
            [
             0.3333333333333333,
             "#9c179e"
            ],
            [
             0.4444444444444444,
             "#bd3786"
            ],
            [
             0.5555555555555556,
             "#d8576b"
            ],
            [
             0.6666666666666666,
             "#ed7953"
            ],
            [
             0.7777777777777778,
             "#fb9f3a"
            ],
            [
             0.8888888888888888,
             "#fdca26"
            ],
            [
             1,
             "#f0f921"
            ]
           ],
           "sequentialminus": [
            [
             0,
             "#0d0887"
            ],
            [
             0.1111111111111111,
             "#46039f"
            ],
            [
             0.2222222222222222,
             "#7201a8"
            ],
            [
             0.3333333333333333,
             "#9c179e"
            ],
            [
             0.4444444444444444,
             "#bd3786"
            ],
            [
             0.5555555555555556,
             "#d8576b"
            ],
            [
             0.6666666666666666,
             "#ed7953"
            ],
            [
             0.7777777777777778,
             "#fb9f3a"
            ],
            [
             0.8888888888888888,
             "#fdca26"
            ],
            [
             1,
             "#f0f921"
            ]
           ]
          },
          "colorway": [
           "#636efa",
           "#EF553B",
           "#00cc96",
           "#ab63fa",
           "#FFA15A",
           "#19d3f3",
           "#FF6692",
           "#B6E880",
           "#FF97FF",
           "#FECB52"
          ],
          "font": {
           "color": "#2a3f5f"
          },
          "geo": {
           "bgcolor": "white",
           "lakecolor": "white",
           "landcolor": "#E5ECF6",
           "showlakes": true,
           "showland": true,
           "subunitcolor": "white"
          },
          "hoverlabel": {
           "align": "left"
          },
          "hovermode": "closest",
          "mapbox": {
           "style": "light"
          },
          "paper_bgcolor": "white",
          "plot_bgcolor": "#E5ECF6",
          "polar": {
           "angularaxis": {
            "gridcolor": "white",
            "linecolor": "white",
            "ticks": ""
           },
           "bgcolor": "#E5ECF6",
           "radialaxis": {
            "gridcolor": "white",
            "linecolor": "white",
            "ticks": ""
           }
          },
          "scene": {
           "xaxis": {
            "backgroundcolor": "#E5ECF6",
            "gridcolor": "white",
            "gridwidth": 2,
            "linecolor": "white",
            "showbackground": true,
            "ticks": "",
            "zerolinecolor": "white"
           },
           "yaxis": {
            "backgroundcolor": "#E5ECF6",
            "gridcolor": "white",
            "gridwidth": 2,
            "linecolor": "white",
            "showbackground": true,
            "ticks": "",
            "zerolinecolor": "white"
           },
           "zaxis": {
            "backgroundcolor": "#E5ECF6",
            "gridcolor": "white",
            "gridwidth": 2,
            "linecolor": "white",
            "showbackground": true,
            "ticks": "",
            "zerolinecolor": "white"
           }
          },
          "shapedefaults": {
           "line": {
            "color": "#2a3f5f"
           }
          },
          "ternary": {
           "aaxis": {
            "gridcolor": "white",
            "linecolor": "white",
            "ticks": ""
           },
           "baxis": {
            "gridcolor": "white",
            "linecolor": "white",
            "ticks": ""
           },
           "bgcolor": "#E5ECF6",
           "caxis": {
            "gridcolor": "white",
            "linecolor": "white",
            "ticks": ""
           }
          },
          "title": {
           "x": 0.05
          },
          "xaxis": {
           "automargin": true,
           "gridcolor": "white",
           "linecolor": "white",
           "ticks": "",
           "title": {
            "standoff": 15
           },
           "zerolinecolor": "white",
           "zerolinewidth": 2
          },
          "yaxis": {
           "automargin": true,
           "gridcolor": "white",
           "linecolor": "white",
           "ticks": "",
           "title": {
            "standoff": 15
           },
           "zerolinecolor": "white",
           "zerolinewidth": 2
          }
         }
        },
        "title": {
         "font": {
          "color": "#4D5663"
         },
         "text": "Scatter Plot"
        },
        "xaxis": {
         "gridcolor": "#E1E5ED",
         "showgrid": true,
         "tickfont": {
          "color": "#4D5663"
         },
         "title": {
          "font": {
           "color": "#4D5663"
          },
          "text": "X"
         },
         "zerolinecolor": "#E1E5ED"
        },
        "yaxis": {
         "gridcolor": "#E1E5ED",
         "showgrid": true,
         "tickfont": {
          "color": "#4D5663"
         },
         "title": {
          "font": {
           "color": "#4D5663"
          },
          "text": "Y"
         },
         "zerolinecolor": "#E1E5ED"
        }
       }
      },
      "text/html": [
       "<div>                            <div id=\"d4f8675e-201d-4390-b4b9-7cdc9f9187d3\" class=\"plotly-graph-div\" style=\"height:525px; width:100%;\"></div>            <script type=\"text/javascript\">                require([\"plotly\"], function(Plotly) {                    window.PLOTLYENV=window.PLOTLYENV || {};\n",
       "                    window.PLOTLYENV.BASE_URL='https://plot.ly';                                    if (document.getElementById(\"d4f8675e-201d-4390-b4b9-7cdc9f9187d3\")) {                    Plotly.newPlot(                        \"d4f8675e-201d-4390-b4b9-7cdc9f9187d3\",                        [{\"line\": {\"color\": \"rgba(255, 153, 51, 1.0)\", \"dash\": \"solid\", \"shape\": \"linear\", \"width\": 1.3}, \"marker\": {\"size\": 25, \"symbol\": \"circle\"}, \"mode\": \"markers\", \"name\": \"B\", \"text\": \"\", \"type\": \"scatter\", \"x\": [1.542980023140264, 2.9121126238920843, 2.454011953506909, 0.908765453053461, 1.4574101908432255, 0.8303761640783085, 0.7246273230580064, 0.021672733436725267, 1.3183372613934017, 3.021938791328341, 3.9647420315128565, 3.6204699558480744, 2.377368028184148, 1.4006547723027196, 0.41543286350584385, 0.17038131170370602, 0.6157163548733092, 1.3323688636109412, 1.3729260852351268, 1.291341116641915, 1.6925624117642668, 1.820793030505737, -0.04888742642313626, -0.7322354696436995, 0.7944202729613861, 1.1810340292176587, 0.7341149545905505, -0.2568553174252042, 0.257314681153747, 0.3414239991158074, 1.8196734128565466, 1.862236085325661, 2.045849260259886, 2.2085329039253816, 2.3077156034037736, 1.6354908388021943, 1.0527453631924613, 0.920076958601937, 1.3797149474571184, 0.41107253237159647, -1.081927103709963, -0.4094994800927654, 1.127829763386621, 1.8513891703312142, 2.442071282302379, 1.3580030844882387, 2.443179464429334, 1.9645403377444788, 0.5295906964769015, 1.4854484804442025, 2.240398644146764, 2.8350099991697126, 2.908485764565109, 3.0103489767920273, 2.2703273860224717, 1.6984972634058184, 0.5695995676780039, 1.2426341472445246, 1.5087745594666107, 2.6901866849875065, 2.8436035842337697, 1.7613750611424834, 1.68549480744684, 1.5762578535345844, 3.3453879083393607, 1.3910423120753033, 1.1595448890776459, 2.2319100206928786, 3.2864129965684805, 4.380875505443746, 2.5808091129699013, 4.017932205662488, 4.676409433852359, 5.497325333446527, 5.358899042724595, 4.238730210679977, 2.987683855526822, 5.14357406625513, 6.070329747377492, 7.872781768177811, 8.17345792752811, 8.976463264038737, 7.990501905346166, 8.726355380893503, 8.784380406517345, 9.826117342394497, 10.690324863750199, 10.487710712551877, 11.765649169468062, 10.652957601822967, 11.303490142284323, 11.982131717828743, 10.733449574507839, 11.23601181417773, 12.730544951216954, 12.713345198310188, 11.242814210173176, 9.689518786199336, 9.558080842828387, 10.076733977606022], \"y\": [-0.4428811762864958, 0.29822345369864034, -0.5952288386378094, -2.034507695687309, -3.729295511297281, -4.258224937656923, -5.108507322724925, -5.4565589982759555, -5.627025146863357, -5.2712403185261145, -5.083124300772727, -5.953289945621008, -6.429939414374769, -6.778040755495077, -7.94020122168813, -7.801588263236083, -5.0899971411334395, -4.959070674394502, -5.84128118914688, -5.211620320031509, -5.741425182427913, -5.76158314114148, -6.899845909788783, -9.12220734855009, -10.028710020246836, -10.244160572875261, -9.058257730538717, -10.236744309939356, -8.059668699547988, -7.809162986620623, -7.045415487020248, -7.112055457896206, -7.838750037258132, -7.9505241045272825, -7.860791100515085, -6.542062034854261, -6.5239263167106465, -4.971458833309432, -6.85909597542967, -6.910032398354851, -6.4687513139683706, -9.351094552508306, -8.331624194489072, -7.876512881657529, -9.306162026027787, -9.038441543413084, -9.719991880275755, -10.415222935689002, -9.30613756259337, -8.705829215021488, -9.793866079447131, -9.984818160221486, -9.362596752618215, -11.098925746401692, -12.771870011796683, -13.014100939130564, -11.30824863947166, -10.69011463558419, -11.804236783467637, -11.819092962755489, -12.209836005911676, -12.025072474783196, -12.865102724368485, -13.41185042758949, -13.603903864076267, -13.18730531246155, -12.973529905348821, -14.742676785651007, -15.029331460944103, -13.830680422579489, -14.86841647574916, -16.802152331954705, -14.621481355905253, -14.661305937800105, -14.515690337096453, -14.590876174950951, -12.147310600913263, -9.529113362260667, -8.261684221974896, -7.651146368576259, -7.766322630950659, -7.98983513386136, -5.72422795458116, -5.30667816400375, -5.701478140241028, -5.470470635555021, -5.901864109150294, -5.857571970487069, -7.7073405212827515, -7.908495459669848, -8.072304317430604, -9.425148987511903, -10.799759359354407, -11.164150641610002, -9.407581441798797, -9.020272199299644, -9.186677697618014, -9.453020738239394, -9.075864427037509, -9.8447450152549]}],                        {\"legend\": {\"bgcolor\": \"#F5F6F9\", \"font\": {\"color\": \"#4D5663\"}}, \"paper_bgcolor\": \"#F5F6F9\", \"plot_bgcolor\": \"#F5F6F9\", \"template\": {\"data\": {\"bar\": [{\"error_x\": {\"color\": \"#2a3f5f\"}, \"error_y\": {\"color\": \"#2a3f5f\"}, \"marker\": {\"line\": {\"color\": \"#E5ECF6\", \"width\": 0.5}}, \"type\": \"bar\"}], \"barpolar\": [{\"marker\": {\"line\": {\"color\": \"#E5ECF6\", \"width\": 0.5}}, \"type\": \"barpolar\"}], \"carpet\": [{\"aaxis\": {\"endlinecolor\": \"#2a3f5f\", \"gridcolor\": \"white\", \"linecolor\": \"white\", \"minorgridcolor\": \"white\", \"startlinecolor\": \"#2a3f5f\"}, \"baxis\": {\"endlinecolor\": \"#2a3f5f\", \"gridcolor\": \"white\", \"linecolor\": \"white\", \"minorgridcolor\": \"white\", \"startlinecolor\": \"#2a3f5f\"}, \"type\": \"carpet\"}], \"choropleth\": [{\"colorbar\": {\"outlinewidth\": 0, \"ticks\": \"\"}, \"type\": \"choropleth\"}], \"contour\": [{\"colorbar\": {\"outlinewidth\": 0, \"ticks\": \"\"}, \"colorscale\": [[0.0, \"#0d0887\"], [0.1111111111111111, \"#46039f\"], [0.2222222222222222, \"#7201a8\"], [0.3333333333333333, \"#9c179e\"], [0.4444444444444444, \"#bd3786\"], [0.5555555555555556, \"#d8576b\"], [0.6666666666666666, \"#ed7953\"], [0.7777777777777778, \"#fb9f3a\"], [0.8888888888888888, \"#fdca26\"], [1.0, \"#f0f921\"]], \"type\": \"contour\"}], \"contourcarpet\": [{\"colorbar\": {\"outlinewidth\": 0, \"ticks\": \"\"}, \"type\": \"contourcarpet\"}], \"heatmap\": [{\"colorbar\": {\"outlinewidth\": 0, \"ticks\": \"\"}, \"colorscale\": [[0.0, \"#0d0887\"], [0.1111111111111111, \"#46039f\"], [0.2222222222222222, \"#7201a8\"], [0.3333333333333333, \"#9c179e\"], [0.4444444444444444, \"#bd3786\"], [0.5555555555555556, \"#d8576b\"], [0.6666666666666666, \"#ed7953\"], [0.7777777777777778, \"#fb9f3a\"], [0.8888888888888888, \"#fdca26\"], [1.0, \"#f0f921\"]], \"type\": \"heatmap\"}], \"heatmapgl\": [{\"colorbar\": {\"outlinewidth\": 0, \"ticks\": \"\"}, \"colorscale\": [[0.0, \"#0d0887\"], [0.1111111111111111, \"#46039f\"], [0.2222222222222222, \"#7201a8\"], [0.3333333333333333, \"#9c179e\"], [0.4444444444444444, \"#bd3786\"], [0.5555555555555556, \"#d8576b\"], [0.6666666666666666, \"#ed7953\"], [0.7777777777777778, \"#fb9f3a\"], [0.8888888888888888, \"#fdca26\"], [1.0, \"#f0f921\"]], \"type\": \"heatmapgl\"}], \"histogram\": [{\"marker\": {\"colorbar\": {\"outlinewidth\": 0, \"ticks\": \"\"}}, \"type\": \"histogram\"}], \"histogram2d\": [{\"colorbar\": {\"outlinewidth\": 0, \"ticks\": \"\"}, \"colorscale\": [[0.0, \"#0d0887\"], [0.1111111111111111, \"#46039f\"], [0.2222222222222222, \"#7201a8\"], [0.3333333333333333, \"#9c179e\"], [0.4444444444444444, \"#bd3786\"], [0.5555555555555556, \"#d8576b\"], [0.6666666666666666, \"#ed7953\"], [0.7777777777777778, \"#fb9f3a\"], [0.8888888888888888, \"#fdca26\"], [1.0, \"#f0f921\"]], \"type\": \"histogram2d\"}], \"histogram2dcontour\": [{\"colorbar\": {\"outlinewidth\": 0, \"ticks\": \"\"}, \"colorscale\": [[0.0, \"#0d0887\"], [0.1111111111111111, \"#46039f\"], [0.2222222222222222, \"#7201a8\"], [0.3333333333333333, \"#9c179e\"], [0.4444444444444444, \"#bd3786\"], [0.5555555555555556, \"#d8576b\"], [0.6666666666666666, \"#ed7953\"], [0.7777777777777778, \"#fb9f3a\"], [0.8888888888888888, \"#fdca26\"], [1.0, \"#f0f921\"]], \"type\": \"histogram2dcontour\"}], \"mesh3d\": [{\"colorbar\": {\"outlinewidth\": 0, \"ticks\": \"\"}, \"type\": \"mesh3d\"}], \"parcoords\": [{\"line\": {\"colorbar\": {\"outlinewidth\": 0, \"ticks\": \"\"}}, \"type\": \"parcoords\"}], \"pie\": [{\"automargin\": true, \"type\": \"pie\"}], \"scatter\": [{\"marker\": {\"colorbar\": {\"outlinewidth\": 0, \"ticks\": \"\"}}, \"type\": \"scatter\"}], \"scatter3d\": [{\"line\": {\"colorbar\": {\"outlinewidth\": 0, \"ticks\": \"\"}}, \"marker\": {\"colorbar\": {\"outlinewidth\": 0, \"ticks\": \"\"}}, \"type\": \"scatter3d\"}], \"scattercarpet\": [{\"marker\": {\"colorbar\": {\"outlinewidth\": 0, \"ticks\": \"\"}}, \"type\": \"scattercarpet\"}], \"scattergeo\": [{\"marker\": {\"colorbar\": {\"outlinewidth\": 0, \"ticks\": \"\"}}, \"type\": \"scattergeo\"}], \"scattergl\": [{\"marker\": {\"colorbar\": {\"outlinewidth\": 0, \"ticks\": \"\"}}, \"type\": \"scattergl\"}], \"scattermapbox\": [{\"marker\": {\"colorbar\": {\"outlinewidth\": 0, \"ticks\": \"\"}}, \"type\": \"scattermapbox\"}], \"scatterpolar\": [{\"marker\": {\"colorbar\": {\"outlinewidth\": 0, \"ticks\": \"\"}}, \"type\": \"scatterpolar\"}], \"scatterpolargl\": [{\"marker\": {\"colorbar\": {\"outlinewidth\": 0, \"ticks\": \"\"}}, \"type\": \"scatterpolargl\"}], \"scatterternary\": [{\"marker\": {\"colorbar\": {\"outlinewidth\": 0, \"ticks\": \"\"}}, \"type\": \"scatterternary\"}], \"surface\": [{\"colorbar\": {\"outlinewidth\": 0, \"ticks\": \"\"}, \"colorscale\": [[0.0, \"#0d0887\"], [0.1111111111111111, \"#46039f\"], [0.2222222222222222, \"#7201a8\"], [0.3333333333333333, \"#9c179e\"], [0.4444444444444444, \"#bd3786\"], [0.5555555555555556, \"#d8576b\"], [0.6666666666666666, \"#ed7953\"], [0.7777777777777778, \"#fb9f3a\"], [0.8888888888888888, \"#fdca26\"], [1.0, \"#f0f921\"]], \"type\": \"surface\"}], \"table\": [{\"cells\": {\"fill\": {\"color\": \"#EBF0F8\"}, \"line\": {\"color\": \"white\"}}, \"header\": {\"fill\": {\"color\": \"#C8D4E3\"}, \"line\": {\"color\": \"white\"}}, \"type\": \"table\"}]}, \"layout\": {\"annotationdefaults\": {\"arrowcolor\": \"#2a3f5f\", \"arrowhead\": 0, \"arrowwidth\": 1}, \"autotypenumbers\": \"strict\", \"coloraxis\": {\"colorbar\": {\"outlinewidth\": 0, \"ticks\": \"\"}}, \"colorscale\": {\"diverging\": [[0, \"#8e0152\"], [0.1, \"#c51b7d\"], [0.2, \"#de77ae\"], [0.3, \"#f1b6da\"], [0.4, \"#fde0ef\"], [0.5, \"#f7f7f7\"], [0.6, \"#e6f5d0\"], [0.7, \"#b8e186\"], [0.8, \"#7fbc41\"], [0.9, \"#4d9221\"], [1, \"#276419\"]], \"sequential\": [[0.0, \"#0d0887\"], [0.1111111111111111, \"#46039f\"], [0.2222222222222222, \"#7201a8\"], [0.3333333333333333, \"#9c179e\"], [0.4444444444444444, \"#bd3786\"], [0.5555555555555556, \"#d8576b\"], [0.6666666666666666, \"#ed7953\"], [0.7777777777777778, \"#fb9f3a\"], [0.8888888888888888, \"#fdca26\"], [1.0, \"#f0f921\"]], \"sequentialminus\": [[0.0, \"#0d0887\"], [0.1111111111111111, \"#46039f\"], [0.2222222222222222, \"#7201a8\"], [0.3333333333333333, \"#9c179e\"], [0.4444444444444444, \"#bd3786\"], [0.5555555555555556, \"#d8576b\"], [0.6666666666666666, \"#ed7953\"], [0.7777777777777778, \"#fb9f3a\"], [0.8888888888888888, \"#fdca26\"], [1.0, \"#f0f921\"]]}, \"colorway\": [\"#636efa\", \"#EF553B\", \"#00cc96\", \"#ab63fa\", \"#FFA15A\", \"#19d3f3\", \"#FF6692\", \"#B6E880\", \"#FF97FF\", \"#FECB52\"], \"font\": {\"color\": \"#2a3f5f\"}, \"geo\": {\"bgcolor\": \"white\", \"lakecolor\": \"white\", \"landcolor\": \"#E5ECF6\", \"showlakes\": true, \"showland\": true, \"subunitcolor\": \"white\"}, \"hoverlabel\": {\"align\": \"left\"}, \"hovermode\": \"closest\", \"mapbox\": {\"style\": \"light\"}, \"paper_bgcolor\": \"white\", \"plot_bgcolor\": \"#E5ECF6\", \"polar\": {\"angularaxis\": {\"gridcolor\": \"white\", \"linecolor\": \"white\", \"ticks\": \"\"}, \"bgcolor\": \"#E5ECF6\", \"radialaxis\": {\"gridcolor\": \"white\", \"linecolor\": \"white\", \"ticks\": \"\"}}, \"scene\": {\"xaxis\": {\"backgroundcolor\": \"#E5ECF6\", \"gridcolor\": \"white\", \"gridwidth\": 2, \"linecolor\": \"white\", \"showbackground\": true, \"ticks\": \"\", \"zerolinecolor\": \"white\"}, \"yaxis\": {\"backgroundcolor\": \"#E5ECF6\", \"gridcolor\": \"white\", \"gridwidth\": 2, \"linecolor\": \"white\", \"showbackground\": true, \"ticks\": \"\", \"zerolinecolor\": \"white\"}, \"zaxis\": {\"backgroundcolor\": \"#E5ECF6\", \"gridcolor\": \"white\", \"gridwidth\": 2, \"linecolor\": \"white\", \"showbackground\": true, \"ticks\": \"\", \"zerolinecolor\": \"white\"}}, \"shapedefaults\": {\"line\": {\"color\": \"#2a3f5f\"}}, \"ternary\": {\"aaxis\": {\"gridcolor\": \"white\", \"linecolor\": \"white\", \"ticks\": \"\"}, \"baxis\": {\"gridcolor\": \"white\", \"linecolor\": \"white\", \"ticks\": \"\"}, \"bgcolor\": \"#E5ECF6\", \"caxis\": {\"gridcolor\": \"white\", \"linecolor\": \"white\", \"ticks\": \"\"}}, \"title\": {\"x\": 0.05}, \"xaxis\": {\"automargin\": true, \"gridcolor\": \"white\", \"linecolor\": \"white\", \"ticks\": \"\", \"title\": {\"standoff\": 15}, \"zerolinecolor\": \"white\", \"zerolinewidth\": 2}, \"yaxis\": {\"automargin\": true, \"gridcolor\": \"white\", \"linecolor\": \"white\", \"ticks\": \"\", \"title\": {\"standoff\": 15}, \"zerolinecolor\": \"white\", \"zerolinewidth\": 2}}}, \"title\": {\"font\": {\"color\": \"#4D5663\"}, \"text\": \"Scatter Plot\"}, \"xaxis\": {\"gridcolor\": \"#E1E5ED\", \"showgrid\": true, \"tickfont\": {\"color\": \"#4D5663\"}, \"title\": {\"font\": {\"color\": \"#4D5663\"}, \"text\": \"X\"}, \"zerolinecolor\": \"#E1E5ED\"}, \"yaxis\": {\"gridcolor\": \"#E1E5ED\", \"showgrid\": true, \"tickfont\": {\"color\": \"#4D5663\"}, \"title\": {\"font\": {\"color\": \"#4D5663\"}, \"text\": \"Y\"}, \"zerolinecolor\": \"#E1E5ED\"}},                        {\"showLink\": true, \"linkText\": \"Export to plot.ly\", \"plotlyServerURL\": \"https://plot.ly\", \"responsive\": true}                    ).then(function(){\n",
       "                            \n",
       "var gd = document.getElementById('d4f8675e-201d-4390-b4b9-7cdc9f9187d3');\n",
       "var x = new MutationObserver(function (mutations, observer) {{\n",
       "        var display = window.getComputedStyle(gd).display;\n",
       "        if (!display || display === 'none') {{\n",
       "            console.log([gd, 'removed!']);\n",
       "            Plotly.purge(gd);\n",
       "            observer.disconnect();\n",
       "        }}\n",
       "}});\n",
       "\n",
       "// Listen for the removal of the full notebook cells\n",
       "var notebookContainer = gd.closest('#notebook-container');\n",
       "if (notebookContainer) {{\n",
       "    x.observe(notebookContainer, {childList: true});\n",
       "}}\n",
       "\n",
       "// Listen for the clearing of the current output cell\n",
       "var outputEl = gd.closest('.output');\n",
       "if (outputEl) {{\n",
       "    x.observe(outputEl, {childList: true});\n",
       "}}\n",
       "\n",
       "                        })                };                });            </script>        </div>"
      ]
     },
     "metadata": {},
     "output_type": "display_data"
    }
   ],
   "source": [
    "df.iplot(x = 'A', y = 'B', mode = 'markers', size = 25, title='Scatter Plot', xTitle='X', yTitle='Y')"
   ]
  },
  {
   "cell_type": "code",
   "execution_count": 12,
   "metadata": {},
   "outputs": [
    {
     "data": {
      "application/vnd.plotly.v1+json": {
       "config": {
        "linkText": "Export to plot.ly",
        "plotlyServerURL": "https://plot.ly",
        "showLink": true
       },
       "data": [
        {
         "colorscale": [
          [
           0,
           "rgb(255, 153, 51)"
          ],
          [
           0.1111111111111111,
           "rgb(55, 128, 191)"
          ],
          [
           0.2222222222222222,
           "rgb(50, 171, 96)"
          ],
          [
           0.3333333333333333,
           "rgb(128, 0, 128)"
          ],
          [
           0.4444444444444444,
           "rgb(219, 64, 82)"
          ],
          [
           0.5555555555555556,
           "rgb(0, 128, 128)"
          ],
          [
           0.6666666666666666,
           "rgb(255, 255, 51)"
          ],
          [
           0.7777777777777778,
           "rgb(128, 128, 0)"
          ],
          [
           0.8888888888888888,
           "rgb(251, 128, 114)"
          ],
          [
           1,
           "rgb(128, 177, 211)"
          ]
         ],
         "type": "surface",
         "x": [
          0,
          1,
          2,
          3,
          4,
          5,
          6,
          7,
          8,
          9,
          10,
          11,
          12,
          13,
          14,
          15,
          16,
          17,
          18,
          19,
          20,
          21,
          22,
          23,
          24,
          25,
          26,
          27,
          28,
          29,
          30,
          31,
          32,
          33,
          34,
          35,
          36,
          37,
          38,
          39,
          40,
          41,
          42,
          43,
          44,
          45,
          46,
          47,
          48,
          49,
          50,
          51,
          52,
          53,
          54,
          55,
          56,
          57,
          58,
          59,
          60,
          61,
          62,
          63,
          64,
          65,
          66,
          67,
          68,
          69,
          70,
          71,
          72,
          73,
          74,
          75,
          76,
          77,
          78,
          79,
          80,
          81,
          82,
          83,
          84,
          85,
          86,
          87,
          88,
          89,
          90,
          91,
          92,
          93,
          94,
          95,
          96,
          97,
          98,
          99
         ],
         "y": [
          "A",
          "B",
          "C"
         ],
         "z": [
          [
           1.542980023140264,
           2.9121126238920843,
           2.454011953506909,
           0.908765453053461,
           1.4574101908432255,
           0.8303761640783085,
           0.7246273230580064,
           0.021672733436725267,
           1.3183372613934017,
           3.021938791328341,
           3.9647420315128565,
           3.6204699558480744,
           2.377368028184148,
           1.4006547723027196,
           0.41543286350584385,
           0.17038131170370602,
           0.6157163548733092,
           1.3323688636109412,
           1.3729260852351268,
           1.291341116641915,
           1.6925624117642668,
           1.820793030505737,
           -0.04888742642313626,
           -0.7322354696436995,
           0.7944202729613861,
           1.1810340292176587,
           0.7341149545905505,
           -0.2568553174252042,
           0.257314681153747,
           0.3414239991158074,
           1.8196734128565466,
           1.862236085325661,
           2.045849260259886,
           2.2085329039253816,
           2.3077156034037736,
           1.6354908388021943,
           1.0527453631924613,
           0.920076958601937,
           1.3797149474571184,
           0.41107253237159647,
           -1.081927103709963,
           -0.4094994800927654,
           1.127829763386621,
           1.8513891703312142,
           2.442071282302379,
           1.3580030844882387,
           2.443179464429334,
           1.9645403377444788,
           0.5295906964769015,
           1.4854484804442025,
           2.240398644146764,
           2.8350099991697126,
           2.908485764565109,
           3.0103489767920273,
           2.2703273860224717,
           1.6984972634058184,
           0.5695995676780039,
           1.2426341472445246,
           1.5087745594666107,
           2.6901866849875065,
           2.8436035842337697,
           1.7613750611424834,
           1.68549480744684,
           1.5762578535345844,
           3.3453879083393607,
           1.3910423120753033,
           1.1595448890776459,
           2.2319100206928786,
           3.2864129965684805,
           4.380875505443746,
           2.5808091129699013,
           4.017932205662488,
           4.676409433852359,
           5.497325333446527,
           5.358899042724595,
           4.238730210679977,
           2.987683855526822,
           5.14357406625513,
           6.070329747377492,
           7.872781768177811,
           8.17345792752811,
           8.976463264038737,
           7.990501905346166,
           8.726355380893503,
           8.784380406517345,
           9.826117342394497,
           10.690324863750199,
           10.487710712551877,
           11.765649169468062,
           10.652957601822967,
           11.303490142284323,
           11.982131717828743,
           10.733449574507839,
           11.23601181417773,
           12.730544951216954,
           12.713345198310188,
           11.242814210173176,
           9.689518786199336,
           9.558080842828387,
           10.076733977606022
          ],
          [
           -0.4428811762864958,
           0.29822345369864034,
           -0.5952288386378094,
           -2.034507695687309,
           -3.729295511297281,
           -4.258224937656923,
           -5.108507322724925,
           -5.4565589982759555,
           -5.627025146863357,
           -5.2712403185261145,
           -5.083124300772727,
           -5.953289945621008,
           -6.429939414374769,
           -6.778040755495077,
           -7.94020122168813,
           -7.801588263236083,
           -5.0899971411334395,
           -4.959070674394502,
           -5.84128118914688,
           -5.211620320031509,
           -5.741425182427913,
           -5.76158314114148,
           -6.899845909788783,
           -9.12220734855009,
           -10.028710020246836,
           -10.244160572875261,
           -9.058257730538717,
           -10.236744309939356,
           -8.059668699547988,
           -7.809162986620623,
           -7.045415487020248,
           -7.112055457896206,
           -7.838750037258132,
           -7.9505241045272825,
           -7.860791100515085,
           -6.542062034854261,
           -6.5239263167106465,
           -4.971458833309432,
           -6.85909597542967,
           -6.910032398354851,
           -6.4687513139683706,
           -9.351094552508306,
           -8.331624194489072,
           -7.876512881657529,
           -9.306162026027787,
           -9.038441543413084,
           -9.719991880275755,
           -10.415222935689002,
           -9.30613756259337,
           -8.705829215021488,
           -9.793866079447131,
           -9.984818160221486,
           -9.362596752618215,
           -11.098925746401692,
           -12.771870011796683,
           -13.014100939130564,
           -11.30824863947166,
           -10.69011463558419,
           -11.804236783467637,
           -11.819092962755489,
           -12.209836005911676,
           -12.025072474783196,
           -12.865102724368485,
           -13.41185042758949,
           -13.603903864076267,
           -13.18730531246155,
           -12.973529905348821,
           -14.742676785651007,
           -15.029331460944103,
           -13.830680422579489,
           -14.86841647574916,
           -16.802152331954705,
           -14.621481355905253,
           -14.661305937800105,
           -14.515690337096453,
           -14.590876174950951,
           -12.147310600913263,
           -9.529113362260667,
           -8.261684221974896,
           -7.651146368576259,
           -7.766322630950659,
           -7.98983513386136,
           -5.72422795458116,
           -5.30667816400375,
           -5.701478140241028,
           -5.470470635555021,
           -5.901864109150294,
           -5.857571970487069,
           -7.7073405212827515,
           -7.908495459669848,
           -8.072304317430604,
           -9.425148987511903,
           -10.799759359354407,
           -11.164150641610002,
           -9.407581441798797,
           -9.020272199299644,
           -9.186677697618014,
           -9.453020738239394,
           -9.075864427037509,
           -9.8447450152549
          ],
          [
           -1.0941751258189,
           -1.6398565983853923,
           -0.3097459127089046,
           0.2568652779629397,
           0.6822943534761479,
           0.5404638844671197,
           0.5479361923860127,
           0.7279049825639428,
           2.4348186728796533,
           0.45586485657322817,
           -0.3368797975019673,
           1.4011151291094113,
           2.5429516148439824,
           2.526515062983038,
           2.9407863225884663,
           3.539944548760316,
           3.0997369390314176,
           2.1392920795740706,
           2.463940446336639,
           1.9914462597599756,
           3.57839603607095,
           4.7528968993035985,
           3.315080058012094,
           3.1270007889556264,
           3.4252817203394317,
           3.7786166907472225,
           3.4724019419452983,
           5.329829430114989,
           5.514728560824847,
           5.137782249783837,
           5.637976874502041,
           6.318607413792849,
           6.051635425211821,
           5.159891576657999,
           5.760170491309222,
           7.152794387404979,
           7.926855237239302,
           8.38992695770623,
           8.00856718334012,
           7.25337511393975,
           8.31493908272574,
           7.645101925231108,
           7.499990157781299,
           6.217522902511577,
           6.1373377053420715,
           5.877125694475353,
           4.367217160938573,
           3.595801970127563,
           2.911361858315897,
           4.117939105223753,
           5.357554089067348,
           4.727916543660479,
           6.286761477362538,
           6.35724721473352,
           8.687105545591272,
           9.559671810970059,
           9.470510850153005,
           9.991706213903216,
           10.249246046886732,
           11.222961111842855,
           12.546478102796264,
           13.11194797797581,
           11.624145543588952,
           8.680869494700676,
           8.60746540812565,
           8.781804048143858,
           8.99198843202463,
           8.685907689830797,
           7.588785103149131,
           7.629267073433976,
           7.804107538478641,
           8.344014515230839,
           8.666300731489182,
           9.269896534670274,
           8.728528949779365,
           8.056663013476358,
           7.163467332365721,
           7.930081955061301,
           8.76695390237712,
           6.9340133784721605,
           6.732997119040566,
           6.799595830933435,
           5.457004218942103,
           6.91708213976084,
           8.097749314922186,
           10.258184128740826,
           10.977073824173095,
           10.938144194373356,
           12.262148025783633,
           12.542948813926058,
           12.108022825195025,
           12.053694186173844,
           11.60701152332701,
           10.558950588201805,
           9.294838090594412,
           8.63151488006503,
           8.072455601862519,
           8.559325621260857,
           9.659396494184433,
           9.34543167047276
          ]
         ]
        }
       ],
       "layout": {
        "legend": {
         "bgcolor": "#F5F6F9",
         "font": {
          "color": "#4D5663"
         }
        },
        "paper_bgcolor": "#F5F6F9",
        "plot_bgcolor": "#F5F6F9",
        "template": {
         "data": {
          "bar": [
           {
            "error_x": {
             "color": "#2a3f5f"
            },
            "error_y": {
             "color": "#2a3f5f"
            },
            "marker": {
             "line": {
              "color": "#E5ECF6",
              "width": 0.5
             }
            },
            "type": "bar"
           }
          ],
          "barpolar": [
           {
            "marker": {
             "line": {
              "color": "#E5ECF6",
              "width": 0.5
             }
            },
            "type": "barpolar"
           }
          ],
          "carpet": [
           {
            "aaxis": {
             "endlinecolor": "#2a3f5f",
             "gridcolor": "white",
             "linecolor": "white",
             "minorgridcolor": "white",
             "startlinecolor": "#2a3f5f"
            },
            "baxis": {
             "endlinecolor": "#2a3f5f",
             "gridcolor": "white",
             "linecolor": "white",
             "minorgridcolor": "white",
             "startlinecolor": "#2a3f5f"
            },
            "type": "carpet"
           }
          ],
          "choropleth": [
           {
            "colorbar": {
             "outlinewidth": 0,
             "ticks": ""
            },
            "type": "choropleth"
           }
          ],
          "contour": [
           {
            "colorbar": {
             "outlinewidth": 0,
             "ticks": ""
            },
            "colorscale": [
             [
              0,
              "#0d0887"
             ],
             [
              0.1111111111111111,
              "#46039f"
             ],
             [
              0.2222222222222222,
              "#7201a8"
             ],
             [
              0.3333333333333333,
              "#9c179e"
             ],
             [
              0.4444444444444444,
              "#bd3786"
             ],
             [
              0.5555555555555556,
              "#d8576b"
             ],
             [
              0.6666666666666666,
              "#ed7953"
             ],
             [
              0.7777777777777778,
              "#fb9f3a"
             ],
             [
              0.8888888888888888,
              "#fdca26"
             ],
             [
              1,
              "#f0f921"
             ]
            ],
            "type": "contour"
           }
          ],
          "contourcarpet": [
           {
            "colorbar": {
             "outlinewidth": 0,
             "ticks": ""
            },
            "type": "contourcarpet"
           }
          ],
          "heatmap": [
           {
            "colorbar": {
             "outlinewidth": 0,
             "ticks": ""
            },
            "colorscale": [
             [
              0,
              "#0d0887"
             ],
             [
              0.1111111111111111,
              "#46039f"
             ],
             [
              0.2222222222222222,
              "#7201a8"
             ],
             [
              0.3333333333333333,
              "#9c179e"
             ],
             [
              0.4444444444444444,
              "#bd3786"
             ],
             [
              0.5555555555555556,
              "#d8576b"
             ],
             [
              0.6666666666666666,
              "#ed7953"
             ],
             [
              0.7777777777777778,
              "#fb9f3a"
             ],
             [
              0.8888888888888888,
              "#fdca26"
             ],
             [
              1,
              "#f0f921"
             ]
            ],
            "type": "heatmap"
           }
          ],
          "heatmapgl": [
           {
            "colorbar": {
             "outlinewidth": 0,
             "ticks": ""
            },
            "colorscale": [
             [
              0,
              "#0d0887"
             ],
             [
              0.1111111111111111,
              "#46039f"
             ],
             [
              0.2222222222222222,
              "#7201a8"
             ],
             [
              0.3333333333333333,
              "#9c179e"
             ],
             [
              0.4444444444444444,
              "#bd3786"
             ],
             [
              0.5555555555555556,
              "#d8576b"
             ],
             [
              0.6666666666666666,
              "#ed7953"
             ],
             [
              0.7777777777777778,
              "#fb9f3a"
             ],
             [
              0.8888888888888888,
              "#fdca26"
             ],
             [
              1,
              "#f0f921"
             ]
            ],
            "type": "heatmapgl"
           }
          ],
          "histogram": [
           {
            "marker": {
             "colorbar": {
              "outlinewidth": 0,
              "ticks": ""
             }
            },
            "type": "histogram"
           }
          ],
          "histogram2d": [
           {
            "colorbar": {
             "outlinewidth": 0,
             "ticks": ""
            },
            "colorscale": [
             [
              0,
              "#0d0887"
             ],
             [
              0.1111111111111111,
              "#46039f"
             ],
             [
              0.2222222222222222,
              "#7201a8"
             ],
             [
              0.3333333333333333,
              "#9c179e"
             ],
             [
              0.4444444444444444,
              "#bd3786"
             ],
             [
              0.5555555555555556,
              "#d8576b"
             ],
             [
              0.6666666666666666,
              "#ed7953"
             ],
             [
              0.7777777777777778,
              "#fb9f3a"
             ],
             [
              0.8888888888888888,
              "#fdca26"
             ],
             [
              1,
              "#f0f921"
             ]
            ],
            "type": "histogram2d"
           }
          ],
          "histogram2dcontour": [
           {
            "colorbar": {
             "outlinewidth": 0,
             "ticks": ""
            },
            "colorscale": [
             [
              0,
              "#0d0887"
             ],
             [
              0.1111111111111111,
              "#46039f"
             ],
             [
              0.2222222222222222,
              "#7201a8"
             ],
             [
              0.3333333333333333,
              "#9c179e"
             ],
             [
              0.4444444444444444,
              "#bd3786"
             ],
             [
              0.5555555555555556,
              "#d8576b"
             ],
             [
              0.6666666666666666,
              "#ed7953"
             ],
             [
              0.7777777777777778,
              "#fb9f3a"
             ],
             [
              0.8888888888888888,
              "#fdca26"
             ],
             [
              1,
              "#f0f921"
             ]
            ],
            "type": "histogram2dcontour"
           }
          ],
          "mesh3d": [
           {
            "colorbar": {
             "outlinewidth": 0,
             "ticks": ""
            },
            "type": "mesh3d"
           }
          ],
          "parcoords": [
           {
            "line": {
             "colorbar": {
              "outlinewidth": 0,
              "ticks": ""
             }
            },
            "type": "parcoords"
           }
          ],
          "pie": [
           {
            "automargin": true,
            "type": "pie"
           }
          ],
          "scatter": [
           {
            "marker": {
             "colorbar": {
              "outlinewidth": 0,
              "ticks": ""
             }
            },
            "type": "scatter"
           }
          ],
          "scatter3d": [
           {
            "line": {
             "colorbar": {
              "outlinewidth": 0,
              "ticks": ""
             }
            },
            "marker": {
             "colorbar": {
              "outlinewidth": 0,
              "ticks": ""
             }
            },
            "type": "scatter3d"
           }
          ],
          "scattercarpet": [
           {
            "marker": {
             "colorbar": {
              "outlinewidth": 0,
              "ticks": ""
             }
            },
            "type": "scattercarpet"
           }
          ],
          "scattergeo": [
           {
            "marker": {
             "colorbar": {
              "outlinewidth": 0,
              "ticks": ""
             }
            },
            "type": "scattergeo"
           }
          ],
          "scattergl": [
           {
            "marker": {
             "colorbar": {
              "outlinewidth": 0,
              "ticks": ""
             }
            },
            "type": "scattergl"
           }
          ],
          "scattermapbox": [
           {
            "marker": {
             "colorbar": {
              "outlinewidth": 0,
              "ticks": ""
             }
            },
            "type": "scattermapbox"
           }
          ],
          "scatterpolar": [
           {
            "marker": {
             "colorbar": {
              "outlinewidth": 0,
              "ticks": ""
             }
            },
            "type": "scatterpolar"
           }
          ],
          "scatterpolargl": [
           {
            "marker": {
             "colorbar": {
              "outlinewidth": 0,
              "ticks": ""
             }
            },
            "type": "scatterpolargl"
           }
          ],
          "scatterternary": [
           {
            "marker": {
             "colorbar": {
              "outlinewidth": 0,
              "ticks": ""
             }
            },
            "type": "scatterternary"
           }
          ],
          "surface": [
           {
            "colorbar": {
             "outlinewidth": 0,
             "ticks": ""
            },
            "colorscale": [
             [
              0,
              "#0d0887"
             ],
             [
              0.1111111111111111,
              "#46039f"
             ],
             [
              0.2222222222222222,
              "#7201a8"
             ],
             [
              0.3333333333333333,
              "#9c179e"
             ],
             [
              0.4444444444444444,
              "#bd3786"
             ],
             [
              0.5555555555555556,
              "#d8576b"
             ],
             [
              0.6666666666666666,
              "#ed7953"
             ],
             [
              0.7777777777777778,
              "#fb9f3a"
             ],
             [
              0.8888888888888888,
              "#fdca26"
             ],
             [
              1,
              "#f0f921"
             ]
            ],
            "type": "surface"
           }
          ],
          "table": [
           {
            "cells": {
             "fill": {
              "color": "#EBF0F8"
             },
             "line": {
              "color": "white"
             }
            },
            "header": {
             "fill": {
              "color": "#C8D4E3"
             },
             "line": {
              "color": "white"
             }
            },
            "type": "table"
           }
          ]
         },
         "layout": {
          "annotationdefaults": {
           "arrowcolor": "#2a3f5f",
           "arrowhead": 0,
           "arrowwidth": 1
          },
          "autotypenumbers": "strict",
          "coloraxis": {
           "colorbar": {
            "outlinewidth": 0,
            "ticks": ""
           }
          },
          "colorscale": {
           "diverging": [
            [
             0,
             "#8e0152"
            ],
            [
             0.1,
             "#c51b7d"
            ],
            [
             0.2,
             "#de77ae"
            ],
            [
             0.3,
             "#f1b6da"
            ],
            [
             0.4,
             "#fde0ef"
            ],
            [
             0.5,
             "#f7f7f7"
            ],
            [
             0.6,
             "#e6f5d0"
            ],
            [
             0.7,
             "#b8e186"
            ],
            [
             0.8,
             "#7fbc41"
            ],
            [
             0.9,
             "#4d9221"
            ],
            [
             1,
             "#276419"
            ]
           ],
           "sequential": [
            [
             0,
             "#0d0887"
            ],
            [
             0.1111111111111111,
             "#46039f"
            ],
            [
             0.2222222222222222,
             "#7201a8"
            ],
            [
             0.3333333333333333,
             "#9c179e"
            ],
            [
             0.4444444444444444,
             "#bd3786"
            ],
            [
             0.5555555555555556,
             "#d8576b"
            ],
            [
             0.6666666666666666,
             "#ed7953"
            ],
            [
             0.7777777777777778,
             "#fb9f3a"
            ],
            [
             0.8888888888888888,
             "#fdca26"
            ],
            [
             1,
             "#f0f921"
            ]
           ],
           "sequentialminus": [
            [
             0,
             "#0d0887"
            ],
            [
             0.1111111111111111,
             "#46039f"
            ],
            [
             0.2222222222222222,
             "#7201a8"
            ],
            [
             0.3333333333333333,
             "#9c179e"
            ],
            [
             0.4444444444444444,
             "#bd3786"
            ],
            [
             0.5555555555555556,
             "#d8576b"
            ],
            [
             0.6666666666666666,
             "#ed7953"
            ],
            [
             0.7777777777777778,
             "#fb9f3a"
            ],
            [
             0.8888888888888888,
             "#fdca26"
            ],
            [
             1,
             "#f0f921"
            ]
           ]
          },
          "colorway": [
           "#636efa",
           "#EF553B",
           "#00cc96",
           "#ab63fa",
           "#FFA15A",
           "#19d3f3",
           "#FF6692",
           "#B6E880",
           "#FF97FF",
           "#FECB52"
          ],
          "font": {
           "color": "#2a3f5f"
          },
          "geo": {
           "bgcolor": "white",
           "lakecolor": "white",
           "landcolor": "#E5ECF6",
           "showlakes": true,
           "showland": true,
           "subunitcolor": "white"
          },
          "hoverlabel": {
           "align": "left"
          },
          "hovermode": "closest",
          "mapbox": {
           "style": "light"
          },
          "paper_bgcolor": "white",
          "plot_bgcolor": "#E5ECF6",
          "polar": {
           "angularaxis": {
            "gridcolor": "white",
            "linecolor": "white",
            "ticks": ""
           },
           "bgcolor": "#E5ECF6",
           "radialaxis": {
            "gridcolor": "white",
            "linecolor": "white",
            "ticks": ""
           }
          },
          "scene": {
           "xaxis": {
            "backgroundcolor": "#E5ECF6",
            "gridcolor": "white",
            "gridwidth": 2,
            "linecolor": "white",
            "showbackground": true,
            "ticks": "",
            "zerolinecolor": "white"
           },
           "yaxis": {
            "backgroundcolor": "#E5ECF6",
            "gridcolor": "white",
            "gridwidth": 2,
            "linecolor": "white",
            "showbackground": true,
            "ticks": "",
            "zerolinecolor": "white"
           },
           "zaxis": {
            "backgroundcolor": "#E5ECF6",
            "gridcolor": "white",
            "gridwidth": 2,
            "linecolor": "white",
            "showbackground": true,
            "ticks": "",
            "zerolinecolor": "white"
           }
          },
          "shapedefaults": {
           "line": {
            "color": "#2a3f5f"
           }
          },
          "ternary": {
           "aaxis": {
            "gridcolor": "white",
            "linecolor": "white",
            "ticks": ""
           },
           "baxis": {
            "gridcolor": "white",
            "linecolor": "white",
            "ticks": ""
           },
           "bgcolor": "#E5ECF6",
           "caxis": {
            "gridcolor": "white",
            "linecolor": "white",
            "ticks": ""
           }
          },
          "title": {
           "x": 0.05
          },
          "xaxis": {
           "automargin": true,
           "gridcolor": "white",
           "linecolor": "white",
           "ticks": "",
           "title": {
            "standoff": 15
           },
           "zerolinecolor": "white",
           "zerolinewidth": 2
          },
          "yaxis": {
           "automargin": true,
           "gridcolor": "white",
           "linecolor": "white",
           "ticks": "",
           "title": {
            "standoff": 15
           },
           "zerolinecolor": "white",
           "zerolinewidth": 2
          }
         }
        },
        "title": {
         "font": {
          "color": "#4D5663"
         }
        },
        "xaxis": {
         "gridcolor": "#E1E5ED",
         "showgrid": true,
         "tickfont": {
          "color": "#4D5663"
         },
         "title": {
          "font": {
           "color": "#4D5663"
          },
          "text": ""
         },
         "zerolinecolor": "#E1E5ED"
        },
        "yaxis": {
         "gridcolor": "#E1E5ED",
         "showgrid": true,
         "tickfont": {
          "color": "#4D5663"
         },
         "title": {
          "font": {
           "color": "#4D5663"
          },
          "text": ""
         },
         "zerolinecolor": "#E1E5ED"
        }
       }
      },
      "text/html": [
       "<div>                            <div id=\"28e93d53-5c4d-45ca-84d9-b32f8a890d82\" class=\"plotly-graph-div\" style=\"height:525px; width:100%;\"></div>            <script type=\"text/javascript\">                require([\"plotly\"], function(Plotly) {                    window.PLOTLYENV=window.PLOTLYENV || {};\n",
       "                    window.PLOTLYENV.BASE_URL='https://plot.ly';                                    if (document.getElementById(\"28e93d53-5c4d-45ca-84d9-b32f8a890d82\")) {                    Plotly.newPlot(                        \"28e93d53-5c4d-45ca-84d9-b32f8a890d82\",                        [{\"colorscale\": [[0.0, \"rgb(255, 153, 51)\"], [0.1111111111111111, \"rgb(55, 128, 191)\"], [0.2222222222222222, \"rgb(50, 171, 96)\"], [0.3333333333333333, \"rgb(128, 0, 128)\"], [0.4444444444444444, \"rgb(219, 64, 82)\"], [0.5555555555555556, \"rgb(0, 128, 128)\"], [0.6666666666666666, \"rgb(255, 255, 51)\"], [0.7777777777777778, \"rgb(128, 128, 0)\"], [0.8888888888888888, \"rgb(251, 128, 114)\"], [1.0, \"rgb(128, 177, 211)\"]], \"type\": \"surface\", \"x\": [0, 1, 2, 3, 4, 5, 6, 7, 8, 9, 10, 11, 12, 13, 14, 15, 16, 17, 18, 19, 20, 21, 22, 23, 24, 25, 26, 27, 28, 29, 30, 31, 32, 33, 34, 35, 36, 37, 38, 39, 40, 41, 42, 43, 44, 45, 46, 47, 48, 49, 50, 51, 52, 53, 54, 55, 56, 57, 58, 59, 60, 61, 62, 63, 64, 65, 66, 67, 68, 69, 70, 71, 72, 73, 74, 75, 76, 77, 78, 79, 80, 81, 82, 83, 84, 85, 86, 87, 88, 89, 90, 91, 92, 93, 94, 95, 96, 97, 98, 99], \"y\": [\"A\", \"B\", \"C\"], \"z\": [[1.542980023140264, 2.9121126238920843, 2.454011953506909, 0.908765453053461, 1.4574101908432255, 0.8303761640783085, 0.7246273230580064, 0.021672733436725267, 1.3183372613934017, 3.021938791328341, 3.9647420315128565, 3.6204699558480744, 2.377368028184148, 1.4006547723027196, 0.41543286350584385, 0.17038131170370602, 0.6157163548733092, 1.3323688636109412, 1.3729260852351268, 1.291341116641915, 1.6925624117642668, 1.820793030505737, -0.04888742642313626, -0.7322354696436995, 0.7944202729613861, 1.1810340292176587, 0.7341149545905505, -0.2568553174252042, 0.257314681153747, 0.3414239991158074, 1.8196734128565466, 1.862236085325661, 2.045849260259886, 2.2085329039253816, 2.3077156034037736, 1.6354908388021943, 1.0527453631924613, 0.920076958601937, 1.3797149474571184, 0.41107253237159647, -1.081927103709963, -0.4094994800927654, 1.127829763386621, 1.8513891703312142, 2.442071282302379, 1.3580030844882387, 2.443179464429334, 1.9645403377444788, 0.5295906964769015, 1.4854484804442025, 2.240398644146764, 2.8350099991697126, 2.908485764565109, 3.0103489767920273, 2.2703273860224717, 1.6984972634058184, 0.5695995676780039, 1.2426341472445246, 1.5087745594666107, 2.6901866849875065, 2.8436035842337697, 1.7613750611424834, 1.68549480744684, 1.5762578535345844, 3.3453879083393607, 1.3910423120753033, 1.1595448890776459, 2.2319100206928786, 3.2864129965684805, 4.380875505443746, 2.5808091129699013, 4.017932205662488, 4.676409433852359, 5.497325333446527, 5.358899042724595, 4.238730210679977, 2.987683855526822, 5.14357406625513, 6.070329747377492, 7.872781768177811, 8.17345792752811, 8.976463264038737, 7.990501905346166, 8.726355380893503, 8.784380406517345, 9.826117342394497, 10.690324863750199, 10.487710712551877, 11.765649169468062, 10.652957601822967, 11.303490142284323, 11.982131717828743, 10.733449574507839, 11.23601181417773, 12.730544951216954, 12.713345198310188, 11.242814210173176, 9.689518786199336, 9.558080842828387, 10.076733977606022], [-0.4428811762864958, 0.29822345369864034, -0.5952288386378094, -2.034507695687309, -3.729295511297281, -4.258224937656923, -5.108507322724925, -5.4565589982759555, -5.627025146863357, -5.2712403185261145, -5.083124300772727, -5.953289945621008, -6.429939414374769, -6.778040755495077, -7.94020122168813, -7.801588263236083, -5.0899971411334395, -4.959070674394502, -5.84128118914688, -5.211620320031509, -5.741425182427913, -5.76158314114148, -6.899845909788783, -9.12220734855009, -10.028710020246836, -10.244160572875261, -9.058257730538717, -10.236744309939356, -8.059668699547988, -7.809162986620623, -7.045415487020248, -7.112055457896206, -7.838750037258132, -7.9505241045272825, -7.860791100515085, -6.542062034854261, -6.5239263167106465, -4.971458833309432, -6.85909597542967, -6.910032398354851, -6.4687513139683706, -9.351094552508306, -8.331624194489072, -7.876512881657529, -9.306162026027787, -9.038441543413084, -9.719991880275755, -10.415222935689002, -9.30613756259337, -8.705829215021488, -9.793866079447131, -9.984818160221486, -9.362596752618215, -11.098925746401692, -12.771870011796683, -13.014100939130564, -11.30824863947166, -10.69011463558419, -11.804236783467637, -11.819092962755489, -12.209836005911676, -12.025072474783196, -12.865102724368485, -13.41185042758949, -13.603903864076267, -13.18730531246155, -12.973529905348821, -14.742676785651007, -15.029331460944103, -13.830680422579489, -14.86841647574916, -16.802152331954705, -14.621481355905253, -14.661305937800105, -14.515690337096453, -14.590876174950951, -12.147310600913263, -9.529113362260667, -8.261684221974896, -7.651146368576259, -7.766322630950659, -7.98983513386136, -5.72422795458116, -5.30667816400375, -5.701478140241028, -5.470470635555021, -5.901864109150294, -5.857571970487069, -7.7073405212827515, -7.908495459669848, -8.072304317430604, -9.425148987511903, -10.799759359354407, -11.164150641610002, -9.407581441798797, -9.020272199299644, -9.186677697618014, -9.453020738239394, -9.075864427037509, -9.8447450152549], [-1.0941751258189, -1.6398565983853923, -0.3097459127089046, 0.2568652779629397, 0.6822943534761479, 0.5404638844671197, 0.5479361923860127, 0.7279049825639428, 2.4348186728796533, 0.45586485657322817, -0.3368797975019673, 1.4011151291094113, 2.5429516148439824, 2.526515062983038, 2.9407863225884663, 3.539944548760316, 3.0997369390314176, 2.1392920795740706, 2.463940446336639, 1.9914462597599756, 3.57839603607095, 4.7528968993035985, 3.315080058012094, 3.1270007889556264, 3.4252817203394317, 3.7786166907472225, 3.4724019419452983, 5.329829430114989, 5.514728560824847, 5.137782249783837, 5.637976874502041, 6.318607413792849, 6.051635425211821, 5.159891576657999, 5.760170491309222, 7.152794387404979, 7.926855237239302, 8.38992695770623, 8.00856718334012, 7.25337511393975, 8.31493908272574, 7.645101925231108, 7.499990157781299, 6.217522902511577, 6.1373377053420715, 5.877125694475353, 4.367217160938573, 3.595801970127563, 2.911361858315897, 4.117939105223753, 5.357554089067348, 4.727916543660479, 6.286761477362538, 6.35724721473352, 8.687105545591272, 9.559671810970059, 9.470510850153005, 9.991706213903216, 10.249246046886732, 11.222961111842855, 12.546478102796264, 13.11194797797581, 11.624145543588952, 8.680869494700676, 8.60746540812565, 8.781804048143858, 8.99198843202463, 8.685907689830797, 7.588785103149131, 7.629267073433976, 7.804107538478641, 8.344014515230839, 8.666300731489182, 9.269896534670274, 8.728528949779365, 8.056663013476358, 7.163467332365721, 7.930081955061301, 8.76695390237712, 6.9340133784721605, 6.732997119040566, 6.799595830933435, 5.457004218942103, 6.91708213976084, 8.097749314922186, 10.258184128740826, 10.977073824173095, 10.938144194373356, 12.262148025783633, 12.542948813926058, 12.108022825195025, 12.053694186173844, 11.60701152332701, 10.558950588201805, 9.294838090594412, 8.63151488006503, 8.072455601862519, 8.559325621260857, 9.659396494184433, 9.34543167047276]]}],                        {\"legend\": {\"bgcolor\": \"#F5F6F9\", \"font\": {\"color\": \"#4D5663\"}}, \"paper_bgcolor\": \"#F5F6F9\", \"plot_bgcolor\": \"#F5F6F9\", \"template\": {\"data\": {\"bar\": [{\"error_x\": {\"color\": \"#2a3f5f\"}, \"error_y\": {\"color\": \"#2a3f5f\"}, \"marker\": {\"line\": {\"color\": \"#E5ECF6\", \"width\": 0.5}}, \"type\": \"bar\"}], \"barpolar\": [{\"marker\": {\"line\": {\"color\": \"#E5ECF6\", \"width\": 0.5}}, \"type\": \"barpolar\"}], \"carpet\": [{\"aaxis\": {\"endlinecolor\": \"#2a3f5f\", \"gridcolor\": \"white\", \"linecolor\": \"white\", \"minorgridcolor\": \"white\", \"startlinecolor\": \"#2a3f5f\"}, \"baxis\": {\"endlinecolor\": \"#2a3f5f\", \"gridcolor\": \"white\", \"linecolor\": \"white\", \"minorgridcolor\": \"white\", \"startlinecolor\": \"#2a3f5f\"}, \"type\": \"carpet\"}], \"choropleth\": [{\"colorbar\": {\"outlinewidth\": 0, \"ticks\": \"\"}, \"type\": \"choropleth\"}], \"contour\": [{\"colorbar\": {\"outlinewidth\": 0, \"ticks\": \"\"}, \"colorscale\": [[0.0, \"#0d0887\"], [0.1111111111111111, \"#46039f\"], [0.2222222222222222, \"#7201a8\"], [0.3333333333333333, \"#9c179e\"], [0.4444444444444444, \"#bd3786\"], [0.5555555555555556, \"#d8576b\"], [0.6666666666666666, \"#ed7953\"], [0.7777777777777778, \"#fb9f3a\"], [0.8888888888888888, \"#fdca26\"], [1.0, \"#f0f921\"]], \"type\": \"contour\"}], \"contourcarpet\": [{\"colorbar\": {\"outlinewidth\": 0, \"ticks\": \"\"}, \"type\": \"contourcarpet\"}], \"heatmap\": [{\"colorbar\": {\"outlinewidth\": 0, \"ticks\": \"\"}, \"colorscale\": [[0.0, \"#0d0887\"], [0.1111111111111111, \"#46039f\"], [0.2222222222222222, \"#7201a8\"], [0.3333333333333333, \"#9c179e\"], [0.4444444444444444, \"#bd3786\"], [0.5555555555555556, \"#d8576b\"], [0.6666666666666666, \"#ed7953\"], [0.7777777777777778, \"#fb9f3a\"], [0.8888888888888888, \"#fdca26\"], [1.0, \"#f0f921\"]], \"type\": \"heatmap\"}], \"heatmapgl\": [{\"colorbar\": {\"outlinewidth\": 0, \"ticks\": \"\"}, \"colorscale\": [[0.0, \"#0d0887\"], [0.1111111111111111, \"#46039f\"], [0.2222222222222222, \"#7201a8\"], [0.3333333333333333, \"#9c179e\"], [0.4444444444444444, \"#bd3786\"], [0.5555555555555556, \"#d8576b\"], [0.6666666666666666, \"#ed7953\"], [0.7777777777777778, \"#fb9f3a\"], [0.8888888888888888, \"#fdca26\"], [1.0, \"#f0f921\"]], \"type\": \"heatmapgl\"}], \"histogram\": [{\"marker\": {\"colorbar\": {\"outlinewidth\": 0, \"ticks\": \"\"}}, \"type\": \"histogram\"}], \"histogram2d\": [{\"colorbar\": {\"outlinewidth\": 0, \"ticks\": \"\"}, \"colorscale\": [[0.0, \"#0d0887\"], [0.1111111111111111, \"#46039f\"], [0.2222222222222222, \"#7201a8\"], [0.3333333333333333, \"#9c179e\"], [0.4444444444444444, \"#bd3786\"], [0.5555555555555556, \"#d8576b\"], [0.6666666666666666, \"#ed7953\"], [0.7777777777777778, \"#fb9f3a\"], [0.8888888888888888, \"#fdca26\"], [1.0, \"#f0f921\"]], \"type\": \"histogram2d\"}], \"histogram2dcontour\": [{\"colorbar\": {\"outlinewidth\": 0, \"ticks\": \"\"}, \"colorscale\": [[0.0, \"#0d0887\"], [0.1111111111111111, \"#46039f\"], [0.2222222222222222, \"#7201a8\"], [0.3333333333333333, \"#9c179e\"], [0.4444444444444444, \"#bd3786\"], [0.5555555555555556, \"#d8576b\"], [0.6666666666666666, \"#ed7953\"], [0.7777777777777778, \"#fb9f3a\"], [0.8888888888888888, \"#fdca26\"], [1.0, \"#f0f921\"]], \"type\": \"histogram2dcontour\"}], \"mesh3d\": [{\"colorbar\": {\"outlinewidth\": 0, \"ticks\": \"\"}, \"type\": \"mesh3d\"}], \"parcoords\": [{\"line\": {\"colorbar\": {\"outlinewidth\": 0, \"ticks\": \"\"}}, \"type\": \"parcoords\"}], \"pie\": [{\"automargin\": true, \"type\": \"pie\"}], \"scatter\": [{\"marker\": {\"colorbar\": {\"outlinewidth\": 0, \"ticks\": \"\"}}, \"type\": \"scatter\"}], \"scatter3d\": [{\"line\": {\"colorbar\": {\"outlinewidth\": 0, \"ticks\": \"\"}}, \"marker\": {\"colorbar\": {\"outlinewidth\": 0, \"ticks\": \"\"}}, \"type\": \"scatter3d\"}], \"scattercarpet\": [{\"marker\": {\"colorbar\": {\"outlinewidth\": 0, \"ticks\": \"\"}}, \"type\": \"scattercarpet\"}], \"scattergeo\": [{\"marker\": {\"colorbar\": {\"outlinewidth\": 0, \"ticks\": \"\"}}, \"type\": \"scattergeo\"}], \"scattergl\": [{\"marker\": {\"colorbar\": {\"outlinewidth\": 0, \"ticks\": \"\"}}, \"type\": \"scattergl\"}], \"scattermapbox\": [{\"marker\": {\"colorbar\": {\"outlinewidth\": 0, \"ticks\": \"\"}}, \"type\": \"scattermapbox\"}], \"scatterpolar\": [{\"marker\": {\"colorbar\": {\"outlinewidth\": 0, \"ticks\": \"\"}}, \"type\": \"scatterpolar\"}], \"scatterpolargl\": [{\"marker\": {\"colorbar\": {\"outlinewidth\": 0, \"ticks\": \"\"}}, \"type\": \"scatterpolargl\"}], \"scatterternary\": [{\"marker\": {\"colorbar\": {\"outlinewidth\": 0, \"ticks\": \"\"}}, \"type\": \"scatterternary\"}], \"surface\": [{\"colorbar\": {\"outlinewidth\": 0, \"ticks\": \"\"}, \"colorscale\": [[0.0, \"#0d0887\"], [0.1111111111111111, \"#46039f\"], [0.2222222222222222, \"#7201a8\"], [0.3333333333333333, \"#9c179e\"], [0.4444444444444444, \"#bd3786\"], [0.5555555555555556, \"#d8576b\"], [0.6666666666666666, \"#ed7953\"], [0.7777777777777778, \"#fb9f3a\"], [0.8888888888888888, \"#fdca26\"], [1.0, \"#f0f921\"]], \"type\": \"surface\"}], \"table\": [{\"cells\": {\"fill\": {\"color\": \"#EBF0F8\"}, \"line\": {\"color\": \"white\"}}, \"header\": {\"fill\": {\"color\": \"#C8D4E3\"}, \"line\": {\"color\": \"white\"}}, \"type\": \"table\"}]}, \"layout\": {\"annotationdefaults\": {\"arrowcolor\": \"#2a3f5f\", \"arrowhead\": 0, \"arrowwidth\": 1}, \"autotypenumbers\": \"strict\", \"coloraxis\": {\"colorbar\": {\"outlinewidth\": 0, \"ticks\": \"\"}}, \"colorscale\": {\"diverging\": [[0, \"#8e0152\"], [0.1, \"#c51b7d\"], [0.2, \"#de77ae\"], [0.3, \"#f1b6da\"], [0.4, \"#fde0ef\"], [0.5, \"#f7f7f7\"], [0.6, \"#e6f5d0\"], [0.7, \"#b8e186\"], [0.8, \"#7fbc41\"], [0.9, \"#4d9221\"], [1, \"#276419\"]], \"sequential\": [[0.0, \"#0d0887\"], [0.1111111111111111, \"#46039f\"], [0.2222222222222222, \"#7201a8\"], [0.3333333333333333, \"#9c179e\"], [0.4444444444444444, \"#bd3786\"], [0.5555555555555556, \"#d8576b\"], [0.6666666666666666, \"#ed7953\"], [0.7777777777777778, \"#fb9f3a\"], [0.8888888888888888, \"#fdca26\"], [1.0, \"#f0f921\"]], \"sequentialminus\": [[0.0, \"#0d0887\"], [0.1111111111111111, \"#46039f\"], [0.2222222222222222, \"#7201a8\"], [0.3333333333333333, \"#9c179e\"], [0.4444444444444444, \"#bd3786\"], [0.5555555555555556, \"#d8576b\"], [0.6666666666666666, \"#ed7953\"], [0.7777777777777778, \"#fb9f3a\"], [0.8888888888888888, \"#fdca26\"], [1.0, \"#f0f921\"]]}, \"colorway\": [\"#636efa\", \"#EF553B\", \"#00cc96\", \"#ab63fa\", \"#FFA15A\", \"#19d3f3\", \"#FF6692\", \"#B6E880\", \"#FF97FF\", \"#FECB52\"], \"font\": {\"color\": \"#2a3f5f\"}, \"geo\": {\"bgcolor\": \"white\", \"lakecolor\": \"white\", \"landcolor\": \"#E5ECF6\", \"showlakes\": true, \"showland\": true, \"subunitcolor\": \"white\"}, \"hoverlabel\": {\"align\": \"left\"}, \"hovermode\": \"closest\", \"mapbox\": {\"style\": \"light\"}, \"paper_bgcolor\": \"white\", \"plot_bgcolor\": \"#E5ECF6\", \"polar\": {\"angularaxis\": {\"gridcolor\": \"white\", \"linecolor\": \"white\", \"ticks\": \"\"}, \"bgcolor\": \"#E5ECF6\", \"radialaxis\": {\"gridcolor\": \"white\", \"linecolor\": \"white\", \"ticks\": \"\"}}, \"scene\": {\"xaxis\": {\"backgroundcolor\": \"#E5ECF6\", \"gridcolor\": \"white\", \"gridwidth\": 2, \"linecolor\": \"white\", \"showbackground\": true, \"ticks\": \"\", \"zerolinecolor\": \"white\"}, \"yaxis\": {\"backgroundcolor\": \"#E5ECF6\", \"gridcolor\": \"white\", \"gridwidth\": 2, \"linecolor\": \"white\", \"showbackground\": true, \"ticks\": \"\", \"zerolinecolor\": \"white\"}, \"zaxis\": {\"backgroundcolor\": \"#E5ECF6\", \"gridcolor\": \"white\", \"gridwidth\": 2, \"linecolor\": \"white\", \"showbackground\": true, \"ticks\": \"\", \"zerolinecolor\": \"white\"}}, \"shapedefaults\": {\"line\": {\"color\": \"#2a3f5f\"}}, \"ternary\": {\"aaxis\": {\"gridcolor\": \"white\", \"linecolor\": \"white\", \"ticks\": \"\"}, \"baxis\": {\"gridcolor\": \"white\", \"linecolor\": \"white\", \"ticks\": \"\"}, \"bgcolor\": \"#E5ECF6\", \"caxis\": {\"gridcolor\": \"white\", \"linecolor\": \"white\", \"ticks\": \"\"}}, \"title\": {\"x\": 0.05}, \"xaxis\": {\"automargin\": true, \"gridcolor\": \"white\", \"linecolor\": \"white\", \"ticks\": \"\", \"title\": {\"standoff\": 15}, \"zerolinecolor\": \"white\", \"zerolinewidth\": 2}, \"yaxis\": {\"automargin\": true, \"gridcolor\": \"white\", \"linecolor\": \"white\", \"ticks\": \"\", \"title\": {\"standoff\": 15}, \"zerolinecolor\": \"white\", \"zerolinewidth\": 2}}}, \"title\": {\"font\": {\"color\": \"#4D5663\"}}, \"xaxis\": {\"gridcolor\": \"#E1E5ED\", \"showgrid\": true, \"tickfont\": {\"color\": \"#4D5663\"}, \"title\": {\"font\": {\"color\": \"#4D5663\"}, \"text\": \"\"}, \"zerolinecolor\": \"#E1E5ED\"}, \"yaxis\": {\"gridcolor\": \"#E1E5ED\", \"showgrid\": true, \"tickfont\": {\"color\": \"#4D5663\"}, \"title\": {\"font\": {\"color\": \"#4D5663\"}, \"text\": \"\"}, \"zerolinecolor\": \"#E1E5ED\"}},                        {\"showLink\": true, \"linkText\": \"Export to plot.ly\", \"plotlyServerURL\": \"https://plot.ly\", \"responsive\": true}                    ).then(function(){\n",
       "                            \n",
       "var gd = document.getElementById('28e93d53-5c4d-45ca-84d9-b32f8a890d82');\n",
       "var x = new MutationObserver(function (mutations, observer) {{\n",
       "        var display = window.getComputedStyle(gd).display;\n",
       "        if (!display || display === 'none') {{\n",
       "            console.log([gd, 'removed!']);\n",
       "            Plotly.purge(gd);\n",
       "            observer.disconnect();\n",
       "        }}\n",
       "}});\n",
       "\n",
       "// Listen for the removal of the full notebook cells\n",
       "var notebookContainer = gd.closest('#notebook-container');\n",
       "if (notebookContainer) {{\n",
       "    x.observe(notebookContainer, {childList: true});\n",
       "}}\n",
       "\n",
       "// Listen for the clearing of the current output cell\n",
       "var outputEl = gd.closest('.output');\n",
       "if (outputEl) {{\n",
       "    x.observe(outputEl, {childList: true});\n",
       "}}\n",
       "\n",
       "                        })                };                });            </script>        </div>"
      ]
     },
     "metadata": {},
     "output_type": "display_data"
    }
   ],
   "source": [
    "df.iplot(kind = 'surface')"
   ]
  },
  {
   "cell_type": "code",
   "execution_count": 13,
   "metadata": {},
   "outputs": [
    {
     "data": {
      "application/vnd.plotly.v1+json": {
       "config": {
        "linkText": "Export to plot.ly",
        "plotlyServerURL": "https://plot.ly",
        "showLink": true
       },
       "data": [
        {
         "colorscale": [
          [
           0,
           "rgb(165,0,38)"
          ],
          [
           0.1,
           "rgb(215,48,39)"
          ],
          [
           0.2,
           "rgb(244,109,67)"
          ],
          [
           0.3,
           "rgb(253,174,97)"
          ],
          [
           0.4,
           "rgb(254,224,144)"
          ],
          [
           0.5,
           "rgb(255,255,191)"
          ],
          [
           0.6,
           "rgb(224,243,248)"
          ],
          [
           0.7,
           "rgb(171,217,233)"
          ],
          [
           0.8,
           "rgb(116,173,209)"
          ],
          [
           0.9,
           "rgb(69,117,180)"
          ],
          [
           1,
           "rgb(49,54,149)"
          ]
         ],
         "type": "surface",
         "x": [
          0,
          1,
          2,
          3,
          4,
          5,
          6,
          7,
          8,
          9,
          10,
          11,
          12,
          13,
          14,
          15,
          16,
          17,
          18,
          19,
          20,
          21,
          22,
          23,
          24,
          25,
          26,
          27,
          28,
          29,
          30,
          31,
          32,
          33,
          34,
          35,
          36,
          37,
          38,
          39,
          40,
          41,
          42,
          43,
          44,
          45,
          46,
          47,
          48,
          49,
          50,
          51,
          52,
          53,
          54,
          55,
          56,
          57,
          58,
          59,
          60,
          61,
          62,
          63,
          64,
          65,
          66,
          67,
          68,
          69,
          70,
          71,
          72,
          73,
          74,
          75,
          76,
          77,
          78,
          79,
          80,
          81,
          82,
          83,
          84,
          85,
          86,
          87,
          88,
          89,
          90,
          91,
          92,
          93,
          94,
          95,
          96,
          97,
          98,
          99
         ],
         "y": [
          "A",
          "B",
          "C"
         ],
         "z": [
          [
           1.542980023140264,
           2.9121126238920843,
           2.454011953506909,
           0.908765453053461,
           1.4574101908432255,
           0.8303761640783085,
           0.7246273230580064,
           0.021672733436725267,
           1.3183372613934017,
           3.021938791328341,
           3.9647420315128565,
           3.6204699558480744,
           2.377368028184148,
           1.4006547723027196,
           0.41543286350584385,
           0.17038131170370602,
           0.6157163548733092,
           1.3323688636109412,
           1.3729260852351268,
           1.291341116641915,
           1.6925624117642668,
           1.820793030505737,
           -0.04888742642313626,
           -0.7322354696436995,
           0.7944202729613861,
           1.1810340292176587,
           0.7341149545905505,
           -0.2568553174252042,
           0.257314681153747,
           0.3414239991158074,
           1.8196734128565466,
           1.862236085325661,
           2.045849260259886,
           2.2085329039253816,
           2.3077156034037736,
           1.6354908388021943,
           1.0527453631924613,
           0.920076958601937,
           1.3797149474571184,
           0.41107253237159647,
           -1.081927103709963,
           -0.4094994800927654,
           1.127829763386621,
           1.8513891703312142,
           2.442071282302379,
           1.3580030844882387,
           2.443179464429334,
           1.9645403377444788,
           0.5295906964769015,
           1.4854484804442025,
           2.240398644146764,
           2.8350099991697126,
           2.908485764565109,
           3.0103489767920273,
           2.2703273860224717,
           1.6984972634058184,
           0.5695995676780039,
           1.2426341472445246,
           1.5087745594666107,
           2.6901866849875065,
           2.8436035842337697,
           1.7613750611424834,
           1.68549480744684,
           1.5762578535345844,
           3.3453879083393607,
           1.3910423120753033,
           1.1595448890776459,
           2.2319100206928786,
           3.2864129965684805,
           4.380875505443746,
           2.5808091129699013,
           4.017932205662488,
           4.676409433852359,
           5.497325333446527,
           5.358899042724595,
           4.238730210679977,
           2.987683855526822,
           5.14357406625513,
           6.070329747377492,
           7.872781768177811,
           8.17345792752811,
           8.976463264038737,
           7.990501905346166,
           8.726355380893503,
           8.784380406517345,
           9.826117342394497,
           10.690324863750199,
           10.487710712551877,
           11.765649169468062,
           10.652957601822967,
           11.303490142284323,
           11.982131717828743,
           10.733449574507839,
           11.23601181417773,
           12.730544951216954,
           12.713345198310188,
           11.242814210173176,
           9.689518786199336,
           9.558080842828387,
           10.076733977606022
          ],
          [
           -0.4428811762864958,
           0.29822345369864034,
           -0.5952288386378094,
           -2.034507695687309,
           -3.729295511297281,
           -4.258224937656923,
           -5.108507322724925,
           -5.4565589982759555,
           -5.627025146863357,
           -5.2712403185261145,
           -5.083124300772727,
           -5.953289945621008,
           -6.429939414374769,
           -6.778040755495077,
           -7.94020122168813,
           -7.801588263236083,
           -5.0899971411334395,
           -4.959070674394502,
           -5.84128118914688,
           -5.211620320031509,
           -5.741425182427913,
           -5.76158314114148,
           -6.899845909788783,
           -9.12220734855009,
           -10.028710020246836,
           -10.244160572875261,
           -9.058257730538717,
           -10.236744309939356,
           -8.059668699547988,
           -7.809162986620623,
           -7.045415487020248,
           -7.112055457896206,
           -7.838750037258132,
           -7.9505241045272825,
           -7.860791100515085,
           -6.542062034854261,
           -6.5239263167106465,
           -4.971458833309432,
           -6.85909597542967,
           -6.910032398354851,
           -6.4687513139683706,
           -9.351094552508306,
           -8.331624194489072,
           -7.876512881657529,
           -9.306162026027787,
           -9.038441543413084,
           -9.719991880275755,
           -10.415222935689002,
           -9.30613756259337,
           -8.705829215021488,
           -9.793866079447131,
           -9.984818160221486,
           -9.362596752618215,
           -11.098925746401692,
           -12.771870011796683,
           -13.014100939130564,
           -11.30824863947166,
           -10.69011463558419,
           -11.804236783467637,
           -11.819092962755489,
           -12.209836005911676,
           -12.025072474783196,
           -12.865102724368485,
           -13.41185042758949,
           -13.603903864076267,
           -13.18730531246155,
           -12.973529905348821,
           -14.742676785651007,
           -15.029331460944103,
           -13.830680422579489,
           -14.86841647574916,
           -16.802152331954705,
           -14.621481355905253,
           -14.661305937800105,
           -14.515690337096453,
           -14.590876174950951,
           -12.147310600913263,
           -9.529113362260667,
           -8.261684221974896,
           -7.651146368576259,
           -7.766322630950659,
           -7.98983513386136,
           -5.72422795458116,
           -5.30667816400375,
           -5.701478140241028,
           -5.470470635555021,
           -5.901864109150294,
           -5.857571970487069,
           -7.7073405212827515,
           -7.908495459669848,
           -8.072304317430604,
           -9.425148987511903,
           -10.799759359354407,
           -11.164150641610002,
           -9.407581441798797,
           -9.020272199299644,
           -9.186677697618014,
           -9.453020738239394,
           -9.075864427037509,
           -9.8447450152549
          ],
          [
           -1.0941751258189,
           -1.6398565983853923,
           -0.3097459127089046,
           0.2568652779629397,
           0.6822943534761479,
           0.5404638844671197,
           0.5479361923860127,
           0.7279049825639428,
           2.4348186728796533,
           0.45586485657322817,
           -0.3368797975019673,
           1.4011151291094113,
           2.5429516148439824,
           2.526515062983038,
           2.9407863225884663,
           3.539944548760316,
           3.0997369390314176,
           2.1392920795740706,
           2.463940446336639,
           1.9914462597599756,
           3.57839603607095,
           4.7528968993035985,
           3.315080058012094,
           3.1270007889556264,
           3.4252817203394317,
           3.7786166907472225,
           3.4724019419452983,
           5.329829430114989,
           5.514728560824847,
           5.137782249783837,
           5.637976874502041,
           6.318607413792849,
           6.051635425211821,
           5.159891576657999,
           5.760170491309222,
           7.152794387404979,
           7.926855237239302,
           8.38992695770623,
           8.00856718334012,
           7.25337511393975,
           8.31493908272574,
           7.645101925231108,
           7.499990157781299,
           6.217522902511577,
           6.1373377053420715,
           5.877125694475353,
           4.367217160938573,
           3.595801970127563,
           2.911361858315897,
           4.117939105223753,
           5.357554089067348,
           4.727916543660479,
           6.286761477362538,
           6.35724721473352,
           8.687105545591272,
           9.559671810970059,
           9.470510850153005,
           9.991706213903216,
           10.249246046886732,
           11.222961111842855,
           12.546478102796264,
           13.11194797797581,
           11.624145543588952,
           8.680869494700676,
           8.60746540812565,
           8.781804048143858,
           8.99198843202463,
           8.685907689830797,
           7.588785103149131,
           7.629267073433976,
           7.804107538478641,
           8.344014515230839,
           8.666300731489182,
           9.269896534670274,
           8.728528949779365,
           8.056663013476358,
           7.163467332365721,
           7.930081955061301,
           8.76695390237712,
           6.9340133784721605,
           6.732997119040566,
           6.799595830933435,
           5.457004218942103,
           6.91708213976084,
           8.097749314922186,
           10.258184128740826,
           10.977073824173095,
           10.938144194373356,
           12.262148025783633,
           12.542948813926058,
           12.108022825195025,
           12.053694186173844,
           11.60701152332701,
           10.558950588201805,
           9.294838090594412,
           8.63151488006503,
           8.072455601862519,
           8.559325621260857,
           9.659396494184433,
           9.34543167047276
          ]
         ]
        }
       ],
       "layout": {
        "legend": {
         "bgcolor": "#F5F6F9",
         "font": {
          "color": "#4D5663"
         }
        },
        "paper_bgcolor": "#F5F6F9",
        "plot_bgcolor": "#F5F6F9",
        "template": {
         "data": {
          "bar": [
           {
            "error_x": {
             "color": "#2a3f5f"
            },
            "error_y": {
             "color": "#2a3f5f"
            },
            "marker": {
             "line": {
              "color": "#E5ECF6",
              "width": 0.5
             }
            },
            "type": "bar"
           }
          ],
          "barpolar": [
           {
            "marker": {
             "line": {
              "color": "#E5ECF6",
              "width": 0.5
             }
            },
            "type": "barpolar"
           }
          ],
          "carpet": [
           {
            "aaxis": {
             "endlinecolor": "#2a3f5f",
             "gridcolor": "white",
             "linecolor": "white",
             "minorgridcolor": "white",
             "startlinecolor": "#2a3f5f"
            },
            "baxis": {
             "endlinecolor": "#2a3f5f",
             "gridcolor": "white",
             "linecolor": "white",
             "minorgridcolor": "white",
             "startlinecolor": "#2a3f5f"
            },
            "type": "carpet"
           }
          ],
          "choropleth": [
           {
            "colorbar": {
             "outlinewidth": 0,
             "ticks": ""
            },
            "type": "choropleth"
           }
          ],
          "contour": [
           {
            "colorbar": {
             "outlinewidth": 0,
             "ticks": ""
            },
            "colorscale": [
             [
              0,
              "#0d0887"
             ],
             [
              0.1111111111111111,
              "#46039f"
             ],
             [
              0.2222222222222222,
              "#7201a8"
             ],
             [
              0.3333333333333333,
              "#9c179e"
             ],
             [
              0.4444444444444444,
              "#bd3786"
             ],
             [
              0.5555555555555556,
              "#d8576b"
             ],
             [
              0.6666666666666666,
              "#ed7953"
             ],
             [
              0.7777777777777778,
              "#fb9f3a"
             ],
             [
              0.8888888888888888,
              "#fdca26"
             ],
             [
              1,
              "#f0f921"
             ]
            ],
            "type": "contour"
           }
          ],
          "contourcarpet": [
           {
            "colorbar": {
             "outlinewidth": 0,
             "ticks": ""
            },
            "type": "contourcarpet"
           }
          ],
          "heatmap": [
           {
            "colorbar": {
             "outlinewidth": 0,
             "ticks": ""
            },
            "colorscale": [
             [
              0,
              "#0d0887"
             ],
             [
              0.1111111111111111,
              "#46039f"
             ],
             [
              0.2222222222222222,
              "#7201a8"
             ],
             [
              0.3333333333333333,
              "#9c179e"
             ],
             [
              0.4444444444444444,
              "#bd3786"
             ],
             [
              0.5555555555555556,
              "#d8576b"
             ],
             [
              0.6666666666666666,
              "#ed7953"
             ],
             [
              0.7777777777777778,
              "#fb9f3a"
             ],
             [
              0.8888888888888888,
              "#fdca26"
             ],
             [
              1,
              "#f0f921"
             ]
            ],
            "type": "heatmap"
           }
          ],
          "heatmapgl": [
           {
            "colorbar": {
             "outlinewidth": 0,
             "ticks": ""
            },
            "colorscale": [
             [
              0,
              "#0d0887"
             ],
             [
              0.1111111111111111,
              "#46039f"
             ],
             [
              0.2222222222222222,
              "#7201a8"
             ],
             [
              0.3333333333333333,
              "#9c179e"
             ],
             [
              0.4444444444444444,
              "#bd3786"
             ],
             [
              0.5555555555555556,
              "#d8576b"
             ],
             [
              0.6666666666666666,
              "#ed7953"
             ],
             [
              0.7777777777777778,
              "#fb9f3a"
             ],
             [
              0.8888888888888888,
              "#fdca26"
             ],
             [
              1,
              "#f0f921"
             ]
            ],
            "type": "heatmapgl"
           }
          ],
          "histogram": [
           {
            "marker": {
             "colorbar": {
              "outlinewidth": 0,
              "ticks": ""
             }
            },
            "type": "histogram"
           }
          ],
          "histogram2d": [
           {
            "colorbar": {
             "outlinewidth": 0,
             "ticks": ""
            },
            "colorscale": [
             [
              0,
              "#0d0887"
             ],
             [
              0.1111111111111111,
              "#46039f"
             ],
             [
              0.2222222222222222,
              "#7201a8"
             ],
             [
              0.3333333333333333,
              "#9c179e"
             ],
             [
              0.4444444444444444,
              "#bd3786"
             ],
             [
              0.5555555555555556,
              "#d8576b"
             ],
             [
              0.6666666666666666,
              "#ed7953"
             ],
             [
              0.7777777777777778,
              "#fb9f3a"
             ],
             [
              0.8888888888888888,
              "#fdca26"
             ],
             [
              1,
              "#f0f921"
             ]
            ],
            "type": "histogram2d"
           }
          ],
          "histogram2dcontour": [
           {
            "colorbar": {
             "outlinewidth": 0,
             "ticks": ""
            },
            "colorscale": [
             [
              0,
              "#0d0887"
             ],
             [
              0.1111111111111111,
              "#46039f"
             ],
             [
              0.2222222222222222,
              "#7201a8"
             ],
             [
              0.3333333333333333,
              "#9c179e"
             ],
             [
              0.4444444444444444,
              "#bd3786"
             ],
             [
              0.5555555555555556,
              "#d8576b"
             ],
             [
              0.6666666666666666,
              "#ed7953"
             ],
             [
              0.7777777777777778,
              "#fb9f3a"
             ],
             [
              0.8888888888888888,
              "#fdca26"
             ],
             [
              1,
              "#f0f921"
             ]
            ],
            "type": "histogram2dcontour"
           }
          ],
          "mesh3d": [
           {
            "colorbar": {
             "outlinewidth": 0,
             "ticks": ""
            },
            "type": "mesh3d"
           }
          ],
          "parcoords": [
           {
            "line": {
             "colorbar": {
              "outlinewidth": 0,
              "ticks": ""
             }
            },
            "type": "parcoords"
           }
          ],
          "pie": [
           {
            "automargin": true,
            "type": "pie"
           }
          ],
          "scatter": [
           {
            "marker": {
             "colorbar": {
              "outlinewidth": 0,
              "ticks": ""
             }
            },
            "type": "scatter"
           }
          ],
          "scatter3d": [
           {
            "line": {
             "colorbar": {
              "outlinewidth": 0,
              "ticks": ""
             }
            },
            "marker": {
             "colorbar": {
              "outlinewidth": 0,
              "ticks": ""
             }
            },
            "type": "scatter3d"
           }
          ],
          "scattercarpet": [
           {
            "marker": {
             "colorbar": {
              "outlinewidth": 0,
              "ticks": ""
             }
            },
            "type": "scattercarpet"
           }
          ],
          "scattergeo": [
           {
            "marker": {
             "colorbar": {
              "outlinewidth": 0,
              "ticks": ""
             }
            },
            "type": "scattergeo"
           }
          ],
          "scattergl": [
           {
            "marker": {
             "colorbar": {
              "outlinewidth": 0,
              "ticks": ""
             }
            },
            "type": "scattergl"
           }
          ],
          "scattermapbox": [
           {
            "marker": {
             "colorbar": {
              "outlinewidth": 0,
              "ticks": ""
             }
            },
            "type": "scattermapbox"
           }
          ],
          "scatterpolar": [
           {
            "marker": {
             "colorbar": {
              "outlinewidth": 0,
              "ticks": ""
             }
            },
            "type": "scatterpolar"
           }
          ],
          "scatterpolargl": [
           {
            "marker": {
             "colorbar": {
              "outlinewidth": 0,
              "ticks": ""
             }
            },
            "type": "scatterpolargl"
           }
          ],
          "scatterternary": [
           {
            "marker": {
             "colorbar": {
              "outlinewidth": 0,
              "ticks": ""
             }
            },
            "type": "scatterternary"
           }
          ],
          "surface": [
           {
            "colorbar": {
             "outlinewidth": 0,
             "ticks": ""
            },
            "colorscale": [
             [
              0,
              "#0d0887"
             ],
             [
              0.1111111111111111,
              "#46039f"
             ],
             [
              0.2222222222222222,
              "#7201a8"
             ],
             [
              0.3333333333333333,
              "#9c179e"
             ],
             [
              0.4444444444444444,
              "#bd3786"
             ],
             [
              0.5555555555555556,
              "#d8576b"
             ],
             [
              0.6666666666666666,
              "#ed7953"
             ],
             [
              0.7777777777777778,
              "#fb9f3a"
             ],
             [
              0.8888888888888888,
              "#fdca26"
             ],
             [
              1,
              "#f0f921"
             ]
            ],
            "type": "surface"
           }
          ],
          "table": [
           {
            "cells": {
             "fill": {
              "color": "#EBF0F8"
             },
             "line": {
              "color": "white"
             }
            },
            "header": {
             "fill": {
              "color": "#C8D4E3"
             },
             "line": {
              "color": "white"
             }
            },
            "type": "table"
           }
          ]
         },
         "layout": {
          "annotationdefaults": {
           "arrowcolor": "#2a3f5f",
           "arrowhead": 0,
           "arrowwidth": 1
          },
          "autotypenumbers": "strict",
          "coloraxis": {
           "colorbar": {
            "outlinewidth": 0,
            "ticks": ""
           }
          },
          "colorscale": {
           "diverging": [
            [
             0,
             "#8e0152"
            ],
            [
             0.1,
             "#c51b7d"
            ],
            [
             0.2,
             "#de77ae"
            ],
            [
             0.3,
             "#f1b6da"
            ],
            [
             0.4,
             "#fde0ef"
            ],
            [
             0.5,
             "#f7f7f7"
            ],
            [
             0.6,
             "#e6f5d0"
            ],
            [
             0.7,
             "#b8e186"
            ],
            [
             0.8,
             "#7fbc41"
            ],
            [
             0.9,
             "#4d9221"
            ],
            [
             1,
             "#276419"
            ]
           ],
           "sequential": [
            [
             0,
             "#0d0887"
            ],
            [
             0.1111111111111111,
             "#46039f"
            ],
            [
             0.2222222222222222,
             "#7201a8"
            ],
            [
             0.3333333333333333,
             "#9c179e"
            ],
            [
             0.4444444444444444,
             "#bd3786"
            ],
            [
             0.5555555555555556,
             "#d8576b"
            ],
            [
             0.6666666666666666,
             "#ed7953"
            ],
            [
             0.7777777777777778,
             "#fb9f3a"
            ],
            [
             0.8888888888888888,
             "#fdca26"
            ],
            [
             1,
             "#f0f921"
            ]
           ],
           "sequentialminus": [
            [
             0,
             "#0d0887"
            ],
            [
             0.1111111111111111,
             "#46039f"
            ],
            [
             0.2222222222222222,
             "#7201a8"
            ],
            [
             0.3333333333333333,
             "#9c179e"
            ],
            [
             0.4444444444444444,
             "#bd3786"
            ],
            [
             0.5555555555555556,
             "#d8576b"
            ],
            [
             0.6666666666666666,
             "#ed7953"
            ],
            [
             0.7777777777777778,
             "#fb9f3a"
            ],
            [
             0.8888888888888888,
             "#fdca26"
            ],
            [
             1,
             "#f0f921"
            ]
           ]
          },
          "colorway": [
           "#636efa",
           "#EF553B",
           "#00cc96",
           "#ab63fa",
           "#FFA15A",
           "#19d3f3",
           "#FF6692",
           "#B6E880",
           "#FF97FF",
           "#FECB52"
          ],
          "font": {
           "color": "#2a3f5f"
          },
          "geo": {
           "bgcolor": "white",
           "lakecolor": "white",
           "landcolor": "#E5ECF6",
           "showlakes": true,
           "showland": true,
           "subunitcolor": "white"
          },
          "hoverlabel": {
           "align": "left"
          },
          "hovermode": "closest",
          "mapbox": {
           "style": "light"
          },
          "paper_bgcolor": "white",
          "plot_bgcolor": "#E5ECF6",
          "polar": {
           "angularaxis": {
            "gridcolor": "white",
            "linecolor": "white",
            "ticks": ""
           },
           "bgcolor": "#E5ECF6",
           "radialaxis": {
            "gridcolor": "white",
            "linecolor": "white",
            "ticks": ""
           }
          },
          "scene": {
           "xaxis": {
            "backgroundcolor": "#E5ECF6",
            "gridcolor": "white",
            "gridwidth": 2,
            "linecolor": "white",
            "showbackground": true,
            "ticks": "",
            "zerolinecolor": "white"
           },
           "yaxis": {
            "backgroundcolor": "#E5ECF6",
            "gridcolor": "white",
            "gridwidth": 2,
            "linecolor": "white",
            "showbackground": true,
            "ticks": "",
            "zerolinecolor": "white"
           },
           "zaxis": {
            "backgroundcolor": "#E5ECF6",
            "gridcolor": "white",
            "gridwidth": 2,
            "linecolor": "white",
            "showbackground": true,
            "ticks": "",
            "zerolinecolor": "white"
           }
          },
          "shapedefaults": {
           "line": {
            "color": "#2a3f5f"
           }
          },
          "ternary": {
           "aaxis": {
            "gridcolor": "white",
            "linecolor": "white",
            "ticks": ""
           },
           "baxis": {
            "gridcolor": "white",
            "linecolor": "white",
            "ticks": ""
           },
           "bgcolor": "#E5ECF6",
           "caxis": {
            "gridcolor": "white",
            "linecolor": "white",
            "ticks": ""
           }
          },
          "title": {
           "x": 0.05
          },
          "xaxis": {
           "automargin": true,
           "gridcolor": "white",
           "linecolor": "white",
           "ticks": "",
           "title": {
            "standoff": 15
           },
           "zerolinecolor": "white",
           "zerolinewidth": 2
          },
          "yaxis": {
           "automargin": true,
           "gridcolor": "white",
           "linecolor": "white",
           "ticks": "",
           "title": {
            "standoff": 15
           },
           "zerolinecolor": "white",
           "zerolinewidth": 2
          }
         }
        },
        "title": {
         "font": {
          "color": "#4D5663"
         }
        },
        "xaxis": {
         "gridcolor": "#E1E5ED",
         "showgrid": true,
         "tickfont": {
          "color": "#4D5663"
         },
         "title": {
          "font": {
           "color": "#4D5663"
          },
          "text": ""
         },
         "zerolinecolor": "#E1E5ED"
        },
        "yaxis": {
         "gridcolor": "#E1E5ED",
         "showgrid": true,
         "tickfont": {
          "color": "#4D5663"
         },
         "title": {
          "font": {
           "color": "#4D5663"
          },
          "text": ""
         },
         "zerolinecolor": "#E1E5ED"
        }
       }
      },
      "text/html": [
       "<div>                            <div id=\"b22df0c1-be37-4fe8-af4d-7cdafb20553a\" class=\"plotly-graph-div\" style=\"height:525px; width:100%;\"></div>            <script type=\"text/javascript\">                require([\"plotly\"], function(Plotly) {                    window.PLOTLYENV=window.PLOTLYENV || {};\n",
       "                    window.PLOTLYENV.BASE_URL='https://plot.ly';                                    if (document.getElementById(\"b22df0c1-be37-4fe8-af4d-7cdafb20553a\")) {                    Plotly.newPlot(                        \"b22df0c1-be37-4fe8-af4d-7cdafb20553a\",                        [{\"colorscale\": [[0.0, \"rgb(165,0,38)\"], [0.1, \"rgb(215,48,39)\"], [0.2, \"rgb(244,109,67)\"], [0.3, \"rgb(253,174,97)\"], [0.4, \"rgb(254,224,144)\"], [0.5, \"rgb(255,255,191)\"], [0.6, \"rgb(224,243,248)\"], [0.7, \"rgb(171,217,233)\"], [0.8, \"rgb(116,173,209)\"], [0.9, \"rgb(69,117,180)\"], [1.0, \"rgb(49,54,149)\"]], \"type\": \"surface\", \"x\": [0, 1, 2, 3, 4, 5, 6, 7, 8, 9, 10, 11, 12, 13, 14, 15, 16, 17, 18, 19, 20, 21, 22, 23, 24, 25, 26, 27, 28, 29, 30, 31, 32, 33, 34, 35, 36, 37, 38, 39, 40, 41, 42, 43, 44, 45, 46, 47, 48, 49, 50, 51, 52, 53, 54, 55, 56, 57, 58, 59, 60, 61, 62, 63, 64, 65, 66, 67, 68, 69, 70, 71, 72, 73, 74, 75, 76, 77, 78, 79, 80, 81, 82, 83, 84, 85, 86, 87, 88, 89, 90, 91, 92, 93, 94, 95, 96, 97, 98, 99], \"y\": [\"A\", \"B\", \"C\"], \"z\": [[1.542980023140264, 2.9121126238920843, 2.454011953506909, 0.908765453053461, 1.4574101908432255, 0.8303761640783085, 0.7246273230580064, 0.021672733436725267, 1.3183372613934017, 3.021938791328341, 3.9647420315128565, 3.6204699558480744, 2.377368028184148, 1.4006547723027196, 0.41543286350584385, 0.17038131170370602, 0.6157163548733092, 1.3323688636109412, 1.3729260852351268, 1.291341116641915, 1.6925624117642668, 1.820793030505737, -0.04888742642313626, -0.7322354696436995, 0.7944202729613861, 1.1810340292176587, 0.7341149545905505, -0.2568553174252042, 0.257314681153747, 0.3414239991158074, 1.8196734128565466, 1.862236085325661, 2.045849260259886, 2.2085329039253816, 2.3077156034037736, 1.6354908388021943, 1.0527453631924613, 0.920076958601937, 1.3797149474571184, 0.41107253237159647, -1.081927103709963, -0.4094994800927654, 1.127829763386621, 1.8513891703312142, 2.442071282302379, 1.3580030844882387, 2.443179464429334, 1.9645403377444788, 0.5295906964769015, 1.4854484804442025, 2.240398644146764, 2.8350099991697126, 2.908485764565109, 3.0103489767920273, 2.2703273860224717, 1.6984972634058184, 0.5695995676780039, 1.2426341472445246, 1.5087745594666107, 2.6901866849875065, 2.8436035842337697, 1.7613750611424834, 1.68549480744684, 1.5762578535345844, 3.3453879083393607, 1.3910423120753033, 1.1595448890776459, 2.2319100206928786, 3.2864129965684805, 4.380875505443746, 2.5808091129699013, 4.017932205662488, 4.676409433852359, 5.497325333446527, 5.358899042724595, 4.238730210679977, 2.987683855526822, 5.14357406625513, 6.070329747377492, 7.872781768177811, 8.17345792752811, 8.976463264038737, 7.990501905346166, 8.726355380893503, 8.784380406517345, 9.826117342394497, 10.690324863750199, 10.487710712551877, 11.765649169468062, 10.652957601822967, 11.303490142284323, 11.982131717828743, 10.733449574507839, 11.23601181417773, 12.730544951216954, 12.713345198310188, 11.242814210173176, 9.689518786199336, 9.558080842828387, 10.076733977606022], [-0.4428811762864958, 0.29822345369864034, -0.5952288386378094, -2.034507695687309, -3.729295511297281, -4.258224937656923, -5.108507322724925, -5.4565589982759555, -5.627025146863357, -5.2712403185261145, -5.083124300772727, -5.953289945621008, -6.429939414374769, -6.778040755495077, -7.94020122168813, -7.801588263236083, -5.0899971411334395, -4.959070674394502, -5.84128118914688, -5.211620320031509, -5.741425182427913, -5.76158314114148, -6.899845909788783, -9.12220734855009, -10.028710020246836, -10.244160572875261, -9.058257730538717, -10.236744309939356, -8.059668699547988, -7.809162986620623, -7.045415487020248, -7.112055457896206, -7.838750037258132, -7.9505241045272825, -7.860791100515085, -6.542062034854261, -6.5239263167106465, -4.971458833309432, -6.85909597542967, -6.910032398354851, -6.4687513139683706, -9.351094552508306, -8.331624194489072, -7.876512881657529, -9.306162026027787, -9.038441543413084, -9.719991880275755, -10.415222935689002, -9.30613756259337, -8.705829215021488, -9.793866079447131, -9.984818160221486, -9.362596752618215, -11.098925746401692, -12.771870011796683, -13.014100939130564, -11.30824863947166, -10.69011463558419, -11.804236783467637, -11.819092962755489, -12.209836005911676, -12.025072474783196, -12.865102724368485, -13.41185042758949, -13.603903864076267, -13.18730531246155, -12.973529905348821, -14.742676785651007, -15.029331460944103, -13.830680422579489, -14.86841647574916, -16.802152331954705, -14.621481355905253, -14.661305937800105, -14.515690337096453, -14.590876174950951, -12.147310600913263, -9.529113362260667, -8.261684221974896, -7.651146368576259, -7.766322630950659, -7.98983513386136, -5.72422795458116, -5.30667816400375, -5.701478140241028, -5.470470635555021, -5.901864109150294, -5.857571970487069, -7.7073405212827515, -7.908495459669848, -8.072304317430604, -9.425148987511903, -10.799759359354407, -11.164150641610002, -9.407581441798797, -9.020272199299644, -9.186677697618014, -9.453020738239394, -9.075864427037509, -9.8447450152549], [-1.0941751258189, -1.6398565983853923, -0.3097459127089046, 0.2568652779629397, 0.6822943534761479, 0.5404638844671197, 0.5479361923860127, 0.7279049825639428, 2.4348186728796533, 0.45586485657322817, -0.3368797975019673, 1.4011151291094113, 2.5429516148439824, 2.526515062983038, 2.9407863225884663, 3.539944548760316, 3.0997369390314176, 2.1392920795740706, 2.463940446336639, 1.9914462597599756, 3.57839603607095, 4.7528968993035985, 3.315080058012094, 3.1270007889556264, 3.4252817203394317, 3.7786166907472225, 3.4724019419452983, 5.329829430114989, 5.514728560824847, 5.137782249783837, 5.637976874502041, 6.318607413792849, 6.051635425211821, 5.159891576657999, 5.760170491309222, 7.152794387404979, 7.926855237239302, 8.38992695770623, 8.00856718334012, 7.25337511393975, 8.31493908272574, 7.645101925231108, 7.499990157781299, 6.217522902511577, 6.1373377053420715, 5.877125694475353, 4.367217160938573, 3.595801970127563, 2.911361858315897, 4.117939105223753, 5.357554089067348, 4.727916543660479, 6.286761477362538, 6.35724721473352, 8.687105545591272, 9.559671810970059, 9.470510850153005, 9.991706213903216, 10.249246046886732, 11.222961111842855, 12.546478102796264, 13.11194797797581, 11.624145543588952, 8.680869494700676, 8.60746540812565, 8.781804048143858, 8.99198843202463, 8.685907689830797, 7.588785103149131, 7.629267073433976, 7.804107538478641, 8.344014515230839, 8.666300731489182, 9.269896534670274, 8.728528949779365, 8.056663013476358, 7.163467332365721, 7.930081955061301, 8.76695390237712, 6.9340133784721605, 6.732997119040566, 6.799595830933435, 5.457004218942103, 6.91708213976084, 8.097749314922186, 10.258184128740826, 10.977073824173095, 10.938144194373356, 12.262148025783633, 12.542948813926058, 12.108022825195025, 12.053694186173844, 11.60701152332701, 10.558950588201805, 9.294838090594412, 8.63151488006503, 8.072455601862519, 8.559325621260857, 9.659396494184433, 9.34543167047276]]}],                        {\"legend\": {\"bgcolor\": \"#F5F6F9\", \"font\": {\"color\": \"#4D5663\"}}, \"paper_bgcolor\": \"#F5F6F9\", \"plot_bgcolor\": \"#F5F6F9\", \"template\": {\"data\": {\"bar\": [{\"error_x\": {\"color\": \"#2a3f5f\"}, \"error_y\": {\"color\": \"#2a3f5f\"}, \"marker\": {\"line\": {\"color\": \"#E5ECF6\", \"width\": 0.5}}, \"type\": \"bar\"}], \"barpolar\": [{\"marker\": {\"line\": {\"color\": \"#E5ECF6\", \"width\": 0.5}}, \"type\": \"barpolar\"}], \"carpet\": [{\"aaxis\": {\"endlinecolor\": \"#2a3f5f\", \"gridcolor\": \"white\", \"linecolor\": \"white\", \"minorgridcolor\": \"white\", \"startlinecolor\": \"#2a3f5f\"}, \"baxis\": {\"endlinecolor\": \"#2a3f5f\", \"gridcolor\": \"white\", \"linecolor\": \"white\", \"minorgridcolor\": \"white\", \"startlinecolor\": \"#2a3f5f\"}, \"type\": \"carpet\"}], \"choropleth\": [{\"colorbar\": {\"outlinewidth\": 0, \"ticks\": \"\"}, \"type\": \"choropleth\"}], \"contour\": [{\"colorbar\": {\"outlinewidth\": 0, \"ticks\": \"\"}, \"colorscale\": [[0.0, \"#0d0887\"], [0.1111111111111111, \"#46039f\"], [0.2222222222222222, \"#7201a8\"], [0.3333333333333333, \"#9c179e\"], [0.4444444444444444, \"#bd3786\"], [0.5555555555555556, \"#d8576b\"], [0.6666666666666666, \"#ed7953\"], [0.7777777777777778, \"#fb9f3a\"], [0.8888888888888888, \"#fdca26\"], [1.0, \"#f0f921\"]], \"type\": \"contour\"}], \"contourcarpet\": [{\"colorbar\": {\"outlinewidth\": 0, \"ticks\": \"\"}, \"type\": \"contourcarpet\"}], \"heatmap\": [{\"colorbar\": {\"outlinewidth\": 0, \"ticks\": \"\"}, \"colorscale\": [[0.0, \"#0d0887\"], [0.1111111111111111, \"#46039f\"], [0.2222222222222222, \"#7201a8\"], [0.3333333333333333, \"#9c179e\"], [0.4444444444444444, \"#bd3786\"], [0.5555555555555556, \"#d8576b\"], [0.6666666666666666, \"#ed7953\"], [0.7777777777777778, \"#fb9f3a\"], [0.8888888888888888, \"#fdca26\"], [1.0, \"#f0f921\"]], \"type\": \"heatmap\"}], \"heatmapgl\": [{\"colorbar\": {\"outlinewidth\": 0, \"ticks\": \"\"}, \"colorscale\": [[0.0, \"#0d0887\"], [0.1111111111111111, \"#46039f\"], [0.2222222222222222, \"#7201a8\"], [0.3333333333333333, \"#9c179e\"], [0.4444444444444444, \"#bd3786\"], [0.5555555555555556, \"#d8576b\"], [0.6666666666666666, \"#ed7953\"], [0.7777777777777778, \"#fb9f3a\"], [0.8888888888888888, \"#fdca26\"], [1.0, \"#f0f921\"]], \"type\": \"heatmapgl\"}], \"histogram\": [{\"marker\": {\"colorbar\": {\"outlinewidth\": 0, \"ticks\": \"\"}}, \"type\": \"histogram\"}], \"histogram2d\": [{\"colorbar\": {\"outlinewidth\": 0, \"ticks\": \"\"}, \"colorscale\": [[0.0, \"#0d0887\"], [0.1111111111111111, \"#46039f\"], [0.2222222222222222, \"#7201a8\"], [0.3333333333333333, \"#9c179e\"], [0.4444444444444444, \"#bd3786\"], [0.5555555555555556, \"#d8576b\"], [0.6666666666666666, \"#ed7953\"], [0.7777777777777778, \"#fb9f3a\"], [0.8888888888888888, \"#fdca26\"], [1.0, \"#f0f921\"]], \"type\": \"histogram2d\"}], \"histogram2dcontour\": [{\"colorbar\": {\"outlinewidth\": 0, \"ticks\": \"\"}, \"colorscale\": [[0.0, \"#0d0887\"], [0.1111111111111111, \"#46039f\"], [0.2222222222222222, \"#7201a8\"], [0.3333333333333333, \"#9c179e\"], [0.4444444444444444, \"#bd3786\"], [0.5555555555555556, \"#d8576b\"], [0.6666666666666666, \"#ed7953\"], [0.7777777777777778, \"#fb9f3a\"], [0.8888888888888888, \"#fdca26\"], [1.0, \"#f0f921\"]], \"type\": \"histogram2dcontour\"}], \"mesh3d\": [{\"colorbar\": {\"outlinewidth\": 0, \"ticks\": \"\"}, \"type\": \"mesh3d\"}], \"parcoords\": [{\"line\": {\"colorbar\": {\"outlinewidth\": 0, \"ticks\": \"\"}}, \"type\": \"parcoords\"}], \"pie\": [{\"automargin\": true, \"type\": \"pie\"}], \"scatter\": [{\"marker\": {\"colorbar\": {\"outlinewidth\": 0, \"ticks\": \"\"}}, \"type\": \"scatter\"}], \"scatter3d\": [{\"line\": {\"colorbar\": {\"outlinewidth\": 0, \"ticks\": \"\"}}, \"marker\": {\"colorbar\": {\"outlinewidth\": 0, \"ticks\": \"\"}}, \"type\": \"scatter3d\"}], \"scattercarpet\": [{\"marker\": {\"colorbar\": {\"outlinewidth\": 0, \"ticks\": \"\"}}, \"type\": \"scattercarpet\"}], \"scattergeo\": [{\"marker\": {\"colorbar\": {\"outlinewidth\": 0, \"ticks\": \"\"}}, \"type\": \"scattergeo\"}], \"scattergl\": [{\"marker\": {\"colorbar\": {\"outlinewidth\": 0, \"ticks\": \"\"}}, \"type\": \"scattergl\"}], \"scattermapbox\": [{\"marker\": {\"colorbar\": {\"outlinewidth\": 0, \"ticks\": \"\"}}, \"type\": \"scattermapbox\"}], \"scatterpolar\": [{\"marker\": {\"colorbar\": {\"outlinewidth\": 0, \"ticks\": \"\"}}, \"type\": \"scatterpolar\"}], \"scatterpolargl\": [{\"marker\": {\"colorbar\": {\"outlinewidth\": 0, \"ticks\": \"\"}}, \"type\": \"scatterpolargl\"}], \"scatterternary\": [{\"marker\": {\"colorbar\": {\"outlinewidth\": 0, \"ticks\": \"\"}}, \"type\": \"scatterternary\"}], \"surface\": [{\"colorbar\": {\"outlinewidth\": 0, \"ticks\": \"\"}, \"colorscale\": [[0.0, \"#0d0887\"], [0.1111111111111111, \"#46039f\"], [0.2222222222222222, \"#7201a8\"], [0.3333333333333333, \"#9c179e\"], [0.4444444444444444, \"#bd3786\"], [0.5555555555555556, \"#d8576b\"], [0.6666666666666666, \"#ed7953\"], [0.7777777777777778, \"#fb9f3a\"], [0.8888888888888888, \"#fdca26\"], [1.0, \"#f0f921\"]], \"type\": \"surface\"}], \"table\": [{\"cells\": {\"fill\": {\"color\": \"#EBF0F8\"}, \"line\": {\"color\": \"white\"}}, \"header\": {\"fill\": {\"color\": \"#C8D4E3\"}, \"line\": {\"color\": \"white\"}}, \"type\": \"table\"}]}, \"layout\": {\"annotationdefaults\": {\"arrowcolor\": \"#2a3f5f\", \"arrowhead\": 0, \"arrowwidth\": 1}, \"autotypenumbers\": \"strict\", \"coloraxis\": {\"colorbar\": {\"outlinewidth\": 0, \"ticks\": \"\"}}, \"colorscale\": {\"diverging\": [[0, \"#8e0152\"], [0.1, \"#c51b7d\"], [0.2, \"#de77ae\"], [0.3, \"#f1b6da\"], [0.4, \"#fde0ef\"], [0.5, \"#f7f7f7\"], [0.6, \"#e6f5d0\"], [0.7, \"#b8e186\"], [0.8, \"#7fbc41\"], [0.9, \"#4d9221\"], [1, \"#276419\"]], \"sequential\": [[0.0, \"#0d0887\"], [0.1111111111111111, \"#46039f\"], [0.2222222222222222, \"#7201a8\"], [0.3333333333333333, \"#9c179e\"], [0.4444444444444444, \"#bd3786\"], [0.5555555555555556, \"#d8576b\"], [0.6666666666666666, \"#ed7953\"], [0.7777777777777778, \"#fb9f3a\"], [0.8888888888888888, \"#fdca26\"], [1.0, \"#f0f921\"]], \"sequentialminus\": [[0.0, \"#0d0887\"], [0.1111111111111111, \"#46039f\"], [0.2222222222222222, \"#7201a8\"], [0.3333333333333333, \"#9c179e\"], [0.4444444444444444, \"#bd3786\"], [0.5555555555555556, \"#d8576b\"], [0.6666666666666666, \"#ed7953\"], [0.7777777777777778, \"#fb9f3a\"], [0.8888888888888888, \"#fdca26\"], [1.0, \"#f0f921\"]]}, \"colorway\": [\"#636efa\", \"#EF553B\", \"#00cc96\", \"#ab63fa\", \"#FFA15A\", \"#19d3f3\", \"#FF6692\", \"#B6E880\", \"#FF97FF\", \"#FECB52\"], \"font\": {\"color\": \"#2a3f5f\"}, \"geo\": {\"bgcolor\": \"white\", \"lakecolor\": \"white\", \"landcolor\": \"#E5ECF6\", \"showlakes\": true, \"showland\": true, \"subunitcolor\": \"white\"}, \"hoverlabel\": {\"align\": \"left\"}, \"hovermode\": \"closest\", \"mapbox\": {\"style\": \"light\"}, \"paper_bgcolor\": \"white\", \"plot_bgcolor\": \"#E5ECF6\", \"polar\": {\"angularaxis\": {\"gridcolor\": \"white\", \"linecolor\": \"white\", \"ticks\": \"\"}, \"bgcolor\": \"#E5ECF6\", \"radialaxis\": {\"gridcolor\": \"white\", \"linecolor\": \"white\", \"ticks\": \"\"}}, \"scene\": {\"xaxis\": {\"backgroundcolor\": \"#E5ECF6\", \"gridcolor\": \"white\", \"gridwidth\": 2, \"linecolor\": \"white\", \"showbackground\": true, \"ticks\": \"\", \"zerolinecolor\": \"white\"}, \"yaxis\": {\"backgroundcolor\": \"#E5ECF6\", \"gridcolor\": \"white\", \"gridwidth\": 2, \"linecolor\": \"white\", \"showbackground\": true, \"ticks\": \"\", \"zerolinecolor\": \"white\"}, \"zaxis\": {\"backgroundcolor\": \"#E5ECF6\", \"gridcolor\": \"white\", \"gridwidth\": 2, \"linecolor\": \"white\", \"showbackground\": true, \"ticks\": \"\", \"zerolinecolor\": \"white\"}}, \"shapedefaults\": {\"line\": {\"color\": \"#2a3f5f\"}}, \"ternary\": {\"aaxis\": {\"gridcolor\": \"white\", \"linecolor\": \"white\", \"ticks\": \"\"}, \"baxis\": {\"gridcolor\": \"white\", \"linecolor\": \"white\", \"ticks\": \"\"}, \"bgcolor\": \"#E5ECF6\", \"caxis\": {\"gridcolor\": \"white\", \"linecolor\": \"white\", \"ticks\": \"\"}}, \"title\": {\"x\": 0.05}, \"xaxis\": {\"automargin\": true, \"gridcolor\": \"white\", \"linecolor\": \"white\", \"ticks\": \"\", \"title\": {\"standoff\": 15}, \"zerolinecolor\": \"white\", \"zerolinewidth\": 2}, \"yaxis\": {\"automargin\": true, \"gridcolor\": \"white\", \"linecolor\": \"white\", \"ticks\": \"\", \"title\": {\"standoff\": 15}, \"zerolinecolor\": \"white\", \"zerolinewidth\": 2}}}, \"title\": {\"font\": {\"color\": \"#4D5663\"}}, \"xaxis\": {\"gridcolor\": \"#E1E5ED\", \"showgrid\": true, \"tickfont\": {\"color\": \"#4D5663\"}, \"title\": {\"font\": {\"color\": \"#4D5663\"}, \"text\": \"\"}, \"zerolinecolor\": \"#E1E5ED\"}, \"yaxis\": {\"gridcolor\": \"#E1E5ED\", \"showgrid\": true, \"tickfont\": {\"color\": \"#4D5663\"}, \"title\": {\"font\": {\"color\": \"#4D5663\"}, \"text\": \"\"}, \"zerolinecolor\": \"#E1E5ED\"}},                        {\"showLink\": true, \"linkText\": \"Export to plot.ly\", \"plotlyServerURL\": \"https://plot.ly\", \"responsive\": true}                    ).then(function(){\n",
       "                            \n",
       "var gd = document.getElementById('b22df0c1-be37-4fe8-af4d-7cdafb20553a');\n",
       "var x = new MutationObserver(function (mutations, observer) {{\n",
       "        var display = window.getComputedStyle(gd).display;\n",
       "        if (!display || display === 'none') {{\n",
       "            console.log([gd, 'removed!']);\n",
       "            Plotly.purge(gd);\n",
       "            observer.disconnect();\n",
       "        }}\n",
       "}});\n",
       "\n",
       "// Listen for the removal of the full notebook cells\n",
       "var notebookContainer = gd.closest('#notebook-container');\n",
       "if (notebookContainer) {{\n",
       "    x.observe(notebookContainer, {childList: true});\n",
       "}}\n",
       "\n",
       "// Listen for the clearing of the current output cell\n",
       "var outputEl = gd.closest('.output');\n",
       "if (outputEl) {{\n",
       "    x.observe(outputEl, {childList: true});\n",
       "}}\n",
       "\n",
       "                        })                };                });            </script>        </div>"
      ]
     },
     "metadata": {},
     "output_type": "display_data"
    }
   ],
   "source": [
    "df.iplot(kind = 'surface', colorscale='rdylbu')"
   ]
  },
  {
   "cell_type": "code",
   "execution_count": 14,
   "metadata": {},
   "outputs": [
    {
     "name": "stderr",
     "output_type": "stream",
     "text": [
      "C:\\Users\\hp\\anaconda3\\lib\\site-packages\\cufflinks\\datagen.py:380: RuntimeWarning:\n",
      "\n",
      "invalid value encountered in true_divide\n",
      "\n"
     ]
    },
    {
     "data": {
      "application/vnd.plotly.v1+json": {
       "config": {
        "linkText": "Export to plot.ly",
        "plotlyServerURL": "https://plot.ly",
        "showLink": true
       },
       "data": [
        {
         "colorscale": [
          [
           0,
           "rgb(255, 153, 51)"
          ],
          [
           0.1111111111111111,
           "rgb(55, 128, 191)"
          ],
          [
           0.2222222222222222,
           "rgb(50, 171, 96)"
          ],
          [
           0.3333333333333333,
           "rgb(128, 0, 128)"
          ],
          [
           0.4444444444444444,
           "rgb(219, 64, 82)"
          ],
          [
           0.5555555555555556,
           "rgb(0, 128, 128)"
          ],
          [
           0.6666666666666666,
           "rgb(255, 255, 51)"
          ],
          [
           0.7777777777777778,
           "rgb(128, 128, 0)"
          ],
          [
           0.8888888888888888,
           "rgb(251, 128, 114)"
          ],
          [
           1,
           "rgb(128, 177, 211)"
          ]
         ],
         "type": "surface",
         "x": [
          -10,
          -9.75,
          -9.5,
          -9.25,
          -9,
          -8.75,
          -8.5,
          -8.25,
          -8,
          -7.75,
          -7.5,
          -7.25,
          -7,
          -6.75,
          -6.5,
          -6.25,
          -6,
          -5.75,
          -5.5,
          -5.25,
          -5,
          -4.75,
          -4.5,
          -4.25,
          -4,
          -3.75,
          -3.5,
          -3.25,
          -3,
          -2.75,
          -2.5,
          -2.25,
          -2,
          -1.75,
          -1.5,
          -1.25,
          -1,
          -0.75,
          -0.5,
          -0.25,
          0,
          0.25,
          0.5,
          0.75,
          1,
          1.25,
          1.5,
          1.75,
          2,
          2.25,
          2.5,
          2.75,
          3,
          3.25,
          3.5,
          3.75,
          4,
          4.25,
          4.5,
          4.75,
          5,
          5.25,
          5.5,
          5.75,
          6,
          6.25,
          6.5,
          6.75,
          7,
          7.25,
          7.5,
          7.75,
          8,
          8.25,
          8.5,
          8.75,
          9,
          9.25,
          9.5,
          9.75
         ],
         "y": [
          -10,
          -9.75,
          -9.5,
          -9.25,
          -9,
          -8.75,
          -8.5,
          -8.25,
          -8,
          -7.75,
          -7.5,
          -7.25,
          -7,
          -6.75,
          -6.5,
          -6.25,
          -6,
          -5.75,
          -5.5,
          -5.25,
          -5,
          -4.75,
          -4.5,
          -4.25,
          -4,
          -3.75,
          -3.5,
          -3.25,
          -3,
          -2.75,
          -2.5,
          -2.25,
          -2,
          -1.75,
          -1.5,
          -1.25,
          -1,
          -0.75,
          -0.5,
          -0.25,
          0,
          0.25,
          0.5,
          0.75,
          1,
          1.25,
          1.5,
          1.75,
          2,
          2.25,
          2.5,
          2.75,
          3,
          3.25,
          3.5,
          3.75,
          4,
          4.25,
          4.5,
          4.75,
          5,
          5.25,
          5.5,
          5.75,
          6,
          6.25,
          6.5,
          6.75,
          7,
          7.25,
          7.5,
          7.75,
          8,
          8.25,
          8.5,
          8.75,
          9,
          9.25,
          9.5,
          9.75
         ],
         "z": [
          [
           0.14141961054935853,
           0.14111903500315878,
           0.13650222610828716,
           0.12777380562398274,
           0.11526115097856117,
           0.0993958462307399,
           0.08069235790121831,
           0.059725017515438364,
           0.037104384846577534,
           0.013454008098850966,
           -0.01061150357619211,
           -0.0345063152690242,
           -0.05769048962428924,
           -0.07968395387291566,
           -0.10007704610444179,
           -0.11853755153953284,
           -0.13481430178982187,
           -0.1487375524385824,
           -0.16021647158282734,
           -0.16923416092386775,
           -0.17584069010379264,
           -0.1801446545297837,
           -0.18230376872794093,
           -0.18251498442862385,
           -0.18100457917857166,
           -0.17801860199902664,
           -0.1738139924448547,
           -0.16865061331126227,
           -0.16278435980926842,
           -0.15646143337355978,
           -0.1499137997580331,
           -0.14335579129849668,
           -0.13698176393514344,
           -0.13096468174943518,
           -0.1254554756233313,
           -0.12058300781296416,
           -0.1164544699167505,
           -0.1131560467581887,
           -0.1107536917561867,
           -0.10929387900894774,
           -0.10880422217787396,
           -0.10929387900894774,
           -0.1107536917561867,
           -0.1131560467581887,
           -0.1164544699167505,
           -0.12058300781296416,
           -0.1254554756233313,
           -0.13096468174943518,
           -0.13698176393514344,
           -0.14335579129849668,
           -0.1499137997580331,
           -0.15646143337355978,
           -0.16278435980926842,
           -0.16865061331126227,
           -0.1738139924448547,
           -0.17801860199902664,
           -0.18100457917857166,
           -0.18251498442862385,
           -0.18230376872794093,
           -0.1801446545297837,
           -0.17584069010379264,
           -0.16923416092386775,
           -0.16021647158282734,
           -0.1487375524385824,
           -0.13481430178982187,
           -0.11853755153953284,
           -0.10007704610444179,
           -0.07968395387291566,
           -0.05769048962428924,
           -0.0345063152690242,
           -0.01061150357619211,
           0.013454008098850966,
           0.037104384846577534,
           0.059725017515438364,
           0.08069235790121831,
           0.0993958462307399,
           0.11526115097856117,
           0.12777380562398274,
           0.13650222610828716,
           0.14111903500315878
          ],
          [
           0.14111903500315878,
           0.13632396086944565,
           0.12719030582037316,
           0.11405907878471819,
           0.09738828403656238,
           0.07773008237271903,
           0.05570574218106777,
           0.03197958453286062,
           0.007233082355737275,
           -0.017859822184363938,
           -0.042655257000177006,
           -0.06655906279410359,
           -0.08904297911487404,
           -0.10965701691843574,
           -0.12803786284735597,
           -0.14391335124448024,
           -0.15710321083861073,
           -0.16751643729146143,
           -0.1751457556394694,
           -0.1800597155006458,
           -0.18239300622958532,
           -0.18233559039097344,
           -0.18012123502583363,
           -0.1760159755489718,
           -0.17030698199702413,
           -0.16329221750830802,
           -0.15527119023634722,
           -0.14653700801271363,
           -0.13736985507049018,
           -0.12803192632998142,
           -0.11876378051842666,
           -0.10978201113265723,
           -0.10127808535368477,
           -0.09341816596346665,
           -0.08634370978474622,
           -0.08017262722723162,
           -0.0750007897964791,
           -0.07090368426500879,
           -0.06793803188546253,
           -0.06614321685638791,
           -0.06554239869174844,
           -0.06614321685638791,
           -0.06793803188546253,
           -0.07090368426500879,
           -0.0750007897964791,
           -0.08017262722723162,
           -0.08634370978474622,
           -0.09341816596346665,
           -0.10127808535368477,
           -0.10978201113265723,
           -0.11876378051842666,
           -0.12803192632998142,
           -0.13736985507049018,
           -0.14653700801271363,
           -0.15527119023634722,
           -0.16329221750830802,
           -0.17030698199702413,
           -0.1760159755489718,
           -0.18012123502583363,
           -0.18233559039097344,
           -0.18239300622958532,
           -0.1800597155006458,
           -0.1751457556394694,
           -0.16751643729146143,
           -0.15710321083861073,
           -0.14391335124448024,
           -0.12803786284735597,
           -0.10965701691843574,
           -0.08904297911487404,
           -0.06655906279410359,
           -0.042655257000177006,
           -0.017859822184363938,
           0.007233082355737275,
           0.03197958453286062,
           0.05570574218106777,
           0.07773008237271903,
           0.09738828403656238,
           0.11405907878471819,
           0.12719030582037316,
           0.13632396086944565
          ],
          [
           0.13650222610828716,
           0.12719030582037316,
           0.1136526088802527,
           0.09636827159298987,
           0.0759235678781371,
           0.05298490441364873,
           0.028270310898122826,
           0.0025207381574719806,
           -0.023527608249201665,
           -0.04916880920228074,
           -0.07374973820785838,
           -0.09668883252747353,
           -0.11749065565570795,
           -0.13575600794040762,
           -0.1511875643863488,
           -0.163591222139663,
           -0.17287351607260817,
           -0.17903560277058095,
           -0.1821644169794075,
           -0.18242166855756492,
           -0.1800313728705813,
           -0.1752665961050691,
           -0.16843605361995675,
           -0.15987112992755653,
           -0.1499137997580331,
           -0.13890582780165694,
           -0.1271795169340972,
           -0.11505016730310495,
           -0.10281030706494565,
           -0.0907256642328181,
           -0.07903277128303789,
           -0.06793803188546253,
           -0.05761803324395176,
           -0.04822085787410071,
           -0.039868134180728126,
           -0.032657564269347995,
           -0.026665677985416577,
           -0.021950582012676394,
           -0.01855449981019833,
           -0.016505930263581485,
           -0.015821288518275644,
           -0.016505930263581485,
           -0.01855449981019833,
           -0.021950582012676394,
           -0.026665677985416577,
           -0.032657564269347995,
           -0.039868134180728126,
           -0.04822085787410071,
           -0.05761803324395176,
           -0.06793803188546253,
           -0.07903277128303789,
           -0.0907256642328181,
           -0.10281030706494565,
           -0.11505016730310495,
           -0.1271795169340972,
           -0.13890582780165694,
           -0.1499137997580331,
           -0.15987112992755653,
           -0.16843605361995675,
           -0.1752665961050691,
           -0.1800313728705813,
           -0.18242166855756492,
           -0.1821644169794075,
           -0.17903560277058095,
           -0.17287351607260817,
           -0.163591222139663,
           -0.1511875643863488,
           -0.13575600794040762,
           -0.11749065565570795,
           -0.09668883252747353,
           -0.07374973820785838,
           -0.04916880920228074,
           -0.023527608249201665,
           0.0025207381574719806,
           0.028270310898122826,
           0.05298490441364873,
           0.0759235678781371,
           0.09636827159298987,
           0.1136526088802527,
           0.12719030582037316
          ],
          [
           0.12777380562398274,
           0.11405907878471819,
           0.09636827159298987,
           0.07531659368730659,
           0.05161237775613617,
           0.026026147564044762,
           -0.0006409754282528475,
           -0.027588123185645037,
           -0.054043516875550875,
           -0.07929019757294747,
           -0.10268778525178764,
           -0.12368964794720452,
           -0.14185512230149663,
           -0.15685668268767797,
           -0.16848219583369567,
           -0.17663261032673944,
           -0.18131560690315682,
           -0.1826358700412797,
           -0.18078273088932142,
           -0.1760159755489718,
           -0.16865061331126227,
           -0.15904136091487175,
           -0.14756752732225356,
           -0.13461888616197776,
           -0.12058300781296416,
           -0.10583439818051152,
           -0.0907256642328181,
           -0.07558080422426758,
           -0.060690608986011814,
           -0.046310064114579955,
           -0.032657564269347995,
           -0.019915691575644292,
           -0.00823327044894154,
           0.0022716100207446164,
           0.011507919583092052,
           0.019407660252202565,
           0.025921773001301992,
           0.031016232090896562,
           0.03466854669458865,
           0.03686485131708162,
           0.03759772656874239,
           0.03686485131708162,
           0.03466854669458865,
           0.031016232090896562,
           0.025921773001301992,
           0.019407660252202565,
           0.011507919583092052,
           0.0022716100207446164,
           -0.00823327044894154,
           -0.019915691575644292,
           -0.032657564269347995,
           -0.046310064114579955,
           -0.060690608986011814,
           -0.07558080422426758,
           -0.0907256642328181,
           -0.10583439818051152,
           -0.12058300781296416,
           -0.13461888616197776,
           -0.14756752732225356,
           -0.15904136091487175,
           -0.16865061331126227,
           -0.1760159755489718,
           -0.18078273088932142,
           -0.1826358700412797,
           -0.18131560690315682,
           -0.17663261032673944,
           -0.16848219583369567,
           -0.15685668268767797,
           -0.14185512230149663,
           -0.12368964794720452,
           -0.10268778525178764,
           -0.07929019757294747,
           -0.054043516875550875,
           -0.027588123185645037,
           -0.0006409754282528475,
           0.026026147564044762,
           0.05161237775613617,
           0.07531659368730659,
           0.09636827159298987,
           0.11405907878471819
          ],
          [
           0.11526115097856117,
           0.09738828403656238,
           0.0759235678781371,
           0.05161237775613617,
           0.025275083284098894,
           -0.0022274559793407315,
           -0.03002807965783915,
           -0.0572857273340844,
           -0.08321475815193494,
           -0.10711012813756442,
           -0.1283676319466868,
           -0.1464987033293174,
           -0.16113955966514656,
           -0.17205475511311313,
           -0.17913546063850083,
           -0.18239300622958532,
           -0.18194839266053625,
           -0.17801860199902664,
           -0.17090060569317098,
           -0.1609539875623888,
           -0.14858307017251748,
           -0.13421936300715656,
           -0.11830504740258321,
           -0.10127808535368477,
           -0.08355939645450051,
           -0.06554239869174844,
           -0.04758506314163741,
           -0.030004497243790427,
           -0.013073952151520388,
           0.0029779491154211806,
           0.017966041941118966,
           0.031745840459068614,
           0.044209509361482956,
           0.05528095770522729,
           0.0649104168254659,
           0.07306884206017318,
           0.07974244535617742,
           0.08492762656935865,
           0.08862652853638416,
           0.09084339726921295,
           0.09158188560927924,
           0.09084339726921295,
           0.08862652853638416,
           0.08492762656935865,
           0.07974244535617742,
           0.07306884206017318,
           0.0649104168254659,
           0.05528095770522729,
           0.044209509361482956,
           0.031745840459068614,
           0.017966041941118966,
           0.0029779491154211806,
           -0.013073952151520388,
           -0.030004497243790427,
           -0.04758506314163741,
           -0.06554239869174844,
           -0.08355939645450051,
           -0.10127808535368477,
           -0.11830504740258321,
           -0.13421936300715656,
           -0.14858307017251748,
           -0.1609539875623888,
           -0.17090060569317098,
           -0.17801860199902664,
           -0.18194839266053625,
           -0.18239300622958532,
           -0.17913546063850083,
           -0.17205475511311313,
           -0.16113955966514656,
           -0.1464987033293174,
           -0.1283676319466868,
           -0.10711012813756442,
           -0.08321475815193494,
           -0.0572857273340844,
           -0.03002807965783915,
           -0.0022274559793407315,
           0.025275083284098894,
           0.05161237775613617,
           0.0759235678781371,
           0.09738828403656238
          ],
          [
           0.0993958462307399,
           0.07773008237271903,
           0.05298490441364873,
           0.026026147564044762,
           -0.0022274559793407315,
           -0.030841885736018544,
           -0.05890402451081101,
           -0.08555491563889543,
           -0.11001880232017779,
           -0.1316269478872783,
           -0.14983554931501694,
           -0.1642373823959323,
           -0.17456713788189782,
           -0.1807007071005138,
           -0.18264893898060253,
           -0.18054660691367944,
           -0.17463748569481502,
           -0.16525654180237792,
           -0.1528102839666787,
           -0.1377563081818195,
           -0.12058300781296416,
           -0.10179031338845618,
           -0.08187218787401292,
           -0.061301442485772274,
           -0.040517266401149735,
           -0.019915691575644292,
           0.0001569493213448689,
           0.019407660252202565,
           0.03759772656874239,
           0.054541276561040686,
           0.07010183827093616,
           0.08418731130237875,
           0.09674378883254962,
           0.10774865812501504,
           0.11720338291232232,
           0.12512633286074154,
           0.13154597877649798,
           0.13649472168344115,
           0.14000357308347133,
           0.14209785531573388,
           0.14279404657238684,
           0.14209785531573388,
           0.14000357308347133,
           0.13649472168344115,
           0.13154597877649798,
           0.12512633286074154,
           0.11720338291232232,
           0.10774865812501504,
           0.09674378883254962,
           0.08418731130237875,
           0.07010183827093616,
           0.054541276561040686,
           0.03759772656874239,
           0.019407660252202565,
           0.0001569493213448689,
           -0.019915691575644292,
           -0.040517266401149735,
           -0.061301442485772274,
           -0.08187218787401292,
           -0.10179031338845618,
           -0.12058300781296416,
           -0.1377563081818195,
           -0.1528102839666787,
           -0.16525654180237792,
           -0.17463748569481502,
           -0.18054660691367944,
           -0.18264893898060253,
           -0.1807007071005138,
           -0.17456713788189782,
           -0.1642373823959323,
           -0.14983554931501694,
           -0.1316269478872783,
           -0.11001880232017779,
           -0.08555491563889543,
           -0.05890402451081101,
           -0.030841885736018544,
           -0.0022274559793407315,
           0.026026147564044762,
           0.05298490441364873,
           0.07773008237271903
          ],
          [
           0.08069235790121831,
           0.05570574218106777,
           0.028270310898122826,
           -0.0006409754282528475,
           -0.03002807965783915,
           -0.05890402451081101,
           -0.08633239590937543,
           -0.1114606806231028,
           -0.13354819579908725,
           -0.15198770280837584,
           -0.16632015713858264,
           -0.17624240938958516,
           -0.18160802037610754,
           -0.18242166855756492,
           -0.1788278960809016,
           -0.17109514979541934,
           -0.15959621882048483,
           -0.14478624788034108,
           -0.1271795169340972,
           -0.10732612754693129,
           -0.0857896329957062,
           -0.0631265026963309,
           -0.039868134180728126,
           -0.016505930263581485,
           0.0065202421682302655,
           0.02883009042098063,
           0.05010748884225075,
           0.07010183827093616,
           0.08862652853638416,
           0.10555493165712146,
           0.12081441070397907,
           0.13437885433763305,
           0.14626024334832619,
           0.15649972810645998,
           0.16515865057394133,
           0.17230988766358785,
           0.17802983029511174,
           0.18239124981424537,
           0.18545724476618586,
           0.18727640924644018,
           0.18787932061729182,
           0.18727640924644018,
           0.18545724476618586,
           0.18239124981424537,
           0.17802983029511174,
           0.17230988766358785,
           0.16515865057394133,
           0.15649972810645998,
           0.14626024334832619,
           0.13437885433763305,
           0.12081441070397907,
           0.10555493165712146,
           0.08862652853638416,
           0.07010183827093616,
           0.05010748884225075,
           0.02883009042098063,
           0.0065202421682302655,
           -0.016505930263581485,
           -0.039868134180728126,
           -0.0631265026963309,
           -0.0857896329957062,
           -0.10732612754693129,
           -0.1271795169340972,
           -0.14478624788034108,
           -0.15959621882048483,
           -0.17109514979541934,
           -0.1788278960809016,
           -0.18242166855756492,
           -0.18160802037610754,
           -0.17624240938958516,
           -0.16632015713858264,
           -0.15198770280837584,
           -0.13354819579908725,
           -0.1114606806231028,
           -0.08633239590937543,
           -0.05890402451081101,
           -0.03002807965783915,
           -0.0006409754282528475,
           0.028270310898122826,
           0.05570574218106777
          ],
          [
           0.059725017515438364,
           0.03197958453286062,
           0.0025207381574719806,
           -0.027588123185645037,
           -0.0572857273340844,
           -0.08555491563889543,
           -0.1114606806231028,
           -0.13418273806183595,
           -0.15304146672549196,
           -0.16751643729146143,
           -0.17725715646546372,
           -0.18208605074549258,
           -0.18199408570471504,
           -0.17712974307464055,
           -0.16778234479339135,
           -0.1543609103022869,
           -0.13736985507049018,
           -0.11738288358628372,
           -0.0950164022704569,
           -0.07090368426500879,
           -0.045670869380806056,
           -0.019915691575644292,
           0.0058103924762656495,
           0.031016232090896562,
           0.05528095770522729,
           0.07825990831739421,
           0.09968670899986165,
           0.11937185506223688,
           0.13719827990417027,
           0.15311446345017118,
           0.16712567793535366,
           0.1792839709402817,
           0.18967745729212915,
           0.19841943861188654,
           0.20563779959612533,
           0.21146505144444128,
           0.21602931256266372,
           0.21944644111666822,
           0.22181346801290225,
           0.2232034254780841,
           0.22366162672468853,
           0.2232034254780841,
           0.22181346801290225,
           0.21944644111666822,
           0.21602931256266372,
           0.21146505144444128,
           0.20563779959612533,
           0.19841943861188654,
           0.18967745729212915,
           0.1792839709402817,
           0.16712567793535366,
           0.15311446345017118,
           0.13719827990417027,
           0.11937185506223688,
           0.09968670899986165,
           0.07825990831739421,
           0.05528095770522729,
           0.031016232090896562,
           0.0058103924762656495,
           -0.019915691575644292,
           -0.045670869380806056,
           -0.07090368426500879,
           -0.0950164022704569,
           -0.11738288358628372,
           -0.13736985507049018,
           -0.1543609103022869,
           -0.16778234479339135,
           -0.17712974307464055,
           -0.18199408570471504,
           -0.18208605074549258,
           -0.17725715646546372,
           -0.16751643729146143,
           -0.15304146672549196,
           -0.13418273806183595,
           -0.1114606806231028,
           -0.08555491563889543,
           -0.0572857273340844,
           -0.027588123185645037,
           0.0025207381574719806,
           0.03197958453286062
          ],
          [
           0.037104384846577534,
           0.007233082355737275,
           -0.023527608249201665,
           -0.054043516875550875,
           -0.08321475815193494,
           -0.11001880232017779,
           -0.13354819579908725,
           -0.15304146672549196,
           -0.167906160972842,
           -0.17773339606034183,
           -0.18230376872794093,
           -0.18158488243001691,
           -0.17572115154133375,
           -0.16501687105976595,
           -0.1499137997580331,
           -0.13096468174943518,
           -0.10880422217787396,
           -0.08411903827788304,
           -0.05761803324395176,
           -0.030004497243790427,
           -0.001951040868825416,
           0.025921773001301992,
           0.05306249567952219,
           0.07900122348247962,
           0.10335731863015635,
           0.1258425822940911,
           0.14626024334832619,
           0.16450028494360933,
           0.18053174205108255,
           0.1943926655354523,
           0.2061784643801796,
           0.21602931256266372,
           0.22411724822563847,
           0.23063350923189954,
           0.23577655069724138,
           0.23974108638511749,
           0.242708395806646,
           0.24483804991090946,
           0.24626113579560338,
           0.24707500803079696,
           0.24733956165584545,
           0.24707500803079696,
           0.24626113579560338,
           0.24483804991090946,
           0.242708395806646,
           0.23974108638511749,
           0.23577655069724138,
           0.23063350923189954,
           0.22411724822563847,
           0.21602931256266372,
           0.2061784643801796,
           0.1943926655354523,
           0.18053174205108255,
           0.16450028494360933,
           0.14626024334832619,
           0.1258425822940911,
           0.10335731863015635,
           0.07900122348247962,
           0.05306249567952219,
           0.025921773001301992,
           -0.001951040868825416,
           -0.030004497243790427,
           -0.05761803324395176,
           -0.08411903827788304,
           -0.10880422217787396,
           -0.13096468174943518,
           -0.1499137997580331,
           -0.16501687105976595,
           -0.17572115154133375,
           -0.18158488243001691,
           -0.18230376872794093,
           -0.17773339606034183,
           -0.167906160972842,
           -0.15304146672549196,
           -0.13354819579908725,
           -0.11001880232017779,
           -0.08321475815193494,
           -0.054043516875550875,
           -0.023527608249201665,
           0.007233082355737275
          ],
          [
           0.013454008098850966,
           -0.017859822184363938,
           -0.04916880920228074,
           -0.07929019757294747,
           -0.10711012813756442,
           -0.1316269478872783,
           -0.15198770280837584,
           -0.16751643729146143,
           -0.17773339606034183,
           -0.18236471957976835,
           -0.18134271385500067,
           -0.1747972342928682,
           -0.16303912773542587,
           -0.14653700801271363,
           -0.1258888846262905,
           -0.10179031338845618,
           -0.0750007897964791,
           -0.046310064114579955,
           -0.016505930263581485,
           0.013655158230898757,
           0.043473546354522816,
           0.07232710218505171,
           0.09968670899986165,
           0.12512633286074154,
           0.14832776112580212,
           0.16908036038891633,
           0.18727640924644018,
           0.20290271423033404,
           0.21602931256266372,
           0.22679610352037188,
           0.23539823538075702,
           0.2420710146043941,
           0.24707500803079696,
           0.2506818889186662,
           0.2531614457800734,
           0.25477004091850136,
           0.2557406839380664,
           0.2562747828163765,
           0.25653555744366946,
           0.2566430509401283,
           0.2566706526738519,
           0.2566430509401283,
           0.25653555744366946,
           0.2562747828163765,
           0.2557406839380664,
           0.25477004091850136,
           0.2531614457800734,
           0.2506818889186662,
           0.24707500803079696,
           0.2420710146043941,
           0.23539823538075702,
           0.22679610352037188,
           0.21602931256266372,
           0.20290271423033404,
           0.18727640924644018,
           0.16908036038891633,
           0.14832776112580212,
           0.12512633286074154,
           0.09968670899986165,
           0.07232710218505171,
           0.043473546354522816,
           0.013655158230898757,
           -0.016505930263581485,
           -0.046310064114579955,
           -0.0750007897964791,
           -0.10179031338845618,
           -0.1258888846262905,
           -0.14653700801271363,
           -0.16303912773542587,
           -0.1747972342928682,
           -0.18134271385500067,
           -0.18236471957976835,
           -0.17773339606034183,
           -0.16751643729146143,
           -0.15198770280837584,
           -0.1316269478872783,
           -0.10711012813756442,
           -0.07929019757294747,
           -0.04916880920228074,
           -0.017859822184363938
          ],
          [
           -0.01061150357619211,
           -0.042655257000177006,
           -0.07374973820785838,
           -0.10268778525178764,
           -0.1283676319466868,
           -0.14983554931501694,
           -0.16632015713858264,
           -0.17725715646546372,
           -0.18230376872794093,
           -0.18134271385500067,
           -0.17447608825271163,
           -0.16200998595397612,
           -0.14443111863131364,
           -0.12237701362727325,
           -0.09660159075517502,
           -0.06793803188546253,
           -0.03726086233570953,
           -0.005449066140771361,
           0.026648129724923395,
           0.058241427706856384,
           0.08862652853638416,
           0.11720338291232232,
           0.14348926836260514,
           0.16712567793535366,
           0.18787932061729182,
           0.20563779959612533,
           0.22040074178662336,
           0.23226729318028777,
           0.24142096714711753,
           0.24811283911536614,
           0.25264402764959015,
           0.255348298963932,
           0.256575492104657,
           0.2566762997375786,
           0.2559887694405144,
           0.2548267267047997,
           0.25347017586536014,
           0.252157618714697,
           0.25108014921898075,
           0.25037713957121355,
           0.25013332713993036,
           0.25037713957121355,
           0.25108014921898075,
           0.252157618714697,
           0.25347017586536014,
           0.2548267267047997,
           0.2559887694405144,
           0.2566762997375786,
           0.256575492104657,
           0.255348298963932,
           0.25264402764959015,
           0.24811283911536614,
           0.24142096714711753,
           0.23226729318028777,
           0.22040074178662336,
           0.20563779959612533,
           0.18787932061729182,
           0.16712567793535366,
           0.14348926836260514,
           0.11720338291232232,
           0.08862652853638416,
           0.058241427706856384,
           0.026648129724923395,
           -0.005449066140771361,
           -0.03726086233570953,
           -0.06793803188546253,
           -0.09660159075517502,
           -0.12237701362727325,
           -0.14443111863131364,
           -0.16200998595397612,
           -0.17447608825271163,
           -0.18134271385500067,
           -0.18230376872794093,
           -0.17725715646546372,
           -0.16632015713858264,
           -0.14983554931501694,
           -0.1283676319466868,
           -0.10268778525178764,
           -0.07374973820785838,
           -0.042655257000177006
          ],
          [
           -0.0345063152690242,
           -0.06655906279410359,
           -0.09668883252747353,
           -0.12368964794720452,
           -0.1464987033293174,
           -0.1642373823959323,
           -0.17624240938958516,
           -0.18208605074549258,
           -0.18158488243001691,
           -0.1747972342928682,
           -0.16200998595397612,
           -0.1437158894806465,
           -0.12058300781296416,
           -0.09341816596346665,
           -0.0631265026963309,
           -0.03066927919323432,
           0.0029779491154211806,
           0.03686485131708162,
           0.07010183827093616,
           0.1018902143955224,
           0.13154597877649798,
           0.15851669454452746,
           0.18239124981424537,
           0.20290271423033404,
           0.21992483146863692,
           0.23346296309158113,
           0.24364050109720906,
           0.2506818889186662,
           0.254893432701845,
           0.2566430509401283,
           0.2563400102730029,
           0.25441554164532254,
           0.25130504004127213,
           0.24743234013685533,
           0.2431963471432226,
           0.23896010343988033,
           0.23504220166614895,
           0.2317103248693539,
           0.22917661128094333,
           0.22759450814784551,
           0.2270567942100705,
           0.22759450814784551,
           0.22917661128094333,
           0.2317103248693539,
           0.23504220166614895,
           0.23896010343988033,
           0.2431963471432226,
           0.24743234013685533,
           0.25130504004127213,
           0.25441554164532254,
           0.2563400102730029,
           0.2566430509401283,
           0.254893432701845,
           0.2506818889186662,
           0.24364050109720906,
           0.23346296309158113,
           0.21992483146863692,
           0.20290271423033404,
           0.18239124981424537,
           0.15851669454452746,
           0.13154597877649798,
           0.1018902143955224,
           0.07010183827093616,
           0.03686485131708162,
           0.0029779491154211806,
           -0.03066927919323432,
           -0.0631265026963309,
           -0.09341816596346665,
           -0.12058300781296416,
           -0.1437158894806465,
           -0.16200998595397612,
           -0.1747972342928682,
           -0.18158488243001691,
           -0.18208605074549258,
           -0.17624240938958516,
           -0.1642373823959323,
           -0.1464987033293174,
           -0.12368964794720452,
           -0.09668883252747353,
           -0.06655906279410359
          ],
          [
           -0.05769048962428924,
           -0.08904297911487404,
           -0.11749065565570795,
           -0.14185512230149663,
           -0.16113955966514656,
           -0.17456713788189782,
           -0.18160802037610754,
           -0.18199408570471504,
           -0.17572115154133375,
           -0.16303912773542587,
           -0.14443111863131364,
           -0.12058300781296416,
           -0.09234546620178369,
           -0.060690608986011814,
           -0.026665677985416577,
           0.008653858363151095,
           0.044209509361482956,
           0.07900122348247962,
           0.11212338767979044,
           0.14279404657238684,
           0.17037647050011584,
           0.1943926655354523,
           0.2145288714461612,
           0.23063350923189954,
           0.242708395806646,
           0.2508943222213973,
           0.2554522819126627,
           0.2567417315441088,
           0.25519727019112654,
           0.25130504004127213,
           0.2455799958764798,
           0.23854497801642713,
           0.23071227369415245,
           0.2225680860000738,
           0.21456006847846779,
           0.2070878465419809,
           0.20049625055173417,
           0.19507084218595108,
           0.19103523332295086,
           0.18854967763954522,
           0.18771045677679687,
           0.18854967763954522,
           0.19103523332295086,
           0.19507084218595108,
           0.20049625055173417,
           0.2070878465419809,
           0.21456006847846779,
           0.2225680860000738,
           0.23071227369415245,
           0.23854497801642713,
           0.2455799958764798,
           0.25130504004127213,
           0.25519727019112654,
           0.2567417315441088,
           0.2554522819126627,
           0.2508943222213973,
           0.242708395806646,
           0.23063350923189954,
           0.2145288714461612,
           0.1943926655354523,
           0.17037647050011584,
           0.14279404657238684,
           0.11212338767979044,
           0.07900122348247962,
           0.044209509361482956,
           0.008653858363151095,
           -0.026665677985416577,
           -0.060690608986011814,
           -0.09234546620178369,
           -0.12058300781296416,
           -0.14443111863131364,
           -0.16303912773542587,
           -0.17572115154133375,
           -0.18199408570471504,
           -0.18160802037610754,
           -0.17456713788189782,
           -0.16113955966514656,
           -0.14185512230149663,
           -0.11749065565570795,
           -0.08904297911487404
          ],
          [
           -0.07968395387291566,
           -0.10965701691843574,
           -0.13575600794040762,
           -0.15685668268767797,
           -0.17205475511311313,
           -0.1807007071005138,
           -0.18242166855756492,
           -0.17712974307464055,
           -0.16501687105976595,
           -0.14653700801271363,
           -0.12237701362727325,
           -0.09341816596346665,
           -0.060690608986011814,
           -0.02532329427921568,
           0.011507919583092052,
           0.04863139306208121,
           0.08492762656935865,
           0.11937185506223688,
           0.15106960365711752,
           0.1792839709402817,
           0.20345392533496165,
           0.2232034254780841,
           0.2383416766936446,
           0.24885528388828942,
           0.254893432701845,
           0.25674750760048576,
           0.2548267267047997,
           0.24963143467045815,
           0.24172565029557566,
           0.2317103248693539,
           0.22019854657881394,
           0.20779364608280457,
           0.19507084218595108,
           0.18256273925541686,
           0.17074867404778504,
           0.16004763127913005,
           0.15081422331281308,
           0.1433370736825879,
           0.13783886506830845,
           0.134477311926808,
           0.1333463922312941,
           0.134477311926808,
           0.13783886506830845,
           0.1433370736825879,
           0.15081422331281308,
           0.16004763127913005,
           0.17074867404778504,
           0.18256273925541686,
           0.19507084218595108,
           0.20779364608280457,
           0.22019854657881394,
           0.2317103248693539,
           0.24172565029557566,
           0.24963143467045815,
           0.2548267267047997,
           0.25674750760048576,
           0.254893432701845,
           0.24885528388828942,
           0.2383416766936446,
           0.2232034254780841,
           0.20345392533496165,
           0.1792839709402817,
           0.15106960365711752,
           0.11937185506223688,
           0.08492762656935865,
           0.04863139306208121,
           0.011507919583092052,
           -0.02532329427921568,
           -0.060690608986011814,
           -0.09341816596346665,
           -0.12237701362727325,
           -0.14653700801271363,
           -0.16501687105976595,
           -0.17712974307464055,
           -0.18242166855756492,
           -0.1807007071005138,
           -0.17205475511311313,
           -0.15685668268767797,
           -0.13575600794040762,
           -0.10965701691843574
          ],
          [
           -0.10007704610444179,
           -0.12803786284735597,
           -0.1511875643863488,
           -0.16848219583369567,
           -0.17913546063850083,
           -0.18264893898060253,
           -0.1788278960809016,
           -0.16778234479339135,
           -0.1499137997580331,
           -0.1258888846262905,
           -0.09660159075517502,
           -0.0631265026963309,
           -0.026665677985416577,
           0.011507919583092052,
           0.05010748884225075,
           0.0878871354792479,
           0.12369173187889267,
           0.15649972810645998,
           0.18545724476618586,
           0.20990234059772522,
           0.22937894091767205,
           0.24364050109720906,
           0.25264402764959015,
           0.25653555744366946,
           0.25562857790064414,
           0.25037713957121355,
           0.2413455569066888,
           0.22917661128094333,
           0.21456006847846779,
           0.1982031145119569,
           0.18080401871815463,
           0.1630299764243758,
           0.14549969299473817,
           0.12877087581897034,
           0.11333242903336226,
           0.09960082298540655,
           0.08791985781076668,
           0.07856287339249271,
           0.07173638515428266,
           0.06758414818694233,
           0.0661907655654817,
           0.06758414818694233,
           0.07173638515428266,
           0.07856287339249271,
           0.08791985781076668,
           0.09960082298540655,
           0.11333242903336226,
           0.12877087581897034,
           0.14549969299473817,
           0.1630299764243758,
           0.18080401871815463,
           0.1982031145119569,
           0.21456006847846779,
           0.22917661128094333,
           0.2413455569066888,
           0.25037713957121355,
           0.25562857790064414,
           0.25653555744366946,
           0.25264402764959015,
           0.24364050109720906,
           0.22937894091767205,
           0.20990234059772522,
           0.18545724476618586,
           0.15649972810645998,
           0.12369173187889267,
           0.0878871354792479,
           0.05010748884225075,
           0.011507919583092052,
           -0.026665677985416577,
           -0.0631265026963309,
           -0.09660159075517502,
           -0.1258888846262905,
           -0.1499137997580331,
           -0.16778234479339135,
           -0.1788278960809016,
           -0.18264893898060253,
           -0.17913546063850083,
           -0.16848219583369567,
           -0.1511875643863488,
           -0.12803786284735597
          ],
          [
           -0.11853755153953284,
           -0.14391335124448024,
           -0.163591222139663,
           -0.17663261032673944,
           -0.18239300622958532,
           -0.18054660691367944,
           -0.17109514979541934,
           -0.1543609103022869,
           -0.13096468174943518,
           -0.10179031338845618,
           -0.06793803188546253,
           -0.03066927919323432,
           0.008653858363151095,
           0.04863139306208121,
           0.0878871354792479,
           0.12512633286074154,
           0.15918658398472915,
           0.1890798565922851,
           0.21402402107025095,
           0.23346296309158113,
           0.24707500803079696,
           0.25477004091850136,
           0.2566762997375786,
           0.25311832399967577,
           0.24458792842044305,
           0.2317103248693539,
           0.2152076253393881,
           0.19586192453391038,
           0.17447999195279823,
           0.15186131748507978,
           0.12877087581897034,
           0.10591753298818528,
           0.08393854575868848,
           0.06339013493636744,
           0.044743679368913644,
           0.02838670735216783,
           0.014627580006334946,
           0.0037025838949493145,
           -0.004215913110515241,
           -0.009011537058698997,
           -0.010617349295218181,
           -0.009011537058698997,
           -0.004215913110515241,
           0.0037025838949493145,
           0.014627580006334946,
           0.02838670735216783,
           0.044743679368913644,
           0.06339013493636744,
           0.08393854575868848,
           0.10591753298818528,
           0.12877087581897034,
           0.15186131748507978,
           0.17447999195279823,
           0.19586192453391038,
           0.2152076253393881,
           0.2317103248693539,
           0.24458792842044305,
           0.25311832399967577,
           0.2566762997375786,
           0.25477004091850136,
           0.24707500803079696,
           0.23346296309158113,
           0.21402402107025095,
           0.1890798565922851,
           0.15918658398472915,
           0.12512633286074154,
           0.0878871354792479,
           0.04863139306208121,
           0.008653858363151095,
           -0.03066927919323432,
           -0.06793803188546253,
           -0.10179031338845618,
           -0.13096468174943518,
           -0.1543609103022869,
           -0.17109514979541934,
           -0.18054660691367944,
           -0.18239300622958532,
           -0.17663261032673944,
           -0.163591222139663,
           -0.14391335124448024
          ],
          [
           -0.13481430178982187,
           -0.15710321083861073,
           -0.17287351607260817,
           -0.18131560690315682,
           -0.18194839266053625,
           -0.17463748569481502,
           -0.15959621882048483,
           -0.13736985507049018,
           -0.10880422217787396,
           -0.0750007897964791,
           -0.03726086233570953,
           0.0029779491154211806,
           0.044209509361482956,
           0.08492762656935865,
           0.12369173187889267,
           0.15918658398472915,
           0.1902732638436695,
           0.21602931256266372,
           0.23577655069724138,
           0.24909585663212155,
           0.25582893038458626,
           0.2560677827399544,
           0.25013332713993036,
           0.23854497801642713,
           0.22198354690007724,
           0.20124995852555586,
           0.17722237538812438,
           0.15081422331281308,
           0.12293536517635703,
           0.09445829662141196,
           0.0661907655654817,
           0.03885568116655977,
           0.013078615468659323,
           -0.010617349295218181,
           -0.03181017613329085,
           -0.050171999808914604,
           -0.06545830501430487,
           -0.07749482277960204,
           -0.08616386191642225,
           -0.09139170665445415,
           -0.09313849939964196,
           -0.09139170665445415,
           -0.08616386191642225,
           -0.07749482277960204,
           -0.06545830501430487,
           -0.050171999808914604,
           -0.03181017613329085,
           -0.010617349295218181,
           0.013078615468659323,
           0.03885568116655977,
           0.0661907655654817,
           0.09445829662141196,
           0.12293536517635703,
           0.15081422331281308,
           0.17722237538812438,
           0.20124995852555586,
           0.22198354690007724,
           0.23854497801642713,
           0.25013332713993036,
           0.2560677827399544,
           0.25582893038458626,
           0.24909585663212155,
           0.23577655069724138,
           0.21602931256266372,
           0.1902732638436695,
           0.15918658398472915,
           0.12369173187889267,
           0.08492762656935865,
           0.044209509361482956,
           0.0029779491154211806,
           -0.03726086233570953,
           -0.0750007897964791,
           -0.10880422217787396,
           -0.13736985507049018,
           -0.15959621882048483,
           -0.17463748569481502,
           -0.18194839266053625,
           -0.18131560690315682,
           -0.17287351607260817,
           -0.15710321083861073
          ],
          [
           -0.1487375524385824,
           -0.16751643729146143,
           -0.17903560277058095,
           -0.1826358700412797,
           -0.17801860199902664,
           -0.16525654180237792,
           -0.14478624788034108,
           -0.11738288358628372,
           -0.08411903827788304,
           -0.046310064114579955,
           -0.005449066140771361,
           0.03686485131708162,
           0.07900122348247962,
           0.11937185506223688,
           0.15649972810645998,
           0.1890798565922851,
           0.21602931256266372,
           0.2365243422174828,
           0.25002327766855664,
           0.2562747828163765,
           0.2553118000893658,
           0.24743234013685533,
           0.23316893482082693,
           0.21324911772700825,
           0.18854967763954522,
           0.16004763127913005,
           0.12877087581897034,
           0.0957513146109,
           0.06198291759831892,
           0.02838670735216783,
           -0.004215913110515241,
           -0.03512071345143313,
           -0.06374895250625122,
           -0.08964697741323371,
           -0.11247819731414006,
           -0.132008995765264,
           -0.14809048863531396,
           -0.16063822727306362,
           -0.1696119802323752,
           -0.17499760171649797,
           -0.17679272260843765,
           -0.17499760171649797,
           -0.1696119802323752,
           -0.16063822727306362,
           -0.14809048863531396,
           -0.132008995765264,
           -0.11247819731414006,
           -0.08964697741323371,
           -0.06374895250625122,
           -0.03512071345143313,
           -0.004215913110515241,
           0.02838670735216783,
           0.06198291759831892,
           0.0957513146109,
           0.12877087581897034,
           0.16004763127913005,
           0.18854967763954522,
           0.21324911772700825,
           0.23316893482082693,
           0.24743234013685533,
           0.2553118000893658,
           0.2562747828163765,
           0.25002327766855664,
           0.2365243422174828,
           0.21602931256266372,
           0.1890798565922851,
           0.15649972810645998,
           0.11937185506223688,
           0.07900122348247962,
           0.03686485131708162,
           -0.005449066140771361,
           -0.046310064114579955,
           -0.08411903827788304,
           -0.11738288358628372,
           -0.14478624788034108,
           -0.16525654180237792,
           -0.17801860199902664,
           -0.1826358700412797,
           -0.17903560277058095,
           -0.16751643729146143
          ],
          [
           -0.16021647158282734,
           -0.1751457556394694,
           -0.1821644169794075,
           -0.18078273088932142,
           -0.17090060569317098,
           -0.1528102839666787,
           -0.1271795169340972,
           -0.0950164022704569,
           -0.05761803324395176,
           -0.016505930263581485,
           0.026648129724923395,
           0.07010183827093616,
           0.11212338767979044,
           0.15106960365711752,
           0.18545724476618586,
           0.21402402107025095,
           0.23577655069724138,
           0.25002327766855664,
           0.25639126767027576,
           0.2548267267047997,
           0.2455799958764798,
           0.22917661128094333,
           0.2063767337439853,
           0.17812580971586786,
           0.14549969299473817,
           0.1096476200446325,
           0.07173638515428266,
           0.032898814044057145,
           -0.005810793613848673,
           -0.043452159632214875,
           -0.0792240541655952,
           -0.11247819731414006,
           -0.1427221428215067,
           -0.1696119802323752,
           -0.1929363397545002,
           -0.2125937105436689,
           -0.22856545626592412,
           -0.24088710992360066,
           -0.24962054293732017,
           -0.254829433326894,
           -0.2565601183892334,
           -0.254829433326894,
           -0.24962054293732017,
           -0.24088710992360066,
           -0.22856545626592412,
           -0.2125937105436689,
           -0.1929363397545002,
           -0.1696119802323752,
           -0.1427221428215067,
           -0.11247819731414006,
           -0.0792240541655952,
           -0.043452159632214875,
           -0.005810793613848673,
           0.032898814044057145,
           0.07173638515428266,
           0.1096476200446325,
           0.14549969299473817,
           0.17812580971586786,
           0.2063767337439853,
           0.22917661128094333,
           0.2455799958764798,
           0.2548267267047997,
           0.25639126767027576,
           0.25002327766855664,
           0.23577655069724138,
           0.21402402107025095,
           0.18545724476618586,
           0.15106960365711752,
           0.11212338767979044,
           0.07010183827093616,
           0.026648129724923395,
           -0.016505930263581485,
           -0.05761803324395176,
           -0.0950164022704569,
           -0.1271795169340972,
           -0.1528102839666787,
           -0.17090060569317098,
           -0.18078273088932142,
           -0.1821644169794075,
           -0.1751457556394694
          ],
          [
           -0.16923416092386775,
           -0.1800597155006458,
           -0.18242166855756492,
           -0.1760159755489718,
           -0.1609539875623888,
           -0.1377563081818195,
           -0.10732612754693129,
           -0.07090368426500879,
           -0.030004497243790427,
           0.013655158230898757,
           0.058241427706856384,
           0.1018902143955224,
           0.14279404657238684,
           0.1792839709402817,
           0.20990234059772522,
           0.23346296309158113,
           0.24909585663212155,
           0.2562747828163765,
           0.2548267267047997,
           0.24492352037505036,
           0.2270567942100705,
           0.20199833430642128,
           0.17074867404778504,
           0.134477311926808,
           0.09445829662141196,
           0.05200503792795912,
           0.00840808631479302,
           -0.03512071345143313,
           -0.07749482277960204,
           -0.1177881852505473,
           -0.15525760655490364,
           -0.18935183535374994,
           -0.21970771693043264,
           -0.24613461781837798,
           -0.268589046149572,
           -0.28714197491104243,
           -0.30194177876754097,
           -0.31317589634427284,
           -0.3210343185560354,
           -0.32567778292945404,
           -0.32721314035298743,
           -0.32567778292945404,
           -0.3210343185560354,
           -0.31317589634427284,
           -0.30194177876754097,
           -0.28714197491104243,
           -0.268589046149572,
           -0.24613461781837798,
           -0.21970771693043264,
           -0.18935183535374994,
           -0.15525760655490364,
           -0.1177881852505473,
           -0.07749482277960204,
           -0.03512071345143313,
           0.00840808631479302,
           0.05200503792795912,
           0.09445829662141196,
           0.134477311926808,
           0.17074867404778504,
           0.20199833430642128,
           0.2270567942100705,
           0.24492352037505036,
           0.2548267267047997,
           0.2562747828163765,
           0.24909585663212155,
           0.23346296309158113,
           0.20990234059772522,
           0.1792839709402817,
           0.14279404657238684,
           0.1018902143955224,
           0.058241427706856384,
           0.013655158230898757,
           -0.030004497243790427,
           -0.07090368426500879,
           -0.10732612754693129,
           -0.1377563081818195,
           -0.1609539875623888,
           -0.1760159755489718,
           -0.18242166855756492,
           -0.1800597155006458
          ],
          [
           -0.17584069010379264,
           -0.18239300622958532,
           -0.1800313728705813,
           -0.16865061331126227,
           -0.14858307017251748,
           -0.12058300781296416,
           -0.0857896329957062,
           -0.045670869380806056,
           -0.001951040868825416,
           0.043473546354522816,
           0.08862652853638416,
           0.13154597877649798,
           0.17037647050011584,
           0.20345392533496165,
           0.22937894091767205,
           0.24707500803079696,
           0.25582893038458626,
           0.2553118000893658,
           0.2455799958764798,
           0.2270567942100705,
           0.20049625055173417,
           0.16693195814109418,
           0.12761407121954643,
           0.08393854575868848,
           0.037372873633869375,
           -0.010617349295218181,
           -0.05863687417657578,
           -0.10542055787501849,
           -0.14988136590815446,
           -0.19114437378651342,
           -0.22856545626592412,
           -0.2617343483375656,
           -0.29046275344788247,
           -0.31475910259630246,
           -0.33479237619194996,
           -0.35084804028714445,
           -0.3632795822101567,
           -0.37245933283868765,
           -0.3787322233669178,
           -0.382375848005458,
           -0.3835697098652554,
           -0.382375848005458,
           -0.3787322233669178,
           -0.37245933283868765,
           -0.3632795822101567,
           -0.35084804028714445,
           -0.33479237619194996,
           -0.31475910259630246,
           -0.29046275344788247,
           -0.2617343483375656,
           -0.22856545626592412,
           -0.19114437378651342,
           -0.14988136590815446,
           -0.10542055787501849,
           -0.05863687417657578,
           -0.010617349295218181,
           0.037372873633869375,
           0.08393854575868848,
           0.12761407121954643,
           0.16693195814109418,
           0.20049625055173417,
           0.2270567942100705,
           0.2455799958764798,
           0.2553118000893658,
           0.25582893038458626,
           0.24707500803079696,
           0.22937894091767205,
           0.20345392533496165,
           0.17037647050011584,
           0.13154597877649798,
           0.08862652853638416,
           0.043473546354522816,
           -0.001951040868825416,
           -0.045670869380806056,
           -0.0857896329957062,
           -0.12058300781296416,
           -0.14858307017251748,
           -0.16865061331126227,
           -0.1800313728705813,
           -0.18239300622958532
          ],
          [
           -0.1801446545297837,
           -0.18233559039097344,
           -0.1752665961050691,
           -0.15904136091487175,
           -0.13421936300715656,
           -0.10179031338845618,
           -0.0631265026963309,
           -0.019915691575644292,
           0.025921773001301992,
           0.07232710218505171,
           0.11720338291232232,
           0.15851669454452746,
           0.1943926655354523,
           0.2232034254780841,
           0.24364050109720906,
           0.25477004091850136,
           0.2560677827399544,
           0.24743234013685533,
           0.22917661128094333,
           0.20199833430642128,
           0.16693195814109418,
           0.12528500092613942,
           0.07856287339249271,
           0.02838670735216783,
           -0.02359098016854476,
           -0.0757679524450742,
           -0.12666669235949252,
           -0.17499760171649797,
           -0.21970771693043264,
           -0.26001264723920775,
           -0.29541051237375787,
           -0.32567778292945404,
           -0.35084804028714445,
           -0.37117570680030565,
           -0.38708768931988075,
           -0.3991265770886398,
           -0.407889497747319,
           -0.41396693622794944,
           -0.417885750201407,
           -0.4200602785751461,
           -0.4207548585159486,
           -0.4200602785751461,
           -0.417885750201407,
           -0.41396693622794944,
           -0.407889497747319,
           -0.3991265770886398,
           -0.38708768931988075,
           -0.37117570680030565,
           -0.35084804028714445,
           -0.32567778292945404,
           -0.29541051237375787,
           -0.26001264723920775,
           -0.21970771693043264,
           -0.17499760171649797,
           -0.12666669235949252,
           -0.0757679524450742,
           -0.02359098016854476,
           0.02838670735216783,
           0.07856287339249271,
           0.12528500092613942,
           0.16693195814109418,
           0.20199833430642128,
           0.22917661128094333,
           0.24743234013685533,
           0.2560677827399544,
           0.25477004091850136,
           0.24364050109720906,
           0.2232034254780841,
           0.1943926655354523,
           0.15851669454452746,
           0.11720338291232232,
           0.07232710218505171,
           0.025921773001301992,
           -0.019915691575644292,
           -0.0631265026963309,
           -0.10179031338845618,
           -0.13421936300715656,
           -0.15904136091487175,
           -0.1752665961050691,
           -0.18233559039097344
          ],
          [
           -0.18230376872794093,
           -0.18012123502583363,
           -0.16843605361995675,
           -0.14756752732225356,
           -0.11830504740258321,
           -0.08187218787401292,
           -0.039868134180728126,
           0.0058103924762656495,
           0.05306249567952219,
           0.09968670899986165,
           0.14348926836260514,
           0.18239124981424537,
           0.2145288714461612,
           0.2383416766936446,
           0.25264402764959015,
           0.2566762997375786,
           0.25013332713993036,
           0.23316893482082693,
           0.2063767337439853,
           0.17074867404778504,
           0.12761407121954643,
           0.07856287339249271,
           0.02535776443828009,
           -0.030159748399708135,
           -0.08616386191642225,
           -0.1409342819269669,
           -0.1929363397545002,
           -0.24088710992360066,
           -0.2838041182964338,
           -0.3210343185560354,
           -0.35226222727992795,
           -0.37749737145928347,
           -0.3970424421347404,
           -0.41144469052055266,
           -0.42143408131469146,
           -0.42785247459104203,
           -0.43157859884674826,
           -0.4334537754581445,
           -0.434213248547002,
           -0.43442757176285574,
           -0.43445783007337646,
           -0.43442757176285574,
           -0.434213248547002,
           -0.4334537754581445,
           -0.43157859884674826,
           -0.42785247459104203,
           -0.42143408131469146,
           -0.41144469052055266,
           -0.3970424421347404,
           -0.37749737145928347,
           -0.35226222727992795,
           -0.3210343185560354,
           -0.2838041182964338,
           -0.24088710992360066,
           -0.1929363397545002,
           -0.1409342819269669,
           -0.08616386191642225,
           -0.030159748399708135,
           0.02535776443828009,
           0.07856287339249271,
           0.12761407121954643,
           0.17074867404778504,
           0.2063767337439853,
           0.23316893482082693,
           0.25013332713993036,
           0.2566762997375786,
           0.25264402764959015,
           0.2383416766936446,
           0.2145288714461612,
           0.18239124981424537,
           0.14348926836260514,
           0.09968670899986165,
           0.05306249567952219,
           0.0058103924762656495,
           -0.039868134180728126,
           -0.08187218787401292,
           -0.11830504740258321,
           -0.14756752732225356,
           -0.16843605361995675,
           -0.18012123502583363
          ],
          [
           -0.18251498442862385,
           -0.1760159755489718,
           -0.15987112992755653,
           -0.13461888616197776,
           -0.10127808535368477,
           -0.061301442485772274,
           -0.016505930263581485,
           0.031016232090896562,
           0.07900122348247962,
           0.12512633286074154,
           0.16712567793535366,
           0.20290271423033404,
           0.23063350923189954,
           0.24885528388828942,
           0.25653555744366946,
           0.25311832399967577,
           0.23854497801642713,
           0.21324911772700825,
           0.17812580971586786,
           0.134477311926808,
           0.08393854575868848,
           0.02838670735216783,
           -0.030159748399708135,
           -0.08964697741323371,
           -0.14809048863531396,
           -0.2036729142303004,
           -0.254829433326894,
           -0.3003162506586467,
           -0.3392585664190622,
           -0.37117570680030565,
           -0.39598244357893553,
           -0.41396693622794944,
           -0.42574709936268906,
           -0.43220845214435083,
           -0.43442757176285574,
           -0.4335860886421158,
           -0.4308806796227811,
           -0.4274347075936389,
           -0.42421701152445723,
           -0.42197287899622543,
           -0.421171462695804,
           -0.42197287899622543,
           -0.42421701152445723,
           -0.4274347075936389,
           -0.4308806796227811,
           -0.4335860886421158,
           -0.43442757176285574,
           -0.43220845214435083,
           -0.42574709936268906,
           -0.41396693622794944,
           -0.39598244357893553,
           -0.37117570680030565,
           -0.3392585664190622,
           -0.3003162506586467,
           -0.254829433326894,
           -0.2036729142303004,
           -0.14809048863531396,
           -0.08964697741323371,
           -0.030159748399708135,
           0.02838670735216783,
           0.08393854575868848,
           0.134477311926808,
           0.17812580971586786,
           0.21324911772700825,
           0.23854497801642713,
           0.25311832399967577,
           0.25653555744366946,
           0.24885528388828942,
           0.23063350923189954,
           0.20290271423033404,
           0.16712567793535366,
           0.12512633286074154,
           0.07900122348247962,
           0.031016232090896562,
           -0.016505930263581485,
           -0.061301442485772274,
           -0.10127808535368477,
           -0.13461888616197776,
           -0.15987112992755653,
           -0.1760159755489718
          ],
          [
           -0.18100457917857166,
           -0.17030698199702413,
           -0.1499137997580331,
           -0.12058300781296416,
           -0.08355939645450051,
           -0.040517266401149735,
           0.0065202421682302655,
           0.05528095770522729,
           0.10335731863015635,
           0.14832776112580212,
           0.18787932061729182,
           0.21992483146863692,
           0.242708395806646,
           0.254893432701845,
           0.25562857790064414,
           0.24458792842044305,
           0.22198354690007724,
           0.18854967763954522,
           0.14549969299473817,
           0.09445829662141196,
           0.037372873633869375,
           -0.02359098016854476,
           -0.08616386191642225,
           -0.14809048863531396,
           -0.20724458052139974,
           -0.2617343483375656,
           -0.309992807249447,
           -0.35084804028714445,
           -0.3835697098652554,
           -0.407889497747319,
           -0.42399466300627076,
           -0.43249545715781157,
           -0.43436863670247905,
           -0.4308806796227811,
           -0.42349546556438716,
           -0.4137720534188708,
           -0.40325873487122593,
           -0.39338972722403176,
           -0.3853906832849483,
           -0.3801986514917913,
           -0.3784012476539641,
           -0.3801986514917913,
           -0.3853906832849483,
           -0.39338972722403176,
           -0.40325873487122593,
           -0.4137720534188708,
           -0.42349546556438716,
           -0.4308806796227811,
           -0.43436863670247905,
           -0.43249545715781157,
           -0.42399466300627076,
           -0.407889497747319,
           -0.3835697098652554,
           -0.35084804028714445,
           -0.309992807249447,
           -0.2617343483375656,
           -0.20724458052139974,
           -0.14809048863531396,
           -0.08616386191642225,
           -0.02359098016854476,
           0.037372873633869375,
           0.09445829662141196,
           0.14549969299473817,
           0.18854967763954522,
           0.22198354690007724,
           0.24458792842044305,
           0.25562857790064414,
           0.254893432701845,
           0.242708395806646,
           0.21992483146863692,
           0.18787932061729182,
           0.14832776112580212,
           0.10335731863015635,
           0.05528095770522729,
           0.0065202421682302655,
           -0.040517266401149735,
           -0.08355939645450051,
           -0.12058300781296416,
           -0.1499137997580331,
           -0.17030698199702413
          ],
          [
           -0.17801860199902664,
           -0.16329221750830802,
           -0.13890582780165694,
           -0.10583439818051152,
           -0.06554239869174844,
           -0.019915691575644292,
           0.02883009042098063,
           0.07825990831739421,
           0.1258425822940911,
           0.16908036038891633,
           0.20563779959612533,
           0.23346296309158113,
           0.2508943222213973,
           0.25674750760048576,
           0.25037713957121355,
           0.2317103248693539,
           0.20124995852555586,
           0.16004763127913005,
           0.1096476200446325,
           0.05200503792795912,
           -0.010617349295218181,
           -0.0757679524450742,
           -0.1409342819269669,
           -0.2036729142303004,
           -0.2617343483375656,
           -0.31317589634427284,
           -0.3564564355250057,
           -0.3905078789395116,
           -0.4147795406040892,
           -0.42925310491460716,
           -0.43442757176285574,
           -0.4312752446188071,
           -0.421171462695804,
           -0.40580225753498556,
           -0.38705535500366767,
           -0.36690087535799776,
           -0.3472686537517362,
           -0.32992927901128904,
           -0.3163857196862348,
           -0.3077817863653888,
           -0.30483270332925,
           -0.3077817863653888,
           -0.3163857196862348,
           -0.32992927901128904,
           -0.3472686537517362,
           -0.36690087535799776,
           -0.38705535500366767,
           -0.40580225753498556,
           -0.421171462695804,
           -0.4312752446188071,
           -0.43442757176285574,
           -0.42925310491460716,
           -0.4147795406040892,
           -0.3905078789395116,
           -0.3564564355250057,
           -0.31317589634427284,
           -0.2617343483375656,
           -0.2036729142303004,
           -0.1409342819269669,
           -0.0757679524450742,
           -0.010617349295218181,
           0.05200503792795912,
           0.1096476200446325,
           0.16004763127913005,
           0.20124995852555586,
           0.2317103248693539,
           0.25037713957121355,
           0.25674750760048576,
           0.2508943222213973,
           0.23346296309158113,
           0.20563779959612533,
           0.16908036038891633,
           0.1258425822940911,
           0.07825990831739421,
           0.02883009042098063,
           -0.019915691575644292,
           -0.06554239869174844,
           -0.10583439818051152,
           -0.13890582780165694,
           -0.16329221750830802
          ],
          [
           -0.1738139924448547,
           -0.15527119023634722,
           -0.1271795169340972,
           -0.0907256642328181,
           -0.04758506314163741,
           0.0001569493213448689,
           0.05010748884225075,
           0.09968670899986165,
           0.14626024334832619,
           0.18727640924644018,
           0.22040074178662336,
           0.24364050109720906,
           0.2554522819126627,
           0.2548267267047997,
           0.2413455569066888,
           0.2152076253393881,
           0.17722237538812438,
           0.12877087581897034,
           0.07173638515428266,
           0.00840808631479302,
           -0.05863687417657578,
           -0.12666669235949252,
           -0.1929363397545002,
           -0.254829433326894,
           -0.309992807249447,
           -0.3564564355250057,
           -0.39273214882544505,
           -0.417885750201407,
           -0.43157859884674826,
           -0.434076417833265,
           -0.42622489689420734,
           -0.4093935036702951,
           -0.3853906832849483,
           -0.35635521764627226,
           -0.324629843053556,
           -0.2926242127644853,
           -0.2626748843273063,
           -0.23691017597600564,
           -0.21712746254366178,
           -0.20468978410715197,
           -0.20044755867978276,
           -0.20468978410715197,
           -0.21712746254366178,
           -0.23691017597600564,
           -0.2626748843273063,
           -0.2926242127644853,
           -0.324629843053556,
           -0.35635521764627226,
           -0.3853906832849483,
           -0.4093935036702951,
           -0.42622489689420734,
           -0.434076417833265,
           -0.43157859884674826,
           -0.417885750201407,
           -0.39273214882544505,
           -0.3564564355250057,
           -0.309992807249447,
           -0.254829433326894,
           -0.1929363397545002,
           -0.12666669235949252,
           -0.05863687417657578,
           0.00840808631479302,
           0.07173638515428266,
           0.12877087581897034,
           0.17722237538812438,
           0.2152076253393881,
           0.2413455569066888,
           0.2548267267047997,
           0.2554522819126627,
           0.24364050109720906,
           0.22040074178662336,
           0.18727640924644018,
           0.14626024334832619,
           0.09968670899986165,
           0.05010748884225075,
           0.0001569493213448689,
           -0.04758506314163741,
           -0.0907256642328181,
           -0.1271795169340972,
           -0.15527119023634722
          ],
          [
           -0.16865061331126227,
           -0.14653700801271363,
           -0.11505016730310495,
           -0.07558080422426758,
           -0.030004497243790427,
           0.019407660252202565,
           0.07010183827093616,
           0.11937185506223688,
           0.16450028494360933,
           0.20290271423033404,
           0.23226729318028777,
           0.2506818889186662,
           0.2567417315441088,
           0.24963143467045815,
           0.22917661128094333,
           0.19586192453391038,
           0.15081422331281308,
           0.0957513146109,
           0.032898814044057145,
           -0.03512071345143313,
           -0.10542055787501849,
           -0.17499760171649797,
           -0.24088710992360066,
           -0.3003162506586467,
           -0.35084804028714445,
           -0.3905078789395116,
           -0.417885750201407,
           -0.43220845214435083,
           -0.4333778373354074,
           -0.42197287899622543,
           -0.39921534828629784,
           -0.36690087535799776,
           -0.32729906443176787,
           -0.28302803533990717,
           -0.23691017597600564,
           -0.19181693290541052,
           -0.15051108239111077,
           -0.11549507625799743,
           -0.08887373699192957,
           -0.0722388011028484,
           -0.06658162124929747,
           -0.0722388011028484,
           -0.08887373699192957,
           -0.11549507625799743,
           -0.15051108239111077,
           -0.19181693290541052,
           -0.23691017597600564,
           -0.28302803533990717,
           -0.32729906443176787,
           -0.36690087535799776,
           -0.39921534828629784,
           -0.42197287899622543,
           -0.4333778373354074,
           -0.43220845214435083,
           -0.417885750201407,
           -0.3905078789395116,
           -0.35084804028714445,
           -0.3003162506586467,
           -0.24088710992360066,
           -0.17499760171649797,
           -0.10542055787501849,
           -0.03512071345143313,
           0.032898814044057145,
           0.0957513146109,
           0.15081422331281308,
           0.19586192453391038,
           0.22917661128094333,
           0.24963143467045815,
           0.2567417315441088,
           0.2506818889186662,
           0.23226729318028777,
           0.20290271423033404,
           0.16450028494360933,
           0.11937185506223688,
           0.07010183827093616,
           0.019407660252202565,
           -0.030004497243790427,
           -0.07558080422426758,
           -0.11505016730310495,
           -0.14653700801271363
          ],
          [
           -0.16278435980926842,
           -0.13736985507049018,
           -0.10281030706494565,
           -0.060690608986011814,
           -0.013073952151520388,
           0.03759772656874239,
           0.08862652853638416,
           0.13719827990417027,
           0.18053174205108255,
           0.21602931256266372,
           0.24142096714711753,
           0.254893432701845,
           0.25519727019112654,
           0.24172565029557566,
           0.21456006847846779,
           0.17447999195279823,
           0.12293536517635703,
           0.06198291759831892,
           -0.005810793613848673,
           -0.07749482277960204,
           -0.14988136590815446,
           -0.21970771693043264,
           -0.2838041182964338,
           -0.3392585664190622,
           -0.3835697098652554,
           -0.4147795406040892,
           -0.43157859884674826,
           -0.4333778373354074,
           -0.4203430458705095,
           -0.39338972722403176,
           -0.3541384336243295,
           -0.30483270332925,
           -0.24822376277499153,
           -0.187427969950852,
           -0.1257644689695074,
           -0.06658162124929747,
           -0.0130814139378774,
           0.03184881503912622,
           0.0657883626364726,
           0.08691073780520595,
           0.0940800053732448,
           0.08691073780520595,
           0.0657883626364726,
           0.03184881503912622,
           -0.0130814139378774,
           -0.06658162124929747,
           -0.1257644689695074,
           -0.187427969950852,
           -0.24822376277499153,
           -0.30483270332925,
           -0.3541384336243295,
           -0.39338972722403176,
           -0.4203430458705095,
           -0.4333778373354074,
           -0.43157859884674826,
           -0.4147795406040892,
           -0.3835697098652554,
           -0.3392585664190622,
           -0.2838041182964338,
           -0.21970771693043264,
           -0.14988136590815446,
           -0.07749482277960204,
           -0.005810793613848673,
           0.06198291759831892,
           0.12293536517635703,
           0.17447999195279823,
           0.21456006847846779,
           0.24172565029557566,
           0.25519727019112654,
           0.254893432701845,
           0.24142096714711753,
           0.21602931256266372,
           0.18053174205108255,
           0.13719827990417027,
           0.08862652853638416,
           0.03759772656874239,
           -0.013073952151520388,
           -0.060690608986011814,
           -0.10281030706494565,
           -0.13736985507049018
          ],
          [
           -0.15646143337355978,
           -0.12803192632998142,
           -0.0907256642328181,
           -0.046310064114579955,
           0.0029779491154211806,
           0.054541276561040686,
           0.10555493165712146,
           0.15311446345017118,
           0.1943926655354523,
           0.22679610352037188,
           0.24811283911536614,
           0.2566430509401283,
           0.25130504004127213,
           0.2317103248693539,
           0.1982031145119569,
           0.15186131748507978,
           0.09445829662141196,
           0.02838670735216783,
           -0.043452159632214875,
           -0.1177881852505473,
           -0.19114437378651342,
           -0.26001264723920775,
           -0.3210343185560354,
           -0.37117570680030565,
           -0.407889497747319,
           -0.42925310491460716,
           -0.434076417833265,
           -0.42197287899622543,
           -0.39338972722403176,
           -0.3495953826561967,
           -0.2926242127644853,
           -0.22518118755916025,
           -0.15051108239111077,
           -0.0722388011028484,
           0.005811034304373925,
           0.07980593576993696,
           0.14609889758077332,
           0.20141317105264114,
           0.24300880867803662,
           0.2688222513075441,
           0.277571630583514,
           0.2688222513075441,
           0.24300880867803662,
           0.20141317105264114,
           0.14609889758077332,
           0.07980593576993696,
           0.005811034304373925,
           -0.0722388011028484,
           -0.15051108239111077,
           -0.22518118755916025,
           -0.2926242127644853,
           -0.3495953826561967,
           -0.39338972722403176,
           -0.42197287899622543,
           -0.434076417833265,
           -0.42925310491460716,
           -0.407889497747319,
           -0.37117570680030565,
           -0.3210343185560354,
           -0.26001264723920775,
           -0.19114437378651342,
           -0.1177881852505473,
           -0.043452159632214875,
           0.02838670735216783,
           0.09445829662141196,
           0.15186131748507978,
           0.1982031145119569,
           0.2317103248693539,
           0.25130504004127213,
           0.2566430509401283,
           0.24811283911536614,
           0.22679610352037188,
           0.1943926655354523,
           0.15311446345017118,
           0.10555493165712146,
           0.054541276561040686,
           0.0029779491154211806,
           -0.046310064114579955,
           -0.0907256642328181,
           -0.12803192632998142
          ],
          [
           -0.1499137997580331,
           -0.11876378051842666,
           -0.07903277128303789,
           -0.032657564269347995,
           0.017966041941118966,
           0.07010183827093616,
           0.12081441070397907,
           0.16712567793535366,
           0.2061784643801796,
           0.23539823538075702,
           0.25264402764959015,
           0.2563400102730029,
           0.2455799958764798,
           0.22019854657881394,
           0.18080401871815463,
           0.12877087581897034,
           0.0661907655654817,
           -0.004215913110515241,
           -0.0792240541655952,
           -0.15525760655490364,
           -0.22856545626592412,
           -0.29541051237375787,
           -0.35226222727992795,
           -0.39598244357893553,
           -0.42399466300627076,
           -0.43442757176285574,
           -0.42622489689420734,
           -0.39921534828629784,
           -0.3541384336243295,
           -0.2926242127644853,
           -0.21712746254366178,
           -0.13081912452072303,
           -0.03744017720227128,
           0.05887491198907235,
           0.1537963512162099,
           0.24300880867803662,
           0.32242214992953067,
           0.38837235101706136,
           0.43780226922078175,
           0.4684129583840573,
           0.47877771528316515,
           0.4684129583840573,
           0.43780226922078175,
           0.38837235101706136,
           0.32242214992953067,
           0.24300880867803662,
           0.1537963512162099,
           0.05887491198907235,
           -0.03744017720227128,
           -0.13081912452072303,
           -0.21712746254366178,
           -0.2926242127644853,
           -0.3541384336243295,
           -0.39921534828629784,
           -0.42622489689420734,
           -0.43442757176285574,
           -0.42399466300627076,
           -0.39598244357893553,
           -0.35226222727992795,
           -0.29541051237375787,
           -0.22856545626592412,
           -0.15525760655490364,
           -0.0792240541655952,
           -0.004215913110515241,
           0.0661907655654817,
           0.12877087581897034,
           0.18080401871815463,
           0.22019854657881394,
           0.2455799958764798,
           0.2563400102730029,
           0.25264402764959015,
           0.23539823538075702,
           0.2061784643801796,
           0.16712567793535366,
           0.12081441070397907,
           0.07010183827093616,
           0.017966041941118966,
           -0.032657564269347995,
           -0.07903277128303789,
           -0.11876378051842666
          ],
          [
           -0.14335579129849668,
           -0.10978201113265723,
           -0.06793803188546253,
           -0.019915691575644292,
           0.031745840459068614,
           0.08418731130237875,
           0.13437885433763305,
           0.1792839709402817,
           0.21602931256266372,
           0.2420710146043941,
           0.255348298963932,
           0.25441554164532254,
           0.23854497801642713,
           0.20779364608280457,
           0.1630299764243758,
           0.10591753298818528,
           0.03885568116655977,
           -0.03512071345143313,
           -0.11247819731414006,
           -0.18935183535374994,
           -0.2617343483375656,
           -0.32567778292945404,
           -0.37749737145928347,
           -0.41396693622794944,
           -0.43249545715781157,
           -0.4312752446188071,
           -0.4093935036702951,
           -0.36690087535799776,
           -0.30483270332925,
           -0.22518118755916025,
           -0.13081912452072303,
           -0.025378460035175753,
           0.08691073780520595,
           0.20141317105264114,
           0.3133036361206578,
           0.4177941096414197,
           0.5103612401471838,
           0.5869627944413911,
           0.6442321103834694,
           0.6796406846183429,
           0.69162061945593,
           0.6796406846183429,
           0.6442321103834694,
           0.5869627944413911,
           0.5103612401471838,
           0.4177941096414197,
           0.3133036361206578,
           0.20141317105264114,
           0.08691073780520595,
           -0.025378460035175753,
           -0.13081912452072303,
           -0.22518118755916025,
           -0.30483270332925,
           -0.36690087535799776,
           -0.4093935036702951,
           -0.4312752446188071,
           -0.43249545715781157,
           -0.41396693622794944,
           -0.37749737145928347,
           -0.32567778292945404,
           -0.2617343483375656,
           -0.18935183535374994,
           -0.11247819731414006,
           -0.03512071345143313,
           0.03885568116655977,
           0.10591753298818528,
           0.1630299764243758,
           0.20779364608280457,
           0.23854497801642713,
           0.25441554164532254,
           0.255348298963932,
           0.2420710146043941,
           0.21602931256266372,
           0.1792839709402817,
           0.13437885433763305,
           0.08418731130237875,
           0.031745840459068614,
           -0.019915691575644292,
           -0.06793803188546253,
           -0.10978201113265723
          ],
          [
           -0.13698176393514344,
           -0.10127808535368477,
           -0.05761803324395176,
           -0.00823327044894154,
           0.044209509361482956,
           0.09674378883254962,
           0.14626024334832619,
           0.18967745729212915,
           0.22411724822563847,
           0.24707500803079696,
           0.256575492104657,
           0.25130504004127213,
           0.23071227369415245,
           0.19507084218595108,
           0.14549969299473817,
           0.08393854575868848,
           0.013078615468659323,
           -0.06374895250625122,
           -0.1427221428215067,
           -0.21970771693043264,
           -0.29046275344788247,
           -0.35084804028714445,
           -0.3970424421347404,
           -0.42574709936268906,
           -0.43436863670247905,
           -0.421171462695804,
           -0.3853906832849483,
           -0.32729906443176787,
           -0.24822376277499153,
           -0.15051108239111077,
           -0.03744017720227128,
           0.08691073780520595,
           0.21783961811686398,
           0.35022902170777614,
           0.47877771528316515,
           0.5982441516081277,
           0.7036898157513979,
           0.7907103570985019,
           0.8556429685382863,
           0.8957396184216221,
           0.9092974268256817,
           0.8957396184216221,
           0.8556429685382863,
           0.7907103570985019,
           0.7036898157513979,
           0.5982441516081277,
           0.47877771528316515,
           0.35022902170777614,
           0.21783961811686398,
           0.08691073780520595,
           -0.03744017720227128,
           -0.15051108239111077,
           -0.24822376277499153,
           -0.32729906443176787,
           -0.3853906832849483,
           -0.421171462695804,
           -0.43436863670247905,
           -0.42574709936268906,
           -0.3970424421347404,
           -0.35084804028714445,
           -0.29046275344788247,
           -0.21970771693043264,
           -0.1427221428215067,
           -0.06374895250625122,
           0.013078615468659323,
           0.08393854575868848,
           0.14549969299473817,
           0.19507084218595108,
           0.23071227369415245,
           0.25130504004127213,
           0.256575492104657,
           0.24707500803079696,
           0.22411724822563847,
           0.18967745729212915,
           0.14626024334832619,
           0.09674378883254962,
           0.044209509361482956,
           -0.00823327044894154,
           -0.05761803324395176,
           -0.10127808535368477
          ],
          [
           -0.13096468174943518,
           -0.09341816596346665,
           -0.04822085787410071,
           0.0022716100207446164,
           0.05528095770522729,
           0.10774865812501504,
           0.15649972810645998,
           0.19841943861188654,
           0.23063350923189954,
           0.2506818889186662,
           0.2566762997375786,
           0.24743234013685533,
           0.2225680860000738,
           0.18256273925541686,
           0.12877087581897034,
           0.06339013493636744,
           -0.010617349295218181,
           -0.08964697741323371,
           -0.1696119802323752,
           -0.24613461781837798,
           -0.31475910259630246,
           -0.37117570680030565,
           -0.41144469052055266,
           -0.43220845214435083,
           -0.4308806796227811,
           -0.40580225753498556,
           -0.35635521764627226,
           -0.28302803533990717,
           -0.187427969950852,
           -0.0722388011028484,
           0.05887491198907235,
           0.20141317105264114,
           0.35022902170777614,
           0.49975144871271493,
           0.6442321103834694,
           0.7780040258931075,
           0.8957396184216221,
           0.992695449836068,
           1.0649315658049785,
           1.1094945766040856,
           1.124555367855928,
           1.1094945766040856,
           1.0649315658049785,
           0.992695449836068,
           0.8957396184216221,
           0.7780040258931075,
           0.6442321103834694,
           0.49975144871271493,
           0.35022902170777614,
           0.20141317105264114,
           0.05887491198907235,
           -0.0722388011028484,
           -0.187427969950852,
           -0.28302803533990717,
           -0.35635521764627226,
           -0.40580225753498556,
           -0.4308806796227811,
           -0.43220845214435083,
           -0.41144469052055266,
           -0.37117570680030565,
           -0.31475910259630246,
           -0.24613461781837798,
           -0.1696119802323752,
           -0.08964697741323371,
           -0.010617349295218181,
           0.06339013493636744,
           0.12877087581897034,
           0.18256273925541686,
           0.2225680860000738,
           0.24743234013685533,
           0.2566762997375786,
           0.2506818889186662,
           0.23063350923189954,
           0.19841943861188654,
           0.15649972810645998,
           0.10774865812501504,
           0.05528095770522729,
           0.0022716100207446164,
           -0.04822085787410071,
           -0.09341816596346665
          ],
          [
           -0.1254554756233313,
           -0.08634370978474622,
           -0.039868134180728126,
           0.011507919583092052,
           0.0649104168254659,
           0.11720338291232232,
           0.16515865057394133,
           0.20563779959612533,
           0.23577655069724138,
           0.2531614457800734,
           0.2559887694405144,
           0.2431963471432226,
           0.21456006847846779,
           0.17074867404778504,
           0.11333242903336226,
           0.044743679368913644,
           -0.03181017613329085,
           -0.11247819731414006,
           -0.1929363397545002,
           -0.268589046149572,
           -0.33479237619194996,
           -0.38708768931988075,
           -0.42143408131469146,
           -0.43442757176285574,
           -0.42349546556438716,
           -0.38705535500366767,
           -0.324629843053556,
           -0.23691017597600564,
           -0.1257644689695074,
           0.005811034304373925,
           0.1537963512162099,
           0.3133036361206578,
           0.47877771528316515,
           0.6442321103834694,
           0.803509484779075,
           0.9505541014891831,
           1.0796831610910465,
           1.1858438330909473,
           1.2648434125627805,
           1.3135412961886945,
           1.3299933154720727,
           1.3135412961886945,
           1.2648434125627805,
           1.1858438330909473,
           1.0796831610910465,
           0.9505541014891831,
           0.803509484779075,
           0.6442321103834694,
           0.47877771528316515,
           0.3133036361206578,
           0.1537963512162099,
           0.005811034304373925,
           -0.1257644689695074,
           -0.23691017597600564,
           -0.324629843053556,
           -0.38705535500366767,
           -0.42349546556438716,
           -0.43442757176285574,
           -0.42143408131469146,
           -0.38708768931988075,
           -0.33479237619194996,
           -0.268589046149572,
           -0.1929363397545002,
           -0.11247819731414006,
           -0.03181017613329085,
           0.044743679368913644,
           0.11333242903336226,
           0.17074867404778504,
           0.21456006847846779,
           0.2431963471432226,
           0.2559887694405144,
           0.2531614457800734,
           0.23577655069724138,
           0.20563779959612533,
           0.16515865057394133,
           0.11720338291232232,
           0.0649104168254659,
           0.011507919583092052,
           -0.039868134180728126,
           -0.08634370978474622
          ],
          [
           -0.12058300781296416,
           -0.08017262722723162,
           -0.032657564269347995,
           0.019407660252202565,
           0.07306884206017318,
           0.12512633286074154,
           0.17230988766358785,
           0.21146505144444128,
           0.23974108638511749,
           0.25477004091850136,
           0.2548267267047997,
           0.23896010343988033,
           0.2070878465419809,
           0.16004763127913005,
           0.09960082298540655,
           0.02838670735216783,
           -0.050171999808914604,
           -0.132008995765264,
           -0.2125937105436689,
           -0.28714197491104243,
           -0.35084804028714445,
           -0.3991265770886398,
           -0.42785247459104203,
           -0.4335860886421158,
           -0.4137720534188708,
           -0.36690087535799776,
           -0.2926242127644853,
           -0.19181693290541052,
           -0.06658162124929747,
           0.07980593576993696,
           0.24300880867803662,
           0.4177941096414197,
           0.5982441516081277,
           0.7780040258931075,
           0.9505541014891831,
           1.1094945766040856,
           1.2488284837498442,
           1.3632295064019535,
           1.4482816142111579,
           1.500678835049543,
           1.518375390968938,
           1.500678835049543,
           1.4482816142111579,
           1.3632295064019535,
           1.2488284837498442,
           1.1094945766040856,
           0.9505541014891831,
           0.7780040258931075,
           0.5982441516081277,
           0.4177941096414197,
           0.24300880867803662,
           0.07980593576993696,
           -0.06658162124929747,
           -0.19181693290541052,
           -0.2926242127644853,
           -0.36690087535799776,
           -0.4137720534188708,
           -0.4335860886421158,
           -0.42785247459104203,
           -0.3991265770886398,
           -0.35084804028714445,
           -0.28714197491104243,
           -0.2125937105436689,
           -0.132008995765264,
           -0.050171999808914604,
           0.02838670735216783,
           0.09960082298540655,
           0.16004763127913005,
           0.2070878465419809,
           0.23896010343988033,
           0.2548267267047997,
           0.25477004091850136,
           0.23974108638511749,
           0.21146505144444128,
           0.17230988766358785,
           0.12512633286074154,
           0.07306884206017318,
           0.019407660252202565,
           -0.032657564269347995,
           -0.08017262722723162
          ],
          [
           -0.1164544699167505,
           -0.0750007897964791,
           -0.026665677985416577,
           0.025921773001301992,
           0.07974244535617742,
           0.13154597877649798,
           0.17802983029511174,
           0.21602931256266372,
           0.242708395806646,
           0.2557406839380664,
           0.25347017586536014,
           0.23504220166614895,
           0.20049625055173417,
           0.15081422331281308,
           0.08791985781076668,
           0.014627580006334946,
           -0.06545830501430487,
           -0.14809048863531396,
           -0.22856545626592412,
           -0.30194177876754097,
           -0.3632795822101567,
           -0.407889497747319,
           -0.43157859884674826,
           -0.4308806796227811,
           -0.40325873487122593,
           -0.3472686537517362,
           -0.2626748843273063,
           -0.15051108239111077,
           -0.0130814139378774,
           0.14609889758077332,
           0.32242214992953067,
           0.5103612401471838,
           0.7036898157513979,
           0.8957396184216221,
           1.0796831610910465,
           1.2488284837498442,
           1.3969119972732167,
           1.518375390968938,
           1.608613254431116,
           1.6641794167481594,
           1.682941969615793,
           1.6641794167481594,
           1.608613254431116,
           1.518375390968938,
           1.3969119972732167,
           1.2488284837498442,
           1.0796831610910465,
           0.8957396184216221,
           0.7036898157513979,
           0.5103612401471838,
           0.32242214992953067,
           0.14609889758077332,
           -0.0130814139378774,
           -0.15051108239111077,
           -0.2626748843273063,
           -0.3472686537517362,
           -0.40325873487122593,
           -0.4308806796227811,
           -0.43157859884674826,
           -0.407889497747319,
           -0.3632795822101567,
           -0.30194177876754097,
           -0.22856545626592412,
           -0.14809048863531396,
           -0.06545830501430487,
           0.014627580006334946,
           0.08791985781076668,
           0.15081422331281308,
           0.20049625055173417,
           0.23504220166614895,
           0.25347017586536014,
           0.2557406839380664,
           0.242708395806646,
           0.21602931256266372,
           0.17802983029511174,
           0.13154597877649798,
           0.07974244535617742,
           0.025921773001301992,
           -0.026665677985416577,
           -0.0750007897964791
          ],
          [
           -0.1131560467581887,
           -0.07090368426500879,
           -0.021950582012676394,
           0.031016232090896562,
           0.08492762656935865,
           0.13649472168344115,
           0.18239124981424537,
           0.21944644111666822,
           0.24483804991090946,
           0.2562747828163765,
           0.252157618714697,
           0.2317103248693539,
           0.19507084218595108,
           0.1433370736825879,
           0.07856287339249271,
           0.0037025838949493145,
           -0.07749482277960204,
           -0.16063822727306362,
           -0.24088710992360066,
           -0.31317589634427284,
           -0.37245933283868765,
           -0.41396693622794944,
           -0.4334537754581445,
           -0.4274347075936389,
           -0.39338972722403176,
           -0.32992927901128904,
           -0.23691017597600564,
           -0.11549507625799743,
           0.03184881503912622,
           0.20141317105264114,
           0.38837235101706136,
           0.5869627944413911,
           0.7907103570985019,
           0.992695449836068,
           1.1858438330909473,
           1.3632295064019535,
           1.518375390968938,
           1.6455374774968983,
           1.7399588071171015,
           1.7980810383563555,
           1.8177033600622243,
           1.7980810383563555,
           1.7399588071171015,
           1.6455374774968983,
           1.518375390968938,
           1.3632295064019535,
           1.1858438330909473,
           0.992695449836068,
           0.7907103570985019,
           0.5869627944413911,
           0.38837235101706136,
           0.20141317105264114,
           0.03184881503912622,
           -0.11549507625799743,
           -0.23691017597600564,
           -0.32992927901128904,
           -0.39338972722403176,
           -0.4274347075936389,
           -0.4334537754581445,
           -0.41396693622794944,
           -0.37245933283868765,
           -0.31317589634427284,
           -0.24088710992360066,
           -0.16063822727306362,
           -0.07749482277960204,
           0.0037025838949493145,
           0.07856287339249271,
           0.1433370736825879,
           0.19507084218595108,
           0.2317103248693539,
           0.252157618714697,
           0.2562747828163765,
           0.24483804991090946,
           0.21944644111666822,
           0.18239124981424537,
           0.13649472168344115,
           0.08492762656935865,
           0.031016232090896562,
           -0.021950582012676394,
           -0.07090368426500879
          ],
          [
           -0.1107536917561867,
           -0.06793803188546253,
           -0.01855449981019833,
           0.03466854669458865,
           0.08862652853638416,
           0.14000357308347133,
           0.18545724476618586,
           0.22181346801290225,
           0.24626113579560338,
           0.25653555744366946,
           0.25108014921898075,
           0.22917661128094333,
           0.19103523332295086,
           0.13783886506830845,
           0.07173638515428266,
           -0.004215913110515241,
           -0.08616386191642225,
           -0.1696119802323752,
           -0.24962054293732017,
           -0.3210343185560354,
           -0.3787322233669178,
           -0.417885750201407,
           -0.434213248547002,
           -0.42421701152445723,
           -0.3853906832849483,
           -0.3163857196862348,
           -0.21712746254366178,
           -0.08887373699192957,
           0.0657883626364726,
           0.24300880867803662,
           0.43780226922078175,
           0.6442321103834694,
           0.8556429685382863,
           1.0649315658049785,
           1.2648434125627805,
           1.4482816142111579,
           1.608613254431116,
           1.7399588071171015,
           1.8374507397311368,
           1.8974488797623419,
           1.917702154416812,
           1.8974488797623419,
           1.8374507397311368,
           1.7399588071171015,
           1.608613254431116,
           1.4482816142111579,
           1.2648434125627805,
           1.0649315658049785,
           0.8556429685382863,
           0.6442321103834694,
           0.43780226922078175,
           0.24300880867803662,
           0.0657883626364726,
           -0.08887373699192957,
           -0.21712746254366178,
           -0.3163857196862348,
           -0.3853906832849483,
           -0.42421701152445723,
           -0.434213248547002,
           -0.417885750201407,
           -0.3787322233669178,
           -0.3210343185560354,
           -0.24962054293732017,
           -0.1696119802323752,
           -0.08616386191642225,
           -0.004215913110515241,
           0.07173638515428266,
           0.13783886506830845,
           0.19103523332295086,
           0.22917661128094333,
           0.25108014921898075,
           0.25653555744366946,
           0.24626113579560338,
           0.22181346801290225,
           0.18545724476618586,
           0.14000357308347133,
           0.08862652853638416,
           0.03466854669458865,
           -0.01855449981019833,
           -0.06793803188546253
          ],
          [
           -0.10929387900894774,
           -0.06614321685638791,
           -0.016505930263581485,
           0.03686485131708162,
           0.09084339726921295,
           0.14209785531573388,
           0.18727640924644018,
           0.2232034254780841,
           0.24707500803079696,
           0.2566430509401283,
           0.25037713957121355,
           0.22759450814784551,
           0.18854967763954522,
           0.134477311926808,
           0.06758414818694233,
           -0.009011537058698997,
           -0.09139170665445415,
           -0.17499760171649797,
           -0.254829433326894,
           -0.32567778292945404,
           -0.382375848005458,
           -0.4200602785751461,
           -0.43442757176285574,
           -0.42197287899622543,
           -0.3801986514917913,
           -0.3077817863653888,
           -0.20468978410715197,
           -0.0722388011028484,
           0.08691073780520595,
           0.2688222513075441,
           0.4684129583840573,
           0.6796406846183429,
           0.8957396184216221,
           1.1094945766040856,
           1.3135412961886945,
           1.500678835049543,
           1.6641794167481594,
           1.7980810383563555,
           1.8974488797623419,
           1.9585929762944412,
           1.9792316740361835,
           1.9585929762944412,
           1.8974488797623419,
           1.7980810383563555,
           1.6641794167481594,
           1.500678835049543,
           1.3135412961886945,
           1.1094945766040856,
           0.8957396184216221,
           0.6796406846183429,
           0.4684129583840573,
           0.2688222513075441,
           0.08691073780520595,
           -0.0722388011028484,
           -0.20468978410715197,
           -0.3077817863653888,
           -0.3801986514917913,
           -0.42197287899622543,
           -0.43442757176285574,
           -0.4200602785751461,
           -0.382375848005458,
           -0.32567778292945404,
           -0.254829433326894,
           -0.17499760171649797,
           -0.09139170665445415,
           -0.009011537058698997,
           0.06758414818694233,
           0.134477311926808,
           0.18854967763954522,
           0.22759450814784551,
           0.25037713957121355,
           0.2566430509401283,
           0.24707500803079696,
           0.2232034254780841,
           0.18727640924644018,
           0.14209785531573388,
           0.09084339726921295,
           0.03686485131708162,
           -0.016505930263581485,
           -0.06614321685638791
          ],
          [
           -0.10880422217787396,
           -0.06554239869174844,
           -0.015821288518275644,
           0.03759772656874239,
           0.09158188560927924,
           0.14279404657238684,
           0.18787932061729182,
           0.22366162672468853,
           0.24733956165584545,
           0.2566706526738519,
           0.25013332713993036,
           0.2270567942100705,
           0.18771045677679687,
           0.1333463922312941,
           0.0661907655654817,
           -0.010617349295218181,
           -0.09313849939964196,
           -0.17679272260843765,
           -0.2565601183892334,
           -0.32721314035298743,
           -0.3835697098652554,
           -0.4207548585159486,
           -0.43445783007337646,
           -0.421171462695804,
           -0.3784012476539641,
           -0.30483270332925,
           -0.20044755867978276,
           -0.06658162124929747,
           0.0940800053732448,
           0.277571630583514,
           0.47877771528316515,
           0.69162061945593,
           0.9092974268256817,
           1.124555367855928,
           1.3299933154720727,
           1.518375390968938,
           1.682941969615793,
           1.8177033600622243,
           1.917702154416812,
           1.9792316740361835,
           null,
           1.9792316740361835,
           1.917702154416812,
           1.8177033600622243,
           1.682941969615793,
           1.518375390968938,
           1.3299933154720727,
           1.124555367855928,
           0.9092974268256817,
           0.69162061945593,
           0.47877771528316515,
           0.277571630583514,
           0.0940800053732448,
           -0.06658162124929747,
           -0.20044755867978276,
           -0.30483270332925,
           -0.3784012476539641,
           -0.421171462695804,
           -0.43445783007337646,
           -0.4207548585159486,
           -0.3835697098652554,
           -0.32721314035298743,
           -0.2565601183892334,
           -0.17679272260843765,
           -0.09313849939964196,
           -0.010617349295218181,
           0.0661907655654817,
           0.1333463922312941,
           0.18771045677679687,
           0.2270567942100705,
           0.25013332713993036,
           0.2566706526738519,
           0.24733956165584545,
           0.22366162672468853,
           0.18787932061729182,
           0.14279404657238684,
           0.09158188560927924,
           0.03759772656874239,
           -0.015821288518275644,
           -0.06554239869174844
          ],
          [
           -0.10929387900894774,
           -0.06614321685638791,
           -0.016505930263581485,
           0.03686485131708162,
           0.09084339726921295,
           0.14209785531573388,
           0.18727640924644018,
           0.2232034254780841,
           0.24707500803079696,
           0.2566430509401283,
           0.25037713957121355,
           0.22759450814784551,
           0.18854967763954522,
           0.134477311926808,
           0.06758414818694233,
           -0.009011537058698997,
           -0.09139170665445415,
           -0.17499760171649797,
           -0.254829433326894,
           -0.32567778292945404,
           -0.382375848005458,
           -0.4200602785751461,
           -0.43442757176285574,
           -0.42197287899622543,
           -0.3801986514917913,
           -0.3077817863653888,
           -0.20468978410715197,
           -0.0722388011028484,
           0.08691073780520595,
           0.2688222513075441,
           0.4684129583840573,
           0.6796406846183429,
           0.8957396184216221,
           1.1094945766040856,
           1.3135412961886945,
           1.500678835049543,
           1.6641794167481594,
           1.7980810383563555,
           1.8974488797623419,
           1.9585929762944412,
           1.9792316740361835,
           1.9585929762944412,
           1.8974488797623419,
           1.7980810383563555,
           1.6641794167481594,
           1.500678835049543,
           1.3135412961886945,
           1.1094945766040856,
           0.8957396184216221,
           0.6796406846183429,
           0.4684129583840573,
           0.2688222513075441,
           0.08691073780520595,
           -0.0722388011028484,
           -0.20468978410715197,
           -0.3077817863653888,
           -0.3801986514917913,
           -0.42197287899622543,
           -0.43442757176285574,
           -0.4200602785751461,
           -0.382375848005458,
           -0.32567778292945404,
           -0.254829433326894,
           -0.17499760171649797,
           -0.09139170665445415,
           -0.009011537058698997,
           0.06758414818694233,
           0.134477311926808,
           0.18854967763954522,
           0.22759450814784551,
           0.25037713957121355,
           0.2566430509401283,
           0.24707500803079696,
           0.2232034254780841,
           0.18727640924644018,
           0.14209785531573388,
           0.09084339726921295,
           0.03686485131708162,
           -0.016505930263581485,
           -0.06614321685638791
          ],
          [
           -0.1107536917561867,
           -0.06793803188546253,
           -0.01855449981019833,
           0.03466854669458865,
           0.08862652853638416,
           0.14000357308347133,
           0.18545724476618586,
           0.22181346801290225,
           0.24626113579560338,
           0.25653555744366946,
           0.25108014921898075,
           0.22917661128094333,
           0.19103523332295086,
           0.13783886506830845,
           0.07173638515428266,
           -0.004215913110515241,
           -0.08616386191642225,
           -0.1696119802323752,
           -0.24962054293732017,
           -0.3210343185560354,
           -0.3787322233669178,
           -0.417885750201407,
           -0.434213248547002,
           -0.42421701152445723,
           -0.3853906832849483,
           -0.3163857196862348,
           -0.21712746254366178,
           -0.08887373699192957,
           0.0657883626364726,
           0.24300880867803662,
           0.43780226922078175,
           0.6442321103834694,
           0.8556429685382863,
           1.0649315658049785,
           1.2648434125627805,
           1.4482816142111579,
           1.608613254431116,
           1.7399588071171015,
           1.8374507397311368,
           1.8974488797623419,
           1.917702154416812,
           1.8974488797623419,
           1.8374507397311368,
           1.7399588071171015,
           1.608613254431116,
           1.4482816142111579,
           1.2648434125627805,
           1.0649315658049785,
           0.8556429685382863,
           0.6442321103834694,
           0.43780226922078175,
           0.24300880867803662,
           0.0657883626364726,
           -0.08887373699192957,
           -0.21712746254366178,
           -0.3163857196862348,
           -0.3853906832849483,
           -0.42421701152445723,
           -0.434213248547002,
           -0.417885750201407,
           -0.3787322233669178,
           -0.3210343185560354,
           -0.24962054293732017,
           -0.1696119802323752,
           -0.08616386191642225,
           -0.004215913110515241,
           0.07173638515428266,
           0.13783886506830845,
           0.19103523332295086,
           0.22917661128094333,
           0.25108014921898075,
           0.25653555744366946,
           0.24626113579560338,
           0.22181346801290225,
           0.18545724476618586,
           0.14000357308347133,
           0.08862652853638416,
           0.03466854669458865,
           -0.01855449981019833,
           -0.06793803188546253
          ],
          [
           -0.1131560467581887,
           -0.07090368426500879,
           -0.021950582012676394,
           0.031016232090896562,
           0.08492762656935865,
           0.13649472168344115,
           0.18239124981424537,
           0.21944644111666822,
           0.24483804991090946,
           0.2562747828163765,
           0.252157618714697,
           0.2317103248693539,
           0.19507084218595108,
           0.1433370736825879,
           0.07856287339249271,
           0.0037025838949493145,
           -0.07749482277960204,
           -0.16063822727306362,
           -0.24088710992360066,
           -0.31317589634427284,
           -0.37245933283868765,
           -0.41396693622794944,
           -0.4334537754581445,
           -0.4274347075936389,
           -0.39338972722403176,
           -0.32992927901128904,
           -0.23691017597600564,
           -0.11549507625799743,
           0.03184881503912622,
           0.20141317105264114,
           0.38837235101706136,
           0.5869627944413911,
           0.7907103570985019,
           0.992695449836068,
           1.1858438330909473,
           1.3632295064019535,
           1.518375390968938,
           1.6455374774968983,
           1.7399588071171015,
           1.7980810383563555,
           1.8177033600622243,
           1.7980810383563555,
           1.7399588071171015,
           1.6455374774968983,
           1.518375390968938,
           1.3632295064019535,
           1.1858438330909473,
           0.992695449836068,
           0.7907103570985019,
           0.5869627944413911,
           0.38837235101706136,
           0.20141317105264114,
           0.03184881503912622,
           -0.11549507625799743,
           -0.23691017597600564,
           -0.32992927901128904,
           -0.39338972722403176,
           -0.4274347075936389,
           -0.4334537754581445,
           -0.41396693622794944,
           -0.37245933283868765,
           -0.31317589634427284,
           -0.24088710992360066,
           -0.16063822727306362,
           -0.07749482277960204,
           0.0037025838949493145,
           0.07856287339249271,
           0.1433370736825879,
           0.19507084218595108,
           0.2317103248693539,
           0.252157618714697,
           0.2562747828163765,
           0.24483804991090946,
           0.21944644111666822,
           0.18239124981424537,
           0.13649472168344115,
           0.08492762656935865,
           0.031016232090896562,
           -0.021950582012676394,
           -0.07090368426500879
          ],
          [
           -0.1164544699167505,
           -0.0750007897964791,
           -0.026665677985416577,
           0.025921773001301992,
           0.07974244535617742,
           0.13154597877649798,
           0.17802983029511174,
           0.21602931256266372,
           0.242708395806646,
           0.2557406839380664,
           0.25347017586536014,
           0.23504220166614895,
           0.20049625055173417,
           0.15081422331281308,
           0.08791985781076668,
           0.014627580006334946,
           -0.06545830501430487,
           -0.14809048863531396,
           -0.22856545626592412,
           -0.30194177876754097,
           -0.3632795822101567,
           -0.407889497747319,
           -0.43157859884674826,
           -0.4308806796227811,
           -0.40325873487122593,
           -0.3472686537517362,
           -0.2626748843273063,
           -0.15051108239111077,
           -0.0130814139378774,
           0.14609889758077332,
           0.32242214992953067,
           0.5103612401471838,
           0.7036898157513979,
           0.8957396184216221,
           1.0796831610910465,
           1.2488284837498442,
           1.3969119972732167,
           1.518375390968938,
           1.608613254431116,
           1.6641794167481594,
           1.682941969615793,
           1.6641794167481594,
           1.608613254431116,
           1.518375390968938,
           1.3969119972732167,
           1.2488284837498442,
           1.0796831610910465,
           0.8957396184216221,
           0.7036898157513979,
           0.5103612401471838,
           0.32242214992953067,
           0.14609889758077332,
           -0.0130814139378774,
           -0.15051108239111077,
           -0.2626748843273063,
           -0.3472686537517362,
           -0.40325873487122593,
           -0.4308806796227811,
           -0.43157859884674826,
           -0.407889497747319,
           -0.3632795822101567,
           -0.30194177876754097,
           -0.22856545626592412,
           -0.14809048863531396,
           -0.06545830501430487,
           0.014627580006334946,
           0.08791985781076668,
           0.15081422331281308,
           0.20049625055173417,
           0.23504220166614895,
           0.25347017586536014,
           0.2557406839380664,
           0.242708395806646,
           0.21602931256266372,
           0.17802983029511174,
           0.13154597877649798,
           0.07974244535617742,
           0.025921773001301992,
           -0.026665677985416577,
           -0.0750007897964791
          ],
          [
           -0.12058300781296416,
           -0.08017262722723162,
           -0.032657564269347995,
           0.019407660252202565,
           0.07306884206017318,
           0.12512633286074154,
           0.17230988766358785,
           0.21146505144444128,
           0.23974108638511749,
           0.25477004091850136,
           0.2548267267047997,
           0.23896010343988033,
           0.2070878465419809,
           0.16004763127913005,
           0.09960082298540655,
           0.02838670735216783,
           -0.050171999808914604,
           -0.132008995765264,
           -0.2125937105436689,
           -0.28714197491104243,
           -0.35084804028714445,
           -0.3991265770886398,
           -0.42785247459104203,
           -0.4335860886421158,
           -0.4137720534188708,
           -0.36690087535799776,
           -0.2926242127644853,
           -0.19181693290541052,
           -0.06658162124929747,
           0.07980593576993696,
           0.24300880867803662,
           0.4177941096414197,
           0.5982441516081277,
           0.7780040258931075,
           0.9505541014891831,
           1.1094945766040856,
           1.2488284837498442,
           1.3632295064019535,
           1.4482816142111579,
           1.500678835049543,
           1.518375390968938,
           1.500678835049543,
           1.4482816142111579,
           1.3632295064019535,
           1.2488284837498442,
           1.1094945766040856,
           0.9505541014891831,
           0.7780040258931075,
           0.5982441516081277,
           0.4177941096414197,
           0.24300880867803662,
           0.07980593576993696,
           -0.06658162124929747,
           -0.19181693290541052,
           -0.2926242127644853,
           -0.36690087535799776,
           -0.4137720534188708,
           -0.4335860886421158,
           -0.42785247459104203,
           -0.3991265770886398,
           -0.35084804028714445,
           -0.28714197491104243,
           -0.2125937105436689,
           -0.132008995765264,
           -0.050171999808914604,
           0.02838670735216783,
           0.09960082298540655,
           0.16004763127913005,
           0.2070878465419809,
           0.23896010343988033,
           0.2548267267047997,
           0.25477004091850136,
           0.23974108638511749,
           0.21146505144444128,
           0.17230988766358785,
           0.12512633286074154,
           0.07306884206017318,
           0.019407660252202565,
           -0.032657564269347995,
           -0.08017262722723162
          ],
          [
           -0.1254554756233313,
           -0.08634370978474622,
           -0.039868134180728126,
           0.011507919583092052,
           0.0649104168254659,
           0.11720338291232232,
           0.16515865057394133,
           0.20563779959612533,
           0.23577655069724138,
           0.2531614457800734,
           0.2559887694405144,
           0.2431963471432226,
           0.21456006847846779,
           0.17074867404778504,
           0.11333242903336226,
           0.044743679368913644,
           -0.03181017613329085,
           -0.11247819731414006,
           -0.1929363397545002,
           -0.268589046149572,
           -0.33479237619194996,
           -0.38708768931988075,
           -0.42143408131469146,
           -0.43442757176285574,
           -0.42349546556438716,
           -0.38705535500366767,
           -0.324629843053556,
           -0.23691017597600564,
           -0.1257644689695074,
           0.005811034304373925,
           0.1537963512162099,
           0.3133036361206578,
           0.47877771528316515,
           0.6442321103834694,
           0.803509484779075,
           0.9505541014891831,
           1.0796831610910465,
           1.1858438330909473,
           1.2648434125627805,
           1.3135412961886945,
           1.3299933154720727,
           1.3135412961886945,
           1.2648434125627805,
           1.1858438330909473,
           1.0796831610910465,
           0.9505541014891831,
           0.803509484779075,
           0.6442321103834694,
           0.47877771528316515,
           0.3133036361206578,
           0.1537963512162099,
           0.005811034304373925,
           -0.1257644689695074,
           -0.23691017597600564,
           -0.324629843053556,
           -0.38705535500366767,
           -0.42349546556438716,
           -0.43442757176285574,
           -0.42143408131469146,
           -0.38708768931988075,
           -0.33479237619194996,
           -0.268589046149572,
           -0.1929363397545002,
           -0.11247819731414006,
           -0.03181017613329085,
           0.044743679368913644,
           0.11333242903336226,
           0.17074867404778504,
           0.21456006847846779,
           0.2431963471432226,
           0.2559887694405144,
           0.2531614457800734,
           0.23577655069724138,
           0.20563779959612533,
           0.16515865057394133,
           0.11720338291232232,
           0.0649104168254659,
           0.011507919583092052,
           -0.039868134180728126,
           -0.08634370978474622
          ],
          [
           -0.13096468174943518,
           -0.09341816596346665,
           -0.04822085787410071,
           0.0022716100207446164,
           0.05528095770522729,
           0.10774865812501504,
           0.15649972810645998,
           0.19841943861188654,
           0.23063350923189954,
           0.2506818889186662,
           0.2566762997375786,
           0.24743234013685533,
           0.2225680860000738,
           0.18256273925541686,
           0.12877087581897034,
           0.06339013493636744,
           -0.010617349295218181,
           -0.08964697741323371,
           -0.1696119802323752,
           -0.24613461781837798,
           -0.31475910259630246,
           -0.37117570680030565,
           -0.41144469052055266,
           -0.43220845214435083,
           -0.4308806796227811,
           -0.40580225753498556,
           -0.35635521764627226,
           -0.28302803533990717,
           -0.187427969950852,
           -0.0722388011028484,
           0.05887491198907235,
           0.20141317105264114,
           0.35022902170777614,
           0.49975144871271493,
           0.6442321103834694,
           0.7780040258931075,
           0.8957396184216221,
           0.992695449836068,
           1.0649315658049785,
           1.1094945766040856,
           1.124555367855928,
           1.1094945766040856,
           1.0649315658049785,
           0.992695449836068,
           0.8957396184216221,
           0.7780040258931075,
           0.6442321103834694,
           0.49975144871271493,
           0.35022902170777614,
           0.20141317105264114,
           0.05887491198907235,
           -0.0722388011028484,
           -0.187427969950852,
           -0.28302803533990717,
           -0.35635521764627226,
           -0.40580225753498556,
           -0.4308806796227811,
           -0.43220845214435083,
           -0.41144469052055266,
           -0.37117570680030565,
           -0.31475910259630246,
           -0.24613461781837798,
           -0.1696119802323752,
           -0.08964697741323371,
           -0.010617349295218181,
           0.06339013493636744,
           0.12877087581897034,
           0.18256273925541686,
           0.2225680860000738,
           0.24743234013685533,
           0.2566762997375786,
           0.2506818889186662,
           0.23063350923189954,
           0.19841943861188654,
           0.15649972810645998,
           0.10774865812501504,
           0.05528095770522729,
           0.0022716100207446164,
           -0.04822085787410071,
           -0.09341816596346665
          ],
          [
           -0.13698176393514344,
           -0.10127808535368477,
           -0.05761803324395176,
           -0.00823327044894154,
           0.044209509361482956,
           0.09674378883254962,
           0.14626024334832619,
           0.18967745729212915,
           0.22411724822563847,
           0.24707500803079696,
           0.256575492104657,
           0.25130504004127213,
           0.23071227369415245,
           0.19507084218595108,
           0.14549969299473817,
           0.08393854575868848,
           0.013078615468659323,
           -0.06374895250625122,
           -0.1427221428215067,
           -0.21970771693043264,
           -0.29046275344788247,
           -0.35084804028714445,
           -0.3970424421347404,
           -0.42574709936268906,
           -0.43436863670247905,
           -0.421171462695804,
           -0.3853906832849483,
           -0.32729906443176787,
           -0.24822376277499153,
           -0.15051108239111077,
           -0.03744017720227128,
           0.08691073780520595,
           0.21783961811686398,
           0.35022902170777614,
           0.47877771528316515,
           0.5982441516081277,
           0.7036898157513979,
           0.7907103570985019,
           0.8556429685382863,
           0.8957396184216221,
           0.9092974268256817,
           0.8957396184216221,
           0.8556429685382863,
           0.7907103570985019,
           0.7036898157513979,
           0.5982441516081277,
           0.47877771528316515,
           0.35022902170777614,
           0.21783961811686398,
           0.08691073780520595,
           -0.03744017720227128,
           -0.15051108239111077,
           -0.24822376277499153,
           -0.32729906443176787,
           -0.3853906832849483,
           -0.421171462695804,
           -0.43436863670247905,
           -0.42574709936268906,
           -0.3970424421347404,
           -0.35084804028714445,
           -0.29046275344788247,
           -0.21970771693043264,
           -0.1427221428215067,
           -0.06374895250625122,
           0.013078615468659323,
           0.08393854575868848,
           0.14549969299473817,
           0.19507084218595108,
           0.23071227369415245,
           0.25130504004127213,
           0.256575492104657,
           0.24707500803079696,
           0.22411724822563847,
           0.18967745729212915,
           0.14626024334832619,
           0.09674378883254962,
           0.044209509361482956,
           -0.00823327044894154,
           -0.05761803324395176,
           -0.10127808535368477
          ],
          [
           -0.14335579129849668,
           -0.10978201113265723,
           -0.06793803188546253,
           -0.019915691575644292,
           0.031745840459068614,
           0.08418731130237875,
           0.13437885433763305,
           0.1792839709402817,
           0.21602931256266372,
           0.2420710146043941,
           0.255348298963932,
           0.25441554164532254,
           0.23854497801642713,
           0.20779364608280457,
           0.1630299764243758,
           0.10591753298818528,
           0.03885568116655977,
           -0.03512071345143313,
           -0.11247819731414006,
           -0.18935183535374994,
           -0.2617343483375656,
           -0.32567778292945404,
           -0.37749737145928347,
           -0.41396693622794944,
           -0.43249545715781157,
           -0.4312752446188071,
           -0.4093935036702951,
           -0.36690087535799776,
           -0.30483270332925,
           -0.22518118755916025,
           -0.13081912452072303,
           -0.025378460035175753,
           0.08691073780520595,
           0.20141317105264114,
           0.3133036361206578,
           0.4177941096414197,
           0.5103612401471838,
           0.5869627944413911,
           0.6442321103834694,
           0.6796406846183429,
           0.69162061945593,
           0.6796406846183429,
           0.6442321103834694,
           0.5869627944413911,
           0.5103612401471838,
           0.4177941096414197,
           0.3133036361206578,
           0.20141317105264114,
           0.08691073780520595,
           -0.025378460035175753,
           -0.13081912452072303,
           -0.22518118755916025,
           -0.30483270332925,
           -0.36690087535799776,
           -0.4093935036702951,
           -0.4312752446188071,
           -0.43249545715781157,
           -0.41396693622794944,
           -0.37749737145928347,
           -0.32567778292945404,
           -0.2617343483375656,
           -0.18935183535374994,
           -0.11247819731414006,
           -0.03512071345143313,
           0.03885568116655977,
           0.10591753298818528,
           0.1630299764243758,
           0.20779364608280457,
           0.23854497801642713,
           0.25441554164532254,
           0.255348298963932,
           0.2420710146043941,
           0.21602931256266372,
           0.1792839709402817,
           0.13437885433763305,
           0.08418731130237875,
           0.031745840459068614,
           -0.019915691575644292,
           -0.06793803188546253,
           -0.10978201113265723
          ],
          [
           -0.1499137997580331,
           -0.11876378051842666,
           -0.07903277128303789,
           -0.032657564269347995,
           0.017966041941118966,
           0.07010183827093616,
           0.12081441070397907,
           0.16712567793535366,
           0.2061784643801796,
           0.23539823538075702,
           0.25264402764959015,
           0.2563400102730029,
           0.2455799958764798,
           0.22019854657881394,
           0.18080401871815463,
           0.12877087581897034,
           0.0661907655654817,
           -0.004215913110515241,
           -0.0792240541655952,
           -0.15525760655490364,
           -0.22856545626592412,
           -0.29541051237375787,
           -0.35226222727992795,
           -0.39598244357893553,
           -0.42399466300627076,
           -0.43442757176285574,
           -0.42622489689420734,
           -0.39921534828629784,
           -0.3541384336243295,
           -0.2926242127644853,
           -0.21712746254366178,
           -0.13081912452072303,
           -0.03744017720227128,
           0.05887491198907235,
           0.1537963512162099,
           0.24300880867803662,
           0.32242214992953067,
           0.38837235101706136,
           0.43780226922078175,
           0.4684129583840573,
           0.47877771528316515,
           0.4684129583840573,
           0.43780226922078175,
           0.38837235101706136,
           0.32242214992953067,
           0.24300880867803662,
           0.1537963512162099,
           0.05887491198907235,
           -0.03744017720227128,
           -0.13081912452072303,
           -0.21712746254366178,
           -0.2926242127644853,
           -0.3541384336243295,
           -0.39921534828629784,
           -0.42622489689420734,
           -0.43442757176285574,
           -0.42399466300627076,
           -0.39598244357893553,
           -0.35226222727992795,
           -0.29541051237375787,
           -0.22856545626592412,
           -0.15525760655490364,
           -0.0792240541655952,
           -0.004215913110515241,
           0.0661907655654817,
           0.12877087581897034,
           0.18080401871815463,
           0.22019854657881394,
           0.2455799958764798,
           0.2563400102730029,
           0.25264402764959015,
           0.23539823538075702,
           0.2061784643801796,
           0.16712567793535366,
           0.12081441070397907,
           0.07010183827093616,
           0.017966041941118966,
           -0.032657564269347995,
           -0.07903277128303789,
           -0.11876378051842666
          ],
          [
           -0.15646143337355978,
           -0.12803192632998142,
           -0.0907256642328181,
           -0.046310064114579955,
           0.0029779491154211806,
           0.054541276561040686,
           0.10555493165712146,
           0.15311446345017118,
           0.1943926655354523,
           0.22679610352037188,
           0.24811283911536614,
           0.2566430509401283,
           0.25130504004127213,
           0.2317103248693539,
           0.1982031145119569,
           0.15186131748507978,
           0.09445829662141196,
           0.02838670735216783,
           -0.043452159632214875,
           -0.1177881852505473,
           -0.19114437378651342,
           -0.26001264723920775,
           -0.3210343185560354,
           -0.37117570680030565,
           -0.407889497747319,
           -0.42925310491460716,
           -0.434076417833265,
           -0.42197287899622543,
           -0.39338972722403176,
           -0.3495953826561967,
           -0.2926242127644853,
           -0.22518118755916025,
           -0.15051108239111077,
           -0.0722388011028484,
           0.005811034304373925,
           0.07980593576993696,
           0.14609889758077332,
           0.20141317105264114,
           0.24300880867803662,
           0.2688222513075441,
           0.277571630583514,
           0.2688222513075441,
           0.24300880867803662,
           0.20141317105264114,
           0.14609889758077332,
           0.07980593576993696,
           0.005811034304373925,
           -0.0722388011028484,
           -0.15051108239111077,
           -0.22518118755916025,
           -0.2926242127644853,
           -0.3495953826561967,
           -0.39338972722403176,
           -0.42197287899622543,
           -0.434076417833265,
           -0.42925310491460716,
           -0.407889497747319,
           -0.37117570680030565,
           -0.3210343185560354,
           -0.26001264723920775,
           -0.19114437378651342,
           -0.1177881852505473,
           -0.043452159632214875,
           0.02838670735216783,
           0.09445829662141196,
           0.15186131748507978,
           0.1982031145119569,
           0.2317103248693539,
           0.25130504004127213,
           0.2566430509401283,
           0.24811283911536614,
           0.22679610352037188,
           0.1943926655354523,
           0.15311446345017118,
           0.10555493165712146,
           0.054541276561040686,
           0.0029779491154211806,
           -0.046310064114579955,
           -0.0907256642328181,
           -0.12803192632998142
          ],
          [
           -0.16278435980926842,
           -0.13736985507049018,
           -0.10281030706494565,
           -0.060690608986011814,
           -0.013073952151520388,
           0.03759772656874239,
           0.08862652853638416,
           0.13719827990417027,
           0.18053174205108255,
           0.21602931256266372,
           0.24142096714711753,
           0.254893432701845,
           0.25519727019112654,
           0.24172565029557566,
           0.21456006847846779,
           0.17447999195279823,
           0.12293536517635703,
           0.06198291759831892,
           -0.005810793613848673,
           -0.07749482277960204,
           -0.14988136590815446,
           -0.21970771693043264,
           -0.2838041182964338,
           -0.3392585664190622,
           -0.3835697098652554,
           -0.4147795406040892,
           -0.43157859884674826,
           -0.4333778373354074,
           -0.4203430458705095,
           -0.39338972722403176,
           -0.3541384336243295,
           -0.30483270332925,
           -0.24822376277499153,
           -0.187427969950852,
           -0.1257644689695074,
           -0.06658162124929747,
           -0.0130814139378774,
           0.03184881503912622,
           0.0657883626364726,
           0.08691073780520595,
           0.0940800053732448,
           0.08691073780520595,
           0.0657883626364726,
           0.03184881503912622,
           -0.0130814139378774,
           -0.06658162124929747,
           -0.1257644689695074,
           -0.187427969950852,
           -0.24822376277499153,
           -0.30483270332925,
           -0.3541384336243295,
           -0.39338972722403176,
           -0.4203430458705095,
           -0.4333778373354074,
           -0.43157859884674826,
           -0.4147795406040892,
           -0.3835697098652554,
           -0.3392585664190622,
           -0.2838041182964338,
           -0.21970771693043264,
           -0.14988136590815446,
           -0.07749482277960204,
           -0.005810793613848673,
           0.06198291759831892,
           0.12293536517635703,
           0.17447999195279823,
           0.21456006847846779,
           0.24172565029557566,
           0.25519727019112654,
           0.254893432701845,
           0.24142096714711753,
           0.21602931256266372,
           0.18053174205108255,
           0.13719827990417027,
           0.08862652853638416,
           0.03759772656874239,
           -0.013073952151520388,
           -0.060690608986011814,
           -0.10281030706494565,
           -0.13736985507049018
          ],
          [
           -0.16865061331126227,
           -0.14653700801271363,
           -0.11505016730310495,
           -0.07558080422426758,
           -0.030004497243790427,
           0.019407660252202565,
           0.07010183827093616,
           0.11937185506223688,
           0.16450028494360933,
           0.20290271423033404,
           0.23226729318028777,
           0.2506818889186662,
           0.2567417315441088,
           0.24963143467045815,
           0.22917661128094333,
           0.19586192453391038,
           0.15081422331281308,
           0.0957513146109,
           0.032898814044057145,
           -0.03512071345143313,
           -0.10542055787501849,
           -0.17499760171649797,
           -0.24088710992360066,
           -0.3003162506586467,
           -0.35084804028714445,
           -0.3905078789395116,
           -0.417885750201407,
           -0.43220845214435083,
           -0.4333778373354074,
           -0.42197287899622543,
           -0.39921534828629784,
           -0.36690087535799776,
           -0.32729906443176787,
           -0.28302803533990717,
           -0.23691017597600564,
           -0.19181693290541052,
           -0.15051108239111077,
           -0.11549507625799743,
           -0.08887373699192957,
           -0.0722388011028484,
           -0.06658162124929747,
           -0.0722388011028484,
           -0.08887373699192957,
           -0.11549507625799743,
           -0.15051108239111077,
           -0.19181693290541052,
           -0.23691017597600564,
           -0.28302803533990717,
           -0.32729906443176787,
           -0.36690087535799776,
           -0.39921534828629784,
           -0.42197287899622543,
           -0.4333778373354074,
           -0.43220845214435083,
           -0.417885750201407,
           -0.3905078789395116,
           -0.35084804028714445,
           -0.3003162506586467,
           -0.24088710992360066,
           -0.17499760171649797,
           -0.10542055787501849,
           -0.03512071345143313,
           0.032898814044057145,
           0.0957513146109,
           0.15081422331281308,
           0.19586192453391038,
           0.22917661128094333,
           0.24963143467045815,
           0.2567417315441088,
           0.2506818889186662,
           0.23226729318028777,
           0.20290271423033404,
           0.16450028494360933,
           0.11937185506223688,
           0.07010183827093616,
           0.019407660252202565,
           -0.030004497243790427,
           -0.07558080422426758,
           -0.11505016730310495,
           -0.14653700801271363
          ],
          [
           -0.1738139924448547,
           -0.15527119023634722,
           -0.1271795169340972,
           -0.0907256642328181,
           -0.04758506314163741,
           0.0001569493213448689,
           0.05010748884225075,
           0.09968670899986165,
           0.14626024334832619,
           0.18727640924644018,
           0.22040074178662336,
           0.24364050109720906,
           0.2554522819126627,
           0.2548267267047997,
           0.2413455569066888,
           0.2152076253393881,
           0.17722237538812438,
           0.12877087581897034,
           0.07173638515428266,
           0.00840808631479302,
           -0.05863687417657578,
           -0.12666669235949252,
           -0.1929363397545002,
           -0.254829433326894,
           -0.309992807249447,
           -0.3564564355250057,
           -0.39273214882544505,
           -0.417885750201407,
           -0.43157859884674826,
           -0.434076417833265,
           -0.42622489689420734,
           -0.4093935036702951,
           -0.3853906832849483,
           -0.35635521764627226,
           -0.324629843053556,
           -0.2926242127644853,
           -0.2626748843273063,
           -0.23691017597600564,
           -0.21712746254366178,
           -0.20468978410715197,
           -0.20044755867978276,
           -0.20468978410715197,
           -0.21712746254366178,
           -0.23691017597600564,
           -0.2626748843273063,
           -0.2926242127644853,
           -0.324629843053556,
           -0.35635521764627226,
           -0.3853906832849483,
           -0.4093935036702951,
           -0.42622489689420734,
           -0.434076417833265,
           -0.43157859884674826,
           -0.417885750201407,
           -0.39273214882544505,
           -0.3564564355250057,
           -0.309992807249447,
           -0.254829433326894,
           -0.1929363397545002,
           -0.12666669235949252,
           -0.05863687417657578,
           0.00840808631479302,
           0.07173638515428266,
           0.12877087581897034,
           0.17722237538812438,
           0.2152076253393881,
           0.2413455569066888,
           0.2548267267047997,
           0.2554522819126627,
           0.24364050109720906,
           0.22040074178662336,
           0.18727640924644018,
           0.14626024334832619,
           0.09968670899986165,
           0.05010748884225075,
           0.0001569493213448689,
           -0.04758506314163741,
           -0.0907256642328181,
           -0.1271795169340972,
           -0.15527119023634722
          ],
          [
           -0.17801860199902664,
           -0.16329221750830802,
           -0.13890582780165694,
           -0.10583439818051152,
           -0.06554239869174844,
           -0.019915691575644292,
           0.02883009042098063,
           0.07825990831739421,
           0.1258425822940911,
           0.16908036038891633,
           0.20563779959612533,
           0.23346296309158113,
           0.2508943222213973,
           0.25674750760048576,
           0.25037713957121355,
           0.2317103248693539,
           0.20124995852555586,
           0.16004763127913005,
           0.1096476200446325,
           0.05200503792795912,
           -0.010617349295218181,
           -0.0757679524450742,
           -0.1409342819269669,
           -0.2036729142303004,
           -0.2617343483375656,
           -0.31317589634427284,
           -0.3564564355250057,
           -0.3905078789395116,
           -0.4147795406040892,
           -0.42925310491460716,
           -0.43442757176285574,
           -0.4312752446188071,
           -0.421171462695804,
           -0.40580225753498556,
           -0.38705535500366767,
           -0.36690087535799776,
           -0.3472686537517362,
           -0.32992927901128904,
           -0.3163857196862348,
           -0.3077817863653888,
           -0.30483270332925,
           -0.3077817863653888,
           -0.3163857196862348,
           -0.32992927901128904,
           -0.3472686537517362,
           -0.36690087535799776,
           -0.38705535500366767,
           -0.40580225753498556,
           -0.421171462695804,
           -0.4312752446188071,
           -0.43442757176285574,
           -0.42925310491460716,
           -0.4147795406040892,
           -0.3905078789395116,
           -0.3564564355250057,
           -0.31317589634427284,
           -0.2617343483375656,
           -0.2036729142303004,
           -0.1409342819269669,
           -0.0757679524450742,
           -0.010617349295218181,
           0.05200503792795912,
           0.1096476200446325,
           0.16004763127913005,
           0.20124995852555586,
           0.2317103248693539,
           0.25037713957121355,
           0.25674750760048576,
           0.2508943222213973,
           0.23346296309158113,
           0.20563779959612533,
           0.16908036038891633,
           0.1258425822940911,
           0.07825990831739421,
           0.02883009042098063,
           -0.019915691575644292,
           -0.06554239869174844,
           -0.10583439818051152,
           -0.13890582780165694,
           -0.16329221750830802
          ],
          [
           -0.18100457917857166,
           -0.17030698199702413,
           -0.1499137997580331,
           -0.12058300781296416,
           -0.08355939645450051,
           -0.040517266401149735,
           0.0065202421682302655,
           0.05528095770522729,
           0.10335731863015635,
           0.14832776112580212,
           0.18787932061729182,
           0.21992483146863692,
           0.242708395806646,
           0.254893432701845,
           0.25562857790064414,
           0.24458792842044305,
           0.22198354690007724,
           0.18854967763954522,
           0.14549969299473817,
           0.09445829662141196,
           0.037372873633869375,
           -0.02359098016854476,
           -0.08616386191642225,
           -0.14809048863531396,
           -0.20724458052139974,
           -0.2617343483375656,
           -0.309992807249447,
           -0.35084804028714445,
           -0.3835697098652554,
           -0.407889497747319,
           -0.42399466300627076,
           -0.43249545715781157,
           -0.43436863670247905,
           -0.4308806796227811,
           -0.42349546556438716,
           -0.4137720534188708,
           -0.40325873487122593,
           -0.39338972722403176,
           -0.3853906832849483,
           -0.3801986514917913,
           -0.3784012476539641,
           -0.3801986514917913,
           -0.3853906832849483,
           -0.39338972722403176,
           -0.40325873487122593,
           -0.4137720534188708,
           -0.42349546556438716,
           -0.4308806796227811,
           -0.43436863670247905,
           -0.43249545715781157,
           -0.42399466300627076,
           -0.407889497747319,
           -0.3835697098652554,
           -0.35084804028714445,
           -0.309992807249447,
           -0.2617343483375656,
           -0.20724458052139974,
           -0.14809048863531396,
           -0.08616386191642225,
           -0.02359098016854476,
           0.037372873633869375,
           0.09445829662141196,
           0.14549969299473817,
           0.18854967763954522,
           0.22198354690007724,
           0.24458792842044305,
           0.25562857790064414,
           0.254893432701845,
           0.242708395806646,
           0.21992483146863692,
           0.18787932061729182,
           0.14832776112580212,
           0.10335731863015635,
           0.05528095770522729,
           0.0065202421682302655,
           -0.040517266401149735,
           -0.08355939645450051,
           -0.12058300781296416,
           -0.1499137997580331,
           -0.17030698199702413
          ],
          [
           -0.18251498442862385,
           -0.1760159755489718,
           -0.15987112992755653,
           -0.13461888616197776,
           -0.10127808535368477,
           -0.061301442485772274,
           -0.016505930263581485,
           0.031016232090896562,
           0.07900122348247962,
           0.12512633286074154,
           0.16712567793535366,
           0.20290271423033404,
           0.23063350923189954,
           0.24885528388828942,
           0.25653555744366946,
           0.25311832399967577,
           0.23854497801642713,
           0.21324911772700825,
           0.17812580971586786,
           0.134477311926808,
           0.08393854575868848,
           0.02838670735216783,
           -0.030159748399708135,
           -0.08964697741323371,
           -0.14809048863531396,
           -0.2036729142303004,
           -0.254829433326894,
           -0.3003162506586467,
           -0.3392585664190622,
           -0.37117570680030565,
           -0.39598244357893553,
           -0.41396693622794944,
           -0.42574709936268906,
           -0.43220845214435083,
           -0.43442757176285574,
           -0.4335860886421158,
           -0.4308806796227811,
           -0.4274347075936389,
           -0.42421701152445723,
           -0.42197287899622543,
           -0.421171462695804,
           -0.42197287899622543,
           -0.42421701152445723,
           -0.4274347075936389,
           -0.4308806796227811,
           -0.4335860886421158,
           -0.43442757176285574,
           -0.43220845214435083,
           -0.42574709936268906,
           -0.41396693622794944,
           -0.39598244357893553,
           -0.37117570680030565,
           -0.3392585664190622,
           -0.3003162506586467,
           -0.254829433326894,
           -0.2036729142303004,
           -0.14809048863531396,
           -0.08964697741323371,
           -0.030159748399708135,
           0.02838670735216783,
           0.08393854575868848,
           0.134477311926808,
           0.17812580971586786,
           0.21324911772700825,
           0.23854497801642713,
           0.25311832399967577,
           0.25653555744366946,
           0.24885528388828942,
           0.23063350923189954,
           0.20290271423033404,
           0.16712567793535366,
           0.12512633286074154,
           0.07900122348247962,
           0.031016232090896562,
           -0.016505930263581485,
           -0.061301442485772274,
           -0.10127808535368477,
           -0.13461888616197776,
           -0.15987112992755653,
           -0.1760159755489718
          ],
          [
           -0.18230376872794093,
           -0.18012123502583363,
           -0.16843605361995675,
           -0.14756752732225356,
           -0.11830504740258321,
           -0.08187218787401292,
           -0.039868134180728126,
           0.0058103924762656495,
           0.05306249567952219,
           0.09968670899986165,
           0.14348926836260514,
           0.18239124981424537,
           0.2145288714461612,
           0.2383416766936446,
           0.25264402764959015,
           0.2566762997375786,
           0.25013332713993036,
           0.23316893482082693,
           0.2063767337439853,
           0.17074867404778504,
           0.12761407121954643,
           0.07856287339249271,
           0.02535776443828009,
           -0.030159748399708135,
           -0.08616386191642225,
           -0.1409342819269669,
           -0.1929363397545002,
           -0.24088710992360066,
           -0.2838041182964338,
           -0.3210343185560354,
           -0.35226222727992795,
           -0.37749737145928347,
           -0.3970424421347404,
           -0.41144469052055266,
           -0.42143408131469146,
           -0.42785247459104203,
           -0.43157859884674826,
           -0.4334537754581445,
           -0.434213248547002,
           -0.43442757176285574,
           -0.43445783007337646,
           -0.43442757176285574,
           -0.434213248547002,
           -0.4334537754581445,
           -0.43157859884674826,
           -0.42785247459104203,
           -0.42143408131469146,
           -0.41144469052055266,
           -0.3970424421347404,
           -0.37749737145928347,
           -0.35226222727992795,
           -0.3210343185560354,
           -0.2838041182964338,
           -0.24088710992360066,
           -0.1929363397545002,
           -0.1409342819269669,
           -0.08616386191642225,
           -0.030159748399708135,
           0.02535776443828009,
           0.07856287339249271,
           0.12761407121954643,
           0.17074867404778504,
           0.2063767337439853,
           0.23316893482082693,
           0.25013332713993036,
           0.2566762997375786,
           0.25264402764959015,
           0.2383416766936446,
           0.2145288714461612,
           0.18239124981424537,
           0.14348926836260514,
           0.09968670899986165,
           0.05306249567952219,
           0.0058103924762656495,
           -0.039868134180728126,
           -0.08187218787401292,
           -0.11830504740258321,
           -0.14756752732225356,
           -0.16843605361995675,
           -0.18012123502583363
          ],
          [
           -0.1801446545297837,
           -0.18233559039097344,
           -0.1752665961050691,
           -0.15904136091487175,
           -0.13421936300715656,
           -0.10179031338845618,
           -0.0631265026963309,
           -0.019915691575644292,
           0.025921773001301992,
           0.07232710218505171,
           0.11720338291232232,
           0.15851669454452746,
           0.1943926655354523,
           0.2232034254780841,
           0.24364050109720906,
           0.25477004091850136,
           0.2560677827399544,
           0.24743234013685533,
           0.22917661128094333,
           0.20199833430642128,
           0.16693195814109418,
           0.12528500092613942,
           0.07856287339249271,
           0.02838670735216783,
           -0.02359098016854476,
           -0.0757679524450742,
           -0.12666669235949252,
           -0.17499760171649797,
           -0.21970771693043264,
           -0.26001264723920775,
           -0.29541051237375787,
           -0.32567778292945404,
           -0.35084804028714445,
           -0.37117570680030565,
           -0.38708768931988075,
           -0.3991265770886398,
           -0.407889497747319,
           -0.41396693622794944,
           -0.417885750201407,
           -0.4200602785751461,
           -0.4207548585159486,
           -0.4200602785751461,
           -0.417885750201407,
           -0.41396693622794944,
           -0.407889497747319,
           -0.3991265770886398,
           -0.38708768931988075,
           -0.37117570680030565,
           -0.35084804028714445,
           -0.32567778292945404,
           -0.29541051237375787,
           -0.26001264723920775,
           -0.21970771693043264,
           -0.17499760171649797,
           -0.12666669235949252,
           -0.0757679524450742,
           -0.02359098016854476,
           0.02838670735216783,
           0.07856287339249271,
           0.12528500092613942,
           0.16693195814109418,
           0.20199833430642128,
           0.22917661128094333,
           0.24743234013685533,
           0.2560677827399544,
           0.25477004091850136,
           0.24364050109720906,
           0.2232034254780841,
           0.1943926655354523,
           0.15851669454452746,
           0.11720338291232232,
           0.07232710218505171,
           0.025921773001301992,
           -0.019915691575644292,
           -0.0631265026963309,
           -0.10179031338845618,
           -0.13421936300715656,
           -0.15904136091487175,
           -0.1752665961050691,
           -0.18233559039097344
          ],
          [
           -0.17584069010379264,
           -0.18239300622958532,
           -0.1800313728705813,
           -0.16865061331126227,
           -0.14858307017251748,
           -0.12058300781296416,
           -0.0857896329957062,
           -0.045670869380806056,
           -0.001951040868825416,
           0.043473546354522816,
           0.08862652853638416,
           0.13154597877649798,
           0.17037647050011584,
           0.20345392533496165,
           0.22937894091767205,
           0.24707500803079696,
           0.25582893038458626,
           0.2553118000893658,
           0.2455799958764798,
           0.2270567942100705,
           0.20049625055173417,
           0.16693195814109418,
           0.12761407121954643,
           0.08393854575868848,
           0.037372873633869375,
           -0.010617349295218181,
           -0.05863687417657578,
           -0.10542055787501849,
           -0.14988136590815446,
           -0.19114437378651342,
           -0.22856545626592412,
           -0.2617343483375656,
           -0.29046275344788247,
           -0.31475910259630246,
           -0.33479237619194996,
           -0.35084804028714445,
           -0.3632795822101567,
           -0.37245933283868765,
           -0.3787322233669178,
           -0.382375848005458,
           -0.3835697098652554,
           -0.382375848005458,
           -0.3787322233669178,
           -0.37245933283868765,
           -0.3632795822101567,
           -0.35084804028714445,
           -0.33479237619194996,
           -0.31475910259630246,
           -0.29046275344788247,
           -0.2617343483375656,
           -0.22856545626592412,
           -0.19114437378651342,
           -0.14988136590815446,
           -0.10542055787501849,
           -0.05863687417657578,
           -0.010617349295218181,
           0.037372873633869375,
           0.08393854575868848,
           0.12761407121954643,
           0.16693195814109418,
           0.20049625055173417,
           0.2270567942100705,
           0.2455799958764798,
           0.2553118000893658,
           0.25582893038458626,
           0.24707500803079696,
           0.22937894091767205,
           0.20345392533496165,
           0.17037647050011584,
           0.13154597877649798,
           0.08862652853638416,
           0.043473546354522816,
           -0.001951040868825416,
           -0.045670869380806056,
           -0.0857896329957062,
           -0.12058300781296416,
           -0.14858307017251748,
           -0.16865061331126227,
           -0.1800313728705813,
           -0.18239300622958532
          ],
          [
           -0.16923416092386775,
           -0.1800597155006458,
           -0.18242166855756492,
           -0.1760159755489718,
           -0.1609539875623888,
           -0.1377563081818195,
           -0.10732612754693129,
           -0.07090368426500879,
           -0.030004497243790427,
           0.013655158230898757,
           0.058241427706856384,
           0.1018902143955224,
           0.14279404657238684,
           0.1792839709402817,
           0.20990234059772522,
           0.23346296309158113,
           0.24909585663212155,
           0.2562747828163765,
           0.2548267267047997,
           0.24492352037505036,
           0.2270567942100705,
           0.20199833430642128,
           0.17074867404778504,
           0.134477311926808,
           0.09445829662141196,
           0.05200503792795912,
           0.00840808631479302,
           -0.03512071345143313,
           -0.07749482277960204,
           -0.1177881852505473,
           -0.15525760655490364,
           -0.18935183535374994,
           -0.21970771693043264,
           -0.24613461781837798,
           -0.268589046149572,
           -0.28714197491104243,
           -0.30194177876754097,
           -0.31317589634427284,
           -0.3210343185560354,
           -0.32567778292945404,
           -0.32721314035298743,
           -0.32567778292945404,
           -0.3210343185560354,
           -0.31317589634427284,
           -0.30194177876754097,
           -0.28714197491104243,
           -0.268589046149572,
           -0.24613461781837798,
           -0.21970771693043264,
           -0.18935183535374994,
           -0.15525760655490364,
           -0.1177881852505473,
           -0.07749482277960204,
           -0.03512071345143313,
           0.00840808631479302,
           0.05200503792795912,
           0.09445829662141196,
           0.134477311926808,
           0.17074867404778504,
           0.20199833430642128,
           0.2270567942100705,
           0.24492352037505036,
           0.2548267267047997,
           0.2562747828163765,
           0.24909585663212155,
           0.23346296309158113,
           0.20990234059772522,
           0.1792839709402817,
           0.14279404657238684,
           0.1018902143955224,
           0.058241427706856384,
           0.013655158230898757,
           -0.030004497243790427,
           -0.07090368426500879,
           -0.10732612754693129,
           -0.1377563081818195,
           -0.1609539875623888,
           -0.1760159755489718,
           -0.18242166855756492,
           -0.1800597155006458
          ],
          [
           -0.16021647158282734,
           -0.1751457556394694,
           -0.1821644169794075,
           -0.18078273088932142,
           -0.17090060569317098,
           -0.1528102839666787,
           -0.1271795169340972,
           -0.0950164022704569,
           -0.05761803324395176,
           -0.016505930263581485,
           0.026648129724923395,
           0.07010183827093616,
           0.11212338767979044,
           0.15106960365711752,
           0.18545724476618586,
           0.21402402107025095,
           0.23577655069724138,
           0.25002327766855664,
           0.25639126767027576,
           0.2548267267047997,
           0.2455799958764798,
           0.22917661128094333,
           0.2063767337439853,
           0.17812580971586786,
           0.14549969299473817,
           0.1096476200446325,
           0.07173638515428266,
           0.032898814044057145,
           -0.005810793613848673,
           -0.043452159632214875,
           -0.0792240541655952,
           -0.11247819731414006,
           -0.1427221428215067,
           -0.1696119802323752,
           -0.1929363397545002,
           -0.2125937105436689,
           -0.22856545626592412,
           -0.24088710992360066,
           -0.24962054293732017,
           -0.254829433326894,
           -0.2565601183892334,
           -0.254829433326894,
           -0.24962054293732017,
           -0.24088710992360066,
           -0.22856545626592412,
           -0.2125937105436689,
           -0.1929363397545002,
           -0.1696119802323752,
           -0.1427221428215067,
           -0.11247819731414006,
           -0.0792240541655952,
           -0.043452159632214875,
           -0.005810793613848673,
           0.032898814044057145,
           0.07173638515428266,
           0.1096476200446325,
           0.14549969299473817,
           0.17812580971586786,
           0.2063767337439853,
           0.22917661128094333,
           0.2455799958764798,
           0.2548267267047997,
           0.25639126767027576,
           0.25002327766855664,
           0.23577655069724138,
           0.21402402107025095,
           0.18545724476618586,
           0.15106960365711752,
           0.11212338767979044,
           0.07010183827093616,
           0.026648129724923395,
           -0.016505930263581485,
           -0.05761803324395176,
           -0.0950164022704569,
           -0.1271795169340972,
           -0.1528102839666787,
           -0.17090060569317098,
           -0.18078273088932142,
           -0.1821644169794075,
           -0.1751457556394694
          ],
          [
           -0.1487375524385824,
           -0.16751643729146143,
           -0.17903560277058095,
           -0.1826358700412797,
           -0.17801860199902664,
           -0.16525654180237792,
           -0.14478624788034108,
           -0.11738288358628372,
           -0.08411903827788304,
           -0.046310064114579955,
           -0.005449066140771361,
           0.03686485131708162,
           0.07900122348247962,
           0.11937185506223688,
           0.15649972810645998,
           0.1890798565922851,
           0.21602931256266372,
           0.2365243422174828,
           0.25002327766855664,
           0.2562747828163765,
           0.2553118000893658,
           0.24743234013685533,
           0.23316893482082693,
           0.21324911772700825,
           0.18854967763954522,
           0.16004763127913005,
           0.12877087581897034,
           0.0957513146109,
           0.06198291759831892,
           0.02838670735216783,
           -0.004215913110515241,
           -0.03512071345143313,
           -0.06374895250625122,
           -0.08964697741323371,
           -0.11247819731414006,
           -0.132008995765264,
           -0.14809048863531396,
           -0.16063822727306362,
           -0.1696119802323752,
           -0.17499760171649797,
           -0.17679272260843765,
           -0.17499760171649797,
           -0.1696119802323752,
           -0.16063822727306362,
           -0.14809048863531396,
           -0.132008995765264,
           -0.11247819731414006,
           -0.08964697741323371,
           -0.06374895250625122,
           -0.03512071345143313,
           -0.004215913110515241,
           0.02838670735216783,
           0.06198291759831892,
           0.0957513146109,
           0.12877087581897034,
           0.16004763127913005,
           0.18854967763954522,
           0.21324911772700825,
           0.23316893482082693,
           0.24743234013685533,
           0.2553118000893658,
           0.2562747828163765,
           0.25002327766855664,
           0.2365243422174828,
           0.21602931256266372,
           0.1890798565922851,
           0.15649972810645998,
           0.11937185506223688,
           0.07900122348247962,
           0.03686485131708162,
           -0.005449066140771361,
           -0.046310064114579955,
           -0.08411903827788304,
           -0.11738288358628372,
           -0.14478624788034108,
           -0.16525654180237792,
           -0.17801860199902664,
           -0.1826358700412797,
           -0.17903560277058095,
           -0.16751643729146143
          ],
          [
           -0.13481430178982187,
           -0.15710321083861073,
           -0.17287351607260817,
           -0.18131560690315682,
           -0.18194839266053625,
           -0.17463748569481502,
           -0.15959621882048483,
           -0.13736985507049018,
           -0.10880422217787396,
           -0.0750007897964791,
           -0.03726086233570953,
           0.0029779491154211806,
           0.044209509361482956,
           0.08492762656935865,
           0.12369173187889267,
           0.15918658398472915,
           0.1902732638436695,
           0.21602931256266372,
           0.23577655069724138,
           0.24909585663212155,
           0.25582893038458626,
           0.2560677827399544,
           0.25013332713993036,
           0.23854497801642713,
           0.22198354690007724,
           0.20124995852555586,
           0.17722237538812438,
           0.15081422331281308,
           0.12293536517635703,
           0.09445829662141196,
           0.0661907655654817,
           0.03885568116655977,
           0.013078615468659323,
           -0.010617349295218181,
           -0.03181017613329085,
           -0.050171999808914604,
           -0.06545830501430487,
           -0.07749482277960204,
           -0.08616386191642225,
           -0.09139170665445415,
           -0.09313849939964196,
           -0.09139170665445415,
           -0.08616386191642225,
           -0.07749482277960204,
           -0.06545830501430487,
           -0.050171999808914604,
           -0.03181017613329085,
           -0.010617349295218181,
           0.013078615468659323,
           0.03885568116655977,
           0.0661907655654817,
           0.09445829662141196,
           0.12293536517635703,
           0.15081422331281308,
           0.17722237538812438,
           0.20124995852555586,
           0.22198354690007724,
           0.23854497801642713,
           0.25013332713993036,
           0.2560677827399544,
           0.25582893038458626,
           0.24909585663212155,
           0.23577655069724138,
           0.21602931256266372,
           0.1902732638436695,
           0.15918658398472915,
           0.12369173187889267,
           0.08492762656935865,
           0.044209509361482956,
           0.0029779491154211806,
           -0.03726086233570953,
           -0.0750007897964791,
           -0.10880422217787396,
           -0.13736985507049018,
           -0.15959621882048483,
           -0.17463748569481502,
           -0.18194839266053625,
           -0.18131560690315682,
           -0.17287351607260817,
           -0.15710321083861073
          ],
          [
           -0.11853755153953284,
           -0.14391335124448024,
           -0.163591222139663,
           -0.17663261032673944,
           -0.18239300622958532,
           -0.18054660691367944,
           -0.17109514979541934,
           -0.1543609103022869,
           -0.13096468174943518,
           -0.10179031338845618,
           -0.06793803188546253,
           -0.03066927919323432,
           0.008653858363151095,
           0.04863139306208121,
           0.0878871354792479,
           0.12512633286074154,
           0.15918658398472915,
           0.1890798565922851,
           0.21402402107025095,
           0.23346296309158113,
           0.24707500803079696,
           0.25477004091850136,
           0.2566762997375786,
           0.25311832399967577,
           0.24458792842044305,
           0.2317103248693539,
           0.2152076253393881,
           0.19586192453391038,
           0.17447999195279823,
           0.15186131748507978,
           0.12877087581897034,
           0.10591753298818528,
           0.08393854575868848,
           0.06339013493636744,
           0.044743679368913644,
           0.02838670735216783,
           0.014627580006334946,
           0.0037025838949493145,
           -0.004215913110515241,
           -0.009011537058698997,
           -0.010617349295218181,
           -0.009011537058698997,
           -0.004215913110515241,
           0.0037025838949493145,
           0.014627580006334946,
           0.02838670735216783,
           0.044743679368913644,
           0.06339013493636744,
           0.08393854575868848,
           0.10591753298818528,
           0.12877087581897034,
           0.15186131748507978,
           0.17447999195279823,
           0.19586192453391038,
           0.2152076253393881,
           0.2317103248693539,
           0.24458792842044305,
           0.25311832399967577,
           0.2566762997375786,
           0.25477004091850136,
           0.24707500803079696,
           0.23346296309158113,
           0.21402402107025095,
           0.1890798565922851,
           0.15918658398472915,
           0.12512633286074154,
           0.0878871354792479,
           0.04863139306208121,
           0.008653858363151095,
           -0.03066927919323432,
           -0.06793803188546253,
           -0.10179031338845618,
           -0.13096468174943518,
           -0.1543609103022869,
           -0.17109514979541934,
           -0.18054660691367944,
           -0.18239300622958532,
           -0.17663261032673944,
           -0.163591222139663,
           -0.14391335124448024
          ],
          [
           -0.10007704610444179,
           -0.12803786284735597,
           -0.1511875643863488,
           -0.16848219583369567,
           -0.17913546063850083,
           -0.18264893898060253,
           -0.1788278960809016,
           -0.16778234479339135,
           -0.1499137997580331,
           -0.1258888846262905,
           -0.09660159075517502,
           -0.0631265026963309,
           -0.026665677985416577,
           0.011507919583092052,
           0.05010748884225075,
           0.0878871354792479,
           0.12369173187889267,
           0.15649972810645998,
           0.18545724476618586,
           0.20990234059772522,
           0.22937894091767205,
           0.24364050109720906,
           0.25264402764959015,
           0.25653555744366946,
           0.25562857790064414,
           0.25037713957121355,
           0.2413455569066888,
           0.22917661128094333,
           0.21456006847846779,
           0.1982031145119569,
           0.18080401871815463,
           0.1630299764243758,
           0.14549969299473817,
           0.12877087581897034,
           0.11333242903336226,
           0.09960082298540655,
           0.08791985781076668,
           0.07856287339249271,
           0.07173638515428266,
           0.06758414818694233,
           0.0661907655654817,
           0.06758414818694233,
           0.07173638515428266,
           0.07856287339249271,
           0.08791985781076668,
           0.09960082298540655,
           0.11333242903336226,
           0.12877087581897034,
           0.14549969299473817,
           0.1630299764243758,
           0.18080401871815463,
           0.1982031145119569,
           0.21456006847846779,
           0.22917661128094333,
           0.2413455569066888,
           0.25037713957121355,
           0.25562857790064414,
           0.25653555744366946,
           0.25264402764959015,
           0.24364050109720906,
           0.22937894091767205,
           0.20990234059772522,
           0.18545724476618586,
           0.15649972810645998,
           0.12369173187889267,
           0.0878871354792479,
           0.05010748884225075,
           0.011507919583092052,
           -0.026665677985416577,
           -0.0631265026963309,
           -0.09660159075517502,
           -0.1258888846262905,
           -0.1499137997580331,
           -0.16778234479339135,
           -0.1788278960809016,
           -0.18264893898060253,
           -0.17913546063850083,
           -0.16848219583369567,
           -0.1511875643863488,
           -0.12803786284735597
          ],
          [
           -0.07968395387291566,
           -0.10965701691843574,
           -0.13575600794040762,
           -0.15685668268767797,
           -0.17205475511311313,
           -0.1807007071005138,
           -0.18242166855756492,
           -0.17712974307464055,
           -0.16501687105976595,
           -0.14653700801271363,
           -0.12237701362727325,
           -0.09341816596346665,
           -0.060690608986011814,
           -0.02532329427921568,
           0.011507919583092052,
           0.04863139306208121,
           0.08492762656935865,
           0.11937185506223688,
           0.15106960365711752,
           0.1792839709402817,
           0.20345392533496165,
           0.2232034254780841,
           0.2383416766936446,
           0.24885528388828942,
           0.254893432701845,
           0.25674750760048576,
           0.2548267267047997,
           0.24963143467045815,
           0.24172565029557566,
           0.2317103248693539,
           0.22019854657881394,
           0.20779364608280457,
           0.19507084218595108,
           0.18256273925541686,
           0.17074867404778504,
           0.16004763127913005,
           0.15081422331281308,
           0.1433370736825879,
           0.13783886506830845,
           0.134477311926808,
           0.1333463922312941,
           0.134477311926808,
           0.13783886506830845,
           0.1433370736825879,
           0.15081422331281308,
           0.16004763127913005,
           0.17074867404778504,
           0.18256273925541686,
           0.19507084218595108,
           0.20779364608280457,
           0.22019854657881394,
           0.2317103248693539,
           0.24172565029557566,
           0.24963143467045815,
           0.2548267267047997,
           0.25674750760048576,
           0.254893432701845,
           0.24885528388828942,
           0.2383416766936446,
           0.2232034254780841,
           0.20345392533496165,
           0.1792839709402817,
           0.15106960365711752,
           0.11937185506223688,
           0.08492762656935865,
           0.04863139306208121,
           0.011507919583092052,
           -0.02532329427921568,
           -0.060690608986011814,
           -0.09341816596346665,
           -0.12237701362727325,
           -0.14653700801271363,
           -0.16501687105976595,
           -0.17712974307464055,
           -0.18242166855756492,
           -0.1807007071005138,
           -0.17205475511311313,
           -0.15685668268767797,
           -0.13575600794040762,
           -0.10965701691843574
          ],
          [
           -0.05769048962428924,
           -0.08904297911487404,
           -0.11749065565570795,
           -0.14185512230149663,
           -0.16113955966514656,
           -0.17456713788189782,
           -0.18160802037610754,
           -0.18199408570471504,
           -0.17572115154133375,
           -0.16303912773542587,
           -0.14443111863131364,
           -0.12058300781296416,
           -0.09234546620178369,
           -0.060690608986011814,
           -0.026665677985416577,
           0.008653858363151095,
           0.044209509361482956,
           0.07900122348247962,
           0.11212338767979044,
           0.14279404657238684,
           0.17037647050011584,
           0.1943926655354523,
           0.2145288714461612,
           0.23063350923189954,
           0.242708395806646,
           0.2508943222213973,
           0.2554522819126627,
           0.2567417315441088,
           0.25519727019112654,
           0.25130504004127213,
           0.2455799958764798,
           0.23854497801642713,
           0.23071227369415245,
           0.2225680860000738,
           0.21456006847846779,
           0.2070878465419809,
           0.20049625055173417,
           0.19507084218595108,
           0.19103523332295086,
           0.18854967763954522,
           0.18771045677679687,
           0.18854967763954522,
           0.19103523332295086,
           0.19507084218595108,
           0.20049625055173417,
           0.2070878465419809,
           0.21456006847846779,
           0.2225680860000738,
           0.23071227369415245,
           0.23854497801642713,
           0.2455799958764798,
           0.25130504004127213,
           0.25519727019112654,
           0.2567417315441088,
           0.2554522819126627,
           0.2508943222213973,
           0.242708395806646,
           0.23063350923189954,
           0.2145288714461612,
           0.1943926655354523,
           0.17037647050011584,
           0.14279404657238684,
           0.11212338767979044,
           0.07900122348247962,
           0.044209509361482956,
           0.008653858363151095,
           -0.026665677985416577,
           -0.060690608986011814,
           -0.09234546620178369,
           -0.12058300781296416,
           -0.14443111863131364,
           -0.16303912773542587,
           -0.17572115154133375,
           -0.18199408570471504,
           -0.18160802037610754,
           -0.17456713788189782,
           -0.16113955966514656,
           -0.14185512230149663,
           -0.11749065565570795,
           -0.08904297911487404
          ],
          [
           -0.0345063152690242,
           -0.06655906279410359,
           -0.09668883252747353,
           -0.12368964794720452,
           -0.1464987033293174,
           -0.1642373823959323,
           -0.17624240938958516,
           -0.18208605074549258,
           -0.18158488243001691,
           -0.1747972342928682,
           -0.16200998595397612,
           -0.1437158894806465,
           -0.12058300781296416,
           -0.09341816596346665,
           -0.0631265026963309,
           -0.03066927919323432,
           0.0029779491154211806,
           0.03686485131708162,
           0.07010183827093616,
           0.1018902143955224,
           0.13154597877649798,
           0.15851669454452746,
           0.18239124981424537,
           0.20290271423033404,
           0.21992483146863692,
           0.23346296309158113,
           0.24364050109720906,
           0.2506818889186662,
           0.254893432701845,
           0.2566430509401283,
           0.2563400102730029,
           0.25441554164532254,
           0.25130504004127213,
           0.24743234013685533,
           0.2431963471432226,
           0.23896010343988033,
           0.23504220166614895,
           0.2317103248693539,
           0.22917661128094333,
           0.22759450814784551,
           0.2270567942100705,
           0.22759450814784551,
           0.22917661128094333,
           0.2317103248693539,
           0.23504220166614895,
           0.23896010343988033,
           0.2431963471432226,
           0.24743234013685533,
           0.25130504004127213,
           0.25441554164532254,
           0.2563400102730029,
           0.2566430509401283,
           0.254893432701845,
           0.2506818889186662,
           0.24364050109720906,
           0.23346296309158113,
           0.21992483146863692,
           0.20290271423033404,
           0.18239124981424537,
           0.15851669454452746,
           0.13154597877649798,
           0.1018902143955224,
           0.07010183827093616,
           0.03686485131708162,
           0.0029779491154211806,
           -0.03066927919323432,
           -0.0631265026963309,
           -0.09341816596346665,
           -0.12058300781296416,
           -0.1437158894806465,
           -0.16200998595397612,
           -0.1747972342928682,
           -0.18158488243001691,
           -0.18208605074549258,
           -0.17624240938958516,
           -0.1642373823959323,
           -0.1464987033293174,
           -0.12368964794720452,
           -0.09668883252747353,
           -0.06655906279410359
          ],
          [
           -0.01061150357619211,
           -0.042655257000177006,
           -0.07374973820785838,
           -0.10268778525178764,
           -0.1283676319466868,
           -0.14983554931501694,
           -0.16632015713858264,
           -0.17725715646546372,
           -0.18230376872794093,
           -0.18134271385500067,
           -0.17447608825271163,
           -0.16200998595397612,
           -0.14443111863131364,
           -0.12237701362727325,
           -0.09660159075517502,
           -0.06793803188546253,
           -0.03726086233570953,
           -0.005449066140771361,
           0.026648129724923395,
           0.058241427706856384,
           0.08862652853638416,
           0.11720338291232232,
           0.14348926836260514,
           0.16712567793535366,
           0.18787932061729182,
           0.20563779959612533,
           0.22040074178662336,
           0.23226729318028777,
           0.24142096714711753,
           0.24811283911536614,
           0.25264402764959015,
           0.255348298963932,
           0.256575492104657,
           0.2566762997375786,
           0.2559887694405144,
           0.2548267267047997,
           0.25347017586536014,
           0.252157618714697,
           0.25108014921898075,
           0.25037713957121355,
           0.25013332713993036,
           0.25037713957121355,
           0.25108014921898075,
           0.252157618714697,
           0.25347017586536014,
           0.2548267267047997,
           0.2559887694405144,
           0.2566762997375786,
           0.256575492104657,
           0.255348298963932,
           0.25264402764959015,
           0.24811283911536614,
           0.24142096714711753,
           0.23226729318028777,
           0.22040074178662336,
           0.20563779959612533,
           0.18787932061729182,
           0.16712567793535366,
           0.14348926836260514,
           0.11720338291232232,
           0.08862652853638416,
           0.058241427706856384,
           0.026648129724923395,
           -0.005449066140771361,
           -0.03726086233570953,
           -0.06793803188546253,
           -0.09660159075517502,
           -0.12237701362727325,
           -0.14443111863131364,
           -0.16200998595397612,
           -0.17447608825271163,
           -0.18134271385500067,
           -0.18230376872794093,
           -0.17725715646546372,
           -0.16632015713858264,
           -0.14983554931501694,
           -0.1283676319466868,
           -0.10268778525178764,
           -0.07374973820785838,
           -0.042655257000177006
          ],
          [
           0.013454008098850966,
           -0.017859822184363938,
           -0.04916880920228074,
           -0.07929019757294747,
           -0.10711012813756442,
           -0.1316269478872783,
           -0.15198770280837584,
           -0.16751643729146143,
           -0.17773339606034183,
           -0.18236471957976835,
           -0.18134271385500067,
           -0.1747972342928682,
           -0.16303912773542587,
           -0.14653700801271363,
           -0.1258888846262905,
           -0.10179031338845618,
           -0.0750007897964791,
           -0.046310064114579955,
           -0.016505930263581485,
           0.013655158230898757,
           0.043473546354522816,
           0.07232710218505171,
           0.09968670899986165,
           0.12512633286074154,
           0.14832776112580212,
           0.16908036038891633,
           0.18727640924644018,
           0.20290271423033404,
           0.21602931256266372,
           0.22679610352037188,
           0.23539823538075702,
           0.2420710146043941,
           0.24707500803079696,
           0.2506818889186662,
           0.2531614457800734,
           0.25477004091850136,
           0.2557406839380664,
           0.2562747828163765,
           0.25653555744366946,
           0.2566430509401283,
           0.2566706526738519,
           0.2566430509401283,
           0.25653555744366946,
           0.2562747828163765,
           0.2557406839380664,
           0.25477004091850136,
           0.2531614457800734,
           0.2506818889186662,
           0.24707500803079696,
           0.2420710146043941,
           0.23539823538075702,
           0.22679610352037188,
           0.21602931256266372,
           0.20290271423033404,
           0.18727640924644018,
           0.16908036038891633,
           0.14832776112580212,
           0.12512633286074154,
           0.09968670899986165,
           0.07232710218505171,
           0.043473546354522816,
           0.013655158230898757,
           -0.016505930263581485,
           -0.046310064114579955,
           -0.0750007897964791,
           -0.10179031338845618,
           -0.1258888846262905,
           -0.14653700801271363,
           -0.16303912773542587,
           -0.1747972342928682,
           -0.18134271385500067,
           -0.18236471957976835,
           -0.17773339606034183,
           -0.16751643729146143,
           -0.15198770280837584,
           -0.1316269478872783,
           -0.10711012813756442,
           -0.07929019757294747,
           -0.04916880920228074,
           -0.017859822184363938
          ],
          [
           0.037104384846577534,
           0.007233082355737275,
           -0.023527608249201665,
           -0.054043516875550875,
           -0.08321475815193494,
           -0.11001880232017779,
           -0.13354819579908725,
           -0.15304146672549196,
           -0.167906160972842,
           -0.17773339606034183,
           -0.18230376872794093,
           -0.18158488243001691,
           -0.17572115154133375,
           -0.16501687105976595,
           -0.1499137997580331,
           -0.13096468174943518,
           -0.10880422217787396,
           -0.08411903827788304,
           -0.05761803324395176,
           -0.030004497243790427,
           -0.001951040868825416,
           0.025921773001301992,
           0.05306249567952219,
           0.07900122348247962,
           0.10335731863015635,
           0.1258425822940911,
           0.14626024334832619,
           0.16450028494360933,
           0.18053174205108255,
           0.1943926655354523,
           0.2061784643801796,
           0.21602931256266372,
           0.22411724822563847,
           0.23063350923189954,
           0.23577655069724138,
           0.23974108638511749,
           0.242708395806646,
           0.24483804991090946,
           0.24626113579560338,
           0.24707500803079696,
           0.24733956165584545,
           0.24707500803079696,
           0.24626113579560338,
           0.24483804991090946,
           0.242708395806646,
           0.23974108638511749,
           0.23577655069724138,
           0.23063350923189954,
           0.22411724822563847,
           0.21602931256266372,
           0.2061784643801796,
           0.1943926655354523,
           0.18053174205108255,
           0.16450028494360933,
           0.14626024334832619,
           0.1258425822940911,
           0.10335731863015635,
           0.07900122348247962,
           0.05306249567952219,
           0.025921773001301992,
           -0.001951040868825416,
           -0.030004497243790427,
           -0.05761803324395176,
           -0.08411903827788304,
           -0.10880422217787396,
           -0.13096468174943518,
           -0.1499137997580331,
           -0.16501687105976595,
           -0.17572115154133375,
           -0.18158488243001691,
           -0.18230376872794093,
           -0.17773339606034183,
           -0.167906160972842,
           -0.15304146672549196,
           -0.13354819579908725,
           -0.11001880232017779,
           -0.08321475815193494,
           -0.054043516875550875,
           -0.023527608249201665,
           0.007233082355737275
          ],
          [
           0.059725017515438364,
           0.03197958453286062,
           0.0025207381574719806,
           -0.027588123185645037,
           -0.0572857273340844,
           -0.08555491563889543,
           -0.1114606806231028,
           -0.13418273806183595,
           -0.15304146672549196,
           -0.16751643729146143,
           -0.17725715646546372,
           -0.18208605074549258,
           -0.18199408570471504,
           -0.17712974307464055,
           -0.16778234479339135,
           -0.1543609103022869,
           -0.13736985507049018,
           -0.11738288358628372,
           -0.0950164022704569,
           -0.07090368426500879,
           -0.045670869380806056,
           -0.019915691575644292,
           0.0058103924762656495,
           0.031016232090896562,
           0.05528095770522729,
           0.07825990831739421,
           0.09968670899986165,
           0.11937185506223688,
           0.13719827990417027,
           0.15311446345017118,
           0.16712567793535366,
           0.1792839709402817,
           0.18967745729212915,
           0.19841943861188654,
           0.20563779959612533,
           0.21146505144444128,
           0.21602931256266372,
           0.21944644111666822,
           0.22181346801290225,
           0.2232034254780841,
           0.22366162672468853,
           0.2232034254780841,
           0.22181346801290225,
           0.21944644111666822,
           0.21602931256266372,
           0.21146505144444128,
           0.20563779959612533,
           0.19841943861188654,
           0.18967745729212915,
           0.1792839709402817,
           0.16712567793535366,
           0.15311446345017118,
           0.13719827990417027,
           0.11937185506223688,
           0.09968670899986165,
           0.07825990831739421,
           0.05528095770522729,
           0.031016232090896562,
           0.0058103924762656495,
           -0.019915691575644292,
           -0.045670869380806056,
           -0.07090368426500879,
           -0.0950164022704569,
           -0.11738288358628372,
           -0.13736985507049018,
           -0.1543609103022869,
           -0.16778234479339135,
           -0.17712974307464055,
           -0.18199408570471504,
           -0.18208605074549258,
           -0.17725715646546372,
           -0.16751643729146143,
           -0.15304146672549196,
           -0.13418273806183595,
           -0.1114606806231028,
           -0.08555491563889543,
           -0.0572857273340844,
           -0.027588123185645037,
           0.0025207381574719806,
           0.03197958453286062
          ],
          [
           0.08069235790121831,
           0.05570574218106777,
           0.028270310898122826,
           -0.0006409754282528475,
           -0.03002807965783915,
           -0.05890402451081101,
           -0.08633239590937543,
           -0.1114606806231028,
           -0.13354819579908725,
           -0.15198770280837584,
           -0.16632015713858264,
           -0.17624240938958516,
           -0.18160802037610754,
           -0.18242166855756492,
           -0.1788278960809016,
           -0.17109514979541934,
           -0.15959621882048483,
           -0.14478624788034108,
           -0.1271795169340972,
           -0.10732612754693129,
           -0.0857896329957062,
           -0.0631265026963309,
           -0.039868134180728126,
           -0.016505930263581485,
           0.0065202421682302655,
           0.02883009042098063,
           0.05010748884225075,
           0.07010183827093616,
           0.08862652853638416,
           0.10555493165712146,
           0.12081441070397907,
           0.13437885433763305,
           0.14626024334832619,
           0.15649972810645998,
           0.16515865057394133,
           0.17230988766358785,
           0.17802983029511174,
           0.18239124981424537,
           0.18545724476618586,
           0.18727640924644018,
           0.18787932061729182,
           0.18727640924644018,
           0.18545724476618586,
           0.18239124981424537,
           0.17802983029511174,
           0.17230988766358785,
           0.16515865057394133,
           0.15649972810645998,
           0.14626024334832619,
           0.13437885433763305,
           0.12081441070397907,
           0.10555493165712146,
           0.08862652853638416,
           0.07010183827093616,
           0.05010748884225075,
           0.02883009042098063,
           0.0065202421682302655,
           -0.016505930263581485,
           -0.039868134180728126,
           -0.0631265026963309,
           -0.0857896329957062,
           -0.10732612754693129,
           -0.1271795169340972,
           -0.14478624788034108,
           -0.15959621882048483,
           -0.17109514979541934,
           -0.1788278960809016,
           -0.18242166855756492,
           -0.18160802037610754,
           -0.17624240938958516,
           -0.16632015713858264,
           -0.15198770280837584,
           -0.13354819579908725,
           -0.1114606806231028,
           -0.08633239590937543,
           -0.05890402451081101,
           -0.03002807965783915,
           -0.0006409754282528475,
           0.028270310898122826,
           0.05570574218106777
          ],
          [
           0.0993958462307399,
           0.07773008237271903,
           0.05298490441364873,
           0.026026147564044762,
           -0.0022274559793407315,
           -0.030841885736018544,
           -0.05890402451081101,
           -0.08555491563889543,
           -0.11001880232017779,
           -0.1316269478872783,
           -0.14983554931501694,
           -0.1642373823959323,
           -0.17456713788189782,
           -0.1807007071005138,
           -0.18264893898060253,
           -0.18054660691367944,
           -0.17463748569481502,
           -0.16525654180237792,
           -0.1528102839666787,
           -0.1377563081818195,
           -0.12058300781296416,
           -0.10179031338845618,
           -0.08187218787401292,
           -0.061301442485772274,
           -0.040517266401149735,
           -0.019915691575644292,
           0.0001569493213448689,
           0.019407660252202565,
           0.03759772656874239,
           0.054541276561040686,
           0.07010183827093616,
           0.08418731130237875,
           0.09674378883254962,
           0.10774865812501504,
           0.11720338291232232,
           0.12512633286074154,
           0.13154597877649798,
           0.13649472168344115,
           0.14000357308347133,
           0.14209785531573388,
           0.14279404657238684,
           0.14209785531573388,
           0.14000357308347133,
           0.13649472168344115,
           0.13154597877649798,
           0.12512633286074154,
           0.11720338291232232,
           0.10774865812501504,
           0.09674378883254962,
           0.08418731130237875,
           0.07010183827093616,
           0.054541276561040686,
           0.03759772656874239,
           0.019407660252202565,
           0.0001569493213448689,
           -0.019915691575644292,
           -0.040517266401149735,
           -0.061301442485772274,
           -0.08187218787401292,
           -0.10179031338845618,
           -0.12058300781296416,
           -0.1377563081818195,
           -0.1528102839666787,
           -0.16525654180237792,
           -0.17463748569481502,
           -0.18054660691367944,
           -0.18264893898060253,
           -0.1807007071005138,
           -0.17456713788189782,
           -0.1642373823959323,
           -0.14983554931501694,
           -0.1316269478872783,
           -0.11001880232017779,
           -0.08555491563889543,
           -0.05890402451081101,
           -0.030841885736018544,
           -0.0022274559793407315,
           0.026026147564044762,
           0.05298490441364873,
           0.07773008237271903
          ],
          [
           0.11526115097856117,
           0.09738828403656238,
           0.0759235678781371,
           0.05161237775613617,
           0.025275083284098894,
           -0.0022274559793407315,
           -0.03002807965783915,
           -0.0572857273340844,
           -0.08321475815193494,
           -0.10711012813756442,
           -0.1283676319466868,
           -0.1464987033293174,
           -0.16113955966514656,
           -0.17205475511311313,
           -0.17913546063850083,
           -0.18239300622958532,
           -0.18194839266053625,
           -0.17801860199902664,
           -0.17090060569317098,
           -0.1609539875623888,
           -0.14858307017251748,
           -0.13421936300715656,
           -0.11830504740258321,
           -0.10127808535368477,
           -0.08355939645450051,
           -0.06554239869174844,
           -0.04758506314163741,
           -0.030004497243790427,
           -0.013073952151520388,
           0.0029779491154211806,
           0.017966041941118966,
           0.031745840459068614,
           0.044209509361482956,
           0.05528095770522729,
           0.0649104168254659,
           0.07306884206017318,
           0.07974244535617742,
           0.08492762656935865,
           0.08862652853638416,
           0.09084339726921295,
           0.09158188560927924,
           0.09084339726921295,
           0.08862652853638416,
           0.08492762656935865,
           0.07974244535617742,
           0.07306884206017318,
           0.0649104168254659,
           0.05528095770522729,
           0.044209509361482956,
           0.031745840459068614,
           0.017966041941118966,
           0.0029779491154211806,
           -0.013073952151520388,
           -0.030004497243790427,
           -0.04758506314163741,
           -0.06554239869174844,
           -0.08355939645450051,
           -0.10127808535368477,
           -0.11830504740258321,
           -0.13421936300715656,
           -0.14858307017251748,
           -0.1609539875623888,
           -0.17090060569317098,
           -0.17801860199902664,
           -0.18194839266053625,
           -0.18239300622958532,
           -0.17913546063850083,
           -0.17205475511311313,
           -0.16113955966514656,
           -0.1464987033293174,
           -0.1283676319466868,
           -0.10711012813756442,
           -0.08321475815193494,
           -0.0572857273340844,
           -0.03002807965783915,
           -0.0022274559793407315,
           0.025275083284098894,
           0.05161237775613617,
           0.0759235678781371,
           0.09738828403656238
          ],
          [
           0.12777380562398274,
           0.11405907878471819,
           0.09636827159298987,
           0.07531659368730659,
           0.05161237775613617,
           0.026026147564044762,
           -0.0006409754282528475,
           -0.027588123185645037,
           -0.054043516875550875,
           -0.07929019757294747,
           -0.10268778525178764,
           -0.12368964794720452,
           -0.14185512230149663,
           -0.15685668268767797,
           -0.16848219583369567,
           -0.17663261032673944,
           -0.18131560690315682,
           -0.1826358700412797,
           -0.18078273088932142,
           -0.1760159755489718,
           -0.16865061331126227,
           -0.15904136091487175,
           -0.14756752732225356,
           -0.13461888616197776,
           -0.12058300781296416,
           -0.10583439818051152,
           -0.0907256642328181,
           -0.07558080422426758,
           -0.060690608986011814,
           -0.046310064114579955,
           -0.032657564269347995,
           -0.019915691575644292,
           -0.00823327044894154,
           0.0022716100207446164,
           0.011507919583092052,
           0.019407660252202565,
           0.025921773001301992,
           0.031016232090896562,
           0.03466854669458865,
           0.03686485131708162,
           0.03759772656874239,
           0.03686485131708162,
           0.03466854669458865,
           0.031016232090896562,
           0.025921773001301992,
           0.019407660252202565,
           0.011507919583092052,
           0.0022716100207446164,
           -0.00823327044894154,
           -0.019915691575644292,
           -0.032657564269347995,
           -0.046310064114579955,
           -0.060690608986011814,
           -0.07558080422426758,
           -0.0907256642328181,
           -0.10583439818051152,
           -0.12058300781296416,
           -0.13461888616197776,
           -0.14756752732225356,
           -0.15904136091487175,
           -0.16865061331126227,
           -0.1760159755489718,
           -0.18078273088932142,
           -0.1826358700412797,
           -0.18131560690315682,
           -0.17663261032673944,
           -0.16848219583369567,
           -0.15685668268767797,
           -0.14185512230149663,
           -0.12368964794720452,
           -0.10268778525178764,
           -0.07929019757294747,
           -0.054043516875550875,
           -0.027588123185645037,
           -0.0006409754282528475,
           0.026026147564044762,
           0.05161237775613617,
           0.07531659368730659,
           0.09636827159298987,
           0.11405907878471819
          ],
          [
           0.13650222610828716,
           0.12719030582037316,
           0.1136526088802527,
           0.09636827159298987,
           0.0759235678781371,
           0.05298490441364873,
           0.028270310898122826,
           0.0025207381574719806,
           -0.023527608249201665,
           -0.04916880920228074,
           -0.07374973820785838,
           -0.09668883252747353,
           -0.11749065565570795,
           -0.13575600794040762,
           -0.1511875643863488,
           -0.163591222139663,
           -0.17287351607260817,
           -0.17903560277058095,
           -0.1821644169794075,
           -0.18242166855756492,
           -0.1800313728705813,
           -0.1752665961050691,
           -0.16843605361995675,
           -0.15987112992755653,
           -0.1499137997580331,
           -0.13890582780165694,
           -0.1271795169340972,
           -0.11505016730310495,
           -0.10281030706494565,
           -0.0907256642328181,
           -0.07903277128303789,
           -0.06793803188546253,
           -0.05761803324395176,
           -0.04822085787410071,
           -0.039868134180728126,
           -0.032657564269347995,
           -0.026665677985416577,
           -0.021950582012676394,
           -0.01855449981019833,
           -0.016505930263581485,
           -0.015821288518275644,
           -0.016505930263581485,
           -0.01855449981019833,
           -0.021950582012676394,
           -0.026665677985416577,
           -0.032657564269347995,
           -0.039868134180728126,
           -0.04822085787410071,
           -0.05761803324395176,
           -0.06793803188546253,
           -0.07903277128303789,
           -0.0907256642328181,
           -0.10281030706494565,
           -0.11505016730310495,
           -0.1271795169340972,
           -0.13890582780165694,
           -0.1499137997580331,
           -0.15987112992755653,
           -0.16843605361995675,
           -0.1752665961050691,
           -0.1800313728705813,
           -0.18242166855756492,
           -0.1821644169794075,
           -0.17903560277058095,
           -0.17287351607260817,
           -0.163591222139663,
           -0.1511875643863488,
           -0.13575600794040762,
           -0.11749065565570795,
           -0.09668883252747353,
           -0.07374973820785838,
           -0.04916880920228074,
           -0.023527608249201665,
           0.0025207381574719806,
           0.028270310898122826,
           0.05298490441364873,
           0.0759235678781371,
           0.09636827159298987,
           0.1136526088802527,
           0.12719030582037316
          ],
          [
           0.14111903500315878,
           0.13632396086944565,
           0.12719030582037316,
           0.11405907878471819,
           0.09738828403656238,
           0.07773008237271903,
           0.05570574218106777,
           0.03197958453286062,
           0.007233082355737275,
           -0.017859822184363938,
           -0.042655257000177006,
           -0.06655906279410359,
           -0.08904297911487404,
           -0.10965701691843574,
           -0.12803786284735597,
           -0.14391335124448024,
           -0.15710321083861073,
           -0.16751643729146143,
           -0.1751457556394694,
           -0.1800597155006458,
           -0.18239300622958532,
           -0.18233559039097344,
           -0.18012123502583363,
           -0.1760159755489718,
           -0.17030698199702413,
           -0.16329221750830802,
           -0.15527119023634722,
           -0.14653700801271363,
           -0.13736985507049018,
           -0.12803192632998142,
           -0.11876378051842666,
           -0.10978201113265723,
           -0.10127808535368477,
           -0.09341816596346665,
           -0.08634370978474622,
           -0.08017262722723162,
           -0.0750007897964791,
           -0.07090368426500879,
           -0.06793803188546253,
           -0.06614321685638791,
           -0.06554239869174844,
           -0.06614321685638791,
           -0.06793803188546253,
           -0.07090368426500879,
           -0.0750007897964791,
           -0.08017262722723162,
           -0.08634370978474622,
           -0.09341816596346665,
           -0.10127808535368477,
           -0.10978201113265723,
           -0.11876378051842666,
           -0.12803192632998142,
           -0.13736985507049018,
           -0.14653700801271363,
           -0.15527119023634722,
           -0.16329221750830802,
           -0.17030698199702413,
           -0.1760159755489718,
           -0.18012123502583363,
           -0.18233559039097344,
           -0.18239300622958532,
           -0.1800597155006458,
           -0.1751457556394694,
           -0.16751643729146143,
           -0.15710321083861073,
           -0.14391335124448024,
           -0.12803786284735597,
           -0.10965701691843574,
           -0.08904297911487404,
           -0.06655906279410359,
           -0.042655257000177006,
           -0.017859822184363938,
           0.007233082355737275,
           0.03197958453286062,
           0.05570574218106777,
           0.07773008237271903,
           0.09738828403656238,
           0.11405907878471819,
           0.12719030582037316,
           0.13632396086944565
          ]
         ]
        }
       ],
       "layout": {
        "legend": {
         "bgcolor": "#F5F6F9",
         "font": {
          "color": "#4D5663"
         }
        },
        "paper_bgcolor": "#F5F6F9",
        "plot_bgcolor": "#F5F6F9",
        "template": {
         "data": {
          "bar": [
           {
            "error_x": {
             "color": "#2a3f5f"
            },
            "error_y": {
             "color": "#2a3f5f"
            },
            "marker": {
             "line": {
              "color": "#E5ECF6",
              "width": 0.5
             }
            },
            "type": "bar"
           }
          ],
          "barpolar": [
           {
            "marker": {
             "line": {
              "color": "#E5ECF6",
              "width": 0.5
             }
            },
            "type": "barpolar"
           }
          ],
          "carpet": [
           {
            "aaxis": {
             "endlinecolor": "#2a3f5f",
             "gridcolor": "white",
             "linecolor": "white",
             "minorgridcolor": "white",
             "startlinecolor": "#2a3f5f"
            },
            "baxis": {
             "endlinecolor": "#2a3f5f",
             "gridcolor": "white",
             "linecolor": "white",
             "minorgridcolor": "white",
             "startlinecolor": "#2a3f5f"
            },
            "type": "carpet"
           }
          ],
          "choropleth": [
           {
            "colorbar": {
             "outlinewidth": 0,
             "ticks": ""
            },
            "type": "choropleth"
           }
          ],
          "contour": [
           {
            "colorbar": {
             "outlinewidth": 0,
             "ticks": ""
            },
            "colorscale": [
             [
              0,
              "#0d0887"
             ],
             [
              0.1111111111111111,
              "#46039f"
             ],
             [
              0.2222222222222222,
              "#7201a8"
             ],
             [
              0.3333333333333333,
              "#9c179e"
             ],
             [
              0.4444444444444444,
              "#bd3786"
             ],
             [
              0.5555555555555556,
              "#d8576b"
             ],
             [
              0.6666666666666666,
              "#ed7953"
             ],
             [
              0.7777777777777778,
              "#fb9f3a"
             ],
             [
              0.8888888888888888,
              "#fdca26"
             ],
             [
              1,
              "#f0f921"
             ]
            ],
            "type": "contour"
           }
          ],
          "contourcarpet": [
           {
            "colorbar": {
             "outlinewidth": 0,
             "ticks": ""
            },
            "type": "contourcarpet"
           }
          ],
          "heatmap": [
           {
            "colorbar": {
             "outlinewidth": 0,
             "ticks": ""
            },
            "colorscale": [
             [
              0,
              "#0d0887"
             ],
             [
              0.1111111111111111,
              "#46039f"
             ],
             [
              0.2222222222222222,
              "#7201a8"
             ],
             [
              0.3333333333333333,
              "#9c179e"
             ],
             [
              0.4444444444444444,
              "#bd3786"
             ],
             [
              0.5555555555555556,
              "#d8576b"
             ],
             [
              0.6666666666666666,
              "#ed7953"
             ],
             [
              0.7777777777777778,
              "#fb9f3a"
             ],
             [
              0.8888888888888888,
              "#fdca26"
             ],
             [
              1,
              "#f0f921"
             ]
            ],
            "type": "heatmap"
           }
          ],
          "heatmapgl": [
           {
            "colorbar": {
             "outlinewidth": 0,
             "ticks": ""
            },
            "colorscale": [
             [
              0,
              "#0d0887"
             ],
             [
              0.1111111111111111,
              "#46039f"
             ],
             [
              0.2222222222222222,
              "#7201a8"
             ],
             [
              0.3333333333333333,
              "#9c179e"
             ],
             [
              0.4444444444444444,
              "#bd3786"
             ],
             [
              0.5555555555555556,
              "#d8576b"
             ],
             [
              0.6666666666666666,
              "#ed7953"
             ],
             [
              0.7777777777777778,
              "#fb9f3a"
             ],
             [
              0.8888888888888888,
              "#fdca26"
             ],
             [
              1,
              "#f0f921"
             ]
            ],
            "type": "heatmapgl"
           }
          ],
          "histogram": [
           {
            "marker": {
             "colorbar": {
              "outlinewidth": 0,
              "ticks": ""
             }
            },
            "type": "histogram"
           }
          ],
          "histogram2d": [
           {
            "colorbar": {
             "outlinewidth": 0,
             "ticks": ""
            },
            "colorscale": [
             [
              0,
              "#0d0887"
             ],
             [
              0.1111111111111111,
              "#46039f"
             ],
             [
              0.2222222222222222,
              "#7201a8"
             ],
             [
              0.3333333333333333,
              "#9c179e"
             ],
             [
              0.4444444444444444,
              "#bd3786"
             ],
             [
              0.5555555555555556,
              "#d8576b"
             ],
             [
              0.6666666666666666,
              "#ed7953"
             ],
             [
              0.7777777777777778,
              "#fb9f3a"
             ],
             [
              0.8888888888888888,
              "#fdca26"
             ],
             [
              1,
              "#f0f921"
             ]
            ],
            "type": "histogram2d"
           }
          ],
          "histogram2dcontour": [
           {
            "colorbar": {
             "outlinewidth": 0,
             "ticks": ""
            },
            "colorscale": [
             [
              0,
              "#0d0887"
             ],
             [
              0.1111111111111111,
              "#46039f"
             ],
             [
              0.2222222222222222,
              "#7201a8"
             ],
             [
              0.3333333333333333,
              "#9c179e"
             ],
             [
              0.4444444444444444,
              "#bd3786"
             ],
             [
              0.5555555555555556,
              "#d8576b"
             ],
             [
              0.6666666666666666,
              "#ed7953"
             ],
             [
              0.7777777777777778,
              "#fb9f3a"
             ],
             [
              0.8888888888888888,
              "#fdca26"
             ],
             [
              1,
              "#f0f921"
             ]
            ],
            "type": "histogram2dcontour"
           }
          ],
          "mesh3d": [
           {
            "colorbar": {
             "outlinewidth": 0,
             "ticks": ""
            },
            "type": "mesh3d"
           }
          ],
          "parcoords": [
           {
            "line": {
             "colorbar": {
              "outlinewidth": 0,
              "ticks": ""
             }
            },
            "type": "parcoords"
           }
          ],
          "pie": [
           {
            "automargin": true,
            "type": "pie"
           }
          ],
          "scatter": [
           {
            "marker": {
             "colorbar": {
              "outlinewidth": 0,
              "ticks": ""
             }
            },
            "type": "scatter"
           }
          ],
          "scatter3d": [
           {
            "line": {
             "colorbar": {
              "outlinewidth": 0,
              "ticks": ""
             }
            },
            "marker": {
             "colorbar": {
              "outlinewidth": 0,
              "ticks": ""
             }
            },
            "type": "scatter3d"
           }
          ],
          "scattercarpet": [
           {
            "marker": {
             "colorbar": {
              "outlinewidth": 0,
              "ticks": ""
             }
            },
            "type": "scattercarpet"
           }
          ],
          "scattergeo": [
           {
            "marker": {
             "colorbar": {
              "outlinewidth": 0,
              "ticks": ""
             }
            },
            "type": "scattergeo"
           }
          ],
          "scattergl": [
           {
            "marker": {
             "colorbar": {
              "outlinewidth": 0,
              "ticks": ""
             }
            },
            "type": "scattergl"
           }
          ],
          "scattermapbox": [
           {
            "marker": {
             "colorbar": {
              "outlinewidth": 0,
              "ticks": ""
             }
            },
            "type": "scattermapbox"
           }
          ],
          "scatterpolar": [
           {
            "marker": {
             "colorbar": {
              "outlinewidth": 0,
              "ticks": ""
             }
            },
            "type": "scatterpolar"
           }
          ],
          "scatterpolargl": [
           {
            "marker": {
             "colorbar": {
              "outlinewidth": 0,
              "ticks": ""
             }
            },
            "type": "scatterpolargl"
           }
          ],
          "scatterternary": [
           {
            "marker": {
             "colorbar": {
              "outlinewidth": 0,
              "ticks": ""
             }
            },
            "type": "scatterternary"
           }
          ],
          "surface": [
           {
            "colorbar": {
             "outlinewidth": 0,
             "ticks": ""
            },
            "colorscale": [
             [
              0,
              "#0d0887"
             ],
             [
              0.1111111111111111,
              "#46039f"
             ],
             [
              0.2222222222222222,
              "#7201a8"
             ],
             [
              0.3333333333333333,
              "#9c179e"
             ],
             [
              0.4444444444444444,
              "#bd3786"
             ],
             [
              0.5555555555555556,
              "#d8576b"
             ],
             [
              0.6666666666666666,
              "#ed7953"
             ],
             [
              0.7777777777777778,
              "#fb9f3a"
             ],
             [
              0.8888888888888888,
              "#fdca26"
             ],
             [
              1,
              "#f0f921"
             ]
            ],
            "type": "surface"
           }
          ],
          "table": [
           {
            "cells": {
             "fill": {
              "color": "#EBF0F8"
             },
             "line": {
              "color": "white"
             }
            },
            "header": {
             "fill": {
              "color": "#C8D4E3"
             },
             "line": {
              "color": "white"
             }
            },
            "type": "table"
           }
          ]
         },
         "layout": {
          "annotationdefaults": {
           "arrowcolor": "#2a3f5f",
           "arrowhead": 0,
           "arrowwidth": 1
          },
          "autotypenumbers": "strict",
          "coloraxis": {
           "colorbar": {
            "outlinewidth": 0,
            "ticks": ""
           }
          },
          "colorscale": {
           "diverging": [
            [
             0,
             "#8e0152"
            ],
            [
             0.1,
             "#c51b7d"
            ],
            [
             0.2,
             "#de77ae"
            ],
            [
             0.3,
             "#f1b6da"
            ],
            [
             0.4,
             "#fde0ef"
            ],
            [
             0.5,
             "#f7f7f7"
            ],
            [
             0.6,
             "#e6f5d0"
            ],
            [
             0.7,
             "#b8e186"
            ],
            [
             0.8,
             "#7fbc41"
            ],
            [
             0.9,
             "#4d9221"
            ],
            [
             1,
             "#276419"
            ]
           ],
           "sequential": [
            [
             0,
             "#0d0887"
            ],
            [
             0.1111111111111111,
             "#46039f"
            ],
            [
             0.2222222222222222,
             "#7201a8"
            ],
            [
             0.3333333333333333,
             "#9c179e"
            ],
            [
             0.4444444444444444,
             "#bd3786"
            ],
            [
             0.5555555555555556,
             "#d8576b"
            ],
            [
             0.6666666666666666,
             "#ed7953"
            ],
            [
             0.7777777777777778,
             "#fb9f3a"
            ],
            [
             0.8888888888888888,
             "#fdca26"
            ],
            [
             1,
             "#f0f921"
            ]
           ],
           "sequentialminus": [
            [
             0,
             "#0d0887"
            ],
            [
             0.1111111111111111,
             "#46039f"
            ],
            [
             0.2222222222222222,
             "#7201a8"
            ],
            [
             0.3333333333333333,
             "#9c179e"
            ],
            [
             0.4444444444444444,
             "#bd3786"
            ],
            [
             0.5555555555555556,
             "#d8576b"
            ],
            [
             0.6666666666666666,
             "#ed7953"
            ],
            [
             0.7777777777777778,
             "#fb9f3a"
            ],
            [
             0.8888888888888888,
             "#fdca26"
            ],
            [
             1,
             "#f0f921"
            ]
           ]
          },
          "colorway": [
           "#636efa",
           "#EF553B",
           "#00cc96",
           "#ab63fa",
           "#FFA15A",
           "#19d3f3",
           "#FF6692",
           "#B6E880",
           "#FF97FF",
           "#FECB52"
          ],
          "font": {
           "color": "#2a3f5f"
          },
          "geo": {
           "bgcolor": "white",
           "lakecolor": "white",
           "landcolor": "#E5ECF6",
           "showlakes": true,
           "showland": true,
           "subunitcolor": "white"
          },
          "hoverlabel": {
           "align": "left"
          },
          "hovermode": "closest",
          "mapbox": {
           "style": "light"
          },
          "paper_bgcolor": "white",
          "plot_bgcolor": "#E5ECF6",
          "polar": {
           "angularaxis": {
            "gridcolor": "white",
            "linecolor": "white",
            "ticks": ""
           },
           "bgcolor": "#E5ECF6",
           "radialaxis": {
            "gridcolor": "white",
            "linecolor": "white",
            "ticks": ""
           }
          },
          "scene": {
           "xaxis": {
            "backgroundcolor": "#E5ECF6",
            "gridcolor": "white",
            "gridwidth": 2,
            "linecolor": "white",
            "showbackground": true,
            "ticks": "",
            "zerolinecolor": "white"
           },
           "yaxis": {
            "backgroundcolor": "#E5ECF6",
            "gridcolor": "white",
            "gridwidth": 2,
            "linecolor": "white",
            "showbackground": true,
            "ticks": "",
            "zerolinecolor": "white"
           },
           "zaxis": {
            "backgroundcolor": "#E5ECF6",
            "gridcolor": "white",
            "gridwidth": 2,
            "linecolor": "white",
            "showbackground": true,
            "ticks": "",
            "zerolinecolor": "white"
           }
          },
          "shapedefaults": {
           "line": {
            "color": "#2a3f5f"
           }
          },
          "ternary": {
           "aaxis": {
            "gridcolor": "white",
            "linecolor": "white",
            "ticks": ""
           },
           "baxis": {
            "gridcolor": "white",
            "linecolor": "white",
            "ticks": ""
           },
           "bgcolor": "#E5ECF6",
           "caxis": {
            "gridcolor": "white",
            "linecolor": "white",
            "ticks": ""
           }
          },
          "title": {
           "x": 0.05
          },
          "xaxis": {
           "automargin": true,
           "gridcolor": "white",
           "linecolor": "white",
           "ticks": "",
           "title": {
            "standoff": 15
           },
           "zerolinecolor": "white",
           "zerolinewidth": 2
          },
          "yaxis": {
           "automargin": true,
           "gridcolor": "white",
           "linecolor": "white",
           "ticks": "",
           "title": {
            "standoff": 15
           },
           "zerolinecolor": "white",
           "zerolinewidth": 2
          }
         }
        },
        "title": {
         "font": {
          "color": "#4D5663"
         }
        },
        "xaxis": {
         "gridcolor": "#E1E5ED",
         "showgrid": true,
         "tickfont": {
          "color": "#4D5663"
         },
         "title": {
          "font": {
           "color": "#4D5663"
          },
          "text": ""
         },
         "zerolinecolor": "#E1E5ED"
        },
        "yaxis": {
         "gridcolor": "#E1E5ED",
         "showgrid": true,
         "tickfont": {
          "color": "#4D5663"
         },
         "title": {
          "font": {
           "color": "#4D5663"
          },
          "text": ""
         },
         "zerolinecolor": "#E1E5ED"
        }
       }
      },
      "text/html": [
       "<div>                            <div id=\"56497365-5f83-4438-ab27-4144aeb83437\" class=\"plotly-graph-div\" style=\"height:525px; width:100%;\"></div>            <script type=\"text/javascript\">                require([\"plotly\"], function(Plotly) {                    window.PLOTLYENV=window.PLOTLYENV || {};\n",
       "                    window.PLOTLYENV.BASE_URL='https://plot.ly';                                    if (document.getElementById(\"56497365-5f83-4438-ab27-4144aeb83437\")) {                    Plotly.newPlot(                        \"56497365-5f83-4438-ab27-4144aeb83437\",                        [{\"colorscale\": [[0.0, \"rgb(255, 153, 51)\"], [0.1111111111111111, \"rgb(55, 128, 191)\"], [0.2222222222222222, \"rgb(50, 171, 96)\"], [0.3333333333333333, \"rgb(128, 0, 128)\"], [0.4444444444444444, \"rgb(219, 64, 82)\"], [0.5555555555555556, \"rgb(0, 128, 128)\"], [0.6666666666666666, \"rgb(255, 255, 51)\"], [0.7777777777777778, \"rgb(128, 128, 0)\"], [0.8888888888888888, \"rgb(251, 128, 114)\"], [1.0, \"rgb(128, 177, 211)\"]], \"type\": \"surface\", \"x\": [-10.0, -9.75, -9.5, -9.25, -9.0, -8.75, -8.5, -8.25, -8.0, -7.75, -7.5, -7.25, -7.0, -6.75, -6.5, -6.25, -6.0, -5.75, -5.5, -5.25, -5.0, -4.75, -4.5, -4.25, -4.0, -3.75, -3.5, -3.25, -3.0, -2.75, -2.5, -2.25, -2.0, -1.75, -1.5, -1.25, -1.0, -0.75, -0.5, -0.25, 0.0, 0.25, 0.5, 0.75, 1.0, 1.25, 1.5, 1.75, 2.0, 2.25, 2.5, 2.75, 3.0, 3.25, 3.5, 3.75, 4.0, 4.25, 4.5, 4.75, 5.0, 5.25, 5.5, 5.75, 6.0, 6.25, 6.5, 6.75, 7.0, 7.25, 7.5, 7.75, 8.0, 8.25, 8.5, 8.75, 9.0, 9.25, 9.5, 9.75], \"y\": [-10.0, -9.75, -9.5, -9.25, -9.0, -8.75, -8.5, -8.25, -8.0, -7.75, -7.5, -7.25, -7.0, -6.75, -6.5, -6.25, -6.0, -5.75, -5.5, -5.25, -5.0, -4.75, -4.5, -4.25, -4.0, -3.75, -3.5, -3.25, -3.0, -2.75, -2.5, -2.25, -2.0, -1.75, -1.5, -1.25, -1.0, -0.75, -0.5, -0.25, 0.0, 0.25, 0.5, 0.75, 1.0, 1.25, 1.5, 1.75, 2.0, 2.25, 2.5, 2.75, 3.0, 3.25, 3.5, 3.75, 4.0, 4.25, 4.5, 4.75, 5.0, 5.25, 5.5, 5.75, 6.0, 6.25, 6.5, 6.75, 7.0, 7.25, 7.5, 7.75, 8.0, 8.25, 8.5, 8.75, 9.0, 9.25, 9.5, 9.75], \"z\": [[0.14141961054935853, 0.14111903500315878, 0.13650222610828716, 0.12777380562398274, 0.11526115097856117, 0.0993958462307399, 0.08069235790121831, 0.059725017515438364, 0.037104384846577534, 0.013454008098850966, -0.01061150357619211, -0.0345063152690242, -0.05769048962428924, -0.07968395387291566, -0.10007704610444179, -0.11853755153953284, -0.13481430178982187, -0.1487375524385824, -0.16021647158282734, -0.16923416092386775, -0.17584069010379264, -0.1801446545297837, -0.18230376872794093, -0.18251498442862385, -0.18100457917857166, -0.17801860199902664, -0.1738139924448547, -0.16865061331126227, -0.16278435980926842, -0.15646143337355978, -0.1499137997580331, -0.14335579129849668, -0.13698176393514344, -0.13096468174943518, -0.1254554756233313, -0.12058300781296416, -0.1164544699167505, -0.1131560467581887, -0.1107536917561867, -0.10929387900894774, -0.10880422217787396, -0.10929387900894774, -0.1107536917561867, -0.1131560467581887, -0.1164544699167505, -0.12058300781296416, -0.1254554756233313, -0.13096468174943518, -0.13698176393514344, -0.14335579129849668, -0.1499137997580331, -0.15646143337355978, -0.16278435980926842, -0.16865061331126227, -0.1738139924448547, -0.17801860199902664, -0.18100457917857166, -0.18251498442862385, -0.18230376872794093, -0.1801446545297837, -0.17584069010379264, -0.16923416092386775, -0.16021647158282734, -0.1487375524385824, -0.13481430178982187, -0.11853755153953284, -0.10007704610444179, -0.07968395387291566, -0.05769048962428924, -0.0345063152690242, -0.01061150357619211, 0.013454008098850966, 0.037104384846577534, 0.059725017515438364, 0.08069235790121831, 0.0993958462307399, 0.11526115097856117, 0.12777380562398274, 0.13650222610828716, 0.14111903500315878], [0.14111903500315878, 0.13632396086944565, 0.12719030582037316, 0.11405907878471819, 0.09738828403656238, 0.07773008237271903, 0.05570574218106777, 0.03197958453286062, 0.007233082355737275, -0.017859822184363938, -0.042655257000177006, -0.06655906279410359, -0.08904297911487404, -0.10965701691843574, -0.12803786284735597, -0.14391335124448024, -0.15710321083861073, -0.16751643729146143, -0.1751457556394694, -0.1800597155006458, -0.18239300622958532, -0.18233559039097344, -0.18012123502583363, -0.1760159755489718, -0.17030698199702413, -0.16329221750830802, -0.15527119023634722, -0.14653700801271363, -0.13736985507049018, -0.12803192632998142, -0.11876378051842666, -0.10978201113265723, -0.10127808535368477, -0.09341816596346665, -0.08634370978474622, -0.08017262722723162, -0.0750007897964791, -0.07090368426500879, -0.06793803188546253, -0.06614321685638791, -0.06554239869174844, -0.06614321685638791, -0.06793803188546253, -0.07090368426500879, -0.0750007897964791, -0.08017262722723162, -0.08634370978474622, -0.09341816596346665, -0.10127808535368477, -0.10978201113265723, -0.11876378051842666, -0.12803192632998142, -0.13736985507049018, -0.14653700801271363, -0.15527119023634722, -0.16329221750830802, -0.17030698199702413, -0.1760159755489718, -0.18012123502583363, -0.18233559039097344, -0.18239300622958532, -0.1800597155006458, -0.1751457556394694, -0.16751643729146143, -0.15710321083861073, -0.14391335124448024, -0.12803786284735597, -0.10965701691843574, -0.08904297911487404, -0.06655906279410359, -0.042655257000177006, -0.017859822184363938, 0.007233082355737275, 0.03197958453286062, 0.05570574218106777, 0.07773008237271903, 0.09738828403656238, 0.11405907878471819, 0.12719030582037316, 0.13632396086944565], [0.13650222610828716, 0.12719030582037316, 0.1136526088802527, 0.09636827159298987, 0.0759235678781371, 0.05298490441364873, 0.028270310898122826, 0.0025207381574719806, -0.023527608249201665, -0.04916880920228074, -0.07374973820785838, -0.09668883252747353, -0.11749065565570795, -0.13575600794040762, -0.1511875643863488, -0.163591222139663, -0.17287351607260817, -0.17903560277058095, -0.1821644169794075, -0.18242166855756492, -0.1800313728705813, -0.1752665961050691, -0.16843605361995675, -0.15987112992755653, -0.1499137997580331, -0.13890582780165694, -0.1271795169340972, -0.11505016730310495, -0.10281030706494565, -0.0907256642328181, -0.07903277128303789, -0.06793803188546253, -0.05761803324395176, -0.04822085787410071, -0.039868134180728126, -0.032657564269347995, -0.026665677985416577, -0.021950582012676394, -0.01855449981019833, -0.016505930263581485, -0.015821288518275644, -0.016505930263581485, -0.01855449981019833, -0.021950582012676394, -0.026665677985416577, -0.032657564269347995, -0.039868134180728126, -0.04822085787410071, -0.05761803324395176, -0.06793803188546253, -0.07903277128303789, -0.0907256642328181, -0.10281030706494565, -0.11505016730310495, -0.1271795169340972, -0.13890582780165694, -0.1499137997580331, -0.15987112992755653, -0.16843605361995675, -0.1752665961050691, -0.1800313728705813, -0.18242166855756492, -0.1821644169794075, -0.17903560277058095, -0.17287351607260817, -0.163591222139663, -0.1511875643863488, -0.13575600794040762, -0.11749065565570795, -0.09668883252747353, -0.07374973820785838, -0.04916880920228074, -0.023527608249201665, 0.0025207381574719806, 0.028270310898122826, 0.05298490441364873, 0.0759235678781371, 0.09636827159298987, 0.1136526088802527, 0.12719030582037316], [0.12777380562398274, 0.11405907878471819, 0.09636827159298987, 0.07531659368730659, 0.05161237775613617, 0.026026147564044762, -0.0006409754282528475, -0.027588123185645037, -0.054043516875550875, -0.07929019757294747, -0.10268778525178764, -0.12368964794720452, -0.14185512230149663, -0.15685668268767797, -0.16848219583369567, -0.17663261032673944, -0.18131560690315682, -0.1826358700412797, -0.18078273088932142, -0.1760159755489718, -0.16865061331126227, -0.15904136091487175, -0.14756752732225356, -0.13461888616197776, -0.12058300781296416, -0.10583439818051152, -0.0907256642328181, -0.07558080422426758, -0.060690608986011814, -0.046310064114579955, -0.032657564269347995, -0.019915691575644292, -0.00823327044894154, 0.0022716100207446164, 0.011507919583092052, 0.019407660252202565, 0.025921773001301992, 0.031016232090896562, 0.03466854669458865, 0.03686485131708162, 0.03759772656874239, 0.03686485131708162, 0.03466854669458865, 0.031016232090896562, 0.025921773001301992, 0.019407660252202565, 0.011507919583092052, 0.0022716100207446164, -0.00823327044894154, -0.019915691575644292, -0.032657564269347995, -0.046310064114579955, -0.060690608986011814, -0.07558080422426758, -0.0907256642328181, -0.10583439818051152, -0.12058300781296416, -0.13461888616197776, -0.14756752732225356, -0.15904136091487175, -0.16865061331126227, -0.1760159755489718, -0.18078273088932142, -0.1826358700412797, -0.18131560690315682, -0.17663261032673944, -0.16848219583369567, -0.15685668268767797, -0.14185512230149663, -0.12368964794720452, -0.10268778525178764, -0.07929019757294747, -0.054043516875550875, -0.027588123185645037, -0.0006409754282528475, 0.026026147564044762, 0.05161237775613617, 0.07531659368730659, 0.09636827159298987, 0.11405907878471819], [0.11526115097856117, 0.09738828403656238, 0.0759235678781371, 0.05161237775613617, 0.025275083284098894, -0.0022274559793407315, -0.03002807965783915, -0.0572857273340844, -0.08321475815193494, -0.10711012813756442, -0.1283676319466868, -0.1464987033293174, -0.16113955966514656, -0.17205475511311313, -0.17913546063850083, -0.18239300622958532, -0.18194839266053625, -0.17801860199902664, -0.17090060569317098, -0.1609539875623888, -0.14858307017251748, -0.13421936300715656, -0.11830504740258321, -0.10127808535368477, -0.08355939645450051, -0.06554239869174844, -0.04758506314163741, -0.030004497243790427, -0.013073952151520388, 0.0029779491154211806, 0.017966041941118966, 0.031745840459068614, 0.044209509361482956, 0.05528095770522729, 0.0649104168254659, 0.07306884206017318, 0.07974244535617742, 0.08492762656935865, 0.08862652853638416, 0.09084339726921295, 0.09158188560927924, 0.09084339726921295, 0.08862652853638416, 0.08492762656935865, 0.07974244535617742, 0.07306884206017318, 0.0649104168254659, 0.05528095770522729, 0.044209509361482956, 0.031745840459068614, 0.017966041941118966, 0.0029779491154211806, -0.013073952151520388, -0.030004497243790427, -0.04758506314163741, -0.06554239869174844, -0.08355939645450051, -0.10127808535368477, -0.11830504740258321, -0.13421936300715656, -0.14858307017251748, -0.1609539875623888, -0.17090060569317098, -0.17801860199902664, -0.18194839266053625, -0.18239300622958532, -0.17913546063850083, -0.17205475511311313, -0.16113955966514656, -0.1464987033293174, -0.1283676319466868, -0.10711012813756442, -0.08321475815193494, -0.0572857273340844, -0.03002807965783915, -0.0022274559793407315, 0.025275083284098894, 0.05161237775613617, 0.0759235678781371, 0.09738828403656238], [0.0993958462307399, 0.07773008237271903, 0.05298490441364873, 0.026026147564044762, -0.0022274559793407315, -0.030841885736018544, -0.05890402451081101, -0.08555491563889543, -0.11001880232017779, -0.1316269478872783, -0.14983554931501694, -0.1642373823959323, -0.17456713788189782, -0.1807007071005138, -0.18264893898060253, -0.18054660691367944, -0.17463748569481502, -0.16525654180237792, -0.1528102839666787, -0.1377563081818195, -0.12058300781296416, -0.10179031338845618, -0.08187218787401292, -0.061301442485772274, -0.040517266401149735, -0.019915691575644292, 0.0001569493213448689, 0.019407660252202565, 0.03759772656874239, 0.054541276561040686, 0.07010183827093616, 0.08418731130237875, 0.09674378883254962, 0.10774865812501504, 0.11720338291232232, 0.12512633286074154, 0.13154597877649798, 0.13649472168344115, 0.14000357308347133, 0.14209785531573388, 0.14279404657238684, 0.14209785531573388, 0.14000357308347133, 0.13649472168344115, 0.13154597877649798, 0.12512633286074154, 0.11720338291232232, 0.10774865812501504, 0.09674378883254962, 0.08418731130237875, 0.07010183827093616, 0.054541276561040686, 0.03759772656874239, 0.019407660252202565, 0.0001569493213448689, -0.019915691575644292, -0.040517266401149735, -0.061301442485772274, -0.08187218787401292, -0.10179031338845618, -0.12058300781296416, -0.1377563081818195, -0.1528102839666787, -0.16525654180237792, -0.17463748569481502, -0.18054660691367944, -0.18264893898060253, -0.1807007071005138, -0.17456713788189782, -0.1642373823959323, -0.14983554931501694, -0.1316269478872783, -0.11001880232017779, -0.08555491563889543, -0.05890402451081101, -0.030841885736018544, -0.0022274559793407315, 0.026026147564044762, 0.05298490441364873, 0.07773008237271903], [0.08069235790121831, 0.05570574218106777, 0.028270310898122826, -0.0006409754282528475, -0.03002807965783915, -0.05890402451081101, -0.08633239590937543, -0.1114606806231028, -0.13354819579908725, -0.15198770280837584, -0.16632015713858264, -0.17624240938958516, -0.18160802037610754, -0.18242166855756492, -0.1788278960809016, -0.17109514979541934, -0.15959621882048483, -0.14478624788034108, -0.1271795169340972, -0.10732612754693129, -0.0857896329957062, -0.0631265026963309, -0.039868134180728126, -0.016505930263581485, 0.0065202421682302655, 0.02883009042098063, 0.05010748884225075, 0.07010183827093616, 0.08862652853638416, 0.10555493165712146, 0.12081441070397907, 0.13437885433763305, 0.14626024334832619, 0.15649972810645998, 0.16515865057394133, 0.17230988766358785, 0.17802983029511174, 0.18239124981424537, 0.18545724476618586, 0.18727640924644018, 0.18787932061729182, 0.18727640924644018, 0.18545724476618586, 0.18239124981424537, 0.17802983029511174, 0.17230988766358785, 0.16515865057394133, 0.15649972810645998, 0.14626024334832619, 0.13437885433763305, 0.12081441070397907, 0.10555493165712146, 0.08862652853638416, 0.07010183827093616, 0.05010748884225075, 0.02883009042098063, 0.0065202421682302655, -0.016505930263581485, -0.039868134180728126, -0.0631265026963309, -0.0857896329957062, -0.10732612754693129, -0.1271795169340972, -0.14478624788034108, -0.15959621882048483, -0.17109514979541934, -0.1788278960809016, -0.18242166855756492, -0.18160802037610754, -0.17624240938958516, -0.16632015713858264, -0.15198770280837584, -0.13354819579908725, -0.1114606806231028, -0.08633239590937543, -0.05890402451081101, -0.03002807965783915, -0.0006409754282528475, 0.028270310898122826, 0.05570574218106777], [0.059725017515438364, 0.03197958453286062, 0.0025207381574719806, -0.027588123185645037, -0.0572857273340844, -0.08555491563889543, -0.1114606806231028, -0.13418273806183595, -0.15304146672549196, -0.16751643729146143, -0.17725715646546372, -0.18208605074549258, -0.18199408570471504, -0.17712974307464055, -0.16778234479339135, -0.1543609103022869, -0.13736985507049018, -0.11738288358628372, -0.0950164022704569, -0.07090368426500879, -0.045670869380806056, -0.019915691575644292, 0.0058103924762656495, 0.031016232090896562, 0.05528095770522729, 0.07825990831739421, 0.09968670899986165, 0.11937185506223688, 0.13719827990417027, 0.15311446345017118, 0.16712567793535366, 0.1792839709402817, 0.18967745729212915, 0.19841943861188654, 0.20563779959612533, 0.21146505144444128, 0.21602931256266372, 0.21944644111666822, 0.22181346801290225, 0.2232034254780841, 0.22366162672468853, 0.2232034254780841, 0.22181346801290225, 0.21944644111666822, 0.21602931256266372, 0.21146505144444128, 0.20563779959612533, 0.19841943861188654, 0.18967745729212915, 0.1792839709402817, 0.16712567793535366, 0.15311446345017118, 0.13719827990417027, 0.11937185506223688, 0.09968670899986165, 0.07825990831739421, 0.05528095770522729, 0.031016232090896562, 0.0058103924762656495, -0.019915691575644292, -0.045670869380806056, -0.07090368426500879, -0.0950164022704569, -0.11738288358628372, -0.13736985507049018, -0.1543609103022869, -0.16778234479339135, -0.17712974307464055, -0.18199408570471504, -0.18208605074549258, -0.17725715646546372, -0.16751643729146143, -0.15304146672549196, -0.13418273806183595, -0.1114606806231028, -0.08555491563889543, -0.0572857273340844, -0.027588123185645037, 0.0025207381574719806, 0.03197958453286062], [0.037104384846577534, 0.007233082355737275, -0.023527608249201665, -0.054043516875550875, -0.08321475815193494, -0.11001880232017779, -0.13354819579908725, -0.15304146672549196, -0.167906160972842, -0.17773339606034183, -0.18230376872794093, -0.18158488243001691, -0.17572115154133375, -0.16501687105976595, -0.1499137997580331, -0.13096468174943518, -0.10880422217787396, -0.08411903827788304, -0.05761803324395176, -0.030004497243790427, -0.001951040868825416, 0.025921773001301992, 0.05306249567952219, 0.07900122348247962, 0.10335731863015635, 0.1258425822940911, 0.14626024334832619, 0.16450028494360933, 0.18053174205108255, 0.1943926655354523, 0.2061784643801796, 0.21602931256266372, 0.22411724822563847, 0.23063350923189954, 0.23577655069724138, 0.23974108638511749, 0.242708395806646, 0.24483804991090946, 0.24626113579560338, 0.24707500803079696, 0.24733956165584545, 0.24707500803079696, 0.24626113579560338, 0.24483804991090946, 0.242708395806646, 0.23974108638511749, 0.23577655069724138, 0.23063350923189954, 0.22411724822563847, 0.21602931256266372, 0.2061784643801796, 0.1943926655354523, 0.18053174205108255, 0.16450028494360933, 0.14626024334832619, 0.1258425822940911, 0.10335731863015635, 0.07900122348247962, 0.05306249567952219, 0.025921773001301992, -0.001951040868825416, -0.030004497243790427, -0.05761803324395176, -0.08411903827788304, -0.10880422217787396, -0.13096468174943518, -0.1499137997580331, -0.16501687105976595, -0.17572115154133375, -0.18158488243001691, -0.18230376872794093, -0.17773339606034183, -0.167906160972842, -0.15304146672549196, -0.13354819579908725, -0.11001880232017779, -0.08321475815193494, -0.054043516875550875, -0.023527608249201665, 0.007233082355737275], [0.013454008098850966, -0.017859822184363938, -0.04916880920228074, -0.07929019757294747, -0.10711012813756442, -0.1316269478872783, -0.15198770280837584, -0.16751643729146143, -0.17773339606034183, -0.18236471957976835, -0.18134271385500067, -0.1747972342928682, -0.16303912773542587, -0.14653700801271363, -0.1258888846262905, -0.10179031338845618, -0.0750007897964791, -0.046310064114579955, -0.016505930263581485, 0.013655158230898757, 0.043473546354522816, 0.07232710218505171, 0.09968670899986165, 0.12512633286074154, 0.14832776112580212, 0.16908036038891633, 0.18727640924644018, 0.20290271423033404, 0.21602931256266372, 0.22679610352037188, 0.23539823538075702, 0.2420710146043941, 0.24707500803079696, 0.2506818889186662, 0.2531614457800734, 0.25477004091850136, 0.2557406839380664, 0.2562747828163765, 0.25653555744366946, 0.2566430509401283, 0.2566706526738519, 0.2566430509401283, 0.25653555744366946, 0.2562747828163765, 0.2557406839380664, 0.25477004091850136, 0.2531614457800734, 0.2506818889186662, 0.24707500803079696, 0.2420710146043941, 0.23539823538075702, 0.22679610352037188, 0.21602931256266372, 0.20290271423033404, 0.18727640924644018, 0.16908036038891633, 0.14832776112580212, 0.12512633286074154, 0.09968670899986165, 0.07232710218505171, 0.043473546354522816, 0.013655158230898757, -0.016505930263581485, -0.046310064114579955, -0.0750007897964791, -0.10179031338845618, -0.1258888846262905, -0.14653700801271363, -0.16303912773542587, -0.1747972342928682, -0.18134271385500067, -0.18236471957976835, -0.17773339606034183, -0.16751643729146143, -0.15198770280837584, -0.1316269478872783, -0.10711012813756442, -0.07929019757294747, -0.04916880920228074, -0.017859822184363938], [-0.01061150357619211, -0.042655257000177006, -0.07374973820785838, -0.10268778525178764, -0.1283676319466868, -0.14983554931501694, -0.16632015713858264, -0.17725715646546372, -0.18230376872794093, -0.18134271385500067, -0.17447608825271163, -0.16200998595397612, -0.14443111863131364, -0.12237701362727325, -0.09660159075517502, -0.06793803188546253, -0.03726086233570953, -0.005449066140771361, 0.026648129724923395, 0.058241427706856384, 0.08862652853638416, 0.11720338291232232, 0.14348926836260514, 0.16712567793535366, 0.18787932061729182, 0.20563779959612533, 0.22040074178662336, 0.23226729318028777, 0.24142096714711753, 0.24811283911536614, 0.25264402764959015, 0.255348298963932, 0.256575492104657, 0.2566762997375786, 0.2559887694405144, 0.2548267267047997, 0.25347017586536014, 0.252157618714697, 0.25108014921898075, 0.25037713957121355, 0.25013332713993036, 0.25037713957121355, 0.25108014921898075, 0.252157618714697, 0.25347017586536014, 0.2548267267047997, 0.2559887694405144, 0.2566762997375786, 0.256575492104657, 0.255348298963932, 0.25264402764959015, 0.24811283911536614, 0.24142096714711753, 0.23226729318028777, 0.22040074178662336, 0.20563779959612533, 0.18787932061729182, 0.16712567793535366, 0.14348926836260514, 0.11720338291232232, 0.08862652853638416, 0.058241427706856384, 0.026648129724923395, -0.005449066140771361, -0.03726086233570953, -0.06793803188546253, -0.09660159075517502, -0.12237701362727325, -0.14443111863131364, -0.16200998595397612, -0.17447608825271163, -0.18134271385500067, -0.18230376872794093, -0.17725715646546372, -0.16632015713858264, -0.14983554931501694, -0.1283676319466868, -0.10268778525178764, -0.07374973820785838, -0.042655257000177006], [-0.0345063152690242, -0.06655906279410359, -0.09668883252747353, -0.12368964794720452, -0.1464987033293174, -0.1642373823959323, -0.17624240938958516, -0.18208605074549258, -0.18158488243001691, -0.1747972342928682, -0.16200998595397612, -0.1437158894806465, -0.12058300781296416, -0.09341816596346665, -0.0631265026963309, -0.03066927919323432, 0.0029779491154211806, 0.03686485131708162, 0.07010183827093616, 0.1018902143955224, 0.13154597877649798, 0.15851669454452746, 0.18239124981424537, 0.20290271423033404, 0.21992483146863692, 0.23346296309158113, 0.24364050109720906, 0.2506818889186662, 0.254893432701845, 0.2566430509401283, 0.2563400102730029, 0.25441554164532254, 0.25130504004127213, 0.24743234013685533, 0.2431963471432226, 0.23896010343988033, 0.23504220166614895, 0.2317103248693539, 0.22917661128094333, 0.22759450814784551, 0.2270567942100705, 0.22759450814784551, 0.22917661128094333, 0.2317103248693539, 0.23504220166614895, 0.23896010343988033, 0.2431963471432226, 0.24743234013685533, 0.25130504004127213, 0.25441554164532254, 0.2563400102730029, 0.2566430509401283, 0.254893432701845, 0.2506818889186662, 0.24364050109720906, 0.23346296309158113, 0.21992483146863692, 0.20290271423033404, 0.18239124981424537, 0.15851669454452746, 0.13154597877649798, 0.1018902143955224, 0.07010183827093616, 0.03686485131708162, 0.0029779491154211806, -0.03066927919323432, -0.0631265026963309, -0.09341816596346665, -0.12058300781296416, -0.1437158894806465, -0.16200998595397612, -0.1747972342928682, -0.18158488243001691, -0.18208605074549258, -0.17624240938958516, -0.1642373823959323, -0.1464987033293174, -0.12368964794720452, -0.09668883252747353, -0.06655906279410359], [-0.05769048962428924, -0.08904297911487404, -0.11749065565570795, -0.14185512230149663, -0.16113955966514656, -0.17456713788189782, -0.18160802037610754, -0.18199408570471504, -0.17572115154133375, -0.16303912773542587, -0.14443111863131364, -0.12058300781296416, -0.09234546620178369, -0.060690608986011814, -0.026665677985416577, 0.008653858363151095, 0.044209509361482956, 0.07900122348247962, 0.11212338767979044, 0.14279404657238684, 0.17037647050011584, 0.1943926655354523, 0.2145288714461612, 0.23063350923189954, 0.242708395806646, 0.2508943222213973, 0.2554522819126627, 0.2567417315441088, 0.25519727019112654, 0.25130504004127213, 0.2455799958764798, 0.23854497801642713, 0.23071227369415245, 0.2225680860000738, 0.21456006847846779, 0.2070878465419809, 0.20049625055173417, 0.19507084218595108, 0.19103523332295086, 0.18854967763954522, 0.18771045677679687, 0.18854967763954522, 0.19103523332295086, 0.19507084218595108, 0.20049625055173417, 0.2070878465419809, 0.21456006847846779, 0.2225680860000738, 0.23071227369415245, 0.23854497801642713, 0.2455799958764798, 0.25130504004127213, 0.25519727019112654, 0.2567417315441088, 0.2554522819126627, 0.2508943222213973, 0.242708395806646, 0.23063350923189954, 0.2145288714461612, 0.1943926655354523, 0.17037647050011584, 0.14279404657238684, 0.11212338767979044, 0.07900122348247962, 0.044209509361482956, 0.008653858363151095, -0.026665677985416577, -0.060690608986011814, -0.09234546620178369, -0.12058300781296416, -0.14443111863131364, -0.16303912773542587, -0.17572115154133375, -0.18199408570471504, -0.18160802037610754, -0.17456713788189782, -0.16113955966514656, -0.14185512230149663, -0.11749065565570795, -0.08904297911487404], [-0.07968395387291566, -0.10965701691843574, -0.13575600794040762, -0.15685668268767797, -0.17205475511311313, -0.1807007071005138, -0.18242166855756492, -0.17712974307464055, -0.16501687105976595, -0.14653700801271363, -0.12237701362727325, -0.09341816596346665, -0.060690608986011814, -0.02532329427921568, 0.011507919583092052, 0.04863139306208121, 0.08492762656935865, 0.11937185506223688, 0.15106960365711752, 0.1792839709402817, 0.20345392533496165, 0.2232034254780841, 0.2383416766936446, 0.24885528388828942, 0.254893432701845, 0.25674750760048576, 0.2548267267047997, 0.24963143467045815, 0.24172565029557566, 0.2317103248693539, 0.22019854657881394, 0.20779364608280457, 0.19507084218595108, 0.18256273925541686, 0.17074867404778504, 0.16004763127913005, 0.15081422331281308, 0.1433370736825879, 0.13783886506830845, 0.134477311926808, 0.1333463922312941, 0.134477311926808, 0.13783886506830845, 0.1433370736825879, 0.15081422331281308, 0.16004763127913005, 0.17074867404778504, 0.18256273925541686, 0.19507084218595108, 0.20779364608280457, 0.22019854657881394, 0.2317103248693539, 0.24172565029557566, 0.24963143467045815, 0.2548267267047997, 0.25674750760048576, 0.254893432701845, 0.24885528388828942, 0.2383416766936446, 0.2232034254780841, 0.20345392533496165, 0.1792839709402817, 0.15106960365711752, 0.11937185506223688, 0.08492762656935865, 0.04863139306208121, 0.011507919583092052, -0.02532329427921568, -0.060690608986011814, -0.09341816596346665, -0.12237701362727325, -0.14653700801271363, -0.16501687105976595, -0.17712974307464055, -0.18242166855756492, -0.1807007071005138, -0.17205475511311313, -0.15685668268767797, -0.13575600794040762, -0.10965701691843574], [-0.10007704610444179, -0.12803786284735597, -0.1511875643863488, -0.16848219583369567, -0.17913546063850083, -0.18264893898060253, -0.1788278960809016, -0.16778234479339135, -0.1499137997580331, -0.1258888846262905, -0.09660159075517502, -0.0631265026963309, -0.026665677985416577, 0.011507919583092052, 0.05010748884225075, 0.0878871354792479, 0.12369173187889267, 0.15649972810645998, 0.18545724476618586, 0.20990234059772522, 0.22937894091767205, 0.24364050109720906, 0.25264402764959015, 0.25653555744366946, 0.25562857790064414, 0.25037713957121355, 0.2413455569066888, 0.22917661128094333, 0.21456006847846779, 0.1982031145119569, 0.18080401871815463, 0.1630299764243758, 0.14549969299473817, 0.12877087581897034, 0.11333242903336226, 0.09960082298540655, 0.08791985781076668, 0.07856287339249271, 0.07173638515428266, 0.06758414818694233, 0.0661907655654817, 0.06758414818694233, 0.07173638515428266, 0.07856287339249271, 0.08791985781076668, 0.09960082298540655, 0.11333242903336226, 0.12877087581897034, 0.14549969299473817, 0.1630299764243758, 0.18080401871815463, 0.1982031145119569, 0.21456006847846779, 0.22917661128094333, 0.2413455569066888, 0.25037713957121355, 0.25562857790064414, 0.25653555744366946, 0.25264402764959015, 0.24364050109720906, 0.22937894091767205, 0.20990234059772522, 0.18545724476618586, 0.15649972810645998, 0.12369173187889267, 0.0878871354792479, 0.05010748884225075, 0.011507919583092052, -0.026665677985416577, -0.0631265026963309, -0.09660159075517502, -0.1258888846262905, -0.1499137997580331, -0.16778234479339135, -0.1788278960809016, -0.18264893898060253, -0.17913546063850083, -0.16848219583369567, -0.1511875643863488, -0.12803786284735597], [-0.11853755153953284, -0.14391335124448024, -0.163591222139663, -0.17663261032673944, -0.18239300622958532, -0.18054660691367944, -0.17109514979541934, -0.1543609103022869, -0.13096468174943518, -0.10179031338845618, -0.06793803188546253, -0.03066927919323432, 0.008653858363151095, 0.04863139306208121, 0.0878871354792479, 0.12512633286074154, 0.15918658398472915, 0.1890798565922851, 0.21402402107025095, 0.23346296309158113, 0.24707500803079696, 0.25477004091850136, 0.2566762997375786, 0.25311832399967577, 0.24458792842044305, 0.2317103248693539, 0.2152076253393881, 0.19586192453391038, 0.17447999195279823, 0.15186131748507978, 0.12877087581897034, 0.10591753298818528, 0.08393854575868848, 0.06339013493636744, 0.044743679368913644, 0.02838670735216783, 0.014627580006334946, 0.0037025838949493145, -0.004215913110515241, -0.009011537058698997, -0.010617349295218181, -0.009011537058698997, -0.004215913110515241, 0.0037025838949493145, 0.014627580006334946, 0.02838670735216783, 0.044743679368913644, 0.06339013493636744, 0.08393854575868848, 0.10591753298818528, 0.12877087581897034, 0.15186131748507978, 0.17447999195279823, 0.19586192453391038, 0.2152076253393881, 0.2317103248693539, 0.24458792842044305, 0.25311832399967577, 0.2566762997375786, 0.25477004091850136, 0.24707500803079696, 0.23346296309158113, 0.21402402107025095, 0.1890798565922851, 0.15918658398472915, 0.12512633286074154, 0.0878871354792479, 0.04863139306208121, 0.008653858363151095, -0.03066927919323432, -0.06793803188546253, -0.10179031338845618, -0.13096468174943518, -0.1543609103022869, -0.17109514979541934, -0.18054660691367944, -0.18239300622958532, -0.17663261032673944, -0.163591222139663, -0.14391335124448024], [-0.13481430178982187, -0.15710321083861073, -0.17287351607260817, -0.18131560690315682, -0.18194839266053625, -0.17463748569481502, -0.15959621882048483, -0.13736985507049018, -0.10880422217787396, -0.0750007897964791, -0.03726086233570953, 0.0029779491154211806, 0.044209509361482956, 0.08492762656935865, 0.12369173187889267, 0.15918658398472915, 0.1902732638436695, 0.21602931256266372, 0.23577655069724138, 0.24909585663212155, 0.25582893038458626, 0.2560677827399544, 0.25013332713993036, 0.23854497801642713, 0.22198354690007724, 0.20124995852555586, 0.17722237538812438, 0.15081422331281308, 0.12293536517635703, 0.09445829662141196, 0.0661907655654817, 0.03885568116655977, 0.013078615468659323, -0.010617349295218181, -0.03181017613329085, -0.050171999808914604, -0.06545830501430487, -0.07749482277960204, -0.08616386191642225, -0.09139170665445415, -0.09313849939964196, -0.09139170665445415, -0.08616386191642225, -0.07749482277960204, -0.06545830501430487, -0.050171999808914604, -0.03181017613329085, -0.010617349295218181, 0.013078615468659323, 0.03885568116655977, 0.0661907655654817, 0.09445829662141196, 0.12293536517635703, 0.15081422331281308, 0.17722237538812438, 0.20124995852555586, 0.22198354690007724, 0.23854497801642713, 0.25013332713993036, 0.2560677827399544, 0.25582893038458626, 0.24909585663212155, 0.23577655069724138, 0.21602931256266372, 0.1902732638436695, 0.15918658398472915, 0.12369173187889267, 0.08492762656935865, 0.044209509361482956, 0.0029779491154211806, -0.03726086233570953, -0.0750007897964791, -0.10880422217787396, -0.13736985507049018, -0.15959621882048483, -0.17463748569481502, -0.18194839266053625, -0.18131560690315682, -0.17287351607260817, -0.15710321083861073], [-0.1487375524385824, -0.16751643729146143, -0.17903560277058095, -0.1826358700412797, -0.17801860199902664, -0.16525654180237792, -0.14478624788034108, -0.11738288358628372, -0.08411903827788304, -0.046310064114579955, -0.005449066140771361, 0.03686485131708162, 0.07900122348247962, 0.11937185506223688, 0.15649972810645998, 0.1890798565922851, 0.21602931256266372, 0.2365243422174828, 0.25002327766855664, 0.2562747828163765, 0.2553118000893658, 0.24743234013685533, 0.23316893482082693, 0.21324911772700825, 0.18854967763954522, 0.16004763127913005, 0.12877087581897034, 0.0957513146109, 0.06198291759831892, 0.02838670735216783, -0.004215913110515241, -0.03512071345143313, -0.06374895250625122, -0.08964697741323371, -0.11247819731414006, -0.132008995765264, -0.14809048863531396, -0.16063822727306362, -0.1696119802323752, -0.17499760171649797, -0.17679272260843765, -0.17499760171649797, -0.1696119802323752, -0.16063822727306362, -0.14809048863531396, -0.132008995765264, -0.11247819731414006, -0.08964697741323371, -0.06374895250625122, -0.03512071345143313, -0.004215913110515241, 0.02838670735216783, 0.06198291759831892, 0.0957513146109, 0.12877087581897034, 0.16004763127913005, 0.18854967763954522, 0.21324911772700825, 0.23316893482082693, 0.24743234013685533, 0.2553118000893658, 0.2562747828163765, 0.25002327766855664, 0.2365243422174828, 0.21602931256266372, 0.1890798565922851, 0.15649972810645998, 0.11937185506223688, 0.07900122348247962, 0.03686485131708162, -0.005449066140771361, -0.046310064114579955, -0.08411903827788304, -0.11738288358628372, -0.14478624788034108, -0.16525654180237792, -0.17801860199902664, -0.1826358700412797, -0.17903560277058095, -0.16751643729146143], [-0.16021647158282734, -0.1751457556394694, -0.1821644169794075, -0.18078273088932142, -0.17090060569317098, -0.1528102839666787, -0.1271795169340972, -0.0950164022704569, -0.05761803324395176, -0.016505930263581485, 0.026648129724923395, 0.07010183827093616, 0.11212338767979044, 0.15106960365711752, 0.18545724476618586, 0.21402402107025095, 0.23577655069724138, 0.25002327766855664, 0.25639126767027576, 0.2548267267047997, 0.2455799958764798, 0.22917661128094333, 0.2063767337439853, 0.17812580971586786, 0.14549969299473817, 0.1096476200446325, 0.07173638515428266, 0.032898814044057145, -0.005810793613848673, -0.043452159632214875, -0.0792240541655952, -0.11247819731414006, -0.1427221428215067, -0.1696119802323752, -0.1929363397545002, -0.2125937105436689, -0.22856545626592412, -0.24088710992360066, -0.24962054293732017, -0.254829433326894, -0.2565601183892334, -0.254829433326894, -0.24962054293732017, -0.24088710992360066, -0.22856545626592412, -0.2125937105436689, -0.1929363397545002, -0.1696119802323752, -0.1427221428215067, -0.11247819731414006, -0.0792240541655952, -0.043452159632214875, -0.005810793613848673, 0.032898814044057145, 0.07173638515428266, 0.1096476200446325, 0.14549969299473817, 0.17812580971586786, 0.2063767337439853, 0.22917661128094333, 0.2455799958764798, 0.2548267267047997, 0.25639126767027576, 0.25002327766855664, 0.23577655069724138, 0.21402402107025095, 0.18545724476618586, 0.15106960365711752, 0.11212338767979044, 0.07010183827093616, 0.026648129724923395, -0.016505930263581485, -0.05761803324395176, -0.0950164022704569, -0.1271795169340972, -0.1528102839666787, -0.17090060569317098, -0.18078273088932142, -0.1821644169794075, -0.1751457556394694], [-0.16923416092386775, -0.1800597155006458, -0.18242166855756492, -0.1760159755489718, -0.1609539875623888, -0.1377563081818195, -0.10732612754693129, -0.07090368426500879, -0.030004497243790427, 0.013655158230898757, 0.058241427706856384, 0.1018902143955224, 0.14279404657238684, 0.1792839709402817, 0.20990234059772522, 0.23346296309158113, 0.24909585663212155, 0.2562747828163765, 0.2548267267047997, 0.24492352037505036, 0.2270567942100705, 0.20199833430642128, 0.17074867404778504, 0.134477311926808, 0.09445829662141196, 0.05200503792795912, 0.00840808631479302, -0.03512071345143313, -0.07749482277960204, -0.1177881852505473, -0.15525760655490364, -0.18935183535374994, -0.21970771693043264, -0.24613461781837798, -0.268589046149572, -0.28714197491104243, -0.30194177876754097, -0.31317589634427284, -0.3210343185560354, -0.32567778292945404, -0.32721314035298743, -0.32567778292945404, -0.3210343185560354, -0.31317589634427284, -0.30194177876754097, -0.28714197491104243, -0.268589046149572, -0.24613461781837798, -0.21970771693043264, -0.18935183535374994, -0.15525760655490364, -0.1177881852505473, -0.07749482277960204, -0.03512071345143313, 0.00840808631479302, 0.05200503792795912, 0.09445829662141196, 0.134477311926808, 0.17074867404778504, 0.20199833430642128, 0.2270567942100705, 0.24492352037505036, 0.2548267267047997, 0.2562747828163765, 0.24909585663212155, 0.23346296309158113, 0.20990234059772522, 0.1792839709402817, 0.14279404657238684, 0.1018902143955224, 0.058241427706856384, 0.013655158230898757, -0.030004497243790427, -0.07090368426500879, -0.10732612754693129, -0.1377563081818195, -0.1609539875623888, -0.1760159755489718, -0.18242166855756492, -0.1800597155006458], [-0.17584069010379264, -0.18239300622958532, -0.1800313728705813, -0.16865061331126227, -0.14858307017251748, -0.12058300781296416, -0.0857896329957062, -0.045670869380806056, -0.001951040868825416, 0.043473546354522816, 0.08862652853638416, 0.13154597877649798, 0.17037647050011584, 0.20345392533496165, 0.22937894091767205, 0.24707500803079696, 0.25582893038458626, 0.2553118000893658, 0.2455799958764798, 0.2270567942100705, 0.20049625055173417, 0.16693195814109418, 0.12761407121954643, 0.08393854575868848, 0.037372873633869375, -0.010617349295218181, -0.05863687417657578, -0.10542055787501849, -0.14988136590815446, -0.19114437378651342, -0.22856545626592412, -0.2617343483375656, -0.29046275344788247, -0.31475910259630246, -0.33479237619194996, -0.35084804028714445, -0.3632795822101567, -0.37245933283868765, -0.3787322233669178, -0.382375848005458, -0.3835697098652554, -0.382375848005458, -0.3787322233669178, -0.37245933283868765, -0.3632795822101567, -0.35084804028714445, -0.33479237619194996, -0.31475910259630246, -0.29046275344788247, -0.2617343483375656, -0.22856545626592412, -0.19114437378651342, -0.14988136590815446, -0.10542055787501849, -0.05863687417657578, -0.010617349295218181, 0.037372873633869375, 0.08393854575868848, 0.12761407121954643, 0.16693195814109418, 0.20049625055173417, 0.2270567942100705, 0.2455799958764798, 0.2553118000893658, 0.25582893038458626, 0.24707500803079696, 0.22937894091767205, 0.20345392533496165, 0.17037647050011584, 0.13154597877649798, 0.08862652853638416, 0.043473546354522816, -0.001951040868825416, -0.045670869380806056, -0.0857896329957062, -0.12058300781296416, -0.14858307017251748, -0.16865061331126227, -0.1800313728705813, -0.18239300622958532], [-0.1801446545297837, -0.18233559039097344, -0.1752665961050691, -0.15904136091487175, -0.13421936300715656, -0.10179031338845618, -0.0631265026963309, -0.019915691575644292, 0.025921773001301992, 0.07232710218505171, 0.11720338291232232, 0.15851669454452746, 0.1943926655354523, 0.2232034254780841, 0.24364050109720906, 0.25477004091850136, 0.2560677827399544, 0.24743234013685533, 0.22917661128094333, 0.20199833430642128, 0.16693195814109418, 0.12528500092613942, 0.07856287339249271, 0.02838670735216783, -0.02359098016854476, -0.0757679524450742, -0.12666669235949252, -0.17499760171649797, -0.21970771693043264, -0.26001264723920775, -0.29541051237375787, -0.32567778292945404, -0.35084804028714445, -0.37117570680030565, -0.38708768931988075, -0.3991265770886398, -0.407889497747319, -0.41396693622794944, -0.417885750201407, -0.4200602785751461, -0.4207548585159486, -0.4200602785751461, -0.417885750201407, -0.41396693622794944, -0.407889497747319, -0.3991265770886398, -0.38708768931988075, -0.37117570680030565, -0.35084804028714445, -0.32567778292945404, -0.29541051237375787, -0.26001264723920775, -0.21970771693043264, -0.17499760171649797, -0.12666669235949252, -0.0757679524450742, -0.02359098016854476, 0.02838670735216783, 0.07856287339249271, 0.12528500092613942, 0.16693195814109418, 0.20199833430642128, 0.22917661128094333, 0.24743234013685533, 0.2560677827399544, 0.25477004091850136, 0.24364050109720906, 0.2232034254780841, 0.1943926655354523, 0.15851669454452746, 0.11720338291232232, 0.07232710218505171, 0.025921773001301992, -0.019915691575644292, -0.0631265026963309, -0.10179031338845618, -0.13421936300715656, -0.15904136091487175, -0.1752665961050691, -0.18233559039097344], [-0.18230376872794093, -0.18012123502583363, -0.16843605361995675, -0.14756752732225356, -0.11830504740258321, -0.08187218787401292, -0.039868134180728126, 0.0058103924762656495, 0.05306249567952219, 0.09968670899986165, 0.14348926836260514, 0.18239124981424537, 0.2145288714461612, 0.2383416766936446, 0.25264402764959015, 0.2566762997375786, 0.25013332713993036, 0.23316893482082693, 0.2063767337439853, 0.17074867404778504, 0.12761407121954643, 0.07856287339249271, 0.02535776443828009, -0.030159748399708135, -0.08616386191642225, -0.1409342819269669, -0.1929363397545002, -0.24088710992360066, -0.2838041182964338, -0.3210343185560354, -0.35226222727992795, -0.37749737145928347, -0.3970424421347404, -0.41144469052055266, -0.42143408131469146, -0.42785247459104203, -0.43157859884674826, -0.4334537754581445, -0.434213248547002, -0.43442757176285574, -0.43445783007337646, -0.43442757176285574, -0.434213248547002, -0.4334537754581445, -0.43157859884674826, -0.42785247459104203, -0.42143408131469146, -0.41144469052055266, -0.3970424421347404, -0.37749737145928347, -0.35226222727992795, -0.3210343185560354, -0.2838041182964338, -0.24088710992360066, -0.1929363397545002, -0.1409342819269669, -0.08616386191642225, -0.030159748399708135, 0.02535776443828009, 0.07856287339249271, 0.12761407121954643, 0.17074867404778504, 0.2063767337439853, 0.23316893482082693, 0.25013332713993036, 0.2566762997375786, 0.25264402764959015, 0.2383416766936446, 0.2145288714461612, 0.18239124981424537, 0.14348926836260514, 0.09968670899986165, 0.05306249567952219, 0.0058103924762656495, -0.039868134180728126, -0.08187218787401292, -0.11830504740258321, -0.14756752732225356, -0.16843605361995675, -0.18012123502583363], [-0.18251498442862385, -0.1760159755489718, -0.15987112992755653, -0.13461888616197776, -0.10127808535368477, -0.061301442485772274, -0.016505930263581485, 0.031016232090896562, 0.07900122348247962, 0.12512633286074154, 0.16712567793535366, 0.20290271423033404, 0.23063350923189954, 0.24885528388828942, 0.25653555744366946, 0.25311832399967577, 0.23854497801642713, 0.21324911772700825, 0.17812580971586786, 0.134477311926808, 0.08393854575868848, 0.02838670735216783, -0.030159748399708135, -0.08964697741323371, -0.14809048863531396, -0.2036729142303004, -0.254829433326894, -0.3003162506586467, -0.3392585664190622, -0.37117570680030565, -0.39598244357893553, -0.41396693622794944, -0.42574709936268906, -0.43220845214435083, -0.43442757176285574, -0.4335860886421158, -0.4308806796227811, -0.4274347075936389, -0.42421701152445723, -0.42197287899622543, -0.421171462695804, -0.42197287899622543, -0.42421701152445723, -0.4274347075936389, -0.4308806796227811, -0.4335860886421158, -0.43442757176285574, -0.43220845214435083, -0.42574709936268906, -0.41396693622794944, -0.39598244357893553, -0.37117570680030565, -0.3392585664190622, -0.3003162506586467, -0.254829433326894, -0.2036729142303004, -0.14809048863531396, -0.08964697741323371, -0.030159748399708135, 0.02838670735216783, 0.08393854575868848, 0.134477311926808, 0.17812580971586786, 0.21324911772700825, 0.23854497801642713, 0.25311832399967577, 0.25653555744366946, 0.24885528388828942, 0.23063350923189954, 0.20290271423033404, 0.16712567793535366, 0.12512633286074154, 0.07900122348247962, 0.031016232090896562, -0.016505930263581485, -0.061301442485772274, -0.10127808535368477, -0.13461888616197776, -0.15987112992755653, -0.1760159755489718], [-0.18100457917857166, -0.17030698199702413, -0.1499137997580331, -0.12058300781296416, -0.08355939645450051, -0.040517266401149735, 0.0065202421682302655, 0.05528095770522729, 0.10335731863015635, 0.14832776112580212, 0.18787932061729182, 0.21992483146863692, 0.242708395806646, 0.254893432701845, 0.25562857790064414, 0.24458792842044305, 0.22198354690007724, 0.18854967763954522, 0.14549969299473817, 0.09445829662141196, 0.037372873633869375, -0.02359098016854476, -0.08616386191642225, -0.14809048863531396, -0.20724458052139974, -0.2617343483375656, -0.309992807249447, -0.35084804028714445, -0.3835697098652554, -0.407889497747319, -0.42399466300627076, -0.43249545715781157, -0.43436863670247905, -0.4308806796227811, -0.42349546556438716, -0.4137720534188708, -0.40325873487122593, -0.39338972722403176, -0.3853906832849483, -0.3801986514917913, -0.3784012476539641, -0.3801986514917913, -0.3853906832849483, -0.39338972722403176, -0.40325873487122593, -0.4137720534188708, -0.42349546556438716, -0.4308806796227811, -0.43436863670247905, -0.43249545715781157, -0.42399466300627076, -0.407889497747319, -0.3835697098652554, -0.35084804028714445, -0.309992807249447, -0.2617343483375656, -0.20724458052139974, -0.14809048863531396, -0.08616386191642225, -0.02359098016854476, 0.037372873633869375, 0.09445829662141196, 0.14549969299473817, 0.18854967763954522, 0.22198354690007724, 0.24458792842044305, 0.25562857790064414, 0.254893432701845, 0.242708395806646, 0.21992483146863692, 0.18787932061729182, 0.14832776112580212, 0.10335731863015635, 0.05528095770522729, 0.0065202421682302655, -0.040517266401149735, -0.08355939645450051, -0.12058300781296416, -0.1499137997580331, -0.17030698199702413], [-0.17801860199902664, -0.16329221750830802, -0.13890582780165694, -0.10583439818051152, -0.06554239869174844, -0.019915691575644292, 0.02883009042098063, 0.07825990831739421, 0.1258425822940911, 0.16908036038891633, 0.20563779959612533, 0.23346296309158113, 0.2508943222213973, 0.25674750760048576, 0.25037713957121355, 0.2317103248693539, 0.20124995852555586, 0.16004763127913005, 0.1096476200446325, 0.05200503792795912, -0.010617349295218181, -0.0757679524450742, -0.1409342819269669, -0.2036729142303004, -0.2617343483375656, -0.31317589634427284, -0.3564564355250057, -0.3905078789395116, -0.4147795406040892, -0.42925310491460716, -0.43442757176285574, -0.4312752446188071, -0.421171462695804, -0.40580225753498556, -0.38705535500366767, -0.36690087535799776, -0.3472686537517362, -0.32992927901128904, -0.3163857196862348, -0.3077817863653888, -0.30483270332925, -0.3077817863653888, -0.3163857196862348, -0.32992927901128904, -0.3472686537517362, -0.36690087535799776, -0.38705535500366767, -0.40580225753498556, -0.421171462695804, -0.4312752446188071, -0.43442757176285574, -0.42925310491460716, -0.4147795406040892, -0.3905078789395116, -0.3564564355250057, -0.31317589634427284, -0.2617343483375656, -0.2036729142303004, -0.1409342819269669, -0.0757679524450742, -0.010617349295218181, 0.05200503792795912, 0.1096476200446325, 0.16004763127913005, 0.20124995852555586, 0.2317103248693539, 0.25037713957121355, 0.25674750760048576, 0.2508943222213973, 0.23346296309158113, 0.20563779959612533, 0.16908036038891633, 0.1258425822940911, 0.07825990831739421, 0.02883009042098063, -0.019915691575644292, -0.06554239869174844, -0.10583439818051152, -0.13890582780165694, -0.16329221750830802], [-0.1738139924448547, -0.15527119023634722, -0.1271795169340972, -0.0907256642328181, -0.04758506314163741, 0.0001569493213448689, 0.05010748884225075, 0.09968670899986165, 0.14626024334832619, 0.18727640924644018, 0.22040074178662336, 0.24364050109720906, 0.2554522819126627, 0.2548267267047997, 0.2413455569066888, 0.2152076253393881, 0.17722237538812438, 0.12877087581897034, 0.07173638515428266, 0.00840808631479302, -0.05863687417657578, -0.12666669235949252, -0.1929363397545002, -0.254829433326894, -0.309992807249447, -0.3564564355250057, -0.39273214882544505, -0.417885750201407, -0.43157859884674826, -0.434076417833265, -0.42622489689420734, -0.4093935036702951, -0.3853906832849483, -0.35635521764627226, -0.324629843053556, -0.2926242127644853, -0.2626748843273063, -0.23691017597600564, -0.21712746254366178, -0.20468978410715197, -0.20044755867978276, -0.20468978410715197, -0.21712746254366178, -0.23691017597600564, -0.2626748843273063, -0.2926242127644853, -0.324629843053556, -0.35635521764627226, -0.3853906832849483, -0.4093935036702951, -0.42622489689420734, -0.434076417833265, -0.43157859884674826, -0.417885750201407, -0.39273214882544505, -0.3564564355250057, -0.309992807249447, -0.254829433326894, -0.1929363397545002, -0.12666669235949252, -0.05863687417657578, 0.00840808631479302, 0.07173638515428266, 0.12877087581897034, 0.17722237538812438, 0.2152076253393881, 0.2413455569066888, 0.2548267267047997, 0.2554522819126627, 0.24364050109720906, 0.22040074178662336, 0.18727640924644018, 0.14626024334832619, 0.09968670899986165, 0.05010748884225075, 0.0001569493213448689, -0.04758506314163741, -0.0907256642328181, -0.1271795169340972, -0.15527119023634722], [-0.16865061331126227, -0.14653700801271363, -0.11505016730310495, -0.07558080422426758, -0.030004497243790427, 0.019407660252202565, 0.07010183827093616, 0.11937185506223688, 0.16450028494360933, 0.20290271423033404, 0.23226729318028777, 0.2506818889186662, 0.2567417315441088, 0.24963143467045815, 0.22917661128094333, 0.19586192453391038, 0.15081422331281308, 0.0957513146109, 0.032898814044057145, -0.03512071345143313, -0.10542055787501849, -0.17499760171649797, -0.24088710992360066, -0.3003162506586467, -0.35084804028714445, -0.3905078789395116, -0.417885750201407, -0.43220845214435083, -0.4333778373354074, -0.42197287899622543, -0.39921534828629784, -0.36690087535799776, -0.32729906443176787, -0.28302803533990717, -0.23691017597600564, -0.19181693290541052, -0.15051108239111077, -0.11549507625799743, -0.08887373699192957, -0.0722388011028484, -0.06658162124929747, -0.0722388011028484, -0.08887373699192957, -0.11549507625799743, -0.15051108239111077, -0.19181693290541052, -0.23691017597600564, -0.28302803533990717, -0.32729906443176787, -0.36690087535799776, -0.39921534828629784, -0.42197287899622543, -0.4333778373354074, -0.43220845214435083, -0.417885750201407, -0.3905078789395116, -0.35084804028714445, -0.3003162506586467, -0.24088710992360066, -0.17499760171649797, -0.10542055787501849, -0.03512071345143313, 0.032898814044057145, 0.0957513146109, 0.15081422331281308, 0.19586192453391038, 0.22917661128094333, 0.24963143467045815, 0.2567417315441088, 0.2506818889186662, 0.23226729318028777, 0.20290271423033404, 0.16450028494360933, 0.11937185506223688, 0.07010183827093616, 0.019407660252202565, -0.030004497243790427, -0.07558080422426758, -0.11505016730310495, -0.14653700801271363], [-0.16278435980926842, -0.13736985507049018, -0.10281030706494565, -0.060690608986011814, -0.013073952151520388, 0.03759772656874239, 0.08862652853638416, 0.13719827990417027, 0.18053174205108255, 0.21602931256266372, 0.24142096714711753, 0.254893432701845, 0.25519727019112654, 0.24172565029557566, 0.21456006847846779, 0.17447999195279823, 0.12293536517635703, 0.06198291759831892, -0.005810793613848673, -0.07749482277960204, -0.14988136590815446, -0.21970771693043264, -0.2838041182964338, -0.3392585664190622, -0.3835697098652554, -0.4147795406040892, -0.43157859884674826, -0.4333778373354074, -0.4203430458705095, -0.39338972722403176, -0.3541384336243295, -0.30483270332925, -0.24822376277499153, -0.187427969950852, -0.1257644689695074, -0.06658162124929747, -0.0130814139378774, 0.03184881503912622, 0.0657883626364726, 0.08691073780520595, 0.0940800053732448, 0.08691073780520595, 0.0657883626364726, 0.03184881503912622, -0.0130814139378774, -0.06658162124929747, -0.1257644689695074, -0.187427969950852, -0.24822376277499153, -0.30483270332925, -0.3541384336243295, -0.39338972722403176, -0.4203430458705095, -0.4333778373354074, -0.43157859884674826, -0.4147795406040892, -0.3835697098652554, -0.3392585664190622, -0.2838041182964338, -0.21970771693043264, -0.14988136590815446, -0.07749482277960204, -0.005810793613848673, 0.06198291759831892, 0.12293536517635703, 0.17447999195279823, 0.21456006847846779, 0.24172565029557566, 0.25519727019112654, 0.254893432701845, 0.24142096714711753, 0.21602931256266372, 0.18053174205108255, 0.13719827990417027, 0.08862652853638416, 0.03759772656874239, -0.013073952151520388, -0.060690608986011814, -0.10281030706494565, -0.13736985507049018], [-0.15646143337355978, -0.12803192632998142, -0.0907256642328181, -0.046310064114579955, 0.0029779491154211806, 0.054541276561040686, 0.10555493165712146, 0.15311446345017118, 0.1943926655354523, 0.22679610352037188, 0.24811283911536614, 0.2566430509401283, 0.25130504004127213, 0.2317103248693539, 0.1982031145119569, 0.15186131748507978, 0.09445829662141196, 0.02838670735216783, -0.043452159632214875, -0.1177881852505473, -0.19114437378651342, -0.26001264723920775, -0.3210343185560354, -0.37117570680030565, -0.407889497747319, -0.42925310491460716, -0.434076417833265, -0.42197287899622543, -0.39338972722403176, -0.3495953826561967, -0.2926242127644853, -0.22518118755916025, -0.15051108239111077, -0.0722388011028484, 0.005811034304373925, 0.07980593576993696, 0.14609889758077332, 0.20141317105264114, 0.24300880867803662, 0.2688222513075441, 0.277571630583514, 0.2688222513075441, 0.24300880867803662, 0.20141317105264114, 0.14609889758077332, 0.07980593576993696, 0.005811034304373925, -0.0722388011028484, -0.15051108239111077, -0.22518118755916025, -0.2926242127644853, -0.3495953826561967, -0.39338972722403176, -0.42197287899622543, -0.434076417833265, -0.42925310491460716, -0.407889497747319, -0.37117570680030565, -0.3210343185560354, -0.26001264723920775, -0.19114437378651342, -0.1177881852505473, -0.043452159632214875, 0.02838670735216783, 0.09445829662141196, 0.15186131748507978, 0.1982031145119569, 0.2317103248693539, 0.25130504004127213, 0.2566430509401283, 0.24811283911536614, 0.22679610352037188, 0.1943926655354523, 0.15311446345017118, 0.10555493165712146, 0.054541276561040686, 0.0029779491154211806, -0.046310064114579955, -0.0907256642328181, -0.12803192632998142], [-0.1499137997580331, -0.11876378051842666, -0.07903277128303789, -0.032657564269347995, 0.017966041941118966, 0.07010183827093616, 0.12081441070397907, 0.16712567793535366, 0.2061784643801796, 0.23539823538075702, 0.25264402764959015, 0.2563400102730029, 0.2455799958764798, 0.22019854657881394, 0.18080401871815463, 0.12877087581897034, 0.0661907655654817, -0.004215913110515241, -0.0792240541655952, -0.15525760655490364, -0.22856545626592412, -0.29541051237375787, -0.35226222727992795, -0.39598244357893553, -0.42399466300627076, -0.43442757176285574, -0.42622489689420734, -0.39921534828629784, -0.3541384336243295, -0.2926242127644853, -0.21712746254366178, -0.13081912452072303, -0.03744017720227128, 0.05887491198907235, 0.1537963512162099, 0.24300880867803662, 0.32242214992953067, 0.38837235101706136, 0.43780226922078175, 0.4684129583840573, 0.47877771528316515, 0.4684129583840573, 0.43780226922078175, 0.38837235101706136, 0.32242214992953067, 0.24300880867803662, 0.1537963512162099, 0.05887491198907235, -0.03744017720227128, -0.13081912452072303, -0.21712746254366178, -0.2926242127644853, -0.3541384336243295, -0.39921534828629784, -0.42622489689420734, -0.43442757176285574, -0.42399466300627076, -0.39598244357893553, -0.35226222727992795, -0.29541051237375787, -0.22856545626592412, -0.15525760655490364, -0.0792240541655952, -0.004215913110515241, 0.0661907655654817, 0.12877087581897034, 0.18080401871815463, 0.22019854657881394, 0.2455799958764798, 0.2563400102730029, 0.25264402764959015, 0.23539823538075702, 0.2061784643801796, 0.16712567793535366, 0.12081441070397907, 0.07010183827093616, 0.017966041941118966, -0.032657564269347995, -0.07903277128303789, -0.11876378051842666], [-0.14335579129849668, -0.10978201113265723, -0.06793803188546253, -0.019915691575644292, 0.031745840459068614, 0.08418731130237875, 0.13437885433763305, 0.1792839709402817, 0.21602931256266372, 0.2420710146043941, 0.255348298963932, 0.25441554164532254, 0.23854497801642713, 0.20779364608280457, 0.1630299764243758, 0.10591753298818528, 0.03885568116655977, -0.03512071345143313, -0.11247819731414006, -0.18935183535374994, -0.2617343483375656, -0.32567778292945404, -0.37749737145928347, -0.41396693622794944, -0.43249545715781157, -0.4312752446188071, -0.4093935036702951, -0.36690087535799776, -0.30483270332925, -0.22518118755916025, -0.13081912452072303, -0.025378460035175753, 0.08691073780520595, 0.20141317105264114, 0.3133036361206578, 0.4177941096414197, 0.5103612401471838, 0.5869627944413911, 0.6442321103834694, 0.6796406846183429, 0.69162061945593, 0.6796406846183429, 0.6442321103834694, 0.5869627944413911, 0.5103612401471838, 0.4177941096414197, 0.3133036361206578, 0.20141317105264114, 0.08691073780520595, -0.025378460035175753, -0.13081912452072303, -0.22518118755916025, -0.30483270332925, -0.36690087535799776, -0.4093935036702951, -0.4312752446188071, -0.43249545715781157, -0.41396693622794944, -0.37749737145928347, -0.32567778292945404, -0.2617343483375656, -0.18935183535374994, -0.11247819731414006, -0.03512071345143313, 0.03885568116655977, 0.10591753298818528, 0.1630299764243758, 0.20779364608280457, 0.23854497801642713, 0.25441554164532254, 0.255348298963932, 0.2420710146043941, 0.21602931256266372, 0.1792839709402817, 0.13437885433763305, 0.08418731130237875, 0.031745840459068614, -0.019915691575644292, -0.06793803188546253, -0.10978201113265723], [-0.13698176393514344, -0.10127808535368477, -0.05761803324395176, -0.00823327044894154, 0.044209509361482956, 0.09674378883254962, 0.14626024334832619, 0.18967745729212915, 0.22411724822563847, 0.24707500803079696, 0.256575492104657, 0.25130504004127213, 0.23071227369415245, 0.19507084218595108, 0.14549969299473817, 0.08393854575868848, 0.013078615468659323, -0.06374895250625122, -0.1427221428215067, -0.21970771693043264, -0.29046275344788247, -0.35084804028714445, -0.3970424421347404, -0.42574709936268906, -0.43436863670247905, -0.421171462695804, -0.3853906832849483, -0.32729906443176787, -0.24822376277499153, -0.15051108239111077, -0.03744017720227128, 0.08691073780520595, 0.21783961811686398, 0.35022902170777614, 0.47877771528316515, 0.5982441516081277, 0.7036898157513979, 0.7907103570985019, 0.8556429685382863, 0.8957396184216221, 0.9092974268256817, 0.8957396184216221, 0.8556429685382863, 0.7907103570985019, 0.7036898157513979, 0.5982441516081277, 0.47877771528316515, 0.35022902170777614, 0.21783961811686398, 0.08691073780520595, -0.03744017720227128, -0.15051108239111077, -0.24822376277499153, -0.32729906443176787, -0.3853906832849483, -0.421171462695804, -0.43436863670247905, -0.42574709936268906, -0.3970424421347404, -0.35084804028714445, -0.29046275344788247, -0.21970771693043264, -0.1427221428215067, -0.06374895250625122, 0.013078615468659323, 0.08393854575868848, 0.14549969299473817, 0.19507084218595108, 0.23071227369415245, 0.25130504004127213, 0.256575492104657, 0.24707500803079696, 0.22411724822563847, 0.18967745729212915, 0.14626024334832619, 0.09674378883254962, 0.044209509361482956, -0.00823327044894154, -0.05761803324395176, -0.10127808535368477], [-0.13096468174943518, -0.09341816596346665, -0.04822085787410071, 0.0022716100207446164, 0.05528095770522729, 0.10774865812501504, 0.15649972810645998, 0.19841943861188654, 0.23063350923189954, 0.2506818889186662, 0.2566762997375786, 0.24743234013685533, 0.2225680860000738, 0.18256273925541686, 0.12877087581897034, 0.06339013493636744, -0.010617349295218181, -0.08964697741323371, -0.1696119802323752, -0.24613461781837798, -0.31475910259630246, -0.37117570680030565, -0.41144469052055266, -0.43220845214435083, -0.4308806796227811, -0.40580225753498556, -0.35635521764627226, -0.28302803533990717, -0.187427969950852, -0.0722388011028484, 0.05887491198907235, 0.20141317105264114, 0.35022902170777614, 0.49975144871271493, 0.6442321103834694, 0.7780040258931075, 0.8957396184216221, 0.992695449836068, 1.0649315658049785, 1.1094945766040856, 1.124555367855928, 1.1094945766040856, 1.0649315658049785, 0.992695449836068, 0.8957396184216221, 0.7780040258931075, 0.6442321103834694, 0.49975144871271493, 0.35022902170777614, 0.20141317105264114, 0.05887491198907235, -0.0722388011028484, -0.187427969950852, -0.28302803533990717, -0.35635521764627226, -0.40580225753498556, -0.4308806796227811, -0.43220845214435083, -0.41144469052055266, -0.37117570680030565, -0.31475910259630246, -0.24613461781837798, -0.1696119802323752, -0.08964697741323371, -0.010617349295218181, 0.06339013493636744, 0.12877087581897034, 0.18256273925541686, 0.2225680860000738, 0.24743234013685533, 0.2566762997375786, 0.2506818889186662, 0.23063350923189954, 0.19841943861188654, 0.15649972810645998, 0.10774865812501504, 0.05528095770522729, 0.0022716100207446164, -0.04822085787410071, -0.09341816596346665], [-0.1254554756233313, -0.08634370978474622, -0.039868134180728126, 0.011507919583092052, 0.0649104168254659, 0.11720338291232232, 0.16515865057394133, 0.20563779959612533, 0.23577655069724138, 0.2531614457800734, 0.2559887694405144, 0.2431963471432226, 0.21456006847846779, 0.17074867404778504, 0.11333242903336226, 0.044743679368913644, -0.03181017613329085, -0.11247819731414006, -0.1929363397545002, -0.268589046149572, -0.33479237619194996, -0.38708768931988075, -0.42143408131469146, -0.43442757176285574, -0.42349546556438716, -0.38705535500366767, -0.324629843053556, -0.23691017597600564, -0.1257644689695074, 0.005811034304373925, 0.1537963512162099, 0.3133036361206578, 0.47877771528316515, 0.6442321103834694, 0.803509484779075, 0.9505541014891831, 1.0796831610910465, 1.1858438330909473, 1.2648434125627805, 1.3135412961886945, 1.3299933154720727, 1.3135412961886945, 1.2648434125627805, 1.1858438330909473, 1.0796831610910465, 0.9505541014891831, 0.803509484779075, 0.6442321103834694, 0.47877771528316515, 0.3133036361206578, 0.1537963512162099, 0.005811034304373925, -0.1257644689695074, -0.23691017597600564, -0.324629843053556, -0.38705535500366767, -0.42349546556438716, -0.43442757176285574, -0.42143408131469146, -0.38708768931988075, -0.33479237619194996, -0.268589046149572, -0.1929363397545002, -0.11247819731414006, -0.03181017613329085, 0.044743679368913644, 0.11333242903336226, 0.17074867404778504, 0.21456006847846779, 0.2431963471432226, 0.2559887694405144, 0.2531614457800734, 0.23577655069724138, 0.20563779959612533, 0.16515865057394133, 0.11720338291232232, 0.0649104168254659, 0.011507919583092052, -0.039868134180728126, -0.08634370978474622], [-0.12058300781296416, -0.08017262722723162, -0.032657564269347995, 0.019407660252202565, 0.07306884206017318, 0.12512633286074154, 0.17230988766358785, 0.21146505144444128, 0.23974108638511749, 0.25477004091850136, 0.2548267267047997, 0.23896010343988033, 0.2070878465419809, 0.16004763127913005, 0.09960082298540655, 0.02838670735216783, -0.050171999808914604, -0.132008995765264, -0.2125937105436689, -0.28714197491104243, -0.35084804028714445, -0.3991265770886398, -0.42785247459104203, -0.4335860886421158, -0.4137720534188708, -0.36690087535799776, -0.2926242127644853, -0.19181693290541052, -0.06658162124929747, 0.07980593576993696, 0.24300880867803662, 0.4177941096414197, 0.5982441516081277, 0.7780040258931075, 0.9505541014891831, 1.1094945766040856, 1.2488284837498442, 1.3632295064019535, 1.4482816142111579, 1.500678835049543, 1.518375390968938, 1.500678835049543, 1.4482816142111579, 1.3632295064019535, 1.2488284837498442, 1.1094945766040856, 0.9505541014891831, 0.7780040258931075, 0.5982441516081277, 0.4177941096414197, 0.24300880867803662, 0.07980593576993696, -0.06658162124929747, -0.19181693290541052, -0.2926242127644853, -0.36690087535799776, -0.4137720534188708, -0.4335860886421158, -0.42785247459104203, -0.3991265770886398, -0.35084804028714445, -0.28714197491104243, -0.2125937105436689, -0.132008995765264, -0.050171999808914604, 0.02838670735216783, 0.09960082298540655, 0.16004763127913005, 0.2070878465419809, 0.23896010343988033, 0.2548267267047997, 0.25477004091850136, 0.23974108638511749, 0.21146505144444128, 0.17230988766358785, 0.12512633286074154, 0.07306884206017318, 0.019407660252202565, -0.032657564269347995, -0.08017262722723162], [-0.1164544699167505, -0.0750007897964791, -0.026665677985416577, 0.025921773001301992, 0.07974244535617742, 0.13154597877649798, 0.17802983029511174, 0.21602931256266372, 0.242708395806646, 0.2557406839380664, 0.25347017586536014, 0.23504220166614895, 0.20049625055173417, 0.15081422331281308, 0.08791985781076668, 0.014627580006334946, -0.06545830501430487, -0.14809048863531396, -0.22856545626592412, -0.30194177876754097, -0.3632795822101567, -0.407889497747319, -0.43157859884674826, -0.4308806796227811, -0.40325873487122593, -0.3472686537517362, -0.2626748843273063, -0.15051108239111077, -0.0130814139378774, 0.14609889758077332, 0.32242214992953067, 0.5103612401471838, 0.7036898157513979, 0.8957396184216221, 1.0796831610910465, 1.2488284837498442, 1.3969119972732167, 1.518375390968938, 1.608613254431116, 1.6641794167481594, 1.682941969615793, 1.6641794167481594, 1.608613254431116, 1.518375390968938, 1.3969119972732167, 1.2488284837498442, 1.0796831610910465, 0.8957396184216221, 0.7036898157513979, 0.5103612401471838, 0.32242214992953067, 0.14609889758077332, -0.0130814139378774, -0.15051108239111077, -0.2626748843273063, -0.3472686537517362, -0.40325873487122593, -0.4308806796227811, -0.43157859884674826, -0.407889497747319, -0.3632795822101567, -0.30194177876754097, -0.22856545626592412, -0.14809048863531396, -0.06545830501430487, 0.014627580006334946, 0.08791985781076668, 0.15081422331281308, 0.20049625055173417, 0.23504220166614895, 0.25347017586536014, 0.2557406839380664, 0.242708395806646, 0.21602931256266372, 0.17802983029511174, 0.13154597877649798, 0.07974244535617742, 0.025921773001301992, -0.026665677985416577, -0.0750007897964791], [-0.1131560467581887, -0.07090368426500879, -0.021950582012676394, 0.031016232090896562, 0.08492762656935865, 0.13649472168344115, 0.18239124981424537, 0.21944644111666822, 0.24483804991090946, 0.2562747828163765, 0.252157618714697, 0.2317103248693539, 0.19507084218595108, 0.1433370736825879, 0.07856287339249271, 0.0037025838949493145, -0.07749482277960204, -0.16063822727306362, -0.24088710992360066, -0.31317589634427284, -0.37245933283868765, -0.41396693622794944, -0.4334537754581445, -0.4274347075936389, -0.39338972722403176, -0.32992927901128904, -0.23691017597600564, -0.11549507625799743, 0.03184881503912622, 0.20141317105264114, 0.38837235101706136, 0.5869627944413911, 0.7907103570985019, 0.992695449836068, 1.1858438330909473, 1.3632295064019535, 1.518375390968938, 1.6455374774968983, 1.7399588071171015, 1.7980810383563555, 1.8177033600622243, 1.7980810383563555, 1.7399588071171015, 1.6455374774968983, 1.518375390968938, 1.3632295064019535, 1.1858438330909473, 0.992695449836068, 0.7907103570985019, 0.5869627944413911, 0.38837235101706136, 0.20141317105264114, 0.03184881503912622, -0.11549507625799743, -0.23691017597600564, -0.32992927901128904, -0.39338972722403176, -0.4274347075936389, -0.4334537754581445, -0.41396693622794944, -0.37245933283868765, -0.31317589634427284, -0.24088710992360066, -0.16063822727306362, -0.07749482277960204, 0.0037025838949493145, 0.07856287339249271, 0.1433370736825879, 0.19507084218595108, 0.2317103248693539, 0.252157618714697, 0.2562747828163765, 0.24483804991090946, 0.21944644111666822, 0.18239124981424537, 0.13649472168344115, 0.08492762656935865, 0.031016232090896562, -0.021950582012676394, -0.07090368426500879], [-0.1107536917561867, -0.06793803188546253, -0.01855449981019833, 0.03466854669458865, 0.08862652853638416, 0.14000357308347133, 0.18545724476618586, 0.22181346801290225, 0.24626113579560338, 0.25653555744366946, 0.25108014921898075, 0.22917661128094333, 0.19103523332295086, 0.13783886506830845, 0.07173638515428266, -0.004215913110515241, -0.08616386191642225, -0.1696119802323752, -0.24962054293732017, -0.3210343185560354, -0.3787322233669178, -0.417885750201407, -0.434213248547002, -0.42421701152445723, -0.3853906832849483, -0.3163857196862348, -0.21712746254366178, -0.08887373699192957, 0.0657883626364726, 0.24300880867803662, 0.43780226922078175, 0.6442321103834694, 0.8556429685382863, 1.0649315658049785, 1.2648434125627805, 1.4482816142111579, 1.608613254431116, 1.7399588071171015, 1.8374507397311368, 1.8974488797623419, 1.917702154416812, 1.8974488797623419, 1.8374507397311368, 1.7399588071171015, 1.608613254431116, 1.4482816142111579, 1.2648434125627805, 1.0649315658049785, 0.8556429685382863, 0.6442321103834694, 0.43780226922078175, 0.24300880867803662, 0.0657883626364726, -0.08887373699192957, -0.21712746254366178, -0.3163857196862348, -0.3853906832849483, -0.42421701152445723, -0.434213248547002, -0.417885750201407, -0.3787322233669178, -0.3210343185560354, -0.24962054293732017, -0.1696119802323752, -0.08616386191642225, -0.004215913110515241, 0.07173638515428266, 0.13783886506830845, 0.19103523332295086, 0.22917661128094333, 0.25108014921898075, 0.25653555744366946, 0.24626113579560338, 0.22181346801290225, 0.18545724476618586, 0.14000357308347133, 0.08862652853638416, 0.03466854669458865, -0.01855449981019833, -0.06793803188546253], [-0.10929387900894774, -0.06614321685638791, -0.016505930263581485, 0.03686485131708162, 0.09084339726921295, 0.14209785531573388, 0.18727640924644018, 0.2232034254780841, 0.24707500803079696, 0.2566430509401283, 0.25037713957121355, 0.22759450814784551, 0.18854967763954522, 0.134477311926808, 0.06758414818694233, -0.009011537058698997, -0.09139170665445415, -0.17499760171649797, -0.254829433326894, -0.32567778292945404, -0.382375848005458, -0.4200602785751461, -0.43442757176285574, -0.42197287899622543, -0.3801986514917913, -0.3077817863653888, -0.20468978410715197, -0.0722388011028484, 0.08691073780520595, 0.2688222513075441, 0.4684129583840573, 0.6796406846183429, 0.8957396184216221, 1.1094945766040856, 1.3135412961886945, 1.500678835049543, 1.6641794167481594, 1.7980810383563555, 1.8974488797623419, 1.9585929762944412, 1.9792316740361835, 1.9585929762944412, 1.8974488797623419, 1.7980810383563555, 1.6641794167481594, 1.500678835049543, 1.3135412961886945, 1.1094945766040856, 0.8957396184216221, 0.6796406846183429, 0.4684129583840573, 0.2688222513075441, 0.08691073780520595, -0.0722388011028484, -0.20468978410715197, -0.3077817863653888, -0.3801986514917913, -0.42197287899622543, -0.43442757176285574, -0.4200602785751461, -0.382375848005458, -0.32567778292945404, -0.254829433326894, -0.17499760171649797, -0.09139170665445415, -0.009011537058698997, 0.06758414818694233, 0.134477311926808, 0.18854967763954522, 0.22759450814784551, 0.25037713957121355, 0.2566430509401283, 0.24707500803079696, 0.2232034254780841, 0.18727640924644018, 0.14209785531573388, 0.09084339726921295, 0.03686485131708162, -0.016505930263581485, -0.06614321685638791], [-0.10880422217787396, -0.06554239869174844, -0.015821288518275644, 0.03759772656874239, 0.09158188560927924, 0.14279404657238684, 0.18787932061729182, 0.22366162672468853, 0.24733956165584545, 0.2566706526738519, 0.25013332713993036, 0.2270567942100705, 0.18771045677679687, 0.1333463922312941, 0.0661907655654817, -0.010617349295218181, -0.09313849939964196, -0.17679272260843765, -0.2565601183892334, -0.32721314035298743, -0.3835697098652554, -0.4207548585159486, -0.43445783007337646, -0.421171462695804, -0.3784012476539641, -0.30483270332925, -0.20044755867978276, -0.06658162124929747, 0.0940800053732448, 0.277571630583514, 0.47877771528316515, 0.69162061945593, 0.9092974268256817, 1.124555367855928, 1.3299933154720727, 1.518375390968938, 1.682941969615793, 1.8177033600622243, 1.917702154416812, 1.9792316740361835, null, 1.9792316740361835, 1.917702154416812, 1.8177033600622243, 1.682941969615793, 1.518375390968938, 1.3299933154720727, 1.124555367855928, 0.9092974268256817, 0.69162061945593, 0.47877771528316515, 0.277571630583514, 0.0940800053732448, -0.06658162124929747, -0.20044755867978276, -0.30483270332925, -0.3784012476539641, -0.421171462695804, -0.43445783007337646, -0.4207548585159486, -0.3835697098652554, -0.32721314035298743, -0.2565601183892334, -0.17679272260843765, -0.09313849939964196, -0.010617349295218181, 0.0661907655654817, 0.1333463922312941, 0.18771045677679687, 0.2270567942100705, 0.25013332713993036, 0.2566706526738519, 0.24733956165584545, 0.22366162672468853, 0.18787932061729182, 0.14279404657238684, 0.09158188560927924, 0.03759772656874239, -0.015821288518275644, -0.06554239869174844], [-0.10929387900894774, -0.06614321685638791, -0.016505930263581485, 0.03686485131708162, 0.09084339726921295, 0.14209785531573388, 0.18727640924644018, 0.2232034254780841, 0.24707500803079696, 0.2566430509401283, 0.25037713957121355, 0.22759450814784551, 0.18854967763954522, 0.134477311926808, 0.06758414818694233, -0.009011537058698997, -0.09139170665445415, -0.17499760171649797, -0.254829433326894, -0.32567778292945404, -0.382375848005458, -0.4200602785751461, -0.43442757176285574, -0.42197287899622543, -0.3801986514917913, -0.3077817863653888, -0.20468978410715197, -0.0722388011028484, 0.08691073780520595, 0.2688222513075441, 0.4684129583840573, 0.6796406846183429, 0.8957396184216221, 1.1094945766040856, 1.3135412961886945, 1.500678835049543, 1.6641794167481594, 1.7980810383563555, 1.8974488797623419, 1.9585929762944412, 1.9792316740361835, 1.9585929762944412, 1.8974488797623419, 1.7980810383563555, 1.6641794167481594, 1.500678835049543, 1.3135412961886945, 1.1094945766040856, 0.8957396184216221, 0.6796406846183429, 0.4684129583840573, 0.2688222513075441, 0.08691073780520595, -0.0722388011028484, -0.20468978410715197, -0.3077817863653888, -0.3801986514917913, -0.42197287899622543, -0.43442757176285574, -0.4200602785751461, -0.382375848005458, -0.32567778292945404, -0.254829433326894, -0.17499760171649797, -0.09139170665445415, -0.009011537058698997, 0.06758414818694233, 0.134477311926808, 0.18854967763954522, 0.22759450814784551, 0.25037713957121355, 0.2566430509401283, 0.24707500803079696, 0.2232034254780841, 0.18727640924644018, 0.14209785531573388, 0.09084339726921295, 0.03686485131708162, -0.016505930263581485, -0.06614321685638791], [-0.1107536917561867, -0.06793803188546253, -0.01855449981019833, 0.03466854669458865, 0.08862652853638416, 0.14000357308347133, 0.18545724476618586, 0.22181346801290225, 0.24626113579560338, 0.25653555744366946, 0.25108014921898075, 0.22917661128094333, 0.19103523332295086, 0.13783886506830845, 0.07173638515428266, -0.004215913110515241, -0.08616386191642225, -0.1696119802323752, -0.24962054293732017, -0.3210343185560354, -0.3787322233669178, -0.417885750201407, -0.434213248547002, -0.42421701152445723, -0.3853906832849483, -0.3163857196862348, -0.21712746254366178, -0.08887373699192957, 0.0657883626364726, 0.24300880867803662, 0.43780226922078175, 0.6442321103834694, 0.8556429685382863, 1.0649315658049785, 1.2648434125627805, 1.4482816142111579, 1.608613254431116, 1.7399588071171015, 1.8374507397311368, 1.8974488797623419, 1.917702154416812, 1.8974488797623419, 1.8374507397311368, 1.7399588071171015, 1.608613254431116, 1.4482816142111579, 1.2648434125627805, 1.0649315658049785, 0.8556429685382863, 0.6442321103834694, 0.43780226922078175, 0.24300880867803662, 0.0657883626364726, -0.08887373699192957, -0.21712746254366178, -0.3163857196862348, -0.3853906832849483, -0.42421701152445723, -0.434213248547002, -0.417885750201407, -0.3787322233669178, -0.3210343185560354, -0.24962054293732017, -0.1696119802323752, -0.08616386191642225, -0.004215913110515241, 0.07173638515428266, 0.13783886506830845, 0.19103523332295086, 0.22917661128094333, 0.25108014921898075, 0.25653555744366946, 0.24626113579560338, 0.22181346801290225, 0.18545724476618586, 0.14000357308347133, 0.08862652853638416, 0.03466854669458865, -0.01855449981019833, -0.06793803188546253], [-0.1131560467581887, -0.07090368426500879, -0.021950582012676394, 0.031016232090896562, 0.08492762656935865, 0.13649472168344115, 0.18239124981424537, 0.21944644111666822, 0.24483804991090946, 0.2562747828163765, 0.252157618714697, 0.2317103248693539, 0.19507084218595108, 0.1433370736825879, 0.07856287339249271, 0.0037025838949493145, -0.07749482277960204, -0.16063822727306362, -0.24088710992360066, -0.31317589634427284, -0.37245933283868765, -0.41396693622794944, -0.4334537754581445, -0.4274347075936389, -0.39338972722403176, -0.32992927901128904, -0.23691017597600564, -0.11549507625799743, 0.03184881503912622, 0.20141317105264114, 0.38837235101706136, 0.5869627944413911, 0.7907103570985019, 0.992695449836068, 1.1858438330909473, 1.3632295064019535, 1.518375390968938, 1.6455374774968983, 1.7399588071171015, 1.7980810383563555, 1.8177033600622243, 1.7980810383563555, 1.7399588071171015, 1.6455374774968983, 1.518375390968938, 1.3632295064019535, 1.1858438330909473, 0.992695449836068, 0.7907103570985019, 0.5869627944413911, 0.38837235101706136, 0.20141317105264114, 0.03184881503912622, -0.11549507625799743, -0.23691017597600564, -0.32992927901128904, -0.39338972722403176, -0.4274347075936389, -0.4334537754581445, -0.41396693622794944, -0.37245933283868765, -0.31317589634427284, -0.24088710992360066, -0.16063822727306362, -0.07749482277960204, 0.0037025838949493145, 0.07856287339249271, 0.1433370736825879, 0.19507084218595108, 0.2317103248693539, 0.252157618714697, 0.2562747828163765, 0.24483804991090946, 0.21944644111666822, 0.18239124981424537, 0.13649472168344115, 0.08492762656935865, 0.031016232090896562, -0.021950582012676394, -0.07090368426500879], [-0.1164544699167505, -0.0750007897964791, -0.026665677985416577, 0.025921773001301992, 0.07974244535617742, 0.13154597877649798, 0.17802983029511174, 0.21602931256266372, 0.242708395806646, 0.2557406839380664, 0.25347017586536014, 0.23504220166614895, 0.20049625055173417, 0.15081422331281308, 0.08791985781076668, 0.014627580006334946, -0.06545830501430487, -0.14809048863531396, -0.22856545626592412, -0.30194177876754097, -0.3632795822101567, -0.407889497747319, -0.43157859884674826, -0.4308806796227811, -0.40325873487122593, -0.3472686537517362, -0.2626748843273063, -0.15051108239111077, -0.0130814139378774, 0.14609889758077332, 0.32242214992953067, 0.5103612401471838, 0.7036898157513979, 0.8957396184216221, 1.0796831610910465, 1.2488284837498442, 1.3969119972732167, 1.518375390968938, 1.608613254431116, 1.6641794167481594, 1.682941969615793, 1.6641794167481594, 1.608613254431116, 1.518375390968938, 1.3969119972732167, 1.2488284837498442, 1.0796831610910465, 0.8957396184216221, 0.7036898157513979, 0.5103612401471838, 0.32242214992953067, 0.14609889758077332, -0.0130814139378774, -0.15051108239111077, -0.2626748843273063, -0.3472686537517362, -0.40325873487122593, -0.4308806796227811, -0.43157859884674826, -0.407889497747319, -0.3632795822101567, -0.30194177876754097, -0.22856545626592412, -0.14809048863531396, -0.06545830501430487, 0.014627580006334946, 0.08791985781076668, 0.15081422331281308, 0.20049625055173417, 0.23504220166614895, 0.25347017586536014, 0.2557406839380664, 0.242708395806646, 0.21602931256266372, 0.17802983029511174, 0.13154597877649798, 0.07974244535617742, 0.025921773001301992, -0.026665677985416577, -0.0750007897964791], [-0.12058300781296416, -0.08017262722723162, -0.032657564269347995, 0.019407660252202565, 0.07306884206017318, 0.12512633286074154, 0.17230988766358785, 0.21146505144444128, 0.23974108638511749, 0.25477004091850136, 0.2548267267047997, 0.23896010343988033, 0.2070878465419809, 0.16004763127913005, 0.09960082298540655, 0.02838670735216783, -0.050171999808914604, -0.132008995765264, -0.2125937105436689, -0.28714197491104243, -0.35084804028714445, -0.3991265770886398, -0.42785247459104203, -0.4335860886421158, -0.4137720534188708, -0.36690087535799776, -0.2926242127644853, -0.19181693290541052, -0.06658162124929747, 0.07980593576993696, 0.24300880867803662, 0.4177941096414197, 0.5982441516081277, 0.7780040258931075, 0.9505541014891831, 1.1094945766040856, 1.2488284837498442, 1.3632295064019535, 1.4482816142111579, 1.500678835049543, 1.518375390968938, 1.500678835049543, 1.4482816142111579, 1.3632295064019535, 1.2488284837498442, 1.1094945766040856, 0.9505541014891831, 0.7780040258931075, 0.5982441516081277, 0.4177941096414197, 0.24300880867803662, 0.07980593576993696, -0.06658162124929747, -0.19181693290541052, -0.2926242127644853, -0.36690087535799776, -0.4137720534188708, -0.4335860886421158, -0.42785247459104203, -0.3991265770886398, -0.35084804028714445, -0.28714197491104243, -0.2125937105436689, -0.132008995765264, -0.050171999808914604, 0.02838670735216783, 0.09960082298540655, 0.16004763127913005, 0.2070878465419809, 0.23896010343988033, 0.2548267267047997, 0.25477004091850136, 0.23974108638511749, 0.21146505144444128, 0.17230988766358785, 0.12512633286074154, 0.07306884206017318, 0.019407660252202565, -0.032657564269347995, -0.08017262722723162], [-0.1254554756233313, -0.08634370978474622, -0.039868134180728126, 0.011507919583092052, 0.0649104168254659, 0.11720338291232232, 0.16515865057394133, 0.20563779959612533, 0.23577655069724138, 0.2531614457800734, 0.2559887694405144, 0.2431963471432226, 0.21456006847846779, 0.17074867404778504, 0.11333242903336226, 0.044743679368913644, -0.03181017613329085, -0.11247819731414006, -0.1929363397545002, -0.268589046149572, -0.33479237619194996, -0.38708768931988075, -0.42143408131469146, -0.43442757176285574, -0.42349546556438716, -0.38705535500366767, -0.324629843053556, -0.23691017597600564, -0.1257644689695074, 0.005811034304373925, 0.1537963512162099, 0.3133036361206578, 0.47877771528316515, 0.6442321103834694, 0.803509484779075, 0.9505541014891831, 1.0796831610910465, 1.1858438330909473, 1.2648434125627805, 1.3135412961886945, 1.3299933154720727, 1.3135412961886945, 1.2648434125627805, 1.1858438330909473, 1.0796831610910465, 0.9505541014891831, 0.803509484779075, 0.6442321103834694, 0.47877771528316515, 0.3133036361206578, 0.1537963512162099, 0.005811034304373925, -0.1257644689695074, -0.23691017597600564, -0.324629843053556, -0.38705535500366767, -0.42349546556438716, -0.43442757176285574, -0.42143408131469146, -0.38708768931988075, -0.33479237619194996, -0.268589046149572, -0.1929363397545002, -0.11247819731414006, -0.03181017613329085, 0.044743679368913644, 0.11333242903336226, 0.17074867404778504, 0.21456006847846779, 0.2431963471432226, 0.2559887694405144, 0.2531614457800734, 0.23577655069724138, 0.20563779959612533, 0.16515865057394133, 0.11720338291232232, 0.0649104168254659, 0.011507919583092052, -0.039868134180728126, -0.08634370978474622], [-0.13096468174943518, -0.09341816596346665, -0.04822085787410071, 0.0022716100207446164, 0.05528095770522729, 0.10774865812501504, 0.15649972810645998, 0.19841943861188654, 0.23063350923189954, 0.2506818889186662, 0.2566762997375786, 0.24743234013685533, 0.2225680860000738, 0.18256273925541686, 0.12877087581897034, 0.06339013493636744, -0.010617349295218181, -0.08964697741323371, -0.1696119802323752, -0.24613461781837798, -0.31475910259630246, -0.37117570680030565, -0.41144469052055266, -0.43220845214435083, -0.4308806796227811, -0.40580225753498556, -0.35635521764627226, -0.28302803533990717, -0.187427969950852, -0.0722388011028484, 0.05887491198907235, 0.20141317105264114, 0.35022902170777614, 0.49975144871271493, 0.6442321103834694, 0.7780040258931075, 0.8957396184216221, 0.992695449836068, 1.0649315658049785, 1.1094945766040856, 1.124555367855928, 1.1094945766040856, 1.0649315658049785, 0.992695449836068, 0.8957396184216221, 0.7780040258931075, 0.6442321103834694, 0.49975144871271493, 0.35022902170777614, 0.20141317105264114, 0.05887491198907235, -0.0722388011028484, -0.187427969950852, -0.28302803533990717, -0.35635521764627226, -0.40580225753498556, -0.4308806796227811, -0.43220845214435083, -0.41144469052055266, -0.37117570680030565, -0.31475910259630246, -0.24613461781837798, -0.1696119802323752, -0.08964697741323371, -0.010617349295218181, 0.06339013493636744, 0.12877087581897034, 0.18256273925541686, 0.2225680860000738, 0.24743234013685533, 0.2566762997375786, 0.2506818889186662, 0.23063350923189954, 0.19841943861188654, 0.15649972810645998, 0.10774865812501504, 0.05528095770522729, 0.0022716100207446164, -0.04822085787410071, -0.09341816596346665], [-0.13698176393514344, -0.10127808535368477, -0.05761803324395176, -0.00823327044894154, 0.044209509361482956, 0.09674378883254962, 0.14626024334832619, 0.18967745729212915, 0.22411724822563847, 0.24707500803079696, 0.256575492104657, 0.25130504004127213, 0.23071227369415245, 0.19507084218595108, 0.14549969299473817, 0.08393854575868848, 0.013078615468659323, -0.06374895250625122, -0.1427221428215067, -0.21970771693043264, -0.29046275344788247, -0.35084804028714445, -0.3970424421347404, -0.42574709936268906, -0.43436863670247905, -0.421171462695804, -0.3853906832849483, -0.32729906443176787, -0.24822376277499153, -0.15051108239111077, -0.03744017720227128, 0.08691073780520595, 0.21783961811686398, 0.35022902170777614, 0.47877771528316515, 0.5982441516081277, 0.7036898157513979, 0.7907103570985019, 0.8556429685382863, 0.8957396184216221, 0.9092974268256817, 0.8957396184216221, 0.8556429685382863, 0.7907103570985019, 0.7036898157513979, 0.5982441516081277, 0.47877771528316515, 0.35022902170777614, 0.21783961811686398, 0.08691073780520595, -0.03744017720227128, -0.15051108239111077, -0.24822376277499153, -0.32729906443176787, -0.3853906832849483, -0.421171462695804, -0.43436863670247905, -0.42574709936268906, -0.3970424421347404, -0.35084804028714445, -0.29046275344788247, -0.21970771693043264, -0.1427221428215067, -0.06374895250625122, 0.013078615468659323, 0.08393854575868848, 0.14549969299473817, 0.19507084218595108, 0.23071227369415245, 0.25130504004127213, 0.256575492104657, 0.24707500803079696, 0.22411724822563847, 0.18967745729212915, 0.14626024334832619, 0.09674378883254962, 0.044209509361482956, -0.00823327044894154, -0.05761803324395176, -0.10127808535368477], [-0.14335579129849668, -0.10978201113265723, -0.06793803188546253, -0.019915691575644292, 0.031745840459068614, 0.08418731130237875, 0.13437885433763305, 0.1792839709402817, 0.21602931256266372, 0.2420710146043941, 0.255348298963932, 0.25441554164532254, 0.23854497801642713, 0.20779364608280457, 0.1630299764243758, 0.10591753298818528, 0.03885568116655977, -0.03512071345143313, -0.11247819731414006, -0.18935183535374994, -0.2617343483375656, -0.32567778292945404, -0.37749737145928347, -0.41396693622794944, -0.43249545715781157, -0.4312752446188071, -0.4093935036702951, -0.36690087535799776, -0.30483270332925, -0.22518118755916025, -0.13081912452072303, -0.025378460035175753, 0.08691073780520595, 0.20141317105264114, 0.3133036361206578, 0.4177941096414197, 0.5103612401471838, 0.5869627944413911, 0.6442321103834694, 0.6796406846183429, 0.69162061945593, 0.6796406846183429, 0.6442321103834694, 0.5869627944413911, 0.5103612401471838, 0.4177941096414197, 0.3133036361206578, 0.20141317105264114, 0.08691073780520595, -0.025378460035175753, -0.13081912452072303, -0.22518118755916025, -0.30483270332925, -0.36690087535799776, -0.4093935036702951, -0.4312752446188071, -0.43249545715781157, -0.41396693622794944, -0.37749737145928347, -0.32567778292945404, -0.2617343483375656, -0.18935183535374994, -0.11247819731414006, -0.03512071345143313, 0.03885568116655977, 0.10591753298818528, 0.1630299764243758, 0.20779364608280457, 0.23854497801642713, 0.25441554164532254, 0.255348298963932, 0.2420710146043941, 0.21602931256266372, 0.1792839709402817, 0.13437885433763305, 0.08418731130237875, 0.031745840459068614, -0.019915691575644292, -0.06793803188546253, -0.10978201113265723], [-0.1499137997580331, -0.11876378051842666, -0.07903277128303789, -0.032657564269347995, 0.017966041941118966, 0.07010183827093616, 0.12081441070397907, 0.16712567793535366, 0.2061784643801796, 0.23539823538075702, 0.25264402764959015, 0.2563400102730029, 0.2455799958764798, 0.22019854657881394, 0.18080401871815463, 0.12877087581897034, 0.0661907655654817, -0.004215913110515241, -0.0792240541655952, -0.15525760655490364, -0.22856545626592412, -0.29541051237375787, -0.35226222727992795, -0.39598244357893553, -0.42399466300627076, -0.43442757176285574, -0.42622489689420734, -0.39921534828629784, -0.3541384336243295, -0.2926242127644853, -0.21712746254366178, -0.13081912452072303, -0.03744017720227128, 0.05887491198907235, 0.1537963512162099, 0.24300880867803662, 0.32242214992953067, 0.38837235101706136, 0.43780226922078175, 0.4684129583840573, 0.47877771528316515, 0.4684129583840573, 0.43780226922078175, 0.38837235101706136, 0.32242214992953067, 0.24300880867803662, 0.1537963512162099, 0.05887491198907235, -0.03744017720227128, -0.13081912452072303, -0.21712746254366178, -0.2926242127644853, -0.3541384336243295, -0.39921534828629784, -0.42622489689420734, -0.43442757176285574, -0.42399466300627076, -0.39598244357893553, -0.35226222727992795, -0.29541051237375787, -0.22856545626592412, -0.15525760655490364, -0.0792240541655952, -0.004215913110515241, 0.0661907655654817, 0.12877087581897034, 0.18080401871815463, 0.22019854657881394, 0.2455799958764798, 0.2563400102730029, 0.25264402764959015, 0.23539823538075702, 0.2061784643801796, 0.16712567793535366, 0.12081441070397907, 0.07010183827093616, 0.017966041941118966, -0.032657564269347995, -0.07903277128303789, -0.11876378051842666], [-0.15646143337355978, -0.12803192632998142, -0.0907256642328181, -0.046310064114579955, 0.0029779491154211806, 0.054541276561040686, 0.10555493165712146, 0.15311446345017118, 0.1943926655354523, 0.22679610352037188, 0.24811283911536614, 0.2566430509401283, 0.25130504004127213, 0.2317103248693539, 0.1982031145119569, 0.15186131748507978, 0.09445829662141196, 0.02838670735216783, -0.043452159632214875, -0.1177881852505473, -0.19114437378651342, -0.26001264723920775, -0.3210343185560354, -0.37117570680030565, -0.407889497747319, -0.42925310491460716, -0.434076417833265, -0.42197287899622543, -0.39338972722403176, -0.3495953826561967, -0.2926242127644853, -0.22518118755916025, -0.15051108239111077, -0.0722388011028484, 0.005811034304373925, 0.07980593576993696, 0.14609889758077332, 0.20141317105264114, 0.24300880867803662, 0.2688222513075441, 0.277571630583514, 0.2688222513075441, 0.24300880867803662, 0.20141317105264114, 0.14609889758077332, 0.07980593576993696, 0.005811034304373925, -0.0722388011028484, -0.15051108239111077, -0.22518118755916025, -0.2926242127644853, -0.3495953826561967, -0.39338972722403176, -0.42197287899622543, -0.434076417833265, -0.42925310491460716, -0.407889497747319, -0.37117570680030565, -0.3210343185560354, -0.26001264723920775, -0.19114437378651342, -0.1177881852505473, -0.043452159632214875, 0.02838670735216783, 0.09445829662141196, 0.15186131748507978, 0.1982031145119569, 0.2317103248693539, 0.25130504004127213, 0.2566430509401283, 0.24811283911536614, 0.22679610352037188, 0.1943926655354523, 0.15311446345017118, 0.10555493165712146, 0.054541276561040686, 0.0029779491154211806, -0.046310064114579955, -0.0907256642328181, -0.12803192632998142], [-0.16278435980926842, -0.13736985507049018, -0.10281030706494565, -0.060690608986011814, -0.013073952151520388, 0.03759772656874239, 0.08862652853638416, 0.13719827990417027, 0.18053174205108255, 0.21602931256266372, 0.24142096714711753, 0.254893432701845, 0.25519727019112654, 0.24172565029557566, 0.21456006847846779, 0.17447999195279823, 0.12293536517635703, 0.06198291759831892, -0.005810793613848673, -0.07749482277960204, -0.14988136590815446, -0.21970771693043264, -0.2838041182964338, -0.3392585664190622, -0.3835697098652554, -0.4147795406040892, -0.43157859884674826, -0.4333778373354074, -0.4203430458705095, -0.39338972722403176, -0.3541384336243295, -0.30483270332925, -0.24822376277499153, -0.187427969950852, -0.1257644689695074, -0.06658162124929747, -0.0130814139378774, 0.03184881503912622, 0.0657883626364726, 0.08691073780520595, 0.0940800053732448, 0.08691073780520595, 0.0657883626364726, 0.03184881503912622, -0.0130814139378774, -0.06658162124929747, -0.1257644689695074, -0.187427969950852, -0.24822376277499153, -0.30483270332925, -0.3541384336243295, -0.39338972722403176, -0.4203430458705095, -0.4333778373354074, -0.43157859884674826, -0.4147795406040892, -0.3835697098652554, -0.3392585664190622, -0.2838041182964338, -0.21970771693043264, -0.14988136590815446, -0.07749482277960204, -0.005810793613848673, 0.06198291759831892, 0.12293536517635703, 0.17447999195279823, 0.21456006847846779, 0.24172565029557566, 0.25519727019112654, 0.254893432701845, 0.24142096714711753, 0.21602931256266372, 0.18053174205108255, 0.13719827990417027, 0.08862652853638416, 0.03759772656874239, -0.013073952151520388, -0.060690608986011814, -0.10281030706494565, -0.13736985507049018], [-0.16865061331126227, -0.14653700801271363, -0.11505016730310495, -0.07558080422426758, -0.030004497243790427, 0.019407660252202565, 0.07010183827093616, 0.11937185506223688, 0.16450028494360933, 0.20290271423033404, 0.23226729318028777, 0.2506818889186662, 0.2567417315441088, 0.24963143467045815, 0.22917661128094333, 0.19586192453391038, 0.15081422331281308, 0.0957513146109, 0.032898814044057145, -0.03512071345143313, -0.10542055787501849, -0.17499760171649797, -0.24088710992360066, -0.3003162506586467, -0.35084804028714445, -0.3905078789395116, -0.417885750201407, -0.43220845214435083, -0.4333778373354074, -0.42197287899622543, -0.39921534828629784, -0.36690087535799776, -0.32729906443176787, -0.28302803533990717, -0.23691017597600564, -0.19181693290541052, -0.15051108239111077, -0.11549507625799743, -0.08887373699192957, -0.0722388011028484, -0.06658162124929747, -0.0722388011028484, -0.08887373699192957, -0.11549507625799743, -0.15051108239111077, -0.19181693290541052, -0.23691017597600564, -0.28302803533990717, -0.32729906443176787, -0.36690087535799776, -0.39921534828629784, -0.42197287899622543, -0.4333778373354074, -0.43220845214435083, -0.417885750201407, -0.3905078789395116, -0.35084804028714445, -0.3003162506586467, -0.24088710992360066, -0.17499760171649797, -0.10542055787501849, -0.03512071345143313, 0.032898814044057145, 0.0957513146109, 0.15081422331281308, 0.19586192453391038, 0.22917661128094333, 0.24963143467045815, 0.2567417315441088, 0.2506818889186662, 0.23226729318028777, 0.20290271423033404, 0.16450028494360933, 0.11937185506223688, 0.07010183827093616, 0.019407660252202565, -0.030004497243790427, -0.07558080422426758, -0.11505016730310495, -0.14653700801271363], [-0.1738139924448547, -0.15527119023634722, -0.1271795169340972, -0.0907256642328181, -0.04758506314163741, 0.0001569493213448689, 0.05010748884225075, 0.09968670899986165, 0.14626024334832619, 0.18727640924644018, 0.22040074178662336, 0.24364050109720906, 0.2554522819126627, 0.2548267267047997, 0.2413455569066888, 0.2152076253393881, 0.17722237538812438, 0.12877087581897034, 0.07173638515428266, 0.00840808631479302, -0.05863687417657578, -0.12666669235949252, -0.1929363397545002, -0.254829433326894, -0.309992807249447, -0.3564564355250057, -0.39273214882544505, -0.417885750201407, -0.43157859884674826, -0.434076417833265, -0.42622489689420734, -0.4093935036702951, -0.3853906832849483, -0.35635521764627226, -0.324629843053556, -0.2926242127644853, -0.2626748843273063, -0.23691017597600564, -0.21712746254366178, -0.20468978410715197, -0.20044755867978276, -0.20468978410715197, -0.21712746254366178, -0.23691017597600564, -0.2626748843273063, -0.2926242127644853, -0.324629843053556, -0.35635521764627226, -0.3853906832849483, -0.4093935036702951, -0.42622489689420734, -0.434076417833265, -0.43157859884674826, -0.417885750201407, -0.39273214882544505, -0.3564564355250057, -0.309992807249447, -0.254829433326894, -0.1929363397545002, -0.12666669235949252, -0.05863687417657578, 0.00840808631479302, 0.07173638515428266, 0.12877087581897034, 0.17722237538812438, 0.2152076253393881, 0.2413455569066888, 0.2548267267047997, 0.2554522819126627, 0.24364050109720906, 0.22040074178662336, 0.18727640924644018, 0.14626024334832619, 0.09968670899986165, 0.05010748884225075, 0.0001569493213448689, -0.04758506314163741, -0.0907256642328181, -0.1271795169340972, -0.15527119023634722], [-0.17801860199902664, -0.16329221750830802, -0.13890582780165694, -0.10583439818051152, -0.06554239869174844, -0.019915691575644292, 0.02883009042098063, 0.07825990831739421, 0.1258425822940911, 0.16908036038891633, 0.20563779959612533, 0.23346296309158113, 0.2508943222213973, 0.25674750760048576, 0.25037713957121355, 0.2317103248693539, 0.20124995852555586, 0.16004763127913005, 0.1096476200446325, 0.05200503792795912, -0.010617349295218181, -0.0757679524450742, -0.1409342819269669, -0.2036729142303004, -0.2617343483375656, -0.31317589634427284, -0.3564564355250057, -0.3905078789395116, -0.4147795406040892, -0.42925310491460716, -0.43442757176285574, -0.4312752446188071, -0.421171462695804, -0.40580225753498556, -0.38705535500366767, -0.36690087535799776, -0.3472686537517362, -0.32992927901128904, -0.3163857196862348, -0.3077817863653888, -0.30483270332925, -0.3077817863653888, -0.3163857196862348, -0.32992927901128904, -0.3472686537517362, -0.36690087535799776, -0.38705535500366767, -0.40580225753498556, -0.421171462695804, -0.4312752446188071, -0.43442757176285574, -0.42925310491460716, -0.4147795406040892, -0.3905078789395116, -0.3564564355250057, -0.31317589634427284, -0.2617343483375656, -0.2036729142303004, -0.1409342819269669, -0.0757679524450742, -0.010617349295218181, 0.05200503792795912, 0.1096476200446325, 0.16004763127913005, 0.20124995852555586, 0.2317103248693539, 0.25037713957121355, 0.25674750760048576, 0.2508943222213973, 0.23346296309158113, 0.20563779959612533, 0.16908036038891633, 0.1258425822940911, 0.07825990831739421, 0.02883009042098063, -0.019915691575644292, -0.06554239869174844, -0.10583439818051152, -0.13890582780165694, -0.16329221750830802], [-0.18100457917857166, -0.17030698199702413, -0.1499137997580331, -0.12058300781296416, -0.08355939645450051, -0.040517266401149735, 0.0065202421682302655, 0.05528095770522729, 0.10335731863015635, 0.14832776112580212, 0.18787932061729182, 0.21992483146863692, 0.242708395806646, 0.254893432701845, 0.25562857790064414, 0.24458792842044305, 0.22198354690007724, 0.18854967763954522, 0.14549969299473817, 0.09445829662141196, 0.037372873633869375, -0.02359098016854476, -0.08616386191642225, -0.14809048863531396, -0.20724458052139974, -0.2617343483375656, -0.309992807249447, -0.35084804028714445, -0.3835697098652554, -0.407889497747319, -0.42399466300627076, -0.43249545715781157, -0.43436863670247905, -0.4308806796227811, -0.42349546556438716, -0.4137720534188708, -0.40325873487122593, -0.39338972722403176, -0.3853906832849483, -0.3801986514917913, -0.3784012476539641, -0.3801986514917913, -0.3853906832849483, -0.39338972722403176, -0.40325873487122593, -0.4137720534188708, -0.42349546556438716, -0.4308806796227811, -0.43436863670247905, -0.43249545715781157, -0.42399466300627076, -0.407889497747319, -0.3835697098652554, -0.35084804028714445, -0.309992807249447, -0.2617343483375656, -0.20724458052139974, -0.14809048863531396, -0.08616386191642225, -0.02359098016854476, 0.037372873633869375, 0.09445829662141196, 0.14549969299473817, 0.18854967763954522, 0.22198354690007724, 0.24458792842044305, 0.25562857790064414, 0.254893432701845, 0.242708395806646, 0.21992483146863692, 0.18787932061729182, 0.14832776112580212, 0.10335731863015635, 0.05528095770522729, 0.0065202421682302655, -0.040517266401149735, -0.08355939645450051, -0.12058300781296416, -0.1499137997580331, -0.17030698199702413], [-0.18251498442862385, -0.1760159755489718, -0.15987112992755653, -0.13461888616197776, -0.10127808535368477, -0.061301442485772274, -0.016505930263581485, 0.031016232090896562, 0.07900122348247962, 0.12512633286074154, 0.16712567793535366, 0.20290271423033404, 0.23063350923189954, 0.24885528388828942, 0.25653555744366946, 0.25311832399967577, 0.23854497801642713, 0.21324911772700825, 0.17812580971586786, 0.134477311926808, 0.08393854575868848, 0.02838670735216783, -0.030159748399708135, -0.08964697741323371, -0.14809048863531396, -0.2036729142303004, -0.254829433326894, -0.3003162506586467, -0.3392585664190622, -0.37117570680030565, -0.39598244357893553, -0.41396693622794944, -0.42574709936268906, -0.43220845214435083, -0.43442757176285574, -0.4335860886421158, -0.4308806796227811, -0.4274347075936389, -0.42421701152445723, -0.42197287899622543, -0.421171462695804, -0.42197287899622543, -0.42421701152445723, -0.4274347075936389, -0.4308806796227811, -0.4335860886421158, -0.43442757176285574, -0.43220845214435083, -0.42574709936268906, -0.41396693622794944, -0.39598244357893553, -0.37117570680030565, -0.3392585664190622, -0.3003162506586467, -0.254829433326894, -0.2036729142303004, -0.14809048863531396, -0.08964697741323371, -0.030159748399708135, 0.02838670735216783, 0.08393854575868848, 0.134477311926808, 0.17812580971586786, 0.21324911772700825, 0.23854497801642713, 0.25311832399967577, 0.25653555744366946, 0.24885528388828942, 0.23063350923189954, 0.20290271423033404, 0.16712567793535366, 0.12512633286074154, 0.07900122348247962, 0.031016232090896562, -0.016505930263581485, -0.061301442485772274, -0.10127808535368477, -0.13461888616197776, -0.15987112992755653, -0.1760159755489718], [-0.18230376872794093, -0.18012123502583363, -0.16843605361995675, -0.14756752732225356, -0.11830504740258321, -0.08187218787401292, -0.039868134180728126, 0.0058103924762656495, 0.05306249567952219, 0.09968670899986165, 0.14348926836260514, 0.18239124981424537, 0.2145288714461612, 0.2383416766936446, 0.25264402764959015, 0.2566762997375786, 0.25013332713993036, 0.23316893482082693, 0.2063767337439853, 0.17074867404778504, 0.12761407121954643, 0.07856287339249271, 0.02535776443828009, -0.030159748399708135, -0.08616386191642225, -0.1409342819269669, -0.1929363397545002, -0.24088710992360066, -0.2838041182964338, -0.3210343185560354, -0.35226222727992795, -0.37749737145928347, -0.3970424421347404, -0.41144469052055266, -0.42143408131469146, -0.42785247459104203, -0.43157859884674826, -0.4334537754581445, -0.434213248547002, -0.43442757176285574, -0.43445783007337646, -0.43442757176285574, -0.434213248547002, -0.4334537754581445, -0.43157859884674826, -0.42785247459104203, -0.42143408131469146, -0.41144469052055266, -0.3970424421347404, -0.37749737145928347, -0.35226222727992795, -0.3210343185560354, -0.2838041182964338, -0.24088710992360066, -0.1929363397545002, -0.1409342819269669, -0.08616386191642225, -0.030159748399708135, 0.02535776443828009, 0.07856287339249271, 0.12761407121954643, 0.17074867404778504, 0.2063767337439853, 0.23316893482082693, 0.25013332713993036, 0.2566762997375786, 0.25264402764959015, 0.2383416766936446, 0.2145288714461612, 0.18239124981424537, 0.14348926836260514, 0.09968670899986165, 0.05306249567952219, 0.0058103924762656495, -0.039868134180728126, -0.08187218787401292, -0.11830504740258321, -0.14756752732225356, -0.16843605361995675, -0.18012123502583363], [-0.1801446545297837, -0.18233559039097344, -0.1752665961050691, -0.15904136091487175, -0.13421936300715656, -0.10179031338845618, -0.0631265026963309, -0.019915691575644292, 0.025921773001301992, 0.07232710218505171, 0.11720338291232232, 0.15851669454452746, 0.1943926655354523, 0.2232034254780841, 0.24364050109720906, 0.25477004091850136, 0.2560677827399544, 0.24743234013685533, 0.22917661128094333, 0.20199833430642128, 0.16693195814109418, 0.12528500092613942, 0.07856287339249271, 0.02838670735216783, -0.02359098016854476, -0.0757679524450742, -0.12666669235949252, -0.17499760171649797, -0.21970771693043264, -0.26001264723920775, -0.29541051237375787, -0.32567778292945404, -0.35084804028714445, -0.37117570680030565, -0.38708768931988075, -0.3991265770886398, -0.407889497747319, -0.41396693622794944, -0.417885750201407, -0.4200602785751461, -0.4207548585159486, -0.4200602785751461, -0.417885750201407, -0.41396693622794944, -0.407889497747319, -0.3991265770886398, -0.38708768931988075, -0.37117570680030565, -0.35084804028714445, -0.32567778292945404, -0.29541051237375787, -0.26001264723920775, -0.21970771693043264, -0.17499760171649797, -0.12666669235949252, -0.0757679524450742, -0.02359098016854476, 0.02838670735216783, 0.07856287339249271, 0.12528500092613942, 0.16693195814109418, 0.20199833430642128, 0.22917661128094333, 0.24743234013685533, 0.2560677827399544, 0.25477004091850136, 0.24364050109720906, 0.2232034254780841, 0.1943926655354523, 0.15851669454452746, 0.11720338291232232, 0.07232710218505171, 0.025921773001301992, -0.019915691575644292, -0.0631265026963309, -0.10179031338845618, -0.13421936300715656, -0.15904136091487175, -0.1752665961050691, -0.18233559039097344], [-0.17584069010379264, -0.18239300622958532, -0.1800313728705813, -0.16865061331126227, -0.14858307017251748, -0.12058300781296416, -0.0857896329957062, -0.045670869380806056, -0.001951040868825416, 0.043473546354522816, 0.08862652853638416, 0.13154597877649798, 0.17037647050011584, 0.20345392533496165, 0.22937894091767205, 0.24707500803079696, 0.25582893038458626, 0.2553118000893658, 0.2455799958764798, 0.2270567942100705, 0.20049625055173417, 0.16693195814109418, 0.12761407121954643, 0.08393854575868848, 0.037372873633869375, -0.010617349295218181, -0.05863687417657578, -0.10542055787501849, -0.14988136590815446, -0.19114437378651342, -0.22856545626592412, -0.2617343483375656, -0.29046275344788247, -0.31475910259630246, -0.33479237619194996, -0.35084804028714445, -0.3632795822101567, -0.37245933283868765, -0.3787322233669178, -0.382375848005458, -0.3835697098652554, -0.382375848005458, -0.3787322233669178, -0.37245933283868765, -0.3632795822101567, -0.35084804028714445, -0.33479237619194996, -0.31475910259630246, -0.29046275344788247, -0.2617343483375656, -0.22856545626592412, -0.19114437378651342, -0.14988136590815446, -0.10542055787501849, -0.05863687417657578, -0.010617349295218181, 0.037372873633869375, 0.08393854575868848, 0.12761407121954643, 0.16693195814109418, 0.20049625055173417, 0.2270567942100705, 0.2455799958764798, 0.2553118000893658, 0.25582893038458626, 0.24707500803079696, 0.22937894091767205, 0.20345392533496165, 0.17037647050011584, 0.13154597877649798, 0.08862652853638416, 0.043473546354522816, -0.001951040868825416, -0.045670869380806056, -0.0857896329957062, -0.12058300781296416, -0.14858307017251748, -0.16865061331126227, -0.1800313728705813, -0.18239300622958532], [-0.16923416092386775, -0.1800597155006458, -0.18242166855756492, -0.1760159755489718, -0.1609539875623888, -0.1377563081818195, -0.10732612754693129, -0.07090368426500879, -0.030004497243790427, 0.013655158230898757, 0.058241427706856384, 0.1018902143955224, 0.14279404657238684, 0.1792839709402817, 0.20990234059772522, 0.23346296309158113, 0.24909585663212155, 0.2562747828163765, 0.2548267267047997, 0.24492352037505036, 0.2270567942100705, 0.20199833430642128, 0.17074867404778504, 0.134477311926808, 0.09445829662141196, 0.05200503792795912, 0.00840808631479302, -0.03512071345143313, -0.07749482277960204, -0.1177881852505473, -0.15525760655490364, -0.18935183535374994, -0.21970771693043264, -0.24613461781837798, -0.268589046149572, -0.28714197491104243, -0.30194177876754097, -0.31317589634427284, -0.3210343185560354, -0.32567778292945404, -0.32721314035298743, -0.32567778292945404, -0.3210343185560354, -0.31317589634427284, -0.30194177876754097, -0.28714197491104243, -0.268589046149572, -0.24613461781837798, -0.21970771693043264, -0.18935183535374994, -0.15525760655490364, -0.1177881852505473, -0.07749482277960204, -0.03512071345143313, 0.00840808631479302, 0.05200503792795912, 0.09445829662141196, 0.134477311926808, 0.17074867404778504, 0.20199833430642128, 0.2270567942100705, 0.24492352037505036, 0.2548267267047997, 0.2562747828163765, 0.24909585663212155, 0.23346296309158113, 0.20990234059772522, 0.1792839709402817, 0.14279404657238684, 0.1018902143955224, 0.058241427706856384, 0.013655158230898757, -0.030004497243790427, -0.07090368426500879, -0.10732612754693129, -0.1377563081818195, -0.1609539875623888, -0.1760159755489718, -0.18242166855756492, -0.1800597155006458], [-0.16021647158282734, -0.1751457556394694, -0.1821644169794075, -0.18078273088932142, -0.17090060569317098, -0.1528102839666787, -0.1271795169340972, -0.0950164022704569, -0.05761803324395176, -0.016505930263581485, 0.026648129724923395, 0.07010183827093616, 0.11212338767979044, 0.15106960365711752, 0.18545724476618586, 0.21402402107025095, 0.23577655069724138, 0.25002327766855664, 0.25639126767027576, 0.2548267267047997, 0.2455799958764798, 0.22917661128094333, 0.2063767337439853, 0.17812580971586786, 0.14549969299473817, 0.1096476200446325, 0.07173638515428266, 0.032898814044057145, -0.005810793613848673, -0.043452159632214875, -0.0792240541655952, -0.11247819731414006, -0.1427221428215067, -0.1696119802323752, -0.1929363397545002, -0.2125937105436689, -0.22856545626592412, -0.24088710992360066, -0.24962054293732017, -0.254829433326894, -0.2565601183892334, -0.254829433326894, -0.24962054293732017, -0.24088710992360066, -0.22856545626592412, -0.2125937105436689, -0.1929363397545002, -0.1696119802323752, -0.1427221428215067, -0.11247819731414006, -0.0792240541655952, -0.043452159632214875, -0.005810793613848673, 0.032898814044057145, 0.07173638515428266, 0.1096476200446325, 0.14549969299473817, 0.17812580971586786, 0.2063767337439853, 0.22917661128094333, 0.2455799958764798, 0.2548267267047997, 0.25639126767027576, 0.25002327766855664, 0.23577655069724138, 0.21402402107025095, 0.18545724476618586, 0.15106960365711752, 0.11212338767979044, 0.07010183827093616, 0.026648129724923395, -0.016505930263581485, -0.05761803324395176, -0.0950164022704569, -0.1271795169340972, -0.1528102839666787, -0.17090060569317098, -0.18078273088932142, -0.1821644169794075, -0.1751457556394694], [-0.1487375524385824, -0.16751643729146143, -0.17903560277058095, -0.1826358700412797, -0.17801860199902664, -0.16525654180237792, -0.14478624788034108, -0.11738288358628372, -0.08411903827788304, -0.046310064114579955, -0.005449066140771361, 0.03686485131708162, 0.07900122348247962, 0.11937185506223688, 0.15649972810645998, 0.1890798565922851, 0.21602931256266372, 0.2365243422174828, 0.25002327766855664, 0.2562747828163765, 0.2553118000893658, 0.24743234013685533, 0.23316893482082693, 0.21324911772700825, 0.18854967763954522, 0.16004763127913005, 0.12877087581897034, 0.0957513146109, 0.06198291759831892, 0.02838670735216783, -0.004215913110515241, -0.03512071345143313, -0.06374895250625122, -0.08964697741323371, -0.11247819731414006, -0.132008995765264, -0.14809048863531396, -0.16063822727306362, -0.1696119802323752, -0.17499760171649797, -0.17679272260843765, -0.17499760171649797, -0.1696119802323752, -0.16063822727306362, -0.14809048863531396, -0.132008995765264, -0.11247819731414006, -0.08964697741323371, -0.06374895250625122, -0.03512071345143313, -0.004215913110515241, 0.02838670735216783, 0.06198291759831892, 0.0957513146109, 0.12877087581897034, 0.16004763127913005, 0.18854967763954522, 0.21324911772700825, 0.23316893482082693, 0.24743234013685533, 0.2553118000893658, 0.2562747828163765, 0.25002327766855664, 0.2365243422174828, 0.21602931256266372, 0.1890798565922851, 0.15649972810645998, 0.11937185506223688, 0.07900122348247962, 0.03686485131708162, -0.005449066140771361, -0.046310064114579955, -0.08411903827788304, -0.11738288358628372, -0.14478624788034108, -0.16525654180237792, -0.17801860199902664, -0.1826358700412797, -0.17903560277058095, -0.16751643729146143], [-0.13481430178982187, -0.15710321083861073, -0.17287351607260817, -0.18131560690315682, -0.18194839266053625, -0.17463748569481502, -0.15959621882048483, -0.13736985507049018, -0.10880422217787396, -0.0750007897964791, -0.03726086233570953, 0.0029779491154211806, 0.044209509361482956, 0.08492762656935865, 0.12369173187889267, 0.15918658398472915, 0.1902732638436695, 0.21602931256266372, 0.23577655069724138, 0.24909585663212155, 0.25582893038458626, 0.2560677827399544, 0.25013332713993036, 0.23854497801642713, 0.22198354690007724, 0.20124995852555586, 0.17722237538812438, 0.15081422331281308, 0.12293536517635703, 0.09445829662141196, 0.0661907655654817, 0.03885568116655977, 0.013078615468659323, -0.010617349295218181, -0.03181017613329085, -0.050171999808914604, -0.06545830501430487, -0.07749482277960204, -0.08616386191642225, -0.09139170665445415, -0.09313849939964196, -0.09139170665445415, -0.08616386191642225, -0.07749482277960204, -0.06545830501430487, -0.050171999808914604, -0.03181017613329085, -0.010617349295218181, 0.013078615468659323, 0.03885568116655977, 0.0661907655654817, 0.09445829662141196, 0.12293536517635703, 0.15081422331281308, 0.17722237538812438, 0.20124995852555586, 0.22198354690007724, 0.23854497801642713, 0.25013332713993036, 0.2560677827399544, 0.25582893038458626, 0.24909585663212155, 0.23577655069724138, 0.21602931256266372, 0.1902732638436695, 0.15918658398472915, 0.12369173187889267, 0.08492762656935865, 0.044209509361482956, 0.0029779491154211806, -0.03726086233570953, -0.0750007897964791, -0.10880422217787396, -0.13736985507049018, -0.15959621882048483, -0.17463748569481502, -0.18194839266053625, -0.18131560690315682, -0.17287351607260817, -0.15710321083861073], [-0.11853755153953284, -0.14391335124448024, -0.163591222139663, -0.17663261032673944, -0.18239300622958532, -0.18054660691367944, -0.17109514979541934, -0.1543609103022869, -0.13096468174943518, -0.10179031338845618, -0.06793803188546253, -0.03066927919323432, 0.008653858363151095, 0.04863139306208121, 0.0878871354792479, 0.12512633286074154, 0.15918658398472915, 0.1890798565922851, 0.21402402107025095, 0.23346296309158113, 0.24707500803079696, 0.25477004091850136, 0.2566762997375786, 0.25311832399967577, 0.24458792842044305, 0.2317103248693539, 0.2152076253393881, 0.19586192453391038, 0.17447999195279823, 0.15186131748507978, 0.12877087581897034, 0.10591753298818528, 0.08393854575868848, 0.06339013493636744, 0.044743679368913644, 0.02838670735216783, 0.014627580006334946, 0.0037025838949493145, -0.004215913110515241, -0.009011537058698997, -0.010617349295218181, -0.009011537058698997, -0.004215913110515241, 0.0037025838949493145, 0.014627580006334946, 0.02838670735216783, 0.044743679368913644, 0.06339013493636744, 0.08393854575868848, 0.10591753298818528, 0.12877087581897034, 0.15186131748507978, 0.17447999195279823, 0.19586192453391038, 0.2152076253393881, 0.2317103248693539, 0.24458792842044305, 0.25311832399967577, 0.2566762997375786, 0.25477004091850136, 0.24707500803079696, 0.23346296309158113, 0.21402402107025095, 0.1890798565922851, 0.15918658398472915, 0.12512633286074154, 0.0878871354792479, 0.04863139306208121, 0.008653858363151095, -0.03066927919323432, -0.06793803188546253, -0.10179031338845618, -0.13096468174943518, -0.1543609103022869, -0.17109514979541934, -0.18054660691367944, -0.18239300622958532, -0.17663261032673944, -0.163591222139663, -0.14391335124448024], [-0.10007704610444179, -0.12803786284735597, -0.1511875643863488, -0.16848219583369567, -0.17913546063850083, -0.18264893898060253, -0.1788278960809016, -0.16778234479339135, -0.1499137997580331, -0.1258888846262905, -0.09660159075517502, -0.0631265026963309, -0.026665677985416577, 0.011507919583092052, 0.05010748884225075, 0.0878871354792479, 0.12369173187889267, 0.15649972810645998, 0.18545724476618586, 0.20990234059772522, 0.22937894091767205, 0.24364050109720906, 0.25264402764959015, 0.25653555744366946, 0.25562857790064414, 0.25037713957121355, 0.2413455569066888, 0.22917661128094333, 0.21456006847846779, 0.1982031145119569, 0.18080401871815463, 0.1630299764243758, 0.14549969299473817, 0.12877087581897034, 0.11333242903336226, 0.09960082298540655, 0.08791985781076668, 0.07856287339249271, 0.07173638515428266, 0.06758414818694233, 0.0661907655654817, 0.06758414818694233, 0.07173638515428266, 0.07856287339249271, 0.08791985781076668, 0.09960082298540655, 0.11333242903336226, 0.12877087581897034, 0.14549969299473817, 0.1630299764243758, 0.18080401871815463, 0.1982031145119569, 0.21456006847846779, 0.22917661128094333, 0.2413455569066888, 0.25037713957121355, 0.25562857790064414, 0.25653555744366946, 0.25264402764959015, 0.24364050109720906, 0.22937894091767205, 0.20990234059772522, 0.18545724476618586, 0.15649972810645998, 0.12369173187889267, 0.0878871354792479, 0.05010748884225075, 0.011507919583092052, -0.026665677985416577, -0.0631265026963309, -0.09660159075517502, -0.1258888846262905, -0.1499137997580331, -0.16778234479339135, -0.1788278960809016, -0.18264893898060253, -0.17913546063850083, -0.16848219583369567, -0.1511875643863488, -0.12803786284735597], [-0.07968395387291566, -0.10965701691843574, -0.13575600794040762, -0.15685668268767797, -0.17205475511311313, -0.1807007071005138, -0.18242166855756492, -0.17712974307464055, -0.16501687105976595, -0.14653700801271363, -0.12237701362727325, -0.09341816596346665, -0.060690608986011814, -0.02532329427921568, 0.011507919583092052, 0.04863139306208121, 0.08492762656935865, 0.11937185506223688, 0.15106960365711752, 0.1792839709402817, 0.20345392533496165, 0.2232034254780841, 0.2383416766936446, 0.24885528388828942, 0.254893432701845, 0.25674750760048576, 0.2548267267047997, 0.24963143467045815, 0.24172565029557566, 0.2317103248693539, 0.22019854657881394, 0.20779364608280457, 0.19507084218595108, 0.18256273925541686, 0.17074867404778504, 0.16004763127913005, 0.15081422331281308, 0.1433370736825879, 0.13783886506830845, 0.134477311926808, 0.1333463922312941, 0.134477311926808, 0.13783886506830845, 0.1433370736825879, 0.15081422331281308, 0.16004763127913005, 0.17074867404778504, 0.18256273925541686, 0.19507084218595108, 0.20779364608280457, 0.22019854657881394, 0.2317103248693539, 0.24172565029557566, 0.24963143467045815, 0.2548267267047997, 0.25674750760048576, 0.254893432701845, 0.24885528388828942, 0.2383416766936446, 0.2232034254780841, 0.20345392533496165, 0.1792839709402817, 0.15106960365711752, 0.11937185506223688, 0.08492762656935865, 0.04863139306208121, 0.011507919583092052, -0.02532329427921568, -0.060690608986011814, -0.09341816596346665, -0.12237701362727325, -0.14653700801271363, -0.16501687105976595, -0.17712974307464055, -0.18242166855756492, -0.1807007071005138, -0.17205475511311313, -0.15685668268767797, -0.13575600794040762, -0.10965701691843574], [-0.05769048962428924, -0.08904297911487404, -0.11749065565570795, -0.14185512230149663, -0.16113955966514656, -0.17456713788189782, -0.18160802037610754, -0.18199408570471504, -0.17572115154133375, -0.16303912773542587, -0.14443111863131364, -0.12058300781296416, -0.09234546620178369, -0.060690608986011814, -0.026665677985416577, 0.008653858363151095, 0.044209509361482956, 0.07900122348247962, 0.11212338767979044, 0.14279404657238684, 0.17037647050011584, 0.1943926655354523, 0.2145288714461612, 0.23063350923189954, 0.242708395806646, 0.2508943222213973, 0.2554522819126627, 0.2567417315441088, 0.25519727019112654, 0.25130504004127213, 0.2455799958764798, 0.23854497801642713, 0.23071227369415245, 0.2225680860000738, 0.21456006847846779, 0.2070878465419809, 0.20049625055173417, 0.19507084218595108, 0.19103523332295086, 0.18854967763954522, 0.18771045677679687, 0.18854967763954522, 0.19103523332295086, 0.19507084218595108, 0.20049625055173417, 0.2070878465419809, 0.21456006847846779, 0.2225680860000738, 0.23071227369415245, 0.23854497801642713, 0.2455799958764798, 0.25130504004127213, 0.25519727019112654, 0.2567417315441088, 0.2554522819126627, 0.2508943222213973, 0.242708395806646, 0.23063350923189954, 0.2145288714461612, 0.1943926655354523, 0.17037647050011584, 0.14279404657238684, 0.11212338767979044, 0.07900122348247962, 0.044209509361482956, 0.008653858363151095, -0.026665677985416577, -0.060690608986011814, -0.09234546620178369, -0.12058300781296416, -0.14443111863131364, -0.16303912773542587, -0.17572115154133375, -0.18199408570471504, -0.18160802037610754, -0.17456713788189782, -0.16113955966514656, -0.14185512230149663, -0.11749065565570795, -0.08904297911487404], [-0.0345063152690242, -0.06655906279410359, -0.09668883252747353, -0.12368964794720452, -0.1464987033293174, -0.1642373823959323, -0.17624240938958516, -0.18208605074549258, -0.18158488243001691, -0.1747972342928682, -0.16200998595397612, -0.1437158894806465, -0.12058300781296416, -0.09341816596346665, -0.0631265026963309, -0.03066927919323432, 0.0029779491154211806, 0.03686485131708162, 0.07010183827093616, 0.1018902143955224, 0.13154597877649798, 0.15851669454452746, 0.18239124981424537, 0.20290271423033404, 0.21992483146863692, 0.23346296309158113, 0.24364050109720906, 0.2506818889186662, 0.254893432701845, 0.2566430509401283, 0.2563400102730029, 0.25441554164532254, 0.25130504004127213, 0.24743234013685533, 0.2431963471432226, 0.23896010343988033, 0.23504220166614895, 0.2317103248693539, 0.22917661128094333, 0.22759450814784551, 0.2270567942100705, 0.22759450814784551, 0.22917661128094333, 0.2317103248693539, 0.23504220166614895, 0.23896010343988033, 0.2431963471432226, 0.24743234013685533, 0.25130504004127213, 0.25441554164532254, 0.2563400102730029, 0.2566430509401283, 0.254893432701845, 0.2506818889186662, 0.24364050109720906, 0.23346296309158113, 0.21992483146863692, 0.20290271423033404, 0.18239124981424537, 0.15851669454452746, 0.13154597877649798, 0.1018902143955224, 0.07010183827093616, 0.03686485131708162, 0.0029779491154211806, -0.03066927919323432, -0.0631265026963309, -0.09341816596346665, -0.12058300781296416, -0.1437158894806465, -0.16200998595397612, -0.1747972342928682, -0.18158488243001691, -0.18208605074549258, -0.17624240938958516, -0.1642373823959323, -0.1464987033293174, -0.12368964794720452, -0.09668883252747353, -0.06655906279410359], [-0.01061150357619211, -0.042655257000177006, -0.07374973820785838, -0.10268778525178764, -0.1283676319466868, -0.14983554931501694, -0.16632015713858264, -0.17725715646546372, -0.18230376872794093, -0.18134271385500067, -0.17447608825271163, -0.16200998595397612, -0.14443111863131364, -0.12237701362727325, -0.09660159075517502, -0.06793803188546253, -0.03726086233570953, -0.005449066140771361, 0.026648129724923395, 0.058241427706856384, 0.08862652853638416, 0.11720338291232232, 0.14348926836260514, 0.16712567793535366, 0.18787932061729182, 0.20563779959612533, 0.22040074178662336, 0.23226729318028777, 0.24142096714711753, 0.24811283911536614, 0.25264402764959015, 0.255348298963932, 0.256575492104657, 0.2566762997375786, 0.2559887694405144, 0.2548267267047997, 0.25347017586536014, 0.252157618714697, 0.25108014921898075, 0.25037713957121355, 0.25013332713993036, 0.25037713957121355, 0.25108014921898075, 0.252157618714697, 0.25347017586536014, 0.2548267267047997, 0.2559887694405144, 0.2566762997375786, 0.256575492104657, 0.255348298963932, 0.25264402764959015, 0.24811283911536614, 0.24142096714711753, 0.23226729318028777, 0.22040074178662336, 0.20563779959612533, 0.18787932061729182, 0.16712567793535366, 0.14348926836260514, 0.11720338291232232, 0.08862652853638416, 0.058241427706856384, 0.026648129724923395, -0.005449066140771361, -0.03726086233570953, -0.06793803188546253, -0.09660159075517502, -0.12237701362727325, -0.14443111863131364, -0.16200998595397612, -0.17447608825271163, -0.18134271385500067, -0.18230376872794093, -0.17725715646546372, -0.16632015713858264, -0.14983554931501694, -0.1283676319466868, -0.10268778525178764, -0.07374973820785838, -0.042655257000177006], [0.013454008098850966, -0.017859822184363938, -0.04916880920228074, -0.07929019757294747, -0.10711012813756442, -0.1316269478872783, -0.15198770280837584, -0.16751643729146143, -0.17773339606034183, -0.18236471957976835, -0.18134271385500067, -0.1747972342928682, -0.16303912773542587, -0.14653700801271363, -0.1258888846262905, -0.10179031338845618, -0.0750007897964791, -0.046310064114579955, -0.016505930263581485, 0.013655158230898757, 0.043473546354522816, 0.07232710218505171, 0.09968670899986165, 0.12512633286074154, 0.14832776112580212, 0.16908036038891633, 0.18727640924644018, 0.20290271423033404, 0.21602931256266372, 0.22679610352037188, 0.23539823538075702, 0.2420710146043941, 0.24707500803079696, 0.2506818889186662, 0.2531614457800734, 0.25477004091850136, 0.2557406839380664, 0.2562747828163765, 0.25653555744366946, 0.2566430509401283, 0.2566706526738519, 0.2566430509401283, 0.25653555744366946, 0.2562747828163765, 0.2557406839380664, 0.25477004091850136, 0.2531614457800734, 0.2506818889186662, 0.24707500803079696, 0.2420710146043941, 0.23539823538075702, 0.22679610352037188, 0.21602931256266372, 0.20290271423033404, 0.18727640924644018, 0.16908036038891633, 0.14832776112580212, 0.12512633286074154, 0.09968670899986165, 0.07232710218505171, 0.043473546354522816, 0.013655158230898757, -0.016505930263581485, -0.046310064114579955, -0.0750007897964791, -0.10179031338845618, -0.1258888846262905, -0.14653700801271363, -0.16303912773542587, -0.1747972342928682, -0.18134271385500067, -0.18236471957976835, -0.17773339606034183, -0.16751643729146143, -0.15198770280837584, -0.1316269478872783, -0.10711012813756442, -0.07929019757294747, -0.04916880920228074, -0.017859822184363938], [0.037104384846577534, 0.007233082355737275, -0.023527608249201665, -0.054043516875550875, -0.08321475815193494, -0.11001880232017779, -0.13354819579908725, -0.15304146672549196, -0.167906160972842, -0.17773339606034183, -0.18230376872794093, -0.18158488243001691, -0.17572115154133375, -0.16501687105976595, -0.1499137997580331, -0.13096468174943518, -0.10880422217787396, -0.08411903827788304, -0.05761803324395176, -0.030004497243790427, -0.001951040868825416, 0.025921773001301992, 0.05306249567952219, 0.07900122348247962, 0.10335731863015635, 0.1258425822940911, 0.14626024334832619, 0.16450028494360933, 0.18053174205108255, 0.1943926655354523, 0.2061784643801796, 0.21602931256266372, 0.22411724822563847, 0.23063350923189954, 0.23577655069724138, 0.23974108638511749, 0.242708395806646, 0.24483804991090946, 0.24626113579560338, 0.24707500803079696, 0.24733956165584545, 0.24707500803079696, 0.24626113579560338, 0.24483804991090946, 0.242708395806646, 0.23974108638511749, 0.23577655069724138, 0.23063350923189954, 0.22411724822563847, 0.21602931256266372, 0.2061784643801796, 0.1943926655354523, 0.18053174205108255, 0.16450028494360933, 0.14626024334832619, 0.1258425822940911, 0.10335731863015635, 0.07900122348247962, 0.05306249567952219, 0.025921773001301992, -0.001951040868825416, -0.030004497243790427, -0.05761803324395176, -0.08411903827788304, -0.10880422217787396, -0.13096468174943518, -0.1499137997580331, -0.16501687105976595, -0.17572115154133375, -0.18158488243001691, -0.18230376872794093, -0.17773339606034183, -0.167906160972842, -0.15304146672549196, -0.13354819579908725, -0.11001880232017779, -0.08321475815193494, -0.054043516875550875, -0.023527608249201665, 0.007233082355737275], [0.059725017515438364, 0.03197958453286062, 0.0025207381574719806, -0.027588123185645037, -0.0572857273340844, -0.08555491563889543, -0.1114606806231028, -0.13418273806183595, -0.15304146672549196, -0.16751643729146143, -0.17725715646546372, -0.18208605074549258, -0.18199408570471504, -0.17712974307464055, -0.16778234479339135, -0.1543609103022869, -0.13736985507049018, -0.11738288358628372, -0.0950164022704569, -0.07090368426500879, -0.045670869380806056, -0.019915691575644292, 0.0058103924762656495, 0.031016232090896562, 0.05528095770522729, 0.07825990831739421, 0.09968670899986165, 0.11937185506223688, 0.13719827990417027, 0.15311446345017118, 0.16712567793535366, 0.1792839709402817, 0.18967745729212915, 0.19841943861188654, 0.20563779959612533, 0.21146505144444128, 0.21602931256266372, 0.21944644111666822, 0.22181346801290225, 0.2232034254780841, 0.22366162672468853, 0.2232034254780841, 0.22181346801290225, 0.21944644111666822, 0.21602931256266372, 0.21146505144444128, 0.20563779959612533, 0.19841943861188654, 0.18967745729212915, 0.1792839709402817, 0.16712567793535366, 0.15311446345017118, 0.13719827990417027, 0.11937185506223688, 0.09968670899986165, 0.07825990831739421, 0.05528095770522729, 0.031016232090896562, 0.0058103924762656495, -0.019915691575644292, -0.045670869380806056, -0.07090368426500879, -0.0950164022704569, -0.11738288358628372, -0.13736985507049018, -0.1543609103022869, -0.16778234479339135, -0.17712974307464055, -0.18199408570471504, -0.18208605074549258, -0.17725715646546372, -0.16751643729146143, -0.15304146672549196, -0.13418273806183595, -0.1114606806231028, -0.08555491563889543, -0.0572857273340844, -0.027588123185645037, 0.0025207381574719806, 0.03197958453286062], [0.08069235790121831, 0.05570574218106777, 0.028270310898122826, -0.0006409754282528475, -0.03002807965783915, -0.05890402451081101, -0.08633239590937543, -0.1114606806231028, -0.13354819579908725, -0.15198770280837584, -0.16632015713858264, -0.17624240938958516, -0.18160802037610754, -0.18242166855756492, -0.1788278960809016, -0.17109514979541934, -0.15959621882048483, -0.14478624788034108, -0.1271795169340972, -0.10732612754693129, -0.0857896329957062, -0.0631265026963309, -0.039868134180728126, -0.016505930263581485, 0.0065202421682302655, 0.02883009042098063, 0.05010748884225075, 0.07010183827093616, 0.08862652853638416, 0.10555493165712146, 0.12081441070397907, 0.13437885433763305, 0.14626024334832619, 0.15649972810645998, 0.16515865057394133, 0.17230988766358785, 0.17802983029511174, 0.18239124981424537, 0.18545724476618586, 0.18727640924644018, 0.18787932061729182, 0.18727640924644018, 0.18545724476618586, 0.18239124981424537, 0.17802983029511174, 0.17230988766358785, 0.16515865057394133, 0.15649972810645998, 0.14626024334832619, 0.13437885433763305, 0.12081441070397907, 0.10555493165712146, 0.08862652853638416, 0.07010183827093616, 0.05010748884225075, 0.02883009042098063, 0.0065202421682302655, -0.016505930263581485, -0.039868134180728126, -0.0631265026963309, -0.0857896329957062, -0.10732612754693129, -0.1271795169340972, -0.14478624788034108, -0.15959621882048483, -0.17109514979541934, -0.1788278960809016, -0.18242166855756492, -0.18160802037610754, -0.17624240938958516, -0.16632015713858264, -0.15198770280837584, -0.13354819579908725, -0.1114606806231028, -0.08633239590937543, -0.05890402451081101, -0.03002807965783915, -0.0006409754282528475, 0.028270310898122826, 0.05570574218106777], [0.0993958462307399, 0.07773008237271903, 0.05298490441364873, 0.026026147564044762, -0.0022274559793407315, -0.030841885736018544, -0.05890402451081101, -0.08555491563889543, -0.11001880232017779, -0.1316269478872783, -0.14983554931501694, -0.1642373823959323, -0.17456713788189782, -0.1807007071005138, -0.18264893898060253, -0.18054660691367944, -0.17463748569481502, -0.16525654180237792, -0.1528102839666787, -0.1377563081818195, -0.12058300781296416, -0.10179031338845618, -0.08187218787401292, -0.061301442485772274, -0.040517266401149735, -0.019915691575644292, 0.0001569493213448689, 0.019407660252202565, 0.03759772656874239, 0.054541276561040686, 0.07010183827093616, 0.08418731130237875, 0.09674378883254962, 0.10774865812501504, 0.11720338291232232, 0.12512633286074154, 0.13154597877649798, 0.13649472168344115, 0.14000357308347133, 0.14209785531573388, 0.14279404657238684, 0.14209785531573388, 0.14000357308347133, 0.13649472168344115, 0.13154597877649798, 0.12512633286074154, 0.11720338291232232, 0.10774865812501504, 0.09674378883254962, 0.08418731130237875, 0.07010183827093616, 0.054541276561040686, 0.03759772656874239, 0.019407660252202565, 0.0001569493213448689, -0.019915691575644292, -0.040517266401149735, -0.061301442485772274, -0.08187218787401292, -0.10179031338845618, -0.12058300781296416, -0.1377563081818195, -0.1528102839666787, -0.16525654180237792, -0.17463748569481502, -0.18054660691367944, -0.18264893898060253, -0.1807007071005138, -0.17456713788189782, -0.1642373823959323, -0.14983554931501694, -0.1316269478872783, -0.11001880232017779, -0.08555491563889543, -0.05890402451081101, -0.030841885736018544, -0.0022274559793407315, 0.026026147564044762, 0.05298490441364873, 0.07773008237271903], [0.11526115097856117, 0.09738828403656238, 0.0759235678781371, 0.05161237775613617, 0.025275083284098894, -0.0022274559793407315, -0.03002807965783915, -0.0572857273340844, -0.08321475815193494, -0.10711012813756442, -0.1283676319466868, -0.1464987033293174, -0.16113955966514656, -0.17205475511311313, -0.17913546063850083, -0.18239300622958532, -0.18194839266053625, -0.17801860199902664, -0.17090060569317098, -0.1609539875623888, -0.14858307017251748, -0.13421936300715656, -0.11830504740258321, -0.10127808535368477, -0.08355939645450051, -0.06554239869174844, -0.04758506314163741, -0.030004497243790427, -0.013073952151520388, 0.0029779491154211806, 0.017966041941118966, 0.031745840459068614, 0.044209509361482956, 0.05528095770522729, 0.0649104168254659, 0.07306884206017318, 0.07974244535617742, 0.08492762656935865, 0.08862652853638416, 0.09084339726921295, 0.09158188560927924, 0.09084339726921295, 0.08862652853638416, 0.08492762656935865, 0.07974244535617742, 0.07306884206017318, 0.0649104168254659, 0.05528095770522729, 0.044209509361482956, 0.031745840459068614, 0.017966041941118966, 0.0029779491154211806, -0.013073952151520388, -0.030004497243790427, -0.04758506314163741, -0.06554239869174844, -0.08355939645450051, -0.10127808535368477, -0.11830504740258321, -0.13421936300715656, -0.14858307017251748, -0.1609539875623888, -0.17090060569317098, -0.17801860199902664, -0.18194839266053625, -0.18239300622958532, -0.17913546063850083, -0.17205475511311313, -0.16113955966514656, -0.1464987033293174, -0.1283676319466868, -0.10711012813756442, -0.08321475815193494, -0.0572857273340844, -0.03002807965783915, -0.0022274559793407315, 0.025275083284098894, 0.05161237775613617, 0.0759235678781371, 0.09738828403656238], [0.12777380562398274, 0.11405907878471819, 0.09636827159298987, 0.07531659368730659, 0.05161237775613617, 0.026026147564044762, -0.0006409754282528475, -0.027588123185645037, -0.054043516875550875, -0.07929019757294747, -0.10268778525178764, -0.12368964794720452, -0.14185512230149663, -0.15685668268767797, -0.16848219583369567, -0.17663261032673944, -0.18131560690315682, -0.1826358700412797, -0.18078273088932142, -0.1760159755489718, -0.16865061331126227, -0.15904136091487175, -0.14756752732225356, -0.13461888616197776, -0.12058300781296416, -0.10583439818051152, -0.0907256642328181, -0.07558080422426758, -0.060690608986011814, -0.046310064114579955, -0.032657564269347995, -0.019915691575644292, -0.00823327044894154, 0.0022716100207446164, 0.011507919583092052, 0.019407660252202565, 0.025921773001301992, 0.031016232090896562, 0.03466854669458865, 0.03686485131708162, 0.03759772656874239, 0.03686485131708162, 0.03466854669458865, 0.031016232090896562, 0.025921773001301992, 0.019407660252202565, 0.011507919583092052, 0.0022716100207446164, -0.00823327044894154, -0.019915691575644292, -0.032657564269347995, -0.046310064114579955, -0.060690608986011814, -0.07558080422426758, -0.0907256642328181, -0.10583439818051152, -0.12058300781296416, -0.13461888616197776, -0.14756752732225356, -0.15904136091487175, -0.16865061331126227, -0.1760159755489718, -0.18078273088932142, -0.1826358700412797, -0.18131560690315682, -0.17663261032673944, -0.16848219583369567, -0.15685668268767797, -0.14185512230149663, -0.12368964794720452, -0.10268778525178764, -0.07929019757294747, -0.054043516875550875, -0.027588123185645037, -0.0006409754282528475, 0.026026147564044762, 0.05161237775613617, 0.07531659368730659, 0.09636827159298987, 0.11405907878471819], [0.13650222610828716, 0.12719030582037316, 0.1136526088802527, 0.09636827159298987, 0.0759235678781371, 0.05298490441364873, 0.028270310898122826, 0.0025207381574719806, -0.023527608249201665, -0.04916880920228074, -0.07374973820785838, -0.09668883252747353, -0.11749065565570795, -0.13575600794040762, -0.1511875643863488, -0.163591222139663, -0.17287351607260817, -0.17903560277058095, -0.1821644169794075, -0.18242166855756492, -0.1800313728705813, -0.1752665961050691, -0.16843605361995675, -0.15987112992755653, -0.1499137997580331, -0.13890582780165694, -0.1271795169340972, -0.11505016730310495, -0.10281030706494565, -0.0907256642328181, -0.07903277128303789, -0.06793803188546253, -0.05761803324395176, -0.04822085787410071, -0.039868134180728126, -0.032657564269347995, -0.026665677985416577, -0.021950582012676394, -0.01855449981019833, -0.016505930263581485, -0.015821288518275644, -0.016505930263581485, -0.01855449981019833, -0.021950582012676394, -0.026665677985416577, -0.032657564269347995, -0.039868134180728126, -0.04822085787410071, -0.05761803324395176, -0.06793803188546253, -0.07903277128303789, -0.0907256642328181, -0.10281030706494565, -0.11505016730310495, -0.1271795169340972, -0.13890582780165694, -0.1499137997580331, -0.15987112992755653, -0.16843605361995675, -0.1752665961050691, -0.1800313728705813, -0.18242166855756492, -0.1821644169794075, -0.17903560277058095, -0.17287351607260817, -0.163591222139663, -0.1511875643863488, -0.13575600794040762, -0.11749065565570795, -0.09668883252747353, -0.07374973820785838, -0.04916880920228074, -0.023527608249201665, 0.0025207381574719806, 0.028270310898122826, 0.05298490441364873, 0.0759235678781371, 0.09636827159298987, 0.1136526088802527, 0.12719030582037316], [0.14111903500315878, 0.13632396086944565, 0.12719030582037316, 0.11405907878471819, 0.09738828403656238, 0.07773008237271903, 0.05570574218106777, 0.03197958453286062, 0.007233082355737275, -0.017859822184363938, -0.042655257000177006, -0.06655906279410359, -0.08904297911487404, -0.10965701691843574, -0.12803786284735597, -0.14391335124448024, -0.15710321083861073, -0.16751643729146143, -0.1751457556394694, -0.1800597155006458, -0.18239300622958532, -0.18233559039097344, -0.18012123502583363, -0.1760159755489718, -0.17030698199702413, -0.16329221750830802, -0.15527119023634722, -0.14653700801271363, -0.13736985507049018, -0.12803192632998142, -0.11876378051842666, -0.10978201113265723, -0.10127808535368477, -0.09341816596346665, -0.08634370978474622, -0.08017262722723162, -0.0750007897964791, -0.07090368426500879, -0.06793803188546253, -0.06614321685638791, -0.06554239869174844, -0.06614321685638791, -0.06793803188546253, -0.07090368426500879, -0.0750007897964791, -0.08017262722723162, -0.08634370978474622, -0.09341816596346665, -0.10127808535368477, -0.10978201113265723, -0.11876378051842666, -0.12803192632998142, -0.13736985507049018, -0.14653700801271363, -0.15527119023634722, -0.16329221750830802, -0.17030698199702413, -0.1760159755489718, -0.18012123502583363, -0.18233559039097344, -0.18239300622958532, -0.1800597155006458, -0.1751457556394694, -0.16751643729146143, -0.15710321083861073, -0.14391335124448024, -0.12803786284735597, -0.10965701691843574, -0.08904297911487404, -0.06655906279410359, -0.042655257000177006, -0.017859822184363938, 0.007233082355737275, 0.03197958453286062, 0.05570574218106777, 0.07773008237271903, 0.09738828403656238, 0.11405907878471819, 0.12719030582037316, 0.13632396086944565]]}],                        {\"legend\": {\"bgcolor\": \"#F5F6F9\", \"font\": {\"color\": \"#4D5663\"}}, \"paper_bgcolor\": \"#F5F6F9\", \"plot_bgcolor\": \"#F5F6F9\", \"template\": {\"data\": {\"bar\": [{\"error_x\": {\"color\": \"#2a3f5f\"}, \"error_y\": {\"color\": \"#2a3f5f\"}, \"marker\": {\"line\": {\"color\": \"#E5ECF6\", \"width\": 0.5}}, \"type\": \"bar\"}], \"barpolar\": [{\"marker\": {\"line\": {\"color\": \"#E5ECF6\", \"width\": 0.5}}, \"type\": \"barpolar\"}], \"carpet\": [{\"aaxis\": {\"endlinecolor\": \"#2a3f5f\", \"gridcolor\": \"white\", \"linecolor\": \"white\", \"minorgridcolor\": \"white\", \"startlinecolor\": \"#2a3f5f\"}, \"baxis\": {\"endlinecolor\": \"#2a3f5f\", \"gridcolor\": \"white\", \"linecolor\": \"white\", \"minorgridcolor\": \"white\", \"startlinecolor\": \"#2a3f5f\"}, \"type\": \"carpet\"}], \"choropleth\": [{\"colorbar\": {\"outlinewidth\": 0, \"ticks\": \"\"}, \"type\": \"choropleth\"}], \"contour\": [{\"colorbar\": {\"outlinewidth\": 0, \"ticks\": \"\"}, \"colorscale\": [[0.0, \"#0d0887\"], [0.1111111111111111, \"#46039f\"], [0.2222222222222222, \"#7201a8\"], [0.3333333333333333, \"#9c179e\"], [0.4444444444444444, \"#bd3786\"], [0.5555555555555556, \"#d8576b\"], [0.6666666666666666, \"#ed7953\"], [0.7777777777777778, \"#fb9f3a\"], [0.8888888888888888, \"#fdca26\"], [1.0, \"#f0f921\"]], \"type\": \"contour\"}], \"contourcarpet\": [{\"colorbar\": {\"outlinewidth\": 0, \"ticks\": \"\"}, \"type\": \"contourcarpet\"}], \"heatmap\": [{\"colorbar\": {\"outlinewidth\": 0, \"ticks\": \"\"}, \"colorscale\": [[0.0, \"#0d0887\"], [0.1111111111111111, \"#46039f\"], [0.2222222222222222, \"#7201a8\"], [0.3333333333333333, \"#9c179e\"], [0.4444444444444444, \"#bd3786\"], [0.5555555555555556, \"#d8576b\"], [0.6666666666666666, \"#ed7953\"], [0.7777777777777778, \"#fb9f3a\"], [0.8888888888888888, \"#fdca26\"], [1.0, \"#f0f921\"]], \"type\": \"heatmap\"}], \"heatmapgl\": [{\"colorbar\": {\"outlinewidth\": 0, \"ticks\": \"\"}, \"colorscale\": [[0.0, \"#0d0887\"], [0.1111111111111111, \"#46039f\"], [0.2222222222222222, \"#7201a8\"], [0.3333333333333333, \"#9c179e\"], [0.4444444444444444, \"#bd3786\"], [0.5555555555555556, \"#d8576b\"], [0.6666666666666666, \"#ed7953\"], [0.7777777777777778, \"#fb9f3a\"], [0.8888888888888888, \"#fdca26\"], [1.0, \"#f0f921\"]], \"type\": \"heatmapgl\"}], \"histogram\": [{\"marker\": {\"colorbar\": {\"outlinewidth\": 0, \"ticks\": \"\"}}, \"type\": \"histogram\"}], \"histogram2d\": [{\"colorbar\": {\"outlinewidth\": 0, \"ticks\": \"\"}, \"colorscale\": [[0.0, \"#0d0887\"], [0.1111111111111111, \"#46039f\"], [0.2222222222222222, \"#7201a8\"], [0.3333333333333333, \"#9c179e\"], [0.4444444444444444, \"#bd3786\"], [0.5555555555555556, \"#d8576b\"], [0.6666666666666666, \"#ed7953\"], [0.7777777777777778, \"#fb9f3a\"], [0.8888888888888888, \"#fdca26\"], [1.0, \"#f0f921\"]], \"type\": \"histogram2d\"}], \"histogram2dcontour\": [{\"colorbar\": {\"outlinewidth\": 0, \"ticks\": \"\"}, \"colorscale\": [[0.0, \"#0d0887\"], [0.1111111111111111, \"#46039f\"], [0.2222222222222222, \"#7201a8\"], [0.3333333333333333, \"#9c179e\"], [0.4444444444444444, \"#bd3786\"], [0.5555555555555556, \"#d8576b\"], [0.6666666666666666, \"#ed7953\"], [0.7777777777777778, \"#fb9f3a\"], [0.8888888888888888, \"#fdca26\"], [1.0, \"#f0f921\"]], \"type\": \"histogram2dcontour\"}], \"mesh3d\": [{\"colorbar\": {\"outlinewidth\": 0, \"ticks\": \"\"}, \"type\": \"mesh3d\"}], \"parcoords\": [{\"line\": {\"colorbar\": {\"outlinewidth\": 0, \"ticks\": \"\"}}, \"type\": \"parcoords\"}], \"pie\": [{\"automargin\": true, \"type\": \"pie\"}], \"scatter\": [{\"marker\": {\"colorbar\": {\"outlinewidth\": 0, \"ticks\": \"\"}}, \"type\": \"scatter\"}], \"scatter3d\": [{\"line\": {\"colorbar\": {\"outlinewidth\": 0, \"ticks\": \"\"}}, \"marker\": {\"colorbar\": {\"outlinewidth\": 0, \"ticks\": \"\"}}, \"type\": \"scatter3d\"}], \"scattercarpet\": [{\"marker\": {\"colorbar\": {\"outlinewidth\": 0, \"ticks\": \"\"}}, \"type\": \"scattercarpet\"}], \"scattergeo\": [{\"marker\": {\"colorbar\": {\"outlinewidth\": 0, \"ticks\": \"\"}}, \"type\": \"scattergeo\"}], \"scattergl\": [{\"marker\": {\"colorbar\": {\"outlinewidth\": 0, \"ticks\": \"\"}}, \"type\": \"scattergl\"}], \"scattermapbox\": [{\"marker\": {\"colorbar\": {\"outlinewidth\": 0, \"ticks\": \"\"}}, \"type\": \"scattermapbox\"}], \"scatterpolar\": [{\"marker\": {\"colorbar\": {\"outlinewidth\": 0, \"ticks\": \"\"}}, \"type\": \"scatterpolar\"}], \"scatterpolargl\": [{\"marker\": {\"colorbar\": {\"outlinewidth\": 0, \"ticks\": \"\"}}, \"type\": \"scatterpolargl\"}], \"scatterternary\": [{\"marker\": {\"colorbar\": {\"outlinewidth\": 0, \"ticks\": \"\"}}, \"type\": \"scatterternary\"}], \"surface\": [{\"colorbar\": {\"outlinewidth\": 0, \"ticks\": \"\"}, \"colorscale\": [[0.0, \"#0d0887\"], [0.1111111111111111, \"#46039f\"], [0.2222222222222222, \"#7201a8\"], [0.3333333333333333, \"#9c179e\"], [0.4444444444444444, \"#bd3786\"], [0.5555555555555556, \"#d8576b\"], [0.6666666666666666, \"#ed7953\"], [0.7777777777777778, \"#fb9f3a\"], [0.8888888888888888, \"#fdca26\"], [1.0, \"#f0f921\"]], \"type\": \"surface\"}], \"table\": [{\"cells\": {\"fill\": {\"color\": \"#EBF0F8\"}, \"line\": {\"color\": \"white\"}}, \"header\": {\"fill\": {\"color\": \"#C8D4E3\"}, \"line\": {\"color\": \"white\"}}, \"type\": \"table\"}]}, \"layout\": {\"annotationdefaults\": {\"arrowcolor\": \"#2a3f5f\", \"arrowhead\": 0, \"arrowwidth\": 1}, \"autotypenumbers\": \"strict\", \"coloraxis\": {\"colorbar\": {\"outlinewidth\": 0, \"ticks\": \"\"}}, \"colorscale\": {\"diverging\": [[0, \"#8e0152\"], [0.1, \"#c51b7d\"], [0.2, \"#de77ae\"], [0.3, \"#f1b6da\"], [0.4, \"#fde0ef\"], [0.5, \"#f7f7f7\"], [0.6, \"#e6f5d0\"], [0.7, \"#b8e186\"], [0.8, \"#7fbc41\"], [0.9, \"#4d9221\"], [1, \"#276419\"]], \"sequential\": [[0.0, \"#0d0887\"], [0.1111111111111111, \"#46039f\"], [0.2222222222222222, \"#7201a8\"], [0.3333333333333333, \"#9c179e\"], [0.4444444444444444, \"#bd3786\"], [0.5555555555555556, \"#d8576b\"], [0.6666666666666666, \"#ed7953\"], [0.7777777777777778, \"#fb9f3a\"], [0.8888888888888888, \"#fdca26\"], [1.0, \"#f0f921\"]], \"sequentialminus\": [[0.0, \"#0d0887\"], [0.1111111111111111, \"#46039f\"], [0.2222222222222222, \"#7201a8\"], [0.3333333333333333, \"#9c179e\"], [0.4444444444444444, \"#bd3786\"], [0.5555555555555556, \"#d8576b\"], [0.6666666666666666, \"#ed7953\"], [0.7777777777777778, \"#fb9f3a\"], [0.8888888888888888, \"#fdca26\"], [1.0, \"#f0f921\"]]}, \"colorway\": [\"#636efa\", \"#EF553B\", \"#00cc96\", \"#ab63fa\", \"#FFA15A\", \"#19d3f3\", \"#FF6692\", \"#B6E880\", \"#FF97FF\", \"#FECB52\"], \"font\": {\"color\": \"#2a3f5f\"}, \"geo\": {\"bgcolor\": \"white\", \"lakecolor\": \"white\", \"landcolor\": \"#E5ECF6\", \"showlakes\": true, \"showland\": true, \"subunitcolor\": \"white\"}, \"hoverlabel\": {\"align\": \"left\"}, \"hovermode\": \"closest\", \"mapbox\": {\"style\": \"light\"}, \"paper_bgcolor\": \"white\", \"plot_bgcolor\": \"#E5ECF6\", \"polar\": {\"angularaxis\": {\"gridcolor\": \"white\", \"linecolor\": \"white\", \"ticks\": \"\"}, \"bgcolor\": \"#E5ECF6\", \"radialaxis\": {\"gridcolor\": \"white\", \"linecolor\": \"white\", \"ticks\": \"\"}}, \"scene\": {\"xaxis\": {\"backgroundcolor\": \"#E5ECF6\", \"gridcolor\": \"white\", \"gridwidth\": 2, \"linecolor\": \"white\", \"showbackground\": true, \"ticks\": \"\", \"zerolinecolor\": \"white\"}, \"yaxis\": {\"backgroundcolor\": \"#E5ECF6\", \"gridcolor\": \"white\", \"gridwidth\": 2, \"linecolor\": \"white\", \"showbackground\": true, \"ticks\": \"\", \"zerolinecolor\": \"white\"}, \"zaxis\": {\"backgroundcolor\": \"#E5ECF6\", \"gridcolor\": \"white\", \"gridwidth\": 2, \"linecolor\": \"white\", \"showbackground\": true, \"ticks\": \"\", \"zerolinecolor\": \"white\"}}, \"shapedefaults\": {\"line\": {\"color\": \"#2a3f5f\"}}, \"ternary\": {\"aaxis\": {\"gridcolor\": \"white\", \"linecolor\": \"white\", \"ticks\": \"\"}, \"baxis\": {\"gridcolor\": \"white\", \"linecolor\": \"white\", \"ticks\": \"\"}, \"bgcolor\": \"#E5ECF6\", \"caxis\": {\"gridcolor\": \"white\", \"linecolor\": \"white\", \"ticks\": \"\"}}, \"title\": {\"x\": 0.05}, \"xaxis\": {\"automargin\": true, \"gridcolor\": \"white\", \"linecolor\": \"white\", \"ticks\": \"\", \"title\": {\"standoff\": 15}, \"zerolinecolor\": \"white\", \"zerolinewidth\": 2}, \"yaxis\": {\"automargin\": true, \"gridcolor\": \"white\", \"linecolor\": \"white\", \"ticks\": \"\", \"title\": {\"standoff\": 15}, \"zerolinecolor\": \"white\", \"zerolinewidth\": 2}}}, \"title\": {\"font\": {\"color\": \"#4D5663\"}}, \"xaxis\": {\"gridcolor\": \"#E1E5ED\", \"showgrid\": true, \"tickfont\": {\"color\": \"#4D5663\"}, \"title\": {\"font\": {\"color\": \"#4D5663\"}, \"text\": \"\"}, \"zerolinecolor\": \"#E1E5ED\"}, \"yaxis\": {\"gridcolor\": \"#E1E5ED\", \"showgrid\": true, \"tickfont\": {\"color\": \"#4D5663\"}, \"title\": {\"font\": {\"color\": \"#4D5663\"}, \"text\": \"\"}, \"zerolinecolor\": \"#E1E5ED\"}},                        {\"showLink\": true, \"linkText\": \"Export to plot.ly\", \"plotlyServerURL\": \"https://plot.ly\", \"responsive\": true}                    ).then(function(){\n",
       "                            \n",
       "var gd = document.getElementById('56497365-5f83-4438-ab27-4144aeb83437');\n",
       "var x = new MutationObserver(function (mutations, observer) {{\n",
       "        var display = window.getComputedStyle(gd).display;\n",
       "        if (!display || display === 'none') {{\n",
       "            console.log([gd, 'removed!']);\n",
       "            Plotly.purge(gd);\n",
       "            observer.disconnect();\n",
       "        }}\n",
       "}});\n",
       "\n",
       "// Listen for the removal of the full notebook cells\n",
       "var notebookContainer = gd.closest('#notebook-container');\n",
       "if (notebookContainer) {{\n",
       "    x.observe(notebookContainer, {childList: true});\n",
       "}}\n",
       "\n",
       "// Listen for the clearing of the current output cell\n",
       "var outputEl = gd.closest('.output');\n",
       "if (outputEl) {{\n",
       "    x.observe(outputEl, {childList: true});\n",
       "}}\n",
       "\n",
       "                        })                };                });            </script>        </div>"
      ]
     },
     "metadata": {},
     "output_type": "display_data"
    }
   ],
   "source": [
    "cf.datagen.sinwave(10, 0.25).iplot(kind = 'surface')"
   ]
  },
  {
   "cell_type": "code",
   "execution_count": 15,
   "metadata": {},
   "outputs": [
    {
     "data": {
      "application/vnd.plotly.v1+json": {
       "config": {
        "linkText": "Export to plot.ly",
        "plotlyServerURL": "https://plot.ly",
        "showLink": true
       },
       "data": [
        {
         "histfunc": "count",
         "histnorm": "",
         "marker": {
          "color": "rgba(255, 153, 51, 1.0)",
          "line": {
           "color": "#4D5663",
           "width": 1.3
          }
         },
         "name": "A",
         "nbinsx": 25,
         "opacity": 0.8,
         "orientation": "v",
         "type": "histogram",
         "x": [
          1.542980023140264,
          2.9121126238920843,
          2.454011953506909,
          0.908765453053461,
          1.4574101908432255,
          0.8303761640783085,
          0.7246273230580064,
          0.021672733436725267,
          1.3183372613934017,
          3.021938791328341,
          3.9647420315128565,
          3.6204699558480744,
          2.377368028184148,
          1.4006547723027196,
          0.41543286350584385,
          0.17038131170370602,
          0.6157163548733092,
          1.3323688636109412,
          1.3729260852351268,
          1.291341116641915,
          1.6925624117642668,
          1.820793030505737,
          -0.04888742642313626,
          -0.7322354696436995,
          0.7944202729613861,
          1.1810340292176587,
          0.7341149545905505,
          -0.2568553174252042,
          0.257314681153747,
          0.3414239991158074,
          1.8196734128565466,
          1.862236085325661,
          2.045849260259886,
          2.2085329039253816,
          2.3077156034037736,
          1.6354908388021943,
          1.0527453631924613,
          0.920076958601937,
          1.3797149474571184,
          0.41107253237159647,
          -1.081927103709963,
          -0.4094994800927654,
          1.127829763386621,
          1.8513891703312142,
          2.442071282302379,
          1.3580030844882387,
          2.443179464429334,
          1.9645403377444788,
          0.5295906964769015,
          1.4854484804442025,
          2.240398644146764,
          2.8350099991697126,
          2.908485764565109,
          3.0103489767920273,
          2.2703273860224717,
          1.6984972634058184,
          0.5695995676780039,
          1.2426341472445246,
          1.5087745594666107,
          2.6901866849875065,
          2.8436035842337697,
          1.7613750611424834,
          1.68549480744684,
          1.5762578535345844,
          3.3453879083393607,
          1.3910423120753033,
          1.1595448890776459,
          2.2319100206928786,
          3.2864129965684805,
          4.380875505443746,
          2.5808091129699013,
          4.017932205662488,
          4.676409433852359,
          5.497325333446527,
          5.358899042724595,
          4.238730210679977,
          2.987683855526822,
          5.14357406625513,
          6.070329747377492,
          7.872781768177811,
          8.17345792752811,
          8.976463264038737,
          7.990501905346166,
          8.726355380893503,
          8.784380406517345,
          9.826117342394497,
          10.690324863750199,
          10.487710712551877,
          11.765649169468062,
          10.652957601822967,
          11.303490142284323,
          11.982131717828743,
          10.733449574507839,
          11.23601181417773,
          12.730544951216954,
          12.713345198310188,
          11.242814210173176,
          9.689518786199336,
          9.558080842828387,
          10.076733977606022
         ]
        },
        {
         "histfunc": "count",
         "histnorm": "",
         "marker": {
          "color": "rgba(55, 128, 191, 1.0)",
          "line": {
           "color": "#4D5663",
           "width": 1.3
          }
         },
         "name": "B",
         "nbinsx": 25,
         "opacity": 0.8,
         "orientation": "v",
         "type": "histogram",
         "x": [
          -0.4428811762864958,
          0.29822345369864034,
          -0.5952288386378094,
          -2.034507695687309,
          -3.729295511297281,
          -4.258224937656923,
          -5.108507322724925,
          -5.4565589982759555,
          -5.627025146863357,
          -5.2712403185261145,
          -5.083124300772727,
          -5.953289945621008,
          -6.429939414374769,
          -6.778040755495077,
          -7.94020122168813,
          -7.801588263236083,
          -5.0899971411334395,
          -4.959070674394502,
          -5.84128118914688,
          -5.211620320031509,
          -5.741425182427913,
          -5.76158314114148,
          -6.899845909788783,
          -9.12220734855009,
          -10.028710020246836,
          -10.244160572875261,
          -9.058257730538717,
          -10.236744309939356,
          -8.059668699547988,
          -7.809162986620623,
          -7.045415487020248,
          -7.112055457896206,
          -7.838750037258132,
          -7.9505241045272825,
          -7.860791100515085,
          -6.542062034854261,
          -6.5239263167106465,
          -4.971458833309432,
          -6.85909597542967,
          -6.910032398354851,
          -6.4687513139683706,
          -9.351094552508306,
          -8.331624194489072,
          -7.876512881657529,
          -9.306162026027787,
          -9.038441543413084,
          -9.719991880275755,
          -10.415222935689002,
          -9.30613756259337,
          -8.705829215021488,
          -9.793866079447131,
          -9.984818160221486,
          -9.362596752618215,
          -11.098925746401692,
          -12.771870011796683,
          -13.014100939130564,
          -11.30824863947166,
          -10.69011463558419,
          -11.804236783467637,
          -11.819092962755489,
          -12.209836005911676,
          -12.025072474783196,
          -12.865102724368485,
          -13.41185042758949,
          -13.603903864076267,
          -13.18730531246155,
          -12.973529905348821,
          -14.742676785651007,
          -15.029331460944103,
          -13.830680422579489,
          -14.86841647574916,
          -16.802152331954705,
          -14.621481355905253,
          -14.661305937800105,
          -14.515690337096453,
          -14.590876174950951,
          -12.147310600913263,
          -9.529113362260667,
          -8.261684221974896,
          -7.651146368576259,
          -7.766322630950659,
          -7.98983513386136,
          -5.72422795458116,
          -5.30667816400375,
          -5.701478140241028,
          -5.470470635555021,
          -5.901864109150294,
          -5.857571970487069,
          -7.7073405212827515,
          -7.908495459669848,
          -8.072304317430604,
          -9.425148987511903,
          -10.799759359354407,
          -11.164150641610002,
          -9.407581441798797,
          -9.020272199299644,
          -9.186677697618014,
          -9.453020738239394,
          -9.075864427037509,
          -9.8447450152549
         ]
        },
        {
         "histfunc": "count",
         "histnorm": "",
         "marker": {
          "color": "rgba(50, 171, 96, 1.0)",
          "line": {
           "color": "#4D5663",
           "width": 1.3
          }
         },
         "name": "C",
         "nbinsx": 25,
         "opacity": 0.8,
         "orientation": "v",
         "type": "histogram",
         "x": [
          -1.0941751258189,
          -1.6398565983853923,
          -0.3097459127089046,
          0.2568652779629397,
          0.6822943534761479,
          0.5404638844671197,
          0.5479361923860127,
          0.7279049825639428,
          2.4348186728796533,
          0.45586485657322817,
          -0.3368797975019673,
          1.4011151291094113,
          2.5429516148439824,
          2.526515062983038,
          2.9407863225884663,
          3.539944548760316,
          3.0997369390314176,
          2.1392920795740706,
          2.463940446336639,
          1.9914462597599756,
          3.57839603607095,
          4.7528968993035985,
          3.315080058012094,
          3.1270007889556264,
          3.4252817203394317,
          3.7786166907472225,
          3.4724019419452983,
          5.329829430114989,
          5.514728560824847,
          5.137782249783837,
          5.637976874502041,
          6.318607413792849,
          6.051635425211821,
          5.159891576657999,
          5.760170491309222,
          7.152794387404979,
          7.926855237239302,
          8.38992695770623,
          8.00856718334012,
          7.25337511393975,
          8.31493908272574,
          7.645101925231108,
          7.499990157781299,
          6.217522902511577,
          6.1373377053420715,
          5.877125694475353,
          4.367217160938573,
          3.595801970127563,
          2.911361858315897,
          4.117939105223753,
          5.357554089067348,
          4.727916543660479,
          6.286761477362538,
          6.35724721473352,
          8.687105545591272,
          9.559671810970059,
          9.470510850153005,
          9.991706213903216,
          10.249246046886732,
          11.222961111842855,
          12.546478102796264,
          13.11194797797581,
          11.624145543588952,
          8.680869494700676,
          8.60746540812565,
          8.781804048143858,
          8.99198843202463,
          8.685907689830797,
          7.588785103149131,
          7.629267073433976,
          7.804107538478641,
          8.344014515230839,
          8.666300731489182,
          9.269896534670274,
          8.728528949779365,
          8.056663013476358,
          7.163467332365721,
          7.930081955061301,
          8.76695390237712,
          6.9340133784721605,
          6.732997119040566,
          6.799595830933435,
          5.457004218942103,
          6.91708213976084,
          8.097749314922186,
          10.258184128740826,
          10.977073824173095,
          10.938144194373356,
          12.262148025783633,
          12.542948813926058,
          12.108022825195025,
          12.053694186173844,
          11.60701152332701,
          10.558950588201805,
          9.294838090594412,
          8.63151488006503,
          8.072455601862519,
          8.559325621260857,
          9.659396494184433,
          9.34543167047276
         ]
        }
       ],
       "layout": {
        "bargap": 0.5,
        "barmode": "overlay",
        "legend": {
         "bgcolor": "#F5F6F9",
         "font": {
          "color": "#4D5663"
         }
        },
        "paper_bgcolor": "#F5F6F9",
        "plot_bgcolor": "#F5F6F9",
        "template": {
         "data": {
          "bar": [
           {
            "error_x": {
             "color": "#2a3f5f"
            },
            "error_y": {
             "color": "#2a3f5f"
            },
            "marker": {
             "line": {
              "color": "#E5ECF6",
              "width": 0.5
             }
            },
            "type": "bar"
           }
          ],
          "barpolar": [
           {
            "marker": {
             "line": {
              "color": "#E5ECF6",
              "width": 0.5
             }
            },
            "type": "barpolar"
           }
          ],
          "carpet": [
           {
            "aaxis": {
             "endlinecolor": "#2a3f5f",
             "gridcolor": "white",
             "linecolor": "white",
             "minorgridcolor": "white",
             "startlinecolor": "#2a3f5f"
            },
            "baxis": {
             "endlinecolor": "#2a3f5f",
             "gridcolor": "white",
             "linecolor": "white",
             "minorgridcolor": "white",
             "startlinecolor": "#2a3f5f"
            },
            "type": "carpet"
           }
          ],
          "choropleth": [
           {
            "colorbar": {
             "outlinewidth": 0,
             "ticks": ""
            },
            "type": "choropleth"
           }
          ],
          "contour": [
           {
            "colorbar": {
             "outlinewidth": 0,
             "ticks": ""
            },
            "colorscale": [
             [
              0,
              "#0d0887"
             ],
             [
              0.1111111111111111,
              "#46039f"
             ],
             [
              0.2222222222222222,
              "#7201a8"
             ],
             [
              0.3333333333333333,
              "#9c179e"
             ],
             [
              0.4444444444444444,
              "#bd3786"
             ],
             [
              0.5555555555555556,
              "#d8576b"
             ],
             [
              0.6666666666666666,
              "#ed7953"
             ],
             [
              0.7777777777777778,
              "#fb9f3a"
             ],
             [
              0.8888888888888888,
              "#fdca26"
             ],
             [
              1,
              "#f0f921"
             ]
            ],
            "type": "contour"
           }
          ],
          "contourcarpet": [
           {
            "colorbar": {
             "outlinewidth": 0,
             "ticks": ""
            },
            "type": "contourcarpet"
           }
          ],
          "heatmap": [
           {
            "colorbar": {
             "outlinewidth": 0,
             "ticks": ""
            },
            "colorscale": [
             [
              0,
              "#0d0887"
             ],
             [
              0.1111111111111111,
              "#46039f"
             ],
             [
              0.2222222222222222,
              "#7201a8"
             ],
             [
              0.3333333333333333,
              "#9c179e"
             ],
             [
              0.4444444444444444,
              "#bd3786"
             ],
             [
              0.5555555555555556,
              "#d8576b"
             ],
             [
              0.6666666666666666,
              "#ed7953"
             ],
             [
              0.7777777777777778,
              "#fb9f3a"
             ],
             [
              0.8888888888888888,
              "#fdca26"
             ],
             [
              1,
              "#f0f921"
             ]
            ],
            "type": "heatmap"
           }
          ],
          "heatmapgl": [
           {
            "colorbar": {
             "outlinewidth": 0,
             "ticks": ""
            },
            "colorscale": [
             [
              0,
              "#0d0887"
             ],
             [
              0.1111111111111111,
              "#46039f"
             ],
             [
              0.2222222222222222,
              "#7201a8"
             ],
             [
              0.3333333333333333,
              "#9c179e"
             ],
             [
              0.4444444444444444,
              "#bd3786"
             ],
             [
              0.5555555555555556,
              "#d8576b"
             ],
             [
              0.6666666666666666,
              "#ed7953"
             ],
             [
              0.7777777777777778,
              "#fb9f3a"
             ],
             [
              0.8888888888888888,
              "#fdca26"
             ],
             [
              1,
              "#f0f921"
             ]
            ],
            "type": "heatmapgl"
           }
          ],
          "histogram": [
           {
            "marker": {
             "colorbar": {
              "outlinewidth": 0,
              "ticks": ""
             }
            },
            "type": "histogram"
           }
          ],
          "histogram2d": [
           {
            "colorbar": {
             "outlinewidth": 0,
             "ticks": ""
            },
            "colorscale": [
             [
              0,
              "#0d0887"
             ],
             [
              0.1111111111111111,
              "#46039f"
             ],
             [
              0.2222222222222222,
              "#7201a8"
             ],
             [
              0.3333333333333333,
              "#9c179e"
             ],
             [
              0.4444444444444444,
              "#bd3786"
             ],
             [
              0.5555555555555556,
              "#d8576b"
             ],
             [
              0.6666666666666666,
              "#ed7953"
             ],
             [
              0.7777777777777778,
              "#fb9f3a"
             ],
             [
              0.8888888888888888,
              "#fdca26"
             ],
             [
              1,
              "#f0f921"
             ]
            ],
            "type": "histogram2d"
           }
          ],
          "histogram2dcontour": [
           {
            "colorbar": {
             "outlinewidth": 0,
             "ticks": ""
            },
            "colorscale": [
             [
              0,
              "#0d0887"
             ],
             [
              0.1111111111111111,
              "#46039f"
             ],
             [
              0.2222222222222222,
              "#7201a8"
             ],
             [
              0.3333333333333333,
              "#9c179e"
             ],
             [
              0.4444444444444444,
              "#bd3786"
             ],
             [
              0.5555555555555556,
              "#d8576b"
             ],
             [
              0.6666666666666666,
              "#ed7953"
             ],
             [
              0.7777777777777778,
              "#fb9f3a"
             ],
             [
              0.8888888888888888,
              "#fdca26"
             ],
             [
              1,
              "#f0f921"
             ]
            ],
            "type": "histogram2dcontour"
           }
          ],
          "mesh3d": [
           {
            "colorbar": {
             "outlinewidth": 0,
             "ticks": ""
            },
            "type": "mesh3d"
           }
          ],
          "parcoords": [
           {
            "line": {
             "colorbar": {
              "outlinewidth": 0,
              "ticks": ""
             }
            },
            "type": "parcoords"
           }
          ],
          "pie": [
           {
            "automargin": true,
            "type": "pie"
           }
          ],
          "scatter": [
           {
            "marker": {
             "colorbar": {
              "outlinewidth": 0,
              "ticks": ""
             }
            },
            "type": "scatter"
           }
          ],
          "scatter3d": [
           {
            "line": {
             "colorbar": {
              "outlinewidth": 0,
              "ticks": ""
             }
            },
            "marker": {
             "colorbar": {
              "outlinewidth": 0,
              "ticks": ""
             }
            },
            "type": "scatter3d"
           }
          ],
          "scattercarpet": [
           {
            "marker": {
             "colorbar": {
              "outlinewidth": 0,
              "ticks": ""
             }
            },
            "type": "scattercarpet"
           }
          ],
          "scattergeo": [
           {
            "marker": {
             "colorbar": {
              "outlinewidth": 0,
              "ticks": ""
             }
            },
            "type": "scattergeo"
           }
          ],
          "scattergl": [
           {
            "marker": {
             "colorbar": {
              "outlinewidth": 0,
              "ticks": ""
             }
            },
            "type": "scattergl"
           }
          ],
          "scattermapbox": [
           {
            "marker": {
             "colorbar": {
              "outlinewidth": 0,
              "ticks": ""
             }
            },
            "type": "scattermapbox"
           }
          ],
          "scatterpolar": [
           {
            "marker": {
             "colorbar": {
              "outlinewidth": 0,
              "ticks": ""
             }
            },
            "type": "scatterpolar"
           }
          ],
          "scatterpolargl": [
           {
            "marker": {
             "colorbar": {
              "outlinewidth": 0,
              "ticks": ""
             }
            },
            "type": "scatterpolargl"
           }
          ],
          "scatterternary": [
           {
            "marker": {
             "colorbar": {
              "outlinewidth": 0,
              "ticks": ""
             }
            },
            "type": "scatterternary"
           }
          ],
          "surface": [
           {
            "colorbar": {
             "outlinewidth": 0,
             "ticks": ""
            },
            "colorscale": [
             [
              0,
              "#0d0887"
             ],
             [
              0.1111111111111111,
              "#46039f"
             ],
             [
              0.2222222222222222,
              "#7201a8"
             ],
             [
              0.3333333333333333,
              "#9c179e"
             ],
             [
              0.4444444444444444,
              "#bd3786"
             ],
             [
              0.5555555555555556,
              "#d8576b"
             ],
             [
              0.6666666666666666,
              "#ed7953"
             ],
             [
              0.7777777777777778,
              "#fb9f3a"
             ],
             [
              0.8888888888888888,
              "#fdca26"
             ],
             [
              1,
              "#f0f921"
             ]
            ],
            "type": "surface"
           }
          ],
          "table": [
           {
            "cells": {
             "fill": {
              "color": "#EBF0F8"
             },
             "line": {
              "color": "white"
             }
            },
            "header": {
             "fill": {
              "color": "#C8D4E3"
             },
             "line": {
              "color": "white"
             }
            },
            "type": "table"
           }
          ]
         },
         "layout": {
          "annotationdefaults": {
           "arrowcolor": "#2a3f5f",
           "arrowhead": 0,
           "arrowwidth": 1
          },
          "autotypenumbers": "strict",
          "coloraxis": {
           "colorbar": {
            "outlinewidth": 0,
            "ticks": ""
           }
          },
          "colorscale": {
           "diverging": [
            [
             0,
             "#8e0152"
            ],
            [
             0.1,
             "#c51b7d"
            ],
            [
             0.2,
             "#de77ae"
            ],
            [
             0.3,
             "#f1b6da"
            ],
            [
             0.4,
             "#fde0ef"
            ],
            [
             0.5,
             "#f7f7f7"
            ],
            [
             0.6,
             "#e6f5d0"
            ],
            [
             0.7,
             "#b8e186"
            ],
            [
             0.8,
             "#7fbc41"
            ],
            [
             0.9,
             "#4d9221"
            ],
            [
             1,
             "#276419"
            ]
           ],
           "sequential": [
            [
             0,
             "#0d0887"
            ],
            [
             0.1111111111111111,
             "#46039f"
            ],
            [
             0.2222222222222222,
             "#7201a8"
            ],
            [
             0.3333333333333333,
             "#9c179e"
            ],
            [
             0.4444444444444444,
             "#bd3786"
            ],
            [
             0.5555555555555556,
             "#d8576b"
            ],
            [
             0.6666666666666666,
             "#ed7953"
            ],
            [
             0.7777777777777778,
             "#fb9f3a"
            ],
            [
             0.8888888888888888,
             "#fdca26"
            ],
            [
             1,
             "#f0f921"
            ]
           ],
           "sequentialminus": [
            [
             0,
             "#0d0887"
            ],
            [
             0.1111111111111111,
             "#46039f"
            ],
            [
             0.2222222222222222,
             "#7201a8"
            ],
            [
             0.3333333333333333,
             "#9c179e"
            ],
            [
             0.4444444444444444,
             "#bd3786"
            ],
            [
             0.5555555555555556,
             "#d8576b"
            ],
            [
             0.6666666666666666,
             "#ed7953"
            ],
            [
             0.7777777777777778,
             "#fb9f3a"
            ],
            [
             0.8888888888888888,
             "#fdca26"
            ],
            [
             1,
             "#f0f921"
            ]
           ]
          },
          "colorway": [
           "#636efa",
           "#EF553B",
           "#00cc96",
           "#ab63fa",
           "#FFA15A",
           "#19d3f3",
           "#FF6692",
           "#B6E880",
           "#FF97FF",
           "#FECB52"
          ],
          "font": {
           "color": "#2a3f5f"
          },
          "geo": {
           "bgcolor": "white",
           "lakecolor": "white",
           "landcolor": "#E5ECF6",
           "showlakes": true,
           "showland": true,
           "subunitcolor": "white"
          },
          "hoverlabel": {
           "align": "left"
          },
          "hovermode": "closest",
          "mapbox": {
           "style": "light"
          },
          "paper_bgcolor": "white",
          "plot_bgcolor": "#E5ECF6",
          "polar": {
           "angularaxis": {
            "gridcolor": "white",
            "linecolor": "white",
            "ticks": ""
           },
           "bgcolor": "#E5ECF6",
           "radialaxis": {
            "gridcolor": "white",
            "linecolor": "white",
            "ticks": ""
           }
          },
          "scene": {
           "xaxis": {
            "backgroundcolor": "#E5ECF6",
            "gridcolor": "white",
            "gridwidth": 2,
            "linecolor": "white",
            "showbackground": true,
            "ticks": "",
            "zerolinecolor": "white"
           },
           "yaxis": {
            "backgroundcolor": "#E5ECF6",
            "gridcolor": "white",
            "gridwidth": 2,
            "linecolor": "white",
            "showbackground": true,
            "ticks": "",
            "zerolinecolor": "white"
           },
           "zaxis": {
            "backgroundcolor": "#E5ECF6",
            "gridcolor": "white",
            "gridwidth": 2,
            "linecolor": "white",
            "showbackground": true,
            "ticks": "",
            "zerolinecolor": "white"
           }
          },
          "shapedefaults": {
           "line": {
            "color": "#2a3f5f"
           }
          },
          "ternary": {
           "aaxis": {
            "gridcolor": "white",
            "linecolor": "white",
            "ticks": ""
           },
           "baxis": {
            "gridcolor": "white",
            "linecolor": "white",
            "ticks": ""
           },
           "bgcolor": "#E5ECF6",
           "caxis": {
            "gridcolor": "white",
            "linecolor": "white",
            "ticks": ""
           }
          },
          "title": {
           "x": 0.05
          },
          "xaxis": {
           "automargin": true,
           "gridcolor": "white",
           "linecolor": "white",
           "ticks": "",
           "title": {
            "standoff": 15
           },
           "zerolinecolor": "white",
           "zerolinewidth": 2
          },
          "yaxis": {
           "automargin": true,
           "gridcolor": "white",
           "linecolor": "white",
           "ticks": "",
           "title": {
            "standoff": 15
           },
           "zerolinecolor": "white",
           "zerolinewidth": 2
          }
         }
        },
        "title": {
         "font": {
          "color": "#4D5663"
         }
        },
        "xaxis": {
         "gridcolor": "#E1E5ED",
         "showgrid": true,
         "tickfont": {
          "color": "#4D5663"
         },
         "title": {
          "font": {
           "color": "#4D5663"
          },
          "text": ""
         },
         "zerolinecolor": "#E1E5ED"
        },
        "yaxis": {
         "gridcolor": "#E1E5ED",
         "showgrid": true,
         "tickfont": {
          "color": "#4D5663"
         },
         "title": {
          "font": {
           "color": "#4D5663"
          },
          "text": ""
         },
         "zerolinecolor": "#E1E5ED"
        }
       }
      },
      "text/html": [
       "<div>                            <div id=\"76a72289-cf21-4d85-94a7-0a8a9c803312\" class=\"plotly-graph-div\" style=\"height:525px; width:100%;\"></div>            <script type=\"text/javascript\">                require([\"plotly\"], function(Plotly) {                    window.PLOTLYENV=window.PLOTLYENV || {};\n",
       "                    window.PLOTLYENV.BASE_URL='https://plot.ly';                                    if (document.getElementById(\"76a72289-cf21-4d85-94a7-0a8a9c803312\")) {                    Plotly.newPlot(                        \"76a72289-cf21-4d85-94a7-0a8a9c803312\",                        [{\"histfunc\": \"count\", \"histnorm\": \"\", \"marker\": {\"color\": \"rgba(255, 153, 51, 1.0)\", \"line\": {\"color\": \"#4D5663\", \"width\": 1.3}}, \"name\": \"A\", \"nbinsx\": 25, \"opacity\": 0.8, \"orientation\": \"v\", \"type\": \"histogram\", \"x\": [1.542980023140264, 2.9121126238920843, 2.454011953506909, 0.908765453053461, 1.4574101908432255, 0.8303761640783085, 0.7246273230580064, 0.021672733436725267, 1.3183372613934017, 3.021938791328341, 3.9647420315128565, 3.6204699558480744, 2.377368028184148, 1.4006547723027196, 0.41543286350584385, 0.17038131170370602, 0.6157163548733092, 1.3323688636109412, 1.3729260852351268, 1.291341116641915, 1.6925624117642668, 1.820793030505737, -0.04888742642313626, -0.7322354696436995, 0.7944202729613861, 1.1810340292176587, 0.7341149545905505, -0.2568553174252042, 0.257314681153747, 0.3414239991158074, 1.8196734128565466, 1.862236085325661, 2.045849260259886, 2.2085329039253816, 2.3077156034037736, 1.6354908388021943, 1.0527453631924613, 0.920076958601937, 1.3797149474571184, 0.41107253237159647, -1.081927103709963, -0.4094994800927654, 1.127829763386621, 1.8513891703312142, 2.442071282302379, 1.3580030844882387, 2.443179464429334, 1.9645403377444788, 0.5295906964769015, 1.4854484804442025, 2.240398644146764, 2.8350099991697126, 2.908485764565109, 3.0103489767920273, 2.2703273860224717, 1.6984972634058184, 0.5695995676780039, 1.2426341472445246, 1.5087745594666107, 2.6901866849875065, 2.8436035842337697, 1.7613750611424834, 1.68549480744684, 1.5762578535345844, 3.3453879083393607, 1.3910423120753033, 1.1595448890776459, 2.2319100206928786, 3.2864129965684805, 4.380875505443746, 2.5808091129699013, 4.017932205662488, 4.676409433852359, 5.497325333446527, 5.358899042724595, 4.238730210679977, 2.987683855526822, 5.14357406625513, 6.070329747377492, 7.872781768177811, 8.17345792752811, 8.976463264038737, 7.990501905346166, 8.726355380893503, 8.784380406517345, 9.826117342394497, 10.690324863750199, 10.487710712551877, 11.765649169468062, 10.652957601822967, 11.303490142284323, 11.982131717828743, 10.733449574507839, 11.23601181417773, 12.730544951216954, 12.713345198310188, 11.242814210173176, 9.689518786199336, 9.558080842828387, 10.076733977606022]}, {\"histfunc\": \"count\", \"histnorm\": \"\", \"marker\": {\"color\": \"rgba(55, 128, 191, 1.0)\", \"line\": {\"color\": \"#4D5663\", \"width\": 1.3}}, \"name\": \"B\", \"nbinsx\": 25, \"opacity\": 0.8, \"orientation\": \"v\", \"type\": \"histogram\", \"x\": [-0.4428811762864958, 0.29822345369864034, -0.5952288386378094, -2.034507695687309, -3.729295511297281, -4.258224937656923, -5.108507322724925, -5.4565589982759555, -5.627025146863357, -5.2712403185261145, -5.083124300772727, -5.953289945621008, -6.429939414374769, -6.778040755495077, -7.94020122168813, -7.801588263236083, -5.0899971411334395, -4.959070674394502, -5.84128118914688, -5.211620320031509, -5.741425182427913, -5.76158314114148, -6.899845909788783, -9.12220734855009, -10.028710020246836, -10.244160572875261, -9.058257730538717, -10.236744309939356, -8.059668699547988, -7.809162986620623, -7.045415487020248, -7.112055457896206, -7.838750037258132, -7.9505241045272825, -7.860791100515085, -6.542062034854261, -6.5239263167106465, -4.971458833309432, -6.85909597542967, -6.910032398354851, -6.4687513139683706, -9.351094552508306, -8.331624194489072, -7.876512881657529, -9.306162026027787, -9.038441543413084, -9.719991880275755, -10.415222935689002, -9.30613756259337, -8.705829215021488, -9.793866079447131, -9.984818160221486, -9.362596752618215, -11.098925746401692, -12.771870011796683, -13.014100939130564, -11.30824863947166, -10.69011463558419, -11.804236783467637, -11.819092962755489, -12.209836005911676, -12.025072474783196, -12.865102724368485, -13.41185042758949, -13.603903864076267, -13.18730531246155, -12.973529905348821, -14.742676785651007, -15.029331460944103, -13.830680422579489, -14.86841647574916, -16.802152331954705, -14.621481355905253, -14.661305937800105, -14.515690337096453, -14.590876174950951, -12.147310600913263, -9.529113362260667, -8.261684221974896, -7.651146368576259, -7.766322630950659, -7.98983513386136, -5.72422795458116, -5.30667816400375, -5.701478140241028, -5.470470635555021, -5.901864109150294, -5.857571970487069, -7.7073405212827515, -7.908495459669848, -8.072304317430604, -9.425148987511903, -10.799759359354407, -11.164150641610002, -9.407581441798797, -9.020272199299644, -9.186677697618014, -9.453020738239394, -9.075864427037509, -9.8447450152549]}, {\"histfunc\": \"count\", \"histnorm\": \"\", \"marker\": {\"color\": \"rgba(50, 171, 96, 1.0)\", \"line\": {\"color\": \"#4D5663\", \"width\": 1.3}}, \"name\": \"C\", \"nbinsx\": 25, \"opacity\": 0.8, \"orientation\": \"v\", \"type\": \"histogram\", \"x\": [-1.0941751258189, -1.6398565983853923, -0.3097459127089046, 0.2568652779629397, 0.6822943534761479, 0.5404638844671197, 0.5479361923860127, 0.7279049825639428, 2.4348186728796533, 0.45586485657322817, -0.3368797975019673, 1.4011151291094113, 2.5429516148439824, 2.526515062983038, 2.9407863225884663, 3.539944548760316, 3.0997369390314176, 2.1392920795740706, 2.463940446336639, 1.9914462597599756, 3.57839603607095, 4.7528968993035985, 3.315080058012094, 3.1270007889556264, 3.4252817203394317, 3.7786166907472225, 3.4724019419452983, 5.329829430114989, 5.514728560824847, 5.137782249783837, 5.637976874502041, 6.318607413792849, 6.051635425211821, 5.159891576657999, 5.760170491309222, 7.152794387404979, 7.926855237239302, 8.38992695770623, 8.00856718334012, 7.25337511393975, 8.31493908272574, 7.645101925231108, 7.499990157781299, 6.217522902511577, 6.1373377053420715, 5.877125694475353, 4.367217160938573, 3.595801970127563, 2.911361858315897, 4.117939105223753, 5.357554089067348, 4.727916543660479, 6.286761477362538, 6.35724721473352, 8.687105545591272, 9.559671810970059, 9.470510850153005, 9.991706213903216, 10.249246046886732, 11.222961111842855, 12.546478102796264, 13.11194797797581, 11.624145543588952, 8.680869494700676, 8.60746540812565, 8.781804048143858, 8.99198843202463, 8.685907689830797, 7.588785103149131, 7.629267073433976, 7.804107538478641, 8.344014515230839, 8.666300731489182, 9.269896534670274, 8.728528949779365, 8.056663013476358, 7.163467332365721, 7.930081955061301, 8.76695390237712, 6.9340133784721605, 6.732997119040566, 6.799595830933435, 5.457004218942103, 6.91708213976084, 8.097749314922186, 10.258184128740826, 10.977073824173095, 10.938144194373356, 12.262148025783633, 12.542948813926058, 12.108022825195025, 12.053694186173844, 11.60701152332701, 10.558950588201805, 9.294838090594412, 8.63151488006503, 8.072455601862519, 8.559325621260857, 9.659396494184433, 9.34543167047276]}],                        {\"bargap\": 0.5, \"barmode\": \"overlay\", \"legend\": {\"bgcolor\": \"#F5F6F9\", \"font\": {\"color\": \"#4D5663\"}}, \"paper_bgcolor\": \"#F5F6F9\", \"plot_bgcolor\": \"#F5F6F9\", \"template\": {\"data\": {\"bar\": [{\"error_x\": {\"color\": \"#2a3f5f\"}, \"error_y\": {\"color\": \"#2a3f5f\"}, \"marker\": {\"line\": {\"color\": \"#E5ECF6\", \"width\": 0.5}}, \"type\": \"bar\"}], \"barpolar\": [{\"marker\": {\"line\": {\"color\": \"#E5ECF6\", \"width\": 0.5}}, \"type\": \"barpolar\"}], \"carpet\": [{\"aaxis\": {\"endlinecolor\": \"#2a3f5f\", \"gridcolor\": \"white\", \"linecolor\": \"white\", \"minorgridcolor\": \"white\", \"startlinecolor\": \"#2a3f5f\"}, \"baxis\": {\"endlinecolor\": \"#2a3f5f\", \"gridcolor\": \"white\", \"linecolor\": \"white\", \"minorgridcolor\": \"white\", \"startlinecolor\": \"#2a3f5f\"}, \"type\": \"carpet\"}], \"choropleth\": [{\"colorbar\": {\"outlinewidth\": 0, \"ticks\": \"\"}, \"type\": \"choropleth\"}], \"contour\": [{\"colorbar\": {\"outlinewidth\": 0, \"ticks\": \"\"}, \"colorscale\": [[0.0, \"#0d0887\"], [0.1111111111111111, \"#46039f\"], [0.2222222222222222, \"#7201a8\"], [0.3333333333333333, \"#9c179e\"], [0.4444444444444444, \"#bd3786\"], [0.5555555555555556, \"#d8576b\"], [0.6666666666666666, \"#ed7953\"], [0.7777777777777778, \"#fb9f3a\"], [0.8888888888888888, \"#fdca26\"], [1.0, \"#f0f921\"]], \"type\": \"contour\"}], \"contourcarpet\": [{\"colorbar\": {\"outlinewidth\": 0, \"ticks\": \"\"}, \"type\": \"contourcarpet\"}], \"heatmap\": [{\"colorbar\": {\"outlinewidth\": 0, \"ticks\": \"\"}, \"colorscale\": [[0.0, \"#0d0887\"], [0.1111111111111111, \"#46039f\"], [0.2222222222222222, \"#7201a8\"], [0.3333333333333333, \"#9c179e\"], [0.4444444444444444, \"#bd3786\"], [0.5555555555555556, \"#d8576b\"], [0.6666666666666666, \"#ed7953\"], [0.7777777777777778, \"#fb9f3a\"], [0.8888888888888888, \"#fdca26\"], [1.0, \"#f0f921\"]], \"type\": \"heatmap\"}], \"heatmapgl\": [{\"colorbar\": {\"outlinewidth\": 0, \"ticks\": \"\"}, \"colorscale\": [[0.0, \"#0d0887\"], [0.1111111111111111, \"#46039f\"], [0.2222222222222222, \"#7201a8\"], [0.3333333333333333, \"#9c179e\"], [0.4444444444444444, \"#bd3786\"], [0.5555555555555556, \"#d8576b\"], [0.6666666666666666, \"#ed7953\"], [0.7777777777777778, \"#fb9f3a\"], [0.8888888888888888, \"#fdca26\"], [1.0, \"#f0f921\"]], \"type\": \"heatmapgl\"}], \"histogram\": [{\"marker\": {\"colorbar\": {\"outlinewidth\": 0, \"ticks\": \"\"}}, \"type\": \"histogram\"}], \"histogram2d\": [{\"colorbar\": {\"outlinewidth\": 0, \"ticks\": \"\"}, \"colorscale\": [[0.0, \"#0d0887\"], [0.1111111111111111, \"#46039f\"], [0.2222222222222222, \"#7201a8\"], [0.3333333333333333, \"#9c179e\"], [0.4444444444444444, \"#bd3786\"], [0.5555555555555556, \"#d8576b\"], [0.6666666666666666, \"#ed7953\"], [0.7777777777777778, \"#fb9f3a\"], [0.8888888888888888, \"#fdca26\"], [1.0, \"#f0f921\"]], \"type\": \"histogram2d\"}], \"histogram2dcontour\": [{\"colorbar\": {\"outlinewidth\": 0, \"ticks\": \"\"}, \"colorscale\": [[0.0, \"#0d0887\"], [0.1111111111111111, \"#46039f\"], [0.2222222222222222, \"#7201a8\"], [0.3333333333333333, \"#9c179e\"], [0.4444444444444444, \"#bd3786\"], [0.5555555555555556, \"#d8576b\"], [0.6666666666666666, \"#ed7953\"], [0.7777777777777778, \"#fb9f3a\"], [0.8888888888888888, \"#fdca26\"], [1.0, \"#f0f921\"]], \"type\": \"histogram2dcontour\"}], \"mesh3d\": [{\"colorbar\": {\"outlinewidth\": 0, \"ticks\": \"\"}, \"type\": \"mesh3d\"}], \"parcoords\": [{\"line\": {\"colorbar\": {\"outlinewidth\": 0, \"ticks\": \"\"}}, \"type\": \"parcoords\"}], \"pie\": [{\"automargin\": true, \"type\": \"pie\"}], \"scatter\": [{\"marker\": {\"colorbar\": {\"outlinewidth\": 0, \"ticks\": \"\"}}, \"type\": \"scatter\"}], \"scatter3d\": [{\"line\": {\"colorbar\": {\"outlinewidth\": 0, \"ticks\": \"\"}}, \"marker\": {\"colorbar\": {\"outlinewidth\": 0, \"ticks\": \"\"}}, \"type\": \"scatter3d\"}], \"scattercarpet\": [{\"marker\": {\"colorbar\": {\"outlinewidth\": 0, \"ticks\": \"\"}}, \"type\": \"scattercarpet\"}], \"scattergeo\": [{\"marker\": {\"colorbar\": {\"outlinewidth\": 0, \"ticks\": \"\"}}, \"type\": \"scattergeo\"}], \"scattergl\": [{\"marker\": {\"colorbar\": {\"outlinewidth\": 0, \"ticks\": \"\"}}, \"type\": \"scattergl\"}], \"scattermapbox\": [{\"marker\": {\"colorbar\": {\"outlinewidth\": 0, \"ticks\": \"\"}}, \"type\": \"scattermapbox\"}], \"scatterpolar\": [{\"marker\": {\"colorbar\": {\"outlinewidth\": 0, \"ticks\": \"\"}}, \"type\": \"scatterpolar\"}], \"scatterpolargl\": [{\"marker\": {\"colorbar\": {\"outlinewidth\": 0, \"ticks\": \"\"}}, \"type\": \"scatterpolargl\"}], \"scatterternary\": [{\"marker\": {\"colorbar\": {\"outlinewidth\": 0, \"ticks\": \"\"}}, \"type\": \"scatterternary\"}], \"surface\": [{\"colorbar\": {\"outlinewidth\": 0, \"ticks\": \"\"}, \"colorscale\": [[0.0, \"#0d0887\"], [0.1111111111111111, \"#46039f\"], [0.2222222222222222, \"#7201a8\"], [0.3333333333333333, \"#9c179e\"], [0.4444444444444444, \"#bd3786\"], [0.5555555555555556, \"#d8576b\"], [0.6666666666666666, \"#ed7953\"], [0.7777777777777778, \"#fb9f3a\"], [0.8888888888888888, \"#fdca26\"], [1.0, \"#f0f921\"]], \"type\": \"surface\"}], \"table\": [{\"cells\": {\"fill\": {\"color\": \"#EBF0F8\"}, \"line\": {\"color\": \"white\"}}, \"header\": {\"fill\": {\"color\": \"#C8D4E3\"}, \"line\": {\"color\": \"white\"}}, \"type\": \"table\"}]}, \"layout\": {\"annotationdefaults\": {\"arrowcolor\": \"#2a3f5f\", \"arrowhead\": 0, \"arrowwidth\": 1}, \"autotypenumbers\": \"strict\", \"coloraxis\": {\"colorbar\": {\"outlinewidth\": 0, \"ticks\": \"\"}}, \"colorscale\": {\"diverging\": [[0, \"#8e0152\"], [0.1, \"#c51b7d\"], [0.2, \"#de77ae\"], [0.3, \"#f1b6da\"], [0.4, \"#fde0ef\"], [0.5, \"#f7f7f7\"], [0.6, \"#e6f5d0\"], [0.7, \"#b8e186\"], [0.8, \"#7fbc41\"], [0.9, \"#4d9221\"], [1, \"#276419\"]], \"sequential\": [[0.0, \"#0d0887\"], [0.1111111111111111, \"#46039f\"], [0.2222222222222222, \"#7201a8\"], [0.3333333333333333, \"#9c179e\"], [0.4444444444444444, \"#bd3786\"], [0.5555555555555556, \"#d8576b\"], [0.6666666666666666, \"#ed7953\"], [0.7777777777777778, \"#fb9f3a\"], [0.8888888888888888, \"#fdca26\"], [1.0, \"#f0f921\"]], \"sequentialminus\": [[0.0, \"#0d0887\"], [0.1111111111111111, \"#46039f\"], [0.2222222222222222, \"#7201a8\"], [0.3333333333333333, \"#9c179e\"], [0.4444444444444444, \"#bd3786\"], [0.5555555555555556, \"#d8576b\"], [0.6666666666666666, \"#ed7953\"], [0.7777777777777778, \"#fb9f3a\"], [0.8888888888888888, \"#fdca26\"], [1.0, \"#f0f921\"]]}, \"colorway\": [\"#636efa\", \"#EF553B\", \"#00cc96\", \"#ab63fa\", \"#FFA15A\", \"#19d3f3\", \"#FF6692\", \"#B6E880\", \"#FF97FF\", \"#FECB52\"], \"font\": {\"color\": \"#2a3f5f\"}, \"geo\": {\"bgcolor\": \"white\", \"lakecolor\": \"white\", \"landcolor\": \"#E5ECF6\", \"showlakes\": true, \"showland\": true, \"subunitcolor\": \"white\"}, \"hoverlabel\": {\"align\": \"left\"}, \"hovermode\": \"closest\", \"mapbox\": {\"style\": \"light\"}, \"paper_bgcolor\": \"white\", \"plot_bgcolor\": \"#E5ECF6\", \"polar\": {\"angularaxis\": {\"gridcolor\": \"white\", \"linecolor\": \"white\", \"ticks\": \"\"}, \"bgcolor\": \"#E5ECF6\", \"radialaxis\": {\"gridcolor\": \"white\", \"linecolor\": \"white\", \"ticks\": \"\"}}, \"scene\": {\"xaxis\": {\"backgroundcolor\": \"#E5ECF6\", \"gridcolor\": \"white\", \"gridwidth\": 2, \"linecolor\": \"white\", \"showbackground\": true, \"ticks\": \"\", \"zerolinecolor\": \"white\"}, \"yaxis\": {\"backgroundcolor\": \"#E5ECF6\", \"gridcolor\": \"white\", \"gridwidth\": 2, \"linecolor\": \"white\", \"showbackground\": true, \"ticks\": \"\", \"zerolinecolor\": \"white\"}, \"zaxis\": {\"backgroundcolor\": \"#E5ECF6\", \"gridcolor\": \"white\", \"gridwidth\": 2, \"linecolor\": \"white\", \"showbackground\": true, \"ticks\": \"\", \"zerolinecolor\": \"white\"}}, \"shapedefaults\": {\"line\": {\"color\": \"#2a3f5f\"}}, \"ternary\": {\"aaxis\": {\"gridcolor\": \"white\", \"linecolor\": \"white\", \"ticks\": \"\"}, \"baxis\": {\"gridcolor\": \"white\", \"linecolor\": \"white\", \"ticks\": \"\"}, \"bgcolor\": \"#E5ECF6\", \"caxis\": {\"gridcolor\": \"white\", \"linecolor\": \"white\", \"ticks\": \"\"}}, \"title\": {\"x\": 0.05}, \"xaxis\": {\"automargin\": true, \"gridcolor\": \"white\", \"linecolor\": \"white\", \"ticks\": \"\", \"title\": {\"standoff\": 15}, \"zerolinecolor\": \"white\", \"zerolinewidth\": 2}, \"yaxis\": {\"automargin\": true, \"gridcolor\": \"white\", \"linecolor\": \"white\", \"ticks\": \"\", \"title\": {\"standoff\": 15}, \"zerolinecolor\": \"white\", \"zerolinewidth\": 2}}}, \"title\": {\"font\": {\"color\": \"#4D5663\"}}, \"xaxis\": {\"gridcolor\": \"#E1E5ED\", \"showgrid\": true, \"tickfont\": {\"color\": \"#4D5663\"}, \"title\": {\"font\": {\"color\": \"#4D5663\"}, \"text\": \"\"}, \"zerolinecolor\": \"#E1E5ED\"}, \"yaxis\": {\"gridcolor\": \"#E1E5ED\", \"showgrid\": true, \"tickfont\": {\"color\": \"#4D5663\"}, \"title\": {\"font\": {\"color\": \"#4D5663\"}, \"text\": \"\"}, \"zerolinecolor\": \"#E1E5ED\"}},                        {\"showLink\": true, \"linkText\": \"Export to plot.ly\", \"plotlyServerURL\": \"https://plot.ly\", \"responsive\": true}                    ).then(function(){\n",
       "                            \n",
       "var gd = document.getElementById('76a72289-cf21-4d85-94a7-0a8a9c803312');\n",
       "var x = new MutationObserver(function (mutations, observer) {{\n",
       "        var display = window.getComputedStyle(gd).display;\n",
       "        if (!display || display === 'none') {{\n",
       "            console.log([gd, 'removed!']);\n",
       "            Plotly.purge(gd);\n",
       "            observer.disconnect();\n",
       "        }}\n",
       "}});\n",
       "\n",
       "// Listen for the removal of the full notebook cells\n",
       "var notebookContainer = gd.closest('#notebook-container');\n",
       "if (notebookContainer) {{\n",
       "    x.observe(notebookContainer, {childList: true});\n",
       "}}\n",
       "\n",
       "// Listen for the clearing of the current output cell\n",
       "var outputEl = gd.closest('.output');\n",
       "if (outputEl) {{\n",
       "    x.observe(outputEl, {childList: true});\n",
       "}}\n",
       "\n",
       "                        })                };                });            </script>        </div>"
      ]
     },
     "metadata": {},
     "output_type": "display_data"
    }
   ],
   "source": [
    "df.iplot(kind = 'hist', bins = 25, barmode = 'overlay', bargap = 0.5)"
   ]
  },
  {
   "cell_type": "code",
   "execution_count": 16,
   "metadata": {},
   "outputs": [
    {
     "name": "stderr",
     "output_type": "stream",
     "text": [
      "C:\\Users\\hp\\anaconda3\\lib\\site-packages\\cufflinks\\plotlytools.py:850: FutureWarning:\n",
      "\n",
      "The pandas.np module is deprecated and will be removed from pandas in a future version. Import numpy directly instead\n",
      "\n"
     ]
    },
    {
     "data": {
      "application/vnd.plotly.v1+json": {
       "config": {
        "linkText": "Export to plot.ly",
        "plotlyServerURL": "https://plot.ly",
        "showLink": true
       },
       "data": [
        {
         "line": {
          "color": "rgba(255, 153, 51, 1.0)",
          "dash": "solid",
          "shape": "linear",
          "width": 1.3
         },
         "mode": "lines",
         "name": "A",
         "text": "",
         "type": "scatter",
         "x": [
          0,
          1,
          2,
          3,
          4,
          5,
          6,
          7,
          8,
          9,
          10,
          11,
          12,
          13,
          14,
          15,
          16,
          17,
          18,
          19,
          20,
          21,
          22,
          23,
          24,
          25,
          26,
          27,
          28,
          29,
          30,
          31,
          32,
          33,
          34,
          35,
          36,
          37,
          38,
          39,
          40,
          41,
          42,
          43,
          44,
          45,
          46,
          47,
          48,
          49,
          50,
          51,
          52,
          53,
          54,
          55,
          56,
          57,
          58,
          59,
          60,
          61,
          62,
          63,
          64,
          65,
          66,
          67,
          68,
          69,
          70,
          71,
          72,
          73,
          74,
          75,
          76,
          77,
          78,
          79,
          80,
          81,
          82,
          83,
          84,
          85,
          86,
          87,
          88,
          89,
          90,
          91,
          92,
          93,
          94,
          95,
          96,
          97,
          98,
          99
         ],
         "y": [
          1.542980023140264,
          2.9121126238920843,
          2.454011953506909,
          0.908765453053461,
          1.4574101908432255,
          0.8303761640783085,
          0.7246273230580064,
          0.021672733436725267,
          1.3183372613934017,
          3.021938791328341,
          3.9647420315128565,
          3.6204699558480744,
          2.377368028184148,
          1.4006547723027196,
          0.41543286350584385,
          0.17038131170370602,
          0.6157163548733092,
          1.3323688636109412,
          1.3729260852351268,
          1.291341116641915,
          1.6925624117642668,
          1.820793030505737,
          -0.04888742642313626,
          -0.7322354696436995,
          0.7944202729613861,
          1.1810340292176587,
          0.7341149545905505,
          -0.2568553174252042,
          0.257314681153747,
          0.3414239991158074,
          1.8196734128565466,
          1.862236085325661,
          2.045849260259886,
          2.2085329039253816,
          2.3077156034037736,
          1.6354908388021943,
          1.0527453631924613,
          0.920076958601937,
          1.3797149474571184,
          0.41107253237159647,
          -1.081927103709963,
          -0.4094994800927654,
          1.127829763386621,
          1.8513891703312142,
          2.442071282302379,
          1.3580030844882387,
          2.443179464429334,
          1.9645403377444788,
          0.5295906964769015,
          1.4854484804442025,
          2.240398644146764,
          2.8350099991697126,
          2.908485764565109,
          3.0103489767920273,
          2.2703273860224717,
          1.6984972634058184,
          0.5695995676780039,
          1.2426341472445246,
          1.5087745594666107,
          2.6901866849875065,
          2.8436035842337697,
          1.7613750611424834,
          1.68549480744684,
          1.5762578535345844,
          3.3453879083393607,
          1.3910423120753033,
          1.1595448890776459,
          2.2319100206928786,
          3.2864129965684805,
          4.380875505443746,
          2.5808091129699013,
          4.017932205662488,
          4.676409433852359,
          5.497325333446527,
          5.358899042724595,
          4.238730210679977,
          2.987683855526822,
          5.14357406625513,
          6.070329747377492,
          7.872781768177811,
          8.17345792752811,
          8.976463264038737,
          7.990501905346166,
          8.726355380893503,
          8.784380406517345,
          9.826117342394497,
          10.690324863750199,
          10.487710712551877,
          11.765649169468062,
          10.652957601822967,
          11.303490142284323,
          11.982131717828743,
          10.733449574507839,
          11.23601181417773,
          12.730544951216954,
          12.713345198310188,
          11.242814210173176,
          9.689518786199336,
          9.558080842828387,
          10.076733977606022
         ]
        },
        {
         "line": {
          "color": "rgba(55, 128, 191, 1.0)",
          "dash": "solid",
          "shape": "linear",
          "width": 1.3
         },
         "mode": "lines",
         "name": "B",
         "text": "",
         "type": "scatter",
         "x": [
          0,
          1,
          2,
          3,
          4,
          5,
          6,
          7,
          8,
          9,
          10,
          11,
          12,
          13,
          14,
          15,
          16,
          17,
          18,
          19,
          20,
          21,
          22,
          23,
          24,
          25,
          26,
          27,
          28,
          29,
          30,
          31,
          32,
          33,
          34,
          35,
          36,
          37,
          38,
          39,
          40,
          41,
          42,
          43,
          44,
          45,
          46,
          47,
          48,
          49,
          50,
          51,
          52,
          53,
          54,
          55,
          56,
          57,
          58,
          59,
          60,
          61,
          62,
          63,
          64,
          65,
          66,
          67,
          68,
          69,
          70,
          71,
          72,
          73,
          74,
          75,
          76,
          77,
          78,
          79,
          80,
          81,
          82,
          83,
          84,
          85,
          86,
          87,
          88,
          89,
          90,
          91,
          92,
          93,
          94,
          95,
          96,
          97,
          98,
          99
         ],
         "y": [
          -0.4428811762864958,
          0.29822345369864034,
          -0.5952288386378094,
          -2.034507695687309,
          -3.729295511297281,
          -4.258224937656923,
          -5.108507322724925,
          -5.4565589982759555,
          -5.627025146863357,
          -5.2712403185261145,
          -5.083124300772727,
          -5.953289945621008,
          -6.429939414374769,
          -6.778040755495077,
          -7.94020122168813,
          -7.801588263236083,
          -5.0899971411334395,
          -4.959070674394502,
          -5.84128118914688,
          -5.211620320031509,
          -5.741425182427913,
          -5.76158314114148,
          -6.899845909788783,
          -9.12220734855009,
          -10.028710020246836,
          -10.244160572875261,
          -9.058257730538717,
          -10.236744309939356,
          -8.059668699547988,
          -7.809162986620623,
          -7.045415487020248,
          -7.112055457896206,
          -7.838750037258132,
          -7.9505241045272825,
          -7.860791100515085,
          -6.542062034854261,
          -6.5239263167106465,
          -4.971458833309432,
          -6.85909597542967,
          -6.910032398354851,
          -6.4687513139683706,
          -9.351094552508306,
          -8.331624194489072,
          -7.876512881657529,
          -9.306162026027787,
          -9.038441543413084,
          -9.719991880275755,
          -10.415222935689002,
          -9.30613756259337,
          -8.705829215021488,
          -9.793866079447131,
          -9.984818160221486,
          -9.362596752618215,
          -11.098925746401692,
          -12.771870011796683,
          -13.014100939130564,
          -11.30824863947166,
          -10.69011463558419,
          -11.804236783467637,
          -11.819092962755489,
          -12.209836005911676,
          -12.025072474783196,
          -12.865102724368485,
          -13.41185042758949,
          -13.603903864076267,
          -13.18730531246155,
          -12.973529905348821,
          -14.742676785651007,
          -15.029331460944103,
          -13.830680422579489,
          -14.86841647574916,
          -16.802152331954705,
          -14.621481355905253,
          -14.661305937800105,
          -14.515690337096453,
          -14.590876174950951,
          -12.147310600913263,
          -9.529113362260667,
          -8.261684221974896,
          -7.651146368576259,
          -7.766322630950659,
          -7.98983513386136,
          -5.72422795458116,
          -5.30667816400375,
          -5.701478140241028,
          -5.470470635555021,
          -5.901864109150294,
          -5.857571970487069,
          -7.7073405212827515,
          -7.908495459669848,
          -8.072304317430604,
          -9.425148987511903,
          -10.799759359354407,
          -11.164150641610002,
          -9.407581441798797,
          -9.020272199299644,
          -9.186677697618014,
          -9.453020738239394,
          -9.075864427037509,
          -9.8447450152549
         ]
        },
        {
         "line": {
          "color": "rgba(50, 171, 96, 1.0)",
          "dash": "solid",
          "shape": "linear",
          "width": 1.3
         },
         "mode": "lines",
         "name": "C",
         "text": "",
         "type": "scatter",
         "x": [
          0,
          1,
          2,
          3,
          4,
          5,
          6,
          7,
          8,
          9,
          10,
          11,
          12,
          13,
          14,
          15,
          16,
          17,
          18,
          19,
          20,
          21,
          22,
          23,
          24,
          25,
          26,
          27,
          28,
          29,
          30,
          31,
          32,
          33,
          34,
          35,
          36,
          37,
          38,
          39,
          40,
          41,
          42,
          43,
          44,
          45,
          46,
          47,
          48,
          49,
          50,
          51,
          52,
          53,
          54,
          55,
          56,
          57,
          58,
          59,
          60,
          61,
          62,
          63,
          64,
          65,
          66,
          67,
          68,
          69,
          70,
          71,
          72,
          73,
          74,
          75,
          76,
          77,
          78,
          79,
          80,
          81,
          82,
          83,
          84,
          85,
          86,
          87,
          88,
          89,
          90,
          91,
          92,
          93,
          94,
          95,
          96,
          97,
          98,
          99
         ],
         "y": [
          -1.0941751258189,
          -1.6398565983853923,
          -0.3097459127089046,
          0.2568652779629397,
          0.6822943534761479,
          0.5404638844671197,
          0.5479361923860127,
          0.7279049825639428,
          2.4348186728796533,
          0.45586485657322817,
          -0.3368797975019673,
          1.4011151291094113,
          2.5429516148439824,
          2.526515062983038,
          2.9407863225884663,
          3.539944548760316,
          3.0997369390314176,
          2.1392920795740706,
          2.463940446336639,
          1.9914462597599756,
          3.57839603607095,
          4.7528968993035985,
          3.315080058012094,
          3.1270007889556264,
          3.4252817203394317,
          3.7786166907472225,
          3.4724019419452983,
          5.329829430114989,
          5.514728560824847,
          5.137782249783837,
          5.637976874502041,
          6.318607413792849,
          6.051635425211821,
          5.159891576657999,
          5.760170491309222,
          7.152794387404979,
          7.926855237239302,
          8.38992695770623,
          8.00856718334012,
          7.25337511393975,
          8.31493908272574,
          7.645101925231108,
          7.499990157781299,
          6.217522902511577,
          6.1373377053420715,
          5.877125694475353,
          4.367217160938573,
          3.595801970127563,
          2.911361858315897,
          4.117939105223753,
          5.357554089067348,
          4.727916543660479,
          6.286761477362538,
          6.35724721473352,
          8.687105545591272,
          9.559671810970059,
          9.470510850153005,
          9.991706213903216,
          10.249246046886732,
          11.222961111842855,
          12.546478102796264,
          13.11194797797581,
          11.624145543588952,
          8.680869494700676,
          8.60746540812565,
          8.781804048143858,
          8.99198843202463,
          8.685907689830797,
          7.588785103149131,
          7.629267073433976,
          7.804107538478641,
          8.344014515230839,
          8.666300731489182,
          9.269896534670274,
          8.728528949779365,
          8.056663013476358,
          7.163467332365721,
          7.930081955061301,
          8.76695390237712,
          6.9340133784721605,
          6.732997119040566,
          6.799595830933435,
          5.457004218942103,
          6.91708213976084,
          8.097749314922186,
          10.258184128740826,
          10.977073824173095,
          10.938144194373356,
          12.262148025783633,
          12.542948813926058,
          12.108022825195025,
          12.053694186173844,
          11.60701152332701,
          10.558950588201805,
          9.294838090594412,
          8.63151488006503,
          8.072455601862519,
          8.559325621260857,
          9.659396494184433,
          9.34543167047276
         ]
        },
        {
         "connectgaps": false,
         "fill": "tozeroy",
         "line": {
          "color": "green",
          "dash": "solid",
          "shape": "linear",
          "width": 0.5
         },
         "mode": "lines",
         "name": "Spread",
         "showlegend": false,
         "type": "scatter",
         "x": [
          0,
          1,
          2,
          3,
          4,
          5,
          6,
          7,
          8,
          9,
          10,
          11,
          12,
          13,
          14,
          15,
          16,
          17,
          18,
          19,
          20,
          21,
          22,
          23,
          24,
          25,
          26,
          27,
          28,
          29,
          30,
          31,
          32,
          33,
          34,
          35,
          36,
          37,
          38,
          39,
          40,
          41,
          42,
          43,
          44,
          45,
          46,
          47,
          48,
          49,
          50,
          51,
          52,
          53,
          54,
          55,
          56,
          57,
          58,
          59,
          60,
          61,
          62,
          63,
          64,
          65,
          66,
          67,
          68,
          69,
          70,
          71,
          72,
          73,
          74,
          75,
          76,
          77,
          78,
          79,
          80,
          81,
          82,
          83,
          84,
          85,
          86,
          87,
          88,
          89,
          90,
          91,
          92,
          93,
          94,
          95,
          96,
          97,
          98,
          99
         ],
         "xaxis": "x2",
         "y": [
          1.9858611994267599,
          2.6138891701934437,
          3.0492407921447184,
          2.9432731487407704,
          5.1867057021405065,
          5.0886011017352315,
          5.833134645782931,
          5.478231731712681,
          6.945362408256758,
          8.293179109854456,
          9.047866332285583,
          9.573759901469082,
          8.807307442558917,
          8.178695527797796,
          8.355634085193975,
          7.97196957493979,
          5.705713496006749,
          6.291439538005443,
          7.214207274382007,
          6.502961436673424,
          7.43398759419218,
          7.5823761716472164,
          6.8509584833656465,
          8.38997187890639,
          10.823130293208221,
          11.425194602092919,
          9.792372685129267,
          9.979888992514152,
          8.316983380701735,
          8.15058698573643,
          8.865088899876795,
          8.974291543221867,
          9.884599297518019,
          10.159057008452663,
          10.168506703918858,
          8.177552873656456,
          7.576671679903107,
          5.89153579191137,
          8.238810922886788,
          7.321104930726447,
          5.386824210258408,
          8.94159507241554,
          9.459453957875693,
          9.727902051988742,
          11.748233308330166,
          10.396444627901323,
          12.163171344705088,
          12.37976327343348,
          9.835728259070272,
          10.19127769546569,
          12.034264723593894,
          12.8198281593912,
          12.271082517183324,
          14.10927472319372,
          15.042197397819155,
          14.712598202536382,
          11.877848207149665,
          11.932748782828714,
          13.313011342934248,
          14.509279647742996,
          15.053439590145445,
          13.78644753592568,
          14.550597531815326,
          14.988108281124074,
          16.949291772415627,
          14.578347624536853,
          14.133074794426467,
          16.974586806343886,
          18.315744457512583,
          18.211555928023234,
          17.449225588719063,
          20.82008453761719,
          19.297890789757613,
          20.158631271246634,
          19.874589379821046,
          18.829606385630928,
          15.134994456440085,
          14.672687428515797,
          14.332013969352388,
          15.52392813675407,
          15.93978055847877,
          16.966298397900097,
          13.714729859927326,
          14.033033544897254,
          14.485858546758372,
          15.296587977949518,
          16.592188972900495,
          16.345282683038945,
          19.472989690750815,
          18.561453061492816,
          19.375794459714925,
          21.407280705340646,
          21.533208933862248,
          22.40016245578773,
          22.138126393015753,
          21.733617397609834,
          20.42949190779119,
          19.14253952443873,
          18.633945269865897,
          19.92147899286092
         ],
         "yaxis": "y2"
        },
        {
         "connectgaps": false,
         "fill": "tozeroy",
         "line": {
          "color": "red",
          "dash": "solid",
          "shape": "linear",
          "width": 0.5
         },
         "mode": "lines",
         "name": "Spread",
         "showlegend": false,
         "type": "scatter",
         "x": [
          0,
          1,
          2,
          3,
          4,
          5,
          6,
          7,
          8,
          9,
          10,
          11,
          12,
          13,
          14,
          15,
          16,
          17,
          18,
          19,
          20,
          21,
          22,
          23,
          24,
          25,
          26,
          27,
          28,
          29,
          30,
          31,
          32,
          33,
          34,
          35,
          36,
          37,
          38,
          39,
          40,
          41,
          42,
          43,
          44,
          45,
          46,
          47,
          48,
          49,
          50,
          51,
          52,
          53,
          54,
          55,
          56,
          57,
          58,
          59,
          60,
          61,
          62,
          63,
          64,
          65,
          66,
          67,
          68,
          69,
          70,
          71,
          72,
          73,
          74,
          75,
          76,
          77,
          78,
          79,
          80,
          81,
          82,
          83,
          84,
          85,
          86,
          87,
          88,
          89,
          90,
          91,
          92,
          93,
          94,
          95,
          96,
          97,
          98,
          99
         ],
         "xaxis": "x2",
         "y": [
          "",
          "",
          "",
          "",
          "",
          "",
          "",
          "",
          "",
          "",
          "",
          "",
          "",
          "",
          "",
          "",
          "",
          "",
          "",
          "",
          "",
          "",
          "",
          "",
          "",
          "",
          "",
          "",
          "",
          "",
          "",
          "",
          "",
          "",
          "",
          "",
          "",
          "",
          "",
          "",
          "",
          "",
          "",
          "",
          "",
          "",
          "",
          "",
          "",
          "",
          "",
          "",
          "",
          "",
          "",
          "",
          "",
          "",
          "",
          "",
          "",
          "",
          "",
          "",
          "",
          "",
          "",
          "",
          "",
          "",
          "",
          "",
          "",
          "",
          "",
          "",
          "",
          "",
          "",
          "",
          "",
          "",
          "",
          "",
          "",
          "",
          "",
          "",
          "",
          "",
          "",
          "",
          "",
          "",
          "",
          "",
          "",
          "",
          "",
          ""
         ],
         "yaxis": "y2"
        }
       ],
       "layout": {
        "hovermode": "x",
        "legend": {
         "bgcolor": "#F5F6F9",
         "font": {
          "color": "#4D5663"
         }
        },
        "paper_bgcolor": "#F5F6F9",
        "plot_bgcolor": "#F5F6F9",
        "template": {
         "data": {
          "bar": [
           {
            "error_x": {
             "color": "#2a3f5f"
            },
            "error_y": {
             "color": "#2a3f5f"
            },
            "marker": {
             "line": {
              "color": "#E5ECF6",
              "width": 0.5
             }
            },
            "type": "bar"
           }
          ],
          "barpolar": [
           {
            "marker": {
             "line": {
              "color": "#E5ECF6",
              "width": 0.5
             }
            },
            "type": "barpolar"
           }
          ],
          "carpet": [
           {
            "aaxis": {
             "endlinecolor": "#2a3f5f",
             "gridcolor": "white",
             "linecolor": "white",
             "minorgridcolor": "white",
             "startlinecolor": "#2a3f5f"
            },
            "baxis": {
             "endlinecolor": "#2a3f5f",
             "gridcolor": "white",
             "linecolor": "white",
             "minorgridcolor": "white",
             "startlinecolor": "#2a3f5f"
            },
            "type": "carpet"
           }
          ],
          "choropleth": [
           {
            "colorbar": {
             "outlinewidth": 0,
             "ticks": ""
            },
            "type": "choropleth"
           }
          ],
          "contour": [
           {
            "colorbar": {
             "outlinewidth": 0,
             "ticks": ""
            },
            "colorscale": [
             [
              0,
              "#0d0887"
             ],
             [
              0.1111111111111111,
              "#46039f"
             ],
             [
              0.2222222222222222,
              "#7201a8"
             ],
             [
              0.3333333333333333,
              "#9c179e"
             ],
             [
              0.4444444444444444,
              "#bd3786"
             ],
             [
              0.5555555555555556,
              "#d8576b"
             ],
             [
              0.6666666666666666,
              "#ed7953"
             ],
             [
              0.7777777777777778,
              "#fb9f3a"
             ],
             [
              0.8888888888888888,
              "#fdca26"
             ],
             [
              1,
              "#f0f921"
             ]
            ],
            "type": "contour"
           }
          ],
          "contourcarpet": [
           {
            "colorbar": {
             "outlinewidth": 0,
             "ticks": ""
            },
            "type": "contourcarpet"
           }
          ],
          "heatmap": [
           {
            "colorbar": {
             "outlinewidth": 0,
             "ticks": ""
            },
            "colorscale": [
             [
              0,
              "#0d0887"
             ],
             [
              0.1111111111111111,
              "#46039f"
             ],
             [
              0.2222222222222222,
              "#7201a8"
             ],
             [
              0.3333333333333333,
              "#9c179e"
             ],
             [
              0.4444444444444444,
              "#bd3786"
             ],
             [
              0.5555555555555556,
              "#d8576b"
             ],
             [
              0.6666666666666666,
              "#ed7953"
             ],
             [
              0.7777777777777778,
              "#fb9f3a"
             ],
             [
              0.8888888888888888,
              "#fdca26"
             ],
             [
              1,
              "#f0f921"
             ]
            ],
            "type": "heatmap"
           }
          ],
          "heatmapgl": [
           {
            "colorbar": {
             "outlinewidth": 0,
             "ticks": ""
            },
            "colorscale": [
             [
              0,
              "#0d0887"
             ],
             [
              0.1111111111111111,
              "#46039f"
             ],
             [
              0.2222222222222222,
              "#7201a8"
             ],
             [
              0.3333333333333333,
              "#9c179e"
             ],
             [
              0.4444444444444444,
              "#bd3786"
             ],
             [
              0.5555555555555556,
              "#d8576b"
             ],
             [
              0.6666666666666666,
              "#ed7953"
             ],
             [
              0.7777777777777778,
              "#fb9f3a"
             ],
             [
              0.8888888888888888,
              "#fdca26"
             ],
             [
              1,
              "#f0f921"
             ]
            ],
            "type": "heatmapgl"
           }
          ],
          "histogram": [
           {
            "marker": {
             "colorbar": {
              "outlinewidth": 0,
              "ticks": ""
             }
            },
            "type": "histogram"
           }
          ],
          "histogram2d": [
           {
            "colorbar": {
             "outlinewidth": 0,
             "ticks": ""
            },
            "colorscale": [
             [
              0,
              "#0d0887"
             ],
             [
              0.1111111111111111,
              "#46039f"
             ],
             [
              0.2222222222222222,
              "#7201a8"
             ],
             [
              0.3333333333333333,
              "#9c179e"
             ],
             [
              0.4444444444444444,
              "#bd3786"
             ],
             [
              0.5555555555555556,
              "#d8576b"
             ],
             [
              0.6666666666666666,
              "#ed7953"
             ],
             [
              0.7777777777777778,
              "#fb9f3a"
             ],
             [
              0.8888888888888888,
              "#fdca26"
             ],
             [
              1,
              "#f0f921"
             ]
            ],
            "type": "histogram2d"
           }
          ],
          "histogram2dcontour": [
           {
            "colorbar": {
             "outlinewidth": 0,
             "ticks": ""
            },
            "colorscale": [
             [
              0,
              "#0d0887"
             ],
             [
              0.1111111111111111,
              "#46039f"
             ],
             [
              0.2222222222222222,
              "#7201a8"
             ],
             [
              0.3333333333333333,
              "#9c179e"
             ],
             [
              0.4444444444444444,
              "#bd3786"
             ],
             [
              0.5555555555555556,
              "#d8576b"
             ],
             [
              0.6666666666666666,
              "#ed7953"
             ],
             [
              0.7777777777777778,
              "#fb9f3a"
             ],
             [
              0.8888888888888888,
              "#fdca26"
             ],
             [
              1,
              "#f0f921"
             ]
            ],
            "type": "histogram2dcontour"
           }
          ],
          "mesh3d": [
           {
            "colorbar": {
             "outlinewidth": 0,
             "ticks": ""
            },
            "type": "mesh3d"
           }
          ],
          "parcoords": [
           {
            "line": {
             "colorbar": {
              "outlinewidth": 0,
              "ticks": ""
             }
            },
            "type": "parcoords"
           }
          ],
          "pie": [
           {
            "automargin": true,
            "type": "pie"
           }
          ],
          "scatter": [
           {
            "marker": {
             "colorbar": {
              "outlinewidth": 0,
              "ticks": ""
             }
            },
            "type": "scatter"
           }
          ],
          "scatter3d": [
           {
            "line": {
             "colorbar": {
              "outlinewidth": 0,
              "ticks": ""
             }
            },
            "marker": {
             "colorbar": {
              "outlinewidth": 0,
              "ticks": ""
             }
            },
            "type": "scatter3d"
           }
          ],
          "scattercarpet": [
           {
            "marker": {
             "colorbar": {
              "outlinewidth": 0,
              "ticks": ""
             }
            },
            "type": "scattercarpet"
           }
          ],
          "scattergeo": [
           {
            "marker": {
             "colorbar": {
              "outlinewidth": 0,
              "ticks": ""
             }
            },
            "type": "scattergeo"
           }
          ],
          "scattergl": [
           {
            "marker": {
             "colorbar": {
              "outlinewidth": 0,
              "ticks": ""
             }
            },
            "type": "scattergl"
           }
          ],
          "scattermapbox": [
           {
            "marker": {
             "colorbar": {
              "outlinewidth": 0,
              "ticks": ""
             }
            },
            "type": "scattermapbox"
           }
          ],
          "scatterpolar": [
           {
            "marker": {
             "colorbar": {
              "outlinewidth": 0,
              "ticks": ""
             }
            },
            "type": "scatterpolar"
           }
          ],
          "scatterpolargl": [
           {
            "marker": {
             "colorbar": {
              "outlinewidth": 0,
              "ticks": ""
             }
            },
            "type": "scatterpolargl"
           }
          ],
          "scatterternary": [
           {
            "marker": {
             "colorbar": {
              "outlinewidth": 0,
              "ticks": ""
             }
            },
            "type": "scatterternary"
           }
          ],
          "surface": [
           {
            "colorbar": {
             "outlinewidth": 0,
             "ticks": ""
            },
            "colorscale": [
             [
              0,
              "#0d0887"
             ],
             [
              0.1111111111111111,
              "#46039f"
             ],
             [
              0.2222222222222222,
              "#7201a8"
             ],
             [
              0.3333333333333333,
              "#9c179e"
             ],
             [
              0.4444444444444444,
              "#bd3786"
             ],
             [
              0.5555555555555556,
              "#d8576b"
             ],
             [
              0.6666666666666666,
              "#ed7953"
             ],
             [
              0.7777777777777778,
              "#fb9f3a"
             ],
             [
              0.8888888888888888,
              "#fdca26"
             ],
             [
              1,
              "#f0f921"
             ]
            ],
            "type": "surface"
           }
          ],
          "table": [
           {
            "cells": {
             "fill": {
              "color": "#EBF0F8"
             },
             "line": {
              "color": "white"
             }
            },
            "header": {
             "fill": {
              "color": "#C8D4E3"
             },
             "line": {
              "color": "white"
             }
            },
            "type": "table"
           }
          ]
         },
         "layout": {
          "annotationdefaults": {
           "arrowcolor": "#2a3f5f",
           "arrowhead": 0,
           "arrowwidth": 1
          },
          "autotypenumbers": "strict",
          "coloraxis": {
           "colorbar": {
            "outlinewidth": 0,
            "ticks": ""
           }
          },
          "colorscale": {
           "diverging": [
            [
             0,
             "#8e0152"
            ],
            [
             0.1,
             "#c51b7d"
            ],
            [
             0.2,
             "#de77ae"
            ],
            [
             0.3,
             "#f1b6da"
            ],
            [
             0.4,
             "#fde0ef"
            ],
            [
             0.5,
             "#f7f7f7"
            ],
            [
             0.6,
             "#e6f5d0"
            ],
            [
             0.7,
             "#b8e186"
            ],
            [
             0.8,
             "#7fbc41"
            ],
            [
             0.9,
             "#4d9221"
            ],
            [
             1,
             "#276419"
            ]
           ],
           "sequential": [
            [
             0,
             "#0d0887"
            ],
            [
             0.1111111111111111,
             "#46039f"
            ],
            [
             0.2222222222222222,
             "#7201a8"
            ],
            [
             0.3333333333333333,
             "#9c179e"
            ],
            [
             0.4444444444444444,
             "#bd3786"
            ],
            [
             0.5555555555555556,
             "#d8576b"
            ],
            [
             0.6666666666666666,
             "#ed7953"
            ],
            [
             0.7777777777777778,
             "#fb9f3a"
            ],
            [
             0.8888888888888888,
             "#fdca26"
            ],
            [
             1,
             "#f0f921"
            ]
           ],
           "sequentialminus": [
            [
             0,
             "#0d0887"
            ],
            [
             0.1111111111111111,
             "#46039f"
            ],
            [
             0.2222222222222222,
             "#7201a8"
            ],
            [
             0.3333333333333333,
             "#9c179e"
            ],
            [
             0.4444444444444444,
             "#bd3786"
            ],
            [
             0.5555555555555556,
             "#d8576b"
            ],
            [
             0.6666666666666666,
             "#ed7953"
            ],
            [
             0.7777777777777778,
             "#fb9f3a"
            ],
            [
             0.8888888888888888,
             "#fdca26"
            ],
            [
             1,
             "#f0f921"
            ]
           ]
          },
          "colorway": [
           "#636efa",
           "#EF553B",
           "#00cc96",
           "#ab63fa",
           "#FFA15A",
           "#19d3f3",
           "#FF6692",
           "#B6E880",
           "#FF97FF",
           "#FECB52"
          ],
          "font": {
           "color": "#2a3f5f"
          },
          "geo": {
           "bgcolor": "white",
           "lakecolor": "white",
           "landcolor": "#E5ECF6",
           "showlakes": true,
           "showland": true,
           "subunitcolor": "white"
          },
          "hoverlabel": {
           "align": "left"
          },
          "hovermode": "closest",
          "mapbox": {
           "style": "light"
          },
          "paper_bgcolor": "white",
          "plot_bgcolor": "#E5ECF6",
          "polar": {
           "angularaxis": {
            "gridcolor": "white",
            "linecolor": "white",
            "ticks": ""
           },
           "bgcolor": "#E5ECF6",
           "radialaxis": {
            "gridcolor": "white",
            "linecolor": "white",
            "ticks": ""
           }
          },
          "scene": {
           "xaxis": {
            "backgroundcolor": "#E5ECF6",
            "gridcolor": "white",
            "gridwidth": 2,
            "linecolor": "white",
            "showbackground": true,
            "ticks": "",
            "zerolinecolor": "white"
           },
           "yaxis": {
            "backgroundcolor": "#E5ECF6",
            "gridcolor": "white",
            "gridwidth": 2,
            "linecolor": "white",
            "showbackground": true,
            "ticks": "",
            "zerolinecolor": "white"
           },
           "zaxis": {
            "backgroundcolor": "#E5ECF6",
            "gridcolor": "white",
            "gridwidth": 2,
            "linecolor": "white",
            "showbackground": true,
            "ticks": "",
            "zerolinecolor": "white"
           }
          },
          "shapedefaults": {
           "line": {
            "color": "#2a3f5f"
           }
          },
          "ternary": {
           "aaxis": {
            "gridcolor": "white",
            "linecolor": "white",
            "ticks": ""
           },
           "baxis": {
            "gridcolor": "white",
            "linecolor": "white",
            "ticks": ""
           },
           "bgcolor": "#E5ECF6",
           "caxis": {
            "gridcolor": "white",
            "linecolor": "white",
            "ticks": ""
           }
          },
          "title": {
           "x": 0.05
          },
          "xaxis": {
           "automargin": true,
           "gridcolor": "white",
           "linecolor": "white",
           "ticks": "",
           "title": {
            "standoff": 15
           },
           "zerolinecolor": "white",
           "zerolinewidth": 2
          },
          "yaxis": {
           "automargin": true,
           "gridcolor": "white",
           "linecolor": "white",
           "ticks": "",
           "title": {
            "standoff": 15
           },
           "zerolinecolor": "white",
           "zerolinewidth": 2
          }
         }
        },
        "title": {
         "font": {
          "color": "#4D5663"
         }
        },
        "xaxis": {
         "gridcolor": "#E1E5ED",
         "showgrid": true,
         "tickfont": {
          "color": "#4D5663"
         },
         "title": {
          "font": {
           "color": "#4D5663"
          },
          "text": ""
         },
         "zerolinecolor": "#E1E5ED"
        },
        "xaxis2": {
         "anchor": "y2",
         "gridcolor": "#E1E5ED",
         "showgrid": true,
         "showticklabels": false,
         "tickfont": {
          "color": "#4D5663"
         },
         "title": {
          "font": {
           "color": "#4D5663"
          },
          "text": ""
         },
         "zerolinecolor": "#E1E5ED"
        },
        "yaxis": {
         "domain": [
          0.3,
          1
         ],
         "gridcolor": "#E1E5ED",
         "showgrid": true,
         "tickfont": {
          "color": "#4D5663"
         },
         "title": {
          "font": {
           "color": "#4D5663"
          },
          "text": ""
         },
         "zerolinecolor": "#E1E5ED"
        },
        "yaxis2": {
         "domain": [
          0,
          0.25
         ],
         "gridcolor": "#E1E5ED",
         "showgrid": true,
         "tickfont": {
          "color": "#4D5663"
         },
         "title": {
          "font": {
           "color": "#4D5663"
          },
          "text": "Spread"
         },
         "zerolinecolor": "#E1E5ED"
        }
       }
      },
      "text/html": [
       "<div>                            <div id=\"77acd7a7-f3aa-4037-be5c-7c87753aa8d3\" class=\"plotly-graph-div\" style=\"height:525px; width:100%;\"></div>            <script type=\"text/javascript\">                require([\"plotly\"], function(Plotly) {                    window.PLOTLYENV=window.PLOTLYENV || {};\n",
       "                    window.PLOTLYENV.BASE_URL='https://plot.ly';                                    if (document.getElementById(\"77acd7a7-f3aa-4037-be5c-7c87753aa8d3\")) {                    Plotly.newPlot(                        \"77acd7a7-f3aa-4037-be5c-7c87753aa8d3\",                        [{\"line\": {\"color\": \"rgba(255, 153, 51, 1.0)\", \"dash\": \"solid\", \"shape\": \"linear\", \"width\": 1.3}, \"mode\": \"lines\", \"name\": \"A\", \"text\": \"\", \"type\": \"scatter\", \"x\": [0, 1, 2, 3, 4, 5, 6, 7, 8, 9, 10, 11, 12, 13, 14, 15, 16, 17, 18, 19, 20, 21, 22, 23, 24, 25, 26, 27, 28, 29, 30, 31, 32, 33, 34, 35, 36, 37, 38, 39, 40, 41, 42, 43, 44, 45, 46, 47, 48, 49, 50, 51, 52, 53, 54, 55, 56, 57, 58, 59, 60, 61, 62, 63, 64, 65, 66, 67, 68, 69, 70, 71, 72, 73, 74, 75, 76, 77, 78, 79, 80, 81, 82, 83, 84, 85, 86, 87, 88, 89, 90, 91, 92, 93, 94, 95, 96, 97, 98, 99], \"y\": [1.542980023140264, 2.9121126238920843, 2.454011953506909, 0.908765453053461, 1.4574101908432255, 0.8303761640783085, 0.7246273230580064, 0.021672733436725267, 1.3183372613934017, 3.021938791328341, 3.9647420315128565, 3.6204699558480744, 2.377368028184148, 1.4006547723027196, 0.41543286350584385, 0.17038131170370602, 0.6157163548733092, 1.3323688636109412, 1.3729260852351268, 1.291341116641915, 1.6925624117642668, 1.820793030505737, -0.04888742642313626, -0.7322354696436995, 0.7944202729613861, 1.1810340292176587, 0.7341149545905505, -0.2568553174252042, 0.257314681153747, 0.3414239991158074, 1.8196734128565466, 1.862236085325661, 2.045849260259886, 2.2085329039253816, 2.3077156034037736, 1.6354908388021943, 1.0527453631924613, 0.920076958601937, 1.3797149474571184, 0.41107253237159647, -1.081927103709963, -0.4094994800927654, 1.127829763386621, 1.8513891703312142, 2.442071282302379, 1.3580030844882387, 2.443179464429334, 1.9645403377444788, 0.5295906964769015, 1.4854484804442025, 2.240398644146764, 2.8350099991697126, 2.908485764565109, 3.0103489767920273, 2.2703273860224717, 1.6984972634058184, 0.5695995676780039, 1.2426341472445246, 1.5087745594666107, 2.6901866849875065, 2.8436035842337697, 1.7613750611424834, 1.68549480744684, 1.5762578535345844, 3.3453879083393607, 1.3910423120753033, 1.1595448890776459, 2.2319100206928786, 3.2864129965684805, 4.380875505443746, 2.5808091129699013, 4.017932205662488, 4.676409433852359, 5.497325333446527, 5.358899042724595, 4.238730210679977, 2.987683855526822, 5.14357406625513, 6.070329747377492, 7.872781768177811, 8.17345792752811, 8.976463264038737, 7.990501905346166, 8.726355380893503, 8.784380406517345, 9.826117342394497, 10.690324863750199, 10.487710712551877, 11.765649169468062, 10.652957601822967, 11.303490142284323, 11.982131717828743, 10.733449574507839, 11.23601181417773, 12.730544951216954, 12.713345198310188, 11.242814210173176, 9.689518786199336, 9.558080842828387, 10.076733977606022]}, {\"line\": {\"color\": \"rgba(55, 128, 191, 1.0)\", \"dash\": \"solid\", \"shape\": \"linear\", \"width\": 1.3}, \"mode\": \"lines\", \"name\": \"B\", \"text\": \"\", \"type\": \"scatter\", \"x\": [0, 1, 2, 3, 4, 5, 6, 7, 8, 9, 10, 11, 12, 13, 14, 15, 16, 17, 18, 19, 20, 21, 22, 23, 24, 25, 26, 27, 28, 29, 30, 31, 32, 33, 34, 35, 36, 37, 38, 39, 40, 41, 42, 43, 44, 45, 46, 47, 48, 49, 50, 51, 52, 53, 54, 55, 56, 57, 58, 59, 60, 61, 62, 63, 64, 65, 66, 67, 68, 69, 70, 71, 72, 73, 74, 75, 76, 77, 78, 79, 80, 81, 82, 83, 84, 85, 86, 87, 88, 89, 90, 91, 92, 93, 94, 95, 96, 97, 98, 99], \"y\": [-0.4428811762864958, 0.29822345369864034, -0.5952288386378094, -2.034507695687309, -3.729295511297281, -4.258224937656923, -5.108507322724925, -5.4565589982759555, -5.627025146863357, -5.2712403185261145, -5.083124300772727, -5.953289945621008, -6.429939414374769, -6.778040755495077, -7.94020122168813, -7.801588263236083, -5.0899971411334395, -4.959070674394502, -5.84128118914688, -5.211620320031509, -5.741425182427913, -5.76158314114148, -6.899845909788783, -9.12220734855009, -10.028710020246836, -10.244160572875261, -9.058257730538717, -10.236744309939356, -8.059668699547988, -7.809162986620623, -7.045415487020248, -7.112055457896206, -7.838750037258132, -7.9505241045272825, -7.860791100515085, -6.542062034854261, -6.5239263167106465, -4.971458833309432, -6.85909597542967, -6.910032398354851, -6.4687513139683706, -9.351094552508306, -8.331624194489072, -7.876512881657529, -9.306162026027787, -9.038441543413084, -9.719991880275755, -10.415222935689002, -9.30613756259337, -8.705829215021488, -9.793866079447131, -9.984818160221486, -9.362596752618215, -11.098925746401692, -12.771870011796683, -13.014100939130564, -11.30824863947166, -10.69011463558419, -11.804236783467637, -11.819092962755489, -12.209836005911676, -12.025072474783196, -12.865102724368485, -13.41185042758949, -13.603903864076267, -13.18730531246155, -12.973529905348821, -14.742676785651007, -15.029331460944103, -13.830680422579489, -14.86841647574916, -16.802152331954705, -14.621481355905253, -14.661305937800105, -14.515690337096453, -14.590876174950951, -12.147310600913263, -9.529113362260667, -8.261684221974896, -7.651146368576259, -7.766322630950659, -7.98983513386136, -5.72422795458116, -5.30667816400375, -5.701478140241028, -5.470470635555021, -5.901864109150294, -5.857571970487069, -7.7073405212827515, -7.908495459669848, -8.072304317430604, -9.425148987511903, -10.799759359354407, -11.164150641610002, -9.407581441798797, -9.020272199299644, -9.186677697618014, -9.453020738239394, -9.075864427037509, -9.8447450152549]}, {\"line\": {\"color\": \"rgba(50, 171, 96, 1.0)\", \"dash\": \"solid\", \"shape\": \"linear\", \"width\": 1.3}, \"mode\": \"lines\", \"name\": \"C\", \"text\": \"\", \"type\": \"scatter\", \"x\": [0, 1, 2, 3, 4, 5, 6, 7, 8, 9, 10, 11, 12, 13, 14, 15, 16, 17, 18, 19, 20, 21, 22, 23, 24, 25, 26, 27, 28, 29, 30, 31, 32, 33, 34, 35, 36, 37, 38, 39, 40, 41, 42, 43, 44, 45, 46, 47, 48, 49, 50, 51, 52, 53, 54, 55, 56, 57, 58, 59, 60, 61, 62, 63, 64, 65, 66, 67, 68, 69, 70, 71, 72, 73, 74, 75, 76, 77, 78, 79, 80, 81, 82, 83, 84, 85, 86, 87, 88, 89, 90, 91, 92, 93, 94, 95, 96, 97, 98, 99], \"y\": [-1.0941751258189, -1.6398565983853923, -0.3097459127089046, 0.2568652779629397, 0.6822943534761479, 0.5404638844671197, 0.5479361923860127, 0.7279049825639428, 2.4348186728796533, 0.45586485657322817, -0.3368797975019673, 1.4011151291094113, 2.5429516148439824, 2.526515062983038, 2.9407863225884663, 3.539944548760316, 3.0997369390314176, 2.1392920795740706, 2.463940446336639, 1.9914462597599756, 3.57839603607095, 4.7528968993035985, 3.315080058012094, 3.1270007889556264, 3.4252817203394317, 3.7786166907472225, 3.4724019419452983, 5.329829430114989, 5.514728560824847, 5.137782249783837, 5.637976874502041, 6.318607413792849, 6.051635425211821, 5.159891576657999, 5.760170491309222, 7.152794387404979, 7.926855237239302, 8.38992695770623, 8.00856718334012, 7.25337511393975, 8.31493908272574, 7.645101925231108, 7.499990157781299, 6.217522902511577, 6.1373377053420715, 5.877125694475353, 4.367217160938573, 3.595801970127563, 2.911361858315897, 4.117939105223753, 5.357554089067348, 4.727916543660479, 6.286761477362538, 6.35724721473352, 8.687105545591272, 9.559671810970059, 9.470510850153005, 9.991706213903216, 10.249246046886732, 11.222961111842855, 12.546478102796264, 13.11194797797581, 11.624145543588952, 8.680869494700676, 8.60746540812565, 8.781804048143858, 8.99198843202463, 8.685907689830797, 7.588785103149131, 7.629267073433976, 7.804107538478641, 8.344014515230839, 8.666300731489182, 9.269896534670274, 8.728528949779365, 8.056663013476358, 7.163467332365721, 7.930081955061301, 8.76695390237712, 6.9340133784721605, 6.732997119040566, 6.799595830933435, 5.457004218942103, 6.91708213976084, 8.097749314922186, 10.258184128740826, 10.977073824173095, 10.938144194373356, 12.262148025783633, 12.542948813926058, 12.108022825195025, 12.053694186173844, 11.60701152332701, 10.558950588201805, 9.294838090594412, 8.63151488006503, 8.072455601862519, 8.559325621260857, 9.659396494184433, 9.34543167047276]}, {\"connectgaps\": false, \"fill\": \"tozeroy\", \"line\": {\"color\": \"green\", \"dash\": \"solid\", \"shape\": \"linear\", \"width\": 0.5}, \"mode\": \"lines\", \"name\": \"Spread\", \"showlegend\": false, \"type\": \"scatter\", \"x\": [0, 1, 2, 3, 4, 5, 6, 7, 8, 9, 10, 11, 12, 13, 14, 15, 16, 17, 18, 19, 20, 21, 22, 23, 24, 25, 26, 27, 28, 29, 30, 31, 32, 33, 34, 35, 36, 37, 38, 39, 40, 41, 42, 43, 44, 45, 46, 47, 48, 49, 50, 51, 52, 53, 54, 55, 56, 57, 58, 59, 60, 61, 62, 63, 64, 65, 66, 67, 68, 69, 70, 71, 72, 73, 74, 75, 76, 77, 78, 79, 80, 81, 82, 83, 84, 85, 86, 87, 88, 89, 90, 91, 92, 93, 94, 95, 96, 97, 98, 99], \"xaxis\": \"x2\", \"y\": [1.9858611994267599, 2.6138891701934437, 3.0492407921447184, 2.9432731487407704, 5.1867057021405065, 5.0886011017352315, 5.833134645782931, 5.478231731712681, 6.945362408256758, 8.293179109854456, 9.047866332285583, 9.573759901469082, 8.807307442558917, 8.178695527797796, 8.355634085193975, 7.97196957493979, 5.705713496006749, 6.291439538005443, 7.214207274382007, 6.502961436673424, 7.43398759419218, 7.5823761716472164, 6.8509584833656465, 8.38997187890639, 10.823130293208221, 11.425194602092919, 9.792372685129267, 9.979888992514152, 8.316983380701735, 8.15058698573643, 8.865088899876795, 8.974291543221867, 9.884599297518019, 10.159057008452663, 10.168506703918858, 8.177552873656456, 7.576671679903107, 5.89153579191137, 8.238810922886788, 7.321104930726447, 5.386824210258408, 8.94159507241554, 9.459453957875693, 9.727902051988742, 11.748233308330166, 10.396444627901323, 12.163171344705088, 12.37976327343348, 9.835728259070272, 10.19127769546569, 12.034264723593894, 12.8198281593912, 12.271082517183324, 14.10927472319372, 15.042197397819155, 14.712598202536382, 11.877848207149665, 11.932748782828714, 13.313011342934248, 14.509279647742996, 15.053439590145445, 13.78644753592568, 14.550597531815326, 14.988108281124074, 16.949291772415627, 14.578347624536853, 14.133074794426467, 16.974586806343886, 18.315744457512583, 18.211555928023234, 17.449225588719063, 20.82008453761719, 19.297890789757613, 20.158631271246634, 19.874589379821046, 18.829606385630928, 15.134994456440085, 14.672687428515797, 14.332013969352388, 15.52392813675407, 15.93978055847877, 16.966298397900097, 13.714729859927326, 14.033033544897254, 14.485858546758372, 15.296587977949518, 16.592188972900495, 16.345282683038945, 19.472989690750815, 18.561453061492816, 19.375794459714925, 21.407280705340646, 21.533208933862248, 22.40016245578773, 22.138126393015753, 21.733617397609834, 20.42949190779119, 19.14253952443873, 18.633945269865897, 19.92147899286092], \"yaxis\": \"y2\"}, {\"connectgaps\": false, \"fill\": \"tozeroy\", \"line\": {\"color\": \"red\", \"dash\": \"solid\", \"shape\": \"linear\", \"width\": 0.5}, \"mode\": \"lines\", \"name\": \"Spread\", \"showlegend\": false, \"type\": \"scatter\", \"x\": [0, 1, 2, 3, 4, 5, 6, 7, 8, 9, 10, 11, 12, 13, 14, 15, 16, 17, 18, 19, 20, 21, 22, 23, 24, 25, 26, 27, 28, 29, 30, 31, 32, 33, 34, 35, 36, 37, 38, 39, 40, 41, 42, 43, 44, 45, 46, 47, 48, 49, 50, 51, 52, 53, 54, 55, 56, 57, 58, 59, 60, 61, 62, 63, 64, 65, 66, 67, 68, 69, 70, 71, 72, 73, 74, 75, 76, 77, 78, 79, 80, 81, 82, 83, 84, 85, 86, 87, 88, 89, 90, 91, 92, 93, 94, 95, 96, 97, 98, 99], \"xaxis\": \"x2\", \"y\": [\"\", \"\", \"\", \"\", \"\", \"\", \"\", \"\", \"\", \"\", \"\", \"\", \"\", \"\", \"\", \"\", \"\", \"\", \"\", \"\", \"\", \"\", \"\", \"\", \"\", \"\", \"\", \"\", \"\", \"\", \"\", \"\", \"\", \"\", \"\", \"\", \"\", \"\", \"\", \"\", \"\", \"\", \"\", \"\", \"\", \"\", \"\", \"\", \"\", \"\", \"\", \"\", \"\", \"\", \"\", \"\", \"\", \"\", \"\", \"\", \"\", \"\", \"\", \"\", \"\", \"\", \"\", \"\", \"\", \"\", \"\", \"\", \"\", \"\", \"\", \"\", \"\", \"\", \"\", \"\", \"\", \"\", \"\", \"\", \"\", \"\", \"\", \"\", \"\", \"\", \"\", \"\", \"\", \"\", \"\", \"\", \"\", \"\", \"\", \"\"], \"yaxis\": \"y2\"}],                        {\"hovermode\": \"x\", \"legend\": {\"bgcolor\": \"#F5F6F9\", \"font\": {\"color\": \"#4D5663\"}}, \"paper_bgcolor\": \"#F5F6F9\", \"plot_bgcolor\": \"#F5F6F9\", \"template\": {\"data\": {\"bar\": [{\"error_x\": {\"color\": \"#2a3f5f\"}, \"error_y\": {\"color\": \"#2a3f5f\"}, \"marker\": {\"line\": {\"color\": \"#E5ECF6\", \"width\": 0.5}}, \"type\": \"bar\"}], \"barpolar\": [{\"marker\": {\"line\": {\"color\": \"#E5ECF6\", \"width\": 0.5}}, \"type\": \"barpolar\"}], \"carpet\": [{\"aaxis\": {\"endlinecolor\": \"#2a3f5f\", \"gridcolor\": \"white\", \"linecolor\": \"white\", \"minorgridcolor\": \"white\", \"startlinecolor\": \"#2a3f5f\"}, \"baxis\": {\"endlinecolor\": \"#2a3f5f\", \"gridcolor\": \"white\", \"linecolor\": \"white\", \"minorgridcolor\": \"white\", \"startlinecolor\": \"#2a3f5f\"}, \"type\": \"carpet\"}], \"choropleth\": [{\"colorbar\": {\"outlinewidth\": 0, \"ticks\": \"\"}, \"type\": \"choropleth\"}], \"contour\": [{\"colorbar\": {\"outlinewidth\": 0, \"ticks\": \"\"}, \"colorscale\": [[0.0, \"#0d0887\"], [0.1111111111111111, \"#46039f\"], [0.2222222222222222, \"#7201a8\"], [0.3333333333333333, \"#9c179e\"], [0.4444444444444444, \"#bd3786\"], [0.5555555555555556, \"#d8576b\"], [0.6666666666666666, \"#ed7953\"], [0.7777777777777778, \"#fb9f3a\"], [0.8888888888888888, \"#fdca26\"], [1.0, \"#f0f921\"]], \"type\": \"contour\"}], \"contourcarpet\": [{\"colorbar\": {\"outlinewidth\": 0, \"ticks\": \"\"}, \"type\": \"contourcarpet\"}], \"heatmap\": [{\"colorbar\": {\"outlinewidth\": 0, \"ticks\": \"\"}, \"colorscale\": [[0.0, \"#0d0887\"], [0.1111111111111111, \"#46039f\"], [0.2222222222222222, \"#7201a8\"], [0.3333333333333333, \"#9c179e\"], [0.4444444444444444, \"#bd3786\"], [0.5555555555555556, \"#d8576b\"], [0.6666666666666666, \"#ed7953\"], [0.7777777777777778, \"#fb9f3a\"], [0.8888888888888888, \"#fdca26\"], [1.0, \"#f0f921\"]], \"type\": \"heatmap\"}], \"heatmapgl\": [{\"colorbar\": {\"outlinewidth\": 0, \"ticks\": \"\"}, \"colorscale\": [[0.0, \"#0d0887\"], [0.1111111111111111, \"#46039f\"], [0.2222222222222222, \"#7201a8\"], [0.3333333333333333, \"#9c179e\"], [0.4444444444444444, \"#bd3786\"], [0.5555555555555556, \"#d8576b\"], [0.6666666666666666, \"#ed7953\"], [0.7777777777777778, \"#fb9f3a\"], [0.8888888888888888, \"#fdca26\"], [1.0, \"#f0f921\"]], \"type\": \"heatmapgl\"}], \"histogram\": [{\"marker\": {\"colorbar\": {\"outlinewidth\": 0, \"ticks\": \"\"}}, \"type\": \"histogram\"}], \"histogram2d\": [{\"colorbar\": {\"outlinewidth\": 0, \"ticks\": \"\"}, \"colorscale\": [[0.0, \"#0d0887\"], [0.1111111111111111, \"#46039f\"], [0.2222222222222222, \"#7201a8\"], [0.3333333333333333, \"#9c179e\"], [0.4444444444444444, \"#bd3786\"], [0.5555555555555556, \"#d8576b\"], [0.6666666666666666, \"#ed7953\"], [0.7777777777777778, \"#fb9f3a\"], [0.8888888888888888, \"#fdca26\"], [1.0, \"#f0f921\"]], \"type\": \"histogram2d\"}], \"histogram2dcontour\": [{\"colorbar\": {\"outlinewidth\": 0, \"ticks\": \"\"}, \"colorscale\": [[0.0, \"#0d0887\"], [0.1111111111111111, \"#46039f\"], [0.2222222222222222, \"#7201a8\"], [0.3333333333333333, \"#9c179e\"], [0.4444444444444444, \"#bd3786\"], [0.5555555555555556, \"#d8576b\"], [0.6666666666666666, \"#ed7953\"], [0.7777777777777778, \"#fb9f3a\"], [0.8888888888888888, \"#fdca26\"], [1.0, \"#f0f921\"]], \"type\": \"histogram2dcontour\"}], \"mesh3d\": [{\"colorbar\": {\"outlinewidth\": 0, \"ticks\": \"\"}, \"type\": \"mesh3d\"}], \"parcoords\": [{\"line\": {\"colorbar\": {\"outlinewidth\": 0, \"ticks\": \"\"}}, \"type\": \"parcoords\"}], \"pie\": [{\"automargin\": true, \"type\": \"pie\"}], \"scatter\": [{\"marker\": {\"colorbar\": {\"outlinewidth\": 0, \"ticks\": \"\"}}, \"type\": \"scatter\"}], \"scatter3d\": [{\"line\": {\"colorbar\": {\"outlinewidth\": 0, \"ticks\": \"\"}}, \"marker\": {\"colorbar\": {\"outlinewidth\": 0, \"ticks\": \"\"}}, \"type\": \"scatter3d\"}], \"scattercarpet\": [{\"marker\": {\"colorbar\": {\"outlinewidth\": 0, \"ticks\": \"\"}}, \"type\": \"scattercarpet\"}], \"scattergeo\": [{\"marker\": {\"colorbar\": {\"outlinewidth\": 0, \"ticks\": \"\"}}, \"type\": \"scattergeo\"}], \"scattergl\": [{\"marker\": {\"colorbar\": {\"outlinewidth\": 0, \"ticks\": \"\"}}, \"type\": \"scattergl\"}], \"scattermapbox\": [{\"marker\": {\"colorbar\": {\"outlinewidth\": 0, \"ticks\": \"\"}}, \"type\": \"scattermapbox\"}], \"scatterpolar\": [{\"marker\": {\"colorbar\": {\"outlinewidth\": 0, \"ticks\": \"\"}}, \"type\": \"scatterpolar\"}], \"scatterpolargl\": [{\"marker\": {\"colorbar\": {\"outlinewidth\": 0, \"ticks\": \"\"}}, \"type\": \"scatterpolargl\"}], \"scatterternary\": [{\"marker\": {\"colorbar\": {\"outlinewidth\": 0, \"ticks\": \"\"}}, \"type\": \"scatterternary\"}], \"surface\": [{\"colorbar\": {\"outlinewidth\": 0, \"ticks\": \"\"}, \"colorscale\": [[0.0, \"#0d0887\"], [0.1111111111111111, \"#46039f\"], [0.2222222222222222, \"#7201a8\"], [0.3333333333333333, \"#9c179e\"], [0.4444444444444444, \"#bd3786\"], [0.5555555555555556, \"#d8576b\"], [0.6666666666666666, \"#ed7953\"], [0.7777777777777778, \"#fb9f3a\"], [0.8888888888888888, \"#fdca26\"], [1.0, \"#f0f921\"]], \"type\": \"surface\"}], \"table\": [{\"cells\": {\"fill\": {\"color\": \"#EBF0F8\"}, \"line\": {\"color\": \"white\"}}, \"header\": {\"fill\": {\"color\": \"#C8D4E3\"}, \"line\": {\"color\": \"white\"}}, \"type\": \"table\"}]}, \"layout\": {\"annotationdefaults\": {\"arrowcolor\": \"#2a3f5f\", \"arrowhead\": 0, \"arrowwidth\": 1}, \"autotypenumbers\": \"strict\", \"coloraxis\": {\"colorbar\": {\"outlinewidth\": 0, \"ticks\": \"\"}}, \"colorscale\": {\"diverging\": [[0, \"#8e0152\"], [0.1, \"#c51b7d\"], [0.2, \"#de77ae\"], [0.3, \"#f1b6da\"], [0.4, \"#fde0ef\"], [0.5, \"#f7f7f7\"], [0.6, \"#e6f5d0\"], [0.7, \"#b8e186\"], [0.8, \"#7fbc41\"], [0.9, \"#4d9221\"], [1, \"#276419\"]], \"sequential\": [[0.0, \"#0d0887\"], [0.1111111111111111, \"#46039f\"], [0.2222222222222222, \"#7201a8\"], [0.3333333333333333, \"#9c179e\"], [0.4444444444444444, \"#bd3786\"], [0.5555555555555556, \"#d8576b\"], [0.6666666666666666, \"#ed7953\"], [0.7777777777777778, \"#fb9f3a\"], [0.8888888888888888, \"#fdca26\"], [1.0, \"#f0f921\"]], \"sequentialminus\": [[0.0, \"#0d0887\"], [0.1111111111111111, \"#46039f\"], [0.2222222222222222, \"#7201a8\"], [0.3333333333333333, \"#9c179e\"], [0.4444444444444444, \"#bd3786\"], [0.5555555555555556, \"#d8576b\"], [0.6666666666666666, \"#ed7953\"], [0.7777777777777778, \"#fb9f3a\"], [0.8888888888888888, \"#fdca26\"], [1.0, \"#f0f921\"]]}, \"colorway\": [\"#636efa\", \"#EF553B\", \"#00cc96\", \"#ab63fa\", \"#FFA15A\", \"#19d3f3\", \"#FF6692\", \"#B6E880\", \"#FF97FF\", \"#FECB52\"], \"font\": {\"color\": \"#2a3f5f\"}, \"geo\": {\"bgcolor\": \"white\", \"lakecolor\": \"white\", \"landcolor\": \"#E5ECF6\", \"showlakes\": true, \"showland\": true, \"subunitcolor\": \"white\"}, \"hoverlabel\": {\"align\": \"left\"}, \"hovermode\": \"closest\", \"mapbox\": {\"style\": \"light\"}, \"paper_bgcolor\": \"white\", \"plot_bgcolor\": \"#E5ECF6\", \"polar\": {\"angularaxis\": {\"gridcolor\": \"white\", \"linecolor\": \"white\", \"ticks\": \"\"}, \"bgcolor\": \"#E5ECF6\", \"radialaxis\": {\"gridcolor\": \"white\", \"linecolor\": \"white\", \"ticks\": \"\"}}, \"scene\": {\"xaxis\": {\"backgroundcolor\": \"#E5ECF6\", \"gridcolor\": \"white\", \"gridwidth\": 2, \"linecolor\": \"white\", \"showbackground\": true, \"ticks\": \"\", \"zerolinecolor\": \"white\"}, \"yaxis\": {\"backgroundcolor\": \"#E5ECF6\", \"gridcolor\": \"white\", \"gridwidth\": 2, \"linecolor\": \"white\", \"showbackground\": true, \"ticks\": \"\", \"zerolinecolor\": \"white\"}, \"zaxis\": {\"backgroundcolor\": \"#E5ECF6\", \"gridcolor\": \"white\", \"gridwidth\": 2, \"linecolor\": \"white\", \"showbackground\": true, \"ticks\": \"\", \"zerolinecolor\": \"white\"}}, \"shapedefaults\": {\"line\": {\"color\": \"#2a3f5f\"}}, \"ternary\": {\"aaxis\": {\"gridcolor\": \"white\", \"linecolor\": \"white\", \"ticks\": \"\"}, \"baxis\": {\"gridcolor\": \"white\", \"linecolor\": \"white\", \"ticks\": \"\"}, \"bgcolor\": \"#E5ECF6\", \"caxis\": {\"gridcolor\": \"white\", \"linecolor\": \"white\", \"ticks\": \"\"}}, \"title\": {\"x\": 0.05}, \"xaxis\": {\"automargin\": true, \"gridcolor\": \"white\", \"linecolor\": \"white\", \"ticks\": \"\", \"title\": {\"standoff\": 15}, \"zerolinecolor\": \"white\", \"zerolinewidth\": 2}, \"yaxis\": {\"automargin\": true, \"gridcolor\": \"white\", \"linecolor\": \"white\", \"ticks\": \"\", \"title\": {\"standoff\": 15}, \"zerolinecolor\": \"white\", \"zerolinewidth\": 2}}}, \"title\": {\"font\": {\"color\": \"#4D5663\"}}, \"xaxis\": {\"gridcolor\": \"#E1E5ED\", \"showgrid\": true, \"tickfont\": {\"color\": \"#4D5663\"}, \"title\": {\"font\": {\"color\": \"#4D5663\"}, \"text\": \"\"}, \"zerolinecolor\": \"#E1E5ED\"}, \"xaxis2\": {\"anchor\": \"y2\", \"gridcolor\": \"#E1E5ED\", \"showgrid\": true, \"showticklabels\": false, \"tickfont\": {\"color\": \"#4D5663\"}, \"title\": {\"font\": {\"color\": \"#4D5663\"}, \"text\": \"\"}, \"zerolinecolor\": \"#E1E5ED\"}, \"yaxis\": {\"domain\": [0.3, 1], \"gridcolor\": \"#E1E5ED\", \"showgrid\": true, \"tickfont\": {\"color\": \"#4D5663\"}, \"title\": {\"font\": {\"color\": \"#4D5663\"}, \"text\": \"\"}, \"zerolinecolor\": \"#E1E5ED\"}, \"yaxis2\": {\"domain\": [0, 0.25], \"gridcolor\": \"#E1E5ED\", \"showgrid\": true, \"tickfont\": {\"color\": \"#4D5663\"}, \"title\": {\"font\": {\"color\": \"#4D5663\"}, \"text\": \"Spread\"}, \"zerolinecolor\": \"#E1E5ED\"}},                        {\"showLink\": true, \"linkText\": \"Export to plot.ly\", \"plotlyServerURL\": \"https://plot.ly\", \"responsive\": true}                    ).then(function(){\n",
       "                            \n",
       "var gd = document.getElementById('77acd7a7-f3aa-4037-be5c-7c87753aa8d3');\n",
       "var x = new MutationObserver(function (mutations, observer) {{\n",
       "        var display = window.getComputedStyle(gd).display;\n",
       "        if (!display || display === 'none') {{\n",
       "            console.log([gd, 'removed!']);\n",
       "            Plotly.purge(gd);\n",
       "            observer.disconnect();\n",
       "        }}\n",
       "}});\n",
       "\n",
       "// Listen for the removal of the full notebook cells\n",
       "var notebookContainer = gd.closest('#notebook-container');\n",
       "if (notebookContainer) {{\n",
       "    x.observe(notebookContainer, {childList: true});\n",
       "}}\n",
       "\n",
       "// Listen for the clearing of the current output cell\n",
       "var outputEl = gd.closest('.output');\n",
       "if (outputEl) {{\n",
       "    x.observe(outputEl, {childList: true});\n",
       "}}\n",
       "\n",
       "                        })                };                });            </script>        </div>"
      ]
     },
     "metadata": {},
     "output_type": "display_data"
    }
   ],
   "source": [
    "df.iplot(kind = 'spread')"
   ]
  },
  {
   "cell_type": "code",
   "execution_count": 17,
   "metadata": {},
   "outputs": [],
   "source": [
    "bb = cf.datagen.bubble3d(5,4, mode='stocks')"
   ]
  },
  {
   "cell_type": "code",
   "execution_count": 18,
   "metadata": {},
   "outputs": [
    {
     "data": {
      "text/html": [
       "<div>\n",
       "<style scoped>\n",
       "    .dataframe tbody tr th:only-of-type {\n",
       "        vertical-align: middle;\n",
       "    }\n",
       "\n",
       "    .dataframe tbody tr th {\n",
       "        vertical-align: top;\n",
       "    }\n",
       "\n",
       "    .dataframe thead th {\n",
       "        text-align: right;\n",
       "    }\n",
       "</style>\n",
       "<table border=\"1\" class=\"dataframe\">\n",
       "  <thead>\n",
       "    <tr style=\"text-align: right;\">\n",
       "      <th></th>\n",
       "      <th>x</th>\n",
       "      <th>y</th>\n",
       "      <th>z</th>\n",
       "      <th>size</th>\n",
       "      <th>text</th>\n",
       "      <th>categories</th>\n",
       "    </tr>\n",
       "  </thead>\n",
       "  <tbody>\n",
       "    <tr>\n",
       "      <th>0</th>\n",
       "      <td>-0.905386</td>\n",
       "      <td>-0.473609</td>\n",
       "      <td>0.372442</td>\n",
       "      <td>60</td>\n",
       "      <td>AYC.FU</td>\n",
       "      <td>category1</td>\n",
       "    </tr>\n",
       "    <tr>\n",
       "      <th>1</th>\n",
       "      <td>0.192123</td>\n",
       "      <td>-1.990776</td>\n",
       "      <td>-0.516731</td>\n",
       "      <td>85</td>\n",
       "      <td>CUI.YF</td>\n",
       "      <td>category1</td>\n",
       "    </tr>\n",
       "    <tr>\n",
       "      <th>2</th>\n",
       "      <td>-0.578507</td>\n",
       "      <td>1.520642</td>\n",
       "      <td>1.417469</td>\n",
       "      <td>26</td>\n",
       "      <td>OCX.DC</td>\n",
       "      <td>category1</td>\n",
       "    </tr>\n",
       "    <tr>\n",
       "      <th>3</th>\n",
       "      <td>-0.231732</td>\n",
       "      <td>-0.106893</td>\n",
       "      <td>0.614576</td>\n",
       "      <td>76</td>\n",
       "      <td>AAW.SN</td>\n",
       "      <td>category1</td>\n",
       "    </tr>\n",
       "    <tr>\n",
       "      <th>4</th>\n",
       "      <td>-0.265357</td>\n",
       "      <td>-0.052115</td>\n",
       "      <td>-1.048710</td>\n",
       "      <td>89</td>\n",
       "      <td>ZPX.MI</td>\n",
       "      <td>category2</td>\n",
       "    </tr>\n",
       "  </tbody>\n",
       "</table>\n",
       "</div>"
      ],
      "text/plain": [
       "          x         y         z  size    text categories\n",
       "0 -0.905386 -0.473609  0.372442    60  AYC.FU  category1\n",
       "1  0.192123 -1.990776 -0.516731    85  CUI.YF  category1\n",
       "2 -0.578507  1.520642  1.417469    26  OCX.DC  category1\n",
       "3 -0.231732 -0.106893  0.614576    76  AAW.SN  category1\n",
       "4 -0.265357 -0.052115 -1.048710    89  ZPX.MI  category2"
      ]
     },
     "execution_count": 18,
     "metadata": {},
     "output_type": "execute_result"
    }
   ],
   "source": [
    "bb.head()"
   ]
  },
  {
   "cell_type": "code",
   "execution_count": 19,
   "metadata": {},
   "outputs": [
    {
     "data": {
      "application/vnd.plotly.v1+json": {
       "config": {
        "linkText": "Export to plot.ly",
        "plotlyServerURL": "https://plot.ly",
        "showLink": true
       },
       "data": [
        {
         "marker": {
          "color": [
           "rgba(255, 153, 51, 1.0)",
           "rgba(55, 128, 191, 1.0)",
           "rgba(50, 171, 96, 1.0)",
           "rgba(128, 0, 128, 1.0)",
           "rgba(219, 64, 82, 1.0)",
           "rgba(0, 128, 128, 1.0)",
           "rgba(255, 255, 51, 1.0)",
           "rgba(128, 128, 0, 1.0)",
           "rgba(251, 128, 114, 1.0)",
           "rgba(128, 177, 211, 1.0)",
           "rgba(128, 177, 211, 0.8999999999999999)",
           "rgba(255, 153, 51, 0.8999999999999999)",
           "rgba(55, 128, 191, 0.8999999999999999)",
           "rgba(50, 171, 96, 0.8999999999999999)",
           "rgba(128, 0, 128, 0.8999999999999999)",
           "rgba(219, 64, 82, 0.8999999999999999)",
           "rgba(0, 128, 128, 0.8999999999999999)",
           "rgba(255, 255, 51, 0.8999999999999999)",
           "rgba(128, 128, 0, 0.8999999999999999)",
           "rgba(251, 128, 114, 0.8999999999999999)"
          ],
          "opacity": 0.8,
          "size": [
           72,
           98,
           37,
           89,
           102,
           43,
           39,
           34,
           25,
           107,
           84,
           12,
           71,
           73,
           14,
           38,
           20,
           108,
           58,
           112
          ],
          "symbol": "circle"
         },
         "mode": "markers",
         "text": [
          "0",
          "1",
          "2",
          "3",
          "4",
          "5",
          "6",
          "7",
          "8",
          "9",
          "10",
          "11",
          "12",
          "13",
          "14",
          "15",
          "16",
          "17",
          "18",
          "19"
         ],
         "type": "scatter3d",
         "x": [
          -0.9053856107972497,
          0.1921231262628041,
          -0.5785066412987725,
          -0.23173164330014984,
          -0.26535685812625903,
          -1.1933286853395804,
          -0.6279606232600622,
          1.0074920583226255,
          -1.4123577990845968,
          1.1556367998175232,
          -0.2778491173805779,
          -1.0324126576799084,
          0.7820291795734726,
          -0.6047620441313215,
          1.4321447062646016,
          0.8466230913652641,
          0.2938144396574043,
          -0.13911218591480318,
          0.9370301603455586,
          -0.7620095502959426
         ],
         "y": [
          -0.47360943038613446,
          -1.9907758125698625,
          1.5206422412948342,
          -0.10689335299016693,
          -0.05211474253708243,
          -1.3097372574870516,
          -0.6529779053437451,
          -1.6177830384491751,
          -0.6947551753366096,
          0.3239948487566561,
          3.06120954450328,
          1.4667643309973064,
          -0.12077567132616067,
          0.03844690162661472,
          0.16836182497244195,
          0.21601701073363466,
          -0.4798878929827019,
          0.7609390440732912,
          0.8219227073780911,
          -0.7388229882343313
         ],
         "z": [
          0.37244151377907786,
          -0.5167314585917703,
          1.4174692204025419,
          0.6145762783927841,
          -1.0487097191115808,
          -1.0801474993834084,
          0.1408760142635938,
          -0.17948878249196215,
          -1.9255145975956094,
          0.15481604444060282,
          -1.749631851969342,
          -0.6567302379035094,
          -0.9851241983481288,
          1.275295939051807,
          -0.5801392476897753,
          -0.5907597659285001,
          0.2714165664801858,
          0.005039714437883873,
          1.0444661607491756,
          -1.1872050137057968
         ]
        }
       ],
       "layout": {
        "legend": {
         "bgcolor": "#F5F6F9",
         "font": {
          "color": "#4D5663"
         }
        },
        "paper_bgcolor": "#F5F6F9",
        "plot_bgcolor": "#F5F6F9",
        "scene": {
         "xaxis": {
          "gridcolor": "#9499A3",
          "showgrid": true,
          "tickfont": {
           "color": "#4D5663"
          },
          "title": {
           "font": {
            "color": "#4D5663"
           },
           "text": ""
          },
          "zerolinecolor": "#9499A3"
         },
         "yaxis": {
          "gridcolor": "#9499A3",
          "showgrid": true,
          "tickfont": {
           "color": "#4D5663"
          },
          "title": {
           "font": {
            "color": "#4D5663"
           },
           "text": ""
          },
          "zerolinecolor": "#9499A3"
         },
         "zaxis": {
          "gridcolor": "#9499A3",
          "showgrid": true,
          "tickfont": {
           "color": "#4D5663"
          },
          "title": {
           "font": {
            "color": "#4D5663"
           },
           "text": ""
          },
          "zerolinecolor": "#9499A3"
         }
        },
        "template": {
         "data": {
          "bar": [
           {
            "error_x": {
             "color": "#2a3f5f"
            },
            "error_y": {
             "color": "#2a3f5f"
            },
            "marker": {
             "line": {
              "color": "#E5ECF6",
              "width": 0.5
             }
            },
            "type": "bar"
           }
          ],
          "barpolar": [
           {
            "marker": {
             "line": {
              "color": "#E5ECF6",
              "width": 0.5
             }
            },
            "type": "barpolar"
           }
          ],
          "carpet": [
           {
            "aaxis": {
             "endlinecolor": "#2a3f5f",
             "gridcolor": "white",
             "linecolor": "white",
             "minorgridcolor": "white",
             "startlinecolor": "#2a3f5f"
            },
            "baxis": {
             "endlinecolor": "#2a3f5f",
             "gridcolor": "white",
             "linecolor": "white",
             "minorgridcolor": "white",
             "startlinecolor": "#2a3f5f"
            },
            "type": "carpet"
           }
          ],
          "choropleth": [
           {
            "colorbar": {
             "outlinewidth": 0,
             "ticks": ""
            },
            "type": "choropleth"
           }
          ],
          "contour": [
           {
            "colorbar": {
             "outlinewidth": 0,
             "ticks": ""
            },
            "colorscale": [
             [
              0,
              "#0d0887"
             ],
             [
              0.1111111111111111,
              "#46039f"
             ],
             [
              0.2222222222222222,
              "#7201a8"
             ],
             [
              0.3333333333333333,
              "#9c179e"
             ],
             [
              0.4444444444444444,
              "#bd3786"
             ],
             [
              0.5555555555555556,
              "#d8576b"
             ],
             [
              0.6666666666666666,
              "#ed7953"
             ],
             [
              0.7777777777777778,
              "#fb9f3a"
             ],
             [
              0.8888888888888888,
              "#fdca26"
             ],
             [
              1,
              "#f0f921"
             ]
            ],
            "type": "contour"
           }
          ],
          "contourcarpet": [
           {
            "colorbar": {
             "outlinewidth": 0,
             "ticks": ""
            },
            "type": "contourcarpet"
           }
          ],
          "heatmap": [
           {
            "colorbar": {
             "outlinewidth": 0,
             "ticks": ""
            },
            "colorscale": [
             [
              0,
              "#0d0887"
             ],
             [
              0.1111111111111111,
              "#46039f"
             ],
             [
              0.2222222222222222,
              "#7201a8"
             ],
             [
              0.3333333333333333,
              "#9c179e"
             ],
             [
              0.4444444444444444,
              "#bd3786"
             ],
             [
              0.5555555555555556,
              "#d8576b"
             ],
             [
              0.6666666666666666,
              "#ed7953"
             ],
             [
              0.7777777777777778,
              "#fb9f3a"
             ],
             [
              0.8888888888888888,
              "#fdca26"
             ],
             [
              1,
              "#f0f921"
             ]
            ],
            "type": "heatmap"
           }
          ],
          "heatmapgl": [
           {
            "colorbar": {
             "outlinewidth": 0,
             "ticks": ""
            },
            "colorscale": [
             [
              0,
              "#0d0887"
             ],
             [
              0.1111111111111111,
              "#46039f"
             ],
             [
              0.2222222222222222,
              "#7201a8"
             ],
             [
              0.3333333333333333,
              "#9c179e"
             ],
             [
              0.4444444444444444,
              "#bd3786"
             ],
             [
              0.5555555555555556,
              "#d8576b"
             ],
             [
              0.6666666666666666,
              "#ed7953"
             ],
             [
              0.7777777777777778,
              "#fb9f3a"
             ],
             [
              0.8888888888888888,
              "#fdca26"
             ],
             [
              1,
              "#f0f921"
             ]
            ],
            "type": "heatmapgl"
           }
          ],
          "histogram": [
           {
            "marker": {
             "colorbar": {
              "outlinewidth": 0,
              "ticks": ""
             }
            },
            "type": "histogram"
           }
          ],
          "histogram2d": [
           {
            "colorbar": {
             "outlinewidth": 0,
             "ticks": ""
            },
            "colorscale": [
             [
              0,
              "#0d0887"
             ],
             [
              0.1111111111111111,
              "#46039f"
             ],
             [
              0.2222222222222222,
              "#7201a8"
             ],
             [
              0.3333333333333333,
              "#9c179e"
             ],
             [
              0.4444444444444444,
              "#bd3786"
             ],
             [
              0.5555555555555556,
              "#d8576b"
             ],
             [
              0.6666666666666666,
              "#ed7953"
             ],
             [
              0.7777777777777778,
              "#fb9f3a"
             ],
             [
              0.8888888888888888,
              "#fdca26"
             ],
             [
              1,
              "#f0f921"
             ]
            ],
            "type": "histogram2d"
           }
          ],
          "histogram2dcontour": [
           {
            "colorbar": {
             "outlinewidth": 0,
             "ticks": ""
            },
            "colorscale": [
             [
              0,
              "#0d0887"
             ],
             [
              0.1111111111111111,
              "#46039f"
             ],
             [
              0.2222222222222222,
              "#7201a8"
             ],
             [
              0.3333333333333333,
              "#9c179e"
             ],
             [
              0.4444444444444444,
              "#bd3786"
             ],
             [
              0.5555555555555556,
              "#d8576b"
             ],
             [
              0.6666666666666666,
              "#ed7953"
             ],
             [
              0.7777777777777778,
              "#fb9f3a"
             ],
             [
              0.8888888888888888,
              "#fdca26"
             ],
             [
              1,
              "#f0f921"
             ]
            ],
            "type": "histogram2dcontour"
           }
          ],
          "mesh3d": [
           {
            "colorbar": {
             "outlinewidth": 0,
             "ticks": ""
            },
            "type": "mesh3d"
           }
          ],
          "parcoords": [
           {
            "line": {
             "colorbar": {
              "outlinewidth": 0,
              "ticks": ""
             }
            },
            "type": "parcoords"
           }
          ],
          "pie": [
           {
            "automargin": true,
            "type": "pie"
           }
          ],
          "scatter": [
           {
            "marker": {
             "colorbar": {
              "outlinewidth": 0,
              "ticks": ""
             }
            },
            "type": "scatter"
           }
          ],
          "scatter3d": [
           {
            "line": {
             "colorbar": {
              "outlinewidth": 0,
              "ticks": ""
             }
            },
            "marker": {
             "colorbar": {
              "outlinewidth": 0,
              "ticks": ""
             }
            },
            "type": "scatter3d"
           }
          ],
          "scattercarpet": [
           {
            "marker": {
             "colorbar": {
              "outlinewidth": 0,
              "ticks": ""
             }
            },
            "type": "scattercarpet"
           }
          ],
          "scattergeo": [
           {
            "marker": {
             "colorbar": {
              "outlinewidth": 0,
              "ticks": ""
             }
            },
            "type": "scattergeo"
           }
          ],
          "scattergl": [
           {
            "marker": {
             "colorbar": {
              "outlinewidth": 0,
              "ticks": ""
             }
            },
            "type": "scattergl"
           }
          ],
          "scattermapbox": [
           {
            "marker": {
             "colorbar": {
              "outlinewidth": 0,
              "ticks": ""
             }
            },
            "type": "scattermapbox"
           }
          ],
          "scatterpolar": [
           {
            "marker": {
             "colorbar": {
              "outlinewidth": 0,
              "ticks": ""
             }
            },
            "type": "scatterpolar"
           }
          ],
          "scatterpolargl": [
           {
            "marker": {
             "colorbar": {
              "outlinewidth": 0,
              "ticks": ""
             }
            },
            "type": "scatterpolargl"
           }
          ],
          "scatterternary": [
           {
            "marker": {
             "colorbar": {
              "outlinewidth": 0,
              "ticks": ""
             }
            },
            "type": "scatterternary"
           }
          ],
          "surface": [
           {
            "colorbar": {
             "outlinewidth": 0,
             "ticks": ""
            },
            "colorscale": [
             [
              0,
              "#0d0887"
             ],
             [
              0.1111111111111111,
              "#46039f"
             ],
             [
              0.2222222222222222,
              "#7201a8"
             ],
             [
              0.3333333333333333,
              "#9c179e"
             ],
             [
              0.4444444444444444,
              "#bd3786"
             ],
             [
              0.5555555555555556,
              "#d8576b"
             ],
             [
              0.6666666666666666,
              "#ed7953"
             ],
             [
              0.7777777777777778,
              "#fb9f3a"
             ],
             [
              0.8888888888888888,
              "#fdca26"
             ],
             [
              1,
              "#f0f921"
             ]
            ],
            "type": "surface"
           }
          ],
          "table": [
           {
            "cells": {
             "fill": {
              "color": "#EBF0F8"
             },
             "line": {
              "color": "white"
             }
            },
            "header": {
             "fill": {
              "color": "#C8D4E3"
             },
             "line": {
              "color": "white"
             }
            },
            "type": "table"
           }
          ]
         },
         "layout": {
          "annotationdefaults": {
           "arrowcolor": "#2a3f5f",
           "arrowhead": 0,
           "arrowwidth": 1
          },
          "autotypenumbers": "strict",
          "coloraxis": {
           "colorbar": {
            "outlinewidth": 0,
            "ticks": ""
           }
          },
          "colorscale": {
           "diverging": [
            [
             0,
             "#8e0152"
            ],
            [
             0.1,
             "#c51b7d"
            ],
            [
             0.2,
             "#de77ae"
            ],
            [
             0.3,
             "#f1b6da"
            ],
            [
             0.4,
             "#fde0ef"
            ],
            [
             0.5,
             "#f7f7f7"
            ],
            [
             0.6,
             "#e6f5d0"
            ],
            [
             0.7,
             "#b8e186"
            ],
            [
             0.8,
             "#7fbc41"
            ],
            [
             0.9,
             "#4d9221"
            ],
            [
             1,
             "#276419"
            ]
           ],
           "sequential": [
            [
             0,
             "#0d0887"
            ],
            [
             0.1111111111111111,
             "#46039f"
            ],
            [
             0.2222222222222222,
             "#7201a8"
            ],
            [
             0.3333333333333333,
             "#9c179e"
            ],
            [
             0.4444444444444444,
             "#bd3786"
            ],
            [
             0.5555555555555556,
             "#d8576b"
            ],
            [
             0.6666666666666666,
             "#ed7953"
            ],
            [
             0.7777777777777778,
             "#fb9f3a"
            ],
            [
             0.8888888888888888,
             "#fdca26"
            ],
            [
             1,
             "#f0f921"
            ]
           ],
           "sequentialminus": [
            [
             0,
             "#0d0887"
            ],
            [
             0.1111111111111111,
             "#46039f"
            ],
            [
             0.2222222222222222,
             "#7201a8"
            ],
            [
             0.3333333333333333,
             "#9c179e"
            ],
            [
             0.4444444444444444,
             "#bd3786"
            ],
            [
             0.5555555555555556,
             "#d8576b"
            ],
            [
             0.6666666666666666,
             "#ed7953"
            ],
            [
             0.7777777777777778,
             "#fb9f3a"
            ],
            [
             0.8888888888888888,
             "#fdca26"
            ],
            [
             1,
             "#f0f921"
            ]
           ]
          },
          "colorway": [
           "#636efa",
           "#EF553B",
           "#00cc96",
           "#ab63fa",
           "#FFA15A",
           "#19d3f3",
           "#FF6692",
           "#B6E880",
           "#FF97FF",
           "#FECB52"
          ],
          "font": {
           "color": "#2a3f5f"
          },
          "geo": {
           "bgcolor": "white",
           "lakecolor": "white",
           "landcolor": "#E5ECF6",
           "showlakes": true,
           "showland": true,
           "subunitcolor": "white"
          },
          "hoverlabel": {
           "align": "left"
          },
          "hovermode": "closest",
          "mapbox": {
           "style": "light"
          },
          "paper_bgcolor": "white",
          "plot_bgcolor": "#E5ECF6",
          "polar": {
           "angularaxis": {
            "gridcolor": "white",
            "linecolor": "white",
            "ticks": ""
           },
           "bgcolor": "#E5ECF6",
           "radialaxis": {
            "gridcolor": "white",
            "linecolor": "white",
            "ticks": ""
           }
          },
          "scene": {
           "xaxis": {
            "backgroundcolor": "#E5ECF6",
            "gridcolor": "white",
            "gridwidth": 2,
            "linecolor": "white",
            "showbackground": true,
            "ticks": "",
            "zerolinecolor": "white"
           },
           "yaxis": {
            "backgroundcolor": "#E5ECF6",
            "gridcolor": "white",
            "gridwidth": 2,
            "linecolor": "white",
            "showbackground": true,
            "ticks": "",
            "zerolinecolor": "white"
           },
           "zaxis": {
            "backgroundcolor": "#E5ECF6",
            "gridcolor": "white",
            "gridwidth": 2,
            "linecolor": "white",
            "showbackground": true,
            "ticks": "",
            "zerolinecolor": "white"
           }
          },
          "shapedefaults": {
           "line": {
            "color": "#2a3f5f"
           }
          },
          "ternary": {
           "aaxis": {
            "gridcolor": "white",
            "linecolor": "white",
            "ticks": ""
           },
           "baxis": {
            "gridcolor": "white",
            "linecolor": "white",
            "ticks": ""
           },
           "bgcolor": "#E5ECF6",
           "caxis": {
            "gridcolor": "white",
            "linecolor": "white",
            "ticks": ""
           }
          },
          "title": {
           "x": 0.05
          },
          "xaxis": {
           "automargin": true,
           "gridcolor": "white",
           "linecolor": "white",
           "ticks": "",
           "title": {
            "standoff": 15
           },
           "zerolinecolor": "white",
           "zerolinewidth": 2
          },
          "yaxis": {
           "automargin": true,
           "gridcolor": "white",
           "linecolor": "white",
           "ticks": "",
           "title": {
            "standoff": 15
           },
           "zerolinecolor": "white",
           "zerolinewidth": 2
          }
         }
        },
        "title": {
         "font": {
          "color": "#4D5663"
         }
        }
       }
      },
      "text/html": [
       "<div>                            <div id=\"eea92031-dce4-4620-a81f-80d148f9277d\" class=\"plotly-graph-div\" style=\"height:525px; width:100%;\"></div>            <script type=\"text/javascript\">                require([\"plotly\"], function(Plotly) {                    window.PLOTLYENV=window.PLOTLYENV || {};\n",
       "                    window.PLOTLYENV.BASE_URL='https://plot.ly';                                    if (document.getElementById(\"eea92031-dce4-4620-a81f-80d148f9277d\")) {                    Plotly.newPlot(                        \"eea92031-dce4-4620-a81f-80d148f9277d\",                        [{\"marker\": {\"color\": [\"rgba(255, 153, 51, 1.0)\", \"rgba(55, 128, 191, 1.0)\", \"rgba(50, 171, 96, 1.0)\", \"rgba(128, 0, 128, 1.0)\", \"rgba(219, 64, 82, 1.0)\", \"rgba(0, 128, 128, 1.0)\", \"rgba(255, 255, 51, 1.0)\", \"rgba(128, 128, 0, 1.0)\", \"rgba(251, 128, 114, 1.0)\", \"rgba(128, 177, 211, 1.0)\", \"rgba(128, 177, 211, 0.8999999999999999)\", \"rgba(255, 153, 51, 0.8999999999999999)\", \"rgba(55, 128, 191, 0.8999999999999999)\", \"rgba(50, 171, 96, 0.8999999999999999)\", \"rgba(128, 0, 128, 0.8999999999999999)\", \"rgba(219, 64, 82, 0.8999999999999999)\", \"rgba(0, 128, 128, 0.8999999999999999)\", \"rgba(255, 255, 51, 0.8999999999999999)\", \"rgba(128, 128, 0, 0.8999999999999999)\", \"rgba(251, 128, 114, 0.8999999999999999)\"], \"opacity\": 0.8, \"size\": [72, 98, 37, 89, 102, 43, 39, 34, 25, 107, 84, 12, 71, 73, 14, 38, 20, 108, 58, 112], \"symbol\": \"circle\"}, \"mode\": \"markers\", \"text\": [\"0\", \"1\", \"2\", \"3\", \"4\", \"5\", \"6\", \"7\", \"8\", \"9\", \"10\", \"11\", \"12\", \"13\", \"14\", \"15\", \"16\", \"17\", \"18\", \"19\"], \"type\": \"scatter3d\", \"x\": [-0.9053856107972497, 0.1921231262628041, -0.5785066412987725, -0.23173164330014984, -0.26535685812625903, -1.1933286853395804, -0.6279606232600622, 1.0074920583226255, -1.4123577990845968, 1.1556367998175232, -0.2778491173805779, -1.0324126576799084, 0.7820291795734726, -0.6047620441313215, 1.4321447062646016, 0.8466230913652641, 0.2938144396574043, -0.13911218591480318, 0.9370301603455586, -0.7620095502959426], \"y\": [-0.47360943038613446, -1.9907758125698625, 1.5206422412948342, -0.10689335299016693, -0.05211474253708243, -1.3097372574870516, -0.6529779053437451, -1.6177830384491751, -0.6947551753366096, 0.3239948487566561, 3.06120954450328, 1.4667643309973064, -0.12077567132616067, 0.03844690162661472, 0.16836182497244195, 0.21601701073363466, -0.4798878929827019, 0.7609390440732912, 0.8219227073780911, -0.7388229882343313], \"z\": [0.37244151377907786, -0.5167314585917703, 1.4174692204025419, 0.6145762783927841, -1.0487097191115808, -1.0801474993834084, 0.1408760142635938, -0.17948878249196215, -1.9255145975956094, 0.15481604444060282, -1.749631851969342, -0.6567302379035094, -0.9851241983481288, 1.275295939051807, -0.5801392476897753, -0.5907597659285001, 0.2714165664801858, 0.005039714437883873, 1.0444661607491756, -1.1872050137057968]}],                        {\"legend\": {\"bgcolor\": \"#F5F6F9\", \"font\": {\"color\": \"#4D5663\"}}, \"paper_bgcolor\": \"#F5F6F9\", \"plot_bgcolor\": \"#F5F6F9\", \"scene\": {\"xaxis\": {\"gridcolor\": \"#9499A3\", \"showgrid\": true, \"tickfont\": {\"color\": \"#4D5663\"}, \"title\": {\"font\": {\"color\": \"#4D5663\"}, \"text\": \"\"}, \"zerolinecolor\": \"#9499A3\"}, \"yaxis\": {\"gridcolor\": \"#9499A3\", \"showgrid\": true, \"tickfont\": {\"color\": \"#4D5663\"}, \"title\": {\"font\": {\"color\": \"#4D5663\"}, \"text\": \"\"}, \"zerolinecolor\": \"#9499A3\"}, \"zaxis\": {\"gridcolor\": \"#9499A3\", \"showgrid\": true, \"tickfont\": {\"color\": \"#4D5663\"}, \"title\": {\"font\": {\"color\": \"#4D5663\"}, \"text\": \"\"}, \"zerolinecolor\": \"#9499A3\"}}, \"template\": {\"data\": {\"bar\": [{\"error_x\": {\"color\": \"#2a3f5f\"}, \"error_y\": {\"color\": \"#2a3f5f\"}, \"marker\": {\"line\": {\"color\": \"#E5ECF6\", \"width\": 0.5}}, \"type\": \"bar\"}], \"barpolar\": [{\"marker\": {\"line\": {\"color\": \"#E5ECF6\", \"width\": 0.5}}, \"type\": \"barpolar\"}], \"carpet\": [{\"aaxis\": {\"endlinecolor\": \"#2a3f5f\", \"gridcolor\": \"white\", \"linecolor\": \"white\", \"minorgridcolor\": \"white\", \"startlinecolor\": \"#2a3f5f\"}, \"baxis\": {\"endlinecolor\": \"#2a3f5f\", \"gridcolor\": \"white\", \"linecolor\": \"white\", \"minorgridcolor\": \"white\", \"startlinecolor\": \"#2a3f5f\"}, \"type\": \"carpet\"}], \"choropleth\": [{\"colorbar\": {\"outlinewidth\": 0, \"ticks\": \"\"}, \"type\": \"choropleth\"}], \"contour\": [{\"colorbar\": {\"outlinewidth\": 0, \"ticks\": \"\"}, \"colorscale\": [[0.0, \"#0d0887\"], [0.1111111111111111, \"#46039f\"], [0.2222222222222222, \"#7201a8\"], [0.3333333333333333, \"#9c179e\"], [0.4444444444444444, \"#bd3786\"], [0.5555555555555556, \"#d8576b\"], [0.6666666666666666, \"#ed7953\"], [0.7777777777777778, \"#fb9f3a\"], [0.8888888888888888, \"#fdca26\"], [1.0, \"#f0f921\"]], \"type\": \"contour\"}], \"contourcarpet\": [{\"colorbar\": {\"outlinewidth\": 0, \"ticks\": \"\"}, \"type\": \"contourcarpet\"}], \"heatmap\": [{\"colorbar\": {\"outlinewidth\": 0, \"ticks\": \"\"}, \"colorscale\": [[0.0, \"#0d0887\"], [0.1111111111111111, \"#46039f\"], [0.2222222222222222, \"#7201a8\"], [0.3333333333333333, \"#9c179e\"], [0.4444444444444444, \"#bd3786\"], [0.5555555555555556, \"#d8576b\"], [0.6666666666666666, \"#ed7953\"], [0.7777777777777778, \"#fb9f3a\"], [0.8888888888888888, \"#fdca26\"], [1.0, \"#f0f921\"]], \"type\": \"heatmap\"}], \"heatmapgl\": [{\"colorbar\": {\"outlinewidth\": 0, \"ticks\": \"\"}, \"colorscale\": [[0.0, \"#0d0887\"], [0.1111111111111111, \"#46039f\"], [0.2222222222222222, \"#7201a8\"], [0.3333333333333333, \"#9c179e\"], [0.4444444444444444, \"#bd3786\"], [0.5555555555555556, \"#d8576b\"], [0.6666666666666666, \"#ed7953\"], [0.7777777777777778, \"#fb9f3a\"], [0.8888888888888888, \"#fdca26\"], [1.0, \"#f0f921\"]], \"type\": \"heatmapgl\"}], \"histogram\": [{\"marker\": {\"colorbar\": {\"outlinewidth\": 0, \"ticks\": \"\"}}, \"type\": \"histogram\"}], \"histogram2d\": [{\"colorbar\": {\"outlinewidth\": 0, \"ticks\": \"\"}, \"colorscale\": [[0.0, \"#0d0887\"], [0.1111111111111111, \"#46039f\"], [0.2222222222222222, \"#7201a8\"], [0.3333333333333333, \"#9c179e\"], [0.4444444444444444, \"#bd3786\"], [0.5555555555555556, \"#d8576b\"], [0.6666666666666666, \"#ed7953\"], [0.7777777777777778, \"#fb9f3a\"], [0.8888888888888888, \"#fdca26\"], [1.0, \"#f0f921\"]], \"type\": \"histogram2d\"}], \"histogram2dcontour\": [{\"colorbar\": {\"outlinewidth\": 0, \"ticks\": \"\"}, \"colorscale\": [[0.0, \"#0d0887\"], [0.1111111111111111, \"#46039f\"], [0.2222222222222222, \"#7201a8\"], [0.3333333333333333, \"#9c179e\"], [0.4444444444444444, \"#bd3786\"], [0.5555555555555556, \"#d8576b\"], [0.6666666666666666, \"#ed7953\"], [0.7777777777777778, \"#fb9f3a\"], [0.8888888888888888, \"#fdca26\"], [1.0, \"#f0f921\"]], \"type\": \"histogram2dcontour\"}], \"mesh3d\": [{\"colorbar\": {\"outlinewidth\": 0, \"ticks\": \"\"}, \"type\": \"mesh3d\"}], \"parcoords\": [{\"line\": {\"colorbar\": {\"outlinewidth\": 0, \"ticks\": \"\"}}, \"type\": \"parcoords\"}], \"pie\": [{\"automargin\": true, \"type\": \"pie\"}], \"scatter\": [{\"marker\": {\"colorbar\": {\"outlinewidth\": 0, \"ticks\": \"\"}}, \"type\": \"scatter\"}], \"scatter3d\": [{\"line\": {\"colorbar\": {\"outlinewidth\": 0, \"ticks\": \"\"}}, \"marker\": {\"colorbar\": {\"outlinewidth\": 0, \"ticks\": \"\"}}, \"type\": \"scatter3d\"}], \"scattercarpet\": [{\"marker\": {\"colorbar\": {\"outlinewidth\": 0, \"ticks\": \"\"}}, \"type\": \"scattercarpet\"}], \"scattergeo\": [{\"marker\": {\"colorbar\": {\"outlinewidth\": 0, \"ticks\": \"\"}}, \"type\": \"scattergeo\"}], \"scattergl\": [{\"marker\": {\"colorbar\": {\"outlinewidth\": 0, \"ticks\": \"\"}}, \"type\": \"scattergl\"}], \"scattermapbox\": [{\"marker\": {\"colorbar\": {\"outlinewidth\": 0, \"ticks\": \"\"}}, \"type\": \"scattermapbox\"}], \"scatterpolar\": [{\"marker\": {\"colorbar\": {\"outlinewidth\": 0, \"ticks\": \"\"}}, \"type\": \"scatterpolar\"}], \"scatterpolargl\": [{\"marker\": {\"colorbar\": {\"outlinewidth\": 0, \"ticks\": \"\"}}, \"type\": \"scatterpolargl\"}], \"scatterternary\": [{\"marker\": {\"colorbar\": {\"outlinewidth\": 0, \"ticks\": \"\"}}, \"type\": \"scatterternary\"}], \"surface\": [{\"colorbar\": {\"outlinewidth\": 0, \"ticks\": \"\"}, \"colorscale\": [[0.0, \"#0d0887\"], [0.1111111111111111, \"#46039f\"], [0.2222222222222222, \"#7201a8\"], [0.3333333333333333, \"#9c179e\"], [0.4444444444444444, \"#bd3786\"], [0.5555555555555556, \"#d8576b\"], [0.6666666666666666, \"#ed7953\"], [0.7777777777777778, \"#fb9f3a\"], [0.8888888888888888, \"#fdca26\"], [1.0, \"#f0f921\"]], \"type\": \"surface\"}], \"table\": [{\"cells\": {\"fill\": {\"color\": \"#EBF0F8\"}, \"line\": {\"color\": \"white\"}}, \"header\": {\"fill\": {\"color\": \"#C8D4E3\"}, \"line\": {\"color\": \"white\"}}, \"type\": \"table\"}]}, \"layout\": {\"annotationdefaults\": {\"arrowcolor\": \"#2a3f5f\", \"arrowhead\": 0, \"arrowwidth\": 1}, \"autotypenumbers\": \"strict\", \"coloraxis\": {\"colorbar\": {\"outlinewidth\": 0, \"ticks\": \"\"}}, \"colorscale\": {\"diverging\": [[0, \"#8e0152\"], [0.1, \"#c51b7d\"], [0.2, \"#de77ae\"], [0.3, \"#f1b6da\"], [0.4, \"#fde0ef\"], [0.5, \"#f7f7f7\"], [0.6, \"#e6f5d0\"], [0.7, \"#b8e186\"], [0.8, \"#7fbc41\"], [0.9, \"#4d9221\"], [1, \"#276419\"]], \"sequential\": [[0.0, \"#0d0887\"], [0.1111111111111111, \"#46039f\"], [0.2222222222222222, \"#7201a8\"], [0.3333333333333333, \"#9c179e\"], [0.4444444444444444, \"#bd3786\"], [0.5555555555555556, \"#d8576b\"], [0.6666666666666666, \"#ed7953\"], [0.7777777777777778, \"#fb9f3a\"], [0.8888888888888888, \"#fdca26\"], [1.0, \"#f0f921\"]], \"sequentialminus\": [[0.0, \"#0d0887\"], [0.1111111111111111, \"#46039f\"], [0.2222222222222222, \"#7201a8\"], [0.3333333333333333, \"#9c179e\"], [0.4444444444444444, \"#bd3786\"], [0.5555555555555556, \"#d8576b\"], [0.6666666666666666, \"#ed7953\"], [0.7777777777777778, \"#fb9f3a\"], [0.8888888888888888, \"#fdca26\"], [1.0, \"#f0f921\"]]}, \"colorway\": [\"#636efa\", \"#EF553B\", \"#00cc96\", \"#ab63fa\", \"#FFA15A\", \"#19d3f3\", \"#FF6692\", \"#B6E880\", \"#FF97FF\", \"#FECB52\"], \"font\": {\"color\": \"#2a3f5f\"}, \"geo\": {\"bgcolor\": \"white\", \"lakecolor\": \"white\", \"landcolor\": \"#E5ECF6\", \"showlakes\": true, \"showland\": true, \"subunitcolor\": \"white\"}, \"hoverlabel\": {\"align\": \"left\"}, \"hovermode\": \"closest\", \"mapbox\": {\"style\": \"light\"}, \"paper_bgcolor\": \"white\", \"plot_bgcolor\": \"#E5ECF6\", \"polar\": {\"angularaxis\": {\"gridcolor\": \"white\", \"linecolor\": \"white\", \"ticks\": \"\"}, \"bgcolor\": \"#E5ECF6\", \"radialaxis\": {\"gridcolor\": \"white\", \"linecolor\": \"white\", \"ticks\": \"\"}}, \"scene\": {\"xaxis\": {\"backgroundcolor\": \"#E5ECF6\", \"gridcolor\": \"white\", \"gridwidth\": 2, \"linecolor\": \"white\", \"showbackground\": true, \"ticks\": \"\", \"zerolinecolor\": \"white\"}, \"yaxis\": {\"backgroundcolor\": \"#E5ECF6\", \"gridcolor\": \"white\", \"gridwidth\": 2, \"linecolor\": \"white\", \"showbackground\": true, \"ticks\": \"\", \"zerolinecolor\": \"white\"}, \"zaxis\": {\"backgroundcolor\": \"#E5ECF6\", \"gridcolor\": \"white\", \"gridwidth\": 2, \"linecolor\": \"white\", \"showbackground\": true, \"ticks\": \"\", \"zerolinecolor\": \"white\"}}, \"shapedefaults\": {\"line\": {\"color\": \"#2a3f5f\"}}, \"ternary\": {\"aaxis\": {\"gridcolor\": \"white\", \"linecolor\": \"white\", \"ticks\": \"\"}, \"baxis\": {\"gridcolor\": \"white\", \"linecolor\": \"white\", \"ticks\": \"\"}, \"bgcolor\": \"#E5ECF6\", \"caxis\": {\"gridcolor\": \"white\", \"linecolor\": \"white\", \"ticks\": \"\"}}, \"title\": {\"x\": 0.05}, \"xaxis\": {\"automargin\": true, \"gridcolor\": \"white\", \"linecolor\": \"white\", \"ticks\": \"\", \"title\": {\"standoff\": 15}, \"zerolinecolor\": \"white\", \"zerolinewidth\": 2}, \"yaxis\": {\"automargin\": true, \"gridcolor\": \"white\", \"linecolor\": \"white\", \"ticks\": \"\", \"title\": {\"standoff\": 15}, \"zerolinecolor\": \"white\", \"zerolinewidth\": 2}}}, \"title\": {\"font\": {\"color\": \"#4D5663\"}}},                        {\"showLink\": true, \"linkText\": \"Export to plot.ly\", \"plotlyServerURL\": \"https://plot.ly\", \"responsive\": true}                    ).then(function(){\n",
       "                            \n",
       "var gd = document.getElementById('eea92031-dce4-4620-a81f-80d148f9277d');\n",
       "var x = new MutationObserver(function (mutations, observer) {{\n",
       "        var display = window.getComputedStyle(gd).display;\n",
       "        if (!display || display === 'none') {{\n",
       "            console.log([gd, 'removed!']);\n",
       "            Plotly.purge(gd);\n",
       "            observer.disconnect();\n",
       "        }}\n",
       "}});\n",
       "\n",
       "// Listen for the removal of the full notebook cells\n",
       "var notebookContainer = gd.closest('#notebook-container');\n",
       "if (notebookContainer) {{\n",
       "    x.observe(notebookContainer, {childList: true});\n",
       "}}\n",
       "\n",
       "// Listen for the clearing of the current output cell\n",
       "var outputEl = gd.closest('.output');\n",
       "if (outputEl) {{\n",
       "    x.observe(outputEl, {childList: true});\n",
       "}}\n",
       "\n",
       "                        })                };                });            </script>        </div>"
      ]
     },
     "metadata": {},
     "output_type": "display_data"
    }
   ],
   "source": [
    "bb.iplot(kind = 'bubble3d', x = 'x', y= 'y', z = 'z', size = 'size')"
   ]
  },
  {
   "cell_type": "code",
   "execution_count": 20,
   "metadata": {},
   "outputs": [
    {
     "data": {
      "application/vnd.plotly.v1+json": {
       "config": {
        "linkText": "Export to plot.ly",
        "plotlyServerURL": "https://plot.ly",
        "showLink": true
       },
       "data": [
        {
         "colorscale": [
          [
           0,
           "rgb(158,1,66)"
          ],
          [
           0.1,
           "rgb(213,62,79)"
          ],
          [
           0.2,
           "rgb(244,109,67)"
          ],
          [
           0.3,
           "rgb(253,174,97)"
          ],
          [
           0.4,
           "rgb(254,224,139)"
          ],
          [
           0.5,
           "rgb(255,255,191)"
          ],
          [
           0.6,
           "rgb(230,245,152)"
          ],
          [
           0.7,
           "rgb(171,221,164)"
          ],
          [
           0.8,
           "rgb(102,194,165)"
          ],
          [
           0.9,
           "rgb(50,136,189)"
          ],
          [
           1,
           "rgb(94,79,162)"
          ]
         ],
         "type": "heatmap",
         "x": [
          "A",
          "B",
          "C"
         ],
         "y": [
          "A",
          "B",
          "C"
         ],
         "z": [
          [
           1,
           -0.04861870980241639,
           0.5103249501410507
          ],
          [
           -0.04861870980241639,
           1,
           -0.6022257810936567
          ],
          [
           0.5103249501410507,
           -0.6022257810936567,
           1
          ]
         ],
         "zmax": 1,
         "zmin": -0.6022257810936567
        }
       ],
       "layout": {
        "legend": {
         "bgcolor": "#F5F6F9",
         "font": {
          "color": "#4D5663"
         }
        },
        "paper_bgcolor": "#F5F6F9",
        "plot_bgcolor": "#F5F6F9",
        "template": {
         "data": {
          "bar": [
           {
            "error_x": {
             "color": "#2a3f5f"
            },
            "error_y": {
             "color": "#2a3f5f"
            },
            "marker": {
             "line": {
              "color": "#E5ECF6",
              "width": 0.5
             }
            },
            "type": "bar"
           }
          ],
          "barpolar": [
           {
            "marker": {
             "line": {
              "color": "#E5ECF6",
              "width": 0.5
             }
            },
            "type": "barpolar"
           }
          ],
          "carpet": [
           {
            "aaxis": {
             "endlinecolor": "#2a3f5f",
             "gridcolor": "white",
             "linecolor": "white",
             "minorgridcolor": "white",
             "startlinecolor": "#2a3f5f"
            },
            "baxis": {
             "endlinecolor": "#2a3f5f",
             "gridcolor": "white",
             "linecolor": "white",
             "minorgridcolor": "white",
             "startlinecolor": "#2a3f5f"
            },
            "type": "carpet"
           }
          ],
          "choropleth": [
           {
            "colorbar": {
             "outlinewidth": 0,
             "ticks": ""
            },
            "type": "choropleth"
           }
          ],
          "contour": [
           {
            "colorbar": {
             "outlinewidth": 0,
             "ticks": ""
            },
            "colorscale": [
             [
              0,
              "#0d0887"
             ],
             [
              0.1111111111111111,
              "#46039f"
             ],
             [
              0.2222222222222222,
              "#7201a8"
             ],
             [
              0.3333333333333333,
              "#9c179e"
             ],
             [
              0.4444444444444444,
              "#bd3786"
             ],
             [
              0.5555555555555556,
              "#d8576b"
             ],
             [
              0.6666666666666666,
              "#ed7953"
             ],
             [
              0.7777777777777778,
              "#fb9f3a"
             ],
             [
              0.8888888888888888,
              "#fdca26"
             ],
             [
              1,
              "#f0f921"
             ]
            ],
            "type": "contour"
           }
          ],
          "contourcarpet": [
           {
            "colorbar": {
             "outlinewidth": 0,
             "ticks": ""
            },
            "type": "contourcarpet"
           }
          ],
          "heatmap": [
           {
            "colorbar": {
             "outlinewidth": 0,
             "ticks": ""
            },
            "colorscale": [
             [
              0,
              "#0d0887"
             ],
             [
              0.1111111111111111,
              "#46039f"
             ],
             [
              0.2222222222222222,
              "#7201a8"
             ],
             [
              0.3333333333333333,
              "#9c179e"
             ],
             [
              0.4444444444444444,
              "#bd3786"
             ],
             [
              0.5555555555555556,
              "#d8576b"
             ],
             [
              0.6666666666666666,
              "#ed7953"
             ],
             [
              0.7777777777777778,
              "#fb9f3a"
             ],
             [
              0.8888888888888888,
              "#fdca26"
             ],
             [
              1,
              "#f0f921"
             ]
            ],
            "type": "heatmap"
           }
          ],
          "heatmapgl": [
           {
            "colorbar": {
             "outlinewidth": 0,
             "ticks": ""
            },
            "colorscale": [
             [
              0,
              "#0d0887"
             ],
             [
              0.1111111111111111,
              "#46039f"
             ],
             [
              0.2222222222222222,
              "#7201a8"
             ],
             [
              0.3333333333333333,
              "#9c179e"
             ],
             [
              0.4444444444444444,
              "#bd3786"
             ],
             [
              0.5555555555555556,
              "#d8576b"
             ],
             [
              0.6666666666666666,
              "#ed7953"
             ],
             [
              0.7777777777777778,
              "#fb9f3a"
             ],
             [
              0.8888888888888888,
              "#fdca26"
             ],
             [
              1,
              "#f0f921"
             ]
            ],
            "type": "heatmapgl"
           }
          ],
          "histogram": [
           {
            "marker": {
             "colorbar": {
              "outlinewidth": 0,
              "ticks": ""
             }
            },
            "type": "histogram"
           }
          ],
          "histogram2d": [
           {
            "colorbar": {
             "outlinewidth": 0,
             "ticks": ""
            },
            "colorscale": [
             [
              0,
              "#0d0887"
             ],
             [
              0.1111111111111111,
              "#46039f"
             ],
             [
              0.2222222222222222,
              "#7201a8"
             ],
             [
              0.3333333333333333,
              "#9c179e"
             ],
             [
              0.4444444444444444,
              "#bd3786"
             ],
             [
              0.5555555555555556,
              "#d8576b"
             ],
             [
              0.6666666666666666,
              "#ed7953"
             ],
             [
              0.7777777777777778,
              "#fb9f3a"
             ],
             [
              0.8888888888888888,
              "#fdca26"
             ],
             [
              1,
              "#f0f921"
             ]
            ],
            "type": "histogram2d"
           }
          ],
          "histogram2dcontour": [
           {
            "colorbar": {
             "outlinewidth": 0,
             "ticks": ""
            },
            "colorscale": [
             [
              0,
              "#0d0887"
             ],
             [
              0.1111111111111111,
              "#46039f"
             ],
             [
              0.2222222222222222,
              "#7201a8"
             ],
             [
              0.3333333333333333,
              "#9c179e"
             ],
             [
              0.4444444444444444,
              "#bd3786"
             ],
             [
              0.5555555555555556,
              "#d8576b"
             ],
             [
              0.6666666666666666,
              "#ed7953"
             ],
             [
              0.7777777777777778,
              "#fb9f3a"
             ],
             [
              0.8888888888888888,
              "#fdca26"
             ],
             [
              1,
              "#f0f921"
             ]
            ],
            "type": "histogram2dcontour"
           }
          ],
          "mesh3d": [
           {
            "colorbar": {
             "outlinewidth": 0,
             "ticks": ""
            },
            "type": "mesh3d"
           }
          ],
          "parcoords": [
           {
            "line": {
             "colorbar": {
              "outlinewidth": 0,
              "ticks": ""
             }
            },
            "type": "parcoords"
           }
          ],
          "pie": [
           {
            "automargin": true,
            "type": "pie"
           }
          ],
          "scatter": [
           {
            "marker": {
             "colorbar": {
              "outlinewidth": 0,
              "ticks": ""
             }
            },
            "type": "scatter"
           }
          ],
          "scatter3d": [
           {
            "line": {
             "colorbar": {
              "outlinewidth": 0,
              "ticks": ""
             }
            },
            "marker": {
             "colorbar": {
              "outlinewidth": 0,
              "ticks": ""
             }
            },
            "type": "scatter3d"
           }
          ],
          "scattercarpet": [
           {
            "marker": {
             "colorbar": {
              "outlinewidth": 0,
              "ticks": ""
             }
            },
            "type": "scattercarpet"
           }
          ],
          "scattergeo": [
           {
            "marker": {
             "colorbar": {
              "outlinewidth": 0,
              "ticks": ""
             }
            },
            "type": "scattergeo"
           }
          ],
          "scattergl": [
           {
            "marker": {
             "colorbar": {
              "outlinewidth": 0,
              "ticks": ""
             }
            },
            "type": "scattergl"
           }
          ],
          "scattermapbox": [
           {
            "marker": {
             "colorbar": {
              "outlinewidth": 0,
              "ticks": ""
             }
            },
            "type": "scattermapbox"
           }
          ],
          "scatterpolar": [
           {
            "marker": {
             "colorbar": {
              "outlinewidth": 0,
              "ticks": ""
             }
            },
            "type": "scatterpolar"
           }
          ],
          "scatterpolargl": [
           {
            "marker": {
             "colorbar": {
              "outlinewidth": 0,
              "ticks": ""
             }
            },
            "type": "scatterpolargl"
           }
          ],
          "scatterternary": [
           {
            "marker": {
             "colorbar": {
              "outlinewidth": 0,
              "ticks": ""
             }
            },
            "type": "scatterternary"
           }
          ],
          "surface": [
           {
            "colorbar": {
             "outlinewidth": 0,
             "ticks": ""
            },
            "colorscale": [
             [
              0,
              "#0d0887"
             ],
             [
              0.1111111111111111,
              "#46039f"
             ],
             [
              0.2222222222222222,
              "#7201a8"
             ],
             [
              0.3333333333333333,
              "#9c179e"
             ],
             [
              0.4444444444444444,
              "#bd3786"
             ],
             [
              0.5555555555555556,
              "#d8576b"
             ],
             [
              0.6666666666666666,
              "#ed7953"
             ],
             [
              0.7777777777777778,
              "#fb9f3a"
             ],
             [
              0.8888888888888888,
              "#fdca26"
             ],
             [
              1,
              "#f0f921"
             ]
            ],
            "type": "surface"
           }
          ],
          "table": [
           {
            "cells": {
             "fill": {
              "color": "#EBF0F8"
             },
             "line": {
              "color": "white"
             }
            },
            "header": {
             "fill": {
              "color": "#C8D4E3"
             },
             "line": {
              "color": "white"
             }
            },
            "type": "table"
           }
          ]
         },
         "layout": {
          "annotationdefaults": {
           "arrowcolor": "#2a3f5f",
           "arrowhead": 0,
           "arrowwidth": 1
          },
          "autotypenumbers": "strict",
          "coloraxis": {
           "colorbar": {
            "outlinewidth": 0,
            "ticks": ""
           }
          },
          "colorscale": {
           "diverging": [
            [
             0,
             "#8e0152"
            ],
            [
             0.1,
             "#c51b7d"
            ],
            [
             0.2,
             "#de77ae"
            ],
            [
             0.3,
             "#f1b6da"
            ],
            [
             0.4,
             "#fde0ef"
            ],
            [
             0.5,
             "#f7f7f7"
            ],
            [
             0.6,
             "#e6f5d0"
            ],
            [
             0.7,
             "#b8e186"
            ],
            [
             0.8,
             "#7fbc41"
            ],
            [
             0.9,
             "#4d9221"
            ],
            [
             1,
             "#276419"
            ]
           ],
           "sequential": [
            [
             0,
             "#0d0887"
            ],
            [
             0.1111111111111111,
             "#46039f"
            ],
            [
             0.2222222222222222,
             "#7201a8"
            ],
            [
             0.3333333333333333,
             "#9c179e"
            ],
            [
             0.4444444444444444,
             "#bd3786"
            ],
            [
             0.5555555555555556,
             "#d8576b"
            ],
            [
             0.6666666666666666,
             "#ed7953"
            ],
            [
             0.7777777777777778,
             "#fb9f3a"
            ],
            [
             0.8888888888888888,
             "#fdca26"
            ],
            [
             1,
             "#f0f921"
            ]
           ],
           "sequentialminus": [
            [
             0,
             "#0d0887"
            ],
            [
             0.1111111111111111,
             "#46039f"
            ],
            [
             0.2222222222222222,
             "#7201a8"
            ],
            [
             0.3333333333333333,
             "#9c179e"
            ],
            [
             0.4444444444444444,
             "#bd3786"
            ],
            [
             0.5555555555555556,
             "#d8576b"
            ],
            [
             0.6666666666666666,
             "#ed7953"
            ],
            [
             0.7777777777777778,
             "#fb9f3a"
            ],
            [
             0.8888888888888888,
             "#fdca26"
            ],
            [
             1,
             "#f0f921"
            ]
           ]
          },
          "colorway": [
           "#636efa",
           "#EF553B",
           "#00cc96",
           "#ab63fa",
           "#FFA15A",
           "#19d3f3",
           "#FF6692",
           "#B6E880",
           "#FF97FF",
           "#FECB52"
          ],
          "font": {
           "color": "#2a3f5f"
          },
          "geo": {
           "bgcolor": "white",
           "lakecolor": "white",
           "landcolor": "#E5ECF6",
           "showlakes": true,
           "showland": true,
           "subunitcolor": "white"
          },
          "hoverlabel": {
           "align": "left"
          },
          "hovermode": "closest",
          "mapbox": {
           "style": "light"
          },
          "paper_bgcolor": "white",
          "plot_bgcolor": "#E5ECF6",
          "polar": {
           "angularaxis": {
            "gridcolor": "white",
            "linecolor": "white",
            "ticks": ""
           },
           "bgcolor": "#E5ECF6",
           "radialaxis": {
            "gridcolor": "white",
            "linecolor": "white",
            "ticks": ""
           }
          },
          "scene": {
           "xaxis": {
            "backgroundcolor": "#E5ECF6",
            "gridcolor": "white",
            "gridwidth": 2,
            "linecolor": "white",
            "showbackground": true,
            "ticks": "",
            "zerolinecolor": "white"
           },
           "yaxis": {
            "backgroundcolor": "#E5ECF6",
            "gridcolor": "white",
            "gridwidth": 2,
            "linecolor": "white",
            "showbackground": true,
            "ticks": "",
            "zerolinecolor": "white"
           },
           "zaxis": {
            "backgroundcolor": "#E5ECF6",
            "gridcolor": "white",
            "gridwidth": 2,
            "linecolor": "white",
            "showbackground": true,
            "ticks": "",
            "zerolinecolor": "white"
           }
          },
          "shapedefaults": {
           "line": {
            "color": "#2a3f5f"
           }
          },
          "ternary": {
           "aaxis": {
            "gridcolor": "white",
            "linecolor": "white",
            "ticks": ""
           },
           "baxis": {
            "gridcolor": "white",
            "linecolor": "white",
            "ticks": ""
           },
           "bgcolor": "#E5ECF6",
           "caxis": {
            "gridcolor": "white",
            "linecolor": "white",
            "ticks": ""
           }
          },
          "title": {
           "x": 0.05
          },
          "xaxis": {
           "automargin": true,
           "gridcolor": "white",
           "linecolor": "white",
           "ticks": "",
           "title": {
            "standoff": 15
           },
           "zerolinecolor": "white",
           "zerolinewidth": 2
          },
          "yaxis": {
           "automargin": true,
           "gridcolor": "white",
           "linecolor": "white",
           "ticks": "",
           "title": {
            "standoff": 15
           },
           "zerolinecolor": "white",
           "zerolinewidth": 2
          }
         }
        },
        "title": {
         "font": {
          "color": "#4D5663"
         }
        },
        "xaxis": {
         "gridcolor": "#E1E5ED",
         "showgrid": true,
         "tickfont": {
          "color": "#4D5663"
         },
         "title": {
          "font": {
           "color": "#4D5663"
          },
          "text": ""
         },
         "zerolinecolor": "#E1E5ED"
        },
        "yaxis": {
         "gridcolor": "#E1E5ED",
         "showgrid": true,
         "tickfont": {
          "color": "#4D5663"
         },
         "title": {
          "font": {
           "color": "#4D5663"
          },
          "text": ""
         },
         "zerolinecolor": "#E1E5ED"
        }
       }
      },
      "text/html": [
       "<div>                            <div id=\"62be482c-69dc-4447-8e17-e77a808c956d\" class=\"plotly-graph-div\" style=\"height:525px; width:100%;\"></div>            <script type=\"text/javascript\">                require([\"plotly\"], function(Plotly) {                    window.PLOTLYENV=window.PLOTLYENV || {};\n",
       "                    window.PLOTLYENV.BASE_URL='https://plot.ly';                                    if (document.getElementById(\"62be482c-69dc-4447-8e17-e77a808c956d\")) {                    Plotly.newPlot(                        \"62be482c-69dc-4447-8e17-e77a808c956d\",                        [{\"colorscale\": [[0.0, \"rgb(158,1,66)\"], [0.1, \"rgb(213,62,79)\"], [0.2, \"rgb(244,109,67)\"], [0.3, \"rgb(253,174,97)\"], [0.4, \"rgb(254,224,139)\"], [0.5, \"rgb(255,255,191)\"], [0.6, \"rgb(230,245,152)\"], [0.7, \"rgb(171,221,164)\"], [0.8, \"rgb(102,194,165)\"], [0.9, \"rgb(50,136,189)\"], [1.0, \"rgb(94,79,162)\"]], \"type\": \"heatmap\", \"x\": [\"A\", \"B\", \"C\"], \"y\": [\"A\", \"B\", \"C\"], \"z\": [[1.0, -0.04861870980241639, 0.5103249501410507], [-0.04861870980241639, 1.0, -0.6022257810936567], [0.5103249501410507, -0.6022257810936567, 1.0]], \"zmax\": 1.0, \"zmin\": -0.6022257810936567}],                        {\"legend\": {\"bgcolor\": \"#F5F6F9\", \"font\": {\"color\": \"#4D5663\"}}, \"paper_bgcolor\": \"#F5F6F9\", \"plot_bgcolor\": \"#F5F6F9\", \"template\": {\"data\": {\"bar\": [{\"error_x\": {\"color\": \"#2a3f5f\"}, \"error_y\": {\"color\": \"#2a3f5f\"}, \"marker\": {\"line\": {\"color\": \"#E5ECF6\", \"width\": 0.5}}, \"type\": \"bar\"}], \"barpolar\": [{\"marker\": {\"line\": {\"color\": \"#E5ECF6\", \"width\": 0.5}}, \"type\": \"barpolar\"}], \"carpet\": [{\"aaxis\": {\"endlinecolor\": \"#2a3f5f\", \"gridcolor\": \"white\", \"linecolor\": \"white\", \"minorgridcolor\": \"white\", \"startlinecolor\": \"#2a3f5f\"}, \"baxis\": {\"endlinecolor\": \"#2a3f5f\", \"gridcolor\": \"white\", \"linecolor\": \"white\", \"minorgridcolor\": \"white\", \"startlinecolor\": \"#2a3f5f\"}, \"type\": \"carpet\"}], \"choropleth\": [{\"colorbar\": {\"outlinewidth\": 0, \"ticks\": \"\"}, \"type\": \"choropleth\"}], \"contour\": [{\"colorbar\": {\"outlinewidth\": 0, \"ticks\": \"\"}, \"colorscale\": [[0.0, \"#0d0887\"], [0.1111111111111111, \"#46039f\"], [0.2222222222222222, \"#7201a8\"], [0.3333333333333333, \"#9c179e\"], [0.4444444444444444, \"#bd3786\"], [0.5555555555555556, \"#d8576b\"], [0.6666666666666666, \"#ed7953\"], [0.7777777777777778, \"#fb9f3a\"], [0.8888888888888888, \"#fdca26\"], [1.0, \"#f0f921\"]], \"type\": \"contour\"}], \"contourcarpet\": [{\"colorbar\": {\"outlinewidth\": 0, \"ticks\": \"\"}, \"type\": \"contourcarpet\"}], \"heatmap\": [{\"colorbar\": {\"outlinewidth\": 0, \"ticks\": \"\"}, \"colorscale\": [[0.0, \"#0d0887\"], [0.1111111111111111, \"#46039f\"], [0.2222222222222222, \"#7201a8\"], [0.3333333333333333, \"#9c179e\"], [0.4444444444444444, \"#bd3786\"], [0.5555555555555556, \"#d8576b\"], [0.6666666666666666, \"#ed7953\"], [0.7777777777777778, \"#fb9f3a\"], [0.8888888888888888, \"#fdca26\"], [1.0, \"#f0f921\"]], \"type\": \"heatmap\"}], \"heatmapgl\": [{\"colorbar\": {\"outlinewidth\": 0, \"ticks\": \"\"}, \"colorscale\": [[0.0, \"#0d0887\"], [0.1111111111111111, \"#46039f\"], [0.2222222222222222, \"#7201a8\"], [0.3333333333333333, \"#9c179e\"], [0.4444444444444444, \"#bd3786\"], [0.5555555555555556, \"#d8576b\"], [0.6666666666666666, \"#ed7953\"], [0.7777777777777778, \"#fb9f3a\"], [0.8888888888888888, \"#fdca26\"], [1.0, \"#f0f921\"]], \"type\": \"heatmapgl\"}], \"histogram\": [{\"marker\": {\"colorbar\": {\"outlinewidth\": 0, \"ticks\": \"\"}}, \"type\": \"histogram\"}], \"histogram2d\": [{\"colorbar\": {\"outlinewidth\": 0, \"ticks\": \"\"}, \"colorscale\": [[0.0, \"#0d0887\"], [0.1111111111111111, \"#46039f\"], [0.2222222222222222, \"#7201a8\"], [0.3333333333333333, \"#9c179e\"], [0.4444444444444444, \"#bd3786\"], [0.5555555555555556, \"#d8576b\"], [0.6666666666666666, \"#ed7953\"], [0.7777777777777778, \"#fb9f3a\"], [0.8888888888888888, \"#fdca26\"], [1.0, \"#f0f921\"]], \"type\": \"histogram2d\"}], \"histogram2dcontour\": [{\"colorbar\": {\"outlinewidth\": 0, \"ticks\": \"\"}, \"colorscale\": [[0.0, \"#0d0887\"], [0.1111111111111111, \"#46039f\"], [0.2222222222222222, \"#7201a8\"], [0.3333333333333333, \"#9c179e\"], [0.4444444444444444, \"#bd3786\"], [0.5555555555555556, \"#d8576b\"], [0.6666666666666666, \"#ed7953\"], [0.7777777777777778, \"#fb9f3a\"], [0.8888888888888888, \"#fdca26\"], [1.0, \"#f0f921\"]], \"type\": \"histogram2dcontour\"}], \"mesh3d\": [{\"colorbar\": {\"outlinewidth\": 0, \"ticks\": \"\"}, \"type\": \"mesh3d\"}], \"parcoords\": [{\"line\": {\"colorbar\": {\"outlinewidth\": 0, \"ticks\": \"\"}}, \"type\": \"parcoords\"}], \"pie\": [{\"automargin\": true, \"type\": \"pie\"}], \"scatter\": [{\"marker\": {\"colorbar\": {\"outlinewidth\": 0, \"ticks\": \"\"}}, \"type\": \"scatter\"}], \"scatter3d\": [{\"line\": {\"colorbar\": {\"outlinewidth\": 0, \"ticks\": \"\"}}, \"marker\": {\"colorbar\": {\"outlinewidth\": 0, \"ticks\": \"\"}}, \"type\": \"scatter3d\"}], \"scattercarpet\": [{\"marker\": {\"colorbar\": {\"outlinewidth\": 0, \"ticks\": \"\"}}, \"type\": \"scattercarpet\"}], \"scattergeo\": [{\"marker\": {\"colorbar\": {\"outlinewidth\": 0, \"ticks\": \"\"}}, \"type\": \"scattergeo\"}], \"scattergl\": [{\"marker\": {\"colorbar\": {\"outlinewidth\": 0, \"ticks\": \"\"}}, \"type\": \"scattergl\"}], \"scattermapbox\": [{\"marker\": {\"colorbar\": {\"outlinewidth\": 0, \"ticks\": \"\"}}, \"type\": \"scattermapbox\"}], \"scatterpolar\": [{\"marker\": {\"colorbar\": {\"outlinewidth\": 0, \"ticks\": \"\"}}, \"type\": \"scatterpolar\"}], \"scatterpolargl\": [{\"marker\": {\"colorbar\": {\"outlinewidth\": 0, \"ticks\": \"\"}}, \"type\": \"scatterpolargl\"}], \"scatterternary\": [{\"marker\": {\"colorbar\": {\"outlinewidth\": 0, \"ticks\": \"\"}}, \"type\": \"scatterternary\"}], \"surface\": [{\"colorbar\": {\"outlinewidth\": 0, \"ticks\": \"\"}, \"colorscale\": [[0.0, \"#0d0887\"], [0.1111111111111111, \"#46039f\"], [0.2222222222222222, \"#7201a8\"], [0.3333333333333333, \"#9c179e\"], [0.4444444444444444, \"#bd3786\"], [0.5555555555555556, \"#d8576b\"], [0.6666666666666666, \"#ed7953\"], [0.7777777777777778, \"#fb9f3a\"], [0.8888888888888888, \"#fdca26\"], [1.0, \"#f0f921\"]], \"type\": \"surface\"}], \"table\": [{\"cells\": {\"fill\": {\"color\": \"#EBF0F8\"}, \"line\": {\"color\": \"white\"}}, \"header\": {\"fill\": {\"color\": \"#C8D4E3\"}, \"line\": {\"color\": \"white\"}}, \"type\": \"table\"}]}, \"layout\": {\"annotationdefaults\": {\"arrowcolor\": \"#2a3f5f\", \"arrowhead\": 0, \"arrowwidth\": 1}, \"autotypenumbers\": \"strict\", \"coloraxis\": {\"colorbar\": {\"outlinewidth\": 0, \"ticks\": \"\"}}, \"colorscale\": {\"diverging\": [[0, \"#8e0152\"], [0.1, \"#c51b7d\"], [0.2, \"#de77ae\"], [0.3, \"#f1b6da\"], [0.4, \"#fde0ef\"], [0.5, \"#f7f7f7\"], [0.6, \"#e6f5d0\"], [0.7, \"#b8e186\"], [0.8, \"#7fbc41\"], [0.9, \"#4d9221\"], [1, \"#276419\"]], \"sequential\": [[0.0, \"#0d0887\"], [0.1111111111111111, \"#46039f\"], [0.2222222222222222, \"#7201a8\"], [0.3333333333333333, \"#9c179e\"], [0.4444444444444444, \"#bd3786\"], [0.5555555555555556, \"#d8576b\"], [0.6666666666666666, \"#ed7953\"], [0.7777777777777778, \"#fb9f3a\"], [0.8888888888888888, \"#fdca26\"], [1.0, \"#f0f921\"]], \"sequentialminus\": [[0.0, \"#0d0887\"], [0.1111111111111111, \"#46039f\"], [0.2222222222222222, \"#7201a8\"], [0.3333333333333333, \"#9c179e\"], [0.4444444444444444, \"#bd3786\"], [0.5555555555555556, \"#d8576b\"], [0.6666666666666666, \"#ed7953\"], [0.7777777777777778, \"#fb9f3a\"], [0.8888888888888888, \"#fdca26\"], [1.0, \"#f0f921\"]]}, \"colorway\": [\"#636efa\", \"#EF553B\", \"#00cc96\", \"#ab63fa\", \"#FFA15A\", \"#19d3f3\", \"#FF6692\", \"#B6E880\", \"#FF97FF\", \"#FECB52\"], \"font\": {\"color\": \"#2a3f5f\"}, \"geo\": {\"bgcolor\": \"white\", \"lakecolor\": \"white\", \"landcolor\": \"#E5ECF6\", \"showlakes\": true, \"showland\": true, \"subunitcolor\": \"white\"}, \"hoverlabel\": {\"align\": \"left\"}, \"hovermode\": \"closest\", \"mapbox\": {\"style\": \"light\"}, \"paper_bgcolor\": \"white\", \"plot_bgcolor\": \"#E5ECF6\", \"polar\": {\"angularaxis\": {\"gridcolor\": \"white\", \"linecolor\": \"white\", \"ticks\": \"\"}, \"bgcolor\": \"#E5ECF6\", \"radialaxis\": {\"gridcolor\": \"white\", \"linecolor\": \"white\", \"ticks\": \"\"}}, \"scene\": {\"xaxis\": {\"backgroundcolor\": \"#E5ECF6\", \"gridcolor\": \"white\", \"gridwidth\": 2, \"linecolor\": \"white\", \"showbackground\": true, \"ticks\": \"\", \"zerolinecolor\": \"white\"}, \"yaxis\": {\"backgroundcolor\": \"#E5ECF6\", \"gridcolor\": \"white\", \"gridwidth\": 2, \"linecolor\": \"white\", \"showbackground\": true, \"ticks\": \"\", \"zerolinecolor\": \"white\"}, \"zaxis\": {\"backgroundcolor\": \"#E5ECF6\", \"gridcolor\": \"white\", \"gridwidth\": 2, \"linecolor\": \"white\", \"showbackground\": true, \"ticks\": \"\", \"zerolinecolor\": \"white\"}}, \"shapedefaults\": {\"line\": {\"color\": \"#2a3f5f\"}}, \"ternary\": {\"aaxis\": {\"gridcolor\": \"white\", \"linecolor\": \"white\", \"ticks\": \"\"}, \"baxis\": {\"gridcolor\": \"white\", \"linecolor\": \"white\", \"ticks\": \"\"}, \"bgcolor\": \"#E5ECF6\", \"caxis\": {\"gridcolor\": \"white\", \"linecolor\": \"white\", \"ticks\": \"\"}}, \"title\": {\"x\": 0.05}, \"xaxis\": {\"automargin\": true, \"gridcolor\": \"white\", \"linecolor\": \"white\", \"ticks\": \"\", \"title\": {\"standoff\": 15}, \"zerolinecolor\": \"white\", \"zerolinewidth\": 2}, \"yaxis\": {\"automargin\": true, \"gridcolor\": \"white\", \"linecolor\": \"white\", \"ticks\": \"\", \"title\": {\"standoff\": 15}, \"zerolinecolor\": \"white\", \"zerolinewidth\": 2}}}, \"title\": {\"font\": {\"color\": \"#4D5663\"}}, \"xaxis\": {\"gridcolor\": \"#E1E5ED\", \"showgrid\": true, \"tickfont\": {\"color\": \"#4D5663\"}, \"title\": {\"font\": {\"color\": \"#4D5663\"}, \"text\": \"\"}, \"zerolinecolor\": \"#E1E5ED\"}, \"yaxis\": {\"gridcolor\": \"#E1E5ED\", \"showgrid\": true, \"tickfont\": {\"color\": \"#4D5663\"}, \"title\": {\"font\": {\"color\": \"#4D5663\"}, \"text\": \"\"}, \"zerolinecolor\": \"#E1E5ED\"}},                        {\"showLink\": true, \"linkText\": \"Export to plot.ly\", \"plotlyServerURL\": \"https://plot.ly\", \"responsive\": true}                    ).then(function(){\n",
       "                            \n",
       "var gd = document.getElementById('62be482c-69dc-4447-8e17-e77a808c956d');\n",
       "var x = new MutationObserver(function (mutations, observer) {{\n",
       "        var display = window.getComputedStyle(gd).display;\n",
       "        if (!display || display === 'none') {{\n",
       "            console.log([gd, 'removed!']);\n",
       "            Plotly.purge(gd);\n",
       "            observer.disconnect();\n",
       "        }}\n",
       "}});\n",
       "\n",
       "// Listen for the removal of the full notebook cells\n",
       "var notebookContainer = gd.closest('#notebook-container');\n",
       "if (notebookContainer) {{\n",
       "    x.observe(notebookContainer, {childList: true});\n",
       "}}\n",
       "\n",
       "// Listen for the clearing of the current output cell\n",
       "var outputEl = gd.closest('.output');\n",
       "if (outputEl) {{\n",
       "    x.observe(outputEl, {childList: true});\n",
       "}}\n",
       "\n",
       "                        })                };                });            </script>        </div>"
      ]
     },
     "metadata": {},
     "output_type": "display_data"
    }
   ],
   "source": [
    "df.corr().iplot(kind = 'heatmap', colorscale='spectral')"
   ]
  },
  {
   "cell_type": "code",
   "execution_count": 21,
   "metadata": {},
   "outputs": [
    {
     "data": {
      "application/vnd.plotly.v1+json": {
       "config": {
        "linkText": "Export to plot.ly",
        "plotlyServerURL": "https://plot.ly",
        "showLink": true
       },
       "data": [
        {
         "colorscale": [
          [
           0,
           "rgb(158,1,66)"
          ],
          [
           0.1,
           "rgb(213,62,79)"
          ],
          [
           0.2,
           "rgb(244,109,67)"
          ],
          [
           0.3,
           "rgb(253,174,97)"
          ],
          [
           0.4,
           "rgb(254,224,139)"
          ],
          [
           0.5,
           "rgb(255,255,191)"
          ],
          [
           0.6,
           "rgb(230,245,152)"
          ],
          [
           0.7,
           "rgb(171,221,164)"
          ],
          [
           0.8,
           "rgb(102,194,165)"
          ],
          [
           0.9,
           "rgb(50,136,189)"
          ],
          [
           1,
           "rgb(94,79,162)"
          ]
         ],
         "type": "heatmap",
         "x": [
          "x_0",
          "x_1",
          "x_2",
          "x_3",
          "x_4",
          "x_5",
          "x_6",
          "x_7",
          "x_8",
          "x_9",
          "x_10",
          "x_11",
          "x_12",
          "x_13",
          "x_14",
          "x_15",
          "x_16",
          "x_17",
          "x_18",
          "x_19"
         ],
         "y": [
          "y_0",
          "y_1",
          "y_2",
          "y_3",
          "y_4",
          "y_5",
          "y_6",
          "y_7",
          "y_8",
          "y_9",
          "y_10",
          "y_11",
          "y_12",
          "y_13",
          "y_14",
          "y_15",
          "y_16",
          "y_17",
          "y_18",
          "y_19"
         ],
         "z": [
          [
           93,
           91.70417139118263,
           93.34808763015953,
           84.55329039865185,
           84.44618356221714,
           83.89573922971297,
           103.38806554174924,
           84.9257233915592,
           93.2259076232708,
           92.26091887891073,
           78.56957448751827,
           89.65596211323542,
           93.65648163919425,
           92.00857800984461,
           89.52155663812907,
           91.99754709756161,
           92.64307015059899,
           93.98267512199348,
           92.00823970325185,
           94.6761347056753
          ],
          [
           99.3716596907835,
           93.51721276492171,
           93.2834302698461,
           87.25474153073408,
           88.71579664219023,
           87.54394783365744,
           102.39269265268427,
           84.80492672144325,
           93.22411800890131,
           92.46297176336397,
           67.64297222864168,
           87.46217721463175,
           91.27428065879869,
           91.42931337754514,
           87.0853918662433,
           91.67821710364542,
           97.41292768848807,
           93.22539809529886,
           95.01660920619211,
           95.58822491973173
          ],
          [
           105.20110947878808,
           93.85549349739819,
           92.41741107617655,
           86.12883123490792,
           86.16945285751501,
           88.26309754789477,
           105.30863919397201,
           79.22072496686752,
           91.77957060863643,
           93.06120677452029,
           65.44824148751772,
           75.14728725417518,
           90.85826758661847,
           93.76305826253649,
           98.77275025381947,
           79.6983217885558,
           94.27143235570601,
           96.81880360912608,
           96.81270747902703,
           96.30753087295587
          ],
          [
           92.99307383146521,
           97.3106957383093,
           90.94083823279546,
           85.3152618097009,
           85.21133099306765,
           96.15412496028728,
           106.42412021574343,
           84.81463814921028,
           91.74289796625429,
           88.24683356217017,
           55.52181298154601,
           70.80132112198088,
           100.61789797677106,
           91.7102852347784,
           100.19125837803894,
           80.64152426379812,
           93.6851064239915,
           106.98272048658329,
           93.79711937221668,
           97.24173255890427
          ],
          [
           96.52486405574977,
           96.451861207345,
           98.09693126084723,
           85.09079839952678,
           88.3224411840961,
           80.81223077342608,
           86.30856063833352,
           83.02193073313187,
           101.84508409862583,
           87.99064728464654,
           54.17056409071766,
           76.2326220123667,
           103.75534391280782,
           91.07820343767524,
           97.69145088862037,
           85.67345875204647,
           106.89615041705338,
           96.11128305549833,
           99.08491865323553,
           96.11716286481254
          ],
          [
           92.63550018641445,
           96.3419902232051,
           99.0151682099502,
           86.22772309967849,
           77.59796837880127,
           82.72268375361277,
           88.37287708661555,
           87.42082171253493,
           105.57640901644646,
           89.6880133466632,
           61.203470863095745,
           68.39911503162133,
           105.57365770908723,
           105.92388560851758,
           102.08032215470551,
           87.45816252691749,
           105.56629312674666,
           99.337902253236,
           96.49053736401844,
           101.46834724381289
          ],
          [
           96.61242927389902,
           91.33035955565646,
           101.53831692254766,
           78.21909209633793,
           70.40533473176211,
           80.3308385131919,
           81.39671579446309,
           88.09224836252633,
           93.85305752058454,
           89.72603980510691,
           55.32537938461973,
           76.22329680708921,
           105.97377363482174,
           100.76358454542611,
           106.96390614380402,
           90.41141229193425,
           99.98433140093456,
           104.94606100467851,
           102.57451519733719,
           99.03426170971595
          ],
          [
           98.45952864812752,
           91.95590506873063,
           100.75034862352511,
           80.76078422084406,
           60.151867868420425,
           79.56470627133483,
           82.26874876762918,
           89.26646739979202,
           97.57443614617397,
           85.68696611559591,
           55.83020836732804,
           73.12204397493099,
           106.16460421337827,
           86.38299255758368,
           103.58890450550987,
           93.27727346661963,
           93.58828281368069,
           104.6604152948975,
           108.89799746568127,
           105.33040454139606
          ],
          [
           96.56282793846836,
           106.51371680008792,
           103.02247926332328,
           72.66530205627772,
           61.549264492695116,
           85.37989597555874,
           80.46808494425021,
           102.71045573440269,
           82.99408121578794,
           79.94341769805649,
           55.21433192269185,
           72.14582611085584,
           104.50188350676729,
           88.91650163503202,
           95.32096489869124,
           84.79040921179359,
           88.71720835930452,
           108.60890717902221,
           96.79348780182256,
           107.63848237201658
          ],
          [
           100.36621975088862,
           97.1821246884981,
           100.8588184711304,
           67.09061077713346,
           62.76212167305797,
           88.40785815607204,
           80.53772212405988,
           105.90298695509529,
           73.08535500173284,
           78.36292445838107,
           58.63491296896522,
           70.37507784471951,
           105.76931319312305,
           90.280200555557,
           84.55333806045681,
           79.72264658592744,
           89.31455725551952,
           107.01726900874513,
           96.39027077811105,
           116.10291942561221
          ],
          [
           101.236093832699,
           96.17436835768518,
           104.76861117504903,
           62.04167381276769,
           65.66510832365122,
           87.14668790033411,
           86.93463918561895,
           97.53449733585478,
           77.80448403714067,
           84.44512807688982,
           62.669123135029984,
           65.40534067359033,
           105.38660021125578,
           87.99062019012108,
           86.82695163914363,
           82.34181911888544,
           86.66605124037025,
           104.28116104327086,
           84.12771744583014,
           114.6669505225017
          ],
          [
           102.67007089357456,
           102.75937243608259,
           117.84385051109462,
           62.08041915247948,
           65.14387828775861,
           86.56452621692178,
           85.72309755016899,
           111.49865943982415,
           77.50665243143243,
           84.46704988341845,
           57.8561577270709,
           65.60346153381907,
           106.14536004266172,
           80.35710173706221,
           95.99311701988799,
           87.49790911486343,
           87.15213366950859,
           108.20104392798419,
           84.96468523930889,
           106.18138174069341
          ],
          [
           103.48229557665901,
           99.04997433465954,
           125.72572821452177,
           66.1213017115827,
           73.24384552357077,
           80.80223515927061,
           87.82920803262948,
           103.37042824543906,
           83.4100328250716,
           70.0378328405258,
           58.5567394130893,
           61.63183718853898,
           107.04221982062325,
           75.17995348594879,
           98.48229964757928,
           80.34658162639519,
           86.48941964023936,
           112.11154696804536,
           85.76492595745171,
           105.29689804697202
          ],
          [
           102.31728272818123,
           100.97761437330537,
           120.85870157858491,
           62.58103365743776,
           67.83080849875742,
           81.61047235850448,
           86.92908527224026,
           89.9044798272671,
           90.93801037005655,
           58.49099041834008,
           58.23447616068538,
           66.32156518104233,
           107.0699091228535,
           76.90683986701943,
           99.88016779726323,
           80.03527245168033,
           93.45617225073022,
           99.11105936579807,
           78.06081180651489,
           106.39647411510688
          ],
          [
           100.11930178693669,
           100.02223897983711,
           123.18282064723083,
           63.000993616567364,
           67.56594356658613,
           83.54016389487417,
           85.12123900455296,
           87.83077409838896,
           89.94001002692302,
           67.68190681423454,
           62.35769871159278,
           53.28270152652573,
           94.0786616734844,
           70.37151872664964,
           100.24240254739495,
           77.96618909800588,
           96.59110478270138,
           106.60746121181317,
           76.71652466991185,
           102.29093506234415
          ],
          [
           99.33067922550106,
           107.0116165433709,
           140.70287813080688,
           55.44193817365128,
           66.01502354697033,
           82.59684326453936,
           84.923240530195,
           88.56820117956323,
           88.61425702984903,
           70.79597483962547,
           55.469769507081594,
           51.66839700842201,
           93.44420990788545,
           69.81072319118451,
           104.25507391054495,
           85.32007805889128,
           99.1365116493795,
           104.31735703370346,
           78.76335221521654,
           104.29454131976817
          ],
          [
           106.96285901101675,
           110.72730739181574,
           140.36686016833983,
           50.24788529963637,
           71.28348089230666,
           81.89636529937225,
           83.20226107684782,
           88.09793844756766,
           94.07715998288091,
           74.69895383376318,
           41.65617375339343,
           48.46040802897514,
           98.31874794891408,
           62.99695922754429,
           106.84750429830758,
           82.44861070380291,
           84.33119073703774,
           94.9107135357046,
           78.27549399513792,
           107.63914485199064
          ],
          [
           106.17952063573945,
           110.3824511532779,
           149.29284058348352,
           46.318049390354275,
           72.28439269218853,
           81.46691531521437,
           86.55377423375946,
           87.72592321848667,
           95.56282704939588,
           75.61676395187047,
           57.89904391429855,
           49.290499867207544,
           98.47482931898679,
           63.50885011105259,
           106.55801460103159,
           86.13695260432583,
           79.25858734220265,
           86.0151923436174,
           78.33841672033965,
           107.83434325527193
          ],
          [
           103.22115050007535,
           112.35452883051094,
           148.9751374853083,
           50.052220552406816,
           71.19693730353058,
           81.48745369388301,
           93.24504764571981,
           88.24807005215597,
           96.76632735324527,
           77.0342941320415,
           54.24957272218019,
           43.32639429569954,
           94.30942620116686,
           68.13882316753775,
           106.17222420168493,
           87.63363079244246,
           77.41476892600616,
           89.02110092044411,
           58.94799582917724,
           108.2972542601069
          ],
          [
           100.08594376422535,
           106.8107403444898,
           148.98040458902145,
           49.754471346402106,
           71.75586449282507,
           84.47666058193985,
           101.92728267109011,
           82.12274712430435,
           102.91800287762636,
           80.4987883213867,
           54.28206465365733,
           40.62070532112005,
           96.3033572391032,
           66.10567947567509,
           115.8194444940938,
           86.44956135967124,
           62.02770053965884,
           92.24657218255008,
           59.98284333433496,
           122.04270415120087
          ]
         ],
         "zmax": 149.29284058348352,
         "zmin": 40.62070532112005
        }
       ],
       "layout": {
        "legend": {
         "bgcolor": "#F5F6F9",
         "font": {
          "color": "#4D5663"
         }
        },
        "paper_bgcolor": "#F5F6F9",
        "plot_bgcolor": "#F5F6F9",
        "template": {
         "data": {
          "bar": [
           {
            "error_x": {
             "color": "#2a3f5f"
            },
            "error_y": {
             "color": "#2a3f5f"
            },
            "marker": {
             "line": {
              "color": "#E5ECF6",
              "width": 0.5
             }
            },
            "type": "bar"
           }
          ],
          "barpolar": [
           {
            "marker": {
             "line": {
              "color": "#E5ECF6",
              "width": 0.5
             }
            },
            "type": "barpolar"
           }
          ],
          "carpet": [
           {
            "aaxis": {
             "endlinecolor": "#2a3f5f",
             "gridcolor": "white",
             "linecolor": "white",
             "minorgridcolor": "white",
             "startlinecolor": "#2a3f5f"
            },
            "baxis": {
             "endlinecolor": "#2a3f5f",
             "gridcolor": "white",
             "linecolor": "white",
             "minorgridcolor": "white",
             "startlinecolor": "#2a3f5f"
            },
            "type": "carpet"
           }
          ],
          "choropleth": [
           {
            "colorbar": {
             "outlinewidth": 0,
             "ticks": ""
            },
            "type": "choropleth"
           }
          ],
          "contour": [
           {
            "colorbar": {
             "outlinewidth": 0,
             "ticks": ""
            },
            "colorscale": [
             [
              0,
              "#0d0887"
             ],
             [
              0.1111111111111111,
              "#46039f"
             ],
             [
              0.2222222222222222,
              "#7201a8"
             ],
             [
              0.3333333333333333,
              "#9c179e"
             ],
             [
              0.4444444444444444,
              "#bd3786"
             ],
             [
              0.5555555555555556,
              "#d8576b"
             ],
             [
              0.6666666666666666,
              "#ed7953"
             ],
             [
              0.7777777777777778,
              "#fb9f3a"
             ],
             [
              0.8888888888888888,
              "#fdca26"
             ],
             [
              1,
              "#f0f921"
             ]
            ],
            "type": "contour"
           }
          ],
          "contourcarpet": [
           {
            "colorbar": {
             "outlinewidth": 0,
             "ticks": ""
            },
            "type": "contourcarpet"
           }
          ],
          "heatmap": [
           {
            "colorbar": {
             "outlinewidth": 0,
             "ticks": ""
            },
            "colorscale": [
             [
              0,
              "#0d0887"
             ],
             [
              0.1111111111111111,
              "#46039f"
             ],
             [
              0.2222222222222222,
              "#7201a8"
             ],
             [
              0.3333333333333333,
              "#9c179e"
             ],
             [
              0.4444444444444444,
              "#bd3786"
             ],
             [
              0.5555555555555556,
              "#d8576b"
             ],
             [
              0.6666666666666666,
              "#ed7953"
             ],
             [
              0.7777777777777778,
              "#fb9f3a"
             ],
             [
              0.8888888888888888,
              "#fdca26"
             ],
             [
              1,
              "#f0f921"
             ]
            ],
            "type": "heatmap"
           }
          ],
          "heatmapgl": [
           {
            "colorbar": {
             "outlinewidth": 0,
             "ticks": ""
            },
            "colorscale": [
             [
              0,
              "#0d0887"
             ],
             [
              0.1111111111111111,
              "#46039f"
             ],
             [
              0.2222222222222222,
              "#7201a8"
             ],
             [
              0.3333333333333333,
              "#9c179e"
             ],
             [
              0.4444444444444444,
              "#bd3786"
             ],
             [
              0.5555555555555556,
              "#d8576b"
             ],
             [
              0.6666666666666666,
              "#ed7953"
             ],
             [
              0.7777777777777778,
              "#fb9f3a"
             ],
             [
              0.8888888888888888,
              "#fdca26"
             ],
             [
              1,
              "#f0f921"
             ]
            ],
            "type": "heatmapgl"
           }
          ],
          "histogram": [
           {
            "marker": {
             "colorbar": {
              "outlinewidth": 0,
              "ticks": ""
             }
            },
            "type": "histogram"
           }
          ],
          "histogram2d": [
           {
            "colorbar": {
             "outlinewidth": 0,
             "ticks": ""
            },
            "colorscale": [
             [
              0,
              "#0d0887"
             ],
             [
              0.1111111111111111,
              "#46039f"
             ],
             [
              0.2222222222222222,
              "#7201a8"
             ],
             [
              0.3333333333333333,
              "#9c179e"
             ],
             [
              0.4444444444444444,
              "#bd3786"
             ],
             [
              0.5555555555555556,
              "#d8576b"
             ],
             [
              0.6666666666666666,
              "#ed7953"
             ],
             [
              0.7777777777777778,
              "#fb9f3a"
             ],
             [
              0.8888888888888888,
              "#fdca26"
             ],
             [
              1,
              "#f0f921"
             ]
            ],
            "type": "histogram2d"
           }
          ],
          "histogram2dcontour": [
           {
            "colorbar": {
             "outlinewidth": 0,
             "ticks": ""
            },
            "colorscale": [
             [
              0,
              "#0d0887"
             ],
             [
              0.1111111111111111,
              "#46039f"
             ],
             [
              0.2222222222222222,
              "#7201a8"
             ],
             [
              0.3333333333333333,
              "#9c179e"
             ],
             [
              0.4444444444444444,
              "#bd3786"
             ],
             [
              0.5555555555555556,
              "#d8576b"
             ],
             [
              0.6666666666666666,
              "#ed7953"
             ],
             [
              0.7777777777777778,
              "#fb9f3a"
             ],
             [
              0.8888888888888888,
              "#fdca26"
             ],
             [
              1,
              "#f0f921"
             ]
            ],
            "type": "histogram2dcontour"
           }
          ],
          "mesh3d": [
           {
            "colorbar": {
             "outlinewidth": 0,
             "ticks": ""
            },
            "type": "mesh3d"
           }
          ],
          "parcoords": [
           {
            "line": {
             "colorbar": {
              "outlinewidth": 0,
              "ticks": ""
             }
            },
            "type": "parcoords"
           }
          ],
          "pie": [
           {
            "automargin": true,
            "type": "pie"
           }
          ],
          "scatter": [
           {
            "marker": {
             "colorbar": {
              "outlinewidth": 0,
              "ticks": ""
             }
            },
            "type": "scatter"
           }
          ],
          "scatter3d": [
           {
            "line": {
             "colorbar": {
              "outlinewidth": 0,
              "ticks": ""
             }
            },
            "marker": {
             "colorbar": {
              "outlinewidth": 0,
              "ticks": ""
             }
            },
            "type": "scatter3d"
           }
          ],
          "scattercarpet": [
           {
            "marker": {
             "colorbar": {
              "outlinewidth": 0,
              "ticks": ""
             }
            },
            "type": "scattercarpet"
           }
          ],
          "scattergeo": [
           {
            "marker": {
             "colorbar": {
              "outlinewidth": 0,
              "ticks": ""
             }
            },
            "type": "scattergeo"
           }
          ],
          "scattergl": [
           {
            "marker": {
             "colorbar": {
              "outlinewidth": 0,
              "ticks": ""
             }
            },
            "type": "scattergl"
           }
          ],
          "scattermapbox": [
           {
            "marker": {
             "colorbar": {
              "outlinewidth": 0,
              "ticks": ""
             }
            },
            "type": "scattermapbox"
           }
          ],
          "scatterpolar": [
           {
            "marker": {
             "colorbar": {
              "outlinewidth": 0,
              "ticks": ""
             }
            },
            "type": "scatterpolar"
           }
          ],
          "scatterpolargl": [
           {
            "marker": {
             "colorbar": {
              "outlinewidth": 0,
              "ticks": ""
             }
            },
            "type": "scatterpolargl"
           }
          ],
          "scatterternary": [
           {
            "marker": {
             "colorbar": {
              "outlinewidth": 0,
              "ticks": ""
             }
            },
            "type": "scatterternary"
           }
          ],
          "surface": [
           {
            "colorbar": {
             "outlinewidth": 0,
             "ticks": ""
            },
            "colorscale": [
             [
              0,
              "#0d0887"
             ],
             [
              0.1111111111111111,
              "#46039f"
             ],
             [
              0.2222222222222222,
              "#7201a8"
             ],
             [
              0.3333333333333333,
              "#9c179e"
             ],
             [
              0.4444444444444444,
              "#bd3786"
             ],
             [
              0.5555555555555556,
              "#d8576b"
             ],
             [
              0.6666666666666666,
              "#ed7953"
             ],
             [
              0.7777777777777778,
              "#fb9f3a"
             ],
             [
              0.8888888888888888,
              "#fdca26"
             ],
             [
              1,
              "#f0f921"
             ]
            ],
            "type": "surface"
           }
          ],
          "table": [
           {
            "cells": {
             "fill": {
              "color": "#EBF0F8"
             },
             "line": {
              "color": "white"
             }
            },
            "header": {
             "fill": {
              "color": "#C8D4E3"
             },
             "line": {
              "color": "white"
             }
            },
            "type": "table"
           }
          ]
         },
         "layout": {
          "annotationdefaults": {
           "arrowcolor": "#2a3f5f",
           "arrowhead": 0,
           "arrowwidth": 1
          },
          "autotypenumbers": "strict",
          "coloraxis": {
           "colorbar": {
            "outlinewidth": 0,
            "ticks": ""
           }
          },
          "colorscale": {
           "diverging": [
            [
             0,
             "#8e0152"
            ],
            [
             0.1,
             "#c51b7d"
            ],
            [
             0.2,
             "#de77ae"
            ],
            [
             0.3,
             "#f1b6da"
            ],
            [
             0.4,
             "#fde0ef"
            ],
            [
             0.5,
             "#f7f7f7"
            ],
            [
             0.6,
             "#e6f5d0"
            ],
            [
             0.7,
             "#b8e186"
            ],
            [
             0.8,
             "#7fbc41"
            ],
            [
             0.9,
             "#4d9221"
            ],
            [
             1,
             "#276419"
            ]
           ],
           "sequential": [
            [
             0,
             "#0d0887"
            ],
            [
             0.1111111111111111,
             "#46039f"
            ],
            [
             0.2222222222222222,
             "#7201a8"
            ],
            [
             0.3333333333333333,
             "#9c179e"
            ],
            [
             0.4444444444444444,
             "#bd3786"
            ],
            [
             0.5555555555555556,
             "#d8576b"
            ],
            [
             0.6666666666666666,
             "#ed7953"
            ],
            [
             0.7777777777777778,
             "#fb9f3a"
            ],
            [
             0.8888888888888888,
             "#fdca26"
            ],
            [
             1,
             "#f0f921"
            ]
           ],
           "sequentialminus": [
            [
             0,
             "#0d0887"
            ],
            [
             0.1111111111111111,
             "#46039f"
            ],
            [
             0.2222222222222222,
             "#7201a8"
            ],
            [
             0.3333333333333333,
             "#9c179e"
            ],
            [
             0.4444444444444444,
             "#bd3786"
            ],
            [
             0.5555555555555556,
             "#d8576b"
            ],
            [
             0.6666666666666666,
             "#ed7953"
            ],
            [
             0.7777777777777778,
             "#fb9f3a"
            ],
            [
             0.8888888888888888,
             "#fdca26"
            ],
            [
             1,
             "#f0f921"
            ]
           ]
          },
          "colorway": [
           "#636efa",
           "#EF553B",
           "#00cc96",
           "#ab63fa",
           "#FFA15A",
           "#19d3f3",
           "#FF6692",
           "#B6E880",
           "#FF97FF",
           "#FECB52"
          ],
          "font": {
           "color": "#2a3f5f"
          },
          "geo": {
           "bgcolor": "white",
           "lakecolor": "white",
           "landcolor": "#E5ECF6",
           "showlakes": true,
           "showland": true,
           "subunitcolor": "white"
          },
          "hoverlabel": {
           "align": "left"
          },
          "hovermode": "closest",
          "mapbox": {
           "style": "light"
          },
          "paper_bgcolor": "white",
          "plot_bgcolor": "#E5ECF6",
          "polar": {
           "angularaxis": {
            "gridcolor": "white",
            "linecolor": "white",
            "ticks": ""
           },
           "bgcolor": "#E5ECF6",
           "radialaxis": {
            "gridcolor": "white",
            "linecolor": "white",
            "ticks": ""
           }
          },
          "scene": {
           "xaxis": {
            "backgroundcolor": "#E5ECF6",
            "gridcolor": "white",
            "gridwidth": 2,
            "linecolor": "white",
            "showbackground": true,
            "ticks": "",
            "zerolinecolor": "white"
           },
           "yaxis": {
            "backgroundcolor": "#E5ECF6",
            "gridcolor": "white",
            "gridwidth": 2,
            "linecolor": "white",
            "showbackground": true,
            "ticks": "",
            "zerolinecolor": "white"
           },
           "zaxis": {
            "backgroundcolor": "#E5ECF6",
            "gridcolor": "white",
            "gridwidth": 2,
            "linecolor": "white",
            "showbackground": true,
            "ticks": "",
            "zerolinecolor": "white"
           }
          },
          "shapedefaults": {
           "line": {
            "color": "#2a3f5f"
           }
          },
          "ternary": {
           "aaxis": {
            "gridcolor": "white",
            "linecolor": "white",
            "ticks": ""
           },
           "baxis": {
            "gridcolor": "white",
            "linecolor": "white",
            "ticks": ""
           },
           "bgcolor": "#E5ECF6",
           "caxis": {
            "gridcolor": "white",
            "linecolor": "white",
            "ticks": ""
           }
          },
          "title": {
           "x": 0.05
          },
          "xaxis": {
           "automargin": true,
           "gridcolor": "white",
           "linecolor": "white",
           "ticks": "",
           "title": {
            "standoff": 15
           },
           "zerolinecolor": "white",
           "zerolinewidth": 2
          },
          "yaxis": {
           "automargin": true,
           "gridcolor": "white",
           "linecolor": "white",
           "ticks": "",
           "title": {
            "standoff": 15
           },
           "zerolinecolor": "white",
           "zerolinewidth": 2
          }
         }
        },
        "title": {
         "font": {
          "color": "#4D5663"
         }
        },
        "xaxis": {
         "gridcolor": "#E1E5ED",
         "showgrid": true,
         "tickfont": {
          "color": "#4D5663"
         },
         "title": {
          "font": {
           "color": "#4D5663"
          },
          "text": ""
         },
         "zerolinecolor": "#E1E5ED"
        },
        "yaxis": {
         "gridcolor": "#E1E5ED",
         "showgrid": true,
         "tickfont": {
          "color": "#4D5663"
         },
         "title": {
          "font": {
           "color": "#4D5663"
          },
          "text": ""
         },
         "zerolinecolor": "#E1E5ED"
        }
       }
      },
      "text/html": [
       "<div>                            <div id=\"7491b45d-8d2d-4b8c-8dca-046b4cca3aea\" class=\"plotly-graph-div\" style=\"height:525px; width:100%;\"></div>            <script type=\"text/javascript\">                require([\"plotly\"], function(Plotly) {                    window.PLOTLYENV=window.PLOTLYENV || {};\n",
       "                    window.PLOTLYENV.BASE_URL='https://plot.ly';                                    if (document.getElementById(\"7491b45d-8d2d-4b8c-8dca-046b4cca3aea\")) {                    Plotly.newPlot(                        \"7491b45d-8d2d-4b8c-8dca-046b4cca3aea\",                        [{\"colorscale\": [[0.0, \"rgb(158,1,66)\"], [0.1, \"rgb(213,62,79)\"], [0.2, \"rgb(244,109,67)\"], [0.3, \"rgb(253,174,97)\"], [0.4, \"rgb(254,224,139)\"], [0.5, \"rgb(255,255,191)\"], [0.6, \"rgb(230,245,152)\"], [0.7, \"rgb(171,221,164)\"], [0.8, \"rgb(102,194,165)\"], [0.9, \"rgb(50,136,189)\"], [1.0, \"rgb(94,79,162)\"]], \"type\": \"heatmap\", \"x\": [\"x_0\", \"x_1\", \"x_2\", \"x_3\", \"x_4\", \"x_5\", \"x_6\", \"x_7\", \"x_8\", \"x_9\", \"x_10\", \"x_11\", \"x_12\", \"x_13\", \"x_14\", \"x_15\", \"x_16\", \"x_17\", \"x_18\", \"x_19\"], \"y\": [\"y_0\", \"y_1\", \"y_2\", \"y_3\", \"y_4\", \"y_5\", \"y_6\", \"y_7\", \"y_8\", \"y_9\", \"y_10\", \"y_11\", \"y_12\", \"y_13\", \"y_14\", \"y_15\", \"y_16\", \"y_17\", \"y_18\", \"y_19\"], \"z\": [[93.0, 91.70417139118263, 93.34808763015953, 84.55329039865185, 84.44618356221714, 83.89573922971297, 103.38806554174924, 84.9257233915592, 93.2259076232708, 92.26091887891073, 78.56957448751827, 89.65596211323542, 93.65648163919425, 92.00857800984461, 89.52155663812907, 91.99754709756161, 92.64307015059899, 93.98267512199348, 92.00823970325185, 94.6761347056753], [99.3716596907835, 93.51721276492171, 93.2834302698461, 87.25474153073408, 88.71579664219023, 87.54394783365744, 102.39269265268427, 84.80492672144325, 93.22411800890131, 92.46297176336397, 67.64297222864168, 87.46217721463175, 91.27428065879869, 91.42931337754514, 87.0853918662433, 91.67821710364542, 97.41292768848807, 93.22539809529886, 95.01660920619211, 95.58822491973173], [105.20110947878808, 93.85549349739819, 92.41741107617655, 86.12883123490792, 86.16945285751501, 88.26309754789477, 105.30863919397201, 79.22072496686752, 91.77957060863643, 93.06120677452029, 65.44824148751772, 75.14728725417518, 90.85826758661847, 93.76305826253649, 98.77275025381947, 79.6983217885558, 94.27143235570601, 96.81880360912608, 96.81270747902703, 96.30753087295587], [92.99307383146521, 97.3106957383093, 90.94083823279546, 85.3152618097009, 85.21133099306765, 96.15412496028728, 106.42412021574343, 84.81463814921028, 91.74289796625429, 88.24683356217017, 55.52181298154601, 70.80132112198088, 100.61789797677106, 91.7102852347784, 100.19125837803894, 80.64152426379812, 93.6851064239915, 106.98272048658329, 93.79711937221668, 97.24173255890427], [96.52486405574977, 96.451861207345, 98.09693126084723, 85.09079839952678, 88.3224411840961, 80.81223077342608, 86.30856063833352, 83.02193073313187, 101.84508409862583, 87.99064728464654, 54.17056409071766, 76.2326220123667, 103.75534391280782, 91.07820343767524, 97.69145088862037, 85.67345875204647, 106.89615041705338, 96.11128305549833, 99.08491865323553, 96.11716286481254], [92.63550018641445, 96.3419902232051, 99.0151682099502, 86.22772309967849, 77.59796837880127, 82.72268375361277, 88.37287708661555, 87.42082171253493, 105.57640901644646, 89.6880133466632, 61.203470863095745, 68.39911503162133, 105.57365770908723, 105.92388560851758, 102.08032215470551, 87.45816252691749, 105.56629312674666, 99.337902253236, 96.49053736401844, 101.46834724381289], [96.61242927389902, 91.33035955565646, 101.53831692254766, 78.21909209633793, 70.40533473176211, 80.3308385131919, 81.39671579446309, 88.09224836252633, 93.85305752058454, 89.72603980510691, 55.32537938461973, 76.22329680708921, 105.97377363482174, 100.76358454542611, 106.96390614380402, 90.41141229193425, 99.98433140093456, 104.94606100467851, 102.57451519733719, 99.03426170971595], [98.45952864812752, 91.95590506873063, 100.75034862352511, 80.76078422084406, 60.151867868420425, 79.56470627133483, 82.26874876762918, 89.26646739979202, 97.57443614617397, 85.68696611559591, 55.83020836732804, 73.12204397493099, 106.16460421337827, 86.38299255758368, 103.58890450550987, 93.27727346661963, 93.58828281368069, 104.6604152948975, 108.89799746568127, 105.33040454139606], [96.56282793846836, 106.51371680008792, 103.02247926332328, 72.66530205627772, 61.549264492695116, 85.37989597555874, 80.46808494425021, 102.71045573440269, 82.99408121578794, 79.94341769805649, 55.21433192269185, 72.14582611085584, 104.50188350676729, 88.91650163503202, 95.32096489869124, 84.79040921179359, 88.71720835930452, 108.60890717902221, 96.79348780182256, 107.63848237201658], [100.36621975088862, 97.1821246884981, 100.8588184711304, 67.09061077713346, 62.76212167305797, 88.40785815607204, 80.53772212405988, 105.90298695509529, 73.08535500173284, 78.36292445838107, 58.63491296896522, 70.37507784471951, 105.76931319312305, 90.280200555557, 84.55333806045681, 79.72264658592744, 89.31455725551952, 107.01726900874513, 96.39027077811105, 116.10291942561221], [101.236093832699, 96.17436835768518, 104.76861117504903, 62.04167381276769, 65.66510832365122, 87.14668790033411, 86.93463918561895, 97.53449733585478, 77.80448403714067, 84.44512807688982, 62.669123135029984, 65.40534067359033, 105.38660021125578, 87.99062019012108, 86.82695163914363, 82.34181911888544, 86.66605124037025, 104.28116104327086, 84.12771744583014, 114.6669505225017], [102.67007089357456, 102.75937243608259, 117.84385051109462, 62.08041915247948, 65.14387828775861, 86.56452621692178, 85.72309755016899, 111.49865943982415, 77.50665243143243, 84.46704988341845, 57.8561577270709, 65.60346153381907, 106.14536004266172, 80.35710173706221, 95.99311701988799, 87.49790911486343, 87.15213366950859, 108.20104392798419, 84.96468523930889, 106.18138174069341], [103.48229557665901, 99.04997433465954, 125.72572821452177, 66.1213017115827, 73.24384552357077, 80.80223515927061, 87.82920803262948, 103.37042824543906, 83.4100328250716, 70.0378328405258, 58.5567394130893, 61.63183718853898, 107.04221982062325, 75.17995348594879, 98.48229964757928, 80.34658162639519, 86.48941964023936, 112.11154696804536, 85.76492595745171, 105.29689804697202], [102.31728272818123, 100.97761437330537, 120.85870157858491, 62.58103365743776, 67.83080849875742, 81.61047235850448, 86.92908527224026, 89.9044798272671, 90.93801037005655, 58.49099041834008, 58.23447616068538, 66.32156518104233, 107.0699091228535, 76.90683986701943, 99.88016779726323, 80.03527245168033, 93.45617225073022, 99.11105936579807, 78.06081180651489, 106.39647411510688], [100.11930178693669, 100.02223897983711, 123.18282064723083, 63.000993616567364, 67.56594356658613, 83.54016389487417, 85.12123900455296, 87.83077409838896, 89.94001002692302, 67.68190681423454, 62.35769871159278, 53.28270152652573, 94.0786616734844, 70.37151872664964, 100.24240254739495, 77.96618909800588, 96.59110478270138, 106.60746121181317, 76.71652466991185, 102.29093506234415], [99.33067922550106, 107.0116165433709, 140.70287813080688, 55.44193817365128, 66.01502354697033, 82.59684326453936, 84.923240530195, 88.56820117956323, 88.61425702984903, 70.79597483962547, 55.469769507081594, 51.66839700842201, 93.44420990788545, 69.81072319118451, 104.25507391054495, 85.32007805889128, 99.1365116493795, 104.31735703370346, 78.76335221521654, 104.29454131976817], [106.96285901101675, 110.72730739181574, 140.36686016833983, 50.24788529963637, 71.28348089230666, 81.89636529937225, 83.20226107684782, 88.09793844756766, 94.07715998288091, 74.69895383376318, 41.65617375339343, 48.46040802897514, 98.31874794891408, 62.99695922754429, 106.84750429830758, 82.44861070380291, 84.33119073703774, 94.9107135357046, 78.27549399513792, 107.63914485199064], [106.17952063573945, 110.3824511532779, 149.29284058348352, 46.318049390354275, 72.28439269218853, 81.46691531521437, 86.55377423375946, 87.72592321848667, 95.56282704939588, 75.61676395187047, 57.89904391429855, 49.290499867207544, 98.47482931898679, 63.50885011105259, 106.55801460103159, 86.13695260432583, 79.25858734220265, 86.0151923436174, 78.33841672033965, 107.83434325527193], [103.22115050007535, 112.35452883051094, 148.9751374853083, 50.052220552406816, 71.19693730353058, 81.48745369388301, 93.24504764571981, 88.24807005215597, 96.76632735324527, 77.0342941320415, 54.24957272218019, 43.32639429569954, 94.30942620116686, 68.13882316753775, 106.17222420168493, 87.63363079244246, 77.41476892600616, 89.02110092044411, 58.94799582917724, 108.2972542601069], [100.08594376422535, 106.8107403444898, 148.98040458902145, 49.754471346402106, 71.75586449282507, 84.47666058193985, 101.92728267109011, 82.12274712430435, 102.91800287762636, 80.4987883213867, 54.28206465365733, 40.62070532112005, 96.3033572391032, 66.10567947567509, 115.8194444940938, 86.44956135967124, 62.02770053965884, 92.24657218255008, 59.98284333433496, 122.04270415120087]], \"zmax\": 149.29284058348352, \"zmin\": 40.62070532112005}],                        {\"legend\": {\"bgcolor\": \"#F5F6F9\", \"font\": {\"color\": \"#4D5663\"}}, \"paper_bgcolor\": \"#F5F6F9\", \"plot_bgcolor\": \"#F5F6F9\", \"template\": {\"data\": {\"bar\": [{\"error_x\": {\"color\": \"#2a3f5f\"}, \"error_y\": {\"color\": \"#2a3f5f\"}, \"marker\": {\"line\": {\"color\": \"#E5ECF6\", \"width\": 0.5}}, \"type\": \"bar\"}], \"barpolar\": [{\"marker\": {\"line\": {\"color\": \"#E5ECF6\", \"width\": 0.5}}, \"type\": \"barpolar\"}], \"carpet\": [{\"aaxis\": {\"endlinecolor\": \"#2a3f5f\", \"gridcolor\": \"white\", \"linecolor\": \"white\", \"minorgridcolor\": \"white\", \"startlinecolor\": \"#2a3f5f\"}, \"baxis\": {\"endlinecolor\": \"#2a3f5f\", \"gridcolor\": \"white\", \"linecolor\": \"white\", \"minorgridcolor\": \"white\", \"startlinecolor\": \"#2a3f5f\"}, \"type\": \"carpet\"}], \"choropleth\": [{\"colorbar\": {\"outlinewidth\": 0, \"ticks\": \"\"}, \"type\": \"choropleth\"}], \"contour\": [{\"colorbar\": {\"outlinewidth\": 0, \"ticks\": \"\"}, \"colorscale\": [[0.0, \"#0d0887\"], [0.1111111111111111, \"#46039f\"], [0.2222222222222222, \"#7201a8\"], [0.3333333333333333, \"#9c179e\"], [0.4444444444444444, \"#bd3786\"], [0.5555555555555556, \"#d8576b\"], [0.6666666666666666, \"#ed7953\"], [0.7777777777777778, \"#fb9f3a\"], [0.8888888888888888, \"#fdca26\"], [1.0, \"#f0f921\"]], \"type\": \"contour\"}], \"contourcarpet\": [{\"colorbar\": {\"outlinewidth\": 0, \"ticks\": \"\"}, \"type\": \"contourcarpet\"}], \"heatmap\": [{\"colorbar\": {\"outlinewidth\": 0, \"ticks\": \"\"}, \"colorscale\": [[0.0, \"#0d0887\"], [0.1111111111111111, \"#46039f\"], [0.2222222222222222, \"#7201a8\"], [0.3333333333333333, \"#9c179e\"], [0.4444444444444444, \"#bd3786\"], [0.5555555555555556, \"#d8576b\"], [0.6666666666666666, \"#ed7953\"], [0.7777777777777778, \"#fb9f3a\"], [0.8888888888888888, \"#fdca26\"], [1.0, \"#f0f921\"]], \"type\": \"heatmap\"}], \"heatmapgl\": [{\"colorbar\": {\"outlinewidth\": 0, \"ticks\": \"\"}, \"colorscale\": [[0.0, \"#0d0887\"], [0.1111111111111111, \"#46039f\"], [0.2222222222222222, \"#7201a8\"], [0.3333333333333333, \"#9c179e\"], [0.4444444444444444, \"#bd3786\"], [0.5555555555555556, \"#d8576b\"], [0.6666666666666666, \"#ed7953\"], [0.7777777777777778, \"#fb9f3a\"], [0.8888888888888888, \"#fdca26\"], [1.0, \"#f0f921\"]], \"type\": \"heatmapgl\"}], \"histogram\": [{\"marker\": {\"colorbar\": {\"outlinewidth\": 0, \"ticks\": \"\"}}, \"type\": \"histogram\"}], \"histogram2d\": [{\"colorbar\": {\"outlinewidth\": 0, \"ticks\": \"\"}, \"colorscale\": [[0.0, \"#0d0887\"], [0.1111111111111111, \"#46039f\"], [0.2222222222222222, \"#7201a8\"], [0.3333333333333333, \"#9c179e\"], [0.4444444444444444, \"#bd3786\"], [0.5555555555555556, \"#d8576b\"], [0.6666666666666666, \"#ed7953\"], [0.7777777777777778, \"#fb9f3a\"], [0.8888888888888888, \"#fdca26\"], [1.0, \"#f0f921\"]], \"type\": \"histogram2d\"}], \"histogram2dcontour\": [{\"colorbar\": {\"outlinewidth\": 0, \"ticks\": \"\"}, \"colorscale\": [[0.0, \"#0d0887\"], [0.1111111111111111, \"#46039f\"], [0.2222222222222222, \"#7201a8\"], [0.3333333333333333, \"#9c179e\"], [0.4444444444444444, \"#bd3786\"], [0.5555555555555556, \"#d8576b\"], [0.6666666666666666, \"#ed7953\"], [0.7777777777777778, \"#fb9f3a\"], [0.8888888888888888, \"#fdca26\"], [1.0, \"#f0f921\"]], \"type\": \"histogram2dcontour\"}], \"mesh3d\": [{\"colorbar\": {\"outlinewidth\": 0, \"ticks\": \"\"}, \"type\": \"mesh3d\"}], \"parcoords\": [{\"line\": {\"colorbar\": {\"outlinewidth\": 0, \"ticks\": \"\"}}, \"type\": \"parcoords\"}], \"pie\": [{\"automargin\": true, \"type\": \"pie\"}], \"scatter\": [{\"marker\": {\"colorbar\": {\"outlinewidth\": 0, \"ticks\": \"\"}}, \"type\": \"scatter\"}], \"scatter3d\": [{\"line\": {\"colorbar\": {\"outlinewidth\": 0, \"ticks\": \"\"}}, \"marker\": {\"colorbar\": {\"outlinewidth\": 0, \"ticks\": \"\"}}, \"type\": \"scatter3d\"}], \"scattercarpet\": [{\"marker\": {\"colorbar\": {\"outlinewidth\": 0, \"ticks\": \"\"}}, \"type\": \"scattercarpet\"}], \"scattergeo\": [{\"marker\": {\"colorbar\": {\"outlinewidth\": 0, \"ticks\": \"\"}}, \"type\": \"scattergeo\"}], \"scattergl\": [{\"marker\": {\"colorbar\": {\"outlinewidth\": 0, \"ticks\": \"\"}}, \"type\": \"scattergl\"}], \"scattermapbox\": [{\"marker\": {\"colorbar\": {\"outlinewidth\": 0, \"ticks\": \"\"}}, \"type\": \"scattermapbox\"}], \"scatterpolar\": [{\"marker\": {\"colorbar\": {\"outlinewidth\": 0, \"ticks\": \"\"}}, \"type\": \"scatterpolar\"}], \"scatterpolargl\": [{\"marker\": {\"colorbar\": {\"outlinewidth\": 0, \"ticks\": \"\"}}, \"type\": \"scatterpolargl\"}], \"scatterternary\": [{\"marker\": {\"colorbar\": {\"outlinewidth\": 0, \"ticks\": \"\"}}, \"type\": \"scatterternary\"}], \"surface\": [{\"colorbar\": {\"outlinewidth\": 0, \"ticks\": \"\"}, \"colorscale\": [[0.0, \"#0d0887\"], [0.1111111111111111, \"#46039f\"], [0.2222222222222222, \"#7201a8\"], [0.3333333333333333, \"#9c179e\"], [0.4444444444444444, \"#bd3786\"], [0.5555555555555556, \"#d8576b\"], [0.6666666666666666, \"#ed7953\"], [0.7777777777777778, \"#fb9f3a\"], [0.8888888888888888, \"#fdca26\"], [1.0, \"#f0f921\"]], \"type\": \"surface\"}], \"table\": [{\"cells\": {\"fill\": {\"color\": \"#EBF0F8\"}, \"line\": {\"color\": \"white\"}}, \"header\": {\"fill\": {\"color\": \"#C8D4E3\"}, \"line\": {\"color\": \"white\"}}, \"type\": \"table\"}]}, \"layout\": {\"annotationdefaults\": {\"arrowcolor\": \"#2a3f5f\", \"arrowhead\": 0, \"arrowwidth\": 1}, \"autotypenumbers\": \"strict\", \"coloraxis\": {\"colorbar\": {\"outlinewidth\": 0, \"ticks\": \"\"}}, \"colorscale\": {\"diverging\": [[0, \"#8e0152\"], [0.1, \"#c51b7d\"], [0.2, \"#de77ae\"], [0.3, \"#f1b6da\"], [0.4, \"#fde0ef\"], [0.5, \"#f7f7f7\"], [0.6, \"#e6f5d0\"], [0.7, \"#b8e186\"], [0.8, \"#7fbc41\"], [0.9, \"#4d9221\"], [1, \"#276419\"]], \"sequential\": [[0.0, \"#0d0887\"], [0.1111111111111111, \"#46039f\"], [0.2222222222222222, \"#7201a8\"], [0.3333333333333333, \"#9c179e\"], [0.4444444444444444, \"#bd3786\"], [0.5555555555555556, \"#d8576b\"], [0.6666666666666666, \"#ed7953\"], [0.7777777777777778, \"#fb9f3a\"], [0.8888888888888888, \"#fdca26\"], [1.0, \"#f0f921\"]], \"sequentialminus\": [[0.0, \"#0d0887\"], [0.1111111111111111, \"#46039f\"], [0.2222222222222222, \"#7201a8\"], [0.3333333333333333, \"#9c179e\"], [0.4444444444444444, \"#bd3786\"], [0.5555555555555556, \"#d8576b\"], [0.6666666666666666, \"#ed7953\"], [0.7777777777777778, \"#fb9f3a\"], [0.8888888888888888, \"#fdca26\"], [1.0, \"#f0f921\"]]}, \"colorway\": [\"#636efa\", \"#EF553B\", \"#00cc96\", \"#ab63fa\", \"#FFA15A\", \"#19d3f3\", \"#FF6692\", \"#B6E880\", \"#FF97FF\", \"#FECB52\"], \"font\": {\"color\": \"#2a3f5f\"}, \"geo\": {\"bgcolor\": \"white\", \"lakecolor\": \"white\", \"landcolor\": \"#E5ECF6\", \"showlakes\": true, \"showland\": true, \"subunitcolor\": \"white\"}, \"hoverlabel\": {\"align\": \"left\"}, \"hovermode\": \"closest\", \"mapbox\": {\"style\": \"light\"}, \"paper_bgcolor\": \"white\", \"plot_bgcolor\": \"#E5ECF6\", \"polar\": {\"angularaxis\": {\"gridcolor\": \"white\", \"linecolor\": \"white\", \"ticks\": \"\"}, \"bgcolor\": \"#E5ECF6\", \"radialaxis\": {\"gridcolor\": \"white\", \"linecolor\": \"white\", \"ticks\": \"\"}}, \"scene\": {\"xaxis\": {\"backgroundcolor\": \"#E5ECF6\", \"gridcolor\": \"white\", \"gridwidth\": 2, \"linecolor\": \"white\", \"showbackground\": true, \"ticks\": \"\", \"zerolinecolor\": \"white\"}, \"yaxis\": {\"backgroundcolor\": \"#E5ECF6\", \"gridcolor\": \"white\", \"gridwidth\": 2, \"linecolor\": \"white\", \"showbackground\": true, \"ticks\": \"\", \"zerolinecolor\": \"white\"}, \"zaxis\": {\"backgroundcolor\": \"#E5ECF6\", \"gridcolor\": \"white\", \"gridwidth\": 2, \"linecolor\": \"white\", \"showbackground\": true, \"ticks\": \"\", \"zerolinecolor\": \"white\"}}, \"shapedefaults\": {\"line\": {\"color\": \"#2a3f5f\"}}, \"ternary\": {\"aaxis\": {\"gridcolor\": \"white\", \"linecolor\": \"white\", \"ticks\": \"\"}, \"baxis\": {\"gridcolor\": \"white\", \"linecolor\": \"white\", \"ticks\": \"\"}, \"bgcolor\": \"#E5ECF6\", \"caxis\": {\"gridcolor\": \"white\", \"linecolor\": \"white\", \"ticks\": \"\"}}, \"title\": {\"x\": 0.05}, \"xaxis\": {\"automargin\": true, \"gridcolor\": \"white\", \"linecolor\": \"white\", \"ticks\": \"\", \"title\": {\"standoff\": 15}, \"zerolinecolor\": \"white\", \"zerolinewidth\": 2}, \"yaxis\": {\"automargin\": true, \"gridcolor\": \"white\", \"linecolor\": \"white\", \"ticks\": \"\", \"title\": {\"standoff\": 15}, \"zerolinecolor\": \"white\", \"zerolinewidth\": 2}}}, \"title\": {\"font\": {\"color\": \"#4D5663\"}}, \"xaxis\": {\"gridcolor\": \"#E1E5ED\", \"showgrid\": true, \"tickfont\": {\"color\": \"#4D5663\"}, \"title\": {\"font\": {\"color\": \"#4D5663\"}, \"text\": \"\"}, \"zerolinecolor\": \"#E1E5ED\"}, \"yaxis\": {\"gridcolor\": \"#E1E5ED\", \"showgrid\": true, \"tickfont\": {\"color\": \"#4D5663\"}, \"title\": {\"font\": {\"color\": \"#4D5663\"}, \"text\": \"\"}, \"zerolinecolor\": \"#E1E5ED\"}},                        {\"showLink\": true, \"linkText\": \"Export to plot.ly\", \"plotlyServerURL\": \"https://plot.ly\", \"responsive\": true}                    ).then(function(){\n",
       "                            \n",
       "var gd = document.getElementById('7491b45d-8d2d-4b8c-8dca-046b4cca3aea');\n",
       "var x = new MutationObserver(function (mutations, observer) {{\n",
       "        var display = window.getComputedStyle(gd).display;\n",
       "        if (!display || display === 'none') {{\n",
       "            console.log([gd, 'removed!']);\n",
       "            Plotly.purge(gd);\n",
       "            observer.disconnect();\n",
       "        }}\n",
       "}});\n",
       "\n",
       "// Listen for the removal of the full notebook cells\n",
       "var notebookContainer = gd.closest('#notebook-container');\n",
       "if (notebookContainer) {{\n",
       "    x.observe(notebookContainer, {childList: true});\n",
       "}}\n",
       "\n",
       "// Listen for the clearing of the current output cell\n",
       "var outputEl = gd.closest('.output');\n",
       "if (outputEl) {{\n",
       "    x.observe(outputEl, {childList: true});\n",
       "}}\n",
       "\n",
       "                        })                };                });            </script>        </div>"
      ]
     },
     "metadata": {},
     "output_type": "display_data"
    }
   ],
   "source": [
    "cf.datagen.heatmap(20, 20).iplot(kind = 'heatmap', colorscale='spectral')"
   ]
  }
 ],
 "metadata": {
  "kernelspec": {
   "display_name": "Python 3",
   "language": "python",
   "name": "python3"
  },
  "language_info": {
   "codemirror_mode": {
    "name": "ipython",
    "version": 3
   },
   "file_extension": ".py",
   "mimetype": "text/x-python",
   "name": "python",
   "nbconvert_exporter": "python",
   "pygments_lexer": "ipython3",
   "version": "3.8.3"
  }
 },
 "nbformat": 4,
 "nbformat_minor": 4
}
