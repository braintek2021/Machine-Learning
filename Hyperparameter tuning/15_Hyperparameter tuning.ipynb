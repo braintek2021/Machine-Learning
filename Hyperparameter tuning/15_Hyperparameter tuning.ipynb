{
 "cells": [
  {
   "cell_type": "code",
   "execution_count": 11,
   "metadata": {},
   "outputs": [],
   "source": [
    "#https://machinelearningmastery.com/hyperparameter-optimization-with-random-search-and-grid-search/"
   ]
  },
  {
   "cell_type": "code",
   "execution_count": 12,
   "metadata": {},
   "outputs": [],
   "source": [
    "\n",
    "# random search logistic regression model on the sonar dataset\n",
    "from scipy.stats import loguniform\n",
    "from pandas import read_csv\n",
    "from sklearn.linear_model import LogisticRegression\n",
    "from sklearn.model_selection import RepeatedStratifiedKFold\n",
    "from sklearn.model_selection import RandomizedSearchCV"
   ]
  },
  {
   "cell_type": "code",
   "execution_count": 13,
   "metadata": {},
   "outputs": [
    {
     "name": "stdout",
     "output_type": "stream",
     "text": [
      "(208, 60) (208,)\n"
     ]
    }
   ],
   "source": [
    "# summarize the sonar dataset\n",
    "from pandas import read_csv\n",
    "# load dataset\n",
    "url = 'https://raw.githubusercontent.com/jbrownlee/Datasets/master/sonar.csv'\n",
    "dataframe = read_csv(url, header=None)\n",
    "# split into input and output elements\n",
    "data = dataframe.values\n",
    "X, y = data[:, :-1], data[:, -1]\n",
    "print(X.shape, y.shape)"
   ]
  },
  {
   "cell_type": "code",
   "execution_count": 14,
   "metadata": {},
   "outputs": [],
   "source": [
    "# define model\n",
    "model = LogisticRegression()"
   ]
  },
  {
   "cell_type": "code",
   "execution_count": 15,
   "metadata": {},
   "outputs": [],
   "source": [
    "...\n",
    "# define evaluation\n",
    "cv = RepeatedStratifiedKFold(n_splits=10, n_repeats=3, random_state=1)"
   ]
  },
  {
   "cell_type": "code",
   "execution_count": 16,
   "metadata": {},
   "outputs": [],
   "source": [
    "# define search space\n",
    "space = dict()\n",
    "space['solver'] = ['newton-cg', 'lbfgs', 'liblinear']\n",
    "space['penalty'] = ['none', 'l1', 'l2', 'elasticnet']\n",
    "space['C'] = loguniform(1e-5, 100)"
   ]
  },
  {
   "cell_type": "code",
   "execution_count": 17,
   "metadata": {},
   "outputs": [
    {
     "name": "stderr",
     "output_type": "stream",
     "text": [
      "C:\\Users\\hp\\anaconda3\\envs\\Tensorflow_GPU\\lib\\site-packages\\sklearn\\model_selection\\_search.py:922: UserWarning: One or more of the test scores are non-finite: [0.73698413        nan 0.73230159        nan 0.54984127 0.56769841\n",
      " 0.53380952 0.53380952        nan        nan        nan        nan\n",
      " 0.73698413        nan 0.76730159        nan        nan 0.73230159\n",
      " 0.53380952        nan 0.78007937 0.53380952 0.73230159 0.53380952\n",
      " 0.76269841        nan 0.73698413        nan 0.73698413 0.7815873\n",
      " 0.53380952        nan 0.73698413        nan 0.73698413 0.77666667\n",
      "        nan 0.73698413 0.53380952        nan 0.67634921 0.77698413\n",
      " 0.53380952 0.53539683        nan 0.53380952        nan        nan\n",
      "        nan        nan        nan 0.73698413        nan 0.73230159\n",
      "        nan 0.73230159        nan        nan        nan        nan\n",
      " 0.76119048        nan 0.78126984 0.57888889        nan 0.53698413\n",
      "        nan 0.76214286 0.73698413 0.53380952        nan        nan\n",
      "        nan        nan 0.73698413 0.76896825        nan 0.60293651\n",
      " 0.53380952 0.73698413        nan 0.78       0.53380952        nan\n",
      " 0.53380952        nan 0.73698413 0.53380952        nan        nan\n",
      " 0.53380952        nan        nan 0.74611111        nan        nan\n",
      "        nan        nan 0.53380952        nan        nan        nan\n",
      "        nan 0.53380952 0.70142857        nan 0.68246032        nan\n",
      " 0.53380952 0.58547619        nan        nan 0.70309524        nan\n",
      " 0.73230159 0.75150794 0.73230159        nan        nan 0.73698413\n",
      " 0.75166667 0.77634921 0.73230159        nan 0.53380952 0.53380952\n",
      "        nan        nan 0.53380952        nan 0.53380952 0.7768254\n",
      " 0.78492063 0.53380952 0.53380952 0.73230159        nan 0.75960317\n",
      " 0.77214286        nan 0.53380952        nan 0.74825397        nan\n",
      " 0.53380952 0.73698413 0.73230159 0.73698413 0.53380952        nan\n",
      " 0.73230159 0.53380952 0.53380952 0.73698413        nan        nan\n",
      "        nan        nan 0.7768254  0.53380952 0.78126984        nan\n",
      "        nan        nan        nan 0.67293651        nan        nan\n",
      " 0.73230159 0.75968254 0.68246032        nan        nan 0.77507937\n",
      " 0.53380952        nan        nan 0.53380952        nan 0.73230159\n",
      " 0.77650794        nan 0.53380952        nan 0.73698413 0.53380952\n",
      " 0.76111111        nan        nan        nan 0.73230159 0.53380952\n",
      " 0.76365079 0.71261905 0.73230159 0.53380952        nan        nan\n",
      " 0.73230159        nan        nan 0.53380952 0.73230159 0.53380952\n",
      "        nan        nan        nan 0.7747619  0.7752381  0.76269841\n",
      "        nan 0.7897619  0.73230159        nan        nan 0.73230159\n",
      " 0.53698413        nan        nan        nan 0.53380952        nan\n",
      " 0.73230159        nan        nan        nan 0.53380952 0.73698413\n",
      " 0.74611111        nan 0.53380952 0.53380952        nan        nan\n",
      " 0.55785714 0.53380952 0.73698413 0.73698413        nan        nan\n",
      "        nan 0.75285714 0.73698413        nan 0.75968254        nan\n",
      " 0.76365079 0.53380952        nan        nan        nan 0.73698413\n",
      " 0.64428571        nan        nan 0.53380952        nan 0.53380952\n",
      "        nan 0.73698413        nan 0.53380952 0.53380952 0.73174603\n",
      " 0.77055556        nan 0.53380952 0.53380952        nan 0.58039683\n",
      " 0.73230159        nan 0.53380952        nan        nan 0.73230159\n",
      "        nan        nan 0.6697619  0.6652381  0.6665873         nan\n",
      " 0.73230159        nan 0.73230159 0.77650794        nan 0.53380952\n",
      "        nan        nan 0.53380952 0.53380952        nan        nan\n",
      "        nan 0.73230159        nan 0.67460317 0.53380952        nan\n",
      "        nan 0.69833333        nan        nan        nan 0.53380952\n",
      " 0.73230159        nan 0.76587302 0.73230159        nan 0.53380952\n",
      "        nan 0.67611111        nan 0.77063492 0.73698413 0.75603175\n",
      "        nan        nan 0.76571429 0.73230159        nan 0.53380952\n",
      "        nan 0.70674603 0.53380952 0.73230159 0.78285714 0.61738095\n",
      "        nan 0.53380952        nan 0.73230159 0.73698413 0.73698413\n",
      " 0.73230159 0.77825397 0.73230159        nan        nan 0.53380952\n",
      " 0.76111111        nan        nan        nan 0.76738095        nan\n",
      " 0.71579365        nan        nan        nan 0.53380952 0.53380952\n",
      " 0.73698413 0.7747619         nan 0.53380952 0.53380952 0.78007937\n",
      "        nan        nan 0.53380952 0.54984127 0.73698413 0.53380952\n",
      "        nan 0.53380952 0.53380952 0.73230159        nan 0.61896825\n",
      " 0.73230159 0.53380952 0.68246032        nan 0.75761905        nan\n",
      "        nan        nan        nan        nan        nan 0.53380952\n",
      "        nan 0.53380952        nan        nan 0.77373016        nan\n",
      "        nan        nan        nan 0.75968254        nan 0.73698413\n",
      " 0.75253968 0.53380952 0.73698413        nan        nan 0.73698413\n",
      " 0.53380952 0.53380952 0.74031746 0.53380952        nan        nan\n",
      " 0.53380952 0.53380952 0.53380952        nan        nan        nan\n",
      "        nan 0.53380952 0.69190476        nan 0.53380952 0.53380952\n",
      "        nan        nan 0.76539683        nan 0.53380952        nan\n",
      "        nan 0.6715873         nan        nan        nan        nan\n",
      " 0.53380952        nan        nan        nan        nan        nan\n",
      "        nan 0.73698413 0.53380952 0.53380952        nan 0.7468254\n",
      " 0.53380952 0.73698413        nan 0.73698413 0.53380952        nan\n",
      "        nan 0.73698413 0.53380952        nan        nan 0.53380952\n",
      "        nan        nan 0.76111111        nan 0.73698413        nan\n",
      "        nan 0.73230159        nan        nan        nan 0.78\n",
      " 0.73698413 0.73230159        nan        nan        nan        nan\n",
      "        nan 0.63325397 0.53380952        nan 0.53380952        nan\n",
      " 0.73698413        nan        nan 0.73230159        nan        nan\n",
      "        nan        nan 0.76555556        nan 0.73698413 0.73230159\n",
      " 0.67              nan 0.53380952        nan 0.76738095        nan\n",
      " 0.73698413        nan]\n",
      "  warnings.warn(\n"
     ]
    }
   ],
   "source": [
    "# define search\n",
    "search = RandomizedSearchCV(model, space, n_iter=500, scoring='accuracy', n_jobs=-1, cv=cv, random_state=1)\n",
    "# execute search\n",
    "result = search.fit(X, y)"
   ]
  },
  {
   "cell_type": "code",
   "execution_count": 20,
   "metadata": {},
   "outputs": [
    {
     "name": "stdout",
     "output_type": "stream",
     "text": [
      "Best Score: 0.7897619047619049\n",
      "Best Hyperparameters: {'C': 4.878363034905756, 'penalty': 'l2', 'solver': 'newton-cg'}\n"
     ]
    }
   ],
   "source": [
    "# summarize result\n",
    "print('Best Score: %s' % result.best_score_)\n",
    "print('Best Hyperparameters: %s' % result.best_params_)"
   ]
  },
  {
   "cell_type": "code",
   "execution_count": 21,
   "metadata": {},
   "outputs": [],
   "source": [
    "from sklearn.model_selection import GridSearchCV"
   ]
  },
  {
   "cell_type": "markdown",
   "metadata": {},
   "source": [
    "# Grid Search for Classification"
   ]
  },
  {
   "cell_type": "code",
   "execution_count": 22,
   "metadata": {},
   "outputs": [
    {
     "name": "stdout",
     "output_type": "stream",
     "text": [
      "Best Score: 0.7828571428571429\n",
      "Best Hyperparameters: {'C': 1, 'penalty': 'l2', 'solver': 'newton-cg'}\n"
     ]
    },
    {
     "name": "stderr",
     "output_type": "stream",
     "text": [
      "C:\\Users\\hp\\anaconda3\\envs\\Tensorflow_GPU\\lib\\site-packages\\sklearn\\model_selection\\_search.py:922: UserWarning: One or more of the test scores are non-finite: [0.73698413 0.73230159        nan        nan        nan 0.53380952\n",
      " 0.53380952 0.53380952 0.53380952        nan        nan        nan\n",
      " 0.73698413 0.73230159        nan        nan        nan 0.53380952\n",
      " 0.53380952 0.53380952 0.53380952        nan        nan        nan\n",
      " 0.73698413 0.73230159        nan        nan        nan 0.53380952\n",
      " 0.53380952 0.53380952 0.53380952        nan        nan        nan\n",
      " 0.73698413 0.73230159        nan        nan        nan 0.53380952\n",
      " 0.58039683 0.58039683 0.57246032        nan        nan        nan\n",
      " 0.73698413 0.73230159        nan        nan        nan 0.53380952\n",
      " 0.69674603 0.69674603 0.69087302        nan        nan        nan\n",
      " 0.73698413 0.73230159        nan        nan        nan 0.77857143\n",
      " 0.78285714 0.78285714 0.75444444        nan        nan        nan\n",
      " 0.73698413 0.73230159        nan        nan        nan 0.75166667\n",
      " 0.7768254  0.7768254  0.77531746        nan        nan        nan\n",
      " 0.73698413 0.73230159        nan        nan        nan 0.75166667\n",
      " 0.75492063 0.75642857 0.75325397        nan        nan        nan]\n",
      "  warnings.warn(\n"
     ]
    }
   ],
   "source": [
    "# define search space\n",
    "space = dict()\n",
    "space['solver'] = ['newton-cg', 'lbfgs', 'liblinear']\n",
    "space['penalty'] = ['none', 'l1', 'l2', 'elasticnet']\n",
    "space['C'] = [1e-5, 1e-4, 1e-3, 1e-2, 1e-1, 1, 10, 100]\n",
    "# define search\n",
    "search = GridSearchCV(model, space, scoring='accuracy', n_jobs=-1, cv=cv)\n",
    "# execute search\n",
    "result = search.fit(X, y)\n",
    "# summarize result\n",
    "print('Best Score: %s' % result.best_score_)\n",
    "print('Best Hyperparameters: %s' % result.best_params_)"
   ]
  },
  {
   "cell_type": "markdown",
   "metadata": {},
   "source": [
    "How to Choose Between Random and Grid Search?\n",
    "Choose the method based on your needs. I recommend starting with grid and doing a random search if you have the time.\n",
    "\n",
    "Grid search is appropriate for small and quick searches of hyperparameter values that are known to perform well generally.\n",
    "\n",
    "Random search is appropriate for discovering new hyperparameter values or new combinations of hyperparameters, often resulting in better performance, although it may take more time to complete."
   ]
  }
 ],
 "metadata": {
  "kernelspec": {
   "display_name": "Python 3",
   "language": "python",
   "name": "python3"
  },
  "language_info": {
   "codemirror_mode": {
    "name": "ipython",
    "version": 3
   },
   "file_extension": ".py",
   "mimetype": "text/x-python",
   "name": "python",
   "nbconvert_exporter": "python",
   "pygments_lexer": "ipython3",
   "version": "3.8.5"
  }
 },
 "nbformat": 4,
 "nbformat_minor": 4
}
